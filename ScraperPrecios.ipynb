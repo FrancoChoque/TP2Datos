{
 "cells": [
  {
   "cell_type": "code",
   "execution_count": 1,
   "metadata": {},
   "outputs": [],
   "source": [
    "import pandas as pd\n",
    "\n",
    "import seaborn as sns\n",
    "import matplotlib.pyplot as plt\n",
    "\n",
    "from time import time\n",
    "import numpy as np\n",
    "from sklearn.model_selection import train_test_split\n",
    "from sklearn.model_selection import cross_val_score\n",
    "from sklearn.metrics import accuracy_score\n",
    "\n",
    "from sklearn.metrics import roc_auc_score"
   ]
  },
  {
   "cell_type": "code",
   "execution_count": 2,
   "metadata": {},
   "outputs": [],
   "source": [
    "datos = pd.read_csv(\"events_up_to_01062018.csv\",low_memory=False)\n"
   ]
  },
  {
   "cell_type": "code",
   "execution_count": 3,
   "metadata": {},
   "outputs": [],
   "source": [
    "skus_comprados = datos.loc[datos['event']=='conversion','sku']\n",
    "skus_comprados = skus_comprados.round(0).astype(int)\n",
    "lista_skus = skus_comprados.drop_duplicates().tolist()"
   ]
  },
  {
   "cell_type": "code",
   "execution_count": 4,
   "metadata": {},
   "outputs": [
    {
     "data": {
      "text/plain": [
       "1037"
      ]
     },
     "execution_count": 4,
     "metadata": {},
     "output_type": "execute_result"
    }
   ],
   "source": [
    "len(lista_skus)"
   ]
  },
  {
   "cell_type": "code",
   "execution_count": 5,
   "metadata": {},
   "outputs": [],
   "source": [
    "import re\n",
    "from urllib.request import urlopen\n",
    "from bs4 import BeautifulSoup\n",
    "import sys\n",
    "import warnings\n",
    "import requests\n",
    "from random import choice\n",
    "from requests.exceptions import RequestException"
   ]
  },
  {
   "cell_type": "code",
   "execution_count": 6,
   "metadata": {
    "scrolled": true
   },
   "outputs": [],
   "source": [
    "#ignore warnings\n",
    "if not sys.warnoptions:\n",
    "    warnings.simplefilter(\"ignore\")"
   ]
  },
  {
   "cell_type": "code",
   "execution_count": 7,
   "metadata": {},
   "outputs": [],
   "source": [
    "desktop_agents = [\n",
    "   #Chrome\n",
    "    'Mozilla/5.0 (Windows NT 10.0; Win64; x64) AppleWebKit/537.36 (KHTML, like Gecko) Chrome/60.0.3112.113 Safari/537.36',\n",
    "    'Mozilla/5.0 (Windows NT 6.1; Win64; x64) AppleWebKit/537.36 (KHTML, like Gecko) Chrome/60.0.3112.90 Safari/537.36',\n",
    "    'Mozilla/5.0 (Windows NT 5.1; Win64; x64) AppleWebKit/537.36 (KHTML, like Gecko) Chrome/60.0.3112.90 Safari/537.36',\n",
    "    'Mozilla/5.0 (Windows NT 6.2; Win64; x64) AppleWebKit/537.36 (KHTML, like Gecko) Chrome/60.0.3112.90 Safari/537.36',\n",
    "    'Mozilla/5.0 (X11; Linux x86_64) AppleWebKit/537.36 (KHTML, like Gecko) Chrome/44.0.2403.157 Safari/537.36',\n",
    "    'Mozilla/5.0 (Windows NT 6.3; Win64; x64) AppleWebKit/537.36 (KHTML, like Gecko) Chrome/60.0.3112.113 Safari/537.36',\n",
    "    'Mozilla/5.0 (Windows NT 10.0; Win64; x64) AppleWebKit/537.36 (KHTML, like Gecko) Chrome/57.0.2987.133 Safari/537.36',\n",
    "    'Mozilla/5.0 (Windows NT 6.1; Win64; x64) AppleWebKit/537.36 (KHTML, like Gecko) Chrome/57.0.2987.133 Safari/537.36',\n",
    "    'Mozilla/5.0 (Windows NT 10.0; Win64; x64) AppleWebKit/537.36 (KHTML, like Gecko) Chrome/55.0.2883.87 Safari/537.36',\n",
    "    'Mozilla/5.0 (Windows NT 6.1; Win64; x64) AppleWebKit/537.36 (KHTML, like Gecko) Chrome/55.0.2883.87 Safari/537.36',\n",
    "    #Firefox\n",
    "    'Mozilla/4.0 (compatible; MSIE 9.0; Windows NT 6.1)',\n",
    "    'Mozilla/5.0 (Windows NT 6.1; WOW64; Trident/7.0; rv:11.0) like Gecko',\n",
    "    'Mozilla/5.0 (compatible; MSIE 9.0; Windows NT 6.1; WOW64; Trident/5.0)',\n",
    "    'Mozilla/5.0 (Windows NT 6.1; Trident/7.0; rv:11.0) like Gecko',\n",
    "    'Mozilla/5.0 (Windows NT 6.2; WOW64; Trident/7.0; rv:11.0) like Gecko',\n",
    "    'Mozilla/5.0 (Windows NT 10.0; WOW64; Trident/7.0; rv:11.0) like Gecko',\n",
    "    'Mozilla/5.0 (compatible; MSIE 9.0; Windows NT 6.0; Trident/5.0)',\n",
    "    'Mozilla/5.0 (Windows NT 6.3; WOW64; Trident/7.0; rv:11.0) like Gecko',\n",
    "    'Mozilla/5.0 (compatible; MSIE 9.0; Windows NT 6.1; Trident/5.0)',\n",
    "    'Mozilla/5.0 (Windows NT 6.1; Win64; x64; Trident/7.0; rv:11.0) like Gecko',\n",
    "    'Mozilla/5.0 (compatible; MSIE 10.0; Windows NT 6.1; WOW64; Trident/6.0)',\n",
    "    'Mozilla/5.0 (compatible; MSIE 10.0; Windows NT 6.1; Trident/6.0)',\n",
    "    'Mozilla/4.0 (compatible; MSIE 8.0; Windows NT 5.1; Trident/4.0; .NET CLR 2.0.50727; .NET CLR 3.0.4506.2152; .NET CLR 3.5.30729)'\n",
    "]\n",
    "def random_headers():\n",
    "    return {'User-Agent': choice(desktop_agents),'Accept':'text/html,application/xhtml+xml,application/xml;q=0.9,image/webp,*/*;q=0.8'}"
   ]
  },
  {
   "cell_type": "code",
   "execution_count": 24,
   "metadata": {},
   "outputs": [],
   "source": [
    "g = pd.Series(lista_skus,name='sku').rename_axis('sku',axis=0)\n",
    "\n",
    "g.to_csv('lista_skus_comprados.csv')"
   ]
  },
  {
   "cell_type": "code",
   "execution_count": 20,
   "metadata": {},
   "outputs": [
    {
     "data": {
      "text/plain": [
       "0        2683\n",
       "1        9358\n",
       "2        6314\n",
       "3       10924\n",
       "4       10855\n",
       "5        6889\n",
       "6        2741\n",
       "7       12550\n",
       "8        6916\n",
       "9        1381\n",
       "10       8302\n",
       "11       8415\n",
       "12      10883\n",
       "13       3299\n",
       "14       3647\n",
       "15       3635\n",
       "16       3371\n",
       "17      10436\n",
       "18       6248\n",
       "19      15759\n",
       "20       9300\n",
       "21       6371\n",
       "22       6581\n",
       "23      10953\n",
       "24       6357\n",
       "25       2820\n",
       "26       2987\n",
       "27       8541\n",
       "28       7237\n",
       "29       9246\n",
       "        ...  \n",
       "1007    15534\n",
       "1008     8162\n",
       "1009     2989\n",
       "1010    10196\n",
       "1011    13249\n",
       "1012     6243\n",
       "1013    10126\n",
       "1014     5447\n",
       "1015     3157\n",
       "1016      102\n",
       "1017    13178\n",
       "1018     1429\n",
       "1019     3289\n",
       "1020    10506\n",
       "1021     8105\n",
       "1022     4812\n",
       "1023    10799\n",
       "1024     7419\n",
       "1025     8568\n",
       "1026    12787\n",
       "1027      837\n",
       "1028    12283\n",
       "1029     3227\n",
       "1030     3228\n",
       "1031     7685\n",
       "1032     9678\n",
       "1033      473\n",
       "1034    13753\n",
       "1035    11862\n",
       "1036     9384\n",
       "Name: sku, Length: 1037, dtype: int64"
      ]
     },
     "execution_count": 20,
     "metadata": {},
     "output_type": "execute_result"
    }
   ],
   "source": [
    "g"
   ]
  },
  {
   "cell_type": "code",
   "execution_count": 8,
   "metadata": {},
   "outputs": [],
   "source": [
    "proxies = [\n",
    "    {\"http\":'http://190.15.195.64:47912',\n",
    "    \"https\":'http://190.15.195.64:47912'},\n",
    "    {\"http\":'http://190.16.179.24:34848',\n",
    "    \"https\":'http://190.16.179.24:34848'},\n",
    "    {\"http\":'http://181.167.238.28:60531',\n",
    "    \"https\":'http://181.167.238.28:60531'},\n",
    "    {\"http\":'http://186.56.99.103:56338',\n",
    "    \"https\":'http://186.56.99.103:56338'},\n",
    "    {\"http\":'http://200.81.169.242:52947',\n",
    "    \"https\":'http://200.81.169.242:52947'},\n",
    "    {\"http\":'http://181.47.8.154:42230',\n",
    "    \"https\":'http://181.47.8.154:42230'}\n",
    "]"
   ]
  },
  {
   "cell_type": "code",
   "execution_count": null,
   "metadata": {
    "scrolled": true
   },
   "outputs": [],
   "source": [
    "import time\n",
    "lista_sku_precios = []\n",
    "tiempos = [0,10,30,40,17,2,16,31,20,9,4,14,22,20,43,5]\n",
    "for sku in lista_skus:\n",
    "    try:\n",
    "        time.sleep(choice(tiempos))\n",
    "        raw_html = requests.get('https://www.trocafone.com.ar/comprar/checkout?trocable='+str(sku)\\\n",
    "                                                    ,headers=random_headers(),proxies=choice(proxies))\n",
    "    except BaseHTTPError:\n",
    "        continue\n",
    "    html = BeautifulSoup(raw_html.text,'html.parser')\n",
    "    price = html.findAll(\"span\",{\"class\":'js-trocable-price-text'})\n",
    "    if(not price):\n",
    "        continue\n",
    "    lista_sku_precios.append([sku,int(price[0].text)])"
   ]
  },
  {
   "cell_type": "code",
   "execution_count": null,
   "metadata": {},
   "outputs": [],
   "source": [
    "print(len(lista_sku_precios))\n",
    "print(len(lista_skus))"
   ]
  },
  {
   "cell_type": "code",
   "execution_count": null,
   "metadata": {},
   "outputs": [],
   "source": [
    "pd.DataFrame(lista_sku_precios,columns=('sku','precio')).to_csv('precios_por_sku_noviembre.csv', encoding='utf-8', index=False)"
   ]
  }
 ],
 "metadata": {
  "kernelspec": {
   "display_name": "Python 3",
   "language": "python",
   "name": "python3"
  },
  "language_info": {
   "codemirror_mode": {
    "name": "ipython",
    "version": 3
   },
   "file_extension": ".py",
   "mimetype": "text/x-python",
   "name": "python",
   "nbconvert_exporter": "python",
   "pygments_lexer": "ipython3",
   "version": "3.6.6"
  }
 },
 "nbformat": 4,
 "nbformat_minor": 2
}
