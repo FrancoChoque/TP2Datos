{
 "cells": [
  {
   "cell_type": "code",
   "execution_count": 1,
   "metadata": {},
   "outputs": [
    {
     "name": "stderr",
     "output_type": "stream",
     "text": [
      "/home/mariano/ENTER/lib/python3.6/site-packages/sklearn/ensemble/weight_boosting.py:29: DeprecationWarning: numpy.core.umath_tests is an internal NumPy module and should not be imported. It will be removed in a future NumPy release.\n",
      "  from numpy.core.umath_tests import inner1d\n",
      "/home/mariano/ENTER/lib/python3.6/site-packages/sklearn/cross_validation.py:41: DeprecationWarning: This module was deprecated in version 0.18 in favor of the model_selection module into which all the refactored classes and functions are moved. Also note that the interface of the new CV iterators are different from that of this module. This module will be removed in 0.20.\n",
      "  \"This module will be removed in 0.20.\", DeprecationWarning)\n"
     ]
    }
   ],
   "source": [
    "import pandas as pd\n",
    "import numpy as np\n",
    "import matplotlib.pyplot as plt\n",
    "import seaborn as sns\n",
    "import warnings\n",
    "warnings.filterwarnings('ignore')\n",
    "\n",
    "import xgboost as xgb\n",
    "\n",
    "from sklearn.ensemble import (RandomForestClassifier, AdaBoostClassifier,\\\n",
    "                             GradientBoostingClassifier, ExtraTreesClassifier,\\\n",
    "                             BaggingClassifier, VotingClassifier)\n",
    "\n",
    "from sklearn.neighbors import KNeighborsClassifier\n",
    "from sklearn.svm import SVC\n",
    "from sklearn.linear_model import LogisticRegression\n",
    "from sklearn.linear_model import Perceptron\n",
    "from sklearn.naive_bayes import GaussianNB\n",
    "from sklearn.tree import DecisionTreeClassifier\n",
    "from sklearn.cross_validation import KFold\n",
    "\n",
    "from sklearn.model_selection import train_test_split\n",
    "from sklearn.model_selection import cross_val_score\n",
    "from sklearn.metrics import accuracy_score\n",
    "\n",
    "from sklearn.metrics import roc_auc_score\n",
    "\n",
    "\n",
    "from time import time"
   ]
  },
  {
   "cell_type": "code",
   "execution_count": 2,
   "metadata": {},
   "outputs": [],
   "source": [
    "mejor_precision = 0\n",
    "mejores_features = 0"
   ]
  },
  {
   "cell_type": "markdown",
   "metadata": {},
   "source": [
    "# Set de entrenamiento y Test final"
   ]
  },
  {
   "cell_type": "markdown",
   "metadata": {},
   "source": [
    "Cargamos los archivos necesarios"
   ]
  },
  {
   "cell_type": "code",
   "execution_count": 3,
   "metadata": {},
   "outputs": [],
   "source": [
    "train = pd.read_csv('train_final.csv')\n",
    "test = pd.read_csv('test_final.csv')"
   ]
  },
  {
   "cell_type": "code",
   "execution_count": 4,
   "metadata": {},
   "outputs": [
    {
     "data": {
      "text/plain": [
       "19414"
      ]
     },
     "execution_count": 4,
     "metadata": {},
     "output_type": "execute_result"
    }
   ],
   "source": [
    "train.person.count()"
   ]
  },
  {
   "cell_type": "code",
   "execution_count": 5,
   "metadata": {},
   "outputs": [
    {
     "data": {
      "text/plain": [
       "19415"
      ]
     },
     "execution_count": 5,
     "metadata": {},
     "output_type": "execute_result"
    }
   ],
   "source": [
    "test.person.count()"
   ]
  },
  {
   "cell_type": "markdown",
   "metadata": {},
   "source": [
    "Transformamos las variables categóricas al tipo correspondiente, para reducir el uso de memoria"
   ]
  },
  {
   "cell_type": "code",
   "execution_count": 3,
   "metadata": {},
   "outputs": [],
   "source": [
    "#train['rango_edad'] = train['rango_edad'].astype('category')\n",
    "#train['sexo'] = train['sexo'].astype('category') \n",
    "#train['nivel_estudios'] = train['nivel_estudios'].astype('category')\n",
    "#train['esta_estudiando'] = train['esta_estudiando'].astype('category')\n",
    "#train['tipo_de_trabajo'] = train['tipo_de_trabajo'].astype('category')\n",
    "#train['nivel_laboral'] = train['nivel_laboral'].astype('category')\n",
    "#train['nombre_zona'] = train['nombre_zona'].astype('category')\n",
    "#train['num_area'] = train['num_area'].astype('category')\n",
    "#train['post_por_nivel'] = train['post_por_nivel'].astype('category')\n",
    "#train['sepostulo'] = train['sepostulo'].astype('category')"
   ]
  },
  {
   "cell_type": "code",
   "execution_count": 4,
   "metadata": {},
   "outputs": [],
   "source": [
    "#test_final['rango_edad'] = test_final['rango_edad'].astype('category')\n",
    "#test_final['sexo'] = test_final['sexo'].astype('category') \n",
    "#test_final['nivel_estudios'] = test_final['nivel_estudios'].astype('category')\n",
    "#test_final['esta_estudiando'] = test_final['esta_estudiando'].astype('category')\n",
    "#test_final['tipo_de_trabajo'] = test_final['tipo_de_trabajo'].astype('category')\n",
    "#test_final['nivel_laboral'] = test_final['nivel_laboral'].astype('category')\n",
    "#test_final['nombre_zona'] = test_final['nombre_zona'].astype('category')\n",
    "#test_final['num_area'] = test_final['num_area'].astype('category')\n",
    "#test_final['post_por_nivel'] = test_final['post_por_nivel'].astype('category')"
   ]
  },
  {
   "cell_type": "markdown",
   "metadata": {},
   "source": [
    "Nos guardamos los IDs necesarios para el submit"
   ]
  },
  {
   "cell_type": "code",
   "execution_count": 5,
   "metadata": {},
   "outputs": [],
   "source": [
    "#id_aviso_postulante = test_final['id']"
   ]
  },
  {
   "cell_type": "markdown",
   "metadata": {},
   "source": [
    "Analizamos el set de entrenamiento y el test final"
   ]
  },
  {
   "cell_type": "code",
   "execution_count": 41,
   "metadata": {
    "scrolled": true
   },
   "outputs": [
    {
     "data": {
      "text/html": [
       "<div>\n",
       "<style scoped>\n",
       "    .dataframe tbody tr th:only-of-type {\n",
       "        vertical-align: middle;\n",
       "    }\n",
       "\n",
       "    .dataframe tbody tr th {\n",
       "        vertical-align: top;\n",
       "    }\n",
       "\n",
       "    .dataframe thead th {\n",
       "        text-align: right;\n",
       "    }\n",
       "</style>\n",
       "<table border=\"1\" class=\"dataframe\">\n",
       "  <thead>\n",
       "    <tr style=\"text-align: right;\">\n",
       "      <th></th>\n",
       "      <th>person</th>\n",
       "      <th>brand listing</th>\n",
       "      <th>checkout</th>\n",
       "      <th>conversion</th>\n",
       "      <th>generic listing</th>\n",
       "      <th>searched products</th>\n",
       "      <th>staticpage</th>\n",
       "      <th>viewed product</th>\n",
       "      <th>visited site</th>\n",
       "      <th>label</th>\n",
       "    </tr>\n",
       "  </thead>\n",
       "  <tbody>\n",
       "    <tr>\n",
       "      <th>380</th>\n",
       "      <td>64a3c2f6</td>\n",
       "      <td>14.0</td>\n",
       "      <td>0.0</td>\n",
       "      <td>0.0</td>\n",
       "      <td>1.0</td>\n",
       "      <td>0.0</td>\n",
       "      <td>0.0</td>\n",
       "      <td>13.0</td>\n",
       "      <td>7.0</td>\n",
       "      <td>1.0</td>\n",
       "    </tr>\n",
       "    <tr>\n",
       "      <th>705</th>\n",
       "      <td>b866afff</td>\n",
       "      <td>39.0</td>\n",
       "      <td>4.0</td>\n",
       "      <td>2.0</td>\n",
       "      <td>28.0</td>\n",
       "      <td>101.0</td>\n",
       "      <td>2.0</td>\n",
       "      <td>78.0</td>\n",
       "      <td>20.0</td>\n",
       "      <td>1.0</td>\n",
       "    </tr>\n",
       "    <tr>\n",
       "      <th>1474</th>\n",
       "      <td>947126c0</td>\n",
       "      <td>0.0</td>\n",
       "      <td>1.0</td>\n",
       "      <td>0.0</td>\n",
       "      <td>2.0</td>\n",
       "      <td>0.0</td>\n",
       "      <td>0.0</td>\n",
       "      <td>2.0</td>\n",
       "      <td>1.0</td>\n",
       "      <td>0.0</td>\n",
       "    </tr>\n",
       "    <tr>\n",
       "      <th>160</th>\n",
       "      <td>2b81e8f3</td>\n",
       "      <td>10.0</td>\n",
       "      <td>1.0</td>\n",
       "      <td>1.0</td>\n",
       "      <td>19.0</td>\n",
       "      <td>0.0</td>\n",
       "      <td>0.0</td>\n",
       "      <td>115.0</td>\n",
       "      <td>9.0</td>\n",
       "      <td>1.0</td>\n",
       "    </tr>\n",
       "    <tr>\n",
       "      <th>1321</th>\n",
       "      <td>f4924234</td>\n",
       "      <td>1.0</td>\n",
       "      <td>2.0</td>\n",
       "      <td>0.0</td>\n",
       "      <td>0.0</td>\n",
       "      <td>0.0</td>\n",
       "      <td>0.0</td>\n",
       "      <td>20.0</td>\n",
       "      <td>5.0</td>\n",
       "      <td>0.0</td>\n",
       "    </tr>\n",
       "  </tbody>\n",
       "</table>\n",
       "</div>"
      ],
      "text/plain": [
       "        person  brand listing  checkout  conversion  generic listing  \\\n",
       "380   64a3c2f6           14.0       0.0         0.0              1.0   \n",
       "705   b866afff           39.0       4.0         2.0             28.0   \n",
       "1474  947126c0            0.0       1.0         0.0              2.0   \n",
       "160   2b81e8f3           10.0       1.0         1.0             19.0   \n",
       "1321  f4924234            1.0       2.0         0.0              0.0   \n",
       "\n",
       "      searched products  staticpage  viewed product  visited site  label  \n",
       "380                 0.0         0.0            13.0           7.0    1.0  \n",
       "705               101.0         2.0            78.0          20.0    1.0  \n",
       "1474                0.0         0.0             2.0           1.0    0.0  \n",
       "160                 0.0         0.0           115.0           9.0    1.0  \n",
       "1321                0.0         0.0            20.0           5.0    0.0  "
      ]
     },
     "execution_count": 41,
     "metadata": {},
     "output_type": "execute_result"
    }
   ],
   "source": [
    "train.sample(5)"
   ]
  },
  {
   "cell_type": "code",
   "execution_count": 42,
   "metadata": {
    "scrolled": true
   },
   "outputs": [
    {
     "name": "stdout",
     "output_type": "stream",
     "text": [
      "<class 'pandas.core.frame.DataFrame'>\n",
      "RangeIndex: 1980 entries, 0 to 1979\n",
      "Data columns (total 10 columns):\n",
      "person               1980 non-null object\n",
      "brand listing        1980 non-null float64\n",
      "checkout             1980 non-null float64\n",
      "conversion           1980 non-null float64\n",
      "generic listing      1980 non-null float64\n",
      "searched products    1980 non-null float64\n",
      "staticpage           1980 non-null float64\n",
      "viewed product       1980 non-null float64\n",
      "visited site         1980 non-null float64\n",
      "label                1980 non-null float64\n",
      "dtypes: float64(9), object(1)\n",
      "memory usage: 154.8+ KB\n"
     ]
    }
   ],
   "source": [
    "train.info()"
   ]
  },
  {
   "cell_type": "markdown",
   "metadata": {},
   "source": [
    " "
   ]
  },
  {
   "cell_type": "code",
   "execution_count": 28,
   "metadata": {},
   "outputs": [
    {
     "ename": "NameError",
     "evalue": "name 'test_final' is not defined",
     "output_type": "error",
     "traceback": [
      "\u001b[0;31m---------------------------------------------------------------------------\u001b[0m",
      "\u001b[0;31mNameError\u001b[0m                                 Traceback (most recent call last)",
      "\u001b[0;32m<ipython-input-28-501e9d78f4e4>\u001b[0m in \u001b[0;36m<module>\u001b[0;34m()\u001b[0m\n\u001b[0;32m----> 1\u001b[0;31m \u001b[0mtest_final\u001b[0m\u001b[0;34m.\u001b[0m\u001b[0msample\u001b[0m\u001b[0;34m(\u001b[0m\u001b[0;36m5\u001b[0m\u001b[0;34m)\u001b[0m\u001b[0;34m\u001b[0m\u001b[0m\n\u001b[0m",
      "\u001b[0;31mNameError\u001b[0m: name 'test_final' is not defined"
     ]
    }
   ],
   "source": [
    "test_final.sample(5)"
   ]
  },
  {
   "cell_type": "code",
   "execution_count": 5,
   "metadata": {
    "scrolled": false
   },
   "outputs": [
    {
     "name": "stdout",
     "output_type": "stream",
     "text": [
      "<class 'pandas.core.frame.DataFrame'>\n",
      "RangeIndex: 19414 entries, 0 to 19413\n",
      "Data columns (total 10 columns):\n",
      "person               19414 non-null object\n",
      "label                19414 non-null int64\n",
      "brand listing        19414 non-null float64\n",
      "checkout             19414 non-null float64\n",
      "conversion           19414 non-null float64\n",
      "generic listing      19414 non-null float64\n",
      "searched products    19414 non-null float64\n",
      "staticpage           19414 non-null float64\n",
      "viewed product       19414 non-null float64\n",
      "visited site         19414 non-null float64\n",
      "dtypes: float64(8), int64(1), object(1)\n",
      "memory usage: 1.5+ MB\n"
     ]
    }
   ],
   "source": [
    "test_final.info()"
   ]
  },
  {
   "cell_type": "code",
   "execution_count": 4,
   "metadata": {},
   "outputs": [
    {
     "name": "stdout",
     "output_type": "stream",
     "text": [
      "max_tiempo_sesion_q_0: 51.23\n",
      "max_tiempo_sesion_q_1: 119.15\n",
      "max_tiempo_sesion_q_2: 95.43\n",
      "max_tiempo_sesion_q_3: 98.89\n",
      "max_tiempo_sesion_q_4: 51.3\n",
      "max_tiempo_sesion_q_5: 91.03\n",
      "max_tiempo_sesion_q_6: 90.78\n",
      "max_tiempo_sesion_q_7: 72.72\n",
      "max_tiempo_sesion_q_8: 47.52\n",
      "max_tiempo_sesion_q_9: 15.27\n",
      "prom_tiempo_sesion_q_0: 62.41\n",
      "prom_tiempo_sesion_q_1: 137.74\n",
      "prom_tiempo_sesion_q_2: 138.47\n",
      "prom_tiempo_sesion_q_3: 139.16\n",
      "prom_tiempo_sesion_q_4: 85.42\n",
      "prom_tiempo_sesion_q_5: 99.69\n",
      "prom_tiempo_sesion_q_6: 113.79\n",
      "prom_tiempo_sesion_q_7: 56.85\n",
      "prom_tiempo_sesion_q_8: 133.29\n",
      "prom_tiempo_sesion_q_9: 38.84\n",
      "viewed product_0: 44.27\n",
      "viewed product_1: 29.59\n",
      "viewed product_2: 39.5\n",
      "viewed product_3: 25.64\n",
      "viewed product_4: 18.08\n",
      "viewed product_5: 24.11\n",
      "viewed product_6: 21.98\n",
      "viewed product_7: 19.77\n",
      "viewed product_8: 10.46\n",
      "viewed product_9: 7.26\n",
      "searched products_0: 43.21\n",
      "searched products_1: 25.47\n",
      "searched products_2: 28.54\n",
      "searched products_3: 33.04\n",
      "searched products_4: 24.93\n",
      "searched products_5: 35.93\n",
      "searched products_6: 30.65\n",
      "searched products_7: 16.97\n",
      "searched products_8: 22.44\n",
      "searched products_9: 21.84\n",
      "ad campaign hit_0: 28.67\n",
      "ad campaign hit_1: 31.3\n",
      "ad campaign hit_2: 56.25\n",
      "ad campaign hit_3: 64.93\n",
      "ad campaign hit_4: 31.0\n",
      "ad campaign hit_5: 21.04\n",
      "ad campaign hit_6: 23.88\n",
      "ad campaign hit_7: 27.8\n",
      "ad campaign hit_8: 11.12\n",
      "ad campaign hit_9: 6.15\n",
      "staticpage_0: 44.82\n",
      "staticpage_1: 39.32\n",
      "staticpage_2: 46.61\n",
      "staticpage_3: 48.14\n",
      "staticpage_4: 39.9\n",
      "staticpage_5: 46.12\n",
      "staticpage_6: 32.86\n",
      "staticpage_7: 49.53\n",
      "staticpage_8: 31.92\n",
      "staticpage_9: 9.83\n",
      "checkout_0: 38.58\n",
      "checkout_1: 35.62\n",
      "checkout_2: 35.57\n",
      "checkout_3: 81.02\n",
      "checkout_4: 21.15\n",
      "checkout_5: 31.39\n",
      "checkout_6: 22.78\n",
      "checkout_7: 18.78\n",
      "checkout_8: 12.47\n",
      "checkout_9: 6.5\n",
      "search engine hit_0: 38.82\n",
      "search engine hit_1: 29.14\n",
      "search engine hit_2: 76.45\n",
      "search engine hit_3: 22.08\n",
      "search engine hit_4: 26.74\n",
      "search engine hit_5: 30.94\n",
      "search engine hit_6: 30.98\n",
      "search engine hit_7: 17.55\n",
      "search engine hit_8: 15.92\n",
      "search engine hit_9: 6.81\n",
      "conversion_0: 70.72\n",
      "conversion_1: 71.3\n",
      "conversion_2: 46.25\n",
      "conversion_3: 64.82\n",
      "conversion_4: 32.59\n",
      "conversion_5: 27.5\n",
      "conversion_6: 24.6\n",
      "conversion_7: 31.99\n",
      "conversion_8: 27.93\n",
      "conversion_9: 15.4\n",
      "generic listing_0: 36.3\n",
      "generic listing_1: 47.43\n",
      "generic listing_2: 51.06\n",
      "generic listing_3: 58.12\n",
      "generic listing_4: 24.43\n",
      "generic listing_5: 18.27\n",
      "generic listing_6: 30.48\n",
      "generic listing_7: 29.96\n",
      "generic listing_8: 11.11\n",
      "generic listing_9: 5.48\n",
      "brand listing_0: 82.67\n",
      "brand listing_1: 109.35\n",
      "brand listing_2: 64.01\n",
      "brand listing_3: 38.13\n",
      "brand listing_4: 62.48\n",
      "brand listing_5: 96.28\n",
      "brand listing_6: 30.49\n",
      "brand listing_7: 38.13\n",
      "brand listing_8: 15.94\n",
      "brand listing_9: 8.47\n",
      "visited site_0: 38.83\n",
      "visited site_1: 26.18\n",
      "visited site_2: 33.25\n",
      "visited site_3: 30.52\n",
      "visited site_4: 19.06\n",
      "visited site_5: 13.81\n",
      "visited site_6: 11.77\n",
      "visited site_7: 14.56\n",
      "visited site_8: 7.7\n",
      "visited site_9: 4.97\n",
      "lead_0: 122.18\n",
      "lead_1: 64.9\n",
      "lead_2: 83.27\n",
      "lead_3: 67.06\n",
      "lead_4: 82.94\n",
      "lead_5: 127.14\n",
      "lead_6: 33.84\n",
      "lead_7: 44.28\n",
      "lead_8: 41.02\n",
      "lead_9: 37.27\n",
      "ad campaign hit: 15.05\n",
      "brand listing: 42.74\n",
      "checkout: 7.1\n",
      "conversion: 10.96\n",
      "generic listing: 11.87\n",
      "lead: 37.0\n",
      "search engine hit: 10.48\n",
      "searched products: 18.42\n",
      "staticpage: 16.57\n",
      "viewed product: 9.46\n",
      "visited site: 7.37\n",
      "antiguedad: 2.1\n",
      "max_sin_convertir: 2.14\n",
      "dias_sin_convertir: 2.3\n",
      "convierte_cada_x_dias: 2.31\n",
      "cant_sesiones_q_0: 9.45\n",
      "cant_sesiones_q_1: 9.63\n",
      "cant_sesiones_q_2: 9.59\n",
      "cant_sesiones_q_3: 8.66\n",
      "cant_sesiones_q_4: 6.77\n",
      "cant_sesiones_q_5: 6.02\n",
      "cant_sesiones_q_6: 5.71\n",
      "cant_sesiones_q_7: 4.44\n",
      "cant_sesiones_q_8: 2.52\n",
      "cant_sesiones_q_9: 0.24\n"
     ]
    }
   ],
   "source": [
    "from scipy.stats import skew\n",
    "\n",
    "for i in train.iloc[:,2:].columns:\n",
    "    print(i+':', round(skew(train[i]),2) ) "
   ]
  },
  {
   "cell_type": "code",
   "execution_count": 5,
   "metadata": {},
   "outputs": [
    {
     "data": {
      "image/png": "[encoded data removed]",
      "text/plain": [
       "<Figure size 1080x864 with 2 Axes>"
      ]
     },
     "metadata": {
      "needs_background": "light"
     },
     "output_type": "display_data"
    }
   ],
   "source": [
    "#Finallt, lets look the correlation of df_train\n",
    "plt.figure(figsize=(15,12))\n",
    "plt.title('Correlation of Features for Train Set')\n",
    "sns.heatmap(train[train.iloc[:,20:52].columns].astype(float).corr(),vmax=1.0,  annot=True)\n",
    "plt.show()"
   ]
  },
  {
   "cell_type": "code",
   "execution_count": 6,
   "metadata": {},
   "outputs": [],
   "source": [
    "skewed_features = np.array(train.iloc[:,2:].columns)[np.abs(skew(train[train.iloc[:,2:].columns])) > 0.5]\n",
    "train[skewed_features] = np.log1p(train[skewed_features])"
   ]
  },
  {
   "cell_type": "code",
   "execution_count": 7,
   "metadata": {},
   "outputs": [],
   "source": [
    "skewed_features = np.array(test.iloc[:,1:].columns)[np.abs(skew(test[test.iloc[:,1:].columns])) > 0.5]\n",
    "test[skewed_features] = np.log1p(test[skewed_features])"
   ]
  },
  {
   "cell_type": "markdown",
   "metadata": {},
   "source": [
    "Nos guardamos los features que utilizaremos para los algoritmos de Machine Learning"
   ]
  },
  {
   "cell_type": "code",
   "execution_count": 67,
   "metadata": {},
   "outputs": [],
   "source": [
    "cantidad_sesiones = []\n",
    "promedio_tiempo_sesion = []\n",
    "maxima_sesion = []\n",
    "compras = []\n",
    "ad_campaign_hit = []\n",
    "viewed_product = []\n",
    "brand_listing = []\n",
    "checkout = []\n",
    "generic_listing = []\n",
    "search_engine_hit = []\n",
    "searched_products = []\n",
    "viewed_products = []\n",
    "lead = []\n",
    "for i in range(6,10):\n",
    "    cantidad_sesiones.append('cant_sesiones_q_'+str(i))\n",
    "    promedio_tiempo_sesion.append('prom_tiempo_sesion_q_'+str(i))\n",
    "    maxima_sesion.append('max_tiempo_sesion_q_'+str(i))\n",
    "    compras.append('conversion_'+str(i))\n",
    "    ad_campaign_hit.append('ad campaign hit_'+str(i))\n",
    "    viewed_product.append('viewed product_'+str(i))\n",
    "    brand_listing.append('brand listing_'+str(i))\n",
    "    checkout.append('checkout_'+str(i))\n",
    "    generic_listing.append('generic listing_'+str(i))\n",
    "    search_engine_hit.append('search engine hit_'+str(i))\n",
    "    searched_products.append('searched products_'+str(i))\n",
    "    lead.append('lead_'+str(i))\n",
    "conversiones_dias_features = ['antiguedad','max_sin_convertir','dias_sin_convertir','convierte_cada_x_dias']\n",
    "\n",
    "eventos_total = ['ad campaign hit','viewed product','brand listing','checkout','generic listing',\\\n",
    "                 'search engine hit','searched products','conversion'] \n",
    "eventos_out = ['lead','staticpage','visited site']\n",
    "\n",
    "features = \\\n",
    "     maxima_sesion + conversiones_dias_features + promedio_tiempo_sesion + cantidad_sesiones + compras\\\n",
    "    + lead + eventos_total\n",
    "#checkout + ad_campaign_hit + viewed_product + searched_products + generic_listing + search_engine_hit + brand_listing"
   ]
  },
  {
   "cell_type": "markdown",
   "metadata": {},
   "source": [
    "0.8379704883687328\n",
    "eventos + conversionesdias           NN"
   ]
  },
  {
   "cell_type": "markdown",
   "metadata": {},
   "source": [
    "0.8407473630978183\n",
    "eventos + conversionesdias + maximasesion + compras       NN"
   ]
  },
  {
   "cell_type": "markdown",
   "metadata": {},
   "source": [
    "Particionamos el set de entrenamiento para realizar pruebas locales de hiper-parámetros antes de realizar cada submit"
   ]
  },
  {
   "cell_type": "code",
   "execution_count": 68,
   "metadata": {},
   "outputs": [],
   "source": [
    "test_s = 0.25\n",
    "random_s = 0\n",
    "\n",
    "x = np.array(train[features])\n",
    "y = np.array(train['label'])\n",
    "\n",
    "x_train, x_test, y_train, y_test = train_test_split(x, y, test_size=test_s, random_state=random_s)"
   ]
  },
  {
   "cell_type": "markdown",
   "metadata": {},
   "source": [
    "Generamos el set de entrenamiento para el test final"
   ]
  },
  {
   "cell_type": "code",
   "execution_count": 69,
   "metadata": {},
   "outputs": [],
   "source": [
    "x_test_final = np.array(test[features])"
   ]
  },
  {
   "cell_type": "markdown",
   "metadata": {},
   "source": [
    "# Algoritmos probados"
   ]
  },
  {
   "cell_type": "markdown",
   "metadata": {},
   "source": [
    "## Neural Network"
   ]
  },
  {
   "cell_type": "markdown",
   "metadata": {},
   "source": [
    "Mejor precision = 0.8488016543852044\n",
    "Features = eventos_total + todos los demas desde el 6 + conversiones_dias"
   ]
  },
  {
   "cell_type": "markdown",
   "metadata": {},
   "source": [
    "### Set de entrenamiento"
   ]
  },
  {
   "cell_type": "code",
   "execution_count": 70,
   "metadata": {
    "scrolled": true
   },
   "outputs": [
    {
     "name": "stdout",
     "output_type": "stream",
     "text": [
      "Epoch 1/200\n",
      "14560/14560 [==============================] - 1s 64us/step - loss: 0.3251 - acc: 0.9473\n",
      "Epoch 2/200\n",
      "14560/14560 [==============================] - 1s 36us/step - loss: 0.2012 - acc: 0.9492\n",
      "Epoch 3/200\n",
      "14560/14560 [==============================] - 1s 37us/step - loss: 0.1910 - acc: 0.9492\n",
      "Epoch 4/200\n",
      "14560/14560 [==============================] - 1s 39us/step - loss: 0.1855 - acc: 0.9492\n",
      "Epoch 5/200\n",
      "14560/14560 [==============================] - 1s 38us/step - loss: 0.1824 - acc: 0.9492\n",
      "Epoch 6/200\n",
      "14560/14560 [==============================] - 1s 38us/step - loss: 0.1801 - acc: 0.9492\n",
      "Epoch 7/200\n",
      "14560/14560 [==============================] - 1s 41us/step - loss: 0.1785 - acc: 0.9492\n",
      "Epoch 8/200\n",
      "14560/14560 [==============================] - 1s 40us/step - loss: 0.1774 - acc: 0.9492\n",
      "Epoch 9/200\n",
      "14560/14560 [==============================] - 1s 37us/step - loss: 0.1765 - acc: 0.9492\n",
      "Epoch 10/200\n",
      "14560/14560 [==============================] - 1s 38us/step - loss: 0.1752 - acc: 0.9492\n",
      "Epoch 11/200\n",
      "14560/14560 [==============================] - 1s 36us/step - loss: 0.1748 - acc: 0.9492\n",
      "Epoch 12/200\n",
      "14560/14560 [==============================] - 1s 37us/step - loss: 0.1737 - acc: 0.9492\n",
      "Epoch 13/200\n",
      "14560/14560 [==============================] - 1s 37us/step - loss: 0.1737 - acc: 0.9492\n",
      "Epoch 14/200\n",
      "14560/14560 [==============================] - 1s 46us/step - loss: 0.1732 - acc: 0.9492\n",
      "Epoch 15/200\n",
      "14560/14560 [==============================] - 1s 38us/step - loss: 0.1728 - acc: 0.9492\n",
      "Epoch 16/200\n",
      "14560/14560 [==============================] - 1s 38us/step - loss: 0.1724 - acc: 0.9492\n",
      "Epoch 17/200\n",
      "14560/14560 [==============================] - 1s 44us/step - loss: 0.1721 - acc: 0.9492\n",
      "Epoch 18/200\n",
      "14560/14560 [==============================] - 1s 39us/step - loss: 0.1722 - acc: 0.9492\n",
      "Epoch 19/200\n",
      "14560/14560 [==============================] - 1s 36us/step - loss: 0.1716 - acc: 0.9492\n",
      "Epoch 20/200\n",
      "14560/14560 [==============================] - 1s 38us/step - loss: 0.1714 - acc: 0.9492\n",
      "Epoch 21/200\n",
      "14560/14560 [==============================] - 1s 39us/step - loss: 0.1713 - acc: 0.9492\n",
      "Epoch 22/200\n",
      "14560/14560 [==============================] - 1s 39us/step - loss: 0.1711 - acc: 0.9492\n",
      "Epoch 23/200\n",
      "14560/14560 [==============================] - 1s 37us/step - loss: 0.1711 - acc: 0.9492\n",
      "Epoch 24/200\n",
      "14560/14560 [==============================] - 1s 38us/step - loss: 0.1704 - acc: 0.9492\n",
      "Epoch 25/200\n",
      "14560/14560 [==============================] - 1s 37us/step - loss: 0.1707 - acc: 0.9492\n",
      "Epoch 26/200\n",
      "14560/14560 [==============================] - 1s 40us/step - loss: 0.1704 - acc: 0.9492\n",
      "Epoch 27/200\n",
      "14560/14560 [==============================] - 1s 38us/step - loss: 0.1704 - acc: 0.9492\n",
      "Epoch 28/200\n",
      "14560/14560 [==============================] - 1s 37us/step - loss: 0.1703 - acc: 0.9492\n",
      "Epoch 29/200\n",
      "14560/14560 [==============================] - 1s 39us/step - loss: 0.1699 - acc: 0.9492\n",
      "Epoch 30/200\n",
      "14560/14560 [==============================] - 1s 37us/step - loss: 0.1700 - acc: 0.9492\n",
      "Epoch 31/200\n",
      "14560/14560 [==============================] - 1s 36us/step - loss: 0.1698 - acc: 0.9492\n",
      "Epoch 32/200\n",
      "14560/14560 [==============================] - 1s 35us/step - loss: 0.1694 - acc: 0.9492\n",
      "Epoch 33/200\n",
      "14560/14560 [==============================] - 1s 35us/step - loss: 0.1696 - acc: 0.9492\n",
      "Epoch 34/200\n",
      "14560/14560 [==============================] - 1s 38us/step - loss: 0.1697 - acc: 0.9492\n",
      "Epoch 35/200\n",
      "14560/14560 [==============================] - 1s 38us/step - loss: 0.1692 - acc: 0.9492\n",
      "Epoch 36/200\n",
      "14560/14560 [==============================] - 1s 36us/step - loss: 0.1692 - acc: 0.9492\n",
      "Epoch 37/200\n",
      "14560/14560 [==============================] - 1s 37us/step - loss: 0.1691 - acc: 0.9492\n",
      "Epoch 38/200\n",
      "14560/14560 [==============================] - 1s 37us/step - loss: 0.1689 - acc: 0.9492\n",
      "Epoch 39/200\n",
      "14560/14560 [==============================] - 1s 39us/step - loss: 0.1693 - acc: 0.9492\n",
      "Epoch 40/200\n",
      "14560/14560 [==============================] - 1s 38us/step - loss: 0.1690 - acc: 0.9492\n",
      "Epoch 41/200\n",
      "14560/14560 [==============================] - 1s 36us/step - loss: 0.1682 - acc: 0.9492\n",
      "Epoch 42/200\n",
      "14560/14560 [==============================] - 1s 38us/step - loss: 0.1687 - acc: 0.9492\n",
      "Epoch 43/200\n",
      "14560/14560 [==============================] - 1s 36us/step - loss: 0.1684 - acc: 0.9492\n",
      "Epoch 44/200\n",
      "14560/14560 [==============================] - 1s 36us/step - loss: 0.1684 - acc: 0.9492\n",
      "Epoch 45/200\n",
      "14560/14560 [==============================] - 1s 36us/step - loss: 0.1685 - acc: 0.9492\n",
      "Epoch 46/200\n",
      "14560/14560 [==============================] - 1s 37us/step - loss: 0.1681 - acc: 0.9492\n",
      "Epoch 47/200\n",
      "14560/14560 [==============================] - 1s 36us/step - loss: 0.1683 - acc: 0.9492\n",
      "Epoch 48/200\n",
      "14560/14560 [==============================] - 1s 35us/step - loss: 0.1686 - acc: 0.9492\n",
      "Epoch 49/200\n",
      "14560/14560 [==============================] - 1s 36us/step - loss: 0.1683 - acc: 0.9492\n",
      "Epoch 50/200\n",
      "14560/14560 [==============================] - 1s 36us/step - loss: 0.1677 - acc: 0.9492\n",
      "Epoch 51/200\n",
      "14560/14560 [==============================] - 1s 35us/step - loss: 0.1683 - acc: 0.9492\n",
      "Epoch 52/200\n",
      "14560/14560 [==============================] - 1s 37us/step - loss: 0.1676 - acc: 0.9492\n",
      "Epoch 53/200\n",
      "14560/14560 [==============================] - 1s 36us/step - loss: 0.1681 - acc: 0.9492\n",
      "Epoch 54/200\n",
      "14560/14560 [==============================] - 1s 37us/step - loss: 0.1683 - acc: 0.9492\n",
      "Epoch 55/200\n",
      "14560/14560 [==============================] - 1s 36us/step - loss: 0.1674 - acc: 0.9492\n",
      "Epoch 56/200\n",
      "14560/14560 [==============================] - 1s 37us/step - loss: 0.1680 - acc: 0.9492\n",
      "Epoch 57/200\n",
      "14560/14560 [==============================] - 1s 37us/step - loss: 0.1675 - acc: 0.9492\n",
      "Epoch 58/200\n",
      "14560/14560 [==============================] - 1s 38us/step - loss: 0.1676 - acc: 0.9492\n",
      "Epoch 59/200\n",
      "14560/14560 [==============================] - 1s 36us/step - loss: 0.1674 - acc: 0.9492\n",
      "Epoch 60/200\n",
      "14560/14560 [==============================] - 1s 37us/step - loss: 0.1678 - acc: 0.9492\n",
      "Epoch 61/200\n",
      "14560/14560 [==============================] - 1s 37us/step - loss: 0.1673 - acc: 0.9492\n",
      "Epoch 62/200\n",
      "14560/14560 [==============================] - 1s 36us/step - loss: 0.1674 - acc: 0.9492\n",
      "Epoch 63/200\n",
      "14560/14560 [==============================] - 1s 36us/step - loss: 0.1671 - acc: 0.9492\n",
      "Epoch 64/200\n",
      "14560/14560 [==============================] - 1s 36us/step - loss: 0.1675 - acc: 0.9492\n",
      "Epoch 65/200\n",
      "14560/14560 [==============================] - 1s 36us/step - loss: 0.1673 - acc: 0.9492\n",
      "Epoch 66/200\n",
      "14560/14560 [==============================] - 1s 36us/step - loss: 0.1673 - acc: 0.9492\n",
      "Epoch 67/200\n",
      "14560/14560 [==============================] - 1s 36us/step - loss: 0.1669 - acc: 0.9492\n",
      "Epoch 68/200\n",
      "14560/14560 [==============================] - 1s 37us/step - loss: 0.1668 - acc: 0.9492\n",
      "Epoch 69/200\n",
      "14560/14560 [==============================] - 1s 36us/step - loss: 0.1671 - acc: 0.9492\n",
      "Epoch 70/200\n",
      "14560/14560 [==============================] - 1s 37us/step - loss: 0.1672 - acc: 0.9492\n",
      "Epoch 71/200\n",
      "14560/14560 [==============================] - 1s 36us/step - loss: 0.1672 - acc: 0.9492\n",
      "Epoch 72/200\n",
      "14560/14560 [==============================] - 1s 36us/step - loss: 0.1671 - acc: 0.9492\n",
      "Epoch 73/200\n",
      "14560/14560 [==============================] - 1s 37us/step - loss: 0.1670 - acc: 0.9492\n",
      "Epoch 74/200\n",
      "14560/14560 [==============================] - 1s 37us/step - loss: 0.1673 - acc: 0.9492\n",
      "Epoch 75/200\n",
      "14560/14560 [==============================] - 1s 36us/step - loss: 0.1672 - acc: 0.9492\n",
      "Epoch 76/200\n",
      "14560/14560 [==============================] - 1s 37us/step - loss: 0.1669 - acc: 0.9492\n",
      "Epoch 77/200\n",
      "14560/14560 [==============================] - 1s 36us/step - loss: 0.1668 - acc: 0.9492\n",
      "Epoch 78/200\n",
      "14560/14560 [==============================] - 1s 38us/step - loss: 0.1668 - acc: 0.9492\n",
      "Epoch 79/200\n",
      "14560/14560 [==============================] - 1s 37us/step - loss: 0.1668 - acc: 0.9492\n",
      "Epoch 80/200\n",
      "14560/14560 [==============================] - 1s 37us/step - loss: 0.1667 - acc: 0.9492\n",
      "Epoch 81/200\n"
     ]
    },
    {
     "name": "stdout",
     "output_type": "stream",
     "text": [
      "14560/14560 [==============================] - 1s 36us/step - loss: 0.1666 - acc: 0.9492\n",
      "Epoch 82/200\n",
      "14560/14560 [==============================] - 1s 35us/step - loss: 0.1670 - acc: 0.9492\n",
      "Epoch 83/200\n",
      "14560/14560 [==============================] - 1s 36us/step - loss: 0.1666 - acc: 0.9492\n",
      "Epoch 84/200\n",
      "14560/14560 [==============================] - 1s 37us/step - loss: 0.1666 - acc: 0.9492\n",
      "Epoch 85/200\n",
      "14560/14560 [==============================] - 1s 38us/step - loss: 0.1665 - acc: 0.9492\n",
      "Epoch 86/200\n",
      "14560/14560 [==============================] - 1s 37us/step - loss: 0.1665 - acc: 0.9492\n",
      "Epoch 87/200\n",
      "14560/14560 [==============================] - 1s 36us/step - loss: 0.1662 - acc: 0.9492\n",
      "Epoch 88/200\n",
      "14560/14560 [==============================] - 1s 36us/step - loss: 0.1659 - acc: 0.9492\n",
      "Epoch 89/200\n",
      "14560/14560 [==============================] - 1s 36us/step - loss: 0.1660 - acc: 0.9492\n",
      "Epoch 90/200\n",
      "14560/14560 [==============================] - 1s 38us/step - loss: 0.1658 - acc: 0.9492\n",
      "Epoch 91/200\n",
      "14560/14560 [==============================] - 1s 36us/step - loss: 0.1659 - acc: 0.9492\n",
      "Epoch 92/200\n",
      "14560/14560 [==============================] - 1s 37us/step - loss: 0.1659 - acc: 0.9492\n",
      "Epoch 93/200\n",
      "14560/14560 [==============================] - 1s 37us/step - loss: 0.1653 - acc: 0.9492\n",
      "Epoch 94/200\n",
      "14560/14560 [==============================] - 1s 36us/step - loss: 0.1656 - acc: 0.9492\n",
      "Epoch 95/200\n",
      "14560/14560 [==============================] - 1s 37us/step - loss: 0.1653 - acc: 0.9492\n",
      "Epoch 96/200\n",
      "14560/14560 [==============================] - 1s 37us/step - loss: 0.1650 - acc: 0.9492\n",
      "Epoch 97/200\n",
      "14560/14560 [==============================] - 1s 36us/step - loss: 0.1647 - acc: 0.9492\n",
      "Epoch 98/200\n",
      "14560/14560 [==============================] - 1s 36us/step - loss: 0.1646 - acc: 0.9492\n",
      "Epoch 99/200\n",
      "14560/14560 [==============================] - 1s 38us/step - loss: 0.1645 - acc: 0.9492\n",
      "Epoch 100/200\n",
      "14560/14560 [==============================] - 1s 37us/step - loss: 0.1641 - acc: 0.9492\n",
      "Epoch 101/200\n",
      "14560/14560 [==============================] - 1s 36us/step - loss: 0.1642 - acc: 0.9492\n",
      "Epoch 102/200\n",
      "14560/14560 [==============================] - 1s 36us/step - loss: 0.1638 - acc: 0.9492\n",
      "Epoch 103/200\n",
      "14560/14560 [==============================] - 1s 37us/step - loss: 0.1636 - acc: 0.9492\n",
      "Epoch 104/200\n",
      "14560/14560 [==============================] - 1s 38us/step - loss: 0.1633 - acc: 0.9492\n",
      "Epoch 105/200\n",
      "14560/14560 [==============================] - 1s 37us/step - loss: 0.1630 - acc: 0.9492\n",
      "Epoch 106/200\n",
      "14560/14560 [==============================] - 1s 36us/step - loss: 0.1630 - acc: 0.9492\n",
      "Epoch 107/200\n",
      "14560/14560 [==============================] - 1s 36us/step - loss: 0.1621 - acc: 0.9492\n",
      "Epoch 108/200\n",
      "14560/14560 [==============================] - 1s 36us/step - loss: 0.1622 - acc: 0.9492\n",
      "Epoch 109/200\n",
      "14560/14560 [==============================] - 1s 36us/step - loss: 0.1620 - acc: 0.9492\n",
      "Epoch 110/200\n",
      "14560/14560 [==============================] - 1s 36us/step - loss: 0.1622 - acc: 0.9492\n",
      "Epoch 111/200\n",
      "14560/14560 [==============================] - 1s 37us/step - loss: 0.1616 - acc: 0.9492\n",
      "Epoch 112/200\n",
      "14560/14560 [==============================] - 1s 36us/step - loss: 0.1613 - acc: 0.9492\n",
      "Epoch 113/200\n",
      "14560/14560 [==============================] - 1s 36us/step - loss: 0.1605 - acc: 0.9492\n",
      "Epoch 114/200\n",
      "14560/14560 [==============================] - 1s 37us/step - loss: 0.1607 - acc: 0.9492\n",
      "Epoch 115/200\n",
      "14560/14560 [==============================] - 1s 38us/step - loss: 0.1601 - acc: 0.9492\n",
      "Epoch 116/200\n",
      "14560/14560 [==============================] - 1s 37us/step - loss: 0.1597 - acc: 0.9492\n",
      "Epoch 117/200\n",
      "14560/14560 [==============================] - 1s 36us/step - loss: 0.1595 - acc: 0.9492\n",
      "Epoch 118/200\n",
      "14560/14560 [==============================] - 1s 37us/step - loss: 0.1590 - acc: 0.9492\n",
      "Epoch 119/200\n",
      "14560/14560 [==============================] - 1s 36us/step - loss: 0.1588 - acc: 0.9492\n",
      "Epoch 120/200\n",
      "14560/14560 [==============================] - 1s 37us/step - loss: 0.1588 - acc: 0.9492\n",
      "Epoch 121/200\n",
      "14560/14560 [==============================] - 1s 37us/step - loss: 0.1586 - acc: 0.9492\n",
      "Epoch 122/200\n",
      "14560/14560 [==============================] - 1s 36us/step - loss: 0.1584 - acc: 0.9492\n",
      "Epoch 123/200\n",
      "14560/14560 [==============================] - 1s 38us/step - loss: 0.1582 - acc: 0.9492\n",
      "Epoch 124/200\n",
      "14560/14560 [==============================] - 1s 37us/step - loss: 0.1577 - acc: 0.9492\n",
      "Epoch 125/200\n",
      "14560/14560 [==============================] - 1s 36us/step - loss: 0.1578 - acc: 0.9492\n",
      "Epoch 126/200\n",
      "14560/14560 [==============================] - 1s 37us/step - loss: 0.1578 - acc: 0.9492\n",
      "Epoch 127/200\n",
      "14560/14560 [==============================] - 1s 36us/step - loss: 0.1574 - acc: 0.9492\n",
      "Epoch 128/200\n",
      "14560/14560 [==============================] - 1s 37us/step - loss: 0.1568 - acc: 0.9492\n",
      "Epoch 129/200\n",
      "14560/14560 [==============================] - 1s 37us/step - loss: 0.1571 - acc: 0.9492\n",
      "Epoch 130/200\n",
      "14560/14560 [==============================] - 1s 37us/step - loss: 0.1573 - acc: 0.9492\n",
      "Epoch 131/200\n",
      "14560/14560 [==============================] - 1s 36us/step - loss: 0.1570 - acc: 0.9492\n",
      "Epoch 132/200\n",
      "14560/14560 [==============================] - 1s 36us/step - loss: 0.1569 - acc: 0.9492\n",
      "Epoch 133/200\n",
      "14560/14560 [==============================] - 1s 36us/step - loss: 0.1570 - acc: 0.9492\n",
      "Epoch 134/200\n",
      "14560/14560 [==============================] - 1s 36us/step - loss: 0.1568 - acc: 0.9492\n",
      "Epoch 135/200\n",
      "14560/14560 [==============================] - 1s 37us/step - loss: 0.1565 - acc: 0.9492\n",
      "Epoch 136/200\n",
      "14560/14560 [==============================] - 1s 37us/step - loss: 0.1566 - acc: 0.9492\n",
      "Epoch 137/200\n",
      "14560/14560 [==============================] - 1s 37us/step - loss: 0.1564 - acc: 0.9492\n",
      "Epoch 138/200\n",
      "14560/14560 [==============================] - 1s 37us/step - loss: 0.1564 - acc: 0.9492\n",
      "Epoch 139/200\n",
      "14560/14560 [==============================] - 1s 36us/step - loss: 0.1566 - acc: 0.9492\n",
      "Epoch 140/200\n",
      "14560/14560 [==============================] - 1s 36us/step - loss: 0.1562 - acc: 0.9492\n",
      "Epoch 141/200\n",
      "14560/14560 [==============================] - 1s 37us/step - loss: 0.1557 - acc: 0.9492\n",
      "Epoch 142/200\n",
      "14560/14560 [==============================] - 1s 38us/step - loss: 0.1564 - acc: 0.9492\n",
      "Epoch 143/200\n",
      "14560/14560 [==============================] - 1s 36us/step - loss: 0.1561 - acc: 0.9492\n",
      "Epoch 144/200\n",
      "14560/14560 [==============================] - 1s 37us/step - loss: 0.1557 - acc: 0.9492\n",
      "Epoch 145/200\n",
      "14560/14560 [==============================] - 1s 37us/step - loss: 0.1557 - acc: 0.9492\n",
      "Epoch 146/200\n",
      "14560/14560 [==============================] - 1s 36us/step - loss: 0.1561 - acc: 0.9492\n",
      "Epoch 147/200\n",
      "14560/14560 [==============================] - 1s 36us/step - loss: 0.1559 - acc: 0.9492\n",
      "Epoch 148/200\n",
      "14560/14560 [==============================] - 1s 36us/step - loss: 0.1559 - acc: 0.9492\n",
      "Epoch 149/200\n",
      "14560/14560 [==============================] - 1s 36us/step - loss: 0.1553 - acc: 0.9492\n",
      "Epoch 150/200\n",
      "14560/14560 [==============================] - 1s 36us/step - loss: 0.1559 - acc: 0.9492\n",
      "Epoch 151/200\n",
      "14560/14560 [==============================] - 1s 37us/step - loss: 0.1559 - acc: 0.9492\n",
      "Epoch 152/200\n",
      "14560/14560 [==============================] - 1s 36us/step - loss: 0.1556 - acc: 0.9492\n",
      "Epoch 153/200\n",
      "14560/14560 [==============================] - 1s 36us/step - loss: 0.1557 - acc: 0.9492\n",
      "Epoch 154/200\n",
      "14560/14560 [==============================] - 1s 37us/step - loss: 0.1557 - acc: 0.9492\n",
      "Epoch 155/200\n",
      "14560/14560 [==============================] - 1s 37us/step - loss: 0.1560 - acc: 0.9492\n",
      "Epoch 156/200\n",
      "14560/14560 [==============================] - 1s 35us/step - loss: 0.1553 - acc: 0.9492\n",
      "Epoch 157/200\n",
      "14560/14560 [==============================] - 1s 37us/step - loss: 0.1552 - acc: 0.9492\n",
      "Epoch 158/200\n",
      "14560/14560 [==============================] - 1s 36us/step - loss: 0.1553 - acc: 0.9492\n",
      "Epoch 159/200\n",
      "14560/14560 [==============================] - 1s 36us/step - loss: 0.1556 - acc: 0.9492\n",
      "Epoch 160/200\n"
     ]
    },
    {
     "name": "stdout",
     "output_type": "stream",
     "text": [
      "14560/14560 [==============================] - 1s 36us/step - loss: 0.1557 - acc: 0.9492\n",
      "Epoch 161/200\n",
      "14560/14560 [==============================] - 1s 36us/step - loss: 0.1551 - acc: 0.9492\n",
      "Epoch 162/200\n",
      "14560/14560 [==============================] - 1s 36us/step - loss: 0.1553 - acc: 0.9492\n",
      "Epoch 163/200\n",
      "14560/14560 [==============================] - 1s 37us/step - loss: 0.1550 - acc: 0.9492\n",
      "Epoch 164/200\n",
      "14560/14560 [==============================] - 1s 36us/step - loss: 0.1554 - acc: 0.9492\n",
      "Epoch 165/200\n",
      "14560/14560 [==============================] - 1s 37us/step - loss: 0.1556 - acc: 0.9492\n",
      "Epoch 166/200\n",
      "14560/14560 [==============================] - 1s 36us/step - loss: 0.1554 - acc: 0.9492\n",
      "Epoch 167/200\n",
      "14560/14560 [==============================] - 1s 37us/step - loss: 0.1552 - acc: 0.9492\n",
      "Epoch 168/200\n",
      "14560/14560 [==============================] - 1s 36us/step - loss: 0.1550 - acc: 0.9492\n",
      "Epoch 169/200\n",
      "14560/14560 [==============================] - 1s 37us/step - loss: 0.1549 - acc: 0.9492\n",
      "Epoch 170/200\n",
      "14560/14560 [==============================] - 1s 36us/step - loss: 0.1547 - acc: 0.9492\n",
      "Epoch 171/200\n",
      "14560/14560 [==============================] - 1s 36us/step - loss: 0.1549 - acc: 0.9492\n",
      "Epoch 172/200\n",
      "14560/14560 [==============================] - 1s 36us/step - loss: 0.1548 - acc: 0.9492\n",
      "Epoch 173/200\n",
      "14560/14560 [==============================] - 1s 36us/step - loss: 0.1549 - acc: 0.9492\n",
      "Epoch 174/200\n",
      "14560/14560 [==============================] - 1s 36us/step - loss: 0.1548 - acc: 0.9492\n",
      "Epoch 175/200\n",
      "14560/14560 [==============================] - 1s 37us/step - loss: 0.1547 - acc: 0.9492\n",
      "Epoch 176/200\n",
      "14560/14560 [==============================] - 1s 37us/step - loss: 0.1546 - acc: 0.9492\n",
      "Epoch 177/200\n",
      "14560/14560 [==============================] - 1s 37us/step - loss: 0.1548 - acc: 0.9492\n",
      "Epoch 178/200\n",
      "14560/14560 [==============================] - 1s 36us/step - loss: 0.1545 - acc: 0.9492\n",
      "Epoch 179/200\n",
      "14560/14560 [==============================] - 1s 36us/step - loss: 0.1548 - acc: 0.9492\n",
      "Epoch 180/200\n",
      "14560/14560 [==============================] - 1s 37us/step - loss: 0.1549 - acc: 0.9492\n",
      "Epoch 181/200\n",
      "14560/14560 [==============================] - 1s 36us/step - loss: 0.1546 - acc: 0.9492\n",
      "Epoch 182/200\n",
      "14560/14560 [==============================] - 1s 37us/step - loss: 0.1544 - acc: 0.9492\n",
      "Epoch 183/200\n",
      "14560/14560 [==============================] - 1s 37us/step - loss: 0.1547 - acc: 0.9492\n",
      "Epoch 184/200\n",
      "14560/14560 [==============================] - 1s 37us/step - loss: 0.1546 - acc: 0.9492\n",
      "Epoch 185/200\n",
      "14560/14560 [==============================] - 1s 36us/step - loss: 0.1547 - acc: 0.9492\n",
      "Epoch 186/200\n",
      "14560/14560 [==============================] - 1s 37us/step - loss: 0.1546 - acc: 0.9492\n",
      "Epoch 187/200\n",
      "14560/14560 [==============================] - 1s 37us/step - loss: 0.1545 - acc: 0.9492\n",
      "Epoch 188/200\n",
      "14560/14560 [==============================] - 1s 37us/step - loss: 0.1544 - acc: 0.9492\n",
      "Epoch 189/200\n",
      "14560/14560 [==============================] - 1s 37us/step - loss: 0.1546 - acc: 0.9492\n",
      "Epoch 190/200\n",
      "14560/14560 [==============================] - 1s 36us/step - loss: 0.1545 - acc: 0.9492\n",
      "Epoch 191/200\n",
      "14560/14560 [==============================] - 1s 37us/step - loss: 0.1545 - acc: 0.9492\n",
      "Epoch 192/200\n",
      "14560/14560 [==============================] - 1s 36us/step - loss: 0.1545 - acc: 0.9492\n",
      "Epoch 193/200\n",
      "14560/14560 [==============================] - 1s 36us/step - loss: 0.1547 - acc: 0.9492\n",
      "Epoch 194/200\n",
      "14560/14560 [==============================] - 1s 37us/step - loss: 0.1547 - acc: 0.9492\n",
      "Epoch 195/200\n",
      "14560/14560 [==============================] - 1s 37us/step - loss: 0.1543 - acc: 0.9492\n",
      "Epoch 196/200\n",
      "14560/14560 [==============================] - 1s 38us/step - loss: 0.1545 - acc: 0.9492\n",
      "Epoch 197/200\n",
      "14560/14560 [==============================] - 1s 36us/step - loss: 0.1543 - acc: 0.9492\n",
      "Epoch 198/200\n",
      "14560/14560 [==============================] - 1s 36us/step - loss: 0.1544 - acc: 0.9492\n",
      "Epoch 199/200\n",
      "14560/14560 [==============================] - 1s 36us/step - loss: 0.1542 - acc: 0.9492\n",
      "Epoch 200/200\n",
      "14560/14560 [==============================] - 1s 36us/step - loss: 0.1536 - acc: 0.9492\n"
     ]
    },
    {
     "data": {
      "text/plain": [
       "<keras.callbacks.History at 0x7f52c7d91a20>"
      ]
     },
     "execution_count": 70,
     "metadata": {},
     "output_type": "execute_result"
    }
   ],
   "source": [
    "import keras \n",
    "from keras.models import Sequential # intitialize the ANN\n",
    "from keras.layers import Dense      # create layers\n",
    "\n",
    "# Initialising the NN\n",
    "model = Sequential()\n",
    "\n",
    "# layers\n",
    "model.add(Dense(units = 9, kernel_initializer = 'uniform', activation = 'relu', input_dim = len(features)))\n",
    "model.add(Dense(units = 9, kernel_initializer = 'uniform', activation = 'relu'))\n",
    "model.add(Dense(units = 5, kernel_initializer = 'uniform', activation = 'relu'))\n",
    "model.add(Dense(units = 1, kernel_initializer = 'uniform', activation = 'sigmoid'))\n",
    "\n",
    "# Compiling the ANN\n",
    "model.compile(optimizer = 'adam', loss = 'binary_crossentropy', metrics = ['accuracy'])\n",
    "\n",
    "# Train the ANN\n",
    "model.fit(x_train, y_train, batch_size = 32, epochs = 200)"
   ]
  },
  {
   "cell_type": "code",
   "execution_count": 71,
   "metadata": {},
   "outputs": [
    {
     "data": {
      "text/plain": [
       "0.8494703619419159"
      ]
     },
     "execution_count": 71,
     "metadata": {},
     "output_type": "execute_result"
    }
   ],
   "source": [
    "y_pred = model.predict(x_test)\n",
    "precision = roc_auc_score(y_test,y_pred)\n",
    "precision"
   ]
  },
  {
   "cell_type": "code",
   "execution_count": 235,
   "metadata": {},
   "outputs": [],
   "source": [
    "if precision >= mejor_precision:\n",
    "    mejor_precision = precision\n",
    "    mejores_features = features"
   ]
  },
  {
   "cell_type": "code",
   "execution_count": 236,
   "metadata": {},
   "outputs": [
    {
     "data": {
      "text/plain": [
       "0.8488016543852044"
      ]
     },
     "execution_count": 236,
     "metadata": {},
     "output_type": "execute_result"
    }
   ],
   "source": [
    "mejor_precision"
   ]
  },
  {
   "cell_type": "code",
   "execution_count": 237,
   "metadata": {},
   "outputs": [
    {
     "data": {
      "text/plain": [
       "['ad campaign hit',\n",
       " 'brand listing',\n",
       " 'checkout',\n",
       " 'generic listing',\n",
       " 'search engine hit',\n",
       " 'searched products',\n",
       " 'viewed product',\n",
       " 'max_tiempo_sesion_q_6',\n",
       " 'max_tiempo_sesion_q_7',\n",
       " 'max_tiempo_sesion_q_8',\n",
       " 'max_tiempo_sesion_q_9',\n",
       " 'antiguedad',\n",
       " 'max_sin_convertir',\n",
       " 'dias_sin_convertir',\n",
       " 'convierte_cada_x_dias',\n",
       " 'conversion',\n",
       " 'prom_tiempo_sesion_q_6',\n",
       " 'prom_tiempo_sesion_q_7',\n",
       " 'prom_tiempo_sesion_q_8',\n",
       " 'prom_tiempo_sesion_q_9',\n",
       " 'cant_sesiones_q_6',\n",
       " 'cant_sesiones_q_7',\n",
       " 'cant_sesiones_q_8',\n",
       " 'cant_sesiones_q_9',\n",
       " 'compras_q_6',\n",
       " 'compras_q_7',\n",
       " 'compras_q_8',\n",
       " 'compras_q_9']"
      ]
     },
     "execution_count": 237,
     "metadata": {},
     "output_type": "execute_result"
    }
   ],
   "source": [
    "mejores_features"
   ]
  },
  {
   "cell_type": "code",
   "execution_count": 18,
   "metadata": {
    "scrolled": true
   },
   "outputs": [
    {
     "name": "stdout",
     "output_type": "stream",
     "text": [
      "LogReg: 0.779925 (+/- 0.025818)\n",
      "XGBClassifier: 0.850666 (+/- 0.006848)\n",
      "KNN: 0.665157 (+/- 0.017575)\n",
      "DecisionTreeClassifier: 0.574434 (+/- 0.018969)\n",
      "RandomForestClassifier: 0.729604 (+/- 0.009131)\n",
      "GradientBoostingClassifier: 0.845692 (+/- 0.009243)\n",
      "RidgeClassifier: 0.772071 (+/- 0.023628)\n",
      "BaggingRidgeClassifier: 0.740466 (+/- 0.015502)\n",
      "ExtraTreesClassifier: 0.715687 (+/- 0.013856)\n"
     ]
    },
    {
     "data": {
      "image/png": "[encoded data removed]",
      "text/plain": [
       "<Figure size 1080x432 with 1 Axes>"
      ]
     },
     "metadata": {
      "needs_background": "light"
     },
     "output_type": "display_data"
    }
   ],
   "source": [
    "#Importing the auxiliar and preprocessing librarys \n",
    "from sklearn.metrics import accuracy_score, confusion_matrix, classification_report\n",
    "from sklearn.cross_validation import cross_val_score\n",
    "from sklearn.preprocessing import LabelEncoder, StandardScaler\n",
    "from sklearn.pipeline import Pipeline\n",
    "\n",
    "from sklearn.model_selection import train_test_split, KFold, cross_validate\n",
    "from sklearn.metrics import accuracy_score\n",
    "\n",
    "#Models\n",
    "from sklearn.cluster import KMeans\n",
    "from sklearn.decomposition import PCA\n",
    "from sklearn.svm import SVC\n",
    "from sklearn.linear_model import RidgeClassifier, SGDClassifier, LogisticRegression\n",
    "from sklearn.svm import SVC, LinearSVC\n",
    "from sklearn.neighbors import KNeighborsClassifier\n",
    "from sklearn.tree import DecisionTreeClassifier\n",
    "from xgboost import XGBClassifier\n",
    "from sklearn.naive_bayes import MultinomialNB\n",
    "from sklearn.feature_selection import SelectFromModel\n",
    "from sklearn.ensemble import RandomForestClassifier, GradientBoostingClassifier, ExtraTreesClassifier, BaggingClassifier, VotingClassifier, RandomTreesEmbedding\n",
    "\n",
    "clfs = []\n",
    "seed = 3\n",
    "\n",
    "clfs.append((\"LogReg\", \n",
    "             Pipeline([(\"Scaler\", StandardScaler()),\n",
    "                       (\"LogReg\", LogisticRegression())])))\n",
    "\n",
    "clfs.append((\"XGBClassifier\",\n",
    "             Pipeline([(\"Scaler\", StandardScaler()),\n",
    "                       (\"XGB\", XGBClassifier())]))) \n",
    "clfs.append((\"KNN\", \n",
    "             Pipeline([(\"Scaler\", StandardScaler()),\n",
    "                       (\"KNN\", KNeighborsClassifier())]))) \n",
    "\n",
    "clfs.append((\"DecisionTreeClassifier\", \n",
    "             Pipeline([(\"Scaler\", StandardScaler()),\n",
    "                       (\"DecisionTrees\", DecisionTreeClassifier())]))) \n",
    "\n",
    "clfs.append((\"RandomForestClassifier\", \n",
    "             Pipeline([(\"Scaler\", StandardScaler()),\n",
    "                       (\"RandomForest\", RandomForestClassifier())]))) \n",
    "\n",
    "clfs.append((\"GradientBoostingClassifier\", \n",
    "             Pipeline([(\"Scaler\", StandardScaler()),\n",
    "                       (\"GradientBoosting\", GradientBoostingClassifier(max_features=15, n_estimators=150))]))) \n",
    "clfs.append((\"RidgeClassifier\", \n",
    "             Pipeline([(\"Scaler\", StandardScaler()),\n",
    "                       (\"RidgeClassifier\", RidgeClassifier())])))\n",
    "\n",
    "clfs.append((\"BaggingRidgeClassifier\",\n",
    "             Pipeline([(\"Scaler\", StandardScaler()),\n",
    "                       (\"BaggingClassifier\", BaggingClassifier())])))\n",
    "\n",
    "clfs.append((\"ExtraTreesClassifier\",\n",
    "             Pipeline([(\"Scaler\", StandardScaler()),\n",
    "                       (\"ExtraTrees\", ExtraTreesClassifier())])))\n",
    "\n",
    "#'neg_mean_absolute_error', 'neg_mean_squared_error','r2'\n",
    "scoring = 'roc_auc'\n",
    "n_folds = 7\n",
    "\n",
    "results, names  = [], [] \n",
    "\n",
    "for name, model  in clfs:\n",
    "    kfold = KFold(n_splits=n_folds, random_state=seed)\n",
    "    cv_results = cross_val_score(model, x_train, y_train, cv= 5, scoring=scoring, n_jobs=-1)    \n",
    "    names.append(name)\n",
    "    results.append(cv_results)    \n",
    "    msg = \"%s: %f (+/- %f)\" % (name, cv_results.mean(),  cv_results.std())\n",
    "    print(msg)\n",
    "    \n",
    "# boxplot algorithm comparison\n",
    "fig = plt.figure(figsize=(15,6))\n",
    "fig.suptitle('Classifier Algorithm Comparison', fontsize=22)\n",
    "ax = fig.add_subplot(111)\n",
    "sns.boxplot(x=names, y=results)\n",
    "ax.set_xticklabels(names)\n",
    "ax.set_xlabel(\"Algorithmn\", fontsize=20)\n",
    "ax.set_ylabel(\"Accuracy of Models\", fontsize=18)\n",
    "ax.set_xticklabels(ax.get_xticklabels(),rotation=45)\n",
    "plt.show()"
   ]
  },
  {
   "cell_type": "markdown",
   "metadata": {},
   "source": [
    "### Prediccion del test final"
   ]
  },
  {
   "cell_type": "code",
   "execution_count": 240,
   "metadata": {
    "scrolled": true
   },
   "outputs": [
    {
     "name": "stdout",
     "output_type": "stream",
     "text": [
      "Epoch 1/200\n",
      "19414/19414 [==============================] - 3s 143us/step - loss: 0.2797 - acc: 0.9492\n",
      "Epoch 2/200\n",
      "19414/19414 [==============================] - 1s 64us/step - loss: 0.1869 - acc: 0.9495\n",
      "Epoch 3/200\n",
      "19414/19414 [==============================] - 1s 65us/step - loss: 0.1801 - acc: 0.9495\n",
      "Epoch 4/200\n",
      "19414/19414 [==============================] - 1s 67us/step - loss: 0.1775 - acc: 0.9495\n",
      "Epoch 5/200\n",
      "19414/19414 [==============================] - 1s 66us/step - loss: 0.1754 - acc: 0.9495\n",
      "Epoch 6/200\n",
      "19414/19414 [==============================] - 1s 67us/step - loss: 0.1740 - acc: 0.9495\n",
      "Epoch 7/200\n",
      "19414/19414 [==============================] - 1s 67us/step - loss: 0.1734 - acc: 0.9495\n",
      "Epoch 8/200\n",
      "19414/19414 [==============================] - 1s 64us/step - loss: 0.1724 - acc: 0.9495\n",
      "Epoch 9/200\n",
      "19414/19414 [==============================] - 1s 69us/step - loss: 0.1719 - acc: 0.9495\n",
      "Epoch 10/200\n",
      "19414/19414 [==============================] - 1s 69us/step - loss: 0.1713 - acc: 0.9495\n",
      "Epoch 11/200\n",
      "19414/19414 [==============================] - 1s 71us/step - loss: 0.1707 - acc: 0.9495\n",
      "Epoch 12/200\n",
      "19414/19414 [==============================] - 1s 70us/step - loss: 0.1701 - acc: 0.9495\n",
      "Epoch 13/200\n",
      "19414/19414 [==============================] - 1s 65us/step - loss: 0.1697 - acc: 0.9495\n",
      "Epoch 14/200\n",
      "19414/19414 [==============================] - 1s 63us/step - loss: 0.1696 - acc: 0.9495\n",
      "Epoch 15/200\n",
      "19414/19414 [==============================] - 1s 62us/step - loss: 0.1695 - acc: 0.9495\n",
      "Epoch 16/200\n",
      "19414/19414 [==============================] - 1s 67us/step - loss: 0.1691 - acc: 0.9495\n",
      "Epoch 17/200\n",
      "19414/19414 [==============================] - 1s 71us/step - loss: 0.1687 - acc: 0.9495\n",
      "Epoch 18/200\n",
      "19414/19414 [==============================] - 1s 69us/step - loss: 0.1687 - acc: 0.9495\n",
      "Epoch 19/200\n",
      "19414/19414 [==============================] - 1s 65us/step - loss: 0.1687 - acc: 0.9495\n",
      "Epoch 20/200\n",
      "19414/19414 [==============================] - 1s 61us/step - loss: 0.1686 - acc: 0.9495\n",
      "Epoch 21/200\n",
      "19414/19414 [==============================] - 1s 58us/step - loss: 0.1685 - acc: 0.9495\n",
      "Epoch 22/200\n",
      "19414/19414 [==============================] - 1s 61us/step - loss: 0.1683 - acc: 0.9495\n",
      "Epoch 23/200\n",
      "19414/19414 [==============================] - 1s 59us/step - loss: 0.1682 - acc: 0.9495\n",
      "Epoch 24/200\n",
      "19414/19414 [==============================] - 1s 61us/step - loss: 0.1678 - acc: 0.9495\n",
      "Epoch 25/200\n",
      "19414/19414 [==============================] - 1s 58us/step - loss: 0.1678 - acc: 0.9495\n",
      "Epoch 26/200\n",
      "19414/19414 [==============================] - 1s 64us/step - loss: 0.1674 - acc: 0.9495\n",
      "Epoch 27/200\n",
      "19414/19414 [==============================] - 1s 59us/step - loss: 0.1680 - acc: 0.9495\n",
      "Epoch 28/200\n",
      "19414/19414 [==============================] - 1s 60us/step - loss: 0.1673 - acc: 0.9495\n",
      "Epoch 29/200\n",
      "19414/19414 [==============================] - 1s 59us/step - loss: 0.1674 - acc: 0.9495\n",
      "Epoch 30/200\n",
      "19414/19414 [==============================] - 1s 62us/step - loss: 0.1673 - acc: 0.9495\n",
      "Epoch 31/200\n",
      "19414/19414 [==============================] - 1s 62us/step - loss: 0.1676 - acc: 0.9495\n",
      "Epoch 32/200\n",
      "19414/19414 [==============================] - 1s 64us/step - loss: 0.1671 - acc: 0.9495\n",
      "Epoch 33/200\n",
      "19414/19414 [==============================] - 1s 59us/step - loss: 0.1673 - acc: 0.9495\n",
      "Epoch 34/200\n",
      "19414/19414 [==============================] - 1s 58us/step - loss: 0.1673 - acc: 0.9495\n",
      "Epoch 35/200\n",
      "19414/19414 [==============================] - 1s 58us/step - loss: 0.1669 - acc: 0.9495\n",
      "Epoch 36/200\n",
      "19414/19414 [==============================] - 1s 58us/step - loss: 0.1671 - acc: 0.9495\n",
      "Epoch 37/200\n",
      "19414/19414 [==============================] - 1s 59us/step - loss: 0.1668 - acc: 0.9495\n",
      "Epoch 38/200\n",
      "19414/19414 [==============================] - 1s 60us/step - loss: 0.1665 - acc: 0.9495\n",
      "Epoch 39/200\n",
      "19414/19414 [==============================] - 1s 58us/step - loss: 0.1669 - acc: 0.9495\n",
      "Epoch 40/200\n",
      "19414/19414 [==============================] - 1s 69us/step - loss: 0.1666 - acc: 0.9495\n",
      "Epoch 41/200\n",
      "19414/19414 [==============================] - 1s 59us/step - loss: 0.1666 - acc: 0.9495\n",
      "Epoch 42/200\n",
      "19414/19414 [==============================] - 1s 67us/step - loss: 0.1667 - acc: 0.9495\n",
      "Epoch 43/200\n",
      "19414/19414 [==============================] - 1s 69us/step - loss: 0.1664 - acc: 0.9495\n",
      "Epoch 44/200\n",
      "19414/19414 [==============================] - 1s 66us/step - loss: 0.1664 - acc: 0.9495\n",
      "Epoch 45/200\n",
      "19414/19414 [==============================] - 1s 70us/step - loss: 0.1664 - acc: 0.9495\n",
      "Epoch 46/200\n",
      "19414/19414 [==============================] - 1s 70us/step - loss: 0.1665 - acc: 0.9495\n",
      "Epoch 47/200\n",
      "19414/19414 [==============================] - 1s 73us/step - loss: 0.1659 - acc: 0.9495\n",
      "Epoch 48/200\n",
      "19414/19414 [==============================] - 1s 71us/step - loss: 0.1662 - acc: 0.9495\n",
      "Epoch 49/200\n",
      "19414/19414 [==============================] - 1s 73us/step - loss: 0.1665 - acc: 0.9495\n",
      "Epoch 50/200\n",
      "19414/19414 [==============================] - 1s 69us/step - loss: 0.1660 - acc: 0.9495\n",
      "Epoch 51/200\n",
      "19414/19414 [==============================] - 1s 73us/step - loss: 0.1663 - acc: 0.9495\n",
      "Epoch 52/200\n",
      "19414/19414 [==============================] - 1s 65us/step - loss: 0.1660 - acc: 0.9495\n",
      "Epoch 53/200\n",
      "19414/19414 [==============================] - 1s 66us/step - loss: 0.1656 - acc: 0.9495\n",
      "Epoch 54/200\n",
      "19414/19414 [==============================] - 1s 71us/step - loss: 0.1660 - acc: 0.9495\n",
      "Epoch 55/200\n",
      "19414/19414 [==============================] - 1s 71us/step - loss: 0.1661 - acc: 0.9495\n",
      "Epoch 56/200\n",
      "19414/19414 [==============================] - 1s 64us/step - loss: 0.1661 - acc: 0.9495\n",
      "Epoch 57/200\n",
      "19414/19414 [==============================] - 1s 65us/step - loss: 0.1661 - acc: 0.9495\n",
      "Epoch 58/200\n",
      "19414/19414 [==============================] - 1s 62us/step - loss: 0.1655 - acc: 0.9495\n",
      "Epoch 59/200\n",
      "19414/19414 [==============================] - 1s 62us/step - loss: 0.1658 - acc: 0.9495\n",
      "Epoch 60/200\n",
      "19414/19414 [==============================] - 1s 61us/step - loss: 0.1661 - acc: 0.9495\n",
      "Epoch 61/200\n",
      "19414/19414 [==============================] - 1s 61us/step - loss: 0.1660 - acc: 0.9495\n",
      "Epoch 62/200\n",
      "19414/19414 [==============================] - 1s 64us/step - loss: 0.1656 - acc: 0.9495\n",
      "Epoch 63/200\n",
      "19414/19414 [==============================] - 1s 65us/step - loss: 0.1656 - acc: 0.9495\n",
      "Epoch 64/200\n",
      "19414/19414 [==============================] - 1s 75us/step - loss: 0.1657 - acc: 0.9495\n",
      "Epoch 65/200\n",
      "19414/19414 [==============================] - 1s 69us/step - loss: 0.1655 - acc: 0.9495\n",
      "Epoch 66/200\n",
      "19414/19414 [==============================] - 1s 71us/step - loss: 0.1658 - acc: 0.9495\n",
      "Epoch 67/200\n",
      "19414/19414 [==============================] - 1s 69us/step - loss: 0.1653 - acc: 0.9495\n",
      "Epoch 68/200\n",
      "19414/19414 [==============================] - 1s 72us/step - loss: 0.1655 - acc: 0.9495\n",
      "Epoch 69/200\n",
      "19414/19414 [==============================] - 1s 69us/step - loss: 0.1655 - acc: 0.9495\n",
      "Epoch 70/200\n",
      "19414/19414 [==============================] - 1s 69us/step - loss: 0.1654 - acc: 0.9495\n",
      "Epoch 71/200\n",
      "19414/19414 [==============================] - 1s 71us/step - loss: 0.1654 - acc: 0.9495\n",
      "Epoch 72/200\n",
      "19414/19414 [==============================] - 1s 68us/step - loss: 0.1655 - acc: 0.9495\n",
      "Epoch 73/200\n",
      "19414/19414 [==============================] - 1s 63us/step - loss: 0.1654 - acc: 0.9495\n",
      "Epoch 74/200\n",
      "19414/19414 [==============================] - 1s 67us/step - loss: 0.1652 - acc: 0.9495\n",
      "Epoch 75/200\n",
      "19414/19414 [==============================] - 1s 69us/step - loss: 0.1654 - acc: 0.9495\n",
      "Epoch 76/200\n",
      "19414/19414 [==============================] - 1s 68us/step - loss: 0.1654 - acc: 0.9495\n",
      "Epoch 77/200\n",
      "19414/19414 [==============================] - 1s 67us/step - loss: 0.1653 - acc: 0.9495\n",
      "Epoch 78/200\n",
      "19414/19414 [==============================] - 1s 67us/step - loss: 0.1651 - acc: 0.9495\n",
      "Epoch 79/200\n",
      "19414/19414 [==============================] - 1s 68us/step - loss: 0.1652 - acc: 0.9495\n",
      "Epoch 80/200\n",
      "19414/19414 [==============================] - 1s 67us/step - loss: 0.1659 - acc: 0.9495\n",
      "Epoch 81/200\n"
     ]
    },
    {
     "name": "stdout",
     "output_type": "stream",
     "text": [
      "19414/19414 [==============================] - 1s 64us/step - loss: 0.1653 - acc: 0.9495\n",
      "Epoch 82/200\n",
      "19414/19414 [==============================] - 1s 62us/step - loss: 0.1650 - acc: 0.9495\n",
      "Epoch 83/200\n",
      "19414/19414 [==============================] - 1s 62us/step - loss: 0.1654 - acc: 0.9495\n",
      "Epoch 84/200\n",
      "19414/19414 [==============================] - 1s 62us/step - loss: 0.1652 - acc: 0.9495\n",
      "Epoch 85/200\n",
      "19414/19414 [==============================] - 1s 62us/step - loss: 0.1651 - acc: 0.9495\n",
      "Epoch 86/200\n",
      "19414/19414 [==============================] - 1s 62us/step - loss: 0.1649 - acc: 0.9495\n",
      "Epoch 87/200\n",
      "19414/19414 [==============================] - 1s 62us/step - loss: 0.1650 - acc: 0.9495\n",
      "Epoch 88/200\n",
      "19414/19414 [==============================] - 1s 64us/step - loss: 0.1651 - acc: 0.9495\n",
      "Epoch 89/200\n",
      "19414/19414 [==============================] - 1s 64us/step - loss: 0.1647 - acc: 0.9495\n",
      "Epoch 90/200\n",
      "19414/19414 [==============================] - 1s 62us/step - loss: 0.1650 - acc: 0.9495\n",
      "Epoch 91/200\n",
      "19414/19414 [==============================] - 1s 62us/step - loss: 0.1650 - acc: 0.9495\n",
      "Epoch 92/200\n",
      "19414/19414 [==============================] - 1s 62us/step - loss: 0.1645 - acc: 0.9495\n",
      "Epoch 93/200\n",
      "19414/19414 [==============================] - 1s 63us/step - loss: 0.1648 - acc: 0.9495\n",
      "Epoch 94/200\n",
      "19414/19414 [==============================] - 1s 62us/step - loss: 0.1647 - acc: 0.9495\n",
      "Epoch 95/200\n",
      "19414/19414 [==============================] - 1s 63us/step - loss: 0.1649 - acc: 0.9495\n",
      "Epoch 96/200\n",
      "19414/19414 [==============================] - 1s 66us/step - loss: 0.1649 - acc: 0.9495\n",
      "Epoch 97/200\n",
      "19414/19414 [==============================] - 1s 63us/step - loss: 0.1646 - acc: 0.9495\n",
      "Epoch 98/200\n",
      "19414/19414 [==============================] - 1s 63us/step - loss: 0.1648 - acc: 0.9495\n",
      "Epoch 99/200\n",
      "19414/19414 [==============================] - 1s 63us/step - loss: 0.1647 - acc: 0.9495\n",
      "Epoch 100/200\n",
      "19414/19414 [==============================] - 1s 62us/step - loss: 0.1643 - acc: 0.9495\n",
      "Epoch 101/200\n",
      "19414/19414 [==============================] - 1s 64us/step - loss: 0.1643 - acc: 0.9495\n",
      "Epoch 102/200\n",
      "19414/19414 [==============================] - 1s 65us/step - loss: 0.1645 - acc: 0.9495\n",
      "Epoch 103/200\n",
      "19414/19414 [==============================] - 1s 68us/step - loss: 0.1639 - acc: 0.9495\n",
      "Epoch 104/200\n",
      "19414/19414 [==============================] - 1s 63us/step - loss: 0.1637 - acc: 0.9495\n",
      "Epoch 105/200\n",
      "19414/19414 [==============================] - 1s 63us/step - loss: 0.1637 - acc: 0.9495\n",
      "Epoch 106/200\n",
      "19414/19414 [==============================] - 1s 63us/step - loss: 0.1632 - acc: 0.9495\n",
      "Epoch 107/200\n",
      "19414/19414 [==============================] - 1s 66us/step - loss: 0.1624 - acc: 0.9495\n",
      "Epoch 108/200\n",
      "19414/19414 [==============================] - 1s 64us/step - loss: 0.1619 - acc: 0.9495\n",
      "Epoch 109/200\n",
      "19414/19414 [==============================] - 1s 63us/step - loss: 0.1612 - acc: 0.9495\n",
      "Epoch 110/200\n",
      "19414/19414 [==============================] - 1s 63us/step - loss: 0.1609 - acc: 0.9495\n",
      "Epoch 111/200\n",
      "19414/19414 [==============================] - 1s 63us/step - loss: 0.1599 - acc: 0.9495\n",
      "Epoch 112/200\n",
      "19414/19414 [==============================] - 1s 64us/step - loss: 0.1594 - acc: 0.9495\n",
      "Epoch 113/200\n",
      "19414/19414 [==============================] - 1s 62us/step - loss: 0.1589 - acc: 0.9495\n",
      "Epoch 114/200\n",
      "19414/19414 [==============================] - 1s 64us/step - loss: 0.1581 - acc: 0.9495\n",
      "Epoch 115/200\n",
      "19414/19414 [==============================] - 1s 62us/step - loss: 0.1581 - acc: 0.9495\n",
      "Epoch 116/200\n",
      "19414/19414 [==============================] - 1s 59us/step - loss: 0.1580 - acc: 0.9495\n",
      "Epoch 117/200\n",
      "19414/19414 [==============================] - 1s 61us/step - loss: 0.1574 - acc: 0.9495\n",
      "Epoch 118/200\n",
      "19414/19414 [==============================] - 1s 62us/step - loss: 0.1568 - acc: 0.9495\n",
      "Epoch 119/200\n",
      "19414/19414 [==============================] - 1s 63us/step - loss: 0.1570 - acc: 0.9495\n",
      "Epoch 120/200\n",
      "19414/19414 [==============================] - 1s 62us/step - loss: 0.1567 - acc: 0.9495\n",
      "Epoch 121/200\n",
      "19414/19414 [==============================] - 1s 62us/step - loss: 0.1568 - acc: 0.9495\n",
      "Epoch 122/200\n",
      "19414/19414 [==============================] - 1s 62us/step - loss: 0.1565 - acc: 0.9495\n",
      "Epoch 123/200\n",
      "19414/19414 [==============================] - 1s 62us/step - loss: 0.1565 - acc: 0.9495\n",
      "Epoch 124/200\n",
      "19414/19414 [==============================] - 1s 61us/step - loss: 0.1563 - acc: 0.9495\n",
      "Epoch 125/200\n",
      "19414/19414 [==============================] - 1s 62us/step - loss: 0.1562 - acc: 0.9495\n",
      "Epoch 126/200\n",
      "19414/19414 [==============================] - 1s 62us/step - loss: 0.1561 - acc: 0.9495\n",
      "Epoch 127/200\n",
      "19414/19414 [==============================] - 1s 61us/step - loss: 0.1559 - acc: 0.9495\n",
      "Epoch 128/200\n",
      "19414/19414 [==============================] - 1s 64us/step - loss: 0.1561 - acc: 0.9495\n",
      "Epoch 129/200\n",
      "19414/19414 [==============================] - 1s 63us/step - loss: 0.1553 - acc: 0.9495\n",
      "Epoch 130/200\n",
      "19414/19414 [==============================] - 1s 62us/step - loss: 0.1558 - acc: 0.9495\n",
      "Epoch 131/200\n",
      "19414/19414 [==============================] - 1s 61us/step - loss: 0.1560 - acc: 0.9495\n",
      "Epoch 132/200\n",
      "19414/19414 [==============================] - 1s 62us/step - loss: 0.1554 - acc: 0.9495\n",
      "Epoch 133/200\n",
      "19414/19414 [==============================] - 1s 64us/step - loss: 0.1554 - acc: 0.9495\n",
      "Epoch 134/200\n",
      "19414/19414 [==============================] - 1s 61us/step - loss: 0.1557 - acc: 0.9495\n",
      "Epoch 135/200\n",
      "19414/19414 [==============================] - 1s 62us/step - loss: 0.1556 - acc: 0.9495\n",
      "Epoch 136/200\n",
      "19414/19414 [==============================] - 1s 62us/step - loss: 0.1554 - acc: 0.9495\n",
      "Epoch 137/200\n",
      "19414/19414 [==============================] - 1s 63us/step - loss: 0.1554 - acc: 0.9495\n",
      "Epoch 138/200\n",
      "19414/19414 [==============================] - 1s 62us/step - loss: 0.1551 - acc: 0.9495\n",
      "Epoch 139/200\n",
      "19414/19414 [==============================] - 1s 62us/step - loss: 0.1554 - acc: 0.9495\n",
      "Epoch 140/200\n",
      "19414/19414 [==============================] - 1s 64us/step - loss: 0.1551 - acc: 0.9495\n",
      "Epoch 141/200\n",
      "19414/19414 [==============================] - 1s 62us/step - loss: 0.1553 - acc: 0.9495\n",
      "Epoch 142/200\n",
      "19414/19414 [==============================] - 1s 60us/step - loss: 0.1548 - acc: 0.9495\n",
      "Epoch 143/200\n",
      "19414/19414 [==============================] - 1s 60us/step - loss: 0.1550 - acc: 0.9495\n",
      "Epoch 144/200\n",
      "19414/19414 [==============================] - 1s 63us/step - loss: 0.1546 - acc: 0.9495\n",
      "Epoch 145/200\n",
      "19414/19414 [==============================] - 1s 61us/step - loss: 0.1549 - acc: 0.9495\n",
      "Epoch 146/200\n",
      "19414/19414 [==============================] - 1s 64us/step - loss: 0.1550 - acc: 0.9495\n",
      "Epoch 147/200\n",
      "19414/19414 [==============================] - 1s 62us/step - loss: 0.1547 - acc: 0.9495\n",
      "Epoch 148/200\n",
      "19414/19414 [==============================] - 1s 61us/step - loss: 0.1546 - acc: 0.9495\n",
      "Epoch 149/200\n",
      "19414/19414 [==============================] - 1s 61us/step - loss: 0.1549 - acc: 0.9495\n",
      "Epoch 150/200\n",
      "19414/19414 [==============================] - 1s 61us/step - loss: 0.1546 - acc: 0.9495\n",
      "Epoch 151/200\n",
      "19414/19414 [==============================] - 1s 62us/step - loss: 0.1543 - acc: 0.9495\n",
      "Epoch 152/200\n",
      "19414/19414 [==============================] - 1s 62us/step - loss: 0.1547 - acc: 0.9495\n",
      "Epoch 153/200\n",
      "19414/19414 [==============================] - 1s 62us/step - loss: 0.1547 - acc: 0.9495\n",
      "Epoch 154/200\n",
      "19414/19414 [==============================] - 1s 62us/step - loss: 0.1549 - acc: 0.9495\n",
      "Epoch 155/200\n",
      "19414/19414 [==============================] - 1s 61us/step - loss: 0.1543 - acc: 0.9495\n",
      "Epoch 156/200\n",
      "19414/19414 [==============================] - 1s 61us/step - loss: 0.1542 - acc: 0.9495\n",
      "Epoch 157/200\n",
      "19414/19414 [==============================] - 1s 62us/step - loss: 0.1540 - acc: 0.9495\n",
      "Epoch 158/200\n",
      "19414/19414 [==============================] - 1s 61us/step - loss: 0.1543 - acc: 0.9495\n",
      "Epoch 159/200\n",
      "19414/19414 [==============================] - 1s 60us/step - loss: 0.1547 - acc: 0.9495\n",
      "Epoch 160/200\n"
     ]
    },
    {
     "name": "stdout",
     "output_type": "stream",
     "text": [
      "19414/19414 [==============================] - 1s 62us/step - loss: 0.1542 - acc: 0.9495\n",
      "Epoch 161/200\n",
      "19414/19414 [==============================] - 1s 62us/step - loss: 0.1540 - acc: 0.9495\n",
      "Epoch 162/200\n",
      "19414/19414 [==============================] - 1s 60us/step - loss: 0.1544 - acc: 0.9495\n",
      "Epoch 163/200\n",
      "19414/19414 [==============================] - 1s 61us/step - loss: 0.1545 - acc: 0.9495\n",
      "Epoch 164/200\n",
      "19414/19414 [==============================] - 1s 61us/step - loss: 0.1537 - acc: 0.9495\n",
      "Epoch 165/200\n",
      "19414/19414 [==============================] - 1s 61us/step - loss: 0.1540 - acc: 0.9495\n",
      "Epoch 166/200\n",
      "19414/19414 [==============================] - 1s 63us/step - loss: 0.1540 - acc: 0.9495\n",
      "Epoch 167/200\n",
      "19414/19414 [==============================] - 1s 64us/step - loss: 0.1541 - acc: 0.9495\n",
      "Epoch 168/200\n",
      "19414/19414 [==============================] - 1s 61us/step - loss: 0.1545 - acc: 0.9495\n",
      "Epoch 169/200\n",
      "19414/19414 [==============================] - 1s 60us/step - loss: 0.1540 - acc: 0.9495\n",
      "Epoch 170/200\n",
      "19414/19414 [==============================] - 1s 63us/step - loss: 0.1537 - acc: 0.9495\n",
      "Epoch 171/200\n",
      "19414/19414 [==============================] - 1s 61us/step - loss: 0.1540 - acc: 0.9495\n",
      "Epoch 172/200\n",
      "19414/19414 [==============================] - 1s 63us/step - loss: 0.1538 - acc: 0.9495\n",
      "Epoch 173/200\n",
      "19414/19414 [==============================] - 1s 63us/step - loss: 0.1537 - acc: 0.9495\n",
      "Epoch 174/200\n",
      "19414/19414 [==============================] - 1s 62us/step - loss: 0.1535 - acc: 0.9495\n",
      "Epoch 175/200\n",
      "19414/19414 [==============================] - 1s 62us/step - loss: 0.1537 - acc: 0.9495\n",
      "Epoch 176/200\n",
      "19414/19414 [==============================] - 1s 61us/step - loss: 0.1540 - acc: 0.9495\n",
      "Epoch 177/200\n",
      "19414/19414 [==============================] - 1s 64us/step - loss: 0.1537 - acc: 0.9495\n",
      "Epoch 178/200\n",
      "19414/19414 [==============================] - 1s 62us/step - loss: 0.1538 - acc: 0.9495\n",
      "Epoch 179/200\n",
      "19414/19414 [==============================] - 1s 62us/step - loss: 0.1537 - acc: 0.9495\n",
      "Epoch 180/200\n",
      "19414/19414 [==============================] - 1s 62us/step - loss: 0.1534 - acc: 0.9495\n",
      "Epoch 181/200\n",
      "19414/19414 [==============================] - 1s 61us/step - loss: 0.1535 - acc: 0.9495\n",
      "Epoch 182/200\n",
      "19414/19414 [==============================] - 1s 62us/step - loss: 0.1534 - acc: 0.9495\n",
      "Epoch 183/200\n",
      "19414/19414 [==============================] - 1s 62us/step - loss: 0.1534 - acc: 0.9495\n",
      "Epoch 184/200\n",
      "19414/19414 [==============================] - 1s 63us/step - loss: 0.1536 - acc: 0.9495\n",
      "Epoch 185/200\n",
      "19414/19414 [==============================] - 1s 61us/step - loss: 0.1535 - acc: 0.9495\n",
      "Epoch 186/200\n",
      "19414/19414 [==============================] - 1s 62us/step - loss: 0.1533 - acc: 0.9495\n",
      "Epoch 187/200\n",
      "19414/19414 [==============================] - 1s 61us/step - loss: 0.1533 - acc: 0.9495\n",
      "Epoch 188/200\n",
      "19414/19414 [==============================] - 1s 64us/step - loss: 0.1535 - acc: 0.9495\n",
      "Epoch 189/200\n",
      "19414/19414 [==============================] - 1s 69us/step - loss: 0.1536 - acc: 0.9495\n",
      "Epoch 190/200\n",
      "19414/19414 [==============================] - 1s 65us/step - loss: 0.1535 - acc: 0.9495\n",
      "Epoch 191/200\n",
      "19414/19414 [==============================] - 1s 65us/step - loss: 0.1530 - acc: 0.9495\n",
      "Epoch 192/200\n",
      "19414/19414 [==============================] - 1s 69us/step - loss: 0.1533 - acc: 0.9495\n",
      "Epoch 193/200\n",
      "19414/19414 [==============================] - 1s 64us/step - loss: 0.1534 - acc: 0.9495\n",
      "Epoch 194/200\n",
      "19414/19414 [==============================] - 1s 64us/step - loss: 0.1534 - acc: 0.9495\n",
      "Epoch 195/200\n",
      "19414/19414 [==============================] - 1s 63us/step - loss: 0.1531 - acc: 0.9495\n",
      "Epoch 196/200\n",
      "19414/19414 [==============================] - 1s 66us/step - loss: 0.1532 - acc: 0.9495\n",
      "Epoch 197/200\n",
      "19414/19414 [==============================] - 1s 68us/step - loss: 0.1531 - acc: 0.9495\n",
      "Epoch 198/200\n",
      "19414/19414 [==============================] - 1s 68us/step - loss: 0.1534 - acc: 0.9495\n",
      "Epoch 199/200\n",
      "19414/19414 [==============================] - 1s 65us/step - loss: 0.1529 - acc: 0.9495\n",
      "Epoch 200/200\n",
      "19414/19414 [==============================] - 1s 65us/step - loss: 0.1530 - acc: 0.9495\n"
     ]
    },
    {
     "data": {
      "text/plain": [
       "<keras.callbacks.History at 0x7fb734a0ada0>"
      ]
     },
     "execution_count": 240,
     "metadata": {},
     "output_type": "execute_result"
    }
   ],
   "source": [
    "# Initialising the NN\n",
    "model = Sequential()\n",
    "\n",
    "# layers\n",
    "model.add(Dense(units = 9, kernel_initializer = 'uniform', activation = 'relu', input_dim = len(features)))\n",
    "model.add(Dense(units = 9, kernel_initializer = 'uniform', activation = 'relu'))\n",
    "model.add(Dense(units = 5, kernel_initializer = 'uniform', activation = 'relu'))\n",
    "model.add(Dense(units = 1, kernel_initializer = 'uniform', activation = 'sigmoid'))\n",
    "\n",
    "# Compiling the ANN\n",
    "model.compile(optimizer = 'adam', loss = 'binary_crossentropy', metrics = ['accuracy'])\n",
    "\n",
    "# Train the ANN\n",
    "model.fit(x, y, batch_size = 32, epochs = 200)"
   ]
  },
  {
   "cell_type": "code",
   "execution_count": 248,
   "metadata": {
    "scrolled": true
   },
   "outputs": [],
   "source": [
    "pred_final = model.predict_proba(x_test_final)\n"
   ]
  },
  {
   "cell_type": "code",
   "execution_count": 249,
   "metadata": {},
   "outputs": [],
   "source": [
    "person = np.array(test['person'])"
   ]
  },
  {
   "cell_type": "code",
   "execution_count": 250,
   "metadata": {},
   "outputs": [],
   "source": [
    "person =person.reshape((19415,1))"
   ]
  },
  {
   "cell_type": "code",
   "execution_count": 251,
   "metadata": {},
   "outputs": [],
   "source": [
    "submit = pd.DataFrame(data=np.column_stack((person,pred_final)),columns=['person','label'])\n",
    "\n",
    "#submit = pd.DataFrame({'person':person, 'label':pred_final})"
   ]
  },
  {
   "cell_type": "code",
   "execution_count": 252,
   "metadata": {},
   "outputs": [],
   "source": [
    "\n",
    "\n",
    "\n",
    "submit.to_csv('submit_nn.csv', index=False)"
   ]
  },
  {
   "cell_type": "markdown",
   "metadata": {},
   "source": [
    "## XGBRegressor"
   ]
  },
  {
   "cell_type": "markdown",
   "metadata": {},
   "source": [
    "Mejor resultado = 0.0.8639859666233204\n",
    "\n",
    "Features desde la quincena 4 + eventos_total + conversiones_dias"
   ]
  },
  {
   "cell_type": "markdown",
   "metadata": {},
   "source": [
    "### Set de entrenamiento"
   ]
  },
  {
   "cell_type": "code",
   "execution_count": 19,
   "metadata": {},
   "outputs": [],
   "source": [
    "from xgboost import XGBRegressor"
   ]
  },
  {
   "cell_type": "code",
   "execution_count": 72,
   "metadata": {},
   "outputs": [],
   "source": [
    "xgb = XGBRegressor(base_score=0.5, booster='gbtree', colsample_bylevel=1,\\\n",
    "       colsample_bytree=0.6, gamma=5, learning_rate=0.02, max_delta_step=0,\\\n",
    "       max_depth=5, min_child_weight=5, missing=None, n_estimators=600,\\\n",
    "       n_jobs=1, nthread=1, objective='binary:logistic', random_state=0,\\\n",
    "       reg_alpha=0, reg_lambda=1, scale_pos_weight=1, seed=None,\\\n",
    "       silent=True, subsample=1.0)\n"
   ]
  },
  {
   "cell_type": "code",
   "execution_count": 73,
   "metadata": {
    "scrolled": true
   },
   "outputs": [
    {
     "data": {
      "text/plain": [
       "0.8612835934113567"
      ]
     },
     "execution_count": 73,
     "metadata": {},
     "output_type": "execute_result"
    }
   ],
   "source": [
    "xgb.fit(x_train,y_train)\n",
    "pred = xgb.predict(x_test)\n",
    "roc_auc_score(y_test,pred)"
   ]
  },
  {
   "cell_type": "markdown",
   "metadata": {},
   "source": [
    "### Prediccion del test final"
   ]
  },
  {
   "cell_type": "code",
   "execution_count": 44,
   "metadata": {},
   "outputs": [
    {
     "data": {
      "text/plain": [
       "XGBRegressor(base_score=0.5, booster='gbtree', colsample_bylevel=1,\n",
       "       colsample_bytree=0.6, gamma=5, learning_rate=0.02, max_delta_step=0,\n",
       "       max_depth=5, min_child_weight=5, missing=None, n_estimators=600,\n",
       "       n_jobs=1, nthread=1, objective='binary:logistic', random_state=0,\n",
       "       reg_alpha=0, reg_lambda=1, scale_pos_weight=1, seed=None,\n",
       "       silent=True, subsample=1.0)"
      ]
     },
     "execution_count": 44,
     "metadata": {},
     "output_type": "execute_result"
    }
   ],
   "source": [
    "xgb = XGBRegressor(base_score=0.5, booster='gbtree', colsample_bylevel=1,\\\n",
    "       colsample_bytree=0.6, gamma=5, learning_rate=0.02, max_delta_step=0,\\\n",
    "       max_depth=5, min_child_weight=5, missing=None, n_estimators=600,\\\n",
    "       n_jobs=1, nthread=1, objective='binary:logistic', random_state=0,\\\n",
    "       reg_alpha=0, reg_lambda=1, scale_pos_weight=1, seed=None,\\\n",
    "       silent=True, subsample=1.0)\n",
    "xgb.fit(x,y)"
   ]
  },
  {
   "cell_type": "code",
   "execution_count": 45,
   "metadata": {},
   "outputs": [],
   "source": [
    "pred_final = xgb.predict(x_test_final)\n",
    "person = np.array(test['person'])\n",
    "person =person.reshape((19415,1))\n",
    "submit = pd.DataFrame(data=np.column_stack((person,pred_final)),columns=['person','label'])\n",
    "submit.to_csv('submit_xgb.csv', index=False)"
   ]
  },
  {
   "cell_type": "markdown",
   "metadata": {},
   "source": [
    "# 1. KNN"
   ]
  },
  {
   "cell_type": "markdown",
   "metadata": {},
   "source": [
    "### Valores iniciales para K"
   ]
  },
  {
   "cell_type": "code",
   "execution_count": 29,
   "metadata": {},
   "outputs": [
    {
     "name": "stdout",
     "output_type": "stream",
     "text": [
      "VALORES INICIALES PARA K\n",
      "La precisión para k= 3 es: 0.5047816428261811\n",
      "La precisión para k= 5 es: 0.5002411140008669\n",
      "La precisión para k= 10 es: 0.49978326831382747\n",
      "La precisión para k= 20 es: 0.5\n",
      "La precisión para k= 50 es: 0.5\n",
      "La precisión para k= 60 es: 0.5\n",
      "La precisión para k= 75 es: 0.5\n",
      "La precisión para k= 80 es: 0.5\n",
      "Con k= 3 se obtuvo la mayor precisión: 0.5047816428261811\n",
      "Tiempo de ejecución: 80.58835 seconds.\n"
     ]
    }
   ],
   "source": [
    "t0 = time()\n",
    "\n",
    "print('VALORES INICIALES PARA K')\n",
    "\n",
    "k_valores = [3,5,10,20,50,60,75,80]\n",
    "mejor_k = 0\n",
    "mejor_precision = 0\n",
    "\n",
    "for k in k_valores:\n",
    "    knn = KNeighborsClassifier(n_neighbors=k)\n",
    "    knn.fit(x_train, y_train)\n",
    "    pred = knn.predict(x_test)\n",
    "    precision = roc_auc_score(y_test, pred)\n",
    "    print('La precisión para k=', k, 'es:',precision)\n",
    "    if precision > mejor_precision:\n",
    "        mejor_precision = precision\n",
    "        mejor_k = k\n",
    "        \n",
    "print('Con k=', mejor_k, 'se obtuvo la mayor precisión:', mejor_precision)\n",
    "\n",
    "tf = time() - t0\n",
    "print (\"Tiempo de ejecución: %0.5f seconds.\" % tf)"
   ]
  },
  {
   "cell_type": "markdown",
   "metadata": {},
   "source": [
    "### Valores grid search para K"
   ]
  },
  {
   "cell_type": "code",
   "execution_count": 30,
   "metadata": {
    "scrolled": true
   },
   "outputs": [
    {
     "name": "stdout",
     "output_type": "stream",
     "text": [
      "VALORES GRID SEARCH PARA K\n",
      "La precisión para k = 1 es: 0.5339022540095362\n",
      "La precisión para k = 2 es: 0.502216081491114\n",
      "La precisión para k = 3 es: 0.5047816428261811\n",
      "La precisión para k = 4 es: 0.4992414390983962\n",
      "La precisión para k = 5 es: 0.5002411140008669\n",
      "Con k= 1 se obtuvo la mayor precisión: 0.5339022540095362\n",
      "Tiempo de ejecución: 40.72010 seconds.\n"
     ]
    }
   ],
   "source": [
    "t0 = time()\n",
    "\n",
    "print('VALORES GRID SEARCH PARA K')\n",
    "\n",
    "k_valores = []\n",
    "\n",
    "for i in range(mejor_k-2, mejor_k+3):\n",
    "    k_valores.append(i)\n",
    "    \n",
    "for k in k_valores:\n",
    "    knn = KNeighborsClassifier(n_neighbors=k)\n",
    "    knn.fit(x_train, y_train)\n",
    "    pred = knn.predict(x_test)\n",
    "    precision = roc_auc_score(y_test, pred)\n",
    "    print('La precisión para k =', k, 'es:',precision)\n",
    "    if precision > mejor_precision:\n",
    "        mejor_precision = precision\n",
    "        mejor_k = k\n",
    "        \n",
    "print('Con k=', mejor_k, 'se obtuvo la mayor precisión:', mejor_precision)\n",
    "\n",
    "tf = time() - t0\n",
    "print (\"Tiempo de ejecución: %0.5f seconds.\" % tf)"
   ]
  },
  {
   "cell_type": "code",
   "execution_count": null,
   "metadata": {},
   "outputs": [],
   "source": [
    "if precision >= mejor_precision:\n",
    "    mejor_precision = precision\n",
    "    mejores_features = features"
   ]
  },
  {
   "cell_type": "markdown",
   "metadata": {},
   "source": [
    "### Predecimos el test final con el mejor k obtenido"
   ]
  },
  {
   "cell_type": "code",
   "execution_count": 57,
   "metadata": {},
   "outputs": [],
   "source": [
    "# Creamos el KNN\n",
    "knn = KNeighborsClassifier(n_neighbors=1)\n",
    "\n",
    "# Lo entrenamos con la totalidad del set de datos\n",
    "knn.fit(x,y)\n",
    "\n",
    "# Predecimos las postulaciones del set final\n",
    "pred_final = knn.predict(x_test_final)"
   ]
  },
  {
   "cell_type": "markdown",
   "metadata": {},
   "source": [
    "### Submit File"
   ]
  },
  {
   "cell_type": "code",
   "execution_count": 60,
   "metadata": {},
   "outputs": [],
   "source": [
    "person = test_final['person']\n",
    "\n",
    "submit = pd.DataFrame({'person':person, 'label':pred_final})\n",
    "\n",
    "submit.to_csv('submit_knn.csv', index=False)"
   ]
  },
  {
   "cell_type": "code",
   "execution_count": 62,
   "metadata": {},
   "outputs": [
    {
     "data": {
      "text/plain": [
       "3    700\n",
       "2    531\n",
       "1    527\n",
       "4    367\n",
       "6      2\n",
       "7      1\n",
       "5      1\n",
       "Name: label, dtype: int64"
      ]
     },
     "execution_count": 62,
     "metadata": {},
     "output_type": "execute_result"
    }
   ],
   "source": [
    "submit.groupby('person').count().label.value_counts()"
   ]
  },
  {
   "cell_type": "markdown",
   "metadata": {},
   "source": [
    " "
   ]
  },
  {
   "cell_type": "markdown",
   "metadata": {},
   "source": [
    "# 2. Random Forest"
   ]
  },
  {
   "cell_type": "markdown",
   "metadata": {},
   "source": [
    "### Set de entrenamiento"
   ]
  },
  {
   "cell_type": "code",
   "execution_count": 31,
   "metadata": {},
   "outputs": [
    {
     "name": "stdout",
     "output_type": "stream",
     "text": [
      "Precisión:  0.5\n",
      "Tiempo de ejecución: 0.55150 seconds.\n"
     ]
    }
   ],
   "source": [
    "t0 = time()\n",
    "\n",
    "# Parámetros óptimos\n",
    "params_optimos_rf = {'n_estimators':50, 'max_features':'sqrt', 'max_depth':5, 'min_samples_split':2,\\\n",
    "                     'min_samples_leaf':2, 'bootstrap':True, 'oob_score':True, 'warm_start':True}\n",
    "\n",
    "# Creamos el Random Forest\n",
    "random_forest = RandomForestClassifier(**params_optimos_rf)\n",
    "\n",
    "# Lo entrenamos con nuestro set de entrenamiento\n",
    "random_forest.fit(x_train,y_train)\n",
    "\n",
    "# Predecimos valores de nuestro set de datos\n",
    "pred = random_forest.predict(x_test)\n",
    "\n",
    "# Evaluamos la precisión\n",
    "precision = roc_auc_score(y_test, pred)\n",
    "\n",
    "print(\"Precisión: \", precision)\n",
    "\n",
    "tf = time() - t0\n",
    "print (\"Tiempo de ejecución: %0.5f seconds.\" % tf)"
   ]
  },
  {
   "cell_type": "code",
   "execution_count": null,
   "metadata": {},
   "outputs": [],
   "source": [
    "if precision >= mejor_precision:\n",
    "    mejor_precision = precision\n",
    "    mejores_features = features"
   ]
  },
  {
   "cell_type": "markdown",
   "metadata": {},
   "source": [
    "### Test final"
   ]
  },
  {
   "cell_type": "markdown",
   "metadata": {},
   "source": [
    "#### Predicciones con valores binarios"
   ]
  },
  {
   "cell_type": "code",
   "execution_count": 10,
   "metadata": {},
   "outputs": [
    {
     "ename": "NameError",
     "evalue": "name 'x_test_final' is not defined",
     "output_type": "error",
     "traceback": [
      "\u001b[0;31m---------------------------------------------------------------------------\u001b[0m",
      "\u001b[0;31mNameError\u001b[0m                                 Traceback (most recent call last)",
      "\u001b[0;32m<ipython-input-10-f0f0aaf860a3>\u001b[0m in \u001b[0;36m<module>\u001b[0;34m()\u001b[0m\n\u001b[1;32m      8\u001b[0m \u001b[0;34m\u001b[0m\u001b[0m\n\u001b[1;32m      9\u001b[0m \u001b[0;31m# Predecimos las postulaciones del set final\u001b[0m\u001b[0;34m\u001b[0m\u001b[0;34m\u001b[0m\u001b[0m\n\u001b[0;32m---> 10\u001b[0;31m \u001b[0mpred_final\u001b[0m \u001b[0;34m=\u001b[0m \u001b[0mrandom_forest\u001b[0m\u001b[0;34m.\u001b[0m\u001b[0mpredict\u001b[0m\u001b[0;34m(\u001b[0m\u001b[0mx_test_final\u001b[0m\u001b[0;34m)\u001b[0m\u001b[0;34m\u001b[0m\u001b[0m\n\u001b[0m\u001b[1;32m     11\u001b[0m \u001b[0;34m\u001b[0m\u001b[0m\n\u001b[1;32m     12\u001b[0m \u001b[0mtf\u001b[0m \u001b[0;34m=\u001b[0m \u001b[0mtime\u001b[0m\u001b[0;34m(\u001b[0m\u001b[0;34m)\u001b[0m \u001b[0;34m-\u001b[0m \u001b[0mt0\u001b[0m\u001b[0;34m\u001b[0m\u001b[0m\n",
      "\u001b[0;31mNameError\u001b[0m: name 'x_test_final' is not defined"
     ]
    }
   ],
   "source": [
    "t0 = time()\n",
    "\n",
    "# Creamos el random forest\n",
    "random_forest = RandomForestClassifier(**params_optimos_rf)\n",
    "\n",
    "# Lo entrenamos con la totalidad del set de datos\n",
    "random_forest.fit(x,y)\n",
    "\n",
    "# Predecimos las postulaciones del set final\n",
    "pred_final = random_forest.predict(x_test_final)\n",
    "\n",
    "tf = time() - t0\n",
    "print (\"Tiempo de ejecución: %0.5f seconds.\" % tf)"
   ]
  },
  {
   "cell_type": "markdown",
   "metadata": {},
   "source": [
    "#### Predicciones con probabilidades"
   ]
  },
  {
   "cell_type": "code",
   "execution_count": null,
   "metadata": {},
   "outputs": [],
   "source": [
    "t0 = time()\n",
    "\n",
    "# Creamos el random forest\n",
    "random_forest = RandomForestClassifier(**params_optimos_rf)\n",
    "\n",
    "# Lo entrenamos con la totalidad del set de datos\n",
    "random_forest.fit(x,y)\n",
    "\n",
    "# Predecimos las postulaciones del set final\n",
    "pred_final_proba = random_forest.predict_proba(x_test_final)\n",
    "\n",
    "# Nos quedamos con la columna correspondiente de probabilidades\n",
    "df_predicciones = pd.DataFrame(pred_final_proba)\n",
    "pred_final_proba = np.array(df_predicciones[1])\n",
    "\n",
    "tf = time() - t0\n",
    "print (\"Tiempo de ejecución: %0.5f seconds.\" % tf)"
   ]
  },
  {
   "cell_type": "markdown",
   "metadata": {},
   "source": [
    "### Submit files"
   ]
  },
  {
   "cell_type": "markdown",
   "metadata": {},
   "source": [
    "#### Submit con valores binarios"
   ]
  },
  {
   "cell_type": "code",
   "execution_count": null,
   "metadata": {},
   "outputs": [],
   "source": [
    "#submit = pd.DataFrame({'id':id_aviso_postulante, 'sepostulo':pred_final})\n",
    "#submit.to_csv('submits/submit_random_forest.csv', index=False)"
   ]
  },
  {
   "cell_type": "code",
   "execution_count": null,
   "metadata": {},
   "outputs": [],
   "source": [
    "#submit['sepostulo'].value_counts()\n",
    "roc_auc_score(np.array(test_final['label']),pred_final)"
   ]
  },
  {
   "cell_type": "markdown",
   "metadata": {},
   "source": [
    "#### Submit con probabilidades"
   ]
  },
  {
   "cell_type": "code",
   "execution_count": null,
   "metadata": {},
   "outputs": [],
   "source": [
    "#submit_proba = pd.DataFrame({'id':id_aviso_postulante, 'sepostulo':pred_final_proba})\n",
    "#submit_proba.to_csv('submits/submit_random_forest_proba.csv', index=False)"
   ]
  },
  {
   "cell_type": "code",
   "execution_count": null,
   "metadata": {},
   "outputs": [],
   "source": [
    "#no = submit_proba['sepostulo'] < 0.5\n",
    "#si = submit_proba['sepostulo'] >= 0.5\n",
    "\n",
    "#cant_no = submit_proba.loc[(no)].count()\n",
    "#cant_si = submit_proba.loc[(si)].count()\n",
    "\n",
    "#print(\"0   \", cant_no[1])\n",
    "#print(\"1   \", cant_si[1])\n",
    "#print(\"Name: sepostulo, dtype: int64\")\n",
    "roc_auc_score(np.array(test_final['label']),pred_final_proba)"
   ]
  },
  {
   "cell_type": "markdown",
   "metadata": {},
   "source": [
    " "
   ]
  },
  {
   "cell_type": "markdown",
   "metadata": {},
   "source": [
    "# 3. Extra Trees"
   ]
  },
  {
   "cell_type": "markdown",
   "metadata": {},
   "source": [
    "### Set de entrenamiento"
   ]
  },
  {
   "cell_type": "code",
   "execution_count": 32,
   "metadata": {
    "scrolled": true
   },
   "outputs": [
    {
     "name": "stdout",
     "output_type": "stream",
     "text": [
      "Precisión:  0.5\n",
      "Tiempo de ejecución: 0.73552 seconds.\n"
     ]
    }
   ],
   "source": [
    "t0 = time()\n",
    "\n",
    "# Parámetros óptimos\n",
    "params_optimos_et = {'n_estimators':100, 'max_features':'sqrt', 'max_depth':5, 'min_samples_split':2,\\\n",
    "                     'min_samples_leaf':2, 'bootstrap':True, 'oob_score':True, 'warm_start':True}\n",
    "\n",
    "# Creamos el extra_trees\n",
    "extra_trees = ExtraTreesClassifier(**params_optimos_et)\n",
    "\n",
    "# Lo entrenamos con nuestro set de entrenamiento\n",
    "extra_trees.fit(x_train,y_train)\n",
    "\n",
    "# Predecimos valores de nuestro set de datos\n",
    "pred = extra_trees.predict(x_test)\n",
    "\n",
    "# Evaluamos la precisión\n",
    "precision = roc_auc_score(y_test, pred)\n",
    "\n",
    "print(\"Precisión: \", precision)\n",
    "\n",
    "tf = time() - t0\n",
    "print (\"Tiempo de ejecución: %0.5f seconds.\" % tf)"
   ]
  },
  {
   "cell_type": "code",
   "execution_count": null,
   "metadata": {},
   "outputs": [],
   "source": [
    "if precision >= mejor_precision:\n",
    "    mejor_precision = precision\n",
    "    mejores_features = features"
   ]
  },
  {
   "cell_type": "markdown",
   "metadata": {},
   "source": [
    "### Test final"
   ]
  },
  {
   "cell_type": "markdown",
   "metadata": {},
   "source": [
    "#### Predicciones con valores binarios"
   ]
  },
  {
   "cell_type": "code",
   "execution_count": 9,
   "metadata": {},
   "outputs": [
    {
     "ename": "NameError",
     "evalue": "name 'x_test_final' is not defined",
     "output_type": "error",
     "traceback": [
      "\u001b[0;31m---------------------------------------------------------------------------\u001b[0m",
      "\u001b[0;31mNameError\u001b[0m                                 Traceback (most recent call last)",
      "\u001b[0;32m<ipython-input-9-95395c92302a>\u001b[0m in \u001b[0;36m<module>\u001b[0;34m()\u001b[0m\n\u001b[1;32m      8\u001b[0m \u001b[0;34m\u001b[0m\u001b[0m\n\u001b[1;32m      9\u001b[0m \u001b[0;31m# Predecimos las postulaciones del set final\u001b[0m\u001b[0;34m\u001b[0m\u001b[0;34m\u001b[0m\u001b[0m\n\u001b[0;32m---> 10\u001b[0;31m \u001b[0mpred_final\u001b[0m \u001b[0;34m=\u001b[0m \u001b[0mextra_trees\u001b[0m\u001b[0;34m.\u001b[0m\u001b[0mpredict\u001b[0m\u001b[0;34m(\u001b[0m\u001b[0mx_test_final\u001b[0m\u001b[0;34m)\u001b[0m\u001b[0;34m\u001b[0m\u001b[0m\n\u001b[0m\u001b[1;32m     11\u001b[0m \u001b[0;34m\u001b[0m\u001b[0m\n\u001b[1;32m     12\u001b[0m \u001b[0mtf\u001b[0m \u001b[0;34m=\u001b[0m \u001b[0mtime\u001b[0m\u001b[0;34m(\u001b[0m\u001b[0;34m)\u001b[0m \u001b[0;34m-\u001b[0m \u001b[0mt0\u001b[0m\u001b[0;34m\u001b[0m\u001b[0m\n",
      "\u001b[0;31mNameError\u001b[0m: name 'x_test_final' is not defined"
     ]
    }
   ],
   "source": [
    "t0 = time()\n",
    "\n",
    "# Creamos el extra trees\n",
    "extra_trees = ExtraTreesClassifier(**params_optimos_et)\n",
    "\n",
    "# Lo entrenamos con la totalidad del set de datos\n",
    "extra_trees.fit(x,y)\n",
    "\n",
    "# Predecimos las postulaciones del set final\n",
    "pred_final = extra_trees.predict(x_test_final)\n",
    "\n",
    "tf = time() - t0\n",
    "print (\"Tiempo de ejecución: %0.5f seconds.\" % tf)"
   ]
  },
  {
   "cell_type": "markdown",
   "metadata": {},
   "source": [
    "#### Predicciones con probabilidades"
   ]
  },
  {
   "cell_type": "code",
   "execution_count": null,
   "metadata": {},
   "outputs": [],
   "source": [
    "t0 = time()\n",
    "\n",
    "# Creamos el extra trees\n",
    "extra_trees = ExtraTreesClassifier(**params_optimos_et)\n",
    "\n",
    "# Lo entrenamos con la totalidad del set de datos\n",
    "extra_trees.fit(x,y)\n",
    "\n",
    "# Predecimos las postulaciones del set final\n",
    "pred_final_proba = extra_trees.predict_proba(x_test_final)\n",
    "\n",
    "# Nos quedamos con la columna correspondiente de probabilidades\n",
    "df_predicciones = pd.DataFrame(pred_final_proba)\n",
    "pred_final_proba = np.array(df_predicciones[1])\n",
    "\n",
    "tf = time() - t0\n",
    "print (\"Tiempo de ejecución: %0.5f seconds.\" % tf)"
   ]
  },
  {
   "cell_type": "markdown",
   "metadata": {},
   "source": [
    "### Submit file"
   ]
  },
  {
   "cell_type": "markdown",
   "metadata": {},
   "source": [
    "#### Submit con valores binarios"
   ]
  },
  {
   "cell_type": "code",
   "execution_count": null,
   "metadata": {},
   "outputs": [],
   "source": [
    "#submit = pd.DataFrame({'id':id_aviso_postulante, 'sepostulo':pred_final})\n",
    "#submit.to_csv('submits/submit_extra_trees.csv', index=False)"
   ]
  },
  {
   "cell_type": "code",
   "execution_count": null,
   "metadata": {},
   "outputs": [],
   "source": [
    "#submit['sepostulo'].value_counts()\n",
    "roc_auc_score(np.array(test_final['label']),pred_final)"
   ]
  },
  {
   "cell_type": "markdown",
   "metadata": {},
   "source": [
    "#### Submit con probabilidades"
   ]
  },
  {
   "cell_type": "code",
   "execution_count": null,
   "metadata": {},
   "outputs": [],
   "source": [
    "#submit_proba = pd.DataFrame({'id':id_aviso_postulante, 'sepostulo':pred_final_proba})\n",
    "#submit_proba.to_csv('submits/submit_extra_trees_proba.csv', index=False)\n",
    "roc_auc_score(np.array(test_final['label']),pred_final_proba)"
   ]
  },
  {
   "cell_type": "code",
   "execution_count": null,
   "metadata": {},
   "outputs": [],
   "source": [
    "#no = submit_proba['sepostulo'] < 0.5\n",
    "#si = submit_proba['sepostulo'] >= 0.5\n",
    "\n",
    "#cant_no = submit_proba.loc[(no)].count()\n",
    "#cant_si = submit_proba.loc[(si)].count()\n",
    "\n",
    "#print(\"0   \", cant_no[1])\n",
    "#print(\"1   \", cant_si[1])\n",
    "#print(\"Name: sepostulo, dtype: int64\")"
   ]
  },
  {
   "cell_type": "markdown",
   "metadata": {},
   "source": [
    " "
   ]
  },
  {
   "cell_type": "markdown",
   "metadata": {},
   "source": [
    "# 4. Gaussian Naive Bayes"
   ]
  },
  {
   "cell_type": "markdown",
   "metadata": {},
   "source": [
    "### Set de entrenamiento"
   ]
  },
  {
   "cell_type": "code",
   "execution_count": 48,
   "metadata": {
    "scrolled": true
   },
   "outputs": [
    {
     "name": "stdout",
     "output_type": "stream",
     "text": [
      "Precisión:  0.6076316644993497\n",
      "Tiempo de ejecución: 0.02611 seconds.\n"
     ]
    }
   ],
   "source": [
    "t0 = time()\n",
    "\n",
    "# Creamos el naive bayes\n",
    "naive_bayes = GaussianNB()\n",
    "\n",
    "# Lo entrenamos con nuestro set de entrenamiento\n",
    "naive_bayes.fit(x_train,y_train)\n",
    "\n",
    "# Predecimos valores de nuestro set de datos\n",
    "pred = naive_bayes.predict(x_test)\n",
    "\n",
    "# Evaluamos la precisión\n",
    "precision = roc_auc_score(y_test, pred)\n",
    "\n",
    "print(\"Precisión: \", precision)\n",
    "\n",
    "tf = time() - t0\n",
    "print (\"Tiempo de ejecución: %0.5f seconds.\" % tf)"
   ]
  },
  {
   "cell_type": "code",
   "execution_count": null,
   "metadata": {},
   "outputs": [],
   "source": [
    "if precision >= mejor_precision:\n",
    "    mejor_precision = precision\n",
    "    mejores_features = features"
   ]
  },
  {
   "cell_type": "markdown",
   "metadata": {},
   "source": [
    "### Test final"
   ]
  },
  {
   "cell_type": "markdown",
   "metadata": {},
   "source": [
    "#### Predicciones con valores binarios"
   ]
  },
  {
   "cell_type": "code",
   "execution_count": null,
   "metadata": {},
   "outputs": [],
   "source": [
    "t0 = time()\n",
    "\n",
    "# Creamos el naive bayes\n",
    "naive_bayes = GaussianNB()\n",
    "\n",
    "# Lo entrenamos con la totalidad del set de datos\n",
    "naive_bayes.fit(x,y)\n",
    "\n",
    "# Predecimos las postulaciones del set final\n",
    "pred_final = naive_bayes.predict(x_test_final)\n",
    "\n",
    "tf = time() - t0\n",
    "print (\"Tiempo de ejecución: %0.5f seconds.\" % tf)"
   ]
  },
  {
   "cell_type": "markdown",
   "metadata": {},
   "source": [
    "#### Predicciones con probabilidades"
   ]
  },
  {
   "cell_type": "code",
   "execution_count": null,
   "metadata": {},
   "outputs": [],
   "source": [
    "t0 = time()\n",
    "\n",
    "# Creamos el naive bayes\n",
    "naive_bayes = GaussianNB()\n",
    "\n",
    "# Lo entrenamos con la totalidad del set de datos\n",
    "naive_bayes.fit(x,y)\n",
    "\n",
    "# Predecimos las postulaciones del set final\n",
    "pred_final_proba = naive_bayes.predict_proba(x_test_final)\n",
    "\n",
    "# Nos quedamos con la columna correspondiente de probabilidades\n",
    "df_predicciones = pd.DataFrame(pred_final_proba)\n",
    "pred_final_proba = np.array(df_predicciones[1])\n",
    "\n",
    "tf = time() - t0\n",
    "print (\"Tiempo de ejecución: %0.5f seconds.\" % tf)"
   ]
  },
  {
   "cell_type": "markdown",
   "metadata": {},
   "source": [
    "### Submit file"
   ]
  },
  {
   "cell_type": "markdown",
   "metadata": {},
   "source": [
    "#### Submit con valores binarios"
   ]
  },
  {
   "cell_type": "code",
   "execution_count": null,
   "metadata": {},
   "outputs": [],
   "source": [
    "#submit = pd.DataFrame({'id':id_aviso_postulante, 'sepostulo':pred_final})\n",
    "#submit.to_csv('submits/submit_naive_bayes.csv', index=False)"
   ]
  },
  {
   "cell_type": "code",
   "execution_count": null,
   "metadata": {},
   "outputs": [],
   "source": [
    "#submit['sepostulo'].value_counts()\n",
    "roc_auc_score(np.array(test_final['label']),pred_final)"
   ]
  },
  {
   "cell_type": "markdown",
   "metadata": {},
   "source": [
    "#### Submit con probabilidades"
   ]
  },
  {
   "cell_type": "code",
   "execution_count": null,
   "metadata": {},
   "outputs": [],
   "source": [
    "#submit_proba = pd.DataFrame({'id':id_aviso_postulante, 'sepostulo':pred_final_proba})\n",
    "#submit_proba.to_csv('submits/submit_naive_bayes_proba.csv', index=False)\n",
    "roc_auc_score(np.array(test_final['label']),pred_final_proba)"
   ]
  },
  {
   "cell_type": "code",
   "execution_count": null,
   "metadata": {},
   "outputs": [],
   "source": [
    "#no = submit_proba['sepostulo'] < 0.5\n",
    "#si = submit_proba['sepostulo'] >= 0.5\n",
    "\n",
    "#cant_no = submit_proba.loc[(no)].count()\n",
    "#cant_si = submit_proba.loc[(si)].count()\n",
    "\n",
    "#print(\"0   \", cant_no[1])\n",
    "#print(\"1   \", cant_si[1])\n",
    "#print(\"Name: sepostulo, dtype: int64\")"
   ]
  },
  {
   "cell_type": "markdown",
   "metadata": {},
   "source": [
    " "
   ]
  },
  {
   "cell_type": "markdown",
   "metadata": {},
   "source": [
    "# 5. Perceptron"
   ]
  },
  {
   "cell_type": "markdown",
   "metadata": {},
   "source": [
    "### Set de entrenamiento"
   ]
  },
  {
   "cell_type": "code",
   "execution_count": 34,
   "metadata": {},
   "outputs": [
    {
     "name": "stdout",
     "output_type": "stream",
     "text": [
      "Precisión:  0.5218817728651929\n",
      "Tiempo de ejecución: 0.04009 seconds.\n"
     ]
    }
   ],
   "source": [
    "t0 = time()\n",
    "\n",
    "# Creamos el perceptron\n",
    "perceptron = Perceptron()\n",
    "\n",
    "# Lo entrenamos con nuestro set de entrenamiento\n",
    "perceptron.fit(x_train,y_train)\n",
    "\n",
    "# Predecimos valores de nuestro set de datos\n",
    "pred = perceptron.predict(x_test)\n",
    "\n",
    "# Evaluamos la precisión\n",
    "precision = roc_auc_score(y_test, pred)\n",
    "\n",
    "print(\"Precisión: \", precision)\n",
    "\n",
    "tf = time() - t0\n",
    "print (\"Tiempo de ejecución: %0.5f seconds.\" % tf)"
   ]
  },
  {
   "cell_type": "code",
   "execution_count": null,
   "metadata": {},
   "outputs": [],
   "source": [
    "if precision >= mejor_precision:\n",
    "    mejor_precision = precision\n",
    "    mejores_features = features"
   ]
  },
  {
   "cell_type": "markdown",
   "metadata": {},
   "source": [
    "### Test final"
   ]
  },
  {
   "cell_type": "markdown",
   "metadata": {},
   "source": [
    "#### Predicciones con valores binarios"
   ]
  },
  {
   "cell_type": "code",
   "execution_count": null,
   "metadata": {},
   "outputs": [],
   "source": [
    "t0 = time()\n",
    "\n",
    "# Creamos el perceptron\n",
    "perceptron = Perceptron()\n",
    "\n",
    "# Lo entrenamos con la totalidad del set de datos\n",
    "perceptron.fit(x,y)\n",
    "\n",
    "# Predecimos las postulaciones del set final\n",
    "pred_final = perceptron.predict(x_test_final)\n",
    "\n",
    "tf = time() - t0\n",
    "print (\"Tiempo de ejecución: %0.5f seconds.\" % tf)"
   ]
  },
  {
   "cell_type": "markdown",
   "metadata": {},
   "source": [
    "### Submit file"
   ]
  },
  {
   "cell_type": "code",
   "execution_count": null,
   "metadata": {},
   "outputs": [],
   "source": [
    "#submit = pd.DataFrame({'id':id_aviso_postulante, 'sepostulo':pred_final})\n",
    "#submit.to_csv('submits/submit_perceptron.csv', index=False)"
   ]
  },
  {
   "cell_type": "code",
   "execution_count": null,
   "metadata": {},
   "outputs": [],
   "source": [
    "#submit['sepostulo'].value_counts()\n",
    "roc_auc_score(np.array(test_final['label']),pred_final)"
   ]
  },
  {
   "cell_type": "markdown",
   "metadata": {},
   "source": [
    " "
   ]
  },
  {
   "cell_type": "markdown",
   "metadata": {},
   "source": [
    " "
   ]
  },
  {
   "cell_type": "markdown",
   "metadata": {},
   "source": [
    "# 6. Adaptive Boosting"
   ]
  },
  {
   "cell_type": "markdown",
   "metadata": {},
   "source": [
    "### Set de entrenamiento"
   ]
  },
  {
   "cell_type": "code",
   "execution_count": 35,
   "metadata": {},
   "outputs": [
    {
     "name": "stdout",
     "output_type": "stream",
     "text": [
      "Precisión:  0.5159324880797573\n",
      "Tiempo de ejecución: 1.57698 seconds.\n"
     ]
    }
   ],
   "source": [
    "t0 = time()\n",
    "\n",
    "# Parámetros óptimos\n",
    "params_optimos_ab = {'n_estimators':50}\n",
    "\n",
    "# Creamos el adaptive boosting\n",
    "ada_boost = AdaBoostClassifier(**params_optimos_ab)\n",
    "\n",
    "# Lo entrenamos con nuestro set de entrenamiento\n",
    "ada_boost.fit(x_train,y_train)\n",
    "\n",
    "# Predecimos valores de nuestro set de datos\n",
    "pred = ada_boost.predict(x_test)\n",
    "\n",
    "# Evaluamos la precisión\n",
    "precision = roc_auc_score(y_test, pred)\n",
    "\n",
    "print(\"Precisión: \", precision)\n",
    "\n",
    "tf = time() - t0\n",
    "print (\"Tiempo de ejecución: %0.5f seconds.\" % tf)"
   ]
  },
  {
   "cell_type": "markdown",
   "metadata": {},
   "source": [
    "### Test final"
   ]
  },
  {
   "cell_type": "markdown",
   "metadata": {},
   "source": [
    "#### Predicciones con valores binarios"
   ]
  },
  {
   "cell_type": "code",
   "execution_count": null,
   "metadata": {},
   "outputs": [],
   "source": [
    "t0 = time()\n",
    "\n",
    "# Creamos el adaptive boosting\n",
    "ada_boost = AdaBoostClassifier(**params_optimos_ab)\n",
    "\n",
    "# Lo entrenamos con la totalidad del set de datos\n",
    "ada_boost.fit(x,y)\n",
    "\n",
    "# Predecimos las postulaciones del set final\n",
    "pred_final = ada_boost.predict(x_test_final)\n",
    "\n",
    "tf = time() - t0\n",
    "print (\"Tiempo de ejecución: %0.5f seconds.\" % tf)"
   ]
  },
  {
   "cell_type": "markdown",
   "metadata": {},
   "source": [
    "#### Predicciones con probabilidades"
   ]
  },
  {
   "cell_type": "code",
   "execution_count": null,
   "metadata": {},
   "outputs": [],
   "source": [
    "t0 = time()\n",
    "\n",
    "# Creamos el adaptive boosting\n",
    "ada_boost = AdaBoostClassifier(**params_optimos_ab)\n",
    "\n",
    "# Lo entrenamos con la totalidad del set de datos\n",
    "ada_boost.fit(x,y)\n",
    "\n",
    "# Predecimos las postulaciones del set final\n",
    "pred_final_proba = ada_boost.predict_proba(x_test_final)\n",
    "\n",
    "# Nos quedamos con la columna correspondiente de probabilidades\n",
    "df_predicciones = pd.DataFrame(pred_final_proba)\n",
    "pred_final_proba = np.array(df_predicciones[1])\n",
    "\n",
    "tf = time() - t0\n",
    "print (\"Tiempo de ejecución: %0.5f seconds.\" % tf)"
   ]
  },
  {
   "cell_type": "markdown",
   "metadata": {},
   "source": [
    "### Submit file"
   ]
  },
  {
   "cell_type": "markdown",
   "metadata": {},
   "source": [
    "#### Submit con valores binarios"
   ]
  },
  {
   "cell_type": "code",
   "execution_count": null,
   "metadata": {},
   "outputs": [],
   "source": [
    "#submit = pd.DataFrame({'id':id_aviso_postulante, 'sepostulo':pred_final})\n",
    "#submit.to_csv('submits/submit_ada_boost.csv', index=False)"
   ]
  },
  {
   "cell_type": "code",
   "execution_count": null,
   "metadata": {},
   "outputs": [],
   "source": [
    "#submit['sepostulo'].value_counts()\n",
    "roc_auc_score(np.array(test_final['label']),pred_final)"
   ]
  },
  {
   "cell_type": "markdown",
   "metadata": {},
   "source": [
    "#### Submit con probabilidades"
   ]
  },
  {
   "cell_type": "code",
   "execution_count": null,
   "metadata": {},
   "outputs": [],
   "source": [
    "#submit_proba = pd.DataFrame({'id':id_aviso_postulante, 'sepostulo':pred_final_proba})\n",
    "#submit_proba.to_csv('submits/submit_ada_boost_proba.csv', index=False)\n",
    "roc_auc_score(np.array(test_final['label']),pred_final_proba)"
   ]
  },
  {
   "cell_type": "code",
   "execution_count": null,
   "metadata": {},
   "outputs": [],
   "source": [
    "#no = submit_proba['sepostulo'] < 0.5\n",
    "#si = submit_proba['sepostulo'] >= 0.5\n",
    "\n",
    "#cant_no = submit_proba.loc[(no)].count()\n",
    "#cant_si = submit_proba.loc[(si)].count()\n",
    "\n",
    "#print(\"0   \", cant_no[1])\n",
    "#print(\"1   \", cant_si[1])\n",
    "#print(\"Name: sepostulo, dtype: int64\")"
   ]
  },
  {
   "cell_type": "markdown",
   "metadata": {},
   "source": [
    "# 7. Gradient Boosting"
   ]
  },
  {
   "cell_type": "markdown",
   "metadata": {},
   "source": [
    "### Set de entrenamiento"
   ]
  },
  {
   "cell_type": "code",
   "execution_count": 47,
   "metadata": {},
   "outputs": [
    {
     "name": "stdout",
     "output_type": "stream",
     "text": [
      "Precisión:  0.5234828781967924\n",
      "Tiempo de ejecución: 1.55928 seconds.\n"
     ]
    }
   ],
   "source": [
    "t0 = time()\n",
    "\n",
    "# Parámetros óptimos\n",
    "params_optimos_gb = {'learning_rate':0.1, 'n_estimators':150, 'max_depth':4, 'min_samples_split':2,\\\n",
    "                     'min_samples_leaf':2, 'subsample':0.5, 'max_features':'sqrt', 'warm_start':True}\n",
    "\n",
    "# Creamos el gradient boosting\n",
    "gra_boost = GradientBoostingClassifier(**params_optimos_gb)\n",
    "\n",
    "# Lo entrenamos con nuestro set de entrenamiento\n",
    "gra_boost.fit(x_train,y_train)\n",
    "\n",
    "# Predecimos valores de nuestro set de datos\n",
    "pred = gra_boost.predict(x_test)\n",
    "\n",
    "# Evaluamos la precisión\n",
    "precision = roc_auc_score(y_test, pred)\n",
    "\n",
    "print(\"Precisión: \", precision)\n",
    "\n",
    "tf = time() - t0\n",
    "print (\"Tiempo de ejecución: %0.5f seconds.\" % tf)"
   ]
  },
  {
   "cell_type": "code",
   "execution_count": null,
   "metadata": {},
   "outputs": [],
   "source": [
    "if precision >= mejor_precision:\n",
    "    mejor_precision = precision\n",
    "    mejores_features = features"
   ]
  },
  {
   "cell_type": "markdown",
   "metadata": {},
   "source": [
    "### Test final"
   ]
  },
  {
   "cell_type": "markdown",
   "metadata": {},
   "source": [
    "#### Predicciones con valores binarios"
   ]
  },
  {
   "cell_type": "code",
   "execution_count": null,
   "metadata": {},
   "outputs": [],
   "source": [
    "t0 = time()\n",
    "\n",
    "# Creamos el gradient boosting\n",
    "gra_boost = GradientBoostingClassifier(**params_optimos_gb)\n",
    "\n",
    "# Lo entrenamos con la totalidad del set de datos\n",
    "gra_boost.fit(x,y)\n",
    "\n",
    "# Predecimos las postulaciones del set final\n",
    "pred_final = gra_boost.predict(x_test_final)\n",
    "\n",
    "tf = time() - t0\n",
    "print (\"Tiempo de ejecución: %0.5f seconds.\" % tf)"
   ]
  },
  {
   "cell_type": "markdown",
   "metadata": {},
   "source": [
    "#### Predicciones con probabilidades"
   ]
  },
  {
   "cell_type": "code",
   "execution_count": null,
   "metadata": {},
   "outputs": [],
   "source": [
    "t0 = time()\n",
    "\n",
    "# Creamos el gradient boosting\n",
    "gra_boost = GradientBoostingClassifier(**params_optimos_gb)\n",
    "\n",
    "# Lo entrenamos con la totalidad del set de datos\n",
    "gra_boost.fit(x,y)\n",
    "\n",
    "# Predecimos las postulaciones del set final\n",
    "pred_final_proba = gra_boost.predict_proba(x_test_final)\n",
    "\n",
    "# Nos quedamos con la columna correspondiente de probabilidades\n",
    "df_predicciones = pd.DataFrame(pred_final_proba)\n",
    "pred_final_proba = np.array(df_predicciones[1])\n",
    "\n",
    "tf = time() - t0\n",
    "print (\"Tiempo de ejecución: %0.5f seconds.\" % tf)"
   ]
  },
  {
   "cell_type": "markdown",
   "metadata": {},
   "source": [
    "### Submit file"
   ]
  },
  {
   "cell_type": "markdown",
   "metadata": {},
   "source": [
    "#### Submit con valores binarios"
   ]
  },
  {
   "cell_type": "code",
   "execution_count": null,
   "metadata": {},
   "outputs": [],
   "source": [
    "#submit = pd.DataFrame({'id':id_aviso_postulante, 'sepostulo':pred_final})\n",
    "#submit.to_csv('submits/submit_gra_boost.csv', index=False)\n",
    "roc_auc_score(np.array(test_final['label']),pred_final)"
   ]
  },
  {
   "cell_type": "code",
   "execution_count": null,
   "metadata": {},
   "outputs": [],
   "source": [
    "#submit['sepostulo'].value_counts()"
   ]
  },
  {
   "cell_type": "markdown",
   "metadata": {},
   "source": [
    "#### Submit con probabilidades"
   ]
  },
  {
   "cell_type": "code",
   "execution_count": null,
   "metadata": {},
   "outputs": [],
   "source": [
    "#submit_proba = pd.DataFrame({'id':id_aviso_postulante, 'sepostulo':pred_final_proba})\n",
    "#submit_proba.to_csv('submits/submit_gra_boost_proba.csv', index=False)\n",
    "roc_auc_score(np.array(test_final['label']),pred_final_proba)"
   ]
  },
  {
   "cell_type": "code",
   "execution_count": null,
   "metadata": {},
   "outputs": [],
   "source": [
    "#no = submit_proba['sepostulo'] < 0.5\n",
    "#si = submit_proba['sepostulo'] >= 0.5\n",
    "\n",
    "#cant_no = submit_proba.loc[(no)].count()\n",
    "#cant_si = submit_proba.loc[(si)].count()\n",
    "\n",
    "#print(\"0   \", cant_no[1])\n",
    "#print(\"1   \", cant_si[1])\n",
    "#print(\"Name: sepostulo, dtype: int64\")"
   ]
  },
  {
   "cell_type": "markdown",
   "metadata": {},
   "source": [
    " "
   ]
  },
  {
   "cell_type": "markdown",
   "metadata": {},
   "source": [
    "# 8. Logistic Regression"
   ]
  },
  {
   "cell_type": "markdown",
   "metadata": {},
   "source": [
    "### Set de entrenamiento"
   ]
  },
  {
   "cell_type": "code",
   "execution_count": 46,
   "metadata": {
    "scrolled": true
   },
   "outputs": [
    {
     "name": "stdout",
     "output_type": "stream",
     "text": [
      "Precisión:  0.5177747074122238\n",
      "Tiempo de ejecución: 0.24984 seconds.\n"
     ]
    }
   ],
   "source": [
    "t0 = time()\n",
    "\n",
    "# Creamos el logistic regression\n",
    "log_reg = LogisticRegression()\n",
    "\n",
    "# Lo entrenamos con nuestro set de entrenamiento\n",
    "log_reg.fit(x_train,y_train)\n",
    "\n",
    "# Predecimos valores de nuestro set de datos\n",
    "pred = log_reg.predict(x_test)\n",
    "\n",
    "# Evaluamos la precisión\n",
    "precision = roc_auc_score(y_test, pred)\n",
    "\n",
    "print(\"Precisión: \", precision)\n",
    "\n",
    "tf = time() - t0\n",
    "print (\"Tiempo de ejecución: %0.5f seconds.\" % tf)"
   ]
  },
  {
   "cell_type": "code",
   "execution_count": null,
   "metadata": {},
   "outputs": [],
   "source": [
    "if precision >= mejor_precision:\n",
    "    mejor_precision = precision\n",
    "    mejores_features = features"
   ]
  },
  {
   "cell_type": "markdown",
   "metadata": {},
   "source": [
    "### Test final"
   ]
  },
  {
   "cell_type": "markdown",
   "metadata": {},
   "source": [
    "#### Predicciones con valores binarios"
   ]
  },
  {
   "cell_type": "code",
   "execution_count": null,
   "metadata": {},
   "outputs": [],
   "source": [
    "t0 = time()\n",
    "\n",
    "# Creamos el logistic regression\n",
    "log_reg = LogisticRegression()\n",
    "\n",
    "# Lo entrenamos con la totalidad del set de datos\n",
    "log_reg.fit(x,y)\n",
    "\n",
    "# Predecimos las postulaciones del set final\n",
    "pred_final = log_reg.predict(x_test_final)\n",
    "\n",
    "tf = time() - t0\n",
    "print (\"Tiempo de ejecución: %0.5f seconds.\" % tf)"
   ]
  },
  {
   "cell_type": "markdown",
   "metadata": {},
   "source": [
    "#### Predicciones con probabilidades"
   ]
  },
  {
   "cell_type": "code",
   "execution_count": null,
   "metadata": {},
   "outputs": [],
   "source": [
    "t0 = time()\n",
    "\n",
    "# Creamos el logistic regression\n",
    "log_reg = LogisticRegression()\n",
    "\n",
    "# Lo entrenamos con la totalidad del set de datos\n",
    "log_reg.fit(x,y)\n",
    "\n",
    "# Predecimos las postulaciones del set final\n",
    "pred_final_proba = log_reg.predict_proba(x_test_final)\n",
    "\n",
    "# Nos quedamos con la columna correspondiente de probabilidades\n",
    "df_predicciones = pd.DataFrame(pred_final_proba)\n",
    "pred_final_proba = np.array(df_predicciones[1])\n",
    "\n",
    "tf = time() - t0\n",
    "print (\"Tiempo de ejecución: %0.5f seconds.\" % tf)"
   ]
  },
  {
   "cell_type": "markdown",
   "metadata": {},
   "source": [
    "### Submit file"
   ]
  },
  {
   "cell_type": "markdown",
   "metadata": {},
   "source": [
    "#### Submit con valores binarios"
   ]
  },
  {
   "cell_type": "code",
   "execution_count": null,
   "metadata": {},
   "outputs": [],
   "source": [
    "#submit = pd.DataFrame({'id':id_aviso_postulante, 'sepostulo':pred_final})\n",
    "#submit.to_csv('submits/submit_log_reg.csv', index=False)\n",
    "roc_auc_score(np.array(test_final['label']),pred_final)"
   ]
  },
  {
   "cell_type": "code",
   "execution_count": null,
   "metadata": {},
   "outputs": [],
   "source": [
    "#submit['sepostulo'].value_counts()"
   ]
  },
  {
   "cell_type": "markdown",
   "metadata": {},
   "source": [
    "#### Submit con probabilidades"
   ]
  },
  {
   "cell_type": "code",
   "execution_count": null,
   "metadata": {},
   "outputs": [],
   "source": [
    "#submit_proba = pd.DataFrame({'id':id_aviso_postulante, 'sepostulo':pred_final_proba})\n",
    "#submit_proba.to_csv('submits/submit_log_reg_proba.csv', index=False)\n",
    "roc_auc_score(np.array(test_final['label']),pred_final_proba)"
   ]
  },
  {
   "cell_type": "code",
   "execution_count": null,
   "metadata": {},
   "outputs": [],
   "source": [
    "#no = submit_proba['sepostulo'] < 0.5\n",
    "#si = submit_proba['sepostulo'] >= 0.5\n",
    "\n",
    "#cant_no = submit_proba.loc[(no)].count()\n",
    "#cant_si = submit_proba.loc[(si)].count()\n",
    "\n",
    "#print(\"0   \", cant_no[1])\n",
    "#print(\"1   \", cant_si[1])\n",
    "#print(\"Name: sepostulo, dtype: int64\")"
   ]
  },
  {
   "cell_type": "markdown",
   "metadata": {},
   "source": [
    " "
   ]
  },
  {
   "cell_type": "markdown",
   "metadata": {},
   "source": [
    "# 9. Decision Tree"
   ]
  },
  {
   "cell_type": "markdown",
   "metadata": {},
   "source": [
    "### Set de entrenamiento"
   ]
  },
  {
   "cell_type": "code",
   "execution_count": 53,
   "metadata": {},
   "outputs": [
    {
     "name": "stdout",
     "output_type": "stream",
     "text": [
      "Precisión:  0.5381285218899003\n",
      "Tiempo de ejecución: 0.11892 seconds.\n"
     ]
    }
   ],
   "source": [
    "\n",
    "t0 = time()\n",
    "\n",
    "# Parámetros óptimos\n",
    "params_optimos_dt = {'criterion':'entropy', 'splitter':'best', 'max_depth':None, 'min_samples_split':2,\\\n",
    "                     'min_samples_leaf':2, 'max_features':'sqrt', 'presort':True}\n",
    "\n",
    "# Creamos el logistic regression\n",
    "decision_tree = DecisionTreeClassifier(**params_optimos_dt)\n",
    "\n",
    "# Lo entrenamos con nuestro set de entrenamiento\n",
    "decision_tree.fit(x_train,y_train)\n",
    "\n",
    "# Predecimos valores de nuestro set de datos\n",
    "pred = decision_tree.predict(x_test)\n",
    "\n",
    "# Evaluamos la precisión\n",
    "precision = roc_auc_score(y_test, pred)\n",
    "\n",
    "print(\"Precisión: \", precision)\n",
    "\n",
    "tf = time() - t0\n",
    "print (\"Tiempo de ejecución: %0.5f seconds.\" % tf)"
   ]
  },
  {
   "cell_type": "code",
   "execution_count": null,
   "metadata": {},
   "outputs": [],
   "source": [
    "if precision >= mejor_precision:\n",
    "    mejor_precision = precision\n",
    "    mejores_features = features"
   ]
  },
  {
   "cell_type": "markdown",
   "metadata": {},
   "source": [
    "### Test final"
   ]
  },
  {
   "cell_type": "markdown",
   "metadata": {},
   "source": [
    "#### Predicciones con valores binarios"
   ]
  },
  {
   "cell_type": "code",
   "execution_count": null,
   "metadata": {},
   "outputs": [],
   "source": [
    "t0 = time()\n",
    "\n",
    "# Creamos el decision tree\n",
    "decision_tree = DecisionTreeClassifier(**params_optimos_dt)\n",
    "\n",
    "# Lo entrenamos con la totalidad del set de datos\n",
    "decision_tree.fit(x,y)\n",
    "\n",
    "# Predecimos las postulaciones del set final\n",
    "pred_final = decision_tree.predict(x_test_final)\n",
    "\n",
    "tf = time() - t0\n",
    "print (\"Tiempo de ejecución: %0.5f seconds.\" % tf)"
   ]
  },
  {
   "cell_type": "markdown",
   "metadata": {},
   "source": [
    "#### Predicciones con probabilidades"
   ]
  },
  {
   "cell_type": "code",
   "execution_count": null,
   "metadata": {},
   "outputs": [],
   "source": [
    "t0 = time()\n",
    "\n",
    "# Creamos el decision tree\n",
    "decision_tree = DecisionTreeClassifier(**params_optimos_dt)\n",
    "\n",
    "# Lo entrenamos con la totalidad del set de datos\n",
    "decision_tree.fit(x,y)\n",
    "\n",
    "# Predecimos las postulaciones del set final\n",
    "pred_final_proba = decision_tree.predict_proba(x_test_final)\n",
    "\n",
    "# Nos quedamos con la columna correspondiente de probabilidades\n",
    "df_predicciones = pd.DataFrame(pred_final_proba)\n",
    "pred_final_proba = np.array(df_predicciones[1])\n",
    "\n",
    "tf = time() - t0\n",
    "print (\"Tiempo de ejecución: %0.5f seconds.\" % tf)"
   ]
  },
  {
   "cell_type": "markdown",
   "metadata": {},
   "source": [
    "### Submit file"
   ]
  },
  {
   "cell_type": "markdown",
   "metadata": {},
   "source": [
    "#### Submit con valores binarios"
   ]
  },
  {
   "cell_type": "code",
   "execution_count": null,
   "metadata": {},
   "outputs": [],
   "source": [
    "#submit = pd.DataFrame({'id':id_aviso_postulante, 'sepostulo':pred_final})\n",
    "#submit.to_csv('submits/submit_decision_tree.csv', index=False)\n",
    "roc_auc_score(np.array(test_final['label']),pred_final)"
   ]
  },
  {
   "cell_type": "code",
   "execution_count": null,
   "metadata": {},
   "outputs": [],
   "source": [
    "#submit['sepostulo'].value_counts()"
   ]
  },
  {
   "cell_type": "markdown",
   "metadata": {},
   "source": [
    "#### Submit con probabilidades"
   ]
  },
  {
   "cell_type": "code",
   "execution_count": null,
   "metadata": {},
   "outputs": [],
   "source": [
    "#submit_proba = pd.DataFrame({'id':id_aviso_postulante, 'sepostulo':pred_final_proba})\n",
    "#submit_proba.to_csv('submits/submit_decision_tree_proba.csv', index=False)\n",
    "roc_auc_score(np.array(test_final['label']),pred_final_proba)"
   ]
  },
  {
   "cell_type": "code",
   "execution_count": null,
   "metadata": {},
   "outputs": [],
   "source": [
    "#no = submit_proba['sepostulo'] < 0.5\n",
    "#si = submit_proba['sepostulo'] >= 0.5\n",
    "\n",
    "#cant_no = submit_proba.loc[(no)].count()\n",
    "#cant_si = submit_proba.loc[(si)].count()\n",
    "\n",
    "#print(\"0   \", cant_no[1])\n",
    "#print(\"1   \", cant_si[1])\n",
    "#print(\"Name: sepostulo, dtype: int64\")"
   ]
  },
  {
   "cell_type": "markdown",
   "metadata": {},
   "source": [
    " "
   ]
  },
  {
   "cell_type": "markdown",
   "metadata": {},
   "source": [
    "# 10. Bagging"
   ]
  },
  {
   "cell_type": "markdown",
   "metadata": {},
   "source": [
    "## 10.1 Con Logistic Regression"
   ]
  },
  {
   "cell_type": "markdown",
   "metadata": {},
   "source": [
    "### Set de entrenamiento"
   ]
  },
  {
   "cell_type": "code",
   "execution_count": 52,
   "metadata": {},
   "outputs": [
    {
     "name": "stdout",
     "output_type": "stream",
     "text": [
      "Precisión:  0.5020833333333333\n",
      "Tiempo de ejecución: 14.18607 seconds.\n"
     ]
    }
   ],
   "source": [
    "t0 = time()\n",
    "\n",
    "# Parámetros óptimos\n",
    "params_optimos_bag_lr = {'base_estimator':LogisticRegression(), 'n_estimators':100, 'bootstrap':True,\\\n",
    "                         'bootstrap_features':True, 'oob_score':True, 'warm_start':False}\n",
    "\n",
    "# Creamos el bagging\n",
    "bagging = BaggingClassifier(**params_optimos_bag_lr)\n",
    "\n",
    "# Lo entrenamos con nuestro set de entrenamiento\n",
    "bagging.fit(x_train,y_train)\n",
    "\n",
    "# Predecimos valores de nuestro set de datos\n",
    "pred = bagging.predict(x_test)\n",
    "\n",
    "# Evaluamos la precisión\n",
    "precision = roc_auc_score(y_test, pred)\n",
    "\n",
    "print(\"Precisión: \", precision)\n",
    "\n",
    "tf = time() - t0\n",
    "print (\"Tiempo de ejecución: %0.5f seconds.\" % tf)"
   ]
  },
  {
   "cell_type": "code",
   "execution_count": null,
   "metadata": {},
   "outputs": [],
   "source": [
    "if precision >= mejor_precision:\n",
    "    mejor_precision = precision\n",
    "    mejores_features = features"
   ]
  },
  {
   "cell_type": "markdown",
   "metadata": {},
   "source": [
    "### Test final"
   ]
  },
  {
   "cell_type": "markdown",
   "metadata": {},
   "source": [
    "#### Predicciones con valores binarios"
   ]
  },
  {
   "cell_type": "code",
   "execution_count": null,
   "metadata": {},
   "outputs": [],
   "source": [
    "t0 = time()\n",
    "\n",
    "params_optimos_bag_lr = {'base_estimator':LogisticRegression(), 'n_estimators':100, 'bootstrap':True,\\\n",
    "                         'bootstrap_features':True, 'oob_score':True, 'warm_start':False}\n",
    "\n",
    "# Creamos el bagging\n",
    "bagging = BaggingClassifier(**params_optimos_bag_lr)\n",
    "\n",
    "# Lo entrenamos con la totalidad del set de datos\n",
    "bagging.fit(x,y)\n",
    "\n",
    "# Predecimos las postulaciones del set final\n",
    "pred_final = bagging.predict(x_test_final)\n",
    "\n",
    "tf = time() - t0\n",
    "print (\"Tiempo de ejecución: %0.5f seconds.\" % tf)"
   ]
  },
  {
   "cell_type": "markdown",
   "metadata": {},
   "source": [
    "#### Predicciones con probabilidades"
   ]
  },
  {
   "cell_type": "code",
   "execution_count": null,
   "metadata": {},
   "outputs": [],
   "source": [
    "t0 = time()\n",
    "\n",
    "params_optimos_bag_lr = {'base_estimator':LogisticRegression(), 'n_estimators':100, 'bootstrap':True,\\\n",
    "                         'bootstrap_features':True, 'oob_score':True, 'warm_start':False}\n",
    "\n",
    "# Creamos el bagging\n",
    "bagging = BaggingClassifier(**params_optimos_bag_lr)\n",
    "\n",
    "# Lo entrenamos con la totalidad del set de datos\n",
    "bagging.fit(x,y)\n",
    "\n",
    "# Predecimos las postulaciones del set final\n",
    "pred_final_proba = bagging.predict_proba(x_test_final)\n",
    "\n",
    "# Nos quedamos con la columna correspondiente de probabilidades\n",
    "df_predicciones = pd.DataFrame(pred_final_proba)\n",
    "pred_final_proba = np.array(df_predicciones[1])\n",
    "\n",
    "tf = time() - t0\n",
    "print (\"Tiempo de ejecución: %0.5f seconds.\" % tf)"
   ]
  },
  {
   "cell_type": "markdown",
   "metadata": {},
   "source": [
    "### Submit file"
   ]
  },
  {
   "cell_type": "markdown",
   "metadata": {},
   "source": [
    "#### Submit con valores binarios"
   ]
  },
  {
   "cell_type": "code",
   "execution_count": null,
   "metadata": {},
   "outputs": [],
   "source": [
    "#submit = pd.DataFrame({'id':id_aviso_postulante, 'sepostulo':pred_final})\n",
    "#submit.to_csv('submits/submit_bagging_log_reg.csv', index=False)\n",
    "roc_auc_score(np.array(test_final['label']),pred_final)"
   ]
  },
  {
   "cell_type": "code",
   "execution_count": null,
   "metadata": {},
   "outputs": [],
   "source": [
    "#submit['sepostulo'].value_counts()"
   ]
  },
  {
   "cell_type": "markdown",
   "metadata": {},
   "source": [
    "#### Submit con probabilidades"
   ]
  },
  {
   "cell_type": "code",
   "execution_count": null,
   "metadata": {},
   "outputs": [],
   "source": [
    "#submit_proba = pd.DataFrame({'id':id_aviso_postulante, 'sepostulo':pred_final_proba})\n",
    "#submit_proba.to_csv('submits/submit_bagging_log_reg_proba.csv', index=False)\n",
    "roc_auc_score(np.array(test_final['label']),pred_final_proba)"
   ]
  },
  {
   "cell_type": "code",
   "execution_count": null,
   "metadata": {},
   "outputs": [],
   "source": [
    "#no = submit_proba['sepostulo'] < 0.5\n",
    "#si = submit_proba['sepostulo'] >= 0.5\n",
    "\n",
    "#cant_no = submit_proba.loc[(no)].count()\n",
    "#cant_si = submit_proba.loc[(si)].count()\n",
    "\n",
    "#print(\"0   \", cant_no[1])\n",
    "#print(\"1   \", cant_si[1])\n",
    "#print(\"Name: sepostulo, dtype: int64\")"
   ]
  },
  {
   "cell_type": "markdown",
   "metadata": {},
   "source": [
    "## 10.2 Con Decision Tree"
   ]
  },
  {
   "cell_type": "markdown",
   "metadata": {},
   "source": [
    "### Set de entrenamiento"
   ]
  },
  {
   "cell_type": "code",
   "execution_count": 51,
   "metadata": {},
   "outputs": [
    {
     "name": "stdout",
     "output_type": "stream",
     "text": [
      "Precisión:  0.5100915691374078\n",
      "Tiempo de ejecución: 0.98424 seconds.\n"
     ]
    }
   ],
   "source": [
    "t0 = time()\n",
    "\n",
    "# Parámetros óptimos\n",
    "params_optimos_bag_dt = {'base_estimator':DecisionTreeClassifier(**params_optimos_dt), 'n_estimators':10, 'bootstrap':True,\\\n",
    "                         'bootstrap_features':True, 'oob_score':True, 'warm_start':False}\n",
    "\n",
    "# Creamos el bagging\n",
    "bagging = BaggingClassifier(**params_optimos_bag_dt)\n",
    "\n",
    "# Lo entrenamos con nuestro set de entrenamiento\n",
    "bagging.fit(x_train, y_train)\n",
    "\n",
    "# Predecimos valores de nuestro set de datos\n",
    "pred = bagging.predict(x_test)\n",
    "\n",
    "# Evaluamos la precisión\n",
    "precision = roc_auc_score(y_test, pred)\n",
    "\n",
    "print(\"Precisión: \", precision)\n",
    "\n",
    "tf = time() - t0\n",
    "print (\"Tiempo de ejecución: %0.5f seconds.\" % tf)"
   ]
  },
  {
   "cell_type": "code",
   "execution_count": null,
   "metadata": {},
   "outputs": [],
   "source": [
    "if precision >= mejor_precision:\n",
    "    mejor_precision = precision\n",
    "    mejores_features = features"
   ]
  },
  {
   "cell_type": "markdown",
   "metadata": {},
   "source": [
    "### Test final"
   ]
  },
  {
   "cell_type": "markdown",
   "metadata": {},
   "source": [
    "#### Predicciones con valores binarios"
   ]
  },
  {
   "cell_type": "code",
   "execution_count": null,
   "metadata": {},
   "outputs": [],
   "source": [
    "t0 = time()\n",
    "\n",
    "# Creamos el bagging\n",
    "bagging = BaggingClassifier(**params_optimos_bag_dt)\n",
    "\n",
    "# Lo entrenamos con la totalidad del set de datos\n",
    "bagging.fit(x,y)\n",
    "\n",
    "# Predecimos las postulaciones del set final\n",
    "pred_final = bagging.predict(x_test_final)\n",
    "\n",
    "tf = time() - t0\n",
    "print (\"Tiempo de ejecución: %0.5f seconds.\" % tf)"
   ]
  },
  {
   "cell_type": "markdown",
   "metadata": {},
   "source": [
    "#### Predicciones con probabilidades"
   ]
  },
  {
   "cell_type": "code",
   "execution_count": null,
   "metadata": {},
   "outputs": [],
   "source": [
    "t0 = time()\n",
    "\n",
    "# Creamos el bagging\n",
    "bagging = BaggingClassifier(**params_optimos_bag_dt)\n",
    "\n",
    "# Lo entrenamos con la totalidad del set de datos\n",
    "bagging.fit(x,y)\n",
    "\n",
    "# Predecimos las postulaciones del set final\n",
    "pred_final_proba = bagging.predict_proba(x_test_final)\n",
    "\n",
    "# Nos quedamos con la columna correspondiente de probabilidades\n",
    "df_predicciones = pd.DataFrame(pred_final_proba)\n",
    "pred_final_proba = np.array(df_predicciones[1])\n",
    "\n",
    "tf = time() - t0\n",
    "print (\"Tiempo de ejecución: %0.5f seconds.\" % tf)"
   ]
  },
  {
   "cell_type": "markdown",
   "metadata": {},
   "source": [
    "### Submit file"
   ]
  },
  {
   "cell_type": "markdown",
   "metadata": {},
   "source": [
    "#### Submit con valores binarios"
   ]
  },
  {
   "cell_type": "code",
   "execution_count": null,
   "metadata": {},
   "outputs": [],
   "source": [
    "#submit = pd.DataFrame({'id':id_aviso_postulante, 'sepostulo':pred_final})\n",
    "#submit.to_csv('submits/submit_bagging_decision_tree.csv', index=False)\n",
    "roc_auc_score(np.array(test_final['label']),pred_final)"
   ]
  },
  {
   "cell_type": "code",
   "execution_count": null,
   "metadata": {},
   "outputs": [],
   "source": [
    "#submit['sepostulo'].value_counts()"
   ]
  },
  {
   "cell_type": "markdown",
   "metadata": {},
   "source": [
    "#### Submit con probabilidades"
   ]
  },
  {
   "cell_type": "code",
   "execution_count": null,
   "metadata": {},
   "outputs": [],
   "source": [
    "#submit_proba = pd.DataFrame({'id':id_aviso_postulante, 'sepostulo':pred_final_proba})\n",
    "#submit_proba.to_csv('submits/submit_bagging_decision_tree_proba.csv', index=False)\n",
    "roc_auc_score(np.array(test_final['label']),pred_final_proba)"
   ]
  },
  {
   "cell_type": "code",
   "execution_count": null,
   "metadata": {},
   "outputs": [],
   "source": [
    "#no = submit_proba['sepostulo'] < 0.5\n",
    "#si = submit_proba['sepostulo'] >= 0.5\n",
    "\n",
    "#cant_no = submit_proba.loc[(no)].count()\n",
    "#cant_si = submit_proba.loc[(si)].count()\n",
    "\n",
    "#print(\"0   \", cant_no[1])\n",
    "#print(\"1   \", cant_si[1])\n",
    "#print(\"Name: sepostulo, dtype: int64\")"
   ]
  },
  {
   "cell_type": "markdown",
   "metadata": {},
   "source": [
    " "
   ]
  },
  {
   "cell_type": "markdown",
   "metadata": {},
   "source": [
    "# 11. Voting"
   ]
  },
  {
   "cell_type": "markdown",
   "metadata": {},
   "source": [
    "### Set de entrenamiento"
   ]
  },
  {
   "cell_type": "code",
   "execution_count": 50,
   "metadata": {},
   "outputs": [
    {
     "name": "stdout",
     "output_type": "stream",
     "text": [
      "Precisión:  0.4996749024707412\n",
      "Tiempo de ejecución: 614.03016 seconds.\n"
     ]
    },
    {
     "name": "stderr",
     "output_type": "stream",
     "text": [
      "/home/mariano/ENTER/lib/python3.6/site-packages/sklearn/preprocessing/label.py:151: DeprecationWarning: The truth value of an empty array is ambiguous. Returning False, but in future this will result in an error. Use `array.size > 0` to check that an array is not empty.\n",
      "  if diff:\n"
     ]
    }
   ],
   "source": [
    "# Creamos los estimadores base que utilizaremos para el voting\n",
    "estimador_1 = DecisionTreeClassifier(**params_optimos_dt)\n",
    "estimador_2 = GradientBoostingClassifier(**params_optimos_gb)\n",
    "estimador_3 = ExtraTreesClassifier(**params_optimos_et)\n",
    "\n",
    "# Los agregamos a la lista de estimadores\n",
    "estimadores = []\n",
    "estimadores.append(('Naive Bayes', estimador_1))\n",
    "estimadores.append(('Logistic Regression', estimador_2))\n",
    "estimadores.append(('Random Forest', estimador_3))\n",
    "\n",
    "# Creamos el voting\n",
    "voting = VotingClassifier(estimators=estimadores)\n",
    "\n",
    "# Lo entrenamos con nuestro set de entrenamiento\n",
    "voting.fit(x_train, y_train)\n",
    "\n",
    "# Predecimos valores de nuestro set de datos\n",
    "pred = voting.predict(x_test)\n",
    "\n",
    "# Evaluamos la precisión\n",
    "precision = roc_auc_score(y_test, pred)\n",
    "\n",
    "print(\"Precisión: \", precision)\n",
    "\n",
    "tf = time() - t0\n",
    "print (\"Tiempo de ejecución: %0.5f seconds.\" % tf)"
   ]
  },
  {
   "cell_type": "code",
   "execution_count": null,
   "metadata": {},
   "outputs": [],
   "source": [
    "if precision >= mejor_precision:\n",
    "    mejor_precision = precision\n",
    "    mejores_features = features"
   ]
  },
  {
   "cell_type": "markdown",
   "metadata": {},
   "source": [
    "## Voting NN y XGBRegressor"
   ]
  },
  {
   "cell_type": "code",
   "execution_count": 53,
   "metadata": {},
   "outputs": [
    {
     "ename": "TypeError",
     "evalue": "Cannot clone object '<keras.engine.sequential.Sequential object at 0x7f52e0766d30>' (type <class 'keras.engine.sequential.Sequential'>): it does not seem to be a scikit-learn estimator as it does not implement a 'get_params' methods.",
     "output_type": "error",
     "traceback": [
      "\u001b[0;31m---------------------------------------------------------------------------\u001b[0m",
      "\u001b[0;31mTypeError\u001b[0m                                 Traceback (most recent call last)",
      "\u001b[0;32m<ipython-input-53-0878fb4a04cd>\u001b[0m in \u001b[0;36m<module>\u001b[0;34m()\u001b[0m\n\u001b[1;32m     22\u001b[0m \u001b[0;34m\u001b[0m\u001b[0m\n\u001b[1;32m     23\u001b[0m \u001b[0;31m# Lo entrenamos con nuestro set de entrenamiento\u001b[0m\u001b[0;34m\u001b[0m\u001b[0;34m\u001b[0m\u001b[0m\n\u001b[0;32m---> 24\u001b[0;31m \u001b[0mvoting\u001b[0m\u001b[0;34m.\u001b[0m\u001b[0mfit\u001b[0m\u001b[0;34m(\u001b[0m\u001b[0mx_train\u001b[0m\u001b[0;34m,\u001b[0m \u001b[0my_train\u001b[0m\u001b[0;34m)\u001b[0m\u001b[0;34m\u001b[0m\u001b[0m\n\u001b[0m\u001b[1;32m     25\u001b[0m \u001b[0;34m\u001b[0m\u001b[0m\n\u001b[1;32m     26\u001b[0m \u001b[0;31m# Predecimos valores de nuestro set de datos\u001b[0m\u001b[0;34m\u001b[0m\u001b[0;34m\u001b[0m\u001b[0m\n",
      "\u001b[0;32m~/ENTER/lib/python3.6/site-packages/sklearn/ensemble/voting_classifier.py\u001b[0m in \u001b[0;36mfit\u001b[0;34m(self, X, y, sample_weight)\u001b[0m\n\u001b[1;32m    187\u001b[0m                 delayed(_parallel_fit_estimator)(clone(clf), X, transformed_y,\n\u001b[1;32m    188\u001b[0m                                                  sample_weight=sample_weight)\n\u001b[0;32m--> 189\u001b[0;31m                 for clf in clfs if clf is not None)\n\u001b[0m\u001b[1;32m    190\u001b[0m \u001b[0;34m\u001b[0m\u001b[0m\n\u001b[1;32m    191\u001b[0m         \u001b[0;32mreturn\u001b[0m \u001b[0mself\u001b[0m\u001b[0;34m\u001b[0m\u001b[0m\n",
      "\u001b[0;32m~/ENTER/lib/python3.6/site-packages/sklearn/externals/joblib/parallel.py\u001b[0m in \u001b[0;36m__call__\u001b[0;34m(self, iterable)\u001b[0m\n\u001b[1;32m    777\u001b[0m             \u001b[0;31m# was dispatched. In particular this covers the edge\u001b[0m\u001b[0;34m\u001b[0m\u001b[0;34m\u001b[0m\u001b[0m\n\u001b[1;32m    778\u001b[0m             \u001b[0;31m# case of Parallel used with an exhausted iterator.\u001b[0m\u001b[0;34m\u001b[0m\u001b[0;34m\u001b[0m\u001b[0m\n\u001b[0;32m--> 779\u001b[0;31m             \u001b[0;32mwhile\u001b[0m \u001b[0mself\u001b[0m\u001b[0;34m.\u001b[0m\u001b[0mdispatch_one_batch\u001b[0m\u001b[0;34m(\u001b[0m\u001b[0miterator\u001b[0m\u001b[0;34m)\u001b[0m\u001b[0;34m:\u001b[0m\u001b[0;34m\u001b[0m\u001b[0m\n\u001b[0m\u001b[1;32m    780\u001b[0m                 \u001b[0mself\u001b[0m\u001b[0;34m.\u001b[0m\u001b[0m_iterating\u001b[0m \u001b[0;34m=\u001b[0m \u001b[0;32mTrue\u001b[0m\u001b[0;34m\u001b[0m\u001b[0m\n\u001b[1;32m    781\u001b[0m             \u001b[0;32melse\u001b[0m\u001b[0;34m:\u001b[0m\u001b[0;34m\u001b[0m\u001b[0m\n",
      "\u001b[0;32m~/ENTER/lib/python3.6/site-packages/sklearn/externals/joblib/parallel.py\u001b[0m in \u001b[0;36mdispatch_one_batch\u001b[0;34m(self, iterator)\u001b[0m\n\u001b[1;32m    618\u001b[0m \u001b[0;34m\u001b[0m\u001b[0m\n\u001b[1;32m    619\u001b[0m         \u001b[0;32mwith\u001b[0m \u001b[0mself\u001b[0m\u001b[0;34m.\u001b[0m\u001b[0m_lock\u001b[0m\u001b[0;34m:\u001b[0m\u001b[0;34m\u001b[0m\u001b[0m\n\u001b[0;32m--> 620\u001b[0;31m             \u001b[0mtasks\u001b[0m \u001b[0;34m=\u001b[0m \u001b[0mBatchedCalls\u001b[0m\u001b[0;34m(\u001b[0m\u001b[0mitertools\u001b[0m\u001b[0;34m.\u001b[0m\u001b[0mislice\u001b[0m\u001b[0;34m(\u001b[0m\u001b[0miterator\u001b[0m\u001b[0;34m,\u001b[0m \u001b[0mbatch_size\u001b[0m\u001b[0;34m)\u001b[0m\u001b[0;34m)\u001b[0m\u001b[0;34m\u001b[0m\u001b[0m\n\u001b[0m\u001b[1;32m    621\u001b[0m             \u001b[0;32mif\u001b[0m \u001b[0mlen\u001b[0m\u001b[0;34m(\u001b[0m\u001b[0mtasks\u001b[0m\u001b[0;34m)\u001b[0m \u001b[0;34m==\u001b[0m \u001b[0;36m0\u001b[0m\u001b[0;34m:\u001b[0m\u001b[0;34m\u001b[0m\u001b[0m\n\u001b[1;32m    622\u001b[0m                 \u001b[0;31m# No more tasks available in the iterator: tell caller to stop.\u001b[0m\u001b[0;34m\u001b[0m\u001b[0;34m\u001b[0m\u001b[0m\n",
      "\u001b[0;32m~/ENTER/lib/python3.6/site-packages/sklearn/externals/joblib/parallel.py\u001b[0m in \u001b[0;36m__init__\u001b[0;34m(self, iterator_slice)\u001b[0m\n\u001b[1;32m    125\u001b[0m \u001b[0;34m\u001b[0m\u001b[0m\n\u001b[1;32m    126\u001b[0m     \u001b[0;32mdef\u001b[0m \u001b[0m__init__\u001b[0m\u001b[0;34m(\u001b[0m\u001b[0mself\u001b[0m\u001b[0;34m,\u001b[0m \u001b[0miterator_slice\u001b[0m\u001b[0;34m)\u001b[0m\u001b[0;34m:\u001b[0m\u001b[0;34m\u001b[0m\u001b[0m\n\u001b[0;32m--> 127\u001b[0;31m         \u001b[0mself\u001b[0m\u001b[0;34m.\u001b[0m\u001b[0mitems\u001b[0m \u001b[0;34m=\u001b[0m \u001b[0mlist\u001b[0m\u001b[0;34m(\u001b[0m\u001b[0miterator_slice\u001b[0m\u001b[0;34m)\u001b[0m\u001b[0;34m\u001b[0m\u001b[0m\n\u001b[0m\u001b[1;32m    128\u001b[0m         \u001b[0mself\u001b[0m\u001b[0;34m.\u001b[0m\u001b[0m_size\u001b[0m \u001b[0;34m=\u001b[0m \u001b[0mlen\u001b[0m\u001b[0;34m(\u001b[0m\u001b[0mself\u001b[0m\u001b[0;34m.\u001b[0m\u001b[0mitems\u001b[0m\u001b[0;34m)\u001b[0m\u001b[0;34m\u001b[0m\u001b[0m\n\u001b[1;32m    129\u001b[0m \u001b[0;34m\u001b[0m\u001b[0m\n",
      "\u001b[0;32m~/ENTER/lib/python3.6/site-packages/sklearn/ensemble/voting_classifier.py\u001b[0m in \u001b[0;36m<genexpr>\u001b[0;34m(.0)\u001b[0m\n\u001b[1;32m    187\u001b[0m                 delayed(_parallel_fit_estimator)(clone(clf), X, transformed_y,\n\u001b[1;32m    188\u001b[0m                                                  sample_weight=sample_weight)\n\u001b[0;32m--> 189\u001b[0;31m                 for clf in clfs if clf is not None)\n\u001b[0m\u001b[1;32m    190\u001b[0m \u001b[0;34m\u001b[0m\u001b[0m\n\u001b[1;32m    191\u001b[0m         \u001b[0;32mreturn\u001b[0m \u001b[0mself\u001b[0m\u001b[0;34m\u001b[0m\u001b[0m\n",
      "\u001b[0;32m~/ENTER/lib/python3.6/site-packages/sklearn/base.py\u001b[0m in \u001b[0;36mclone\u001b[0;34m(estimator, safe)\u001b[0m\n\u001b[1;32m     56\u001b[0m                             \u001b[0;34m\"it does not seem to be a scikit-learn estimator \"\u001b[0m\u001b[0;34m\u001b[0m\u001b[0m\n\u001b[1;32m     57\u001b[0m                             \u001b[0;34m\"as it does not implement a 'get_params' methods.\"\u001b[0m\u001b[0;34m\u001b[0m\u001b[0m\n\u001b[0;32m---> 58\u001b[0;31m                             % (repr(estimator), type(estimator)))\n\u001b[0m\u001b[1;32m     59\u001b[0m     \u001b[0mklass\u001b[0m \u001b[0;34m=\u001b[0m \u001b[0mestimator\u001b[0m\u001b[0;34m.\u001b[0m\u001b[0m__class__\u001b[0m\u001b[0;34m\u001b[0m\u001b[0m\n\u001b[1;32m     60\u001b[0m     \u001b[0mnew_object_params\u001b[0m \u001b[0;34m=\u001b[0m \u001b[0mestimator\u001b[0m\u001b[0;34m.\u001b[0m\u001b[0mget_params\u001b[0m\u001b[0;34m(\u001b[0m\u001b[0mdeep\u001b[0m\u001b[0;34m=\u001b[0m\u001b[0;32mFalse\u001b[0m\u001b[0;34m)\u001b[0m\u001b[0;34m\u001b[0m\u001b[0m\n",
      "\u001b[0;31mTypeError\u001b[0m: Cannot clone object '<keras.engine.sequential.Sequential object at 0x7f52e0766d30>' (type <class 'keras.engine.sequential.Sequential'>): it does not seem to be a scikit-learn estimator as it does not implement a 'get_params' methods."
     ]
    }
   ],
   "source": [
    "# Initialising the NN\n",
    "model = Sequential()\n",
    "\n",
    "# layers\n",
    "model.add(Dense(units = 9, kernel_initializer = 'uniform', activation = 'relu', input_dim = len(features)))\n",
    "model.add(Dense(units = 9, kernel_initializer = 'uniform', activation = 'relu'))\n",
    "model.add(Dense(units = 5, kernel_initializer = 'uniform', activation = 'relu'))\n",
    "model.add(Dense(units = 1, kernel_initializer = 'uniform', activation = 'sigmoid'))\n",
    "\n",
    "# Compiling the ANN\n",
    "model.compile(optimizer = 'adam', loss = 'binary_crossentropy', metrics = ['accuracy'])\n",
    "\n",
    "estimador_1 = model\n",
    "estimador_2 = XGBRegressor(base_score=0.5, booster='gbtree', colsample_bylevel=1,\\\n",
    "       colsample_bytree=0.6, gamma=5, learning_rate=0.02, max_delta_step=0,\\\n",
    "       max_depth=5, min_child_weight=5, missing=None, n_estimators=600,\\\n",
    "       n_jobs=1, nthread=1, objective='binary:logistic', random_state=0,\\\n",
    "       reg_alpha=0, reg_lambda=1, scale_pos_weight=1, seed=None,\\\n",
    "       silent=True, subsample=1.0)\n",
    "\n",
    "estimadores = []\n",
    "estimadores.append(('NN', estimador_1))\n",
    "estimadores.append(('XGBRegressor', estimador_2))\n",
    "\n",
    "# Creamos el voting\n",
    "voting = VotingClassifier(estimators=estimadores)\n",
    "\n",
    "# Lo entrenamos con nuestro set de entrenamiento\n",
    "voting.fit(x_train, y_train)\n",
    "\n",
    "# Predecimos valores de nuestro set de datos\n",
    "pred = voting.predict(x_test)\n",
    "\n",
    "# Evaluamos la precisión\n",
    "precision = roc_auc_score(y_test, pred)\n",
    "\n",
    "print(\"Precisión: \", precision)\n"
   ]
  },
  {
   "cell_type": "markdown",
   "metadata": {},
   "source": [
    "### Test final"
   ]
  },
  {
   "cell_type": "markdown",
   "metadata": {},
   "source": [
    "#### Predicciones con valores binarios"
   ]
  },
  {
   "cell_type": "code",
   "execution_count": null,
   "metadata": {},
   "outputs": [],
   "source": [
    "t0 = time()\n",
    "\n",
    "# Creamos el voting\n",
    "voting = VotingClassifier(estimators=estimadores)\n",
    "\n",
    "# Lo entrenamos con la totalidad del set de datos\n",
    "voting.fit(x,y)\n",
    "\n",
    "# Predecimos las postulaciones del set final\n",
    "pred_final = voting.predict(x_test_final)\n",
    "\n",
    "tf = time() - t0\n",
    "print (\"Tiempo de ejecución: %0.5f seconds.\" % tf)"
   ]
  },
  {
   "cell_type": "markdown",
   "metadata": {},
   "source": [
    "### Submit file"
   ]
  },
  {
   "cell_type": "markdown",
   "metadata": {},
   "source": [
    "#### Submit con valores binarios"
   ]
  },
  {
   "cell_type": "code",
   "execution_count": null,
   "metadata": {},
   "outputs": [],
   "source": [
    "#submit = pd.DataFrame({'id':id_aviso_postulante, 'sepostulo':pred_final})\n",
    "#submit.to_csv('submits/submit_voting.csv', index=False)\n",
    "roc_auc_score(np.array(test_final['label']),pred_final)"
   ]
  },
  {
   "cell_type": "code",
   "execution_count": null,
   "metadata": {},
   "outputs": [],
   "source": [
    "#submit['sepostulo'].value_counts()"
   ]
  },
  {
   "cell_type": "markdown",
   "metadata": {},
   "source": [
    " "
   ]
  },
  {
   "cell_type": "markdown",
   "metadata": {},
   "source": [
    "# 12. XGBoost"
   ]
  },
  {
   "cell_type": "markdown",
   "metadata": {},
   "source": [
    "### Grid Search"
   ]
  },
  {
   "cell_type": "code",
   "execution_count": 42,
   "metadata": {
    "scrolled": true
   },
   "outputs": [
    {
     "name": "stdout",
     "output_type": "stream",
     "text": [
      "Fitting 20 folds for each of 1 candidates, totalling 20 fits\n",
      "[CV] subsample=1.0, min_child_weight=5, max_depth=5, gamma=5, colsample_bytree=0.6 \n",
      "[CV] subsample=1.0, min_child_weight=5, max_depth=5, gamma=5, colsample_bytree=0.6 \n",
      "[CV] subsample=1.0, min_child_weight=5, max_depth=5, gamma=5, colsample_bytree=0.6 \n",
      "[CV] subsample=1.0, min_child_weight=5, max_depth=5, gamma=5, colsample_bytree=0.6 \n",
      "[CV]  subsample=1.0, min_child_weight=5, max_depth=5, gamma=5, colsample_bytree=0.6, score=0.8046836956040551, total=  32.8s\n",
      "[CV] subsample=1.0, min_child_weight=5, max_depth=5, gamma=5, colsample_bytree=0.6 \n",
      "[CV]  subsample=1.0, min_child_weight=5, max_depth=5, gamma=5, colsample_bytree=0.6, score=0.8560693257780336, total=  39.2s\n",
      "[CV] subsample=1.0, min_child_weight=5, max_depth=5, gamma=5, colsample_bytree=0.6 \n",
      "[CV]  subsample=1.0, min_child_weight=5, max_depth=5, gamma=5, colsample_bytree=0.6, score=0.8575523484882022, total=  43.2s\n",
      "[CV] subsample=1.0, min_child_weight=5, max_depth=5, gamma=5, colsample_bytree=0.6 \n",
      "[CV]  subsample=1.0, min_child_weight=5, max_depth=5, gamma=5, colsample_bytree=0.6, score=0.8422572933728806, total=  43.3s\n",
      "[CV] subsample=1.0, min_child_weight=5, max_depth=5, gamma=5, colsample_bytree=0.6 \n",
      "[CV]  subsample=1.0, min_child_weight=5, max_depth=5, gamma=5, colsample_bytree=0.6, score=0.8622559652928417, total=  40.5s\n",
      "[CV] subsample=1.0, min_child_weight=5, max_depth=5, gamma=5, colsample_bytree=0.6 \n",
      "[CV]  subsample=1.0, min_child_weight=5, max_depth=5, gamma=5, colsample_bytree=0.6, score=0.8101177564301209, total=  40.0s\n",
      "[CV] subsample=1.0, min_child_weight=5, max_depth=5, gamma=5, colsample_bytree=0.6 \n",
      "[CV]  subsample=1.0, min_child_weight=5, max_depth=5, gamma=5, colsample_bytree=0.6, score=0.8811368365133472, total=  40.7s\n",
      "[CV]  subsample=1.0, min_child_weight=5, max_depth=5, gamma=5, colsample_bytree=0.6, score=0.8494067909159325, total=  40.9s\n",
      "[CV] subsample=1.0, min_child_weight=5, max_depth=5, gamma=5, colsample_bytree=0.6 \n",
      "[CV] subsample=1.0, min_child_weight=5, max_depth=5, gamma=5, colsample_bytree=0.6 \n",
      "[CV]  subsample=1.0, min_child_weight=5, max_depth=5, gamma=5, colsample_bytree=0.6, score=0.829585196334499, total=  38.6s\n",
      "[CV] subsample=1.0, min_child_weight=5, max_depth=5, gamma=5, colsample_bytree=0.6 \n",
      "[CV]  subsample=1.0, min_child_weight=5, max_depth=5, gamma=5, colsample_bytree=0.6, score=0.8901567134445968, total=  40.2s\n",
      "[CV] subsample=1.0, min_child_weight=5, max_depth=5, gamma=5, colsample_bytree=0.6 \n",
      "[CV]  subsample=1.0, min_child_weight=5, max_depth=5, gamma=5, colsample_bytree=0.6, score=0.8791447164549115, total=  36.2s\n",
      "[CV] subsample=1.0, min_child_weight=5, max_depth=5, gamma=5, colsample_bytree=0.6 \n",
      "[CV]  subsample=1.0, min_child_weight=5, max_depth=5, gamma=5, colsample_bytree=0.6, score=0.8584266678471821, total=  40.2s\n",
      "[CV] subsample=1.0, min_child_weight=5, max_depth=5, gamma=5, colsample_bytree=0.6 \n",
      "[CV]  subsample=1.0, min_child_weight=5, max_depth=5, gamma=5, colsample_bytree=0.6, score=0.8707556775421667, total=  38.8s\n",
      "[CV] subsample=1.0, min_child_weight=5, max_depth=5, gamma=5, colsample_bytree=0.6 \n",
      "[CV]  subsample=1.0, min_child_weight=5, max_depth=5, gamma=5, colsample_bytree=0.6, score=0.859024303864713, total=  37.0s\n",
      "[CV] subsample=1.0, min_child_weight=5, max_depth=5, gamma=5, colsample_bytree=0.6 \n",
      "[CV]  subsample=1.0, min_child_weight=5, max_depth=5, gamma=5, colsample_bytree=0.6, score=0.8838219326818675, total=  32.8s\n",
      "[CV] subsample=1.0, min_child_weight=5, max_depth=5, gamma=5, colsample_bytree=0.6 \n",
      "[CV]  subsample=1.0, min_child_weight=5, max_depth=5, gamma=5, colsample_bytree=0.6, score=0.8769748941922045, total=  40.3s\n",
      "[CV] subsample=1.0, min_child_weight=5, max_depth=5, gamma=5, colsample_bytree=0.6 \n",
      "[CV]  subsample=1.0, min_child_weight=5, max_depth=5, gamma=5, colsample_bytree=0.6, score=0.83413104655543, total=  38.1s\n",
      "[CV]  subsample=1.0, min_child_weight=5, max_depth=5, gamma=5, colsample_bytree=0.6, score=0.8591703782490197, total=  35.6s\n",
      "[CV]  subsample=1.0, min_child_weight=5, max_depth=5, gamma=5, colsample_bytree=0.6, score=0.831948414544971, total=  34.1s\n",
      "[CV]  subsample=1.0, min_child_weight=5, max_depth=5, gamma=5, colsample_bytree=0.6, score=0.8675574464313413, total=  38.7s\n"
     ]
    },
    {
     "name": "stderr",
     "output_type": "stream",
     "text": [
      "[Parallel(n_jobs=4)]: Done  20 out of  20 | elapsed:  3.3min remaining:    0.0s\n",
      "[Parallel(n_jobs=4)]: Done  20 out of  20 | elapsed:  3.3min finished\n"
     ]
    },
    {
     "name": "stdout",
     "output_type": "stream",
     "text": [
      "\n",
      " Best estimator:\n",
      "XGBClassifier(base_score=0.5, booster='gbtree', colsample_bylevel=1,\n",
      "       colsample_bytree=0.6, gamma=5, learning_rate=0.02, max_delta_step=0,\n",
      "       max_depth=5, min_child_weight=5, missing=None, n_estimators=600,\n",
      "       n_jobs=1, nthread=1, objective='binary:logistic', random_state=0,\n",
      "       reg_alpha=0, reg_lambda=1, scale_pos_weight=1, seed=None,\n",
      "       silent=True, subsample=1.0)\n",
      "\n",
      " Best normalized gini score for 20-fold search with 1 parameter combinations:\n",
      "0.7104154374997476\n",
      "\n",
      " Best hyperparameters:\n",
      "{'subsample': 1.0, 'min_child_weight': 5, 'max_depth': 5, 'gamma': 5, 'colsample_bytree': 0.6}\n",
      "Tiempo de ejecución: 223.66826 seconds.\n"
     ]
    }
   ],
   "source": [
    "from sklearn.model_selection import RandomizedSearchCV, GridSearchCV\n",
    "from sklearn.model_selection import StratifiedKFold\n",
    "\n",
    "t0 = time()\n",
    "params = {\n",
    "        'min_child_weight': [1, 5, 10],\n",
    "        'gamma': [0.5, 1, 1.5, 2, 5],\n",
    "        'subsample': [0.6, 0.8, 1.0],\n",
    "        'colsample_bytree': [0.6, 0.8, 1.0],\n",
    "        'max_depth': [3, 4, 5]\n",
    "        }\n",
    "\n",
    "params = {\n",
    "        'min_child_weight': [5],\n",
    "        'gamma': [5],\n",
    "        'subsample': [1.0],\n",
    "        'colsample_bytree': [0.6],\n",
    "        'max_depth': [5]\n",
    "        }\n",
    "\n",
    "\n",
    "# Creamos el xgboost\n",
    "xgboost = xgb.XGBClassifier(learning_rate=0.02,silent=True, \\\n",
    "        nthread=1,base_score=0.5, booster='gbtree',\\\n",
    "       colsample_bytree=0.6, gamma=5,max_delta_step=0,random_state=0,\\\n",
    "       max_depth=5, min_child_weight=5, missing=None, n_estimators=600,\\\n",
    "       n_jobs=1, objective='binary:logistic',subsample=1.0,\\\n",
    "       reg_alpha=0, reg_lambda=1, scale_pos_weight=1,seed=None)\n",
    "# ,\n",
    "#s\n",
    "#,\n",
    "folds = 20\n",
    "param_comb = 1\n",
    "\n",
    "skf = StratifiedKFold(n_splits=folds, shuffle = True, random_state = 1001)\n",
    "\n",
    "random_search = RandomizedSearchCV(xgboost,param_distributions=params,\\\n",
    "                                   n_iter=1, scoring='roc_auc',\\\n",
    "                                   n_jobs=4, cv=skf.split(x,y), verbose=3,\\\n",
    "                                   random_state=1001 )\n",
    "\n",
    "random_search.fit(x,y)\n",
    "\n",
    "print('\\n Best estimator:')\n",
    "print(random_search.best_estimator_)\n",
    "print('\\n Best normalized gini score for %d-fold search with %d parameter combinations:' % (folds, param_comb))\n",
    "print(random_search.best_score_ * 2 - 1)\n",
    "print('\\n Best hyperparameters:')\n",
    "print(random_search.best_params_)\n",
    "\n",
    "tf = time() - t0\n",
    "print (\"Tiempo de ejecución: %0.5f seconds.\" % tf)"
   ]
  },
  {
   "cell_type": "markdown",
   "metadata": {},
   "source": [
    "### Set de entrenamiento"
   ]
  },
  {
   "cell_type": "code",
   "execution_count": 49,
   "metadata": {},
   "outputs": [
    {
     "name": "stderr",
     "output_type": "stream",
     "text": [
      "/home/mariano/ENTER/lib/python3.6/site-packages/sklearn/preprocessing/label.py:151: DeprecationWarning: The truth value of an empty array is ambiguous. Returning False, but in future this will result in an error. Use `array.size > 0` to check that an array is not empty.\n",
      "  if diff:\n"
     ]
    },
    {
     "data": {
      "text/plain": [
       "0.5"
      ]
     },
     "execution_count": 49,
     "metadata": {},
     "output_type": "execute_result"
    }
   ],
   "source": [
    "\n",
    "xgboost = xgb.XGBClassifier(base_score=0.5, booster='gbtree', colsample_bylevel=1,\n",
    "       colsample_bytree=0.6, gamma=5, learning_rate=0.02, max_delta_step=0,\n",
    "       max_depth=5, min_child_weight=5, missing=None, n_estimators=600,\n",
    "       n_jobs=1, nthread=1, objective='binary:logistic', random_state=0,\n",
    "       reg_alpha=0, reg_lambda=1, scale_pos_weight=1, seed=None,\n",
    "       silent=True, subsample=1.0)\n",
    "xgboost.fit(x_train,y_train)\n",
    "pred = xgboost.predict(x_test)\n",
    "roc_auc_score(y_test,pred)"
   ]
  },
  {
   "cell_type": "code",
   "execution_count": null,
   "metadata": {},
   "outputs": [],
   "source": [
    "if precision >= mejor_precision:\n",
    "    mejor_precision = precision\n",
    "    mejores_features = features"
   ]
  },
  {
   "cell_type": "markdown",
   "metadata": {},
   "source": [
    "### Test final"
   ]
  },
  {
   "cell_type": "markdown",
   "metadata": {},
   "source": [
    "#### Predicciones con valores binarios"
   ]
  },
  {
   "cell_type": "code",
   "execution_count": 27,
   "metadata": {},
   "outputs": [
    {
     "name": "stdout",
     "output_type": "stream",
     "text": [
      "Precisión:  0.5\n",
      "Tiempo de ejecución: 0.57988 seconds.\n"
     ]
    },
    {
     "name": "stderr",
     "output_type": "stream",
     "text": [
      "/home/mariano/ENTER/lib/python3.6/site-packages/sklearn/preprocessing/label.py:151: DeprecationWarning: The truth value of an empty array is ambiguous. Returning False, but in future this will result in an error. Use `array.size > 0` to check that an array is not empty.\n",
      "  if diff:\n"
     ]
    }
   ],
   "source": [
    "t0 = time()\n",
    "\n",
    "# Creamos el xgboost\n",
    "\n",
    "xgboost= xgb.XGBClassifier(base_score=0.5, booster='gbtree', colsample_bylevel=1,\\\n",
    "       colsample_bytree=0.6, gamma=5, learning_rate=0.02, max_delta_step=0,\\\n",
    "       max_depth=5, min_child_weight=5, missing=None, n_estimators=600,\\\n",
    "       n_jobs=1, nthread=1, objective='binary:logistic', random_state=0,\\\n",
    "       reg_alpha=0, reg_lambda=1, scale_pos_weight=1, seed=None,\\\n",
    "       silent=True, subsample=1.0)\n",
    "\n",
    "# Lo entrenamos con la totalidad del set de datos\n",
    "xgboost.fit(x_train,y_train)\n",
    "\n",
    "# Predecimos las postulaciones del set final\n",
    "pred = xgboost.predict(x_test)\n",
    "\n",
    "precision = roc_auc_score(y_test, pred)\n",
    "\n",
    "print(\"Precisión: \", precision)\n",
    "\n",
    "tf = time() - t0\n",
    "print (\"Tiempo de ejecución: %0.5f seconds.\" % tf)"
   ]
  },
  {
   "cell_type": "markdown",
   "metadata": {},
   "source": [
    "#### Predicciones con probabilidades"
   ]
  },
  {
   "cell_type": "code",
   "execution_count": null,
   "metadata": {},
   "outputs": [],
   "source": [
    "t0 = time()\n",
    "\n",
    "# Creamos el xgboost\n",
    "xgboost = xgb.XGBClassifier(learning_rate = 0.02,\\\n",
    "                            n_estimators= 2000,\\\n",
    "                            max_depth= 5,\\\n",
    "                            min_child_weight= 2,\\\n",
    "                            gamma=0.9,\\\n",
    "                            colsample_bytree=0.7,\\\n",
    "                            objective= 'binary:logistic',\\\n",
    "                            nthread= -1,\\\n",
    "                            scale_pos_weight=1)\n",
    "\n",
    "# Lo entrenamos con la totalidad del set de datos\n",
    "xgboost.fit(x,y)\n",
    "\n",
    "# Predecimos las postulaciones del set final\n",
    "pred_final_proba = xgboost.predict_proba(x_test_final)\n",
    "\n",
    "# Nos quedamos con la columna correspondiente de probabilidades\n",
    "df_predicciones = pd.DataFrame(pred_final_proba)\n",
    "pred_final_proba = np.array(df_predicciones[1])\n",
    "\n",
    "tf = time() - t0\n",
    "print (\"Tiempo de ejecución: %0.5f seconds.\" % tf)"
   ]
  },
  {
   "cell_type": "markdown",
   "metadata": {},
   "source": [
    "### Submit file"
   ]
  },
  {
   "cell_type": "markdown",
   "metadata": {},
   "source": [
    "#### Submit con valores binarios"
   ]
  },
  {
   "cell_type": "code",
   "execution_count": null,
   "metadata": {},
   "outputs": [],
   "source": [
    "#submit = pd.DataFrame({'id':id_aviso_postulante, 'sepostulo':pred_final})\n",
    "#submit.to_csv('submits/submit_xgboost.csv', index=False)\n",
    "roc_auc_score(np.array(test_final['label']),pred_final)"
   ]
  },
  {
   "cell_type": "code",
   "execution_count": null,
   "metadata": {},
   "outputs": [],
   "source": [
    "#submit['sepostulo'].value_counts()"
   ]
  },
  {
   "cell_type": "markdown",
   "metadata": {},
   "source": [
    "#### Submit con probabilidades"
   ]
  },
  {
   "cell_type": "code",
   "execution_count": null,
   "metadata": {},
   "outputs": [],
   "source": [
    "#submit_proba = pd.DataFrame({'id':id_aviso_postulante, 'sepostulo':pred_final_proba})\n",
    "#submit_proba.to_csv('submits/submit_xgboost_proba.csv', index=False)\n",
    "roc_auc_score(np.array(test_final['label']),pred_final_proba)"
   ]
  },
  {
   "cell_type": "code",
   "execution_count": null,
   "metadata": {},
   "outputs": [],
   "source": [
    "#no = submit_proba['sepostulo'] < 0.5\n",
    "#si = submit_proba['sepostulo'] >= 0.5\n",
    "\n",
    "#cant_no = submit_proba.loc[(no)].count()\n",
    "#cant_si = submit_proba.loc[(si)].count()\n",
    "\n",
    "#print(\"0   \", cant_no[1])\n",
    "#print(\"1   \", cant_si[1])\n",
    "#print(\"Name: sepostulo, dtype: int64\")"
   ]
  },
  {
   "cell_type": "code",
   "execution_count": null,
   "metadata": {},
   "outputs": [],
   "source": []
  },
  {
   "cell_type": "code",
   "execution_count": null,
   "metadata": {},
   "outputs": [],
   "source": []
  },
  {
   "cell_type": "code",
   "execution_count": 255,
   "metadata": {},
   "outputs": [
    {
     "name": "stdout",
     "output_type": "stream",
     "text": [
      "0.8488016543852044 ['ad campaign hit', 'brand listing', 'checkout', 'generic listing', 'search engine hit', 'searched products', 'viewed product', 'max_tiempo_sesion_q_6', 'max_tiempo_sesion_q_7', 'max_tiempo_sesion_q_8', 'max_tiempo_sesion_q_9', 'antiguedad', 'max_sin_convertir', 'dias_sin_convertir', 'convierte_cada_x_dias', 'conversion', 'prom_tiempo_sesion_q_6', 'prom_tiempo_sesion_q_7', 'prom_tiempo_sesion_q_8', 'prom_tiempo_sesion_q_9', 'cant_sesiones_q_6', 'cant_sesiones_q_7', 'cant_sesiones_q_8', 'cant_sesiones_q_9', 'compras_q_6', 'compras_q_7', 'compras_q_8', 'compras_q_9']\n"
     ]
    }
   ],
   "source": [
    "print (mejor_precision,mejores_features)"
   ]
  }
 ],
 "metadata": {
  "kernelspec": {
   "display_name": "Python 3",
   "language": "python",
   "name": "python3"
  },
  "language_info": {
   "codemirror_mode": {
    "name": "ipython",
    "version": 3
   },
   "file_extension": ".py",
   "mimetype": "text/x-python",
   "name": "python",
   "nbconvert_exporter": "python",
   "pygments_lexer": "ipython3",
   "version": "3.6.6"
  }
 },
 "nbformat": 4,
 "nbformat_minor": 2
}
