{
 "cells": [
  {
   "cell_type": "code",
   "execution_count": 33,
   "metadata": {},
   "outputs": [],
   "source": [
    "import pandas as pd\n",
    "import numpy as np\n",
    "import matplotlib.pyplot as plt\n",
    "import seaborn as sns\n",
    "import warnings\n",
    "warnings.filterwarnings('ignore')\n",
    "\n",
    "import xgboost as xgb\n",
    "\n",
    "from sklearn.ensemble import (RandomForestClassifier, AdaBoostClassifier,\\\n",
    "                             GradientBoostingClassifier, ExtraTreesClassifier,\\\n",
    "                             BaggingClassifier, VotingClassifier)\n",
    "\n",
    "from sklearn.neighbors import KNeighborsClassifier\n",
    "from sklearn.svm import SVC\n",
    "from sklearn.linear_model import LogisticRegression\n",
    "from sklearn.linear_model import Perceptron\n",
    "from sklearn.naive_bayes import GaussianNB\n",
    "from sklearn.tree import DecisionTreeClassifier\n",
    "from sklearn.cross_validation import KFold\n",
    "\n",
    "from sklearn.model_selection import train_test_split\n",
    "from sklearn.model_selection import cross_val_score\n",
    "from sklearn.metrics import accuracy_score\n",
    "\n",
    "from sklearn.metrics import roc_auc_score\n",
    "\n",
    "\n",
    "from time import time"
   ]
  },
  {
   "cell_type": "markdown",
   "metadata": {},
   "source": [
    "# Set de entrenamiento y Test final"
   ]
  },
  {
   "cell_type": "markdown",
   "metadata": {},
   "source": [
    "Cargamos los archivos necesarios"
   ]
  },
  {
   "cell_type": "code",
   "execution_count": 34,
   "metadata": {},
   "outputs": [],
   "source": [
    "train = pd.read_csv('train_final.csv')\n"
   ]
  },
  {
   "cell_type": "markdown",
   "metadata": {},
   "source": [
    "Transformamos las variables categóricas al tipo correspondiente, para reducir el uso de memoria"
   ]
  },
  {
   "cell_type": "code",
   "execution_count": 3,
   "metadata": {},
   "outputs": [],
   "source": [
    "#train['rango_edad'] = train['rango_edad'].astype('category')\n",
    "#train['sexo'] = train['sexo'].astype('category') \n",
    "#train['nivel_estudios'] = train['nivel_estudios'].astype('category')\n",
    "#train['esta_estudiando'] = train['esta_estudiando'].astype('category')\n",
    "#train['tipo_de_trabajo'] = train['tipo_de_trabajo'].astype('category')\n",
    "#train['nivel_laboral'] = train['nivel_laboral'].astype('category')\n",
    "#train['nombre_zona'] = train['nombre_zona'].astype('category')\n",
    "#train['num_area'] = train['num_area'].astype('category')\n",
    "#train['post_por_nivel'] = train['post_por_nivel'].astype('category')\n",
    "#train['sepostulo'] = train['sepostulo'].astype('category')"
   ]
  },
  {
   "cell_type": "code",
   "execution_count": 4,
   "metadata": {},
   "outputs": [],
   "source": [
    "#test_final['rango_edad'] = test_final['rango_edad'].astype('category')\n",
    "#test_final['sexo'] = test_final['sexo'].astype('category') \n",
    "#test_final['nivel_estudios'] = test_final['nivel_estudios'].astype('category')\n",
    "#test_final['esta_estudiando'] = test_final['esta_estudiando'].astype('category')\n",
    "#test_final['tipo_de_trabajo'] = test_final['tipo_de_trabajo'].astype('category')\n",
    "#test_final['nivel_laboral'] = test_final['nivel_laboral'].astype('category')\n",
    "#test_final['nombre_zona'] = test_final['nombre_zona'].astype('category')\n",
    "#test_final['num_area'] = test_final['num_area'].astype('category')\n",
    "#test_final['post_por_nivel'] = test_final['post_por_nivel'].astype('category')"
   ]
  },
  {
   "cell_type": "markdown",
   "metadata": {},
   "source": [
    "Nos guardamos los IDs necesarios para el submit"
   ]
  },
  {
   "cell_type": "code",
   "execution_count": 5,
   "metadata": {},
   "outputs": [],
   "source": [
    "#id_aviso_postulante = test_final['id']"
   ]
  },
  {
   "cell_type": "markdown",
   "metadata": {},
   "source": [
    "Analizamos el set de entrenamiento y el test final"
   ]
  },
  {
   "cell_type": "code",
   "execution_count": 41,
   "metadata": {
    "scrolled": true
   },
   "outputs": [
    {
     "data": {
      "text/html": [
       "<div>\n",
       "<style scoped>\n",
       "    .dataframe tbody tr th:only-of-type {\n",
       "        vertical-align: middle;\n",
       "    }\n",
       "\n",
       "    .dataframe tbody tr th {\n",
       "        vertical-align: top;\n",
       "    }\n",
       "\n",
       "    .dataframe thead th {\n",
       "        text-align: right;\n",
       "    }\n",
       "</style>\n",
       "<table border=\"1\" class=\"dataframe\">\n",
       "  <thead>\n",
       "    <tr style=\"text-align: right;\">\n",
       "      <th></th>\n",
       "      <th>person</th>\n",
       "      <th>brand listing</th>\n",
       "      <th>checkout</th>\n",
       "      <th>conversion</th>\n",
       "      <th>generic listing</th>\n",
       "      <th>searched products</th>\n",
       "      <th>staticpage</th>\n",
       "      <th>viewed product</th>\n",
       "      <th>visited site</th>\n",
       "      <th>label</th>\n",
       "    </tr>\n",
       "  </thead>\n",
       "  <tbody>\n",
       "    <tr>\n",
       "      <th>380</th>\n",
       "      <td>64a3c2f6</td>\n",
       "      <td>14.0</td>\n",
       "      <td>0.0</td>\n",
       "      <td>0.0</td>\n",
       "      <td>1.0</td>\n",
       "      <td>0.0</td>\n",
       "      <td>0.0</td>\n",
       "      <td>13.0</td>\n",
       "      <td>7.0</td>\n",
       "      <td>1.0</td>\n",
       "    </tr>\n",
       "    <tr>\n",
       "      <th>705</th>\n",
       "      <td>b866afff</td>\n",
       "      <td>39.0</td>\n",
       "      <td>4.0</td>\n",
       "      <td>2.0</td>\n",
       "      <td>28.0</td>\n",
       "      <td>101.0</td>\n",
       "      <td>2.0</td>\n",
       "      <td>78.0</td>\n",
       "      <td>20.0</td>\n",
       "      <td>1.0</td>\n",
       "    </tr>\n",
       "    <tr>\n",
       "      <th>1474</th>\n",
       "      <td>947126c0</td>\n",
       "      <td>0.0</td>\n",
       "      <td>1.0</td>\n",
       "      <td>0.0</td>\n",
       "      <td>2.0</td>\n",
       "      <td>0.0</td>\n",
       "      <td>0.0</td>\n",
       "      <td>2.0</td>\n",
       "      <td>1.0</td>\n",
       "      <td>0.0</td>\n",
       "    </tr>\n",
       "    <tr>\n",
       "      <th>160</th>\n",
       "      <td>2b81e8f3</td>\n",
       "      <td>10.0</td>\n",
       "      <td>1.0</td>\n",
       "      <td>1.0</td>\n",
       "      <td>19.0</td>\n",
       "      <td>0.0</td>\n",
       "      <td>0.0</td>\n",
       "      <td>115.0</td>\n",
       "      <td>9.0</td>\n",
       "      <td>1.0</td>\n",
       "    </tr>\n",
       "    <tr>\n",
       "      <th>1321</th>\n",
       "      <td>f4924234</td>\n",
       "      <td>1.0</td>\n",
       "      <td>2.0</td>\n",
       "      <td>0.0</td>\n",
       "      <td>0.0</td>\n",
       "      <td>0.0</td>\n",
       "      <td>0.0</td>\n",
       "      <td>20.0</td>\n",
       "      <td>5.0</td>\n",
       "      <td>0.0</td>\n",
       "    </tr>\n",
       "  </tbody>\n",
       "</table>\n",
       "</div>"
      ],
      "text/plain": [
       "        person  brand listing  checkout  conversion  generic listing  \\\n",
       "380   64a3c2f6           14.0       0.0         0.0              1.0   \n",
       "705   b866afff           39.0       4.0         2.0             28.0   \n",
       "1474  947126c0            0.0       1.0         0.0              2.0   \n",
       "160   2b81e8f3           10.0       1.0         1.0             19.0   \n",
       "1321  f4924234            1.0       2.0         0.0              0.0   \n",
       "\n",
       "      searched products  staticpage  viewed product  visited site  label  \n",
       "380                 0.0         0.0            13.0           7.0    1.0  \n",
       "705               101.0         2.0            78.0          20.0    1.0  \n",
       "1474                0.0         0.0             2.0           1.0    0.0  \n",
       "160                 0.0         0.0           115.0           9.0    1.0  \n",
       "1321                0.0         0.0            20.0           5.0    0.0  "
      ]
     },
     "execution_count": 41,
     "metadata": {},
     "output_type": "execute_result"
    }
   ],
   "source": [
    "train.sample(5)"
   ]
  },
  {
   "cell_type": "code",
   "execution_count": 42,
   "metadata": {},
   "outputs": [
    {
     "name": "stdout",
     "output_type": "stream",
     "text": [
      "<class 'pandas.core.frame.DataFrame'>\n",
      "RangeIndex: 1980 entries, 0 to 1979\n",
      "Data columns (total 10 columns):\n",
      "person               1980 non-null object\n",
      "brand listing        1980 non-null float64\n",
      "checkout             1980 non-null float64\n",
      "conversion           1980 non-null float64\n",
      "generic listing      1980 non-null float64\n",
      "searched products    1980 non-null float64\n",
      "staticpage           1980 non-null float64\n",
      "viewed product       1980 non-null float64\n",
      "visited site         1980 non-null float64\n",
      "label                1980 non-null float64\n",
      "dtypes: float64(9), object(1)\n",
      "memory usage: 154.8+ KB\n"
     ]
    }
   ],
   "source": [
    "train.info()"
   ]
  },
  {
   "cell_type": "markdown",
   "metadata": {},
   "source": [
    " "
   ]
  },
  {
   "cell_type": "code",
   "execution_count": 28,
   "metadata": {},
   "outputs": [
    {
     "ename": "NameError",
     "evalue": "name 'test_final' is not defined",
     "output_type": "error",
     "traceback": [
      "\u001b[0;31m---------------------------------------------------------------------------\u001b[0m",
      "\u001b[0;31mNameError\u001b[0m                                 Traceback (most recent call last)",
      "\u001b[0;32m<ipython-input-28-501e9d78f4e4>\u001b[0m in \u001b[0;36m<module>\u001b[0;34m()\u001b[0m\n\u001b[0;32m----> 1\u001b[0;31m \u001b[0mtest_final\u001b[0m\u001b[0;34m.\u001b[0m\u001b[0msample\u001b[0m\u001b[0;34m(\u001b[0m\u001b[0;36m5\u001b[0m\u001b[0;34m)\u001b[0m\u001b[0;34m\u001b[0m\u001b[0m\n\u001b[0m",
      "\u001b[0;31mNameError\u001b[0m: name 'test_final' is not defined"
     ]
    }
   ],
   "source": [
    "test_final.sample(5)"
   ]
  },
  {
   "cell_type": "code",
   "execution_count": 5,
   "metadata": {
    "scrolled": true
   },
   "outputs": [
    {
     "name": "stdout",
     "output_type": "stream",
     "text": [
      "<class 'pandas.core.frame.DataFrame'>\n",
      "RangeIndex: 19414 entries, 0 to 19413\n",
      "Data columns (total 10 columns):\n",
      "person               19414 non-null object\n",
      "label                19414 non-null int64\n",
      "brand listing        19414 non-null float64\n",
      "checkout             19414 non-null float64\n",
      "conversion           19414 non-null float64\n",
      "generic listing      19414 non-null float64\n",
      "searched products    19414 non-null float64\n",
      "staticpage           19414 non-null float64\n",
      "viewed product       19414 non-null float64\n",
      "visited site         19414 non-null float64\n",
      "dtypes: float64(8), int64(1), object(1)\n",
      "memory usage: 1.5+ MB\n"
     ]
    }
   ],
   "source": [
    "test_final.info()"
   ]
  },
  {
   "cell_type": "markdown",
   "metadata": {},
   "source": [
    " "
   ]
  },
  {
   "cell_type": "markdown",
   "metadata": {},
   "source": [
    "Nos guardamos los features que utilizaremos para los algoritmos de Machine Learning"
   ]
  },
  {
   "cell_type": "code",
   "execution_count": 3,
   "metadata": {},
   "outputs": [
    {
     "data": {
      "text/plain": [
       "Index(['person', 'label', 'compras_1', 'compras_2', 'compras_3', 'compras_4',\n",
       "       'compras_5', 'prom_tiempo_1', 'prom_tiempo_2', 'prom_tiempo_3',\n",
       "       'prom_tiempo_4', 'prom_tiempo_5', 'ad campaign hit', 'brand listing',\n",
       "       'checkout', 'conversion', 'generic listing', 'lead',\n",
       "       'search engine hit', 'searched products', 'staticpage',\n",
       "       'viewed product', 'visited site', 'registration_day',\n",
       "       'max_sin_convertir', 'dias_sin_convertir', 'convierte_cada_x_dias'],\n",
       "      dtype='object')"
      ]
     },
     "execution_count": 3,
     "metadata": {},
     "output_type": "execute_result"
    }
   ],
   "source": [
    "train.columns"
   ]
  },
  {
   "cell_type": "code",
   "execution_count": 30,
   "metadata": {},
   "outputs": [],
   "source": [
    "# Features\n",
    "f1 = 'ad campaign hit'\n",
    "f2 = 'brand listing'\n",
    "f3 = 'checkout'\n",
    "f4 = 'conversion'\n",
    "f5 = 'generic listing'\n",
    "f6 = 'search engine hit'\n",
    "f7 = 'viewed product'\n",
    "f8 = 'visited site'\n",
    "f9 = 'searched products'\n",
    "f10= 'staticpage'\n",
    "\n",
    "features = [f2,f3,f4,f5,f9,f10,f7,f8]"
   ]
  },
  {
   "cell_type": "markdown",
   "metadata": {},
   "source": [
    "Particionamos el set de entrenamiento para realizar pruebas locales de hiper-parámetros antes de realizar cada submit"
   ]
  },
  {
   "cell_type": "code",
   "execution_count": 35,
   "metadata": {},
   "outputs": [],
   "source": [
    "test_s = 0.25\n",
    "random_s = 0\n",
    "\n",
    "x = np.array(train[train.iloc[:,2:].columns])\n",
    "y = np.array(train['label'])\n",
    "\n",
    "x_train, x_test, y_train, y_test = train_test_split(x, y, test_size=test_s, random_state=random_s)"
   ]
  },
  {
   "cell_type": "markdown",
   "metadata": {},
   "source": [
    "Generamos el set de entrenamiento para el test final"
   ]
  },
  {
   "cell_type": "code",
   "execution_count": 8,
   "metadata": {},
   "outputs": [],
   "source": [
    "x_test_final = np.array(test_final[features])"
   ]
  },
  {
   "cell_type": "markdown",
   "metadata": {},
   "source": [
    "# Algoritmos probados"
   ]
  },
  {
   "cell_type": "markdown",
   "metadata": {},
   "source": [
    "# 1. KNN"
   ]
  },
  {
   "cell_type": "markdown",
   "metadata": {},
   "source": [
    "### Valores iniciales para K"
   ]
  },
  {
   "cell_type": "code",
   "execution_count": 41,
   "metadata": {},
   "outputs": [
    {
     "name": "stdout",
     "output_type": "stream",
     "text": [
      "VALORES INICIALES PARA K\n",
      "La precisión para k= 3 es: 0.7973928483666658\n",
      "La precisión para k= 5 es: 0.6809945066704716\n",
      "La precisión para k= 10 es: 0.5773267381671462\n",
      "La precisión para k= 20 es: 0.5029765443548706\n",
      "La precisión para k= 50 es: 0.5\n",
      "La precisión para k= 60 es: 0.5\n",
      "La precisión para k= 75 es: 0.5\n",
      "La precisión para k= 80 es: 0.5\n",
      "Con k= 3 se obtuvo la mayor precisión: 0.7973928483666658\n",
      "Tiempo de ejecución: 0.93162 seconds.\n"
     ]
    }
   ],
   "source": [
    "t0 = time()\n",
    "\n",
    "print('VALORES INICIALES PARA K')\n",
    "\n",
    "k_valores = [3,5,10,20,50,60,75,80]\n",
    "mejor_k = 0\n",
    "mejor_precision = 0\n",
    "\n",
    "for k in k_valores:\n",
    "    knn = KNeighborsClassifier(n_neighbors=k)\n",
    "    knn.fit(x_train, y_train)\n",
    "    pred = knn.predict(x_test)\n",
    "    precision = roc_auc_score(y_test, pred)\n",
    "    print('La precisión para k=', k, 'es:',precision)\n",
    "    if precision > mejor_precision:\n",
    "        mejor_precision = precision\n",
    "        mejor_k = k\n",
    "        \n",
    "print('Con k=', mejor_k, 'se obtuvo la mayor precisión:', mejor_precision)\n",
    "\n",
    "tf = time() - t0\n",
    "print (\"Tiempo de ejecución: %0.5f seconds.\" % tf)"
   ]
  },
  {
   "cell_type": "code",
   "execution_count": 46,
   "metadata": {},
   "outputs": [
    {
     "name": "stdout",
     "output_type": "stream",
     "text": [
      "0    1179\n",
      "1     107\n",
      "dtype: int64\n",
      "0    1174\n",
      "1     112\n",
      "dtype: int64\n"
     ]
    }
   ],
   "source": [
    "    knn = KNeighborsClassifier(n_neighbors=1)\n",
    "    knn.fit(x_train, y_train)\n",
    "    pred = knn.predict(x_test)\n",
    "    print(pd.Series(y_test).value_counts())\n",
    "    print (pd.Series(pred).value_counts())"
   ]
  },
  {
   "cell_type": "markdown",
   "metadata": {},
   "source": [
    "### Valores grid search para K"
   ]
  },
  {
   "cell_type": "code",
   "execution_count": 42,
   "metadata": {
    "scrolled": true
   },
   "outputs": [
    {
     "name": "stdout",
     "output_type": "stream",
     "text": [
      "VALORES GRID SEARCH PARA K\n",
      "La precisión para k = 1 es: 0.9265217632557292\n",
      "La precisión para k = 2 es: 0.8003456120742273\n",
      "La precisión para k = 3 es: 0.7973928483666658\n",
      "La precisión para k = 4 es: 0.6448756668489849\n",
      "La precisión para k = 5 es: 0.6809945066704716\n",
      "Con k= 1 se obtuvo la mayor precisión: 0.9265217632557292\n",
      "Tiempo de ejecución: 0.41740 seconds.\n"
     ]
    }
   ],
   "source": [
    "t0 = time()\n",
    "\n",
    "print('VALORES GRID SEARCH PARA K')\n",
    "\n",
    "k_valores = []\n",
    "\n",
    "for i in range(mejor_k-2, mejor_k+3):\n",
    "    k_valores.append(i)\n",
    "    \n",
    "for k in k_valores:\n",
    "    knn = KNeighborsClassifier(n_neighbors=k)\n",
    "    knn.fit(x_train, y_train)\n",
    "    pred = knn.predict(x_test)\n",
    "    precision = roc_auc_score(y_test, pred)\n",
    "    print('La precisión para k =', k, 'es:',precision)\n",
    "    if precision > mejor_precision:\n",
    "        mejor_precision = precision\n",
    "        mejor_k = k\n",
    "        \n",
    "print('Con k=', mejor_k, 'se obtuvo la mayor precisión:', mejor_precision)\n",
    "\n",
    "tf = time() - t0\n",
    "print (\"Tiempo de ejecución: %0.5f seconds.\" % tf)"
   ]
  },
  {
   "cell_type": "markdown",
   "metadata": {},
   "source": [
    "### Predecimos el test final con el mejor k obtenido"
   ]
  },
  {
   "cell_type": "code",
   "execution_count": 6,
   "metadata": {},
   "outputs": [
    {
     "ename": "NameError",
     "evalue": "name 'x_test_final' is not defined",
     "output_type": "error",
     "traceback": [
      "\u001b[0;31m---------------------------------------------------------------------------\u001b[0m",
      "\u001b[0;31mNameError\u001b[0m                                 Traceback (most recent call last)",
      "\u001b[0;32m<ipython-input-6-8a1242e33cab>\u001b[0m in \u001b[0;36m<module>\u001b[0;34m()\u001b[0m\n\u001b[1;32m      6\u001b[0m \u001b[0;34m\u001b[0m\u001b[0m\n\u001b[1;32m      7\u001b[0m \u001b[0;31m# Predecimos las postulaciones del set final\u001b[0m\u001b[0;34m\u001b[0m\u001b[0;34m\u001b[0m\u001b[0m\n\u001b[0;32m----> 8\u001b[0;31m \u001b[0mpred_final\u001b[0m \u001b[0;34m=\u001b[0m \u001b[0mknn\u001b[0m\u001b[0;34m.\u001b[0m\u001b[0mpredict\u001b[0m\u001b[0;34m(\u001b[0m\u001b[0mx_test_final\u001b[0m\u001b[0;34m)\u001b[0m\u001b[0;34m\u001b[0m\u001b[0m\n\u001b[0m",
      "\u001b[0;31mNameError\u001b[0m: name 'x_test_final' is not defined"
     ]
    }
   ],
   "source": [
    "# Creamos el KNN\n",
    "knn = KNeighborsClassifier(n_neighbors=mejor_k)\n",
    "\n",
    "# Lo entrenamos con la totalidad del set de datos\n",
    "knn.fit(x,y)\n",
    "\n",
    "# Predecimos las postulaciones del set final\n",
    "pred_final = knn.predict(x_test_final)"
   ]
  },
  {
   "cell_type": "markdown",
   "metadata": {},
   "source": [
    "### Submit File"
   ]
  },
  {
   "cell_type": "code",
   "execution_count": null,
   "metadata": {},
   "outputs": [],
   "source": [
    "#submit = pd.DataFrame({'id':id_aviso_postulante, 'sepostulo':pred_final})\n",
    "\n",
    "#submit.to_csv('submits/submit_knn.csv', index=False)\n",
    "\n",
    "#submit['sepostulo'].value_counts()\n",
    "roc_auc_score(np.array(test_final['label']),pred_final)"
   ]
  },
  {
   "cell_type": "markdown",
   "metadata": {},
   "source": [
    " "
   ]
  },
  {
   "cell_type": "markdown",
   "metadata": {},
   "source": [
    "# 2. Random Forest"
   ]
  },
  {
   "cell_type": "markdown",
   "metadata": {},
   "source": [
    "### Set de entrenamiento"
   ]
  },
  {
   "cell_type": "code",
   "execution_count": 7,
   "metadata": {},
   "outputs": [
    {
     "name": "stdout",
     "output_type": "stream",
     "text": [
      "Precisión:  0.5\n",
      "Tiempo de ejecución: 0.13167 seconds.\n"
     ]
    }
   ],
   "source": [
    "t0 = time()\n",
    "\n",
    "# Parámetros óptimos\n",
    "params_optimos_rf = {'n_estimators':50, 'max_features':'sqrt', 'max_depth':5, 'min_samples_split':2,\\\n",
    "                     'min_samples_leaf':2, 'bootstrap':True, 'oob_score':True, 'warm_start':True}\n",
    "\n",
    "# Creamos el Random Forest\n",
    "random_forest = RandomForestClassifier(**params_optimos_rf)\n",
    "\n",
    "# Lo entrenamos con nuestro set de entrenamiento\n",
    "random_forest.fit(x_train,y_train)\n",
    "\n",
    "# Predecimos valores de nuestro set de datos\n",
    "pred = random_forest.predict(x_test)\n",
    "\n",
    "# Evaluamos la precisión\n",
    "precision = roc_auc_score(y_test, pred)\n",
    "\n",
    "print(\"Precisión: \", precision)\n",
    "\n",
    "tf = time() - t0\n",
    "print (\"Tiempo de ejecución: %0.5f seconds.\" % tf)"
   ]
  },
  {
   "cell_type": "markdown",
   "metadata": {},
   "source": [
    "### Test final"
   ]
  },
  {
   "cell_type": "markdown",
   "metadata": {},
   "source": [
    "#### Predicciones con valores binarios"
   ]
  },
  {
   "cell_type": "code",
   "execution_count": 10,
   "metadata": {},
   "outputs": [
    {
     "ename": "NameError",
     "evalue": "name 'x_test_final' is not defined",
     "output_type": "error",
     "traceback": [
      "\u001b[0;31m---------------------------------------------------------------------------\u001b[0m",
      "\u001b[0;31mNameError\u001b[0m                                 Traceback (most recent call last)",
      "\u001b[0;32m<ipython-input-10-f0f0aaf860a3>\u001b[0m in \u001b[0;36m<module>\u001b[0;34m()\u001b[0m\n\u001b[1;32m      8\u001b[0m \u001b[0;34m\u001b[0m\u001b[0m\n\u001b[1;32m      9\u001b[0m \u001b[0;31m# Predecimos las postulaciones del set final\u001b[0m\u001b[0;34m\u001b[0m\u001b[0;34m\u001b[0m\u001b[0m\n\u001b[0;32m---> 10\u001b[0;31m \u001b[0mpred_final\u001b[0m \u001b[0;34m=\u001b[0m \u001b[0mrandom_forest\u001b[0m\u001b[0;34m.\u001b[0m\u001b[0mpredict\u001b[0m\u001b[0;34m(\u001b[0m\u001b[0mx_test_final\u001b[0m\u001b[0;34m)\u001b[0m\u001b[0;34m\u001b[0m\u001b[0m\n\u001b[0m\u001b[1;32m     11\u001b[0m \u001b[0;34m\u001b[0m\u001b[0m\n\u001b[1;32m     12\u001b[0m \u001b[0mtf\u001b[0m \u001b[0;34m=\u001b[0m \u001b[0mtime\u001b[0m\u001b[0;34m(\u001b[0m\u001b[0;34m)\u001b[0m \u001b[0;34m-\u001b[0m \u001b[0mt0\u001b[0m\u001b[0;34m\u001b[0m\u001b[0m\n",
      "\u001b[0;31mNameError\u001b[0m: name 'x_test_final' is not defined"
     ]
    }
   ],
   "source": [
    "t0 = time()\n",
    "\n",
    "# Creamos el random forest\n",
    "random_forest = RandomForestClassifier(**params_optimos_rf)\n",
    "\n",
    "# Lo entrenamos con la totalidad del set de datos\n",
    "random_forest.fit(x,y)\n",
    "\n",
    "# Predecimos las postulaciones del set final\n",
    "pred_final = random_forest.predict(x_test_final)\n",
    "\n",
    "tf = time() - t0\n",
    "print (\"Tiempo de ejecución: %0.5f seconds.\" % tf)"
   ]
  },
  {
   "cell_type": "markdown",
   "metadata": {},
   "source": [
    "#### Predicciones con probabilidades"
   ]
  },
  {
   "cell_type": "code",
   "execution_count": null,
   "metadata": {},
   "outputs": [],
   "source": [
    "t0 = time()\n",
    "\n",
    "# Creamos el random forest\n",
    "random_forest = RandomForestClassifier(**params_optimos_rf)\n",
    "\n",
    "# Lo entrenamos con la totalidad del set de datos\n",
    "random_forest.fit(x,y)\n",
    "\n",
    "# Predecimos las postulaciones del set final\n",
    "pred_final_proba = random_forest.predict_proba(x_test_final)\n",
    "\n",
    "# Nos quedamos con la columna correspondiente de probabilidades\n",
    "df_predicciones = pd.DataFrame(pred_final_proba)\n",
    "pred_final_proba = np.array(df_predicciones[1])\n",
    "\n",
    "tf = time() - t0\n",
    "print (\"Tiempo de ejecución: %0.5f seconds.\" % tf)"
   ]
  },
  {
   "cell_type": "markdown",
   "metadata": {},
   "source": [
    "### Submit files"
   ]
  },
  {
   "cell_type": "markdown",
   "metadata": {},
   "source": [
    "#### Submit con valores binarios"
   ]
  },
  {
   "cell_type": "code",
   "execution_count": null,
   "metadata": {},
   "outputs": [],
   "source": [
    "#submit = pd.DataFrame({'id':id_aviso_postulante, 'sepostulo':pred_final})\n",
    "#submit.to_csv('submits/submit_random_forest.csv', index=False)"
   ]
  },
  {
   "cell_type": "code",
   "execution_count": null,
   "metadata": {},
   "outputs": [],
   "source": [
    "#submit['sepostulo'].value_counts()\n",
    "roc_auc_score(np.array(test_final['label']),pred_final)"
   ]
  },
  {
   "cell_type": "markdown",
   "metadata": {},
   "source": [
    "#### Submit con probabilidades"
   ]
  },
  {
   "cell_type": "code",
   "execution_count": null,
   "metadata": {},
   "outputs": [],
   "source": [
    "#submit_proba = pd.DataFrame({'id':id_aviso_postulante, 'sepostulo':pred_final_proba})\n",
    "#submit_proba.to_csv('submits/submit_random_forest_proba.csv', index=False)"
   ]
  },
  {
   "cell_type": "code",
   "execution_count": null,
   "metadata": {},
   "outputs": [],
   "source": [
    "#no = submit_proba['sepostulo'] < 0.5\n",
    "#si = submit_proba['sepostulo'] >= 0.5\n",
    "\n",
    "#cant_no = submit_proba.loc[(no)].count()\n",
    "#cant_si = submit_proba.loc[(si)].count()\n",
    "\n",
    "#print(\"0   \", cant_no[1])\n",
    "#print(\"1   \", cant_si[1])\n",
    "#print(\"Name: sepostulo, dtype: int64\")\n",
    "roc_auc_score(np.array(test_final['label']),pred_final_proba)"
   ]
  },
  {
   "cell_type": "markdown",
   "metadata": {},
   "source": [
    " "
   ]
  },
  {
   "cell_type": "markdown",
   "metadata": {},
   "source": [
    "# 3. Extra Trees"
   ]
  },
  {
   "cell_type": "markdown",
   "metadata": {},
   "source": [
    "### Set de entrenamiento"
   ]
  },
  {
   "cell_type": "code",
   "execution_count": 8,
   "metadata": {},
   "outputs": [
    {
     "name": "stdout",
     "output_type": "stream",
     "text": [
      "Precisión:  0.5\n",
      "Tiempo de ejecución: 0.16730 seconds.\n"
     ]
    }
   ],
   "source": [
    "t0 = time()\n",
    "\n",
    "# Parámetros óptimos\n",
    "params_optimos_et = {'n_estimators':100, 'max_features':'sqrt', 'max_depth':5, 'min_samples_split':2,\\\n",
    "                     'min_samples_leaf':2, 'bootstrap':True, 'oob_score':True, 'warm_start':True}\n",
    "\n",
    "# Creamos el extra_trees\n",
    "extra_trees = ExtraTreesClassifier(**params_optimos_et)\n",
    "\n",
    "# Lo entrenamos con nuestro set de entrenamiento\n",
    "extra_trees.fit(x_train,y_train)\n",
    "\n",
    "# Predecimos valores de nuestro set de datos\n",
    "pred = extra_trees.predict(x_test)\n",
    "\n",
    "# Evaluamos la precisión\n",
    "precision = roc_auc_score(y_test, pred)\n",
    "\n",
    "print(\"Precisión: \", precision)\n",
    "\n",
    "tf = time() - t0\n",
    "print (\"Tiempo de ejecución: %0.5f seconds.\" % tf)"
   ]
  },
  {
   "cell_type": "markdown",
   "metadata": {},
   "source": [
    "### Test final"
   ]
  },
  {
   "cell_type": "markdown",
   "metadata": {},
   "source": [
    "#### Predicciones con valores binarios"
   ]
  },
  {
   "cell_type": "code",
   "execution_count": 9,
   "metadata": {},
   "outputs": [
    {
     "ename": "NameError",
     "evalue": "name 'x_test_final' is not defined",
     "output_type": "error",
     "traceback": [
      "\u001b[0;31m---------------------------------------------------------------------------\u001b[0m",
      "\u001b[0;31mNameError\u001b[0m                                 Traceback (most recent call last)",
      "\u001b[0;32m<ipython-input-9-95395c92302a>\u001b[0m in \u001b[0;36m<module>\u001b[0;34m()\u001b[0m\n\u001b[1;32m      8\u001b[0m \u001b[0;34m\u001b[0m\u001b[0m\n\u001b[1;32m      9\u001b[0m \u001b[0;31m# Predecimos las postulaciones del set final\u001b[0m\u001b[0;34m\u001b[0m\u001b[0;34m\u001b[0m\u001b[0m\n\u001b[0;32m---> 10\u001b[0;31m \u001b[0mpred_final\u001b[0m \u001b[0;34m=\u001b[0m \u001b[0mextra_trees\u001b[0m\u001b[0;34m.\u001b[0m\u001b[0mpredict\u001b[0m\u001b[0;34m(\u001b[0m\u001b[0mx_test_final\u001b[0m\u001b[0;34m)\u001b[0m\u001b[0;34m\u001b[0m\u001b[0m\n\u001b[0m\u001b[1;32m     11\u001b[0m \u001b[0;34m\u001b[0m\u001b[0m\n\u001b[1;32m     12\u001b[0m \u001b[0mtf\u001b[0m \u001b[0;34m=\u001b[0m \u001b[0mtime\u001b[0m\u001b[0;34m(\u001b[0m\u001b[0;34m)\u001b[0m \u001b[0;34m-\u001b[0m \u001b[0mt0\u001b[0m\u001b[0;34m\u001b[0m\u001b[0m\n",
      "\u001b[0;31mNameError\u001b[0m: name 'x_test_final' is not defined"
     ]
    }
   ],
   "source": [
    "t0 = time()\n",
    "\n",
    "# Creamos el extra trees\n",
    "extra_trees = ExtraTreesClassifier(**params_optimos_et)\n",
    "\n",
    "# Lo entrenamos con la totalidad del set de datos\n",
    "extra_trees.fit(x,y)\n",
    "\n",
    "# Predecimos las postulaciones del set final\n",
    "pred_final = extra_trees.predict(x_test_final)\n",
    "\n",
    "tf = time() - t0\n",
    "print (\"Tiempo de ejecución: %0.5f seconds.\" % tf)"
   ]
  },
  {
   "cell_type": "markdown",
   "metadata": {},
   "source": [
    "#### Predicciones con probabilidades"
   ]
  },
  {
   "cell_type": "code",
   "execution_count": null,
   "metadata": {},
   "outputs": [],
   "source": [
    "t0 = time()\n",
    "\n",
    "# Creamos el extra trees\n",
    "extra_trees = ExtraTreesClassifier(**params_optimos_et)\n",
    "\n",
    "# Lo entrenamos con la totalidad del set de datos\n",
    "extra_trees.fit(x,y)\n",
    "\n",
    "# Predecimos las postulaciones del set final\n",
    "pred_final_proba = extra_trees.predict_proba(x_test_final)\n",
    "\n",
    "# Nos quedamos con la columna correspondiente de probabilidades\n",
    "df_predicciones = pd.DataFrame(pred_final_proba)\n",
    "pred_final_proba = np.array(df_predicciones[1])\n",
    "\n",
    "tf = time() - t0\n",
    "print (\"Tiempo de ejecución: %0.5f seconds.\" % tf)"
   ]
  },
  {
   "cell_type": "markdown",
   "metadata": {},
   "source": [
    "### Submit file"
   ]
  },
  {
   "cell_type": "markdown",
   "metadata": {},
   "source": [
    "#### Submit con valores binarios"
   ]
  },
  {
   "cell_type": "code",
   "execution_count": null,
   "metadata": {},
   "outputs": [],
   "source": [
    "#submit = pd.DataFrame({'id':id_aviso_postulante, 'sepostulo':pred_final})\n",
    "#submit.to_csv('submits/submit_extra_trees.csv', index=False)"
   ]
  },
  {
   "cell_type": "code",
   "execution_count": null,
   "metadata": {},
   "outputs": [],
   "source": [
    "#submit['sepostulo'].value_counts()\n",
    "roc_auc_score(np.array(test_final['label']),pred_final)"
   ]
  },
  {
   "cell_type": "markdown",
   "metadata": {},
   "source": [
    "#### Submit con probabilidades"
   ]
  },
  {
   "cell_type": "code",
   "execution_count": null,
   "metadata": {},
   "outputs": [],
   "source": [
    "#submit_proba = pd.DataFrame({'id':id_aviso_postulante, 'sepostulo':pred_final_proba})\n",
    "#submit_proba.to_csv('submits/submit_extra_trees_proba.csv', index=False)\n",
    "roc_auc_score(np.array(test_final['label']),pred_final_proba)"
   ]
  },
  {
   "cell_type": "code",
   "execution_count": null,
   "metadata": {},
   "outputs": [],
   "source": [
    "#no = submit_proba['sepostulo'] < 0.5\n",
    "#si = submit_proba['sepostulo'] >= 0.5\n",
    "\n",
    "#cant_no = submit_proba.loc[(no)].count()\n",
    "#cant_si = submit_proba.loc[(si)].count()\n",
    "\n",
    "#print(\"0   \", cant_no[1])\n",
    "#print(\"1   \", cant_si[1])\n",
    "#print(\"Name: sepostulo, dtype: int64\")"
   ]
  },
  {
   "cell_type": "markdown",
   "metadata": {},
   "source": [
    " "
   ]
  },
  {
   "cell_type": "markdown",
   "metadata": {},
   "source": [
    "# 4. Gaussian Naive Bayes"
   ]
  },
  {
   "cell_type": "markdown",
   "metadata": {},
   "source": [
    "### Set de entrenamiento"
   ]
  },
  {
   "cell_type": "code",
   "execution_count": 11,
   "metadata": {},
   "outputs": [
    {
     "name": "stdout",
     "output_type": "stream",
     "text": [
      "Precisión:  0.6048878205128205\n",
      "Tiempo de ejecución: 0.00292 seconds.\n"
     ]
    }
   ],
   "source": [
    "t0 = time()\n",
    "\n",
    "# Creamos el naive bayes\n",
    "naive_bayes = GaussianNB()\n",
    "\n",
    "# Lo entrenamos con nuestro set de entrenamiento\n",
    "naive_bayes.fit(x_train,y_train)\n",
    "\n",
    "# Predecimos valores de nuestro set de datos\n",
    "pred = naive_bayes.predict(x_test)\n",
    "\n",
    "# Evaluamos la precisión\n",
    "precision = roc_auc_score(y_test, pred)\n",
    "\n",
    "print(\"Precisión: \", precision)\n",
    "\n",
    "tf = time() - t0\n",
    "print (\"Tiempo de ejecución: %0.5f seconds.\" % tf)"
   ]
  },
  {
   "cell_type": "markdown",
   "metadata": {},
   "source": [
    "### Test final"
   ]
  },
  {
   "cell_type": "markdown",
   "metadata": {},
   "source": [
    "#### Predicciones con valores binarios"
   ]
  },
  {
   "cell_type": "code",
   "execution_count": null,
   "metadata": {},
   "outputs": [],
   "source": [
    "t0 = time()\n",
    "\n",
    "# Creamos el naive bayes\n",
    "naive_bayes = GaussianNB()\n",
    "\n",
    "# Lo entrenamos con la totalidad del set de datos\n",
    "naive_bayes.fit(x,y)\n",
    "\n",
    "# Predecimos las postulaciones del set final\n",
    "pred_final = naive_bayes.predict(x_test_final)\n",
    "\n",
    "tf = time() - t0\n",
    "print (\"Tiempo de ejecución: %0.5f seconds.\" % tf)"
   ]
  },
  {
   "cell_type": "markdown",
   "metadata": {},
   "source": [
    "#### Predicciones con probabilidades"
   ]
  },
  {
   "cell_type": "code",
   "execution_count": null,
   "metadata": {},
   "outputs": [],
   "source": [
    "t0 = time()\n",
    "\n",
    "# Creamos el naive bayes\n",
    "naive_bayes = GaussianNB()\n",
    "\n",
    "# Lo entrenamos con la totalidad del set de datos\n",
    "naive_bayes.fit(x,y)\n",
    "\n",
    "# Predecimos las postulaciones del set final\n",
    "pred_final_proba = naive_bayes.predict_proba(x_test_final)\n",
    "\n",
    "# Nos quedamos con la columna correspondiente de probabilidades\n",
    "df_predicciones = pd.DataFrame(pred_final_proba)\n",
    "pred_final_proba = np.array(df_predicciones[1])\n",
    "\n",
    "tf = time() - t0\n",
    "print (\"Tiempo de ejecución: %0.5f seconds.\" % tf)"
   ]
  },
  {
   "cell_type": "markdown",
   "metadata": {},
   "source": [
    "### Submit file"
   ]
  },
  {
   "cell_type": "markdown",
   "metadata": {},
   "source": [
    "#### Submit con valores binarios"
   ]
  },
  {
   "cell_type": "code",
   "execution_count": null,
   "metadata": {},
   "outputs": [],
   "source": [
    "#submit = pd.DataFrame({'id':id_aviso_postulante, 'sepostulo':pred_final})\n",
    "#submit.to_csv('submits/submit_naive_bayes.csv', index=False)"
   ]
  },
  {
   "cell_type": "code",
   "execution_count": null,
   "metadata": {},
   "outputs": [],
   "source": [
    "#submit['sepostulo'].value_counts()\n",
    "roc_auc_score(np.array(test_final['label']),pred_final)"
   ]
  },
  {
   "cell_type": "markdown",
   "metadata": {},
   "source": [
    "#### Submit con probabilidades"
   ]
  },
  {
   "cell_type": "code",
   "execution_count": null,
   "metadata": {},
   "outputs": [],
   "source": [
    "#submit_proba = pd.DataFrame({'id':id_aviso_postulante, 'sepostulo':pred_final_proba})\n",
    "#submit_proba.to_csv('submits/submit_naive_bayes_proba.csv', index=False)\n",
    "roc_auc_score(np.array(test_final['label']),pred_final_proba)"
   ]
  },
  {
   "cell_type": "code",
   "execution_count": null,
   "metadata": {},
   "outputs": [],
   "source": [
    "#no = submit_proba['sepostulo'] < 0.5\n",
    "#si = submit_proba['sepostulo'] >= 0.5\n",
    "\n",
    "#cant_no = submit_proba.loc[(no)].count()\n",
    "#cant_si = submit_proba.loc[(si)].count()\n",
    "\n",
    "#print(\"0   \", cant_no[1])\n",
    "#print(\"1   \", cant_si[1])\n",
    "#print(\"Name: sepostulo, dtype: int64\")"
   ]
  },
  {
   "cell_type": "markdown",
   "metadata": {},
   "source": [
    " "
   ]
  },
  {
   "cell_type": "markdown",
   "metadata": {},
   "source": [
    "# 5. Perceptron"
   ]
  },
  {
   "cell_type": "markdown",
   "metadata": {},
   "source": [
    "### Set de entrenamiento"
   ]
  },
  {
   "cell_type": "code",
   "execution_count": 12,
   "metadata": {},
   "outputs": [
    {
     "name": "stdout",
     "output_type": "stream",
     "text": [
      "Precisión:  0.508573717948718\n",
      "Tiempo de ejecución: 0.00304 seconds.\n"
     ]
    }
   ],
   "source": [
    "t0 = time()\n",
    "\n",
    "# Creamos el perceptron\n",
    "perceptron = Perceptron()\n",
    "\n",
    "# Lo entrenamos con nuestro set de entrenamiento\n",
    "perceptron.fit(x_train,y_train)\n",
    "\n",
    "# Predecimos valores de nuestro set de datos\n",
    "pred = perceptron.predict(x_test)\n",
    "\n",
    "# Evaluamos la precisión\n",
    "precision = roc_auc_score(y_test, pred)\n",
    "\n",
    "print(\"Precisión: \", precision)\n",
    "\n",
    "tf = time() - t0\n",
    "print (\"Tiempo de ejecución: %0.5f seconds.\" % tf)"
   ]
  },
  {
   "cell_type": "markdown",
   "metadata": {},
   "source": [
    "### Test final"
   ]
  },
  {
   "cell_type": "markdown",
   "metadata": {},
   "source": [
    "#### Predicciones con valores binarios"
   ]
  },
  {
   "cell_type": "code",
   "execution_count": null,
   "metadata": {},
   "outputs": [],
   "source": [
    "t0 = time()\n",
    "\n",
    "# Creamos el perceptron\n",
    "perceptron = Perceptron()\n",
    "\n",
    "# Lo entrenamos con la totalidad del set de datos\n",
    "perceptron.fit(x,y)\n",
    "\n",
    "# Predecimos las postulaciones del set final\n",
    "pred_final = perceptron.predict(x_test_final)\n",
    "\n",
    "tf = time() - t0\n",
    "print (\"Tiempo de ejecución: %0.5f seconds.\" % tf)"
   ]
  },
  {
   "cell_type": "markdown",
   "metadata": {},
   "source": [
    "### Submit file"
   ]
  },
  {
   "cell_type": "code",
   "execution_count": null,
   "metadata": {},
   "outputs": [],
   "source": [
    "#submit = pd.DataFrame({'id':id_aviso_postulante, 'sepostulo':pred_final})\n",
    "#submit.to_csv('submits/submit_perceptron.csv', index=False)"
   ]
  },
  {
   "cell_type": "code",
   "execution_count": null,
   "metadata": {},
   "outputs": [],
   "source": [
    "#submit['sepostulo'].value_counts()\n",
    "roc_auc_score(np.array(test_final['label']),pred_final)"
   ]
  },
  {
   "cell_type": "markdown",
   "metadata": {},
   "source": [
    " "
   ]
  },
  {
   "cell_type": "markdown",
   "metadata": {},
   "source": [
    " "
   ]
  },
  {
   "cell_type": "markdown",
   "metadata": {},
   "source": [
    "# 6. Adaptive Boosting"
   ]
  },
  {
   "cell_type": "markdown",
   "metadata": {},
   "source": [
    "### Set de entrenamiento"
   ]
  },
  {
   "cell_type": "code",
   "execution_count": 13,
   "metadata": {},
   "outputs": [
    {
     "name": "stdout",
     "output_type": "stream",
     "text": [
      "Precisión:  0.5150641025641026\n",
      "Tiempo de ejecución: 0.16708 seconds.\n"
     ]
    }
   ],
   "source": [
    "t0 = time()\n",
    "\n",
    "# Parámetros óptimos\n",
    "params_optimos_ab = {'n_estimators':50}\n",
    "\n",
    "# Creamos el adaptive boosting\n",
    "ada_boost = AdaBoostClassifier(**params_optimos_ab)\n",
    "\n",
    "# Lo entrenamos con nuestro set de entrenamiento\n",
    "ada_boost.fit(x_train,y_train)\n",
    "\n",
    "# Predecimos valores de nuestro set de datos\n",
    "pred = ada_boost.predict(x_test)\n",
    "\n",
    "# Evaluamos la precisión\n",
    "precision = roc_auc_score(y_test, pred)\n",
    "\n",
    "print(\"Precisión: \", precision)\n",
    "\n",
    "tf = time() - t0\n",
    "print (\"Tiempo de ejecución: %0.5f seconds.\" % tf)"
   ]
  },
  {
   "cell_type": "markdown",
   "metadata": {},
   "source": [
    "### Test final"
   ]
  },
  {
   "cell_type": "markdown",
   "metadata": {},
   "source": [
    "#### Predicciones con valores binarios"
   ]
  },
  {
   "cell_type": "code",
   "execution_count": null,
   "metadata": {},
   "outputs": [],
   "source": [
    "t0 = time()\n",
    "\n",
    "# Creamos el adaptive boosting\n",
    "ada_boost = AdaBoostClassifier(**params_optimos_ab)\n",
    "\n",
    "# Lo entrenamos con la totalidad del set de datos\n",
    "ada_boost.fit(x,y)\n",
    "\n",
    "# Predecimos las postulaciones del set final\n",
    "pred_final = ada_boost.predict(x_test_final)\n",
    "\n",
    "tf = time() - t0\n",
    "print (\"Tiempo de ejecución: %0.5f seconds.\" % tf)"
   ]
  },
  {
   "cell_type": "markdown",
   "metadata": {},
   "source": [
    "#### Predicciones con probabilidades"
   ]
  },
  {
   "cell_type": "code",
   "execution_count": null,
   "metadata": {},
   "outputs": [],
   "source": [
    "t0 = time()\n",
    "\n",
    "# Creamos el adaptive boosting\n",
    "ada_boost = AdaBoostClassifier(**params_optimos_ab)\n",
    "\n",
    "# Lo entrenamos con la totalidad del set de datos\n",
    "ada_boost.fit(x,y)\n",
    "\n",
    "# Predecimos las postulaciones del set final\n",
    "pred_final_proba = ada_boost.predict_proba(x_test_final)\n",
    "\n",
    "# Nos quedamos con la columna correspondiente de probabilidades\n",
    "df_predicciones = pd.DataFrame(pred_final_proba)\n",
    "pred_final_proba = np.array(df_predicciones[1])\n",
    "\n",
    "tf = time() - t0\n",
    "print (\"Tiempo de ejecución: %0.5f seconds.\" % tf)"
   ]
  },
  {
   "cell_type": "markdown",
   "metadata": {},
   "source": [
    "### Submit file"
   ]
  },
  {
   "cell_type": "markdown",
   "metadata": {},
   "source": [
    "#### Submit con valores binarios"
   ]
  },
  {
   "cell_type": "code",
   "execution_count": null,
   "metadata": {},
   "outputs": [],
   "source": [
    "#submit = pd.DataFrame({'id':id_aviso_postulante, 'sepostulo':pred_final})\n",
    "#submit.to_csv('submits/submit_ada_boost.csv', index=False)"
   ]
  },
  {
   "cell_type": "code",
   "execution_count": null,
   "metadata": {},
   "outputs": [],
   "source": [
    "#submit['sepostulo'].value_counts()\n",
    "roc_auc_score(np.array(test_final['label']),pred_final)"
   ]
  },
  {
   "cell_type": "markdown",
   "metadata": {},
   "source": [
    "#### Submit con probabilidades"
   ]
  },
  {
   "cell_type": "code",
   "execution_count": null,
   "metadata": {},
   "outputs": [],
   "source": [
    "#submit_proba = pd.DataFrame({'id':id_aviso_postulante, 'sepostulo':pred_final_proba})\n",
    "#submit_proba.to_csv('submits/submit_ada_boost_proba.csv', index=False)\n",
    "roc_auc_score(np.array(test_final['label']),pred_final_proba)"
   ]
  },
  {
   "cell_type": "code",
   "execution_count": null,
   "metadata": {},
   "outputs": [],
   "source": [
    "#no = submit_proba['sepostulo'] < 0.5\n",
    "#si = submit_proba['sepostulo'] >= 0.5\n",
    "\n",
    "#cant_no = submit_proba.loc[(no)].count()\n",
    "#cant_si = submit_proba.loc[(si)].count()\n",
    "\n",
    "#print(\"0   \", cant_no[1])\n",
    "#print(\"1   \", cant_si[1])\n",
    "#print(\"Name: sepostulo, dtype: int64\")"
   ]
  },
  {
   "cell_type": "markdown",
   "metadata": {},
   "source": [
    "# 7. Gradient Boosting"
   ]
  },
  {
   "cell_type": "markdown",
   "metadata": {},
   "source": [
    "### Set de entrenamiento"
   ]
  },
  {
   "cell_type": "code",
   "execution_count": 14,
   "metadata": {},
   "outputs": [
    {
     "name": "stdout",
     "output_type": "stream",
     "text": [
      "Precisión:  0.5140224358974359\n",
      "Tiempo de ejecución: 0.29785 seconds.\n"
     ]
    }
   ],
   "source": [
    "t0 = time()\n",
    "\n",
    "# Parámetros óptimos\n",
    "params_optimos_gb = {'learning_rate':0.1, 'n_estimators':150, 'max_depth':4, 'min_samples_split':2,\\\n",
    "                     'min_samples_leaf':2, 'subsample':0.5, 'max_features':'sqrt', 'warm_start':True}\n",
    "\n",
    "# Creamos el gradient boosting\n",
    "gra_boost = GradientBoostingClassifier(**params_optimos_gb)\n",
    "\n",
    "# Lo entrenamos con nuestro set de entrenamiento\n",
    "gra_boost.fit(x_train,y_train)\n",
    "\n",
    "# Predecimos valores de nuestro set de datos\n",
    "pred = gra_boost.predict(x_test)\n",
    "\n",
    "# Evaluamos la precisión\n",
    "precision = roc_auc_score(y_test, pred)\n",
    "\n",
    "print(\"Precisión: \", precision)\n",
    "\n",
    "tf = time() - t0\n",
    "print (\"Tiempo de ejecución: %0.5f seconds.\" % tf)"
   ]
  },
  {
   "cell_type": "markdown",
   "metadata": {},
   "source": [
    "### Test final"
   ]
  },
  {
   "cell_type": "markdown",
   "metadata": {},
   "source": [
    "#### Predicciones con valores binarios"
   ]
  },
  {
   "cell_type": "code",
   "execution_count": null,
   "metadata": {},
   "outputs": [],
   "source": [
    "t0 = time()\n",
    "\n",
    "# Creamos el gradient boosting\n",
    "gra_boost = GradientBoostingClassifier(**params_optimos_gb)\n",
    "\n",
    "# Lo entrenamos con la totalidad del set de datos\n",
    "gra_boost.fit(x,y)\n",
    "\n",
    "# Predecimos las postulaciones del set final\n",
    "pred_final = gra_boost.predict(x_test_final)\n",
    "\n",
    "tf = time() - t0\n",
    "print (\"Tiempo de ejecución: %0.5f seconds.\" % tf)"
   ]
  },
  {
   "cell_type": "markdown",
   "metadata": {},
   "source": [
    "#### Predicciones con probabilidades"
   ]
  },
  {
   "cell_type": "code",
   "execution_count": null,
   "metadata": {},
   "outputs": [],
   "source": [
    "t0 = time()\n",
    "\n",
    "# Creamos el gradient boosting\n",
    "gra_boost = GradientBoostingClassifier(**params_optimos_gb)\n",
    "\n",
    "# Lo entrenamos con la totalidad del set de datos\n",
    "gra_boost.fit(x,y)\n",
    "\n",
    "# Predecimos las postulaciones del set final\n",
    "pred_final_proba = gra_boost.predict_proba(x_test_final)\n",
    "\n",
    "# Nos quedamos con la columna correspondiente de probabilidades\n",
    "df_predicciones = pd.DataFrame(pred_final_proba)\n",
    "pred_final_proba = np.array(df_predicciones[1])\n",
    "\n",
    "tf = time() - t0\n",
    "print (\"Tiempo de ejecución: %0.5f seconds.\" % tf)"
   ]
  },
  {
   "cell_type": "markdown",
   "metadata": {},
   "source": [
    "### Submit file"
   ]
  },
  {
   "cell_type": "markdown",
   "metadata": {},
   "source": [
    "#### Submit con valores binarios"
   ]
  },
  {
   "cell_type": "code",
   "execution_count": null,
   "metadata": {},
   "outputs": [],
   "source": [
    "#submit = pd.DataFrame({'id':id_aviso_postulante, 'sepostulo':pred_final})\n",
    "#submit.to_csv('submits/submit_gra_boost.csv', index=False)\n",
    "roc_auc_score(np.array(test_final['label']),pred_final)"
   ]
  },
  {
   "cell_type": "code",
   "execution_count": null,
   "metadata": {},
   "outputs": [],
   "source": [
    "#submit['sepostulo'].value_counts()"
   ]
  },
  {
   "cell_type": "markdown",
   "metadata": {},
   "source": [
    "#### Submit con probabilidades"
   ]
  },
  {
   "cell_type": "code",
   "execution_count": null,
   "metadata": {},
   "outputs": [],
   "source": [
    "#submit_proba = pd.DataFrame({'id':id_aviso_postulante, 'sepostulo':pred_final_proba})\n",
    "#submit_proba.to_csv('submits/submit_gra_boost_proba.csv', index=False)\n",
    "roc_auc_score(np.array(test_final['label']),pred_final_proba)"
   ]
  },
  {
   "cell_type": "code",
   "execution_count": null,
   "metadata": {},
   "outputs": [],
   "source": [
    "#no = submit_proba['sepostulo'] < 0.5\n",
    "#si = submit_proba['sepostulo'] >= 0.5\n",
    "\n",
    "#cant_no = submit_proba.loc[(no)].count()\n",
    "#cant_si = submit_proba.loc[(si)].count()\n",
    "\n",
    "#print(\"0   \", cant_no[1])\n",
    "#print(\"1   \", cant_si[1])\n",
    "#print(\"Name: sepostulo, dtype: int64\")"
   ]
  },
  {
   "cell_type": "markdown",
   "metadata": {},
   "source": [
    " "
   ]
  },
  {
   "cell_type": "markdown",
   "metadata": {},
   "source": [
    "# 8. Logistic Regression"
   ]
  },
  {
   "cell_type": "markdown",
   "metadata": {},
   "source": [
    "### Set de entrenamiento"
   ]
  },
  {
   "cell_type": "code",
   "execution_count": 15,
   "metadata": {},
   "outputs": [
    {
     "name": "stdout",
     "output_type": "stream",
     "text": [
      "Precisión:  0.5278044871794872\n",
      "Tiempo de ejecución: 0.11773 seconds.\n"
     ]
    }
   ],
   "source": [
    "t0 = time()\n",
    "\n",
    "# Creamos el logistic regression\n",
    "log_reg = LogisticRegression()\n",
    "\n",
    "# Lo entrenamos con nuestro set de entrenamiento\n",
    "log_reg.fit(x_train,y_train)\n",
    "\n",
    "# Predecimos valores de nuestro set de datos\n",
    "pred = log_reg.predict(x_test)\n",
    "\n",
    "# Evaluamos la precisión\n",
    "precision = roc_auc_score(y_test, pred)\n",
    "\n",
    "print(\"Precisión: \", precision)\n",
    "\n",
    "tf = time() - t0\n",
    "print (\"Tiempo de ejecución: %0.5f seconds.\" % tf)"
   ]
  },
  {
   "cell_type": "markdown",
   "metadata": {},
   "source": [
    "### Test final"
   ]
  },
  {
   "cell_type": "markdown",
   "metadata": {},
   "source": [
    "#### Predicciones con valores binarios"
   ]
  },
  {
   "cell_type": "code",
   "execution_count": null,
   "metadata": {},
   "outputs": [],
   "source": [
    "t0 = time()\n",
    "\n",
    "# Creamos el logistic regression\n",
    "log_reg = LogisticRegression()\n",
    "\n",
    "# Lo entrenamos con la totalidad del set de datos\n",
    "log_reg.fit(x,y)\n",
    "\n",
    "# Predecimos las postulaciones del set final\n",
    "pred_final = log_reg.predict(x_test_final)\n",
    "\n",
    "tf = time() - t0\n",
    "print (\"Tiempo de ejecución: %0.5f seconds.\" % tf)"
   ]
  },
  {
   "cell_type": "markdown",
   "metadata": {},
   "source": [
    "#### Predicciones con probabilidades"
   ]
  },
  {
   "cell_type": "code",
   "execution_count": null,
   "metadata": {},
   "outputs": [],
   "source": [
    "t0 = time()\n",
    "\n",
    "# Creamos el logistic regression\n",
    "log_reg = LogisticRegression()\n",
    "\n",
    "# Lo entrenamos con la totalidad del set de datos\n",
    "log_reg.fit(x,y)\n",
    "\n",
    "# Predecimos las postulaciones del set final\n",
    "pred_final_proba = log_reg.predict_proba(x_test_final)\n",
    "\n",
    "# Nos quedamos con la columna correspondiente de probabilidades\n",
    "df_predicciones = pd.DataFrame(pred_final_proba)\n",
    "pred_final_proba = np.array(df_predicciones[1])\n",
    "\n",
    "tf = time() - t0\n",
    "print (\"Tiempo de ejecución: %0.5f seconds.\" % tf)"
   ]
  },
  {
   "cell_type": "markdown",
   "metadata": {},
   "source": [
    "### Submit file"
   ]
  },
  {
   "cell_type": "markdown",
   "metadata": {},
   "source": [
    "#### Submit con valores binarios"
   ]
  },
  {
   "cell_type": "code",
   "execution_count": null,
   "metadata": {},
   "outputs": [],
   "source": [
    "#submit = pd.DataFrame({'id':id_aviso_postulante, 'sepostulo':pred_final})\n",
    "#submit.to_csv('submits/submit_log_reg.csv', index=False)\n",
    "roc_auc_score(np.array(test_final['label']),pred_final)"
   ]
  },
  {
   "cell_type": "code",
   "execution_count": null,
   "metadata": {},
   "outputs": [],
   "source": [
    "#submit['sepostulo'].value_counts()"
   ]
  },
  {
   "cell_type": "markdown",
   "metadata": {},
   "source": [
    "#### Submit con probabilidades"
   ]
  },
  {
   "cell_type": "code",
   "execution_count": null,
   "metadata": {},
   "outputs": [],
   "source": [
    "#submit_proba = pd.DataFrame({'id':id_aviso_postulante, 'sepostulo':pred_final_proba})\n",
    "#submit_proba.to_csv('submits/submit_log_reg_proba.csv', index=False)\n",
    "roc_auc_score(np.array(test_final['label']),pred_final_proba)"
   ]
  },
  {
   "cell_type": "code",
   "execution_count": null,
   "metadata": {},
   "outputs": [],
   "source": [
    "#no = submit_proba['sepostulo'] < 0.5\n",
    "#si = submit_proba['sepostulo'] >= 0.5\n",
    "\n",
    "#cant_no = submit_proba.loc[(no)].count()\n",
    "#cant_si = submit_proba.loc[(si)].count()\n",
    "\n",
    "#print(\"0   \", cant_no[1])\n",
    "#print(\"1   \", cant_si[1])\n",
    "#print(\"Name: sepostulo, dtype: int64\")"
   ]
  },
  {
   "cell_type": "markdown",
   "metadata": {},
   "source": [
    " "
   ]
  },
  {
   "cell_type": "markdown",
   "metadata": {},
   "source": [
    "# 9. Decision Tree"
   ]
  },
  {
   "cell_type": "markdown",
   "metadata": {},
   "source": [
    "### Set de entrenamiento"
   ]
  },
  {
   "cell_type": "code",
   "execution_count": 16,
   "metadata": {},
   "outputs": [
    {
     "name": "stdout",
     "output_type": "stream",
     "text": [
      "Precisión:  0.5124198717948718\n",
      "Tiempo de ejecución: 0.00901 seconds.\n"
     ]
    }
   ],
   "source": [
    "t0 = time()\n",
    "\n",
    "# Parámetros óptimos\n",
    "params_optimos_dt = {'criterion':'entropy', 'splitter':'best', 'max_depth':None, 'min_samples_split':2,\\\n",
    "                     'min_samples_leaf':2, 'max_features':'sqrt', 'presort':True}\n",
    "\n",
    "# Creamos el logistic regression\n",
    "decision_tree = DecisionTreeClassifier(**params_optimos_dt)\n",
    "\n",
    "# Lo entrenamos con nuestro set de entrenamiento\n",
    "decision_tree.fit(x_train,y_train)\n",
    "\n",
    "# Predecimos valores de nuestro set de datos\n",
    "pred = decision_tree.predict(x_test)\n",
    "\n",
    "# Evaluamos la precisión\n",
    "precision = roc_auc_score(y_test, pred)\n",
    "\n",
    "print(\"Precisión: \", precision)\n",
    "\n",
    "tf = time() - t0\n",
    "print (\"Tiempo de ejecución: %0.5f seconds.\" % tf)"
   ]
  },
  {
   "cell_type": "markdown",
   "metadata": {},
   "source": [
    "### Test final"
   ]
  },
  {
   "cell_type": "markdown",
   "metadata": {},
   "source": [
    "#### Predicciones con valores binarios"
   ]
  },
  {
   "cell_type": "code",
   "execution_count": null,
   "metadata": {},
   "outputs": [],
   "source": [
    "t0 = time()\n",
    "\n",
    "# Creamos el decision tree\n",
    "decision_tree = DecisionTreeClassifier(**params_optimos_dt)\n",
    "\n",
    "# Lo entrenamos con la totalidad del set de datos\n",
    "decision_tree.fit(x,y)\n",
    "\n",
    "# Predecimos las postulaciones del set final\n",
    "pred_final = decision_tree.predict(x_test_final)\n",
    "\n",
    "tf = time() - t0\n",
    "print (\"Tiempo de ejecución: %0.5f seconds.\" % tf)"
   ]
  },
  {
   "cell_type": "markdown",
   "metadata": {},
   "source": [
    "#### Predicciones con probabilidades"
   ]
  },
  {
   "cell_type": "code",
   "execution_count": null,
   "metadata": {},
   "outputs": [],
   "source": [
    "t0 = time()\n",
    "\n",
    "# Creamos el decision tree\n",
    "decision_tree = DecisionTreeClassifier(**params_optimos_dt)\n",
    "\n",
    "# Lo entrenamos con la totalidad del set de datos\n",
    "decision_tree.fit(x,y)\n",
    "\n",
    "# Predecimos las postulaciones del set final\n",
    "pred_final_proba = decision_tree.predict_proba(x_test_final)\n",
    "\n",
    "# Nos quedamos con la columna correspondiente de probabilidades\n",
    "df_predicciones = pd.DataFrame(pred_final_proba)\n",
    "pred_final_proba = np.array(df_predicciones[1])\n",
    "\n",
    "tf = time() - t0\n",
    "print (\"Tiempo de ejecución: %0.5f seconds.\" % tf)"
   ]
  },
  {
   "cell_type": "markdown",
   "metadata": {},
   "source": [
    "### Submit file"
   ]
  },
  {
   "cell_type": "markdown",
   "metadata": {},
   "source": [
    "#### Submit con valores binarios"
   ]
  },
  {
   "cell_type": "code",
   "execution_count": null,
   "metadata": {},
   "outputs": [],
   "source": [
    "#submit = pd.DataFrame({'id':id_aviso_postulante, 'sepostulo':pred_final})\n",
    "#submit.to_csv('submits/submit_decision_tree.csv', index=False)\n",
    "roc_auc_score(np.array(test_final['label']),pred_final)"
   ]
  },
  {
   "cell_type": "code",
   "execution_count": null,
   "metadata": {},
   "outputs": [],
   "source": [
    "#submit['sepostulo'].value_counts()"
   ]
  },
  {
   "cell_type": "markdown",
   "metadata": {},
   "source": [
    "#### Submit con probabilidades"
   ]
  },
  {
   "cell_type": "code",
   "execution_count": null,
   "metadata": {},
   "outputs": [],
   "source": [
    "#submit_proba = pd.DataFrame({'id':id_aviso_postulante, 'sepostulo':pred_final_proba})\n",
    "#submit_proba.to_csv('submits/submit_decision_tree_proba.csv', index=False)\n",
    "roc_auc_score(np.array(test_final['label']),pred_final_proba)"
   ]
  },
  {
   "cell_type": "code",
   "execution_count": null,
   "metadata": {},
   "outputs": [],
   "source": [
    "#no = submit_proba['sepostulo'] < 0.5\n",
    "#si = submit_proba['sepostulo'] >= 0.5\n",
    "\n",
    "#cant_no = submit_proba.loc[(no)].count()\n",
    "#cant_si = submit_proba.loc[(si)].count()\n",
    "\n",
    "#print(\"0   \", cant_no[1])\n",
    "#print(\"1   \", cant_si[1])\n",
    "#print(\"Name: sepostulo, dtype: int64\")"
   ]
  },
  {
   "cell_type": "markdown",
   "metadata": {},
   "source": [
    " "
   ]
  },
  {
   "cell_type": "markdown",
   "metadata": {},
   "source": [
    "# 10. Bagging"
   ]
  },
  {
   "cell_type": "markdown",
   "metadata": {},
   "source": [
    "## 10.1 Con Logistic Regression"
   ]
  },
  {
   "cell_type": "markdown",
   "metadata": {},
   "source": [
    "### Set de entrenamiento"
   ]
  },
  {
   "cell_type": "code",
   "execution_count": 17,
   "metadata": {},
   "outputs": [
    {
     "name": "stdout",
     "output_type": "stream",
     "text": [
      "Precisión:  0.49895833333333334\n",
      "Tiempo de ejecución: 6.05670 seconds.\n"
     ]
    }
   ],
   "source": [
    "t0 = time()\n",
    "\n",
    "# Parámetros óptimos\n",
    "params_optimos_bag_lr = {'base_estimator':LogisticRegression(), 'n_estimators':100, 'bootstrap':True,\\\n",
    "                         'bootstrap_features':True, 'oob_score':True, 'warm_start':False}\n",
    "\n",
    "# Creamos el bagging\n",
    "bagging = BaggingClassifier(**params_optimos_bag_lr)\n",
    "\n",
    "# Lo entrenamos con nuestro set de entrenamiento\n",
    "bagging.fit(x_train,y_train)\n",
    "\n",
    "# Predecimos valores de nuestro set de datos\n",
    "pred = bagging.predict(x_test)\n",
    "\n",
    "# Evaluamos la precisión\n",
    "precision = roc_auc_score(y_test, pred)\n",
    "\n",
    "print(\"Precisión: \", precision)\n",
    "\n",
    "tf = time() - t0\n",
    "print (\"Tiempo de ejecución: %0.5f seconds.\" % tf)"
   ]
  },
  {
   "cell_type": "markdown",
   "metadata": {},
   "source": [
    "### Test final"
   ]
  },
  {
   "cell_type": "markdown",
   "metadata": {},
   "source": [
    "#### Predicciones con valores binarios"
   ]
  },
  {
   "cell_type": "code",
   "execution_count": null,
   "metadata": {},
   "outputs": [],
   "source": [
    "t0 = time()\n",
    "\n",
    "params_optimos_bag_lr = {'base_estimator':LogisticRegression(), 'n_estimators':100, 'bootstrap':True,\\\n",
    "                         'bootstrap_features':True, 'oob_score':True, 'warm_start':False}\n",
    "\n",
    "# Creamos el bagging\n",
    "bagging = BaggingClassifier(**params_optimos_bag_lr)\n",
    "\n",
    "# Lo entrenamos con la totalidad del set de datos\n",
    "bagging.fit(x,y)\n",
    "\n",
    "# Predecimos las postulaciones del set final\n",
    "pred_final = bagging.predict(x_test_final)\n",
    "\n",
    "tf = time() - t0\n",
    "print (\"Tiempo de ejecución: %0.5f seconds.\" % tf)"
   ]
  },
  {
   "cell_type": "markdown",
   "metadata": {},
   "source": [
    "#### Predicciones con probabilidades"
   ]
  },
  {
   "cell_type": "code",
   "execution_count": null,
   "metadata": {},
   "outputs": [],
   "source": [
    "t0 = time()\n",
    "\n",
    "params_optimos_bag_lr = {'base_estimator':LogisticRegression(), 'n_estimators':100, 'bootstrap':True,\\\n",
    "                         'bootstrap_features':True, 'oob_score':True, 'warm_start':False}\n",
    "\n",
    "# Creamos el bagging\n",
    "bagging = BaggingClassifier(**params_optimos_bag_lr)\n",
    "\n",
    "# Lo entrenamos con la totalidad del set de datos\n",
    "bagging.fit(x,y)\n",
    "\n",
    "# Predecimos las postulaciones del set final\n",
    "pred_final_proba = bagging.predict_proba(x_test_final)\n",
    "\n",
    "# Nos quedamos con la columna correspondiente de probabilidades\n",
    "df_predicciones = pd.DataFrame(pred_final_proba)\n",
    "pred_final_proba = np.array(df_predicciones[1])\n",
    "\n",
    "tf = time() - t0\n",
    "print (\"Tiempo de ejecución: %0.5f seconds.\" % tf)"
   ]
  },
  {
   "cell_type": "markdown",
   "metadata": {},
   "source": [
    "### Submit file"
   ]
  },
  {
   "cell_type": "markdown",
   "metadata": {},
   "source": [
    "#### Submit con valores binarios"
   ]
  },
  {
   "cell_type": "code",
   "execution_count": null,
   "metadata": {},
   "outputs": [],
   "source": [
    "#submit = pd.DataFrame({'id':id_aviso_postulante, 'sepostulo':pred_final})\n",
    "#submit.to_csv('submits/submit_bagging_log_reg.csv', index=False)\n",
    "roc_auc_score(np.array(test_final['label']),pred_final)"
   ]
  },
  {
   "cell_type": "code",
   "execution_count": null,
   "metadata": {},
   "outputs": [],
   "source": [
    "#submit['sepostulo'].value_counts()"
   ]
  },
  {
   "cell_type": "markdown",
   "metadata": {},
   "source": [
    "#### Submit con probabilidades"
   ]
  },
  {
   "cell_type": "code",
   "execution_count": null,
   "metadata": {},
   "outputs": [],
   "source": [
    "#submit_proba = pd.DataFrame({'id':id_aviso_postulante, 'sepostulo':pred_final_proba})\n",
    "#submit_proba.to_csv('submits/submit_bagging_log_reg_proba.csv', index=False)\n",
    "roc_auc_score(np.array(test_final['label']),pred_final_proba)"
   ]
  },
  {
   "cell_type": "code",
   "execution_count": null,
   "metadata": {},
   "outputs": [],
   "source": [
    "#no = submit_proba['sepostulo'] < 0.5\n",
    "#si = submit_proba['sepostulo'] >= 0.5\n",
    "\n",
    "#cant_no = submit_proba.loc[(no)].count()\n",
    "#cant_si = submit_proba.loc[(si)].count()\n",
    "\n",
    "#print(\"0   \", cant_no[1])\n",
    "#print(\"1   \", cant_si[1])\n",
    "#print(\"Name: sepostulo, dtype: int64\")"
   ]
  },
  {
   "cell_type": "markdown",
   "metadata": {},
   "source": [
    "## 10.2 Con Decision Tree"
   ]
  },
  {
   "cell_type": "markdown",
   "metadata": {},
   "source": [
    "### Set de entrenamiento"
   ]
  },
  {
   "cell_type": "code",
   "execution_count": 18,
   "metadata": {},
   "outputs": [
    {
     "name": "stdout",
     "output_type": "stream",
     "text": [
      "Precisión:  0.5075320512820513\n",
      "Tiempo de ejecución: 0.07600 seconds.\n"
     ]
    }
   ],
   "source": [
    "t0 = time()\n",
    "\n",
    "# Parámetros óptimos\n",
    "params_optimos_bag_dt = {'base_estimator':DecisionTreeClassifier(**params_optimos_dt), 'n_estimators':10, 'bootstrap':True,\\\n",
    "                         'bootstrap_features':True, 'oob_score':True, 'warm_start':False}\n",
    "\n",
    "# Creamos el bagging\n",
    "bagging = BaggingClassifier(**params_optimos_bag_dt)\n",
    "\n",
    "# Lo entrenamos con nuestro set de entrenamiento\n",
    "bagging.fit(x_train, y_train)\n",
    "\n",
    "# Predecimos valores de nuestro set de datos\n",
    "pred = bagging.predict(x_test)\n",
    "\n",
    "# Evaluamos la precisión\n",
    "precision = roc_auc_score(y_test, pred)\n",
    "\n",
    "print(\"Precisión: \", precision)\n",
    "\n",
    "tf = time() - t0\n",
    "print (\"Tiempo de ejecución: %0.5f seconds.\" % tf)"
   ]
  },
  {
   "cell_type": "markdown",
   "metadata": {},
   "source": [
    "### Test final"
   ]
  },
  {
   "cell_type": "markdown",
   "metadata": {},
   "source": [
    "#### Predicciones con valores binarios"
   ]
  },
  {
   "cell_type": "code",
   "execution_count": null,
   "metadata": {},
   "outputs": [],
   "source": [
    "t0 = time()\n",
    "\n",
    "# Creamos el bagging\n",
    "bagging = BaggingClassifier(**params_optimos_bag_dt)\n",
    "\n",
    "# Lo entrenamos con la totalidad del set de datos\n",
    "bagging.fit(x,y)\n",
    "\n",
    "# Predecimos las postulaciones del set final\n",
    "pred_final = bagging.predict(x_test_final)\n",
    "\n",
    "tf = time() - t0\n",
    "print (\"Tiempo de ejecución: %0.5f seconds.\" % tf)"
   ]
  },
  {
   "cell_type": "markdown",
   "metadata": {},
   "source": [
    "#### Predicciones con probabilidades"
   ]
  },
  {
   "cell_type": "code",
   "execution_count": null,
   "metadata": {},
   "outputs": [],
   "source": [
    "t0 = time()\n",
    "\n",
    "# Creamos el bagging\n",
    "bagging = BaggingClassifier(**params_optimos_bag_dt)\n",
    "\n",
    "# Lo entrenamos con la totalidad del set de datos\n",
    "bagging.fit(x,y)\n",
    "\n",
    "# Predecimos las postulaciones del set final\n",
    "pred_final_proba = bagging.predict_proba(x_test_final)\n",
    "\n",
    "# Nos quedamos con la columna correspondiente de probabilidades\n",
    "df_predicciones = pd.DataFrame(pred_final_proba)\n",
    "pred_final_proba = np.array(df_predicciones[1])\n",
    "\n",
    "tf = time() - t0\n",
    "print (\"Tiempo de ejecución: %0.5f seconds.\" % tf)"
   ]
  },
  {
   "cell_type": "markdown",
   "metadata": {},
   "source": [
    "### Submit file"
   ]
  },
  {
   "cell_type": "markdown",
   "metadata": {},
   "source": [
    "#### Submit con valores binarios"
   ]
  },
  {
   "cell_type": "code",
   "execution_count": null,
   "metadata": {},
   "outputs": [],
   "source": [
    "#submit = pd.DataFrame({'id':id_aviso_postulante, 'sepostulo':pred_final})\n",
    "#submit.to_csv('submits/submit_bagging_decision_tree.csv', index=False)\n",
    "roc_auc_score(np.array(test_final['label']),pred_final)"
   ]
  },
  {
   "cell_type": "code",
   "execution_count": null,
   "metadata": {},
   "outputs": [],
   "source": [
    "#submit['sepostulo'].value_counts()"
   ]
  },
  {
   "cell_type": "markdown",
   "metadata": {},
   "source": [
    "#### Submit con probabilidades"
   ]
  },
  {
   "cell_type": "code",
   "execution_count": null,
   "metadata": {},
   "outputs": [],
   "source": [
    "#submit_proba = pd.DataFrame({'id':id_aviso_postulante, 'sepostulo':pred_final_proba})\n",
    "#submit_proba.to_csv('submits/submit_bagging_decision_tree_proba.csv', index=False)\n",
    "roc_auc_score(np.array(test_final['label']),pred_final_proba)"
   ]
  },
  {
   "cell_type": "code",
   "execution_count": null,
   "metadata": {},
   "outputs": [],
   "source": [
    "#no = submit_proba['sepostulo'] < 0.5\n",
    "#si = submit_proba['sepostulo'] >= 0.5\n",
    "\n",
    "#cant_no = submit_proba.loc[(no)].count()\n",
    "#cant_si = submit_proba.loc[(si)].count()\n",
    "\n",
    "#print(\"0   \", cant_no[1])\n",
    "#print(\"1   \", cant_si[1])\n",
    "#print(\"Name: sepostulo, dtype: int64\")"
   ]
  },
  {
   "cell_type": "markdown",
   "metadata": {},
   "source": [
    " "
   ]
  },
  {
   "cell_type": "markdown",
   "metadata": {},
   "source": [
    "# 11. Voting"
   ]
  },
  {
   "cell_type": "markdown",
   "metadata": {},
   "source": [
    "### Set de entrenamiento"
   ]
  },
  {
   "cell_type": "code",
   "execution_count": 19,
   "metadata": {},
   "outputs": [
    {
     "name": "stdout",
     "output_type": "stream",
     "text": [
      "Precisión:  0.5075320512820513\n",
      "Tiempo de ejecución: 8.37632 seconds.\n"
     ]
    },
    {
     "name": "stderr",
     "output_type": "stream",
     "text": [
      "/home/mariano/ENTER/lib/python3.6/site-packages/sklearn/preprocessing/label.py:151: DeprecationWarning: The truth value of an empty array is ambiguous. Returning False, but in future this will result in an error. Use `array.size > 0` to check that an array is not empty.\n",
      "  if diff:\n"
     ]
    }
   ],
   "source": [
    "# Creamos los estimadores base que utilizaremos para el voting\n",
    "estimador_1 = DecisionTreeClassifier(**params_optimos_dt)\n",
    "estimador_2 = GradientBoostingClassifier(**params_optimos_gb)\n",
    "estimador_3 = ExtraTreesClassifier(**params_optimos_et)\n",
    "\n",
    "# Los agregamos a la lista de estimadores\n",
    "estimadores = []\n",
    "estimadores.append(('Naive Bayes', estimador_1))\n",
    "estimadores.append(('Logistic Regression', estimador_2))\n",
    "estimadores.append(('Random Forest', estimador_3))\n",
    "\n",
    "# Creamos el voting\n",
    "voting = VotingClassifier(estimators=estimadores)\n",
    "\n",
    "# Lo entrenamos con nuestro set de entrenamiento\n",
    "voting.fit(x_train, y_train)\n",
    "\n",
    "# Predecimos valores de nuestro set de datos\n",
    "pred = voting.predict(x_test)\n",
    "\n",
    "# Evaluamos la precisión\n",
    "precision = roc_auc_score(y_test, pred)\n",
    "\n",
    "print(\"Precisión: \", precision)\n",
    "\n",
    "tf = time() - t0\n",
    "print (\"Tiempo de ejecución: %0.5f seconds.\" % tf)"
   ]
  },
  {
   "cell_type": "markdown",
   "metadata": {},
   "source": [
    "### Test final"
   ]
  },
  {
   "cell_type": "markdown",
   "metadata": {},
   "source": [
    "#### Predicciones con valores binarios"
   ]
  },
  {
   "cell_type": "code",
   "execution_count": null,
   "metadata": {},
   "outputs": [],
   "source": [
    "t0 = time()\n",
    "\n",
    "# Creamos el voting\n",
    "voting = VotingClassifier(estimators=estimadores)\n",
    "\n",
    "# Lo entrenamos con la totalidad del set de datos\n",
    "voting.fit(x,y)\n",
    "\n",
    "# Predecimos las postulaciones del set final\n",
    "pred_final = voting.predict(x_test_final)\n",
    "\n",
    "tf = time() - t0\n",
    "print (\"Tiempo de ejecución: %0.5f seconds.\" % tf)"
   ]
  },
  {
   "cell_type": "markdown",
   "metadata": {},
   "source": [
    "### Submit file"
   ]
  },
  {
   "cell_type": "markdown",
   "metadata": {},
   "source": [
    "#### Submit con valores binarios"
   ]
  },
  {
   "cell_type": "code",
   "execution_count": null,
   "metadata": {},
   "outputs": [],
   "source": [
    "#submit = pd.DataFrame({'id':id_aviso_postulante, 'sepostulo':pred_final})\n",
    "#submit.to_csv('submits/submit_voting.csv', index=False)\n",
    "roc_auc_score(np.array(test_final['label']),pred_final)"
   ]
  },
  {
   "cell_type": "code",
   "execution_count": null,
   "metadata": {},
   "outputs": [],
   "source": [
    "#submit['sepostulo'].value_counts()"
   ]
  },
  {
   "cell_type": "markdown",
   "metadata": {},
   "source": [
    " "
   ]
  },
  {
   "cell_type": "markdown",
   "metadata": {},
   "source": [
    "# 12. XGBoost"
   ]
  },
  {
   "cell_type": "code",
   "execution_count": null,
   "metadata": {},
   "outputs": [],
   "source": []
  },
  {
   "cell_type": "markdown",
   "metadata": {},
   "source": [
    "### Set de entrenamiento"
   ]
  },
  {
   "cell_type": "code",
   "execution_count": 48,
   "metadata": {
    "scrolled": true
   },
   "outputs": [
    {
     "name": "stdout",
     "output_type": "stream",
     "text": [
      "Fitting 2 folds for each of 150 candidates, totalling 300 fits\n",
      "[CV] subsample=1.0, min_child_weight=5, max_depth=3, gamma=5, colsample_bytree=1.0 \n",
      "[CV] subsample=1.0, min_child_weight=5, max_depth=3, gamma=5, colsample_bytree=1.0 \n",
      "[CV] subsample=0.6, min_child_weight=1, max_depth=5, gamma=1.5, colsample_bytree=0.8 \n",
      "[CV] subsample=0.6, min_child_weight=1, max_depth=5, gamma=1.5, colsample_bytree=0.8 \n",
      "[CV]  subsample=1.0, min_child_weight=5, max_depth=3, gamma=5, colsample_bytree=1.0, score=0.8190471749521813, total=   1.1s\n",
      "[CV] subsample=0.8, min_child_weight=5, max_depth=5, gamma=1, colsample_bytree=0.8 \n",
      "[CV]  subsample=1.0, min_child_weight=5, max_depth=3, gamma=5, colsample_bytree=1.0, score=0.8337006286258932, total=   1.5s\n",
      "[CV] subsample=0.8, min_child_weight=5, max_depth=5, gamma=1, colsample_bytree=0.8 \n",
      "[CV]  subsample=0.6, min_child_weight=1, max_depth=5, gamma=1.5, colsample_bytree=0.8, score=0.9369317253145425, total=   1.9s\n",
      "[CV] subsample=1.0, min_child_weight=5, max_depth=5, gamma=5, colsample_bytree=0.6 \n",
      "[CV]  subsample=0.6, min_child_weight=1, max_depth=5, gamma=1.5, colsample_bytree=0.8, score=0.905655581522077, total=   2.6s\n",
      "[CV] subsample=1.0, min_child_weight=5, max_depth=5, gamma=5, colsample_bytree=0.6 \n",
      "[CV]  subsample=1.0, min_child_weight=5, max_depth=5, gamma=5, colsample_bytree=0.6, score=0.8332784744851498, total=   1.1s\n",
      "[CV] subsample=0.8, min_child_weight=1, max_depth=4, gamma=1, colsample_bytree=1.0 \n",
      "[CV]  subsample=0.8, min_child_weight=5, max_depth=5, gamma=1, colsample_bytree=0.8, score=0.9055220916581637, total=   2.1s\n",
      "[CV] subsample=0.8, min_child_weight=1, max_depth=4, gamma=1, colsample_bytree=1.0 \n",
      "[CV]  subsample=1.0, min_child_weight=5, max_depth=5, gamma=5, colsample_bytree=0.6, score=0.8553949250809427, total=   1.2s\n",
      "[CV] subsample=1.0, min_child_weight=10, max_depth=4, gamma=1.5, colsample_bytree=0.6 \n",
      "[CV]  subsample=0.8, min_child_weight=5, max_depth=5, gamma=1, colsample_bytree=0.8, score=0.9331504202776386, total=   2.7s\n",
      "[CV] subsample=1.0, min_child_weight=10, max_depth=4, gamma=1.5, colsample_bytree=0.6 \n",
      "[CV]  subsample=1.0, min_child_weight=10, max_depth=4, gamma=1.5, colsample_bytree=0.6, score=0.8630741435619483, total=   1.2s\n",
      "[CV] subsample=1.0, min_child_weight=1, max_depth=5, gamma=5, colsample_bytree=0.6 \n",
      "[CV]  subsample=1.0, min_child_weight=10, max_depth=4, gamma=1.5, colsample_bytree=0.6, score=0.890702103316493, total=   0.8s\n",
      "[CV] subsample=1.0, min_child_weight=1, max_depth=5, gamma=5, colsample_bytree=0.6 \n",
      "[CV]  subsample=0.8, min_child_weight=1, max_depth=4, gamma=1, colsample_bytree=1.0, score=0.936597486598313, total=   2.1s\n",
      "[CV] subsample=0.8, min_child_weight=1, max_depth=3, gamma=2, colsample_bytree=0.8 \n",
      "[CV]  subsample=0.8, min_child_weight=1, max_depth=4, gamma=1, colsample_bytree=1.0, score=0.9141861324146304, total=   2.6s\n",
      "[CV] subsample=0.8, min_child_weight=1, max_depth=3, gamma=2, colsample_bytree=0.8 \n",
      "[CV]  subsample=1.0, min_child_weight=1, max_depth=5, gamma=5, colsample_bytree=0.6, score=0.8366641797322156, total=   1.0s\n",
      "[CV] subsample=0.8, min_child_weight=1, max_depth=5, gamma=0.5, colsample_bytree=0.6 \n",
      "[CV]  subsample=1.0, min_child_weight=1, max_depth=5, gamma=5, colsample_bytree=0.6, score=0.8630089564957091, total=   1.1s\n",
      "[CV] subsample=0.8, min_child_weight=1, max_depth=5, gamma=0.5, colsample_bytree=0.6 \n",
      "[CV]  subsample=0.8, min_child_weight=1, max_depth=3, gamma=2, colsample_bytree=0.8, score=0.8866085894327229, total=   2.0s\n",
      "[CV] subsample=0.8, min_child_weight=1, max_depth=4, gamma=1.5, colsample_bytree=0.6 \n",
      "[CV]  subsample=0.8, min_child_weight=1, max_depth=3, gamma=2, colsample_bytree=0.8, score=0.9082900384007229, total=   2.2s\n",
      "[CV] subsample=0.8, min_child_weight=1, max_depth=4, gamma=1.5, colsample_bytree=0.6 \n",
      "[CV]  subsample=0.8, min_child_weight=1, max_depth=5, gamma=0.5, colsample_bytree=0.6, score=0.9183736911593137, total=   2.0s\n",
      "[CV] subsample=1.0, min_child_weight=1, max_depth=4, gamma=0.5, colsample_bytree=0.8 \n",
      "[CV]  subsample=0.8, min_child_weight=1, max_depth=5, gamma=0.5, colsample_bytree=0.6, score=0.9445696309233252, total=   2.0s\n",
      "[CV] subsample=1.0, min_child_weight=1, max_depth=4, gamma=0.5, colsample_bytree=0.8 \n",
      "[CV]  subsample=0.8, min_child_weight=1, max_depth=4, gamma=1.5, colsample_bytree=0.6, score=0.9082741772087086, total=   1.9s\n",
      "[CV] subsample=1.0, min_child_weight=10, max_depth=3, gamma=1.5, colsample_bytree=1.0 \n",
      "[CV]  subsample=0.8, min_child_weight=1, max_depth=4, gamma=1.5, colsample_bytree=0.6, score=0.9273673558962832, total=   2.0s\n",
      "[CV] subsample=1.0, min_child_weight=10, max_depth=3, gamma=1.5, colsample_bytree=1.0 \n",
      "[CV]  subsample=1.0, min_child_weight=1, max_depth=4, gamma=0.5, colsample_bytree=0.8, score=0.9053995735638868, total=   2.0s\n",
      "[CV] subsample=0.6, min_child_weight=10, max_depth=5, gamma=1, colsample_bytree=0.6 \n",
      "[CV]  subsample=1.0, min_child_weight=1, max_depth=4, gamma=0.5, colsample_bytree=0.8, score=0.9361530592943155, total=   2.4s\n",
      "[CV] subsample=0.6, min_child_weight=10, max_depth=5, gamma=1, colsample_bytree=0.6 \n",
      "[CV]  subsample=1.0, min_child_weight=10, max_depth=3, gamma=1.5, colsample_bytree=1.0, score=0.8497077852020086, total=   1.5s\n",
      "[CV] subsample=1.0, min_child_weight=5, max_depth=5, gamma=0.5, colsample_bytree=1.0 \n",
      "[CV]  subsample=1.0, min_child_weight=10, max_depth=3, gamma=1.5, colsample_bytree=1.0, score=0.8846922340919816, total=   1.4s\n",
      "[CV] subsample=1.0, min_child_weight=5, max_depth=5, gamma=0.5, colsample_bytree=1.0 \n"
     ]
    },
    {
     "name": "stderr",
     "output_type": "stream",
     "text": [
      "[Parallel(n_jobs=4)]: Done  24 tasks      | elapsed:   11.6s\n"
     ]
    },
    {
     "name": "stdout",
     "output_type": "stream",
     "text": [
      "[CV]  subsample=0.6, min_child_weight=10, max_depth=5, gamma=1, colsample_bytree=0.6, score=0.8798993522998659, total=   1.6s\n",
      "[CV] subsample=1.0, min_child_weight=1, max_depth=5, gamma=0.5, colsample_bytree=1.0 \n",
      "[CV]  subsample=0.6, min_child_weight=10, max_depth=5, gamma=1, colsample_bytree=0.6, score=0.9107803004842788, total=   2.0s\n",
      "[CV] subsample=1.0, min_child_weight=1, max_depth=5, gamma=0.5, colsample_bytree=1.0 \n",
      "[CV]  subsample=1.0, min_child_weight=5, max_depth=5, gamma=0.5, colsample_bytree=1.0, score=0.9014643655208482, total=   2.1s\n",
      "[CV] subsample=0.8, min_child_weight=10, max_depth=4, gamma=1.5, colsample_bytree=0.8 \n",
      "[CV]  subsample=1.0, min_child_weight=1, max_depth=5, gamma=0.5, colsample_bytree=1.0, score=0.9145427149278241, total=   2.3s\n",
      "[CV] subsample=0.8, min_child_weight=10, max_depth=4, gamma=1.5, colsample_bytree=0.8 \n",
      "[CV]  subsample=1.0, min_child_weight=5, max_depth=5, gamma=0.5, colsample_bytree=1.0, score=0.9304030514892905, total=   3.2s\n",
      "[CV] subsample=1.0, min_child_weight=10, max_depth=4, gamma=1, colsample_bytree=1.0 \n",
      "[CV]  subsample=0.8, min_child_weight=10, max_depth=4, gamma=1.5, colsample_bytree=0.8, score=0.8858679949822441, total=   1.8s\n",
      "[CV] subsample=1.0, min_child_weight=10, max_depth=4, gamma=1, colsample_bytree=1.0 \n",
      "[CV]  subsample=1.0, min_child_weight=1, max_depth=5, gamma=0.5, colsample_bytree=1.0, score=0.9410215583971968, total=   2.6s\n",
      "[CV] subsample=0.8, min_child_weight=10, max_depth=4, gamma=1.5, colsample_bytree=1.0 \n",
      "[CV]  subsample=1.0, min_child_weight=10, max_depth=4, gamma=1, colsample_bytree=1.0, score=0.9002701456876777, total=   1.6s\n",
      "[CV] subsample=0.8, min_child_weight=10, max_depth=4, gamma=1.5, colsample_bytree=1.0 \n",
      "[CV]  subsample=0.8, min_child_weight=10, max_depth=4, gamma=1.5, colsample_bytree=0.8, score=0.9086059123523244, total=   2.4s\n",
      "[CV] subsample=0.6, min_child_weight=1, max_depth=4, gamma=0.5, colsample_bytree=0.8 \n",
      "[CV]  subsample=1.0, min_child_weight=10, max_depth=4, gamma=1, colsample_bytree=1.0, score=0.8734918388320186, total=   2.3s\n",
      "[CV] subsample=0.6, min_child_weight=1, max_depth=4, gamma=0.5, colsample_bytree=0.8 \n",
      "[CV]  subsample=0.8, min_child_weight=10, max_depth=4, gamma=1.5, colsample_bytree=1.0, score=0.8892820439675383, total=   2.0s\n",
      "[CV] subsample=0.6, min_child_weight=1, max_depth=5, gamma=2, colsample_bytree=0.8 \n",
      "[CV]  subsample=0.6, min_child_weight=1, max_depth=4, gamma=0.5, colsample_bytree=0.8, score=0.9397782638318816, total=   1.7s\n",
      "[CV] subsample=0.6, min_child_weight=1, max_depth=5, gamma=2, colsample_bytree=0.8 \n",
      "[CV]  subsample=0.6, min_child_weight=1, max_depth=4, gamma=0.5, colsample_bytree=0.8, score=0.9058110149252638, total=   2.5s\n",
      "[CV] subsample=1.0, min_child_weight=5, max_depth=4, gamma=1, colsample_bytree=1.0 \n",
      "[CV]  subsample=0.8, min_child_weight=10, max_depth=4, gamma=1.5, colsample_bytree=1.0, score=0.9082477994420783, total=   2.8s\n",
      "[CV] subsample=1.0, min_child_weight=5, max_depth=4, gamma=1, colsample_bytree=1.0 \n",
      "[CV]  subsample=0.6, min_child_weight=1, max_depth=5, gamma=2, colsample_bytree=0.8, score=0.9011406983165648, total=   1.8s\n",
      "[CV] subsample=0.8, min_child_weight=1, max_depth=3, gamma=1.5, colsample_bytree=0.6 \n",
      "[CV]  subsample=0.8, min_child_weight=1, max_depth=3, gamma=1.5, colsample_bytree=0.6, score=0.890161614166749, total=   1.0s\n",
      "[CV] subsample=0.8, min_child_weight=1, max_depth=3, gamma=1.5, colsample_bytree=0.6 \n",
      "[CV]  subsample=1.0, min_child_weight=5, max_depth=4, gamma=1, colsample_bytree=1.0, score=0.8800877010119629, total=   1.4s\n",
      "[CV] subsample=1.0, min_child_weight=1, max_depth=5, gamma=0.5, colsample_bytree=0.8 \n",
      "[CV]  subsample=1.0, min_child_weight=5, max_depth=4, gamma=1, colsample_bytree=1.0, score=0.9086931449843072, total=   1.9s\n",
      "[CV] subsample=1.0, min_child_weight=1, max_depth=5, gamma=0.5, colsample_bytree=0.8 \n",
      "[CV]  subsample=0.6, min_child_weight=1, max_depth=5, gamma=2, colsample_bytree=0.8, score=0.9290605871949842, total=   2.6s\n",
      "[CV] subsample=1.0, min_child_weight=5, max_depth=3, gamma=1.5, colsample_bytree=0.6 \n",
      "[CV]  subsample=0.8, min_child_weight=1, max_depth=3, gamma=1.5, colsample_bytree=0.6, score=0.9132577072325953, total=   1.4s\n",
      "[CV] subsample=1.0, min_child_weight=5, max_depth=3, gamma=1.5, colsample_bytree=0.6 \n",
      "[CV]  subsample=1.0, min_child_weight=1, max_depth=5, gamma=0.5, colsample_bytree=0.8, score=0.9132754755347824, total=   1.7s\n",
      "[CV] subsample=0.6, min_child_weight=5, max_depth=3, gamma=0.5, colsample_bytree=0.6 \n",
      "[CV]  subsample=1.0, min_child_weight=5, max_depth=3, gamma=1.5, colsample_bytree=0.6, score=0.8611760274147952, total=   1.1s\n",
      "[CV] subsample=0.6, min_child_weight=5, max_depth=3, gamma=0.5, colsample_bytree=0.6 \n",
      "[CV]  subsample=1.0, min_child_weight=5, max_depth=3, gamma=1.5, colsample_bytree=0.6, score=0.8886204572459098, total=   1.3s\n",
      "[CV] subsample=0.6, min_child_weight=10, max_depth=5, gamma=1.5, colsample_bytree=0.8 \n",
      "[CV]  subsample=1.0, min_child_weight=1, max_depth=5, gamma=0.5, colsample_bytree=0.8, score=0.9420665135045296, total=   2.2s\n",
      "[CV] subsample=0.6, min_child_weight=10, max_depth=5, gamma=1.5, colsample_bytree=0.8 \n",
      "[CV]  subsample=0.6, min_child_weight=5, max_depth=3, gamma=0.5, colsample_bytree=0.6, score=0.8793068767394826, total=   1.3s\n",
      "[CV] subsample=1.0, min_child_weight=10, max_depth=5, gamma=0.5, colsample_bytree=0.8 \n",
      "[CV]  subsample=0.6, min_child_weight=5, max_depth=3, gamma=0.5, colsample_bytree=0.6, score=0.9084608307117631, total=   1.3s\n",
      "[CV] subsample=1.0, min_child_weight=10, max_depth=5, gamma=0.5, colsample_bytree=0.8 \n",
      "[CV]  subsample=0.6, min_child_weight=10, max_depth=5, gamma=1.5, colsample_bytree=0.8, score=0.8775459077127883, total=   2.1s\n",
      "[CV] subsample=0.6, min_child_weight=5, max_depth=5, gamma=2, colsample_bytree=0.6 \n",
      "[CV]  subsample=1.0, min_child_weight=10, max_depth=5, gamma=0.5, colsample_bytree=0.8, score=0.8980539737920995, total=   1.9s\n",
      "[CV] subsample=0.6, min_child_weight=5, max_depth=5, gamma=2, colsample_bytree=0.6 \n",
      "[CV]  subsample=0.6, min_child_weight=10, max_depth=5, gamma=1.5, colsample_bytree=0.8, score=0.907867648814279, total=   2.8s\n",
      "[CV] subsample=1.0, min_child_weight=5, max_depth=4, gamma=0.5, colsample_bytree=1.0 \n",
      "[CV]  subsample=1.0, min_child_weight=10, max_depth=5, gamma=0.5, colsample_bytree=0.8, score=0.9206623803306025, total=   2.8s\n",
      "[CV] subsample=1.0, min_child_weight=5, max_depth=4, gamma=0.5, colsample_bytree=1.0 \n",
      "[CV]  subsample=0.6, min_child_weight=5, max_depth=5, gamma=2, colsample_bytree=0.6, score=0.9141502347935156, total=   1.5s\n",
      "[CV] subsample=0.8, min_child_weight=10, max_depth=3, gamma=1, colsample_bytree=0.6 \n",
      "[CV]  subsample=0.6, min_child_weight=5, max_depth=5, gamma=2, colsample_bytree=0.6, score=0.8853285496417717, total=   1.7s\n",
      "[CV] subsample=0.8, min_child_weight=10, max_depth=3, gamma=1, colsample_bytree=0.6 \n",
      "[CV]  subsample=1.0, min_child_weight=5, max_depth=4, gamma=0.5, colsample_bytree=1.0, score=0.8930398750681164, total=   1.8s\n",
      "[CV] subsample=1.0, min_child_weight=5, max_depth=4, gamma=1, colsample_bytree=0.8 \n",
      "[CV]  subsample=0.8, min_child_weight=10, max_depth=3, gamma=1, colsample_bytree=0.6, score=0.8754612714818106, total=   1.0s\n",
      "[CV] subsample=1.0, min_child_weight=5, max_depth=4, gamma=1, colsample_bytree=0.8 \n",
      "[CV]  subsample=0.8, min_child_weight=10, max_depth=3, gamma=1, colsample_bytree=0.6, score=0.8964117086393363, total=   1.6s\n",
      "[CV] subsample=1.0, min_child_weight=5, max_depth=5, gamma=1.5, colsample_bytree=0.8 \n",
      "[CV]  subsample=1.0, min_child_weight=5, max_depth=4, gamma=0.5, colsample_bytree=1.0, score=0.9224823285052366, total=   2.7s\n",
      "[CV] subsample=1.0, min_child_weight=5, max_depth=5, gamma=1.5, colsample_bytree=0.8 \n",
      "[CV]  subsample=1.0, min_child_weight=5, max_depth=4, gamma=1, colsample_bytree=0.8, score=0.9100392822315393, total=   1.2s\n",
      "[CV] subsample=1.0, min_child_weight=10, max_depth=5, gamma=1.5, colsample_bytree=0.8 \n",
      "[CV]  subsample=1.0, min_child_weight=5, max_depth=4, gamma=1, colsample_bytree=0.8, score=0.8802431344151498, total=   1.6s\n",
      "[CV] subsample=1.0, min_child_weight=10, max_depth=5, gamma=1.5, colsample_bytree=0.8 \n",
      "[CV]  subsample=1.0, min_child_weight=5, max_depth=5, gamma=1.5, colsample_bytree=0.8, score=0.8792117880692977, total=   1.7s\n"
     ]
    },
    {
     "name": "stdout",
     "output_type": "stream",
     "text": [
      "[CV] subsample=1.0, min_child_weight=5, max_depth=5, gamma=5, colsample_bytree=1.0 \n",
      "[CV]  subsample=1.0, min_child_weight=5, max_depth=5, gamma=1.5, colsample_bytree=0.8, score=0.9095627165894428, total=   1.2s\n",
      "[CV] subsample=1.0, min_child_weight=5, max_depth=5, gamma=5, colsample_bytree=1.0 \n",
      "[CV]  subsample=1.0, min_child_weight=10, max_depth=5, gamma=1.5, colsample_bytree=0.8, score=0.868820607909183, total=   1.9s\n",
      "[CV] subsample=0.8, min_child_weight=10, max_depth=5, gamma=2, colsample_bytree=1.0 \n",
      "[CV]  subsample=1.0, min_child_weight=10, max_depth=5, gamma=1.5, colsample_bytree=0.8, score=0.9009083212585006, total=   1.9s\n",
      "[CV] subsample=0.8, min_child_weight=10, max_depth=5, gamma=2, colsample_bytree=1.0 \n",
      "[CV]  subsample=1.0, min_child_weight=5, max_depth=5, gamma=5, colsample_bytree=1.0, score=0.8267155276141156, total=   2.3s\n",
      "[CV] subsample=1.0, min_child_weight=5, max_depth=5, gamma=1, colsample_bytree=1.0 \n",
      "[CV]  subsample=1.0, min_child_weight=5, max_depth=5, gamma=5, colsample_bytree=1.0, score=0.8505907026542594, total=   3.0s\n",
      "[CV] subsample=1.0, min_child_weight=5, max_depth=5, gamma=1, colsample_bytree=1.0 \n",
      "[CV]  subsample=0.8, min_child_weight=10, max_depth=5, gamma=2, colsample_bytree=1.0, score=0.9072891587284971, total=   2.1s\n",
      "[CV] subsample=1.0, min_child_weight=1, max_depth=3, gamma=1.5, colsample_bytree=0.6 \n",
      "[CV]  subsample=0.8, min_child_weight=10, max_depth=5, gamma=2, colsample_bytree=1.0, score=0.8841070259555497, total=   2.9s\n",
      "[CV] subsample=1.0, min_child_weight=1, max_depth=3, gamma=1.5, colsample_bytree=0.6 \n",
      "[CV]  subsample=1.0, min_child_weight=5, max_depth=5, gamma=1, colsample_bytree=1.0, score=0.8863086943959857, total=   1.7s\n",
      "[CV] subsample=0.8, min_child_weight=1, max_depth=4, gamma=1.5, colsample_bytree=0.8 \n",
      "[CV]  subsample=1.0, min_child_weight=1, max_depth=3, gamma=1.5, colsample_bytree=0.6, score=0.872257514747887, total=   0.8s\n",
      "[CV] subsample=0.8, min_child_weight=1, max_depth=4, gamma=1.5, colsample_bytree=0.8 \n",
      "[CV]  subsample=1.0, min_child_weight=1, max_depth=3, gamma=1.5, colsample_bytree=0.6, score=0.8973786134970001, total=   0.7s\n",
      "[CV] subsample=1.0, min_child_weight=1, max_depth=4, gamma=1.5, colsample_bytree=0.8 \n",
      "[CV]  subsample=1.0, min_child_weight=5, max_depth=5, gamma=1, colsample_bytree=1.0, score=0.9147030142088184, total=   1.9s\n",
      "[CV] subsample=1.0, min_child_weight=1, max_depth=4, gamma=1.5, colsample_bytree=0.8 \n",
      "[CV]  subsample=0.8, min_child_weight=1, max_depth=4, gamma=1.5, colsample_bytree=0.8, score=0.9076579294807793, total=   1.7s\n",
      "[CV] subsample=1.0, min_child_weight=10, max_depth=5, gamma=2, colsample_bytree=1.0 \n",
      "[CV]  subsample=1.0, min_child_weight=1, max_depth=4, gamma=1.5, colsample_bytree=0.8, score=0.9157654158425479, total=   1.0s\n",
      "[CV] subsample=1.0, min_child_weight=10, max_depth=5, gamma=2, colsample_bytree=1.0 \n",
      "[CV]  subsample=1.0, min_child_weight=1, max_depth=4, gamma=1.5, colsample_bytree=0.8, score=0.8882397258520494, total=   1.6s\n",
      "[CV] subsample=1.0, min_child_weight=10, max_depth=5, gamma=1.5, colsample_bytree=1.0 \n",
      "[CV]  subsample=0.8, min_child_weight=1, max_depth=4, gamma=1.5, colsample_bytree=0.8, score=0.9302304227017876, total=   2.1s\n",
      "[CV] subsample=1.0, min_child_weight=10, max_depth=5, gamma=1.5, colsample_bytree=1.0 \n",
      "[CV]  subsample=1.0, min_child_weight=10, max_depth=5, gamma=2, colsample_bytree=1.0, score=0.8918195992441063, total=   1.5s\n",
      "[CV] subsample=0.8, min_child_weight=1, max_depth=5, gamma=5, colsample_bytree=1.0 \n",
      "[CV]  subsample=1.0, min_child_weight=10, max_depth=5, gamma=2, colsample_bytree=1.0, score=0.8565815988794167, total=   2.5s\n",
      "[CV] subsample=0.8, min_child_weight=1, max_depth=5, gamma=5, colsample_bytree=1.0 \n",
      "[CV]  subsample=1.0, min_child_weight=10, max_depth=5, gamma=1.5, colsample_bytree=1.0, score=0.8726387837427633, total=   2.3s\n",
      "[CV] subsample=0.6, min_child_weight=5, max_depth=3, gamma=1.5, colsample_bytree=0.6 \n",
      "[CV]  subsample=1.0, min_child_weight=10, max_depth=5, gamma=1.5, colsample_bytree=1.0, score=0.9013867233770598, total=   2.3s\n",
      "[CV] subsample=0.6, min_child_weight=5, max_depth=3, gamma=1.5, colsample_bytree=0.6 \n",
      "[CV]  subsample=0.8, min_child_weight=1, max_depth=5, gamma=5, colsample_bytree=1.0, score=0.8565203398322783, total=   1.9s\n",
      "[CV] subsample=0.6, min_child_weight=5, max_depth=3, gamma=5, colsample_bytree=1.0 \n",
      "[CV]  subsample=0.6, min_child_weight=5, max_depth=3, gamma=1.5, colsample_bytree=0.6, score=0.8756112190001792, total=   1.3s\n",
      "[CV] subsample=0.6, min_child_weight=5, max_depth=3, gamma=5, colsample_bytree=1.0 \n",
      "[CV]  subsample=0.6, min_child_weight=5, max_depth=3, gamma=1.5, colsample_bytree=0.6, score=0.9026373638482261, total=   1.7s\n",
      "[CV] subsample=0.6, min_child_weight=10, max_depth=4, gamma=0.5, colsample_bytree=0.6 \n",
      "[CV]  subsample=0.6, min_child_weight=5, max_depth=3, gamma=5, colsample_bytree=1.0, score=0.8276389848918733, total=   1.4s\n",
      "[CV] subsample=0.6, min_child_weight=10, max_depth=4, gamma=0.5, colsample_bytree=0.6 \n",
      "[CV]  subsample=0.8, min_child_weight=1, max_depth=5, gamma=5, colsample_bytree=1.0, score=0.8788320376991888, total=   2.5s\n",
      "[CV] subsample=0.8, min_child_weight=10, max_depth=4, gamma=1, colsample_bytree=0.6 \n",
      "[CV]  subsample=0.6, min_child_weight=5, max_depth=3, gamma=5, colsample_bytree=1.0, score=0.8589411611306084, total=   1.3s\n",
      "[CV] subsample=0.8, min_child_weight=10, max_depth=4, gamma=1, colsample_bytree=0.6 \n",
      "[CV]  subsample=0.6, min_child_weight=10, max_depth=4, gamma=0.5, colsample_bytree=0.6, score=0.8779939216396213, total=   1.5s\n",
      "[CV] subsample=1.0, min_child_weight=5, max_depth=5, gamma=1.5, colsample_bytree=1.0 \n",
      "[CV]  subsample=0.8, min_child_weight=10, max_depth=4, gamma=1, colsample_bytree=0.6, score=0.9095663895423685, total=   1.3s\n",
      "[CV] subsample=1.0, min_child_weight=5, max_depth=5, gamma=1.5, colsample_bytree=1.0 \n",
      "[CV]  subsample=0.6, min_child_weight=10, max_depth=4, gamma=0.5, colsample_bytree=0.6, score=0.9077574602265109, total=   2.0s\n",
      "[CV] subsample=1.0, min_child_weight=5, max_depth=4, gamma=5, colsample_bytree=1.0 \n",
      "[CV]  subsample=0.8, min_child_weight=10, max_depth=4, gamma=1, colsample_bytree=0.6, score=0.8868956840715506, total=   2.0s\n",
      "[CV] subsample=1.0, min_child_weight=5, max_depth=4, gamma=5, colsample_bytree=1.0 \n",
      "[CV]  subsample=1.0, min_child_weight=5, max_depth=5, gamma=1.5, colsample_bytree=1.0, score=0.8772332122781417, total=   1.2s\n",
      "[CV] subsample=0.6, min_child_weight=10, max_depth=3, gamma=0.5, colsample_bytree=1.0 \n",
      "[CV]  subsample=1.0, min_child_weight=5, max_depth=5, gamma=1.5, colsample_bytree=1.0, score=0.9065224298052784, total=   1.3s\n",
      "[CV] subsample=0.6, min_child_weight=10, max_depth=3, gamma=0.5, colsample_bytree=1.0 \n",
      "[CV]  subsample=0.6, min_child_weight=10, max_depth=3, gamma=0.5, colsample_bytree=1.0, score=0.8723215167374345, total=   1.7s\n",
      "[CV] subsample=0.8, min_child_weight=5, max_depth=5, gamma=1, colsample_bytree=1.0 \n",
      "[CV]  subsample=0.6, min_child_weight=10, max_depth=3, gamma=0.5, colsample_bytree=1.0, score=0.8982720592961521, total=   1.7s\n",
      "[CV] subsample=0.8, min_child_weight=5, max_depth=5, gamma=1, colsample_bytree=1.0 \n",
      "[CV]  subsample=1.0, min_child_weight=5, max_depth=4, gamma=5, colsample_bytree=1.0, score=0.8224374517699293, total=   2.7s\n",
      "[CV] subsample=0.6, min_child_weight=10, max_depth=5, gamma=2, colsample_bytree=0.6 \n",
      "[CV]  subsample=1.0, min_child_weight=5, max_depth=4, gamma=5, colsample_bytree=1.0, score=0.8459434989651455, total=   2.9s\n",
      "[CV] subsample=0.6, min_child_weight=10, max_depth=5, gamma=2, colsample_bytree=0.6 \n",
      "[CV]  subsample=0.8, min_child_weight=5, max_depth=5, gamma=1, colsample_bytree=1.0, score=0.9048162411448676, total=   2.7s\n",
      "[CV] subsample=0.6, min_child_weight=5, max_depth=4, gamma=1, colsample_bytree=0.6 \n",
      "[CV]  subsample=0.6, min_child_weight=10, max_depth=5, gamma=2, colsample_bytree=0.6, score=0.8690464435008722, total=   2.4s\n",
      "[CV] subsample=0.6, min_child_weight=5, max_depth=4, gamma=1, colsample_bytree=0.6 \n",
      "[CV]  subsample=0.6, min_child_weight=10, max_depth=5, gamma=2, colsample_bytree=0.6, score=0.8957368035392574, total=   2.4s\n",
      "[CV] subsample=0.8, min_child_weight=10, max_depth=3, gamma=1.5, colsample_bytree=1.0 \n",
      "[CV]  subsample=0.8, min_child_weight=5, max_depth=5, gamma=1, colsample_bytree=1.0, score=0.9340328472180136, total=   2.6s\n"
     ]
    },
    {
     "name": "stdout",
     "output_type": "stream",
     "text": [
      "[CV] subsample=0.8, min_child_weight=10, max_depth=3, gamma=1.5, colsample_bytree=1.0 \n",
      "[CV]  subsample=0.6, min_child_weight=5, max_depth=4, gamma=1, colsample_bytree=0.6, score=0.8913758233398799, total=   1.9s\n",
      "[CV] subsample=0.6, min_child_weight=10, max_depth=4, gamma=1, colsample_bytree=0.8 \n",
      "[CV]  subsample=0.6, min_child_weight=5, max_depth=4, gamma=1, colsample_bytree=0.6, score=0.9211398642109302, total=   1.5s\n",
      "[CV] subsample=0.6, min_child_weight=10, max_depth=4, gamma=1, colsample_bytree=0.8 \n",
      "[CV]  subsample=0.8, min_child_weight=10, max_depth=3, gamma=1.5, colsample_bytree=1.0, score=0.8978827262860385, total=   1.4s\n",
      "[CV] subsample=1.0, min_child_weight=10, max_depth=5, gamma=5, colsample_bytree=0.6 \n",
      "[CV]  subsample=0.8, min_child_weight=10, max_depth=3, gamma=1.5, colsample_bytree=1.0, score=0.8751888058691653, total=   1.9s\n",
      "[CV] subsample=1.0, min_child_weight=10, max_depth=5, gamma=5, colsample_bytree=0.6 \n",
      "[CV]  subsample=1.0, min_child_weight=10, max_depth=5, gamma=5, colsample_bytree=0.6, score=0.8264211184621968, total=   1.0s\n",
      "[CV] subsample=0.8, min_child_weight=5, max_depth=5, gamma=2, colsample_bytree=1.0 \n",
      "[CV]  subsample=0.6, min_child_weight=10, max_depth=4, gamma=1, colsample_bytree=0.8, score=0.878632112906824, total=   1.6s\n",
      "[CV] subsample=0.8, min_child_weight=5, max_depth=5, gamma=2, colsample_bytree=1.0 \n",
      "[CV]  subsample=1.0, min_child_weight=10, max_depth=5, gamma=5, colsample_bytree=0.6, score=0.8467083914119015, total=   1.1s\n",
      "[CV] subsample=0.6, min_child_weight=1, max_depth=5, gamma=5, colsample_bytree=0.6 \n",
      "[CV]  subsample=0.6, min_child_weight=10, max_depth=4, gamma=1, colsample_bytree=0.8, score=0.9083928810826396, total=   2.1s\n",
      "[CV] subsample=0.6, min_child_weight=1, max_depth=5, gamma=5, colsample_bytree=0.6 \n",
      "[CV]  subsample=0.6, min_child_weight=1, max_depth=5, gamma=5, colsample_bytree=0.6, score=0.8448866067608045, total=   1.6s\n",
      "[CV] subsample=0.6, min_child_weight=10, max_depth=3, gamma=2, colsample_bytree=0.8 \n",
      "[CV]  subsample=0.8, min_child_weight=5, max_depth=5, gamma=2, colsample_bytree=1.0, score=0.8926357482198304, total=   2.5s\n",
      "[CV] subsample=0.6, min_child_weight=10, max_depth=3, gamma=2, colsample_bytree=0.8 \n",
      "[CV]  subsample=0.6, min_child_weight=1, max_depth=5, gamma=5, colsample_bytree=0.6, score=0.8765346056442268, total=   1.8s\n",
      "[CV] subsample=0.6, min_child_weight=10, max_depth=3, gamma=1, colsample_bytree=0.8 \n",
      "[CV]  subsample=0.8, min_child_weight=5, max_depth=5, gamma=2, colsample_bytree=1.0, score=0.9146258821973807, total=   2.4s\n",
      "[CV] subsample=0.6, min_child_weight=10, max_depth=3, gamma=1, colsample_bytree=0.8 \n",
      "[CV]  subsample=0.6, min_child_weight=10, max_depth=3, gamma=2, colsample_bytree=0.8, score=0.8865424841282521, total=   1.5s\n",
      "[CV] subsample=0.8, min_child_weight=5, max_depth=5, gamma=5, colsample_bytree=0.6 \n",
      "[CV]  subsample=0.6, min_child_weight=10, max_depth=3, gamma=1, colsample_bytree=0.8, score=0.8690080423071437, total=   1.5s\n",
      "[CV] subsample=0.8, min_child_weight=5, max_depth=5, gamma=5, colsample_bytree=0.6 \n",
      "[CV]  subsample=0.6, min_child_weight=10, max_depth=3, gamma=2, colsample_bytree=0.8, score=0.8582264500107889, total=   2.2s\n",
      "[CV] subsample=0.6, min_child_weight=10, max_depth=5, gamma=0.5, colsample_bytree=0.8 \n",
      "[CV]  subsample=0.6, min_child_weight=10, max_depth=3, gamma=1, colsample_bytree=0.8, score=0.896147256028693, total=   2.1s\n",
      "[CV] subsample=0.6, min_child_weight=10, max_depth=5, gamma=0.5, colsample_bytree=0.8 \n",
      "[CV]  subsample=0.8, min_child_weight=5, max_depth=5, gamma=5, colsample_bytree=0.6, score=0.8662797210759547, total=   1.4s\n",
      "[CV] subsample=0.6, min_child_weight=5, max_depth=5, gamma=1.5, colsample_bytree=0.6 \n",
      "[CV]  subsample=0.8, min_child_weight=5, max_depth=5, gamma=5, colsample_bytree=0.6, score=0.8420915484458489, total=   1.6s\n",
      "[CV] subsample=0.6, min_child_weight=5, max_depth=5, gamma=1.5, colsample_bytree=0.6 \n"
     ]
    },
    {
     "name": "stderr",
     "output_type": "stream",
     "text": [
      "[Parallel(n_jobs=4)]: Done 120 tasks      | elapsed:   58.5s\n"
     ]
    },
    {
     "name": "stdout",
     "output_type": "stream",
     "text": [
      "[CV]  subsample=0.6, min_child_weight=10, max_depth=5, gamma=0.5, colsample_bytree=0.8, score=0.9146662846795623, total=   2.2s\n",
      "[CV] subsample=0.6, min_child_weight=5, max_depth=5, gamma=2, colsample_bytree=0.8 \n",
      "[CV]  subsample=0.6, min_child_weight=10, max_depth=5, gamma=0.5, colsample_bytree=0.8, score=0.8863873254117157, total=   2.9s\n",
      "[CV] subsample=0.6, min_child_weight=5, max_depth=5, gamma=2, colsample_bytree=0.8 \n",
      "[CV]  subsample=0.6, min_child_weight=5, max_depth=5, gamma=1.5, colsample_bytree=0.6, score=0.8920176718636281, total=   1.9s\n",
      "[CV] subsample=1.0, min_child_weight=5, max_depth=4, gamma=5, colsample_bytree=0.6 \n",
      "[CV]  subsample=0.6, min_child_weight=5, max_depth=5, gamma=1.5, colsample_bytree=0.6, score=0.9211563924990955, total=   2.2s\n",
      "[CV] subsample=1.0, min_child_weight=5, max_depth=4, gamma=5, colsample_bytree=0.6 \n",
      "[CV]  subsample=1.0, min_child_weight=5, max_depth=4, gamma=5, colsample_bytree=0.6, score=0.8300728891229533, total=   1.0s\n",
      "[CV] subsample=0.6, min_child_weight=1, max_depth=4, gamma=1, colsample_bytree=1.0 \n",
      "[CV]  subsample=1.0, min_child_weight=5, max_depth=4, gamma=5, colsample_bytree=0.6, score=0.8521057957360689, total=   0.9s\n",
      "[CV] subsample=0.6, min_child_weight=1, max_depth=4, gamma=1, colsample_bytree=1.0 \n",
      "[CV]  subsample=0.6, min_child_weight=5, max_depth=5, gamma=2, colsample_bytree=0.8, score=0.8883768729725083, total=   3.1s\n",
      "[CV] subsample=1.0, min_child_weight=5, max_depth=4, gamma=1, colsample_bytree=0.6 \n",
      "[CV]  subsample=0.6, min_child_weight=5, max_depth=5, gamma=2, colsample_bytree=0.8, score=0.9173108107859935, total=   3.2s\n",
      "[CV] subsample=1.0, min_child_weight=5, max_depth=4, gamma=1, colsample_bytree=0.6 \n",
      "[CV]  subsample=0.6, min_child_weight=1, max_depth=4, gamma=1, colsample_bytree=1.0, score=0.9085832153868098, total=   2.7s\n",
      "[CV] subsample=0.6, min_child_weight=10, max_depth=4, gamma=5, colsample_bytree=0.8 \n",
      "[CV]  subsample=1.0, min_child_weight=5, max_depth=4, gamma=1, colsample_bytree=0.6, score=0.9088813838217443, total=   1.4s\n",
      "[CV] subsample=0.6, min_child_weight=10, max_depth=4, gamma=5, colsample_bytree=0.8 \n",
      "[CV]  subsample=0.6, min_child_weight=1, max_depth=4, gamma=1, colsample_bytree=1.0, score=0.9380391206216104, total=   3.0s\n",
      "[CV] subsample=0.8, min_child_weight=1, max_depth=4, gamma=0.5, colsample_bytree=0.8 \n",
      "[CV]  subsample=1.0, min_child_weight=5, max_depth=4, gamma=1, colsample_bytree=0.6, score=0.8844690943535616, total=   1.8s\n",
      "[CV] subsample=0.8, min_child_weight=1, max_depth=4, gamma=0.5, colsample_bytree=0.8 \n",
      "[CV]  subsample=0.6, min_child_weight=10, max_depth=4, gamma=5, colsample_bytree=0.8, score=0.8230198698748121, total=   1.9s\n",
      "[CV] subsample=1.0, min_child_weight=5, max_depth=5, gamma=1, colsample_bytree=0.8 \n",
      "[CV]  subsample=0.6, min_child_weight=10, max_depth=4, gamma=5, colsample_bytree=0.8, score=0.8486780124182537, total=   2.6s\n",
      "[CV] subsample=1.0, min_child_weight=5, max_depth=5, gamma=1, colsample_bytree=0.8 \n",
      "[CV]  subsample=0.8, min_child_weight=1, max_depth=4, gamma=0.5, colsample_bytree=0.8, score=0.9154625149490363, total=   2.9s\n",
      "[CV] subsample=0.8, min_child_weight=10, max_depth=5, gamma=5, colsample_bytree=0.8 \n",
      "[CV]  subsample=1.0, min_child_weight=5, max_depth=5, gamma=1, colsample_bytree=0.8, score=0.8864275552337171, total=   2.4s\n",
      "[CV] subsample=0.8, min_child_weight=10, max_depth=5, gamma=5, colsample_bytree=0.8 \n",
      "[CV]  subsample=0.8, min_child_weight=1, max_depth=4, gamma=0.5, colsample_bytree=0.8, score=0.9374202280536472, total=   4.0s\n",
      "[CV] subsample=1.0, min_child_weight=1, max_depth=3, gamma=1, colsample_bytree=1.0 \n",
      "[CV]  subsample=1.0, min_child_weight=5, max_depth=5, gamma=1, colsample_bytree=0.8, score=0.9176799425550163, total=   2.3s\n",
      "[CV] subsample=1.0, min_child_weight=1, max_depth=3, gamma=1, colsample_bytree=1.0 \n",
      "[CV]  subsample=0.8, min_child_weight=10, max_depth=5, gamma=5, colsample_bytree=0.8, score=0.8359107848838272, total=   2.2s\n",
      "[CV] subsample=0.8, min_child_weight=1, max_depth=4, gamma=5, colsample_bytree=1.0 \n",
      "[CV]  subsample=1.0, min_child_weight=1, max_depth=3, gamma=1, colsample_bytree=1.0, score=0.87870160078119, total=   1.8s\n",
      "[CV] subsample=0.8, min_child_weight=1, max_depth=4, gamma=5, colsample_bytree=1.0 \n",
      "[CV]  subsample=0.8, min_child_weight=10, max_depth=5, gamma=5, colsample_bytree=0.8, score=0.8588934127425756, total=   2.7s\n",
      "[CV] subsample=0.6, min_child_weight=5, max_depth=4, gamma=1.5, colsample_bytree=1.0 \n",
      "[CV]  subsample=0.8, min_child_weight=1, max_depth=4, gamma=5, colsample_bytree=1.0, score=0.8488821595368451, total=   2.0s\n",
      "[CV] subsample=0.6, min_child_weight=5, max_depth=4, gamma=1.5, colsample_bytree=1.0 \n",
      "[CV]  subsample=1.0, min_child_weight=1, max_depth=3, gamma=1, colsample_bytree=1.0, score=0.9077785797058331, total=   2.4s\n",
      "[CV] subsample=0.8, min_child_weight=1, max_depth=5, gamma=5, colsample_bytree=0.8 \n",
      "[CV]  subsample=0.8, min_child_weight=1, max_depth=4, gamma=5, colsample_bytree=1.0, score=0.8759083671704121, total=   2.4s\n",
      "[CV] subsample=0.8, min_child_weight=1, max_depth=5, gamma=5, colsample_bytree=0.8 \n",
      "[CV]  subsample=0.8, min_child_weight=1, max_depth=5, gamma=5, colsample_bytree=0.8, score=0.8544174173185727, total=   2.2s\n",
      "[CV] subsample=0.6, min_child_weight=10, max_depth=3, gamma=1, colsample_bytree=1.0 \n",
      "[CV]  subsample=0.6, min_child_weight=5, max_depth=4, gamma=1.5, colsample_bytree=1.0, score=0.8912953636958771, total=   3.5s\n",
      "[CV] subsample=0.6, min_child_weight=10, max_depth=3, gamma=1, colsample_bytree=1.0 \n",
      "[CV]  subsample=0.6, min_child_weight=5, max_depth=4, gamma=1.5, colsample_bytree=1.0, score=0.9190279162787109, total=   3.1s\n",
      "[CV] subsample=1.0, min_child_weight=10, max_depth=5, gamma=0.5, colsample_bytree=1.0 \n",
      "[CV]  subsample=0.8, min_child_weight=1, max_depth=5, gamma=5, colsample_bytree=0.8, score=0.8781103024493087, total=   2.3s\n",
      "[CV] subsample=1.0, min_child_weight=10, max_depth=5, gamma=0.5, colsample_bytree=1.0 \n",
      "[CV]  subsample=0.6, min_child_weight=10, max_depth=3, gamma=1, colsample_bytree=1.0, score=0.8714766904754068, total=   2.3s\n",
      "[CV] subsample=0.6, min_child_weight=5, max_depth=4, gamma=5, colsample_bytree=0.8 \n",
      "[CV]  subsample=0.6, min_child_weight=10, max_depth=3, gamma=1, colsample_bytree=1.0, score=0.8963786520630057, total=   2.0s\n",
      "[CV] subsample=0.6, min_child_weight=5, max_depth=4, gamma=5, colsample_bytree=0.8 \n",
      "[CV]  subsample=0.6, min_child_weight=5, max_depth=4, gamma=5, colsample_bytree=0.8, score=0.835069615878345, total=   1.4s\n",
      "[CV] subsample=0.6, min_child_weight=5, max_depth=3, gamma=5, colsample_bytree=0.8 \n",
      "[CV]  subsample=0.6, min_child_weight=5, max_depth=4, gamma=5, colsample_bytree=0.8, score=0.8621926427079948, total=   1.4s\n",
      "[CV] subsample=0.6, min_child_weight=5, max_depth=3, gamma=5, colsample_bytree=0.8 \n",
      "[CV]  subsample=1.0, min_child_weight=10, max_depth=5, gamma=0.5, colsample_bytree=1.0, score=0.8992242958866835, total=   3.2s\n",
      "[CV] subsample=0.6, min_child_weight=1, max_depth=4, gamma=0.5, colsample_bytree=1.0 \n",
      "[CV]  subsample=1.0, min_child_weight=10, max_depth=5, gamma=0.5, colsample_bytree=1.0, score=0.9235438119007348, total=   3.4s\n",
      "[CV] subsample=0.6, min_child_weight=1, max_depth=4, gamma=0.5, colsample_bytree=1.0 \n",
      "[CV]  subsample=0.6, min_child_weight=5, max_depth=3, gamma=5, colsample_bytree=0.8, score=0.8280833415621606, total=   1.6s\n",
      "[CV] subsample=0.6, min_child_weight=10, max_depth=4, gamma=0.5, colsample_bytree=0.8 \n",
      "[CV]  subsample=0.6, min_child_weight=5, max_depth=3, gamma=5, colsample_bytree=0.8, score=0.855510623098099, total=   1.8s\n",
      "[CV] subsample=0.6, min_child_weight=10, max_depth=4, gamma=0.5, colsample_bytree=0.8 \n",
      "[CV]  subsample=0.6, min_child_weight=1, max_depth=4, gamma=0.5, colsample_bytree=1.0, score=0.9112127828430782, total=   2.3s\n",
      "[CV] subsample=1.0, min_child_weight=1, max_depth=5, gamma=5, colsample_bytree=0.8 \n",
      "[CV]  subsample=0.6, min_child_weight=10, max_depth=4, gamma=0.5, colsample_bytree=0.8, score=0.8814610008448263, total=   1.9s\n",
      "[CV] subsample=1.0, min_child_weight=1, max_depth=5, gamma=5, colsample_bytree=0.8 \n",
      "[CV]  subsample=0.6, min_child_weight=1, max_depth=4, gamma=0.5, colsample_bytree=1.0, score=0.9401088295951854, total=   2.6s\n",
      "[CV] subsample=0.6, min_child_weight=10, max_depth=4, gamma=1, colsample_bytree=1.0 \n"
     ]
    },
    {
     "name": "stdout",
     "output_type": "stream",
     "text": [
      "[CV]  subsample=1.0, min_child_weight=1, max_depth=5, gamma=5, colsample_bytree=0.8, score=0.8353311097213537, total=   1.1s\n",
      "[CV] subsample=0.6, min_child_weight=10, max_depth=4, gamma=1, colsample_bytree=1.0 \n",
      "[CV]  subsample=0.6, min_child_weight=10, max_depth=4, gamma=0.5, colsample_bytree=0.8, score=0.9092945910258741, total=   2.5s\n",
      "[CV] subsample=0.8, min_child_weight=10, max_depth=4, gamma=5, colsample_bytree=1.0 \n",
      "[CV]  subsample=1.0, min_child_weight=1, max_depth=5, gamma=5, colsample_bytree=0.8, score=0.8673604874743124, total=   1.2s\n",
      "[CV] subsample=0.8, min_child_weight=10, max_depth=4, gamma=5, colsample_bytree=1.0 \n",
      "[CV]  subsample=0.6, min_child_weight=10, max_depth=4, gamma=1, colsample_bytree=1.0, score=0.8821759944994861, total=   2.8s\n",
      "[CV] subsample=0.6, min_child_weight=5, max_depth=5, gamma=5, colsample_bytree=0.6 \n",
      "[CV]  subsample=0.8, min_child_weight=10, max_depth=4, gamma=5, colsample_bytree=1.0, score=0.8587134380492212, total=   1.8s\n",
      "[CV] subsample=0.6, min_child_weight=5, max_depth=5, gamma=5, colsample_bytree=0.6 \n",
      "[CV]  subsample=0.8, min_child_weight=10, max_depth=4, gamma=5, colsample_bytree=1.0, score=0.8346572602028316, total=   2.1s\n",
      "[CV] subsample=0.8, min_child_weight=1, max_depth=3, gamma=1, colsample_bytree=0.6 \n",
      "[CV]  subsample=0.6, min_child_weight=10, max_depth=4, gamma=1, colsample_bytree=1.0, score=0.907647271638743, total=   3.1s\n",
      "[CV] subsample=0.8, min_child_weight=1, max_depth=3, gamma=1, colsample_bytree=0.6 \n",
      "[CV]  subsample=0.6, min_child_weight=5, max_depth=5, gamma=5, colsample_bytree=0.6, score=0.8339870679408548, total=   1.1s\n",
      "[CV] subsample=0.8, min_child_weight=10, max_depth=4, gamma=0.5, colsample_bytree=0.6 \n",
      "[CV]  subsample=0.6, min_child_weight=5, max_depth=5, gamma=5, colsample_bytree=0.6, score=0.8606564301468631, total=   1.2s\n",
      "[CV] subsample=0.8, min_child_weight=10, max_depth=4, gamma=0.5, colsample_bytree=0.6 \n",
      "[CV]  subsample=0.8, min_child_weight=1, max_depth=3, gamma=1, colsample_bytree=0.6, score=0.8950294226289093, total=   1.3s\n",
      "[CV] subsample=0.6, min_child_weight=1, max_depth=4, gamma=5, colsample_bytree=0.8 \n",
      "[CV]  subsample=0.8, min_child_weight=1, max_depth=3, gamma=1, colsample_bytree=0.6, score=0.9159977301150919, total=   1.6s\n",
      "[CV] subsample=0.6, min_child_weight=1, max_depth=4, gamma=5, colsample_bytree=0.8 \n",
      "[CV]  subsample=0.8, min_child_weight=10, max_depth=4, gamma=0.5, colsample_bytree=0.6, score=0.8900628682400183, total=   1.4s\n",
      "[CV] subsample=0.8, min_child_weight=5, max_depth=3, gamma=5, colsample_bytree=1.0 \n",
      "[CV]  subsample=0.8, min_child_weight=10, max_depth=4, gamma=0.5, colsample_bytree=0.6, score=0.9134193171613215, total=   1.4s\n",
      "[CV] subsample=0.8, min_child_weight=5, max_depth=3, gamma=5, colsample_bytree=1.0 \n",
      "[CV]  subsample=0.6, min_child_weight=1, max_depth=4, gamma=5, colsample_bytree=0.8, score=0.8444532218601539, total=   1.7s\n",
      "[CV] subsample=0.8, min_child_weight=5, max_depth=5, gamma=1, colsample_bytree=0.6 \n",
      "[CV]  subsample=0.6, min_child_weight=1, max_depth=4, gamma=5, colsample_bytree=0.8, score=0.8762471970777986, total=   1.9s\n",
      "[CV] subsample=0.8, min_child_weight=5, max_depth=5, gamma=1, colsample_bytree=0.6 \n",
      "[CV]  subsample=0.8, min_child_weight=5, max_depth=3, gamma=5, colsample_bytree=1.0, score=0.8348958961924303, total=   1.4s\n",
      "[CV] subsample=0.6, min_child_weight=10, max_depth=4, gamma=1.5, colsample_bytree=1.0 \n",
      "[CV]  subsample=0.8, min_child_weight=5, max_depth=3, gamma=5, colsample_bytree=1.0, score=0.8589319787482943, total=   2.1s\n",
      "[CV] subsample=0.6, min_child_weight=10, max_depth=4, gamma=1.5, colsample_bytree=1.0 \n",
      "[CV]  subsample=0.8, min_child_weight=5, max_depth=5, gamma=1, colsample_bytree=0.6, score=0.901138869688292, total=   1.8s\n",
      "[CV] subsample=1.0, min_child_weight=1, max_depth=4, gamma=0.5, colsample_bytree=1.0 \n",
      "[CV]  subsample=0.8, min_child_weight=5, max_depth=5, gamma=1, colsample_bytree=0.6, score=0.9273030792200851, total=   2.3s\n",
      "[CV] subsample=1.0, min_child_weight=1, max_depth=4, gamma=0.5, colsample_bytree=1.0 \n",
      "[CV]  subsample=0.6, min_child_weight=10, max_depth=4, gamma=1.5, colsample_bytree=1.0, score=0.8793617355876664, total=   2.8s\n",
      "[CV] subsample=1.0, min_child_weight=1, max_depth=4, gamma=2, colsample_bytree=0.6 \n",
      "[CV]  subsample=1.0, min_child_weight=1, max_depth=4, gamma=0.5, colsample_bytree=1.0, score=0.9095597028844782, total=   2.5s\n",
      "[CV] subsample=1.0, min_child_weight=1, max_depth=4, gamma=2, colsample_bytree=0.6 \n",
      "[CV]  subsample=1.0, min_child_weight=1, max_depth=4, gamma=2, colsample_bytree=0.6, score=0.8781639840689905, total=   0.9s\n",
      "[CV] subsample=0.8, min_child_weight=1, max_depth=4, gamma=1, colsample_bytree=0.8 \n",
      "[CV]  subsample=0.6, min_child_weight=10, max_depth=4, gamma=1.5, colsample_bytree=1.0, score=0.9026685839480939, total=   3.2s\n",
      "[CV] subsample=0.8, min_child_weight=1, max_depth=4, gamma=1, colsample_bytree=0.8 \n",
      "[CV]  subsample=1.0, min_child_weight=1, max_depth=4, gamma=0.5, colsample_bytree=1.0, score=0.9331586844217211, total=   2.4s\n",
      "[CV] subsample=0.6, min_child_weight=1, max_depth=4, gamma=1.5, colsample_bytree=1.0 \n",
      "[CV]  subsample=1.0, min_child_weight=1, max_depth=4, gamma=2, colsample_bytree=0.6, score=0.9063700022588661, total=   1.1s\n",
      "[CV] subsample=0.6, min_child_weight=1, max_depth=4, gamma=1.5, colsample_bytree=1.0 \n",
      "[CV]  subsample=0.8, min_child_weight=1, max_depth=4, gamma=1, colsample_bytree=0.8, score=0.913648515702431, total=   1.9s\n",
      "[CV] subsample=0.8, min_child_weight=10, max_depth=4, gamma=1, colsample_bytree=1.0 \n",
      "[CV]  subsample=0.8, min_child_weight=1, max_depth=4, gamma=1, colsample_bytree=0.8, score=0.9348436515763395, total=   2.5s\n",
      "[CV] subsample=0.8, min_child_weight=10, max_depth=4, gamma=1, colsample_bytree=1.0 \n",
      "[CV]  subsample=0.6, min_child_weight=1, max_depth=4, gamma=1.5, colsample_bytree=1.0, score=0.9056830109461689, total=   2.1s\n",
      "[CV] subsample=0.8, min_child_weight=10, max_depth=5, gamma=5, colsample_bytree=0.6 \n",
      "[CV]  subsample=0.8, min_child_weight=10, max_depth=4, gamma=1, colsample_bytree=1.0, score=0.8929082138324757, total=   2.0s\n",
      "[CV] subsample=0.8, min_child_weight=10, max_depth=5, gamma=5, colsample_bytree=0.6 \n",
      "[CV]  subsample=0.6, min_child_weight=1, max_depth=4, gamma=1.5, colsample_bytree=1.0, score=0.9330016656841517, total=   3.0s\n",
      "[CV] subsample=0.6, min_child_weight=1, max_depth=3, gamma=2, colsample_bytree=0.6 \n",
      "[CV]  subsample=0.8, min_child_weight=10, max_depth=5, gamma=5, colsample_bytree=0.6, score=0.8314480175840894, total=   1.2s\n",
      "[CV] subsample=0.6, min_child_weight=1, max_depth=3, gamma=2, colsample_bytree=0.6 \n",
      "[CV]  subsample=0.6, min_child_weight=1, max_depth=3, gamma=2, colsample_bytree=0.6, score=0.8829312179761475, total=   1.3s\n",
      "[CV] subsample=0.8, min_child_weight=1, max_depth=3, gamma=5, colsample_bytree=1.0 \n",
      "[CV]  subsample=0.6, min_child_weight=1, max_depth=3, gamma=2, colsample_bytree=0.6, score=0.9068869703831441, total=   1.3s\n",
      "[CV] subsample=0.8, min_child_weight=1, max_depth=3, gamma=5, colsample_bytree=1.0 \n",
      "[CV]  subsample=0.8, min_child_weight=10, max_depth=5, gamma=5, colsample_bytree=0.6, score=0.8539349262930173, total=   1.9s\n",
      "[CV] subsample=1.0, min_child_weight=10, max_depth=5, gamma=5, colsample_bytree=0.8 \n",
      "[CV]  subsample=0.8, min_child_weight=10, max_depth=4, gamma=1, colsample_bytree=1.0, score=0.914130033552425, total=   3.2s\n",
      "[CV] subsample=1.0, min_child_weight=10, max_depth=5, gamma=5, colsample_bytree=0.8 \n",
      "[CV]  subsample=0.8, min_child_weight=1, max_depth=3, gamma=5, colsample_bytree=1.0, score=0.8393111191570755, total=   1.5s\n",
      "[CV] subsample=1.0, min_child_weight=10, max_depth=5, gamma=1.5, colsample_bytree=0.6 \n",
      "[CV]  subsample=0.8, min_child_weight=1, max_depth=3, gamma=5, colsample_bytree=1.0, score=0.8689352660411629, total=   2.1s\n",
      "[CV] subsample=1.0, min_child_weight=10, max_depth=5, gamma=1.5, colsample_bytree=0.6 \n",
      "[CV]  subsample=1.0, min_child_weight=10, max_depth=5, gamma=5, colsample_bytree=0.8, score=0.8246071192155917, total=   2.0s\n",
      "[CV] subsample=1.0, min_child_weight=1, max_depth=4, gamma=5, colsample_bytree=1.0 \n",
      "[CV]  subsample=1.0, min_child_weight=10, max_depth=5, gamma=5, colsample_bytree=0.8, score=0.847192302959849, total=   1.9s\n",
      "[CV] subsample=1.0, min_child_weight=1, max_depth=4, gamma=5, colsample_bytree=1.0 \n"
     ]
    },
    {
     "name": "stdout",
     "output_type": "stream",
     "text": [
      "[CV]  subsample=1.0, min_child_weight=10, max_depth=5, gamma=1.5, colsample_bytree=0.6, score=0.870520317888739, total=   1.1s\n",
      "[CV] subsample=0.8, min_child_weight=10, max_depth=5, gamma=1.5, colsample_bytree=1.0 \n",
      "[CV]  subsample=1.0, min_child_weight=10, max_depth=5, gamma=1.5, colsample_bytree=0.6, score=0.8977835565570473, total=   2.2s\n",
      "[CV] subsample=0.8, min_child_weight=10, max_depth=5, gamma=1.5, colsample_bytree=1.0 \n",
      "[CV]  subsample=1.0, min_child_weight=1, max_depth=4, gamma=5, colsample_bytree=1.0, score=0.8520139719129289, total=   2.7s\n",
      "[CV] subsample=0.8, min_child_weight=1, max_depth=3, gamma=2, colsample_bytree=0.6 \n",
      "[CV]  subsample=1.0, min_child_weight=1, max_depth=4, gamma=5, colsample_bytree=1.0, score=0.8321419820136124, total=   3.5s\n",
      "[CV] subsample=0.8, min_child_weight=1, max_depth=3, gamma=2, colsample_bytree=0.6 \n",
      "[CV]  subsample=0.8, min_child_weight=10, max_depth=5, gamma=1.5, colsample_bytree=1.0, score=0.8943052858328853, total=   4.1s\n",
      "[CV] subsample=1.0, min_child_weight=1, max_depth=4, gamma=1.5, colsample_bytree=1.0 \n",
      "[CV]  subsample=0.8, min_child_weight=1, max_depth=3, gamma=2, colsample_bytree=0.6, score=0.8824466314838587, total=   1.6s\n",
      "[CV] subsample=1.0, min_child_weight=1, max_depth=4, gamma=1.5, colsample_bytree=1.0 \n",
      "[CV]  subsample=0.8, min_child_weight=1, max_depth=3, gamma=2, colsample_bytree=0.6, score=0.9063387821589983, total=   1.4s\n",
      "[CV] subsample=1.0, min_child_weight=5, max_depth=5, gamma=0.5, colsample_bytree=0.6 \n",
      "[CV]  subsample=0.8, min_child_weight=10, max_depth=5, gamma=1.5, colsample_bytree=1.0, score=0.9166184591595181, total=   4.2s\n",
      "[CV] subsample=1.0, min_child_weight=5, max_depth=5, gamma=0.5, colsample_bytree=0.6 \n",
      "[CV]  subsample=1.0, min_child_weight=5, max_depth=5, gamma=0.5, colsample_bytree=0.6, score=0.8982532942738335, total=   1.8s\n",
      "[CV] subsample=0.8, min_child_weight=5, max_depth=4, gamma=5, colsample_bytree=0.8 \n",
      "[CV]  subsample=1.0, min_child_weight=1, max_depth=4, gamma=1.5, colsample_bytree=1.0, score=0.8851274005317651, total=   2.9s\n",
      "[CV] subsample=0.8, min_child_weight=5, max_depth=4, gamma=5, colsample_bytree=0.8 \n",
      "[CV]  subsample=1.0, min_child_weight=1, max_depth=4, gamma=1.5, colsample_bytree=1.0, score=0.9177102444166525, total=   2.8s\n",
      "[CV] subsample=1.0, min_child_weight=1, max_depth=5, gamma=2, colsample_bytree=0.6 \n",
      "[CV]  subsample=1.0, min_child_weight=5, max_depth=5, gamma=0.5, colsample_bytree=0.6, score=0.930089014014152, total=   2.1s\n",
      "[CV] subsample=1.0, min_child_weight=1, max_depth=5, gamma=2, colsample_bytree=0.6 \n",
      "[CV]  subsample=1.0, min_child_weight=1, max_depth=5, gamma=2, colsample_bytree=0.6, score=0.8901469851405666, total=   1.7s\n",
      "[CV] subsample=0.6, min_child_weight=1, max_depth=3, gamma=2, colsample_bytree=0.8 \n",
      "[CV]  subsample=0.8, min_child_weight=5, max_depth=4, gamma=5, colsample_bytree=0.8, score=0.8388439046333783, total=   2.1s\n",
      "[CV] subsample=0.6, min_child_weight=1, max_depth=3, gamma=2, colsample_bytree=0.8 \n",
      "[CV]  subsample=0.8, min_child_weight=5, max_depth=4, gamma=5, colsample_bytree=0.8, score=0.863906993486018, total=   2.0s\n",
      "[CV] subsample=1.0, min_child_weight=5, max_depth=4, gamma=0.5, colsample_bytree=0.8 \n",
      "[CV]  subsample=1.0, min_child_weight=1, max_depth=5, gamma=2, colsample_bytree=0.6, score=0.9151988628537742, total=   1.5s\n",
      "[CV] subsample=1.0, min_child_weight=5, max_depth=4, gamma=0.5, colsample_bytree=0.8 \n",
      "[CV]  subsample=0.6, min_child_weight=1, max_depth=3, gamma=2, colsample_bytree=0.8, score=0.8829220748347835, total=   1.7s\n",
      "[CV] subsample=0.6, min_child_weight=1, max_depth=4, gamma=1.5, colsample_bytree=0.6 \n",
      "[CV]  subsample=0.6, min_child_weight=1, max_depth=3, gamma=2, colsample_bytree=0.8, score=0.9092909180729485, total=   1.7s\n",
      "[CV] subsample=0.6, min_child_weight=1, max_depth=4, gamma=1.5, colsample_bytree=0.6 \n",
      "[CV]  subsample=1.0, min_child_weight=5, max_depth=4, gamma=0.5, colsample_bytree=0.8, score=0.8947752432989917, total=   2.7s\n",
      "[CV] subsample=0.8, min_child_weight=5, max_depth=3, gamma=5, colsample_bytree=0.8 \n",
      "[CV]  subsample=0.6, min_child_weight=1, max_depth=4, gamma=1.5, colsample_bytree=0.6, score=0.900193468871261, total=   1.8s\n",
      "[CV] subsample=0.8, min_child_weight=5, max_depth=3, gamma=5, colsample_bytree=0.8 \n",
      "[CV]  subsample=0.6, min_child_weight=1, max_depth=4, gamma=1.5, colsample_bytree=0.6, score=0.9287851157255642, total=   1.8s\n",
      "[CV] subsample=1.0, min_child_weight=1, max_depth=5, gamma=1.5, colsample_bytree=1.0 \n",
      "[CV]  subsample=1.0, min_child_weight=5, max_depth=4, gamma=0.5, colsample_bytree=0.8, score=0.9209892731409808, total=   2.6s\n",
      "[CV] subsample=1.0, min_child_weight=1, max_depth=5, gamma=1.5, colsample_bytree=1.0 \n",
      "[CV]  subsample=0.8, min_child_weight=5, max_depth=3, gamma=5, colsample_bytree=0.8, score=0.8329301207991837, total=   1.7s\n",
      "[CV] subsample=1.0, min_child_weight=5, max_depth=4, gamma=1.5, colsample_bytree=0.8 \n",
      "[CV]  subsample=0.8, min_child_weight=5, max_depth=3, gamma=5, colsample_bytree=0.8, score=0.8554279816572731, total=   1.1s\n",
      "[CV] subsample=1.0, min_child_weight=5, max_depth=4, gamma=1.5, colsample_bytree=0.8 \n",
      "[CV]  subsample=1.0, min_child_weight=1, max_depth=5, gamma=1.5, colsample_bytree=1.0, score=0.8990670338552238, total=   1.3s\n",
      "[CV] subsample=0.6, min_child_weight=1, max_depth=3, gamma=0.5, colsample_bytree=0.8 \n",
      "[CV]  subsample=1.0, min_child_weight=1, max_depth=5, gamma=1.5, colsample_bytree=1.0, score=0.9241627044686981, total=   1.8s\n",
      "[CV] subsample=0.6, min_child_weight=1, max_depth=3, gamma=0.5, colsample_bytree=0.8 \n",
      "[CV]  subsample=1.0, min_child_weight=5, max_depth=4, gamma=1.5, colsample_bytree=0.8, score=0.9023022068937654, total=   1.0s\n",
      "[CV] subsample=1.0, min_child_weight=1, max_depth=3, gamma=1.5, colsample_bytree=1.0 \n",
      "[CV]  subsample=1.0, min_child_weight=5, max_depth=4, gamma=1.5, colsample_bytree=0.8, score=0.8693170804852448, total=   1.4s\n",
      "[CV] subsample=1.0, min_child_weight=1, max_depth=3, gamma=1.5, colsample_bytree=1.0 \n",
      "[CV]  subsample=0.6, min_child_weight=1, max_depth=3, gamma=0.5, colsample_bytree=0.8, score=0.8936469796546819, total=   1.7s\n",
      "[CV] subsample=0.8, min_child_weight=10, max_depth=3, gamma=1, colsample_bytree=1.0 \n",
      "[CV]  subsample=0.6, min_child_weight=1, max_depth=3, gamma=0.5, colsample_bytree=0.8, score=0.92119863145774, total=   1.6s\n",
      "[CV] subsample=0.8, min_child_weight=10, max_depth=3, gamma=1, colsample_bytree=1.0 \n",
      "[CV]  subsample=1.0, min_child_weight=1, max_depth=3, gamma=1.5, colsample_bytree=1.0, score=0.8691963910192408, total=   2.0s\n",
      "[CV] subsample=0.8, min_child_weight=10, max_depth=3, gamma=0.5, colsample_bytree=1.0 \n",
      "[CV]  subsample=1.0, min_child_weight=1, max_depth=3, gamma=1.5, colsample_bytree=1.0, score=0.8911786689585892, total=   1.7s\n",
      "[CV] subsample=0.8, min_child_weight=10, max_depth=3, gamma=0.5, colsample_bytree=1.0 \n",
      "[CV]  subsample=0.8, min_child_weight=10, max_depth=3, gamma=1, colsample_bytree=1.0, score=0.8774343613881482, total=   2.2s\n",
      "[CV] subsample=0.6, min_child_weight=1, max_depth=3, gamma=5, colsample_bytree=1.0 \n",
      "[CV]  subsample=0.8, min_child_weight=10, max_depth=3, gamma=1, colsample_bytree=1.0, score=0.9014381447180182, total=   2.4s\n",
      "[CV] subsample=0.6, min_child_weight=1, max_depth=3, gamma=5, colsample_bytree=1.0 \n",
      "[CV]  subsample=0.8, min_child_weight=10, max_depth=3, gamma=0.5, colsample_bytree=1.0, score=0.9017705469577848, total=   2.2s\n",
      "[CV] subsample=1.0, min_child_weight=10, max_depth=5, gamma=1, colsample_bytree=1.0 \n",
      "[CV]  subsample=0.8, min_child_weight=10, max_depth=3, gamma=0.5, colsample_bytree=1.0, score=0.877600766560972, total=   2.5s\n",
      "[CV] subsample=1.0, min_child_weight=10, max_depth=5, gamma=1, colsample_bytree=1.0 \n",
      "[CV]  subsample=0.6, min_child_weight=1, max_depth=3, gamma=5, colsample_bytree=1.0, score=0.8372886562873727, total=   2.1s\n",
      "[CV] subsample=1.0, min_child_weight=10, max_depth=3, gamma=2, colsample_bytree=0.6 \n",
      "[CV]  subsample=1.0, min_child_weight=10, max_depth=3, gamma=2, colsample_bytree=0.6, score=0.8466110032220431, total=   1.3s\n",
      "[CV] subsample=1.0, min_child_weight=10, max_depth=3, gamma=2, colsample_bytree=0.6 \n",
      "[CV]  subsample=0.6, min_child_weight=1, max_depth=3, gamma=5, colsample_bytree=1.0, score=0.8718405718053114, total=   2.8s\n",
      "[CV] subsample=0.6, min_child_weight=10, max_depth=4, gamma=2, colsample_bytree=1.0 \n"
     ]
    },
    {
     "name": "stdout",
     "output_type": "stream",
     "text": [
      "[CV]  subsample=1.0, min_child_weight=10, max_depth=5, gamma=1, colsample_bytree=1.0, score=0.8822527968869432, total=   2.5s\n",
      "[CV] subsample=0.6, min_child_weight=10, max_depth=4, gamma=2, colsample_bytree=1.0 \n",
      "[CV]  subsample=1.0, min_child_weight=10, max_depth=3, gamma=2, colsample_bytree=0.6, score=0.873912117255349, total=   1.2s\n",
      "[CV] subsample=1.0, min_child_weight=10, max_depth=4, gamma=2, colsample_bytree=0.8 \n",
      "[CV]  subsample=1.0, min_child_weight=10, max_depth=5, gamma=1, colsample_bytree=1.0, score=0.9076307433505779, total=   3.5s\n",
      "[CV] subsample=1.0, min_child_weight=10, max_depth=4, gamma=2, colsample_bytree=0.8 \n",
      "[CV]  subsample=1.0, min_child_weight=10, max_depth=4, gamma=2, colsample_bytree=0.8, score=0.882310324119731, total=   1.3s\n",
      "[CV] subsample=0.6, min_child_weight=10, max_depth=4, gamma=1.5, colsample_bytree=0.6 \n",
      "[CV]  subsample=0.6, min_child_weight=10, max_depth=4, gamma=2, colsample_bytree=1.0, score=0.897146299224456, total=   3.2s\n",
      "[CV] subsample=0.6, min_child_weight=10, max_depth=4, gamma=1.5, colsample_bytree=0.6 \n",
      "[CV]  subsample=1.0, min_child_weight=10, max_depth=4, gamma=2, colsample_bytree=0.8, score=0.8490129064583493, total=   2.1s\n",
      "[CV] subsample=1.0, min_child_weight=1, max_depth=4, gamma=1.5, colsample_bytree=0.6 \n",
      "[CV]  subsample=0.6, min_child_weight=10, max_depth=4, gamma=2, colsample_bytree=1.0, score=0.872085623690245, total=   3.6s\n",
      "[CV] subsample=1.0, min_child_weight=1, max_depth=4, gamma=1.5, colsample_bytree=0.6 \n",
      "[CV]  subsample=1.0, min_child_weight=1, max_depth=4, gamma=1.5, colsample_bytree=0.6, score=0.8868353393385485, total=   1.5s\n",
      "[CV] subsample=0.8, min_child_weight=1, max_depth=3, gamma=1, colsample_bytree=0.8 \n",
      "[CV]  subsample=1.0, min_child_weight=1, max_depth=4, gamma=1.5, colsample_bytree=0.6, score=0.9142989893870025, total=   1.2s\n",
      "[CV] subsample=0.8, min_child_weight=1, max_depth=3, gamma=1, colsample_bytree=0.8 \n",
      "[CV]  subsample=0.6, min_child_weight=10, max_depth=4, gamma=1.5, colsample_bytree=0.6, score=0.8725958109783526, total=   2.3s\n",
      "[CV] subsample=0.6, min_child_weight=1, max_depth=3, gamma=5, colsample_bytree=0.8 \n",
      "[CV]  subsample=0.6, min_child_weight=10, max_depth=4, gamma=1.5, colsample_bytree=0.6, score=0.9006962082270472, total=   2.6s\n",
      "[CV] subsample=0.6, min_child_weight=1, max_depth=3, gamma=5, colsample_bytree=0.8 \n",
      "[CV]  subsample=0.8, min_child_weight=1, max_depth=3, gamma=1, colsample_bytree=0.8, score=0.8965307264408677, total=   1.5s\n",
      "[CV] subsample=0.6, min_child_weight=10, max_depth=4, gamma=1, colsample_bytree=0.6 \n",
      "[CV]  subsample=0.6, min_child_weight=1, max_depth=3, gamma=5, colsample_bytree=0.8, score=0.8378427306540271, total=   1.7s\n",
      "[CV] subsample=0.6, min_child_weight=10, max_depth=4, gamma=1, colsample_bytree=0.6 \n",
      "[CV]  subsample=0.8, min_child_weight=1, max_depth=3, gamma=1, colsample_bytree=0.8, score=0.9190995388607602, total=   1.8s\n",
      "[CV] subsample=0.6, min_child_weight=1, max_depth=3, gamma=1, colsample_bytree=1.0 \n",
      "[CV]  subsample=0.6, min_child_weight=1, max_depth=3, gamma=5, colsample_bytree=0.8, score=0.8677415563403431, total=   1.6s\n",
      "[CV] subsample=0.6, min_child_weight=1, max_depth=3, gamma=1, colsample_bytree=1.0 \n",
      "[CV]  subsample=0.6, min_child_weight=10, max_depth=4, gamma=1, colsample_bytree=0.6, score=0.9059668956752815, total=   1.6s\n",
      "[CV] subsample=0.8, min_child_weight=10, max_depth=4, gamma=1.5, colsample_bytree=0.6 \n",
      "[CV]  subsample=0.6, min_child_weight=10, max_depth=4, gamma=1, colsample_bytree=0.6, score=0.8765511339323921, total=   2.1s\n",
      "[CV] subsample=0.8, min_child_weight=10, max_depth=4, gamma=1.5, colsample_bytree=0.6 \n",
      "[CV]  subsample=0.6, min_child_weight=1, max_depth=3, gamma=1, colsample_bytree=1.0, score=0.8909607247219571, total=   2.4s\n",
      "[CV] subsample=1.0, min_child_weight=10, max_depth=5, gamma=1, colsample_bytree=0.6 \n",
      "[CV]  subsample=0.6, min_child_weight=1, max_depth=3, gamma=1, colsample_bytree=1.0, score=0.9225190580344926, total=   2.1s\n",
      "[CV] subsample=1.0, min_child_weight=10, max_depth=5, gamma=1, colsample_bytree=0.6 \n",
      "[CV]  subsample=0.8, min_child_weight=10, max_depth=4, gamma=1.5, colsample_bytree=0.6, score=0.8829495042588753, total=   1.5s\n",
      "[CV] subsample=0.6, min_child_weight=10, max_depth=5, gamma=5, colsample_bytree=1.0 \n",
      "[CV]  subsample=1.0, min_child_weight=10, max_depth=5, gamma=1, colsample_bytree=0.6, score=0.8825088048451335, total=   1.2s\n",
      "[CV] subsample=0.6, min_child_weight=10, max_depth=5, gamma=5, colsample_bytree=1.0 \n",
      "[CV]  subsample=0.8, min_child_weight=10, max_depth=4, gamma=1.5, colsample_bytree=0.6, score=0.9046427961456032, total=   1.8s\n",
      "[CV] subsample=1.0, min_child_weight=10, max_depth=3, gamma=1.5, colsample_bytree=0.6 \n",
      "[CV]  subsample=1.0, min_child_weight=10, max_depth=5, gamma=1, colsample_bytree=0.6, score=0.908049459984096, total=   1.2s\n",
      "[CV] subsample=1.0, min_child_weight=10, max_depth=3, gamma=1.5, colsample_bytree=0.6 \n",
      "[CV]  subsample=1.0, min_child_weight=10, max_depth=3, gamma=1.5, colsample_bytree=0.6, score=0.853821284501644, total=   0.7s\n",
      "[CV] subsample=0.8, min_child_weight=5, max_depth=4, gamma=1.5, colsample_bytree=0.6 \n",
      "[CV]  subsample=1.0, min_child_weight=10, max_depth=3, gamma=1.5, colsample_bytree=0.6, score=0.8802534704813956, total=   0.7s\n",
      "[CV] subsample=0.8, min_child_weight=5, max_depth=4, gamma=1.5, colsample_bytree=0.6 \n",
      "[CV]  subsample=0.6, min_child_weight=10, max_depth=5, gamma=5, colsample_bytree=1.0, score=0.8290717151436021, total=   2.6s\n",
      "[CV] subsample=0.6, min_child_weight=1, max_depth=3, gamma=0.5, colsample_bytree=0.6 \n",
      "[CV]  subsample=0.8, min_child_weight=5, max_depth=4, gamma=1.5, colsample_bytree=0.6, score=0.8924126555705503, total=   1.3s\n",
      "[CV] subsample=0.6, min_child_weight=1, max_depth=3, gamma=0.5, colsample_bytree=0.6 \n",
      "[CV]  subsample=0.6, min_child_weight=10, max_depth=5, gamma=5, colsample_bytree=1.0, score=0.8562268489185908, total=   2.3s\n",
      "[CV] subsample=1.0, min_child_weight=5, max_depth=3, gamma=0.5, colsample_bytree=1.0 \n",
      "[CV]  subsample=0.8, min_child_weight=5, max_depth=4, gamma=1.5, colsample_bytree=0.6, score=0.9141722725110693, total=   1.3s\n",
      "[CV] subsample=1.0, min_child_weight=5, max_depth=3, gamma=0.5, colsample_bytree=1.0 \n",
      "[CV]  subsample=0.6, min_child_weight=1, max_depth=3, gamma=0.5, colsample_bytree=0.6, score=0.91978821753431, total=   1.4s\n",
      "[CV] subsample=1.0, min_child_weight=5, max_depth=3, gamma=1, colsample_bytree=1.0 \n",
      "[CV]  subsample=0.6, min_child_weight=1, max_depth=3, gamma=0.5, colsample_bytree=0.6, score=0.8942723705239751, total=   1.7s\n",
      "[CV] subsample=1.0, min_child_weight=5, max_depth=3, gamma=1, colsample_bytree=1.0 \n",
      "[CV]  subsample=1.0, min_child_weight=5, max_depth=3, gamma=0.5, colsample_bytree=1.0, score=0.8795756850955824, total=   1.5s\n",
      "[CV] subsample=0.8, min_child_weight=5, max_depth=4, gamma=0.5, colsample_bytree=0.6 \n",
      "[CV]  subsample=1.0, min_child_weight=5, max_depth=3, gamma=0.5, colsample_bytree=1.0, score=0.9054278898334498, total=   1.4s\n",
      "[CV] subsample=0.8, min_child_weight=5, max_depth=4, gamma=0.5, colsample_bytree=0.6 \n",
      "[CV]  subsample=0.8, min_child_weight=5, max_depth=4, gamma=0.5, colsample_bytree=0.6, score=0.8995936787977866, total=   1.5s\n",
      "[CV] subsample=1.0, min_child_weight=1, max_depth=3, gamma=2, colsample_bytree=1.0 \n",
      "[CV]  subsample=0.8, min_child_weight=5, max_depth=4, gamma=0.5, colsample_bytree=0.6, score=0.923953346151939, total=   1.5s\n",
      "[CV] subsample=1.0, min_child_weight=1, max_depth=3, gamma=2, colsample_bytree=1.0 \n",
      "[CV]  subsample=1.0, min_child_weight=5, max_depth=3, gamma=1, colsample_bytree=1.0, score=0.9009450507877566, total=   2.2s\n",
      "[CV] subsample=1.0, min_child_weight=1, max_depth=3, gamma=0.5, colsample_bytree=1.0 \n",
      "[CV]  subsample=1.0, min_child_weight=5, max_depth=3, gamma=1, colsample_bytree=1.0, score=0.8646284775938179, total=   2.4s\n",
      "[CV] subsample=1.0, min_child_weight=1, max_depth=3, gamma=0.5, colsample_bytree=1.0 \n",
      "[CV]  subsample=1.0, min_child_weight=1, max_depth=3, gamma=2, colsample_bytree=1.0, score=0.8647080229236841, total=   1.1s\n",
      "[CV] subsample=1.0, min_child_weight=10, max_depth=4, gamma=1, colsample_bytree=0.6 \n",
      "[CV]  subsample=1.0, min_child_weight=1, max_depth=3, gamma=0.5, colsample_bytree=1.0, score=0.8878502280299457, total=   1.5s\n",
      "[CV] subsample=1.0, min_child_weight=10, max_depth=4, gamma=1, colsample_bytree=0.6 \n"
     ]
    },
    {
     "name": "stdout",
     "output_type": "stream",
     "text": [
      "[CV]  subsample=1.0, min_child_weight=1, max_depth=3, gamma=2, colsample_bytree=1.0, score=0.8910519520826561, total=   2.0s\n",
      "[CV] subsample=1.0, min_child_weight=10, max_depth=3, gamma=1, colsample_bytree=0.6 \n",
      "[CV]  subsample=1.0, min_child_weight=10, max_depth=4, gamma=1, colsample_bytree=0.6, score=0.8704965457211927, total=   1.1s\n",
      "[CV] subsample=1.0, min_child_weight=10, max_depth=3, gamma=1, colsample_bytree=0.6 \n",
      "[CV]  subsample=1.0, min_child_weight=1, max_depth=3, gamma=0.5, colsample_bytree=1.0, score=0.9147773915055618, total=   2.0s\n",
      "[CV] subsample=0.8, min_child_weight=5, max_depth=3, gamma=2, colsample_bytree=0.6 \n",
      "[CV]  subsample=1.0, min_child_weight=10, max_depth=3, gamma=1, colsample_bytree=0.6, score=0.8876875272028075, total=   0.9s\n",
      "[CV] subsample=0.8, min_child_weight=5, max_depth=3, gamma=2, colsample_bytree=0.6 \n"
     ]
    },
    {
     "name": "stderr",
     "output_type": "stream",
     "text": [
      "[Parallel(n_jobs=4)]: Done 280 tasks      | elapsed:  2.4min\n"
     ]
    },
    {
     "name": "stdout",
     "output_type": "stream",
     "text": [
      "[CV]  subsample=1.0, min_child_weight=10, max_depth=4, gamma=1, colsample_bytree=0.6, score=0.901001063319872, total=   1.4s\n",
      "[CV] subsample=0.8, min_child_weight=10, max_depth=3, gamma=1.5, colsample_bytree=0.6 \n",
      "[CV]  subsample=1.0, min_child_weight=10, max_depth=3, gamma=1, colsample_bytree=0.6, score=0.8669892366939864, total=   1.4s\n",
      "[CV] subsample=0.8, min_child_weight=10, max_depth=3, gamma=1.5, colsample_bytree=0.6 \n",
      "[CV]  subsample=0.8, min_child_weight=5, max_depth=3, gamma=2, colsample_bytree=0.6, score=0.8726780992506281, total=   1.1s\n",
      "[CV] subsample=1.0, min_child_weight=5, max_depth=5, gamma=2, colsample_bytree=0.8 \n",
      "[CV]  subsample=0.8, min_child_weight=5, max_depth=3, gamma=2, colsample_bytree=0.6, score=0.8950325148157738, total=   1.1s\n",
      "[CV] subsample=1.0, min_child_weight=5, max_depth=5, gamma=2, colsample_bytree=0.8 \n",
      "[CV]  subsample=0.8, min_child_weight=10, max_depth=3, gamma=1.5, colsample_bytree=0.6, score=0.8723818614704366, total=   1.1s\n",
      "[CV] subsample=1.0, min_child_weight=10, max_depth=3, gamma=5, colsample_bytree=0.8 \n",
      "[CV]  subsample=0.8, min_child_weight=10, max_depth=3, gamma=1.5, colsample_bytree=0.6, score=0.8921042530958402, total=   1.4s\n",
      "[CV] subsample=1.0, min_child_weight=10, max_depth=3, gamma=5, colsample_bytree=0.8 \n",
      "[CV]  subsample=1.0, min_child_weight=5, max_depth=5, gamma=2, colsample_bytree=0.8, score=0.8726652988527186, total=   1.4s\n",
      "[CV] subsample=0.8, min_child_weight=5, max_depth=5, gamma=1.5, colsample_bytree=0.6 \n",
      "[CV]  subsample=1.0, min_child_weight=5, max_depth=5, gamma=2, colsample_bytree=0.8, score=0.9000350767004394, total=   1.3s\n",
      "[CV] subsample=0.8, min_child_weight=5, max_depth=5, gamma=1.5, colsample_bytree=0.6 \n",
      "[CV]  subsample=1.0, min_child_weight=10, max_depth=3, gamma=5, colsample_bytree=0.8, score=0.8187125359782613, total=   1.4s\n",
      "[CV] subsample=0.8, min_child_weight=5, max_depth=4, gamma=1, colsample_bytree=0.8 \n",
      "[CV]  subsample=1.0, min_child_weight=10, max_depth=3, gamma=5, colsample_bytree=0.8, score=0.8398280323440236, total=   1.1s\n",
      "[CV] subsample=0.8, min_child_weight=5, max_depth=4, gamma=1, colsample_bytree=0.8 \n",
      "[CV]  subsample=0.8, min_child_weight=5, max_depth=5, gamma=1.5, colsample_bytree=0.6, score=0.8975785304411749, total=   2.3s\n",
      "[CV] subsample=0.6, min_child_weight=10, max_depth=5, gamma=2, colsample_bytree=1.0 \n",
      "[CV]  subsample=0.8, min_child_weight=5, max_depth=4, gamma=1, colsample_bytree=0.8, score=0.8995808783998771, total=   1.8s\n",
      "[CV] subsample=0.6, min_child_weight=10, max_depth=5, gamma=2, colsample_bytree=1.0 \n",
      "[CV]  subsample=0.8, min_child_weight=5, max_depth=4, gamma=1, colsample_bytree=0.8, score=0.9242508553389126, total=   1.8s\n",
      "[CV] subsample=1.0, min_child_weight=5, max_depth=3, gamma=2, colsample_bytree=1.0 \n",
      "[CV]  subsample=0.8, min_child_weight=5, max_depth=5, gamma=1.5, colsample_bytree=0.6, score=0.9191344319135534, total=   2.6s\n",
      "[CV] subsample=1.0, min_child_weight=5, max_depth=3, gamma=2, colsample_bytree=1.0 \n",
      "[CV]  subsample=1.0, min_child_weight=5, max_depth=3, gamma=2, colsample_bytree=1.0, score=0.8497370432543733, total=   1.0s\n",
      "[CV] subsample=0.6, min_child_weight=5, max_depth=5, gamma=5, colsample_bytree=0.8 \n",
      "[CV]  subsample=0.6, min_child_weight=10, max_depth=5, gamma=2, colsample_bytree=1.0, score=0.9028852881707041, total=   2.4s\n",
      "[CV] subsample=0.6, min_child_weight=5, max_depth=5, gamma=5, colsample_bytree=0.8 \n",
      "[CV]  subsample=1.0, min_child_weight=5, max_depth=3, gamma=2, colsample_bytree=1.0, score=0.8833387509388986, total=   2.2s\n",
      "[CV]  subsample=0.6, min_child_weight=5, max_depth=5, gamma=5, colsample_bytree=0.8, score=0.8357471226534128, total=   1.5s\n",
      "[CV]  subsample=0.6, min_child_weight=10, max_depth=5, gamma=2, colsample_bytree=1.0, score=0.8750443442356151, total=   3.2s\n",
      "[CV]  subsample=0.6, min_child_weight=5, max_depth=5, gamma=5, colsample_bytree=0.8, score=0.8633863524088143, total=   1.4s\n"
     ]
    },
    {
     "name": "stderr",
     "output_type": "stream",
     "text": [
      "[Parallel(n_jobs=4)]: Done 300 out of 300 | elapsed:  2.5min finished\n"
     ]
    },
    {
     "name": "stdout",
     "output_type": "stream",
     "text": [
      "\n",
      " Best estimator:\n",
      "XGBClassifier(base_score=0.5, booster='gbtree', colsample_bylevel=1,\n",
      "       colsample_bytree=0.6, gamma=0.5, learning_rate=0.02,\n",
      "       max_delta_step=0, max_depth=5, min_child_weight=1, missing=None,\n",
      "       n_estimators=600, n_jobs=1, nthread=1, objective='binary:logistic',\n",
      "       random_state=0, reg_alpha=0, reg_lambda=1, scale_pos_weight=1,\n",
      "       seed=None, silent=True, subsample=0.8)\n",
      "\n",
      " Best normalized gini score for 2-fold search with 150 parameter combinations:\n",
      "0.8629382265876451\n",
      "\n",
      " Best hyperparameters:\n",
      "{'subsample': 0.8, 'min_child_weight': 1, 'max_depth': 5, 'gamma': 0.5, 'colsample_bytree': 0.6}\n",
      "Tiempo de ejecución: 154.29951 seconds.\n"
     ]
    }
   ],
   "source": [
    "from sklearn.model_selection import RandomizedSearchCV, GridSearchCV\n",
    "from sklearn.model_selection import StratifiedKFold\n",
    "\n",
    "t0 = time()\n",
    "params = {\n",
    "        'min_child_weight': [1, 5, 10],\n",
    "        'gamma': [0.5, 1, 1.5, 2, 5],\n",
    "        'subsample': [0.6, 0.8, 1.0],\n",
    "        'colsample_bytree': [0.6, 0.8, 1.0],\n",
    "        'max_depth': [3, 4, 5]\n",
    "        }\n",
    "# Creamos el xgboost\n",
    "xgboost = xgb.XGBClassifier(learning_rate=0.02, n_estimators=600, objective='binary:logistic',\n",
    "                    silent=True, nthread=1)\n",
    "\n",
    "folds = 2\n",
    "param_comb = 150\n",
    "\n",
    "skf = StratifiedKFold(n_splits=folds, shuffle = True, random_state = 1001)\n",
    "\n",
    "random_search = RandomizedSearchCV(xgboost, param_distributions=params, \\\n",
    "                                   n_iter=param_comb, scoring='roc_auc', \\\n",
    "                                   n_jobs=4, cv=skf.split(x,y), verbose=3,\\\n",
    "                                   random_state=1001 )\n",
    "\n",
    "random_search.fit(x,y)\n",
    "\n",
    "print('\\n Best estimator:')\n",
    "print(random_search.best_estimator_)\n",
    "print('\\n Best normalized gini score for %d-fold search with %d parameter combinations:' % (folds, param_comb))\n",
    "print(random_search.best_score_ * 2 - 1)\n",
    "print('\\n Best hyperparameters:')\n",
    "print(random_search.best_params_)\n",
    "\n",
    "tf = time() - t0\n",
    "print (\"Tiempo de ejecución: %0.5f seconds.\" % tf)"
   ]
  },
  {
   "cell_type": "code",
   "execution_count": null,
   "metadata": {},
   "outputs": [],
   "source": [
    "pred = random_search.predict_proba(test)"
   ]
  },
  {
   "cell_type": "code",
   "execution_count": 26,
   "metadata": {},
   "outputs": [
    {
     "name": "stdout",
     "output_type": "stream",
     "text": [
      "{'mean_fit_time': array([0.60764583, 1.05604895, 1.07023795, 0.67376773, 0.99590214]), 'std_fit_time': array([0.00907994, 0.06183087, 0.05643955, 0.04548575, 0.05476531]), 'mean_score_time': array([0.0042158 , 0.02445277, 0.0250682 , 0.00460092, 0.02046879]), 'std_score_time': array([0.00064934, 0.00270637, 0.00106131, 0.00038284, 0.00019438]), 'param_subsample': masked_array(data=[1.0, 0.6, 0.8, 1.0, 0.8],\n",
      "             mask=[False, False, False, False, False],\n",
      "       fill_value='?',\n",
      "            dtype=object), 'param_min_child_weight': masked_array(data=[5, 1, 5, 5, 1],\n",
      "             mask=[False, False, False, False, False],\n",
      "       fill_value='?',\n",
      "            dtype=object), 'param_max_depth': masked_array(data=[3, 5, 5, 5, 4],\n",
      "             mask=[False, False, False, False, False],\n",
      "       fill_value='?',\n",
      "            dtype=object), 'param_gamma': masked_array(data=[5, 1.5, 1, 5, 1],\n",
      "             mask=[False, False, False, False, False],\n",
      "       fill_value='?',\n",
      "            dtype=object), 'param_colsample_bytree': masked_array(data=[1.0, 0.8, 0.8, 0.6, 1.0],\n",
      "             mask=[False, False, False, False, False],\n",
      "       fill_value='?',\n",
      "            dtype=object), 'params': [{'subsample': 1.0, 'min_child_weight': 5, 'max_depth': 3, 'gamma': 5, 'colsample_bytree': 1.0}, {'subsample': 0.6, 'min_child_weight': 1, 'max_depth': 5, 'gamma': 1.5, 'colsample_bytree': 0.8}, {'subsample': 0.8, 'min_child_weight': 5, 'max_depth': 5, 'gamma': 1, 'colsample_bytree': 0.8}, {'subsample': 1.0, 'min_child_weight': 5, 'max_depth': 5, 'gamma': 5, 'colsample_bytree': 0.6}, {'subsample': 0.8, 'min_child_weight': 1, 'max_depth': 4, 'gamma': 1, 'colsample_bytree': 1.0}], 'split0_test_score': array([0.71194991, 0.73896243, 0.73605247, 0.7301133 , 0.74795468]), 'split1_test_score': array([0.75150502, 0.78005256, 0.77252747, 0.75593645, 0.7762064 ]), 'split2_test_score': array([0.71587434, 0.75387004, 0.75492117, 0.73100812, 0.75685619]), 'mean_test_score': array([0.72643628, 0.75761957, 0.7544917 , 0.73901511, 0.76033327]), 'std_test_score': array([0.01779232, 0.016985  , 0.01489569, 0.01196656, 0.01179401]), 'rank_test_score': array([5, 2, 3, 4, 1], dtype=int32), 'split0_train_score': array([0.79676302, 0.98348065, 0.9751732 , 0.820906  , 0.99058767]), 'split1_train_score': array([0.78542997, 0.98263412, 0.97217282, 0.81323328, 0.98959241]), 'split2_train_score': array([0.81591275, 0.98746196, 0.98015158, 0.83093633, 0.99346542]), 'mean_train_score': array([0.79936858, 0.98452558, 0.97583253, 0.82169187, 0.99121517]), 'std_train_score': array([0.01258019, 0.0021049 , 0.00329051, 0.00724857, 0.00164223])}\n"
     ]
    }
   ],
   "source": [
    "print(random_search.cv_results_)\n"
   ]
  },
  {
   "cell_type": "markdown",
   "metadata": {},
   "source": [
    "### Test final"
   ]
  },
  {
   "cell_type": "markdown",
   "metadata": {},
   "source": [
    "#### Predicciones con valores binarios"
   ]
  },
  {
   "cell_type": "code",
   "execution_count": 27,
   "metadata": {},
   "outputs": [
    {
     "name": "stdout",
     "output_type": "stream",
     "text": [
      "Precisión:  0.5\n",
      "Tiempo de ejecución: 0.57988 seconds.\n"
     ]
    },
    {
     "name": "stderr",
     "output_type": "stream",
     "text": [
      "/home/mariano/ENTER/lib/python3.6/site-packages/sklearn/preprocessing/label.py:151: DeprecationWarning: The truth value of an empty array is ambiguous. Returning False, but in future this will result in an error. Use `array.size > 0` to check that an array is not empty.\n",
      "  if diff:\n"
     ]
    }
   ],
   "source": [
    "t0 = time()\n",
    "\n",
    "# Creamos el xgboost\n",
    "\n",
    "xgboost= xgb.XGBClassifier(base_score=0.5, booster='gbtree', colsample_bylevel=1,\\\n",
    "       colsample_bytree=0.6, gamma=5, learning_rate=0.02, max_delta_step=0,\\\n",
    "       max_depth=5, min_child_weight=5, missing=None, n_estimators=600,\\\n",
    "       n_jobs=1, nthread=1, objective='binary:logistic', random_state=0,\\\n",
    "       reg_alpha=0, reg_lambda=1, scale_pos_weight=1, seed=None,\\\n",
    "       silent=True, subsample=1.0)\n",
    "\n",
    "# Lo entrenamos con la totalidad del set de datos\n",
    "xgboost.fit(x_train,y_train)\n",
    "\n",
    "# Predecimos las postulaciones del set final\n",
    "pred = xgboost.predict(x_test)\n",
    "\n",
    "precision = roc_auc_score(y_test, pred)\n",
    "\n",
    "print(\"Precisión: \", precision)\n",
    "\n",
    "tf = time() - t0\n",
    "print (\"Tiempo de ejecución: %0.5f seconds.\" % tf)"
   ]
  },
  {
   "cell_type": "markdown",
   "metadata": {},
   "source": [
    "#### Predicciones con probabilidades"
   ]
  },
  {
   "cell_type": "code",
   "execution_count": null,
   "metadata": {},
   "outputs": [],
   "source": [
    "t0 = time()\n",
    "\n",
    "# Creamos el xgboost\n",
    "xgboost = xgb.XGBClassifier(learning_rate = 0.02,\\\n",
    "                            n_estimators= 2000,\\\n",
    "                            max_depth= 5,\\\n",
    "                            min_child_weight= 2,\\\n",
    "                            gamma=0.9,\\\n",
    "                            colsample_bytree=0.7,\\\n",
    "                            objective= 'binary:logistic',\\\n",
    "                            nthread= -1,\\\n",
    "                            scale_pos_weight=1)\n",
    "\n",
    "# Lo entrenamos con la totalidad del set de datos\n",
    "xgboost.fit(x,y)\n",
    "\n",
    "# Predecimos las postulaciones del set final\n",
    "pred_final_proba = xgboost.predict_proba(x_test_final)\n",
    "\n",
    "# Nos quedamos con la columna correspondiente de probabilidades\n",
    "df_predicciones = pd.DataFrame(pred_final_proba)\n",
    "pred_final_proba = np.array(df_predicciones[1])\n",
    "\n",
    "tf = time() - t0\n",
    "print (\"Tiempo de ejecución: %0.5f seconds.\" % tf)"
   ]
  },
  {
   "cell_type": "markdown",
   "metadata": {},
   "source": [
    "### Submit file"
   ]
  },
  {
   "cell_type": "markdown",
   "metadata": {},
   "source": [
    "#### Submit con valores binarios"
   ]
  },
  {
   "cell_type": "code",
   "execution_count": null,
   "metadata": {},
   "outputs": [],
   "source": [
    "#submit = pd.DataFrame({'id':id_aviso_postulante, 'sepostulo':pred_final})\n",
    "#submit.to_csv('submits/submit_xgboost.csv', index=False)\n",
    "roc_auc_score(np.array(test_final['label']),pred_final)"
   ]
  },
  {
   "cell_type": "code",
   "execution_count": null,
   "metadata": {},
   "outputs": [],
   "source": [
    "#submit['sepostulo'].value_counts()"
   ]
  },
  {
   "cell_type": "markdown",
   "metadata": {},
   "source": [
    "#### Submit con probabilidades"
   ]
  },
  {
   "cell_type": "code",
   "execution_count": null,
   "metadata": {},
   "outputs": [],
   "source": [
    "#submit_proba = pd.DataFrame({'id':id_aviso_postulante, 'sepostulo':pred_final_proba})\n",
    "#submit_proba.to_csv('submits/submit_xgboost_proba.csv', index=False)\n",
    "roc_auc_score(np.array(test_final['label']),pred_final_proba)"
   ]
  },
  {
   "cell_type": "code",
   "execution_count": null,
   "metadata": {},
   "outputs": [],
   "source": [
    "#no = submit_proba['sepostulo'] < 0.5\n",
    "#si = submit_proba['sepostulo'] >= 0.5\n",
    "\n",
    "#cant_no = submit_proba.loc[(no)].count()\n",
    "#cant_si = submit_proba.loc[(si)].count()\n",
    "\n",
    "#print(\"0   \", cant_no[1])\n",
    "#print(\"1   \", cant_si[1])\n",
    "#print(\"Name: sepostulo, dtype: int64\")"
   ]
  }
 ],
 "metadata": {
  "kernelspec": {
   "display_name": "Python 3",
   "language": "python",
   "name": "python3"
  },
  "language_info": {
   "codemirror_mode": {
    "name": "ipython",
    "version": 3
   },
   "file_extension": ".py",
   "mimetype": "text/x-python",
   "name": "python",
   "nbconvert_exporter": "python",
   "pygments_lexer": "ipython3",
   "version": "3.6.6"
  }
 },
 "nbformat": 4,
 "nbformat_minor": 2
}
