{
 "cells": [
  {
   "cell_type": "code",
   "execution_count": 1,
   "metadata": {},
   "outputs": [],
   "source": [
    "import pandas as pd\n",
    "\n",
    "import seaborn as sns\n",
    "import matplotlib.pyplot as plt\n",
    "\n",
    "from time import time\n",
    "import numpy as np\n",
    "from sklearn.model_selection import train_test_split\n",
    "from sklearn.model_selection import cross_val_score\n",
    "from sklearn.metrics import accuracy_score\n",
    "\n",
    "from sklearn.metrics import roc_auc_score"
   ]
  },
  {
   "cell_type": "code",
   "execution_count": 2,
   "metadata": {},
   "outputs": [],
   "source": [
    "from datetime import datetime\n",
    "\n",
    "def mostrar_tiempo(df):    \n",
    "    dic_events_time = {}\n",
    "    person = \"\"\n",
    "    rows = []\n",
    "    compra = False\n",
    "    for index, row in df.iterrows():\n",
    "        if(person == \"\"):\n",
    "            person = row[\"person\"]\n",
    "            last_event_time = row['timestamp']\n",
    "            continue            \n",
    "        if(row['event'] == 'conversion'):\n",
    "            compra = True\n",
    "        tiempo = (datetime.strptime(last_event_time,\"%Y-%m-%d %H:%M:%S\") \\\n",
    "                                - datetime.strptime(row['timestamp'],\"%Y-%m-%d %H:%M:%S\")).total_seconds()\n",
    "        if(tiempo > 86400):\n",
    "            last_event_time = row['timestamp']\n",
    "        if (row['new_vs_returning'] == 'New' or row['new_vs_returning'] == 'Returning' or person != row[\"person\"]):\n",
    "            if(row['person'] != person):\n",
    "                tiempo = 0\n",
    "            rows.append([person,tiempo,row['timestamp'],compra])\n",
    "            person = \"\"\n",
    "            compra = False\n",
    "    return pd.DataFrame(rows,columns=('person', 'time_event', 'timestamp','realizo_compra'))"
   ]
  },
  {
   "cell_type": "code",
   "execution_count": 3,
   "metadata": {},
   "outputs": [],
   "source": [
    "datos = pd.read_csv(\"events_up_to_01062018.csv\",low_memory=False)\n"
   ]
  },
  {
   "cell_type": "code",
   "execution_count": 4,
   "metadata": {},
   "outputs": [
    {
     "data": {
      "text/plain": [
       "Index(['timestamp', 'event', 'person', 'url', 'sku', 'model', 'condition',\n",
       "       'storage', 'color', 'skus', 'search_term', 'staticpage',\n",
       "       'campaign_source', 'search_engine', 'channel', 'new_vs_returning',\n",
       "       'city', 'region', 'country', 'device_type', 'screen_resolution',\n",
       "       'operating_system_version', 'browser_version'],\n",
       "      dtype='object')"
      ]
     },
     "execution_count": 4,
     "metadata": {},
     "output_type": "execute_result"
    }
   ],
   "source": [
    "datos.columns"
   ]
  },
  {
   "cell_type": "code",
   "execution_count": 5,
   "metadata": {},
   "outputs": [],
   "source": [
    "sistema_celulares = datos.loc[datos['device_type']=='Smartphone',['person','timestamp','operating_system_version']]\\\n",
    "                                    .sort_values(by=['person','timestamp'],ascending=False).drop_duplicates('person')"
   ]
  },
  {
   "cell_type": "code",
   "execution_count": 6,
   "metadata": {},
   "outputs": [],
   "source": [
    "#sistema_celulares.operating_system_version.value_counts().sort_index(ascending=False)\n",
    "sistema_celulares['operating_system_version'] = sistema_celulares.operating_system_version.str.split('.').str[0]"
   ]
  },
  {
   "cell_type": "code",
   "execution_count": 7,
   "metadata": {},
   "outputs": [],
   "source": [
    "iOS = sistema_celulares.loc[sistema_celulares.operating_system_version.str.contains('iOS')]"
   ]
  },
  {
   "cell_type": "code",
   "execution_count": 8,
   "metadata": {},
   "outputs": [
    {
     "data": {
      "text/plain": [
       "iOS 11    1111\n",
       "iOS 10     407\n",
       "iOS 9      153\n",
       "iOS 7       46\n",
       "iOS 8       10\n",
       "iOS 6        2\n",
       "Name: operating_system_version, dtype: int64"
      ]
     },
     "execution_count": 8,
     "metadata": {},
     "output_type": "execute_result"
    }
   ],
   "source": [
    "iOS.operating_system_version.value_counts()"
   ]
  },
  {
   "cell_type": "code",
   "execution_count": 9,
   "metadata": {
    "scrolled": true
   },
   "outputs": [
    {
     "data": {
      "text/plain": [
       "Android 6     7448\n",
       "Android 7     6049\n",
       "Android 5     3367\n",
       "Android 4     1596\n",
       "Android 8      442\n",
       "Android         27\n",
       "Android 2        7\n",
       "Android 3        2\n",
       "Android 10       1\n",
       "Name: operating_system_version, dtype: int64"
      ]
     },
     "execution_count": 9,
     "metadata": {},
     "output_type": "execute_result"
    }
   ],
   "source": [
    "Android = sistema_celulares.loc[sistema_celulares.operating_system_version.str.contains('Android')]\n",
    "Android.operating_system_version.value_counts()"
   ]
  },
  {
   "cell_type": "code",
   "execution_count": 10,
   "metadata": {},
   "outputs": [],
   "source": [
    "def esViejo(celular):\n",
    "    if (celular == \"Android 4\" or celular == \"Android 2\" or celular == \"Android 3\"):\n",
    "        return 1\n",
    "    else:\n",
    "        return 0"
   ]
  },
  {
   "cell_type": "code",
   "execution_count": 11,
   "metadata": {},
   "outputs": [],
   "source": [
    "sistema_celulares[\"celularViejo\"] = sistema_celulares[\"operating_system_version\"].apply(lambda x: esViejo(x))"
   ]
  },
  {
   "cell_type": "code",
   "execution_count": 12,
   "metadata": {},
   "outputs": [],
   "source": [
    "sistema_celulares = sistema_celulares[[\"person\", \"celularViejo\"]]"
   ]
  },
  {
   "cell_type": "code",
   "execution_count": 13,
   "metadata": {},
   "outputs": [],
   "source": [
    "h = datos[['person','timestamp','event','new_vs_returning']]\n",
    "h = h.sort_values(by=['person','timestamp'],ascending=False)\n",
    "g = mostrar_tiempo(h)"
   ]
  },
  {
   "cell_type": "code",
   "execution_count": 14,
   "metadata": {},
   "outputs": [],
   "source": [
    "g = g.sort_values(by='time_event',ascending=False)\n",
    "g = g.loc[g['time_event']>0]"
   ]
  },
  {
   "cell_type": "code",
   "execution_count": 15,
   "metadata": {},
   "outputs": [],
   "source": [
    "datos = pd.merge(datos,g,on=['person','timestamp'],how='left')"
   ]
  },
  {
   "cell_type": "code",
   "execution_count": 16,
   "metadata": {},
   "outputs": [
    {
     "data": {
      "text/html": [
       "<div>\n",
       "<style scoped>\n",
       "    .dataframe tbody tr th:only-of-type {\n",
       "        vertical-align: middle;\n",
       "    }\n",
       "\n",
       "    .dataframe tbody tr th {\n",
       "        vertical-align: top;\n",
       "    }\n",
       "\n",
       "    .dataframe thead th {\n",
       "        text-align: right;\n",
       "    }\n",
       "</style>\n",
       "<table border=\"1\" class=\"dataframe\">\n",
       "  <thead>\n",
       "    <tr style=\"text-align: right;\">\n",
       "      <th></th>\n",
       "      <th>person</th>\n",
       "      <th>timestamp</th>\n",
       "      <th>time_event</th>\n",
       "      <th>event</th>\n",
       "      <th>new_vs_returning</th>\n",
       "    </tr>\n",
       "  </thead>\n",
       "  <tbody>\n",
       "    <tr>\n",
       "      <th>20</th>\n",
       "      <td>29ebb414</td>\n",
       "      <td>2018-05-18 00:36:16</td>\n",
       "      <td>667.0</td>\n",
       "      <td>ad campaign hit</td>\n",
       "      <td>NaN</td>\n",
       "    </tr>\n",
       "    <tr>\n",
       "      <th>34</th>\n",
       "      <td>2a724d87</td>\n",
       "      <td>2018-05-18 00:29:15</td>\n",
       "      <td>466.0</td>\n",
       "      <td>ad campaign hit</td>\n",
       "      <td>NaN</td>\n",
       "    </tr>\n",
       "    <tr>\n",
       "      <th>58</th>\n",
       "      <td>16fad36a</td>\n",
       "      <td>2018-05-18 00:23:05</td>\n",
       "      <td>48.0</td>\n",
       "      <td>search engine hit</td>\n",
       "      <td>NaN</td>\n",
       "    </tr>\n",
       "    <tr>\n",
       "      <th>59</th>\n",
       "      <td>6e6770c3</td>\n",
       "      <td>2018-05-18 00:22:59</td>\n",
       "      <td>567.0</td>\n",
       "      <td>ad campaign hit</td>\n",
       "      <td>NaN</td>\n",
       "    </tr>\n",
       "    <tr>\n",
       "      <th>77</th>\n",
       "      <td>d614c608</td>\n",
       "      <td>2018-05-18 00:38:37</td>\n",
       "      <td>1497.0</td>\n",
       "      <td>search engine hit</td>\n",
       "      <td>NaN</td>\n",
       "    </tr>\n",
       "    <tr>\n",
       "      <th>87</th>\n",
       "      <td>de8fe91b</td>\n",
       "      <td>2018-05-18 00:36:03</td>\n",
       "      <td>1453.0</td>\n",
       "      <td>search engine hit</td>\n",
       "      <td>NaN</td>\n",
       "    </tr>\n",
       "    <tr>\n",
       "      <th>102</th>\n",
       "      <td>8f1679ff</td>\n",
       "      <td>2018-05-18 00:51:51</td>\n",
       "      <td>418.0</td>\n",
       "      <td>ad campaign hit</td>\n",
       "      <td>NaN</td>\n",
       "    </tr>\n",
       "    <tr>\n",
       "      <th>108</th>\n",
       "      <td>2a724d87</td>\n",
       "      <td>2018-05-18 00:29:15</td>\n",
       "      <td>466.0</td>\n",
       "      <td>search engine hit</td>\n",
       "      <td>NaN</td>\n",
       "    </tr>\n",
       "    <tr>\n",
       "      <th>138</th>\n",
       "      <td>f87be219</td>\n",
       "      <td>2018-05-18 00:55:13</td>\n",
       "      <td>922.0</td>\n",
       "      <td>ad campaign hit</td>\n",
       "      <td>NaN</td>\n",
       "    </tr>\n",
       "    <tr>\n",
       "      <th>156</th>\n",
       "      <td>e2bfe05f</td>\n",
       "      <td>2018-05-18 01:10:35</td>\n",
       "      <td>120.0</td>\n",
       "      <td>search engine hit</td>\n",
       "      <td>NaN</td>\n",
       "    </tr>\n",
       "    <tr>\n",
       "      <th>169</th>\n",
       "      <td>4e03ed9a</td>\n",
       "      <td>2018-05-18 00:18:03</td>\n",
       "      <td>1164.0</td>\n",
       "      <td>search engine hit</td>\n",
       "      <td>NaN</td>\n",
       "    </tr>\n",
       "    <tr>\n",
       "      <th>196</th>\n",
       "      <td>eb6c498c</td>\n",
       "      <td>2018-05-18 01:12:17</td>\n",
       "      <td>626.0</td>\n",
       "      <td>viewed product</td>\n",
       "      <td>NaN</td>\n",
       "    </tr>\n",
       "    <tr>\n",
       "      <th>202</th>\n",
       "      <td>bb78c182</td>\n",
       "      <td>2018-05-18 01:11:31</td>\n",
       "      <td>72.0</td>\n",
       "      <td>ad campaign hit</td>\n",
       "      <td>NaN</td>\n",
       "    </tr>\n",
       "    <tr>\n",
       "      <th>218</th>\n",
       "      <td>47710d5d</td>\n",
       "      <td>2018-05-18 01:08:25</td>\n",
       "      <td>1610.0</td>\n",
       "      <td>viewed product</td>\n",
       "      <td>NaN</td>\n",
       "    </tr>\n",
       "    <tr>\n",
       "      <th>238</th>\n",
       "      <td>f389e5ef</td>\n",
       "      <td>2018-05-18 01:13:55</td>\n",
       "      <td>2621.0</td>\n",
       "      <td>ad campaign hit</td>\n",
       "      <td>NaN</td>\n",
       "    </tr>\n",
       "    <tr>\n",
       "      <th>280</th>\n",
       "      <td>77edab49</td>\n",
       "      <td>2018-05-18 01:07:08</td>\n",
       "      <td>21.0</td>\n",
       "      <td>viewed product</td>\n",
       "      <td>NaN</td>\n",
       "    </tr>\n",
       "    <tr>\n",
       "      <th>286</th>\n",
       "      <td>0e9d0ae2</td>\n",
       "      <td>2018-05-18 01:05:46</td>\n",
       "      <td>571.0</td>\n",
       "      <td>search engine hit</td>\n",
       "      <td>NaN</td>\n",
       "    </tr>\n",
       "    <tr>\n",
       "      <th>306</th>\n",
       "      <td>f87be219</td>\n",
       "      <td>2018-05-18 00:55:13</td>\n",
       "      <td>922.0</td>\n",
       "      <td>viewed product</td>\n",
       "      <td>NaN</td>\n",
       "    </tr>\n",
       "    <tr>\n",
       "      <th>336</th>\n",
       "      <td>ca5fa859</td>\n",
       "      <td>2018-05-18 00:16:25</td>\n",
       "      <td>147.0</td>\n",
       "      <td>ad campaign hit</td>\n",
       "      <td>NaN</td>\n",
       "    </tr>\n",
       "    <tr>\n",
       "      <th>355</th>\n",
       "      <td>8ea4c165</td>\n",
       "      <td>2018-05-18 00:32:06</td>\n",
       "      <td>795.0</td>\n",
       "      <td>search engine hit</td>\n",
       "      <td>NaN</td>\n",
       "    </tr>\n",
       "    <tr>\n",
       "      <th>415</th>\n",
       "      <td>a08d42ea</td>\n",
       "      <td>2018-05-18 01:18:29</td>\n",
       "      <td>61.0</td>\n",
       "      <td>ad campaign hit</td>\n",
       "      <td>NaN</td>\n",
       "    </tr>\n",
       "    <tr>\n",
       "      <th>433</th>\n",
       "      <td>78c4ca18</td>\n",
       "      <td>2018-05-18 00:22:54</td>\n",
       "      <td>16.0</td>\n",
       "      <td>ad campaign hit</td>\n",
       "      <td>NaN</td>\n",
       "    </tr>\n",
       "    <tr>\n",
       "      <th>436</th>\n",
       "      <td>83f6fb70</td>\n",
       "      <td>2018-05-18 00:22:35</td>\n",
       "      <td>729.0</td>\n",
       "      <td>viewed product</td>\n",
       "      <td>NaN</td>\n",
       "    </tr>\n",
       "    <tr>\n",
       "      <th>450</th>\n",
       "      <td>4f06f2dd</td>\n",
       "      <td>2018-05-18 00:14:45</td>\n",
       "      <td>312.0</td>\n",
       "      <td>ad campaign hit</td>\n",
       "      <td>NaN</td>\n",
       "    </tr>\n",
       "    <tr>\n",
       "      <th>455</th>\n",
       "      <td>e39a4b4f</td>\n",
       "      <td>2018-05-18 00:12:01</td>\n",
       "      <td>1124.0</td>\n",
       "      <td>viewed product</td>\n",
       "      <td>NaN</td>\n",
       "    </tr>\n",
       "    <tr>\n",
       "      <th>457</th>\n",
       "      <td>9bb3af27</td>\n",
       "      <td>2018-05-18 00:11:31</td>\n",
       "      <td>652.0</td>\n",
       "      <td>search engine hit</td>\n",
       "      <td>NaN</td>\n",
       "    </tr>\n",
       "    <tr>\n",
       "      <th>458</th>\n",
       "      <td>ad93850f</td>\n",
       "      <td>2018-05-18 00:11:26</td>\n",
       "      <td>727.0</td>\n",
       "      <td>ad campaign hit</td>\n",
       "      <td>NaN</td>\n",
       "    </tr>\n",
       "    <tr>\n",
       "      <th>503</th>\n",
       "      <td>a90bb821</td>\n",
       "      <td>2018-05-29 08:16:01</td>\n",
       "      <td>731.0</td>\n",
       "      <td>search engine hit</td>\n",
       "      <td>NaN</td>\n",
       "    </tr>\n",
       "    <tr>\n",
       "      <th>517</th>\n",
       "      <td>66f3c5a8</td>\n",
       "      <td>2018-05-29 07:32:20</td>\n",
       "      <td>322.0</td>\n",
       "      <td>ad campaign hit</td>\n",
       "      <td>NaN</td>\n",
       "    </tr>\n",
       "    <tr>\n",
       "      <th>543</th>\n",
       "      <td>bb5c496a</td>\n",
       "      <td>2018-05-29 09:05:48</td>\n",
       "      <td>48.0</td>\n",
       "      <td>ad campaign hit</td>\n",
       "      <td>NaN</td>\n",
       "    </tr>\n",
       "    <tr>\n",
       "      <th>...</th>\n",
       "      <td>...</td>\n",
       "      <td>...</td>\n",
       "      <td>...</td>\n",
       "      <td>...</td>\n",
       "      <td>...</td>\n",
       "    </tr>\n",
       "    <tr>\n",
       "      <th>2340667</th>\n",
       "      <td>5dd43fdc</td>\n",
       "      <td>2018-04-06 00:22:06</td>\n",
       "      <td>512.0</td>\n",
       "      <td>visited site</td>\n",
       "      <td>Returning</td>\n",
       "    </tr>\n",
       "    <tr>\n",
       "      <th>2340668</th>\n",
       "      <td>5dd43fdc</td>\n",
       "      <td>2018-04-06 01:13:38</td>\n",
       "      <td>3.0</td>\n",
       "      <td>visited site</td>\n",
       "      <td>Returning</td>\n",
       "    </tr>\n",
       "    <tr>\n",
       "      <th>2340669</th>\n",
       "      <td>5dd43fdc</td>\n",
       "      <td>2018-04-14 22:00:18</td>\n",
       "      <td>4.0</td>\n",
       "      <td>visited site</td>\n",
       "      <td>Returning</td>\n",
       "    </tr>\n",
       "    <tr>\n",
       "      <th>2340670</th>\n",
       "      <td>5dd43fdc</td>\n",
       "      <td>2018-04-15 21:26:05</td>\n",
       "      <td>539.0</td>\n",
       "      <td>visited site</td>\n",
       "      <td>Returning</td>\n",
       "    </tr>\n",
       "    <tr>\n",
       "      <th>2340671</th>\n",
       "      <td>5dd43fdc</td>\n",
       "      <td>2018-04-18 12:44:13</td>\n",
       "      <td>6.0</td>\n",
       "      <td>visited site</td>\n",
       "      <td>Returning</td>\n",
       "    </tr>\n",
       "    <tr>\n",
       "      <th>2340672</th>\n",
       "      <td>5dd43fdc</td>\n",
       "      <td>2018-03-01 18:26:28</td>\n",
       "      <td>55.0</td>\n",
       "      <td>visited site</td>\n",
       "      <td>Returning</td>\n",
       "    </tr>\n",
       "    <tr>\n",
       "      <th>2340673</th>\n",
       "      <td>5dd43fdc</td>\n",
       "      <td>2018-03-14 00:35:10</td>\n",
       "      <td>26.0</td>\n",
       "      <td>visited site</td>\n",
       "      <td>Returning</td>\n",
       "    </tr>\n",
       "    <tr>\n",
       "      <th>2340674</th>\n",
       "      <td>5dd43fdc</td>\n",
       "      <td>2018-03-16 05:05:37</td>\n",
       "      <td>232.0</td>\n",
       "      <td>visited site</td>\n",
       "      <td>Returning</td>\n",
       "    </tr>\n",
       "    <tr>\n",
       "      <th>2340675</th>\n",
       "      <td>5dd43fdc</td>\n",
       "      <td>2018-02-27 22:19:58</td>\n",
       "      <td>243.0</td>\n",
       "      <td>visited site</td>\n",
       "      <td>Returning</td>\n",
       "    </tr>\n",
       "    <tr>\n",
       "      <th>2340676</th>\n",
       "      <td>5dd43fdc</td>\n",
       "      <td>2018-02-27 23:46:15</td>\n",
       "      <td>615.0</td>\n",
       "      <td>visited site</td>\n",
       "      <td>Returning</td>\n",
       "    </tr>\n",
       "    <tr>\n",
       "      <th>2340678</th>\n",
       "      <td>5dd43fdc</td>\n",
       "      <td>2018-02-28 10:53:07</td>\n",
       "      <td>43.0</td>\n",
       "      <td>visited site</td>\n",
       "      <td>Returning</td>\n",
       "    </tr>\n",
       "    <tr>\n",
       "      <th>2340679</th>\n",
       "      <td>dbdc4eb8</td>\n",
       "      <td>2018-05-01 23:54:54</td>\n",
       "      <td>3391.0</td>\n",
       "      <td>visited site</td>\n",
       "      <td>Returning</td>\n",
       "    </tr>\n",
       "    <tr>\n",
       "      <th>2340680</th>\n",
       "      <td>dbdc4eb8</td>\n",
       "      <td>2018-05-03 22:33:58</td>\n",
       "      <td>13.0</td>\n",
       "      <td>visited site</td>\n",
       "      <td>Returning</td>\n",
       "    </tr>\n",
       "    <tr>\n",
       "      <th>2340681</th>\n",
       "      <td>dbdc4eb8</td>\n",
       "      <td>2018-05-06 21:58:51</td>\n",
       "      <td>14.0</td>\n",
       "      <td>visited site</td>\n",
       "      <td>Returning</td>\n",
       "    </tr>\n",
       "    <tr>\n",
       "      <th>2340682</th>\n",
       "      <td>dbdc4eb8</td>\n",
       "      <td>2018-05-16 23:55:04</td>\n",
       "      <td>1128.0</td>\n",
       "      <td>visited site</td>\n",
       "      <td>Returning</td>\n",
       "    </tr>\n",
       "    <tr>\n",
       "      <th>2340683</th>\n",
       "      <td>dbdc4eb8</td>\n",
       "      <td>2018-04-19 23:36:52</td>\n",
       "      <td>2545.0</td>\n",
       "      <td>visited site</td>\n",
       "      <td>New</td>\n",
       "    </tr>\n",
       "    <tr>\n",
       "      <th>2340684</th>\n",
       "      <td>dbdc4eb8</td>\n",
       "      <td>2018-04-25 17:34:02</td>\n",
       "      <td>19539.0</td>\n",
       "      <td>visited site</td>\n",
       "      <td>Returning</td>\n",
       "    </tr>\n",
       "    <tr>\n",
       "      <th>2340685</th>\n",
       "      <td>dbdc4eb8</td>\n",
       "      <td>2018-04-25 23:00:21</td>\n",
       "      <td>45.0</td>\n",
       "      <td>visited site</td>\n",
       "      <td>Returning</td>\n",
       "    </tr>\n",
       "    <tr>\n",
       "      <th>2340686</th>\n",
       "      <td>cc5a6757</td>\n",
       "      <td>2018-05-17 16:14:09</td>\n",
       "      <td>8.0</td>\n",
       "      <td>visited site</td>\n",
       "      <td>New</td>\n",
       "    </tr>\n",
       "    <tr>\n",
       "      <th>2340687</th>\n",
       "      <td>7b9386e0</td>\n",
       "      <td>2018-05-19 13:05:30</td>\n",
       "      <td>371.0</td>\n",
       "      <td>visited site</td>\n",
       "      <td>New</td>\n",
       "    </tr>\n",
       "    <tr>\n",
       "      <th>2340688</th>\n",
       "      <td>7b9386e0</td>\n",
       "      <td>2018-05-19 13:58:06</td>\n",
       "      <td>3.0</td>\n",
       "      <td>visited site</td>\n",
       "      <td>Returning</td>\n",
       "    </tr>\n",
       "    <tr>\n",
       "      <th>2340689</th>\n",
       "      <td>7b9386e0</td>\n",
       "      <td>2018-05-21 21:07:14</td>\n",
       "      <td>117.0</td>\n",
       "      <td>visited site</td>\n",
       "      <td>Returning</td>\n",
       "    </tr>\n",
       "    <tr>\n",
       "      <th>2340690</th>\n",
       "      <td>7b9386e0</td>\n",
       "      <td>2018-05-24 13:28:40</td>\n",
       "      <td>448.0</td>\n",
       "      <td>visited site</td>\n",
       "      <td>Returning</td>\n",
       "    </tr>\n",
       "    <tr>\n",
       "      <th>2340691</th>\n",
       "      <td>c9efd535</td>\n",
       "      <td>2018-05-29 14:35:38</td>\n",
       "      <td>39.0</td>\n",
       "      <td>visited site</td>\n",
       "      <td>New</td>\n",
       "    </tr>\n",
       "    <tr>\n",
       "      <th>2340692</th>\n",
       "      <td>de56c91a</td>\n",
       "      <td>2018-05-25 18:52:58</td>\n",
       "      <td>1249.0</td>\n",
       "      <td>visited site</td>\n",
       "      <td>New</td>\n",
       "    </tr>\n",
       "    <tr>\n",
       "      <th>2340693</th>\n",
       "      <td>1e6bce06</td>\n",
       "      <td>2018-05-26 07:10:18</td>\n",
       "      <td>131.0</td>\n",
       "      <td>visited site</td>\n",
       "      <td>New</td>\n",
       "    </tr>\n",
       "    <tr>\n",
       "      <th>2340694</th>\n",
       "      <td>1e6bce06</td>\n",
       "      <td>2018-05-31 19:55:44</td>\n",
       "      <td>7.0</td>\n",
       "      <td>visited site</td>\n",
       "      <td>Returning</td>\n",
       "    </tr>\n",
       "    <tr>\n",
       "      <th>2340695</th>\n",
       "      <td>39eac137</td>\n",
       "      <td>2018-05-29 05:02:21</td>\n",
       "      <td>1037.0</td>\n",
       "      <td>visited site</td>\n",
       "      <td>New</td>\n",
       "    </tr>\n",
       "    <tr>\n",
       "      <th>2340696</th>\n",
       "      <td>7010c491</td>\n",
       "      <td>2018-05-29 22:39:54</td>\n",
       "      <td>369.0</td>\n",
       "      <td>visited site</td>\n",
       "      <td>New</td>\n",
       "    </tr>\n",
       "    <tr>\n",
       "      <th>2340697</th>\n",
       "      <td>7010c491</td>\n",
       "      <td>2018-05-30 20:10:00</td>\n",
       "      <td>1.0</td>\n",
       "      <td>visited site</td>\n",
       "      <td>Returning</td>\n",
       "    </tr>\n",
       "  </tbody>\n",
       "</table>\n",
       "<p>362179 rows × 5 columns</p>\n",
       "</div>"
      ],
      "text/plain": [
       "           person            timestamp  time_event              event  \\\n",
       "20       29ebb414  2018-05-18 00:36:16       667.0    ad campaign hit   \n",
       "34       2a724d87  2018-05-18 00:29:15       466.0    ad campaign hit   \n",
       "58       16fad36a  2018-05-18 00:23:05        48.0  search engine hit   \n",
       "59       6e6770c3  2018-05-18 00:22:59       567.0    ad campaign hit   \n",
       "77       d614c608  2018-05-18 00:38:37      1497.0  search engine hit   \n",
       "87       de8fe91b  2018-05-18 00:36:03      1453.0  search engine hit   \n",
       "102      8f1679ff  2018-05-18 00:51:51       418.0    ad campaign hit   \n",
       "108      2a724d87  2018-05-18 00:29:15       466.0  search engine hit   \n",
       "138      f87be219  2018-05-18 00:55:13       922.0    ad campaign hit   \n",
       "156      e2bfe05f  2018-05-18 01:10:35       120.0  search engine hit   \n",
       "169      4e03ed9a  2018-05-18 00:18:03      1164.0  search engine hit   \n",
       "196      eb6c498c  2018-05-18 01:12:17       626.0     viewed product   \n",
       "202      bb78c182  2018-05-18 01:11:31        72.0    ad campaign hit   \n",
       "218      47710d5d  2018-05-18 01:08:25      1610.0     viewed product   \n",
       "238      f389e5ef  2018-05-18 01:13:55      2621.0    ad campaign hit   \n",
       "280      77edab49  2018-05-18 01:07:08        21.0     viewed product   \n",
       "286      0e9d0ae2  2018-05-18 01:05:46       571.0  search engine hit   \n",
       "306      f87be219  2018-05-18 00:55:13       922.0     viewed product   \n",
       "336      ca5fa859  2018-05-18 00:16:25       147.0    ad campaign hit   \n",
       "355      8ea4c165  2018-05-18 00:32:06       795.0  search engine hit   \n",
       "415      a08d42ea  2018-05-18 01:18:29        61.0    ad campaign hit   \n",
       "433      78c4ca18  2018-05-18 00:22:54        16.0    ad campaign hit   \n",
       "436      83f6fb70  2018-05-18 00:22:35       729.0     viewed product   \n",
       "450      4f06f2dd  2018-05-18 00:14:45       312.0    ad campaign hit   \n",
       "455      e39a4b4f  2018-05-18 00:12:01      1124.0     viewed product   \n",
       "457      9bb3af27  2018-05-18 00:11:31       652.0  search engine hit   \n",
       "458      ad93850f  2018-05-18 00:11:26       727.0    ad campaign hit   \n",
       "503      a90bb821  2018-05-29 08:16:01       731.0  search engine hit   \n",
       "517      66f3c5a8  2018-05-29 07:32:20       322.0    ad campaign hit   \n",
       "543      bb5c496a  2018-05-29 09:05:48        48.0    ad campaign hit   \n",
       "...           ...                  ...         ...                ...   \n",
       "2340667  5dd43fdc  2018-04-06 00:22:06       512.0       visited site   \n",
       "2340668  5dd43fdc  2018-04-06 01:13:38         3.0       visited site   \n",
       "2340669  5dd43fdc  2018-04-14 22:00:18         4.0       visited site   \n",
       "2340670  5dd43fdc  2018-04-15 21:26:05       539.0       visited site   \n",
       "2340671  5dd43fdc  2018-04-18 12:44:13         6.0       visited site   \n",
       "2340672  5dd43fdc  2018-03-01 18:26:28        55.0       visited site   \n",
       "2340673  5dd43fdc  2018-03-14 00:35:10        26.0       visited site   \n",
       "2340674  5dd43fdc  2018-03-16 05:05:37       232.0       visited site   \n",
       "2340675  5dd43fdc  2018-02-27 22:19:58       243.0       visited site   \n",
       "2340676  5dd43fdc  2018-02-27 23:46:15       615.0       visited site   \n",
       "2340678  5dd43fdc  2018-02-28 10:53:07        43.0       visited site   \n",
       "2340679  dbdc4eb8  2018-05-01 23:54:54      3391.0       visited site   \n",
       "2340680  dbdc4eb8  2018-05-03 22:33:58        13.0       visited site   \n",
       "2340681  dbdc4eb8  2018-05-06 21:58:51        14.0       visited site   \n",
       "2340682  dbdc4eb8  2018-05-16 23:55:04      1128.0       visited site   \n",
       "2340683  dbdc4eb8  2018-04-19 23:36:52      2545.0       visited site   \n",
       "2340684  dbdc4eb8  2018-04-25 17:34:02     19539.0       visited site   \n",
       "2340685  dbdc4eb8  2018-04-25 23:00:21        45.0       visited site   \n",
       "2340686  cc5a6757  2018-05-17 16:14:09         8.0       visited site   \n",
       "2340687  7b9386e0  2018-05-19 13:05:30       371.0       visited site   \n",
       "2340688  7b9386e0  2018-05-19 13:58:06         3.0       visited site   \n",
       "2340689  7b9386e0  2018-05-21 21:07:14       117.0       visited site   \n",
       "2340690  7b9386e0  2018-05-24 13:28:40       448.0       visited site   \n",
       "2340691  c9efd535  2018-05-29 14:35:38        39.0       visited site   \n",
       "2340692  de56c91a  2018-05-25 18:52:58      1249.0       visited site   \n",
       "2340693  1e6bce06  2018-05-26 07:10:18       131.0       visited site   \n",
       "2340694  1e6bce06  2018-05-31 19:55:44         7.0       visited site   \n",
       "2340695  39eac137  2018-05-29 05:02:21      1037.0       visited site   \n",
       "2340696  7010c491  2018-05-29 22:39:54       369.0       visited site   \n",
       "2340697  7010c491  2018-05-30 20:10:00         1.0       visited site   \n",
       "\n",
       "        new_vs_returning  \n",
       "20                   NaN  \n",
       "34                   NaN  \n",
       "58                   NaN  \n",
       "59                   NaN  \n",
       "77                   NaN  \n",
       "87                   NaN  \n",
       "102                  NaN  \n",
       "108                  NaN  \n",
       "138                  NaN  \n",
       "156                  NaN  \n",
       "169                  NaN  \n",
       "196                  NaN  \n",
       "202                  NaN  \n",
       "218                  NaN  \n",
       "238                  NaN  \n",
       "280                  NaN  \n",
       "286                  NaN  \n",
       "306                  NaN  \n",
       "336                  NaN  \n",
       "355                  NaN  \n",
       "415                  NaN  \n",
       "433                  NaN  \n",
       "436                  NaN  \n",
       "450                  NaN  \n",
       "455                  NaN  \n",
       "457                  NaN  \n",
       "458                  NaN  \n",
       "503                  NaN  \n",
       "517                  NaN  \n",
       "543                  NaN  \n",
       "...                  ...  \n",
       "2340667        Returning  \n",
       "2340668        Returning  \n",
       "2340669        Returning  \n",
       "2340670        Returning  \n",
       "2340671        Returning  \n",
       "2340672        Returning  \n",
       "2340673        Returning  \n",
       "2340674        Returning  \n",
       "2340675        Returning  \n",
       "2340676        Returning  \n",
       "2340678        Returning  \n",
       "2340679        Returning  \n",
       "2340680        Returning  \n",
       "2340681        Returning  \n",
       "2340682        Returning  \n",
       "2340683              New  \n",
       "2340684        Returning  \n",
       "2340685        Returning  \n",
       "2340686              New  \n",
       "2340687              New  \n",
       "2340688        Returning  \n",
       "2340689        Returning  \n",
       "2340690        Returning  \n",
       "2340691              New  \n",
       "2340692              New  \n",
       "2340693              New  \n",
       "2340694        Returning  \n",
       "2340695              New  \n",
       "2340696              New  \n",
       "2340697        Returning  \n",
       "\n",
       "[362179 rows x 5 columns]"
      ]
     },
     "execution_count": 16,
     "metadata": {},
     "output_type": "execute_result"
    }
   ],
   "source": [
    "datos[['person','timestamp','time_event','event','new_vs_returning']].loc[datos['time_event']>0]"
   ]
  },
  {
   "cell_type": "code",
   "execution_count": 17,
   "metadata": {},
   "outputs": [],
   "source": [
    "datos['timestamp'] = pd.to_datetime(datos['timestamp'])\n",
    "datos['dia'] = datos['timestamp'].dt.day\n",
    "datos['mes'] = datos['timestamp'].dt.month"
   ]
  },
  {
   "cell_type": "code",
   "execution_count": 18,
   "metadata": {},
   "outputs": [],
   "source": [
    "quincenas = [False,0,2,4,6,8,10]\n",
    "\n",
    "datos['mes_q'] = datos['mes'].apply(lambda x: quincenas[x])\n",
    "\n",
    "datos['principio_fin'] = 0\n",
    "datos.loc[datos['dia'] >15,'principio_fin'] = 1\n",
    "\n",
    "datos['quincena'] = datos['principio_fin'] + datos['mes_q']"
   ]
  },
  {
   "cell_type": "code",
   "execution_count": 19,
   "metadata": {
    "scrolled": true
   },
   "outputs": [
    {
     "name": "stderr",
     "output_type": "stream",
     "text": [
      "C:\\Users\\franc\\Anaconda3\\lib\\site-packages\\pandas\\core\\frame.py:3790: SettingWithCopyWarning: \n",
      "A value is trying to be set on a copy of a slice from a DataFrame\n",
      "\n",
      "See the caveats in the documentation: http://pandas.pydata.org/pandas-docs/stable/indexing.html#indexing-view-versus-copy\n",
      "  downcast=downcast, **kwargs)\n"
     ]
    }
   ],
   "source": [
    "datos_tiempo = datos[['person','quincena','time_event']]\n",
    "datos_tiempo.fillna(0,inplace=True)\n",
    "datos_tiempo = datos_tiempo.groupby(['person','quincena']).agg({'time_event':'max'})"
   ]
  },
  {
   "cell_type": "code",
   "execution_count": 20,
   "metadata": {},
   "outputs": [],
   "source": [
    "datos_tiempo = datos_tiempo.unstack()\n",
    "datos_tiempo.columns = datos_tiempo.columns.droplevel(0)\n",
    "datos_tiempo = datos_tiempo.reset_index(level=0,drop=False)\n"
   ]
  },
  {
   "cell_type": "code",
   "execution_count": 21,
   "metadata": {
    "scrolled": false
   },
   "outputs": [
    {
     "data": {
      "text/plain": [
       "<matplotlib.axes._subplots.AxesSubplot at 0x17781a8fda0>"
      ]
     },
     "execution_count": 21,
     "metadata": {},
     "output_type": "execute_result"
    },
    {
     "data": {
      "image/png": "[encoded data removed]",
      "text/plain": [
       "<Figure size 864x720 with 2 Axes>"
      ]
     },
     "metadata": {},
     "output_type": "display_data"
    }
   ],
   "source": [
    "\n",
    "corrmat = datos_tiempo.corr(method='spearman')\n",
    "f, ax = plt.subplots(figsize=(12, 10))\n",
    "sns.heatmap(corrmat, ax=ax, cmap=\"YlGnBu\", linewidths=0.1)"
   ]
  },
  {
   "cell_type": "code",
   "execution_count": 22,
   "metadata": {},
   "outputs": [],
   "source": [
    "j = 0\n",
    "for i in datos_tiempo.columns:\n",
    "    datos_tiempo.rename(columns={j:'max_tiempo_sesion_q_'+str(j)},inplace=True)\n",
    "    j =  j + 1"
   ]
  },
  {
   "cell_type": "code",
   "execution_count": 23,
   "metadata": {},
   "outputs": [],
   "source": [
    "datos_tiempo.fillna(0,inplace=True)"
   ]
  },
  {
   "cell_type": "code",
   "execution_count": 24,
   "metadata": {},
   "outputs": [
    {
     "name": "stderr",
     "output_type": "stream",
     "text": [
      "C:\\Users\\franc\\Anaconda3\\lib\\site-packages\\pandas\\core\\frame.py:3790: SettingWithCopyWarning: \n",
      "A value is trying to be set on a copy of a slice from a DataFrame\n",
      "\n",
      "See the caveats in the documentation: http://pandas.pydata.org/pandas-docs/stable/indexing.html#indexing-view-versus-copy\n",
      "  downcast=downcast, **kwargs)\n"
     ]
    }
   ],
   "source": [
    "datos_tiempo_q = datos[['person','quincena','time_event']]\n",
    "datos_tiempo_q.fillna(0,inplace=True)\n",
    "datos_tiempo_q = datos_tiempo_q.groupby(['person','quincena']).agg({'time_event':'mean'})\n",
    "datos_tiempo_q = datos_tiempo_q.unstack()\n",
    "datos_tiempo_q.columns = datos_tiempo_q.columns.droplevel(0)\n",
    "datos_tiempo_q = datos_tiempo_q.reset_index(level=0,drop=False)\n",
    "j = 0\n",
    "for i in datos_tiempo_q.columns:\n",
    "    datos_tiempo_q.rename(columns={j:'prom_tiempo_sesion_q_'+str(j)},inplace=True)\n",
    "    j =  j + 1"
   ]
  },
  {
   "cell_type": "code",
   "execution_count": 25,
   "metadata": {},
   "outputs": [],
   "source": [
    "eventos_x_person = datos[['person','event','quincena','timestamp']]\n",
    "eventos_x_person = eventos_x_person.groupby(['person','event','quincena']).agg({'timestamp':'count'})\n",
    "eventos_x_person = eventos_x_person.unstack('event')\n",
    "eventos_x_person.columns = eventos_x_person.columns.droplevel(0)\n",
    "eventos_x_person = eventos_x_person.unstack(-1)"
   ]
  },
  {
   "cell_type": "code",
   "execution_count": 26,
   "metadata": {},
   "outputs": [],
   "source": [
    "p = datos[['person','timestamp']].drop_duplicates('person')"
   ]
  },
  {
   "cell_type": "code",
   "execution_count": 27,
   "metadata": {},
   "outputs": [],
   "source": [
    "#eventos_x_person.columns = eventos_x_person.columns.droplevel(0)\n",
    "columnas = {}\n",
    "for i in datos.event.unique():\n",
    "    for j in range(0,10):\n",
    "        columnas[j] = i+'_'+str(j)\n",
    "    p = pd.merge(p,eventos_x_person[i],on='person',how='left')\n",
    "    p = p.rename(columns=columnas)\n",
    "p.drop(columns='timestamp',inplace=True)\n",
    "p.fillna(0,inplace=True)"
   ]
  },
  {
   "cell_type": "code",
   "execution_count": 28,
   "metadata": {},
   "outputs": [],
   "source": [
    "eventos_x_person = datos[['person','event','timestamp']]\n",
    "eventos_x_person = eventos_x_person.groupby(['person','event']).agg({'timestamp':'count'})\n",
    "eventos_x_person = eventos_x_person.unstack(-1)\n",
    "eventos_x_person.columns = eventos_x_person.columns.droplevel(0)\n",
    "eventos_x_person = eventos_x_person.reset_index()\n",
    "eventos_x_person.fillna(0,inplace=True)"
   ]
  },
  {
   "cell_type": "code",
   "execution_count": 29,
   "metadata": {},
   "outputs": [],
   "source": [
    "train = pd.read_csv(\"labels_training_set.csv\",low_memory=False)"
   ]
  },
  {
   "cell_type": "code",
   "execution_count": 30,
   "metadata": {},
   "outputs": [],
   "source": [
    "dat = pd.merge(datos_tiempo,datos_tiempo_q,on='person')\n",
    "dat.fillna(0,inplace=True)\n",
    "train = pd.merge(train,dat,on='person',how='inner')"
   ]
  },
  {
   "cell_type": "code",
   "execution_count": 31,
   "metadata": {},
   "outputs": [],
   "source": [
    "train = pd.merge(train,p,on='person')\n",
    "train = pd.merge(train,eventos_x_person,on='person')\n",
    "train = pd.merge(train, sistema_celulares, on=\"person\")"
   ]
  },
  {
   "cell_type": "code",
   "execution_count": 32,
   "metadata": {},
   "outputs": [
    {
     "data": {
      "text/plain": [
       "array(['viewed product', 'searched products', 'ad campaign hit',\n",
       "       'staticpage', 'checkout', 'search engine hit', 'conversion',\n",
       "       'generic listing', 'brand listing', 'visited site', 'lead'],\n",
       "      dtype=object)"
      ]
     },
     "execution_count": 32,
     "metadata": {},
     "output_type": "execute_result"
    }
   ],
   "source": [
    "datos.event.unique()"
   ]
  },
  {
   "cell_type": "markdown",
   "metadata": {},
   "source": [
    "# IDEAS\n",
    "-SI compro recientemente\n",
    "\n",
    "-Hace cuanto no se loggea en la pagina\n",
    "\n",
    "-Cada cuanto se loguea en la página\n",
    "\n",
    "-Antiguedad en la pagina\n",
    "\n"
   ]
  },
  {
   "cell_type": "markdown",
   "metadata": {},
   "source": [
    "### Features, gap entre compras y etc"
   ]
  },
  {
   "cell_type": "markdown",
   "metadata": {},
   "source": [
    "Funcion que toma la distancia en dias de una compra y la siguiente sesión"
   ]
  },
  {
   "cell_type": "code",
   "execution_count": 33,
   "metadata": {},
   "outputs": [],
   "source": [
    "def logueoycompras(df):\n",
    "    rows=[]\n",
    "    person = \"\"\n",
    "    for index,row in df.iterrows():\n",
    "        if((row['event'] == 'conversion') & (person == \"\")):\n",
    "            dia_conversion = row['timestamp']\n",
    "            person = row['person']\n",
    "            continue\n",
    "        if(person != \"\"):\n",
    "            dias = row['timestamp'].timetuple().tm_yday -\\\n",
    "                dia_conversion.timetuple().tm_yday\n",
    "            if(person!=row['person']):\n",
    "                dias = datetime(2018, 6, 1, 0, 0).timetuple().tm_yday -\\\n",
    "                        dia_conversion.timetuple().tm_yday\n",
    "                rows.append([person,dia_conversion.timetuple().tm_yday,dias])\n",
    "                person = \"\"\n",
    "                continue\n",
    "            if dias >= 1:\n",
    "                rows.append([person,dia_conversion.timetuple().tm_yday,dias])\n",
    "                person = \"\"\n",
    "    return pd.DataFrame(rows,columns=('person','day_of_year','dias_sin_conversion'))"
   ]
  },
  {
   "cell_type": "markdown",
   "metadata": {},
   "source": [
    "Funcion que toma el gap entre compras desde registración hasta el 1ro de junio (en días)"
   ]
  },
  {
   "cell_type": "code",
   "execution_count": 34,
   "metadata": {},
   "outputs": [],
   "source": [
    "def dist_compras(df):\n",
    "    rows = []\n",
    "    person = \"\"\n",
    "    for index,row in df.iterrows():\n",
    "        if(person != row['person']):\n",
    "            if(person != \"\"):\n",
    "                gap = (datetime(2018, 6, 1, 0, 0) - dia).total_seconds()\n",
    "                rows.append([person,dia,gap])\n",
    "            person = row['person']\n",
    "            dia = row['timestamp']\n",
    "        else:\n",
    "            gap = (row['timestamp'] - dia).total_seconds()\n",
    "            rows.append([person,dia,gap])\n",
    "            dia = row['timestamp']\n",
    "    return pd.DataFrame(rows,columns=('person','timestamp','distance'))"
   ]
  },
  {
   "cell_type": "code",
   "execution_count": 35,
   "metadata": {},
   "outputs": [],
   "source": [
    "personas = datos[['person','new_vs_returning']]\n",
    "personas = personas.loc[personas['new_vs_returning'] == 'New']"
   ]
  },
  {
   "cell_type": "code",
   "execution_count": 36,
   "metadata": {},
   "outputs": [
    {
     "name": "stdout",
     "output_type": "stream",
     "text": [
      "Sin fecha registro :  587\n"
     ]
    }
   ],
   "source": [
    "usuariosyregistros = datos[['person','timestamp']].sort_values(by=['person','timestamp'],ascending = True)\\\n",
    "                                                .drop_duplicates('person').merge(personas,on='person',how='left')                                                                                \n",
    "print('Sin fecha registro : ',usuariosyregistros.new_vs_returning.isnull().sum())\n",
    "usuariosyregistros.fillna('New',inplace=True)"
   ]
  },
  {
   "cell_type": "code",
   "execution_count": 37,
   "metadata": {
    "scrolled": false
   },
   "outputs": [
    {
     "name": "stdout",
     "output_type": "stream",
     "text": [
      "Sin registro:  0\n"
     ]
    }
   ],
   "source": [
    "datos = pd.merge(datos,usuariosyregistros,how='left',on=['person','timestamp'])\n",
    "print('Sin registro: ',datos[['person','new_vs_returning_y']].sort_values(by='new_vs_returning_y')\\\n",
    "                                            .drop_duplicates('person').new_vs_returning_y.isnull().sum())\n",
    "datos = datos.rename(columns={'new_vs_returning_y':'new_vs_returning'}).drop(columns='new_vs_returning_x')"
   ]
  },
  {
   "cell_type": "code",
   "execution_count": 38,
   "metadata": {},
   "outputs": [
    {
     "data": {
      "text/html": [
       "<div>\n",
       "<style scoped>\n",
       "    .dataframe tbody tr th:only-of-type {\n",
       "        vertical-align: middle;\n",
       "    }\n",
       "\n",
       "    .dataframe tbody tr th {\n",
       "        vertical-align: top;\n",
       "    }\n",
       "\n",
       "    .dataframe thead th {\n",
       "        text-align: right;\n",
       "    }\n",
       "</style>\n",
       "<table border=\"1\" class=\"dataframe\">\n",
       "  <thead>\n",
       "    <tr style=\"text-align: right;\">\n",
       "      <th></th>\n",
       "      <th>person</th>\n",
       "      <th>timestamp</th>\n",
       "      <th>new_vs_returning</th>\n",
       "    </tr>\n",
       "  </thead>\n",
       "  <tbody>\n",
       "    <tr>\n",
       "      <th>0</th>\n",
       "      <td>0008ed71</td>\n",
       "      <td>2018-05-17 12:27:47</td>\n",
       "      <td>New</td>\n",
       "    </tr>\n",
       "    <tr>\n",
       "      <th>1</th>\n",
       "      <td>00091926</td>\n",
       "      <td>2018-05-03 22:08:29</td>\n",
       "      <td>New</td>\n",
       "    </tr>\n",
       "    <tr>\n",
       "      <th>2</th>\n",
       "      <td>00091a7a</td>\n",
       "      <td>2018-03-26 14:51:11</td>\n",
       "      <td>New</td>\n",
       "    </tr>\n",
       "    <tr>\n",
       "      <th>3</th>\n",
       "      <td>000ba417</td>\n",
       "      <td>2018-05-17 11:11:45</td>\n",
       "      <td>New</td>\n",
       "    </tr>\n",
       "    <tr>\n",
       "      <th>4</th>\n",
       "      <td>000c79fe</td>\n",
       "      <td>2018-05-29 00:27:47</td>\n",
       "      <td>New</td>\n",
       "    </tr>\n",
       "  </tbody>\n",
       "</table>\n",
       "</div>"
      ],
      "text/plain": [
       "     person           timestamp new_vs_returning\n",
       "0  0008ed71 2018-05-17 12:27:47              New\n",
       "1  00091926 2018-05-03 22:08:29              New\n",
       "2  00091a7a 2018-03-26 14:51:11              New\n",
       "3  000ba417 2018-05-17 11:11:45              New\n",
       "4  000c79fe 2018-05-29 00:27:47              New"
      ]
     },
     "execution_count": 38,
     "metadata": {},
     "output_type": "execute_result"
    }
   ],
   "source": [
    "usuariosyregistros.head()"
   ]
  },
  {
   "cell_type": "code",
   "execution_count": 39,
   "metadata": {},
   "outputs": [
    {
     "name": "stderr",
     "output_type": "stream",
     "text": [
      "C:\\Users\\franc\\Anaconda3\\lib\\site-packages\\pandas\\core\\frame.py:6211: FutureWarning: Sorting because non-concatenation axis is not aligned. A future version\n",
      "of pandas will change to not sort by default.\n",
      "\n",
      "To accept the future behavior, pass 'sort=False'.\n",
      "\n",
      "To retain the current behavior and silence the warning, pass 'sort=True'.\n",
      "\n",
      "  sort=sort)\n"
     ]
    }
   ],
   "source": [
    "compradores = datos[['person','timestamp','event']].sort_values(by=['person','timestamp'])\n",
    "compradores = compradores.loc[compradores['event']=='conversion',['person','timestamp']]\n",
    "sesion_comprar = compradores.append(usuariosyregistros)\n",
    "sesion_comprar =sesion_comprar.reset_index(drop=True)\n",
    "sesion_comprar.drop(columns='new_vs_returning',inplace=True)\n",
    "sesion_comprar.sort_values(by=['person','timestamp'],inplace=True)"
   ]
  },
  {
   "cell_type": "code",
   "execution_count": 40,
   "metadata": {
    "scrolled": false
   },
   "outputs": [],
   "source": [
    "sesion_comprar['timestamp'] = pd.to_datetime(sesion_comprar['timestamp'])\n",
    "distancias = dist_compras(sesion_comprar)\n",
    "distancias['distance']/= (60*60*24)"
   ]
  },
  {
   "cell_type": "code",
   "execution_count": 41,
   "metadata": {},
   "outputs": [
    {
     "data": {
      "text/html": [
       "<div>\n",
       "<style scoped>\n",
       "    .dataframe tbody tr th:only-of-type {\n",
       "        vertical-align: middle;\n",
       "    }\n",
       "\n",
       "    .dataframe tbody tr th {\n",
       "        vertical-align: top;\n",
       "    }\n",
       "\n",
       "    .dataframe thead th {\n",
       "        text-align: right;\n",
       "    }\n",
       "</style>\n",
       "<table border=\"1\" class=\"dataframe\">\n",
       "  <thead>\n",
       "    <tr style=\"text-align: right;\">\n",
       "      <th></th>\n",
       "      <th>person</th>\n",
       "      <th>timestamp</th>\n",
       "      <th>distance</th>\n",
       "    </tr>\n",
       "  </thead>\n",
       "  <tbody>\n",
       "    <tr>\n",
       "      <th>0</th>\n",
       "      <td>0008ed71</td>\n",
       "      <td>2018-05-17 12:27:47</td>\n",
       "      <td>14.480706</td>\n",
       "    </tr>\n",
       "    <tr>\n",
       "      <th>1</th>\n",
       "      <td>00091926</td>\n",
       "      <td>2018-05-03 22:08:29</td>\n",
       "      <td>28.077442</td>\n",
       "    </tr>\n",
       "    <tr>\n",
       "      <th>2</th>\n",
       "      <td>00091a7a</td>\n",
       "      <td>2018-03-26 14:51:11</td>\n",
       "      <td>66.381123</td>\n",
       "    </tr>\n",
       "    <tr>\n",
       "      <th>3</th>\n",
       "      <td>000ba417</td>\n",
       "      <td>2018-05-17 11:11:45</td>\n",
       "      <td>9.081678</td>\n",
       "    </tr>\n",
       "    <tr>\n",
       "      <th>4</th>\n",
       "      <td>000ba417</td>\n",
       "      <td>2018-05-26 13:09:22</td>\n",
       "      <td>5.451829</td>\n",
       "    </tr>\n",
       "  </tbody>\n",
       "</table>\n",
       "</div>"
      ],
      "text/plain": [
       "     person           timestamp   distance\n",
       "0  0008ed71 2018-05-17 12:27:47  14.480706\n",
       "1  00091926 2018-05-03 22:08:29  28.077442\n",
       "2  00091a7a 2018-03-26 14:51:11  66.381123\n",
       "3  000ba417 2018-05-17 11:11:45   9.081678\n",
       "4  000ba417 2018-05-26 13:09:22   5.451829"
      ]
     },
     "execution_count": 41,
     "metadata": {},
     "output_type": "execute_result"
    }
   ],
   "source": [
    "distancias.head()"
   ]
  },
  {
   "cell_type": "code",
   "execution_count": 42,
   "metadata": {},
   "outputs": [],
   "source": [
    "hace_cuanto_no_convierte = distancias.sort_values(by='timestamp',ascending=False).\\\n",
    "                                            drop_duplicates('person').drop(columns='timestamp').\\\n",
    "                                                rename(columns={'distance':'dias_sin_convertir'})\n",
    "max_sin_convertir = distancias[['person','distance']].groupby('person').max().reset_index().\\\n",
    "                                                    rename(columns={'distance':'max_sin_convertir'})\n",
    "promedio_dias_conversion = distancias[['person','distance']].groupby('person').mean().reset_index().\\\n",
    "                                                    rename(columns={'distance':'convierte_cada_x_dias'})"
   ]
  },
  {
   "cell_type": "code",
   "execution_count": 43,
   "metadata": {
    "scrolled": true
   },
   "outputs": [],
   "source": [
    "personas = datos[['person','timestamp','new_vs_returning']]\n",
    "personas = personas.loc[personas['new_vs_returning'] == 'New']\n",
    "personas['registration_day'] = personas['timestamp'].dt.dayofyear\n",
    "personas.drop(columns=['new_vs_returning','timestamp'],inplace=True)\n",
    "personas.drop_duplicates('person',inplace=True)"
   ]
  },
  {
   "cell_type": "code",
   "execution_count": 44,
   "metadata": {
    "scrolled": true
   },
   "outputs": [],
   "source": [
    "new_columns_days = pd.merge(personas,max_sin_convertir,how='left',on='person')\n",
    "new_columns_days = pd.merge(new_columns_days,hace_cuanto_no_convierte,how='left',on='person')\n",
    "new_columns_days.loc[(new_columns_days['max_sin_convertir'].isnull()) | (new_columns_days['dias_sin_convertir'].\\\n",
    "            isnull()),['max_sin_convertir','dias_sin_convertir']] = 152 - new_columns_days['registration_day']\n",
    "new_columns_days = pd.merge(new_columns_days,promedio_dias_conversion,how='left',on='person')\n",
    "new_columns_days.fillna(0,inplace=True)\n"
   ]
  },
  {
   "cell_type": "code",
   "execution_count": 45,
   "metadata": {
    "scrolled": true
   },
   "outputs": [
    {
     "data": {
      "text/plain": [
       "person                   0\n",
       "registration_day         0\n",
       "max_sin_convertir        0\n",
       "dias_sin_convertir       0\n",
       "convierte_cada_x_dias    0\n",
       "dtype: int64"
      ]
     },
     "execution_count": 45,
     "metadata": {},
     "output_type": "execute_result"
    }
   ],
   "source": [
    "new_columns_days.isnull().sum()"
   ]
  },
  {
   "cell_type": "code",
   "execution_count": 46,
   "metadata": {},
   "outputs": [],
   "source": [
    "new_columns_days['registration_day'] = datetime(2018, 6, 1, 0, 0).timetuple().tm_yday\\\n",
    "                                                                        - new_columns_days['registration_day']\n",
    "new_columns_days.rename(columns={'registration_day':'antiguedad'},inplace=True)\n",
    "train = pd.merge(train,new_columns_days,on='person')"
   ]
  },
  {
   "cell_type": "code",
   "execution_count": 47,
   "metadata": {
    "scrolled": true
   },
   "outputs": [
    {
     "name": "stderr",
     "output_type": "stream",
     "text": [
      "C:\\Users\\franc\\Anaconda3\\lib\\site-packages\\pandas\\core\\frame.py:3790: SettingWithCopyWarning: \n",
      "A value is trying to be set on a copy of a slice from a DataFrame\n",
      "\n",
      "See the caveats in the documentation: http://pandas.pydata.org/pandas-docs/stable/indexing.html#indexing-view-versus-copy\n",
      "  downcast=downcast, **kwargs)\n",
      "C:\\Users\\franc\\Anaconda3\\lib\\site-packages\\pandas\\core\\indexing.py:543: SettingWithCopyWarning: \n",
      "A value is trying to be set on a copy of a slice from a DataFrame.\n",
      "Try using .loc[row_indexer,col_indexer] = value instead\n",
      "\n",
      "See the caveats in the documentation: http://pandas.pydata.org/pandas-docs/stable/indexing.html#indexing-view-versus-copy\n",
      "  self.obj[item] = s\n"
     ]
    }
   ],
   "source": [
    "datos_sesiones_q = datos[['person','quincena','new_vs_returning']]\n",
    "datos_sesiones_q.fillna(0,inplace=True)\n",
    "datos_sesiones_q.loc[(datos_sesiones_q['new_vs_returning'] == 'New') |\\\n",
    "                                     (datos_sesiones_q['new_vs_returning'] == 'Returning'),'new_vs_returning'] = 1\n",
    "datos_sesiones_q = datos_sesiones_q.groupby(['person','quincena']).agg({'new_vs_returning':'sum'})\n",
    "datos_sesiones_q = datos_sesiones_q.unstack()\n",
    "datos_sesiones_q.columns = datos_sesiones_q.columns.droplevel(0)\n",
    "datos_sesiones_q = datos_sesiones_q.reset_index(level=0,drop=False)\n",
    "datos_sesiones_q.fillna(0,inplace=True)\n",
    "\n",
    "j = 0\n",
    "for i in datos_sesiones_q.columns:\n",
    "    datos_sesiones_q.rename(columns={j:'cant_sesiones_q_'+str(j)},inplace=True)\n",
    "    j =  j + 1"
   ]
  },
  {
   "cell_type": "code",
   "execution_count": 48,
   "metadata": {},
   "outputs": [],
   "source": [
    "train = pd.merge(train,datos_sesiones_q,on='person')"
   ]
  },
  {
   "cell_type": "code",
   "execution_count": 49,
   "metadata": {
    "scrolled": true
   },
   "outputs": [
    {
     "data": {
      "text/plain": [
       "person                    0\n",
       "label                     0\n",
       "max_tiempo_sesion_q_0     0\n",
       "max_tiempo_sesion_q_1     0\n",
       "max_tiempo_sesion_q_2     0\n",
       "max_tiempo_sesion_q_3     0\n",
       "max_tiempo_sesion_q_4     0\n",
       "max_tiempo_sesion_q_5     0\n",
       "max_tiempo_sesion_q_6     0\n",
       "max_tiempo_sesion_q_7     0\n",
       "max_tiempo_sesion_q_8     0\n",
       "max_tiempo_sesion_q_9     0\n",
       "prom_tiempo_sesion_q_0    0\n",
       "prom_tiempo_sesion_q_1    0\n",
       "prom_tiempo_sesion_q_2    0\n",
       "prom_tiempo_sesion_q_3    0\n",
       "prom_tiempo_sesion_q_4    0\n",
       "prom_tiempo_sesion_q_5    0\n",
       "prom_tiempo_sesion_q_6    0\n",
       "prom_tiempo_sesion_q_7    0\n",
       "prom_tiempo_sesion_q_8    0\n",
       "prom_tiempo_sesion_q_9    0\n",
       "viewed product_0          0\n",
       "viewed product_1          0\n",
       "viewed product_2          0\n",
       "viewed product_3          0\n",
       "viewed product_4          0\n",
       "viewed product_5          0\n",
       "viewed product_6          0\n",
       "viewed product_7          0\n",
       "                         ..\n",
       "lead_6                    0\n",
       "lead_7                    0\n",
       "lead_8                    0\n",
       "lead_9                    0\n",
       "ad campaign hit           0\n",
       "brand listing             0\n",
       "checkout                  0\n",
       "conversion                0\n",
       "generic listing           0\n",
       "lead                      0\n",
       "search engine hit         0\n",
       "searched products         0\n",
       "staticpage                0\n",
       "viewed product            0\n",
       "visited site              0\n",
       "celularViejo              0\n",
       "antiguedad                0\n",
       "max_sin_convertir         0\n",
       "dias_sin_convertir        0\n",
       "convierte_cada_x_dias     0\n",
       "cant_sesiones_q_0         0\n",
       "cant_sesiones_q_1         0\n",
       "cant_sesiones_q_2         0\n",
       "cant_sesiones_q_3         0\n",
       "cant_sesiones_q_4         0\n",
       "cant_sesiones_q_5         0\n",
       "cant_sesiones_q_6         0\n",
       "cant_sesiones_q_7         0\n",
       "cant_sesiones_q_8         0\n",
       "cant_sesiones_q_9         0\n",
       "Length: 158, dtype: int64"
      ]
     },
     "execution_count": 49,
     "metadata": {},
     "output_type": "execute_result"
    }
   ],
   "source": [
    "train.isnull().sum()"
   ]
  },
  {
   "cell_type": "code",
   "execution_count": 50,
   "metadata": {
    "scrolled": false
   },
   "outputs": [],
   "source": [
    "features = train.iloc[:,2:].columns"
   ]
  },
  {
   "cell_type": "code",
   "execution_count": 51,
   "metadata": {},
   "outputs": [
    {
     "data": {
      "text/plain": [
       "RandomForestClassifier(bootstrap=True, class_weight=None, criterion='entropy',\n",
       "            max_depth=None, max_features='auto', max_leaf_nodes=None,\n",
       "            min_impurity_decrease=0.0, min_impurity_split=None,\n",
       "            min_samples_leaf=1, min_samples_split=2,\n",
       "            min_weight_fraction_leaf=0.0, n_estimators=100, n_jobs=1,\n",
       "            oob_score=False, random_state=0, verbose=0, warm_start=False)"
      ]
     },
     "execution_count": 51,
     "metadata": {},
     "output_type": "execute_result"
    }
   ],
   "source": [
    "from sklearn.ensemble import (RandomForestClassifier, AdaBoostClassifier,\\\n",
    "                             GradientBoostingClassifier, ExtraTreesClassifier,\\\n",
    "                             BaggingClassifier, VotingClassifier)\n",
    "rnd_clf = RandomForestClassifier(n_estimators = 100 , criterion = 'entropy',random_state = 0)\n",
    "rnd_clf.fit(train.iloc[:,2:],train['label'])"
   ]
  },
  {
   "cell_type": "code",
   "execution_count": 52,
   "metadata": {
    "scrolled": true
   },
   "outputs": [
    {
     "name": "stdout",
     "output_type": "stream",
     "text": [
      "\"max_tiempo_sesion_q_0\" :  0.0013903411434297765 ,\n",
      "\"max_tiempo_sesion_q_1\" :  0.001304420761197562 ,\n",
      "\"max_tiempo_sesion_q_2\" :  0.001767420370156364 ,\n",
      "\"max_tiempo_sesion_q_3\" :  0.001743718468788529 ,\n",
      "\"max_tiempo_sesion_q_4\" :  0.005045811938263046 ,\n",
      "\"max_tiempo_sesion_q_5\" :  0.006261637804513105 ,\n",
      "\"max_tiempo_sesion_q_6\" :  0.008157661739056762 ,\n",
      "\"max_tiempo_sesion_q_7\" :  0.007492200697493777 ,\n",
      "\"max_tiempo_sesion_q_8\" :  0.010589239090459184 ,\n",
      "\"max_tiempo_sesion_q_9\" :  0.032427149051712484 ,\n",
      "\"prom_tiempo_sesion_q_0\" :  0.0009541998143873034 ,\n",
      "\"prom_tiempo_sesion_q_1\" :  0.0021207128115396045 ,\n",
      "\"prom_tiempo_sesion_q_2\" :  0.0014254214658186827 ,\n",
      "\"prom_tiempo_sesion_q_3\" :  0.001800372980063727 ,\n",
      "\"prom_tiempo_sesion_q_4\" :  0.0041678083888307595 ,\n",
      "\"prom_tiempo_sesion_q_5\" :  0.005866926695387883 ,\n",
      "\"prom_tiempo_sesion_q_6\" :  0.006718295460324727 ,\n",
      "\"prom_tiempo_sesion_q_7\" :  0.0064097917271120075 ,\n",
      "\"prom_tiempo_sesion_q_8\" :  0.011885570231522813 ,\n",
      "\"prom_tiempo_sesion_q_9\" :  0.03354320193230159 ,\n",
      "\"viewed product_0\" :  0.0007806961539178708 ,\n",
      "\"viewed product_1\" :  0.001523750546108854 ,\n",
      "\"viewed product_2\" :  0.0010377952467617115 ,\n",
      "\"viewed product_3\" :  0.001443910670208628 ,\n",
      "\"viewed product_4\" :  0.0035897773778790516 ,\n",
      "\"viewed product_5\" :  0.006376651928326122 ,\n",
      "\"viewed product_6\" :  0.005899610426743462 ,\n",
      "\"viewed product_7\" :  0.007522536982240726 ,\n",
      "\"viewed product_8\" :  0.009249170332290299 ,\n",
      "\"viewed product_9\" :  0.030836135223204407 ,\n",
      "\"searched products_0\" :  0.00048196257719270526 ,\n",
      "\"searched products_1\" :  0.00031159307038878777 ,\n",
      "\"searched products_2\" :  0.0006429887586637841 ,\n",
      "\"searched products_3\" :  0.0003985718945909089 ,\n",
      "\"searched products_4\" :  0.0015812640883472522 ,\n",
      "\"searched products_5\" :  0.0018884101825684563 ,\n",
      "\"searched products_6\" :  0.0023502002549649105 ,\n",
      "\"searched products_7\" :  0.0019381459472540975 ,\n",
      "\"searched products_8\" :  0.0043852149480018065 ,\n",
      "\"searched products_9\" :  0.015231746595320965 ,\n",
      "\"ad campaign hit_0\" :  0.000566386580390542 ,\n",
      "\"ad campaign hit_1\" :  0.0008578085319327056 ,\n",
      "\"ad campaign hit_2\" :  0.0006433921545014747 ,\n",
      "\"ad campaign hit_3\" :  0.0009527604134800452 ,\n",
      "\"ad campaign hit_4\" :  0.0023365266917508404 ,\n",
      "\"ad campaign hit_5\" :  0.003225209186926199 ,\n",
      "\"ad campaign hit_6\" :  0.0031436000380675633 ,\n",
      "\"ad campaign hit_7\" :  0.004322964515375483 ,\n",
      "\"ad campaign hit_8\" :  0.007056956665025273 ,\n",
      "\"ad campaign hit_9\" :  0.017659155426005917 ,\n",
      "\"staticpage_0\" :  0.0004815682622583322 ,\n",
      "\"staticpage_1\" :  0.00014874176308988501 ,\n",
      "\"staticpage_2\" :  9.70750354815187e-05 ,\n",
      "\"staticpage_3\" :  0.0001265628777828996 ,\n",
      "\"staticpage_4\" :  0.0008134096365507094 ,\n",
      "\"staticpage_5\" :  0.0007573676025409757 ,\n",
      "\"staticpage_6\" :  0.0006661897872555937 ,\n",
      "\"staticpage_7\" :  0.0007484898162565759 ,\n",
      "\"staticpage_8\" :  0.0013217172528579956 ,\n",
      "\"staticpage_9\" :  0.0032537558694471697 ,\n",
      "\"checkout_0\" :  0.00046238456398899205 ,\n",
      "\"checkout_1\" :  0.00020393265938062626 ,\n",
      "\"checkout_2\" :  0.0002804857708980358 ,\n",
      "\"checkout_3\" :  0.0005015290882033107 ,\n",
      "\"checkout_4\" :  0.001591544581815466 ,\n",
      "\"checkout_5\" :  0.002590649415975959 ,\n",
      "\"checkout_6\" :  0.0009753691368355064 ,\n",
      "\"checkout_7\" :  0.0018487025796580078 ,\n",
      "\"checkout_8\" :  0.004464475562976626 ,\n",
      "\"checkout_9\" :  0.05694951340404678 ,\n",
      "\"search engine hit_0\" :  0.0004979874328582534 ,\n",
      "\"search engine hit_1\" :  0.001583876667069761 ,\n",
      "\"search engine hit_2\" :  0.0009749510048396802 ,\n",
      "\"search engine hit_3\" :  0.0011949629341960124 ,\n",
      "\"search engine hit_4\" :  0.002282432202886639 ,\n",
      "\"search engine hit_5\" :  0.0023777595896760707 ,\n",
      "\"search engine hit_6\" :  0.0031536675182761834 ,\n",
      "\"search engine hit_7\" :  0.004296021498867656 ,\n",
      "\"search engine hit_8\" :  0.006085073795142447 ,\n",
      "\"search engine hit_9\" :  0.015833442189111063 ,\n",
      "\"conversion_0\" :  0.00012857441332563943 ,\n",
      "\"conversion_1\" :  0.0002527024509643367 ,\n",
      "\"conversion_2\" :  0.00045670767822925546 ,\n",
      "\"conversion_3\" :  6.009646956968295e-05 ,\n",
      "\"conversion_4\" :  0.001704117954633504 ,\n",
      "\"conversion_5\" :  0.0008796917243766909 ,\n",
      "\"conversion_6\" :  0.0005604654732934253 ,\n",
      "\"conversion_7\" :  0.000759284597818426 ,\n",
      "\"conversion_8\" :  0.0012746567745063595 ,\n",
      "\"conversion_9\" :  0.004874700125173525 ,\n",
      "\"generic listing_0\" :  0.0011244393846881787 ,\n",
      "\"generic listing_1\" :  0.0009395058404684214 ,\n",
      "\"generic listing_2\" :  0.0009483777560415159 ,\n",
      "\"generic listing_3\" :  0.0010664796065911332 ,\n",
      "\"generic listing_4\" :  0.0019838986144722175 ,\n",
      "\"generic listing_5\" :  0.0024485136683252413 ,\n",
      "\"generic listing_6\" :  0.00303151387048397 ,\n",
      "\"generic listing_7\" :  0.0038819256784094745 ,\n",
      "\"generic listing_8\" :  0.006261742202078414 ,\n",
      "\"generic listing_9\" :  0.018286419661136703 ,\n",
      "\"brand listing_0\" :  0.00027127133597227454 ,\n",
      "\"brand listing_1\" :  0.0008794058592880609 ,\n",
      "\"brand listing_2\" :  0.0011571665750262832 ,\n",
      "\"brand listing_3\" :  0.0003956032040918736 ,\n",
      "\"brand listing_4\" :  0.0018319734951607824 ,\n",
      "\"brand listing_5\" :  0.0026922290862576863 ,\n",
      "\"brand listing_6\" :  0.0045697303429295755 ,\n",
      "\"brand listing_7\" :  0.006409976641758789 ,\n",
      "\"brand listing_8\" :  0.007819403159896692 ,\n",
      "\"brand listing_9\" :  0.016092254783926115 ,\n",
      "\"visited site_0\" :  0.0007717614528249832 ,\n",
      "\"visited site_1\" :  0.0008436056583605057 ,\n",
      "\"visited site_2\" :  0.0009536000581029936 ,\n",
      "\"visited site_3\" :  0.0009646699236188627 ,\n",
      "\"visited site_4\" :  0.0025955854694755167 ,\n",
      "\"visited site_5\" :  0.0033168416661085403 ,\n",
      "\"visited site_6\" :  0.004883054465654634 ,\n",
      "\"visited site_7\" :  0.005657854040308161 ,\n",
      "\"visited site_8\" :  0.007159721617501811 ,\n",
      "\"visited site_9\" :  0.021545635772851894 ,\n",
      "\"lead_0\" :  0.0 ,\n",
      "\"lead_1\" :  0.00010185585641441999 ,\n",
      "\"lead_2\" :  0.00030127296612888214 ,\n",
      "\"lead_3\" :  0.0 ,\n",
      "\"lead_4\" :  1.643818710181436e-05 ,\n",
      "\"lead_5\" :  0.0002763607725166111 ,\n",
      "\"lead_6\" :  0.0004485195909642321 ,\n",
      "\"lead_7\" :  0.0003521181290107041 ,\n",
      "\"lead_8\" :  0.00016019123453877136 ,\n",
      "\"lead_9\" :  0.0010206889260535026 ,\n",
      "\"ad campaign hit\" :  0.023958683278695322 ,\n",
      "\"brand listing\" :  0.025549112506246564 ,\n",
      "\"checkout\" :  0.0462511515367464 ,\n",
      "\"conversion\" :  0.008960087226291456 ,\n",
      "\"generic listing\" :  0.022796781058908127 ,\n",
      "\"lead\" :  0.0016347876789257509 ,\n",
      "\"search engine hit\" :  0.020605347094283234 ,\n",
      "\"searched products\" :  0.01915325009991306 ,\n",
      "\"staticpage\" :  0.006319146204626464 ,\n",
      "\"viewed product\" :  0.035740553224287465 ,\n",
      "\"visited site\" :  0.02444790604451424 ,\n",
      "\"celularViejo\" :  0.003628834650607783 ,\n",
      "\"antiguedad\" :  0.03587347131668364 ,\n",
      "\"max_sin_convertir\" :  0.04948456101327431 ,\n",
      "\"dias_sin_convertir\" :  0.04686135215829311 ,\n",
      "\"convierte_cada_x_dias\" :  0.04658895994411518 ,\n",
      "\"cant_sesiones_q_0\" :  0.0009520741356042065 ,\n",
      "\"cant_sesiones_q_1\" :  0.0012871892308483754 ,\n",
      "\"cant_sesiones_q_2\" :  0.0005302214352864934 ,\n",
      "\"cant_sesiones_q_3\" :  0.0012447322371110165 ,\n",
      "\"cant_sesiones_q_4\" :  0.00271248035797478 ,\n",
      "\"cant_sesiones_q_5\" :  0.0018577688782728538 ,\n",
      "\"cant_sesiones_q_6\" :  0.002190789095786516 ,\n",
      "\"cant_sesiones_q_7\" :  0.0028980409468713423 ,\n",
      "\"cant_sesiones_q_8\" :  0.004259685370854074 ,\n",
      "\"cant_sesiones_q_9\" :  0.013929993577531864 ,\n"
     ]
    }
   ],
   "source": [
    "for name, importance in zip(features, rnd_clf.feature_importances_):\n",
    "    print('\"' + name + '\"'+\" : \",importance,',')"
   ]
  },
  {
   "cell_type": "markdown",
   "metadata": {},
   "source": [
    "Features más importantes"
   ]
  },
  {
   "cell_type": "code",
   "execution_count": 60,
   "metadata": {
    "scrolled": true
   },
   "outputs": [
    {
     "name": "stdout",
     "output_type": "stream",
     "text": [
      "\"max_tiempo_sesion_q_8\" :  0.010589239090459184 ,\n",
      "\"max_tiempo_sesion_q_9\" :  0.032427149051712484 ,\n",
      "\"prom_tiempo_sesion_q_8\" :  0.011885570231522813 ,\n",
      "\"prom_tiempo_sesion_q_9\" :  0.03354320193230159 ,\n",
      "\"viewed product_9\" :  0.030836135223204407 ,\n",
      "\"searched products_9\" :  0.015231746595320965 ,\n",
      "\"ad campaign hit_9\" :  0.017659155426005917 ,\n",
      "\"checkout_9\" :  0.05694951340404678 ,\n",
      "\"search engine hit_9\" :  0.015833442189111063 ,\n",
      "\"generic listing_9\" :  0.018286419661136703 ,\n",
      "\"brand listing_9\" :  0.016092254783926115 ,\n",
      "\"visited site_9\" :  0.021545635772851894 ,\n",
      "\"ad campaign hit\" :  0.023958683278695322 ,\n",
      "\"brand listing\" :  0.025549112506246564 ,\n",
      "\"checkout\" :  0.0462511515367464 ,\n",
      "\"generic listing\" :  0.022796781058908127 ,\n",
      "\"search engine hit\" :  0.020605347094283234 ,\n",
      "\"searched products\" :  0.01915325009991306 ,\n",
      "\"viewed product\" :  0.035740553224287465 ,\n",
      "\"visited site\" :  0.02444790604451424 ,\n",
      "\"antiguedad\" :  0.03587347131668364 ,\n",
      "\"max_sin_convertir\" :  0.04948456101327431 ,\n",
      "\"dias_sin_convertir\" :  0.04686135215829311 ,\n",
      "\"convierte_cada_x_dias\" :  0.04658895994411518 ,\n",
      "\"cant_sesiones_q_9\" :  0.013929993577531864 ,\n"
     ]
    }
   ],
   "source": [
    "for name, importance in zip(features, rnd_clf.feature_importances_):\n",
    "    if(importance > 0.01):\n",
    "        print('\"' + name + '\"'+\" : \",importance,',')"
   ]
  },
  {
   "cell_type": "code",
   "execution_count": 61,
   "metadata": {},
   "outputs": [
    {
     "ename": "PermissionError",
     "evalue": "[Errno 13] Permission denied: 'train_final.csv'",
     "output_type": "error",
     "traceback": [
      "\u001b[1;31m---------------------------------------------------------------------------\u001b[0m",
      "\u001b[1;31mPermissionError\u001b[0m                           Traceback (most recent call last)",
      "\u001b[1;32m<ipython-input-61-fdbc740100af>\u001b[0m in \u001b[0;36m<module>\u001b[1;34m()\u001b[0m\n\u001b[1;32m----> 1\u001b[1;33m \u001b[0mtrain\u001b[0m\u001b[1;33m.\u001b[0m\u001b[0mto_csv\u001b[0m\u001b[1;33m(\u001b[0m\u001b[1;34m'train_final.csv'\u001b[0m\u001b[1;33m,\u001b[0m \u001b[0mencoding\u001b[0m\u001b[1;33m=\u001b[0m\u001b[1;34m'utf-8'\u001b[0m\u001b[1;33m,\u001b[0m \u001b[0mindex\u001b[0m\u001b[1;33m=\u001b[0m\u001b[1;32mFalse\u001b[0m\u001b[1;33m)\u001b[0m\u001b[1;33m\u001b[0m\u001b[0m\n\u001b[0m",
      "\u001b[1;32m~\\Anaconda3\\lib\\site-packages\\pandas\\core\\frame.py\u001b[0m in \u001b[0;36mto_csv\u001b[1;34m(self, path_or_buf, sep, na_rep, float_format, columns, header, index, index_label, mode, encoding, compression, quoting, quotechar, line_terminator, chunksize, tupleize_cols, date_format, doublequote, escapechar, decimal)\u001b[0m\n\u001b[0;32m   1743\u001b[0m                                  \u001b[0mdoublequote\u001b[0m\u001b[1;33m=\u001b[0m\u001b[0mdoublequote\u001b[0m\u001b[1;33m,\u001b[0m\u001b[1;33m\u001b[0m\u001b[0m\n\u001b[0;32m   1744\u001b[0m                                  escapechar=escapechar, decimal=decimal)\n\u001b[1;32m-> 1745\u001b[1;33m         \u001b[0mformatter\u001b[0m\u001b[1;33m.\u001b[0m\u001b[0msave\u001b[0m\u001b[1;33m(\u001b[0m\u001b[1;33m)\u001b[0m\u001b[1;33m\u001b[0m\u001b[0m\n\u001b[0m\u001b[0;32m   1746\u001b[0m \u001b[1;33m\u001b[0m\u001b[0m\n\u001b[0;32m   1747\u001b[0m         \u001b[1;32mif\u001b[0m \u001b[0mpath_or_buf\u001b[0m \u001b[1;32mis\u001b[0m \u001b[1;32mNone\u001b[0m\u001b[1;33m:\u001b[0m\u001b[1;33m\u001b[0m\u001b[0m\n",
      "\u001b[1;32m~\\Anaconda3\\lib\\site-packages\\pandas\\io\\formats\\csvs.py\u001b[0m in \u001b[0;36msave\u001b[1;34m(self)\u001b[0m\n\u001b[0;32m    154\u001b[0m             f, handles = _get_handle(self.path_or_buf, self.mode,\n\u001b[0;32m    155\u001b[0m                                      \u001b[0mencoding\u001b[0m\u001b[1;33m=\u001b[0m\u001b[0mencoding\u001b[0m\u001b[1;33m,\u001b[0m\u001b[1;33m\u001b[0m\u001b[0m\n\u001b[1;32m--> 156\u001b[1;33m                                      compression=self.compression)\n\u001b[0m\u001b[0;32m    157\u001b[0m             \u001b[0mclose\u001b[0m \u001b[1;33m=\u001b[0m \u001b[1;32mTrue\u001b[0m\u001b[1;33m\u001b[0m\u001b[0m\n\u001b[0;32m    158\u001b[0m \u001b[1;33m\u001b[0m\u001b[0m\n",
      "\u001b[1;32m~\\Anaconda3\\lib\\site-packages\\pandas\\io\\common.py\u001b[0m in \u001b[0;36m_get_handle\u001b[1;34m(path_or_buf, mode, encoding, compression, memory_map, is_text)\u001b[0m\n\u001b[0;32m    398\u001b[0m         \u001b[1;32melif\u001b[0m \u001b[0mencoding\u001b[0m\u001b[1;33m:\u001b[0m\u001b[1;33m\u001b[0m\u001b[0m\n\u001b[0;32m    399\u001b[0m             \u001b[1;31m# Python 3 and encoding\u001b[0m\u001b[1;33m\u001b[0m\u001b[1;33m\u001b[0m\u001b[0m\n\u001b[1;32m--> 400\u001b[1;33m             \u001b[0mf\u001b[0m \u001b[1;33m=\u001b[0m \u001b[0mopen\u001b[0m\u001b[1;33m(\u001b[0m\u001b[0mpath_or_buf\u001b[0m\u001b[1;33m,\u001b[0m \u001b[0mmode\u001b[0m\u001b[1;33m,\u001b[0m \u001b[0mencoding\u001b[0m\u001b[1;33m=\u001b[0m\u001b[0mencoding\u001b[0m\u001b[1;33m)\u001b[0m\u001b[1;33m\u001b[0m\u001b[0m\n\u001b[0m\u001b[0;32m    401\u001b[0m         \u001b[1;32melif\u001b[0m \u001b[0mis_text\u001b[0m\u001b[1;33m:\u001b[0m\u001b[1;33m\u001b[0m\u001b[0m\n\u001b[0;32m    402\u001b[0m             \u001b[1;31m# Python 3 and no explicit encoding\u001b[0m\u001b[1;33m\u001b[0m\u001b[1;33m\u001b[0m\u001b[0m\n",
      "\u001b[1;31mPermissionError\u001b[0m: [Errno 13] Permission denied: 'train_final.csv'"
     ]
    }
   ],
   "source": [
    "train.to_csv('train_final.csv', encoding='utf-8', index=False)"
   ]
  },
  {
   "cell_type": "code",
   "execution_count": 63,
   "metadata": {},
   "outputs": [],
   "source": [
    "test = pd.read_csv(\"trocafone_kaggle_test.csv\",low_memory=False)\n",
    "test = pd.merge(test,dat,on='person')\n",
    "test = pd.merge(test,p,on='person')\n",
    "test = pd.merge(test,new_columns_days,on='person')\n",
    "test = pd.merge(test,datos_sesiones_q,on='person')\n",
    "test = pd.merge(test,eventos_x_person,on='person')\n",
    "test = pd.merge(test, sistema_celulares, on='person')"
   ]
  },
  {
   "cell_type": "code",
   "execution_count": 64,
   "metadata": {},
   "outputs": [],
   "source": [
    "test.to_csv('test_final.csv', encoding='utf-8', index=False)"
   ]
  },
  {
   "cell_type": "code",
   "execution_count": null,
   "metadata": {},
   "outputs": [],
   "source": []
  }
 ],
 "metadata": {
  "kernelspec": {
   "display_name": "Python 3",
   "language": "python",
   "name": "python3"
  },
  "language_info": {
   "codemirror_mode": {
    "name": "ipython",
    "version": 3
   },
   "file_extension": ".py",
   "mimetype": "text/x-python",
   "name": "python",
   "nbconvert_exporter": "python",
   "pygments_lexer": "ipython3",
   "version": "3.6.4"
  }
 },
 "nbformat": 4,
 "nbformat_minor": 2
}
