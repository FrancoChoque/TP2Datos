{
 "cells": [
  {
   "cell_type": "code",
   "execution_count": 1,
   "metadata": {},
   "outputs": [],
   "source": [
    "import pandas as pd\n",
    "import seaborn as sns\n",
    "import matplotlib.pyplot as plt\n",
    "\n",
    "from time import time\n",
    "import numpy as np\n",
    "from sklearn.model_selection import train_test_split\n",
    "from sklearn.model_selection import cross_val_score\n",
    "from sklearn.metrics import accuracy_score\n",
    "\n",
    "from sklearn.metrics import roc_auc_score"
   ]
  },
  {
   "cell_type": "code",
   "execution_count": 2,
   "metadata": {},
   "outputs": [],
   "source": [
    "from datetime import datetime\n",
    "\n",
    "def mostrar_tiempo(df):    \n",
    "    dic_events_time = {}\n",
    "    person = \"\"\n",
    "    rows = []\n",
    "    compra = False\n",
    "    for index, row in df.iterrows():\n",
    "        if(person == \"\"):\n",
    "            person = row[\"person\"]\n",
    "            last_event_time = row['timestamp']\n",
    "            continue            \n",
    "        if(row['event'] == 'conversion'):\n",
    "            compra = True\n",
    "        if(tiempo = (datetime.strptime(last_event_time,\"%Y-%m-%d %H:%M:%S\") \\\n",
    "                                       - datetime.strptime(row['timestamp'],\"%Y-%m-%d %H:%M:%S\")).total_seconds())>86400):\n",
    "            last_event_time = row['timestamp']\n",
    "        if (row['new_vs_returning'] == 'New' or row['new_vs_returning'] == 'Returning' or person != row[\"person\"]):\n",
    "            if(row['person'] != person):\n",
    "                tiempo = 0\n",
    "            rows.append([person,tiempo,row['timestamp'],compra])\n",
    "            person = \"\"\n",
    "            compra = False\n",
    "    return pd.DataFrame(rows,columns=('person', 'time_event', 'timestamp','realizo_compra'))"
   ]
  },
  {
   "cell_type": "code",
   "execution_count": 3,
   "metadata": {},
   "outputs": [],
   "source": [
    "datos = pd.read_csv(\"events_up_to_01062018.csv\",low_memory=False)"
   ]
  },
  {
   "cell_type": "code",
   "execution_count": 4,
   "metadata": {},
   "outputs": [],
   "source": [
    "h = datos[['person','timestamp','event','new_vs_returning']]\n",
    "h = h.sort_values(by=['person','timestamp'],ascending=False)\n",
    "g = mostrar_tiempo(h)"
   ]
  },
  {
   "cell_type": "code",
   "execution_count": 7,
   "metadata": {},
   "outputs": [],
   "source": [
    "g = g.sort_values(by='time_event',ascending=False)\n",
    "g = g.loc[g['time_event']>0]"
   ]
  },
  {
   "cell_type": "code",
   "execution_count": 8,
   "metadata": {},
   "outputs": [],
   "source": [
    "datos = pd.merge(datos,g,on=['person','timestamp'],how='left')"
   ]
  },
  {
   "cell_type": "code",
   "execution_count": 9,
   "metadata": {},
   "outputs": [],
   "source": [
    "datos['timestamp'] = pd.to_datetime(datos['timestamp'])\n",
    "datos['dia'] = datos['timestamp'].dt.day\n",
    "datos['mes'] = datos['timestamp'].dt.month"
   ]
  },
  {
   "cell_type": "code",
   "execution_count": 10,
   "metadata": {},
   "outputs": [],
   "source": [
    "quincenas = [False,0,2,4,6,8,10]\n",
    "\n",
    "datos['mes_q'] = datos['mes'].apply(lambda x: quincenas[x])\n",
    "\n",
    "datos['principio_fin'] = 0\n",
    "datos.loc[datos['dia'] >15,'principio_fin'] = 1\n",
    "\n",
    "datos['quincena'] = datos['principio_fin'] + datos['mes_q']"
   ]
  },
  {
   "cell_type": "code",
   "execution_count": 115,
   "metadata": {
    "scrolled": true
   },
   "outputs": [
    {
     "name": "stderr",
     "output_type": "stream",
     "text": [
      "/home/mariano/ENTER/lib/python3.6/site-packages/pandas/core/frame.py:3790: SettingWithCopyWarning: \n",
      "A value is trying to be set on a copy of a slice from a DataFrame\n",
      "\n",
      "See the caveats in the documentation: http://pandas.pydata.org/pandas-docs/stable/indexing.html#indexing-view-versus-copy\n",
      "  downcast=downcast, **kwargs)\n"
     ]
    }
   ],
   "source": [
    "datos_tiempo = datos[['person','mes','time_event']]\n",
    "datos_tiempo.fillna(0,inplace=True)\n",
    "datos_tiempo = datos_tiempo.groupby(['person','mes']).agg({'time_event':'mean'})"
   ]
  },
  {
   "cell_type": "code",
   "execution_count": 116,
   "metadata": {},
   "outputs": [],
   "source": [
    "datos_tiempo = datos_tiempo.unstack()\n",
    "datos_tiempo.columns = datos_tiempo.columns.droplevel(0)\n",
    "datos_tiempo = datos_tiempo.reset_index(level=0,drop=False)\n"
   ]
  },
  {
   "cell_type": "code",
   "execution_count": 117,
   "metadata": {
    "scrolled": false
   },
   "outputs": [
    {
     "data": {
      "text/plain": [
       "<matplotlib.axes._subplots.AxesSubplot at 0x7feecfb5d8d0>"
      ]
     },
     "execution_count": 117,
     "metadata": {},
     "output_type": "execute_result"
    },
    {
     "data": {
      "image/png": "[encoded data removed]",
      "text/plain": [
       "<Figure size 864x720 with 2 Axes>"
      ]
     },
     "metadata": {
      "needs_background": "light"
     },
     "output_type": "display_data"
    }
   ],
   "source": [
    "\n",
    "corrmat = datos_tiempo.corr(method='spearman')\n",
    "f, ax = plt.subplots(figsize=(12, 10))\n",
    "sns.heatmap(corrmat, ax=ax, cmap=\"YlGnBu\", linewidths=0.1)"
   ]
  },
  {
   "cell_type": "code",
   "execution_count": 118,
   "metadata": {},
   "outputs": [],
   "source": [
    "j = 0\n",
    "for i in datos_tiempo.columns:\n",
    "    datos_tiempo.rename(columns={j:'prom_tiempo_'+str(j)},inplace=True)\n",
    "    j =  j + 1"
   ]
  },
  {
   "cell_type": "code",
   "execution_count": 119,
   "metadata": {},
   "outputs": [],
   "source": [
    "datos_tiempo.fillna(0,inplace=True)"
   ]
  },
  {
   "cell_type": "code",
   "execution_count": 120,
   "metadata": {},
   "outputs": [],
   "source": [
    "compras = datos.loc[datos['event'] == 'conversion',['person','mes','timestamp']]\n",
    "compras = compras.groupby(['person','mes']).count()\n",
    "\n",
    "compras = compras.unstack().fillna(0)\n",
    "compras.columns = compras.columns.droplevel(0)\n",
    "\n",
    "j = 1\n",
    "for i in compras.columns:\n",
    "    compras.rename(columns={j:'compras_'+str(j)},inplace=True)\n",
    "    j =  j + 1"
   ]
  },
  {
   "cell_type": "code",
   "execution_count": 104,
   "metadata": {
    "scrolled": false
   },
   "outputs": [],
   "source": [
    "#for i in compras_por_q:\n",
    "#    compras.loc[compras[i]>0,i] = 1\n",
    "#compras"
   ]
  },
  {
   "cell_type": "code",
   "execution_count": 121,
   "metadata": {},
   "outputs": [],
   "source": [
    "eventos_x_person = datos[['person','event','timestamp']]\n",
    "eventos_x_person = eventos_x_person.groupby(['person','event']).agg({'timestamp':'count'})\n",
    "eventos_x_person = eventos_x_person.unstack(-1)\n",
    "eventos_x_person.columns = eventos_x_person.columns.droplevel(0)\n",
    "eventos_x_person = eventos_x_person.reset_index(level=0,drop=False)\n",
    "eventos_x_person.fillna(0,inplace=True)"
   ]
  },
  {
   "cell_type": "code",
   "execution_count": 122,
   "metadata": {},
   "outputs": [],
   "source": [
    "train = pd.read_csv(\"labels_training_set.csv\",low_memory=False)"
   ]
  },
  {
   "cell_type": "code",
   "execution_count": 123,
   "metadata": {},
   "outputs": [],
   "source": [
    "dat = pd.merge(compras,datos_tiempo,on='person')\n",
    "train = pd.merge(train,dat,on='person')"
   ]
  },
  {
   "cell_type": "code",
   "execution_count": 124,
   "metadata": {},
   "outputs": [],
   "source": [
    "train = pd.merge(train,eventos_x_person,on='person')"
   ]
  },
  {
   "cell_type": "code",
   "execution_count": 125,
   "metadata": {
    "scrolled": false
   },
   "outputs": [],
   "source": [
    "features = train.iloc[:,2:].columns"
   ]
  },
  {
   "cell_type": "code",
   "execution_count": 126,
   "metadata": {},
   "outputs": [],
   "source": [
    "from sklearn.model_selection import train_test_split\n",
    "\n",
    "test_s = 0.20\n",
    "random_s = 0\n",
    "\n",
    "x = np.array(train[train.iloc[:,2:].columns])\n",
    "y = np.array(train['label'])\n",
    "\n",
    "x_train, x_test, y_train, y_test = train_test_split(x, y, test_size=test_s, random_state=random_s)"
   ]
  },
  {
   "cell_type": "code",
   "execution_count": 127,
   "metadata": {},
   "outputs": [
    {
     "name": "stdout",
     "output_type": "stream",
     "text": [
      "VALORES INICIALES PARA K\n",
      "La precisión para k= 5 es: 0.5187208527648234\n",
      "La precisión para k= 7 es: 0.4962025316455696\n",
      "La precisión para k= 10 es: 0.5\n",
      "La precisión para k= 20 es: 0.5\n",
      "La precisión para k= 50 es: 0.5\n",
      "Con k= 5 se obtuvo la mayor precisión: 0.5187208527648234\n"
     ]
    }
   ],
   "source": [
    "from sklearn.neighbors import KNeighborsClassifier\n",
    "\n",
    "from sklearn.metrics import accuracy_score\n",
    "\n",
    "from sklearn.metrics import roc_auc_score\n",
    "\n",
    "print('VALORES INICIALES PARA K')\n",
    "\n",
    "k_valores = [5,7,10,20,50]\n",
    "mejor_k = 0\n",
    "mejor_precision = 0\n",
    "\n",
    "for k in k_valores:\n",
    "    knn = KNeighborsClassifier(n_neighbors=k)\n",
    "    knn.fit(x_train, y_train)\n",
    "    pred = knn.predict(x_test)\n",
    "    precision = roc_auc_score(np.array(y_test), pred)\n",
    "    print('La precisión para k=', k, 'es:',precision)\n",
    "    if precision > mejor_precision:\n",
    "        mejor_precision = precision\n",
    "        mejor_k = k\n",
    "        \n",
    "print('Con k=', mejor_k, 'se obtuvo la mayor precisión:', mejor_precision)"
   ]
  },
  {
   "cell_type": "code",
   "execution_count": 128,
   "metadata": {},
   "outputs": [
    {
     "data": {
      "text/plain": [
       "RandomForestClassifier(bootstrap=True, class_weight=None, criterion='entropy',\n",
       "            max_depth=None, max_features='auto', max_leaf_nodes=None,\n",
       "            min_impurity_decrease=0.0, min_impurity_split=None,\n",
       "            min_samples_leaf=1, min_samples_split=2,\n",
       "            min_weight_fraction_leaf=0.0, n_estimators=100, n_jobs=1,\n",
       "            oob_score=False, random_state=0, verbose=0, warm_start=False)"
      ]
     },
     "execution_count": 128,
     "metadata": {},
     "output_type": "execute_result"
    }
   ],
   "source": [
    "from sklearn.ensemble import (RandomForestClassifier, AdaBoostClassifier,\\\n",
    "                             GradientBoostingClassifier, ExtraTreesClassifier,\\\n",
    "                             BaggingClassifier, VotingClassifier)\n",
    "rnd_clf = RandomForestClassifier(n_estimators = 100 , criterion = 'entropy',random_state = 0)\n",
    "rnd_clf.fit(train.iloc[:,2:],train['label'])"
   ]
  },
  {
   "cell_type": "code",
   "execution_count": 129,
   "metadata": {
    "scrolled": false
   },
   "outputs": [
    {
     "name": "stdout",
     "output_type": "stream",
     "text": [
      "\"compras_1\" :  0.004663555102461646 ,\n",
      "\"compras_2\" :  0.0030751278284910076 ,\n",
      "\"compras_3\" :  0.01880526887349649 ,\n",
      "\"compras_4\" :  0.011588653923926774 ,\n",
      "\"compras_5\" :  0.05302804521279802 ,\n",
      "\"prom_tiempo_1\" :  0.014197164483843401 ,\n",
      "\"prom_tiempo_2\" :  0.013353259587674906 ,\n",
      "\"prom_tiempo_3\" :  0.02864244491723424 ,\n",
      "\"prom_tiempo_4\" :  0.048455508876188436 ,\n",
      "\"prom_tiempo_5\" :  0.14391942895907492 ,\n",
      "\"ad campaign hit\" :  0.06987898730000756 ,\n",
      "\"brand listing\" :  0.07661804683567573 ,\n",
      "\"checkout\" :  0.06433466127513733 ,\n",
      "\"conversion\" :  0.0314763475324362 ,\n",
      "\"generic listing\" :  0.08302472237736688 ,\n",
      "\"lead\" :  0.008353381775315895 ,\n",
      "\"search engine hit\" :  0.06189898732828197 ,\n",
      "\"searched products\" :  0.05821302697081557 ,\n",
      "\"staticpage\" :  0.03158607466625108 ,\n",
      "\"viewed product\" :  0.10066915926621106 ,\n",
      "\"visited site\" :  0.0742181469073108 ,\n"
     ]
    }
   ],
   "source": [
    "for name, importance in zip(features, rnd_clf.feature_importances_):\n",
    "    print('\"' + name + '\"'+\" : \",importance,',')"
   ]
  }
 ],
 "metadata": {
  "kernelspec": {
   "display_name": "Python 3",
   "language": "python",
   "name": "python3"
  },
  "language_info": {
   "codemirror_mode": {
    "name": "ipython",
    "version": 3
   },
   "file_extension": ".py",
   "mimetype": "text/x-python",
   "name": "python",
   "nbconvert_exporter": "python",
   "pygments_lexer": "ipython3",
   "version": "3.6.6"
  }
 },
 "nbformat": 4,
 "nbformat_minor": 2
}
