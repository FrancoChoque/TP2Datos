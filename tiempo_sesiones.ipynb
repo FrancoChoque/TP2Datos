{
 "cells": [
  {
   "cell_type": "code",
   "execution_count": 1,
   "metadata": {},
   "outputs": [],
   "source": [
    "import pandas as pd\n",
    "\n",
    "import seaborn as sns\n",
    "import matplotlib.pyplot as plt\n",
    "\n",
    "from time import time\n",
    "import numpy as np\n",
    "from sklearn.model_selection import train_test_split\n",
    "from sklearn.model_selection import cross_val_score\n",
    "from sklearn.metrics import accuracy_score\n",
    "\n",
    "from sklearn.metrics import roc_auc_score"
   ]
  },
  {
   "cell_type": "code",
   "execution_count": 2,
   "metadata": {},
   "outputs": [],
   "source": [
    "from datetime import datetime\n",
    "\n",
    "def mostrar_tiempo(df):    \n",
    "    dic_events_time = {}\n",
    "    person = \"\"\n",
    "    rows = []\n",
    "    compra = False\n",
    "    for index, row in df.iterrows():\n",
    "        if(person == \"\"):\n",
    "            person = row[\"person\"]\n",
    "            last_event_time = row['timestamp']\n",
    "            continue            \n",
    "        if(row['event'] == 'conversion'):\n",
    "            compra = True\n",
    "        tiempo = (datetime.strptime(last_event_time,\"%Y-%m-%d %H:%M:%S\") \\\n",
    "                                - datetime.strptime(row['timestamp'],\"%Y-%m-%d %H:%M:%S\")).total_seconds()\n",
    "        if(tiempo > 86400):\n",
    "            last_event_time = row['timestamp']\n",
    "        if (row['new_vs_returning'] == 'New' or row['new_vs_returning'] == 'Returning' or person != row[\"person\"]):\n",
    "            if(row['person'] != person):\n",
    "                tiempo = 0\n",
    "            rows.append([person,tiempo,row['timestamp'],compra])\n",
    "            person = \"\"\n",
    "            compra = False\n",
    "    return pd.DataFrame(rows,columns=('person', 'time_event', 'timestamp','realizo_compra'))"
   ]
  },
  {
   "cell_type": "code",
   "execution_count": 3,
   "metadata": {},
   "outputs": [],
   "source": [
    "datos = pd.read_csv(\"events_up_to_01062018.csv\",low_memory=False)\n"
   ]
  },
  {
   "cell_type": "code",
   "execution_count": 4,
   "metadata": {},
   "outputs": [],
   "source": [
    "h = datos[['person','timestamp','event','new_vs_returning']]\n",
    "h = h.sort_values(by=['person','timestamp'],ascending=False)\n",
    "g = mostrar_tiempo(h)"
   ]
  },
  {
   "cell_type": "code",
   "execution_count": 5,
   "metadata": {},
   "outputs": [],
   "source": [
    "g = g.sort_values(by='time_event',ascending=False)\n",
    "g = g.loc[g['time_event']>0]"
   ]
  },
  {
   "cell_type": "code",
   "execution_count": 6,
   "metadata": {},
   "outputs": [],
   "source": [
    "datos = pd.merge(datos,g,on=['person','timestamp'],how='left')"
   ]
  },
  {
   "cell_type": "code",
   "execution_count": 7,
   "metadata": {},
   "outputs": [],
   "source": [
    "datos['timestamp'] = pd.to_datetime(datos['timestamp'])\n",
    "datos['dia'] = datos['timestamp'].dt.day\n",
    "datos['mes'] = datos['timestamp'].dt.month"
   ]
  },
  {
   "cell_type": "code",
   "execution_count": 8,
   "metadata": {},
   "outputs": [],
   "source": [
    "quincenas = [False,0,2,4,6,8,10]\n",
    "\n",
    "datos['mes_q'] = datos['mes'].apply(lambda x: quincenas[x])\n",
    "\n",
    "datos['principio_fin'] = 0\n",
    "datos.loc[datos['dia'] >15,'principio_fin'] = 1\n",
    "\n",
    "datos['quincena'] = datos['principio_fin'] + datos['mes_q']"
   ]
  },
  {
   "cell_type": "code",
   "execution_count": 9,
   "metadata": {
    "scrolled": true
   },
   "outputs": [
    {
     "name": "stderr",
     "output_type": "stream",
     "text": [
      "/home/mariano/ENTER/lib/python3.6/site-packages/pandas/core/frame.py:3790: SettingWithCopyWarning: \n",
      "A value is trying to be set on a copy of a slice from a DataFrame\n",
      "\n",
      "See the caveats in the documentation: http://pandas.pydata.org/pandas-docs/stable/indexing.html#indexing-view-versus-copy\n",
      "  downcast=downcast, **kwargs)\n"
     ]
    }
   ],
   "source": [
    "datos_tiempo = datos[['person','mes','time_event']]\n",
    "datos_tiempo.fillna(0,inplace=True)\n",
    "datos_tiempo = datos_tiempo.groupby(['person','mes']).agg({'time_event':'max'})"
   ]
  },
  {
   "cell_type": "code",
   "execution_count": 10,
   "metadata": {},
   "outputs": [],
   "source": [
    "datos_tiempo = datos_tiempo.unstack()\n",
    "datos_tiempo.columns = datos_tiempo.columns.droplevel(0)\n",
    "datos_tiempo = datos_tiempo.reset_index(level=0,drop=False)\n"
   ]
  },
  {
   "cell_type": "code",
   "execution_count": 11,
   "metadata": {
    "scrolled": false
   },
   "outputs": [
    {
     "data": {
      "text/plain": [
       "<matplotlib.axes._subplots.AxesSubplot at 0x7f5eec73c2b0>"
      ]
     },
     "execution_count": 11,
     "metadata": {},
     "output_type": "execute_result"
    },
    {
     "data": {
      "image/png": "[encoded data removed]",
      "text/plain": [
       "<Figure size 864x720 with 2 Axes>"
      ]
     },
     "metadata": {
      "needs_background": "light"
     },
     "output_type": "display_data"
    }
   ],
   "source": [
    "\n",
    "corrmat = datos_tiempo.corr(method='spearman')\n",
    "f, ax = plt.subplots(figsize=(12, 10))\n",
    "sns.heatmap(corrmat, ax=ax, cmap=\"YlGnBu\", linewidths=0.1)"
   ]
  },
  {
   "cell_type": "code",
   "execution_count": 12,
   "metadata": {},
   "outputs": [],
   "source": [
    "j = 0\n",
    "for i in datos_tiempo.columns:\n",
    "    datos_tiempo.rename(columns={j:'prom_tiempo_'+str(j)},inplace=True)\n",
    "    j =  j + 1"
   ]
  },
  {
   "cell_type": "code",
   "execution_count": 13,
   "metadata": {},
   "outputs": [],
   "source": [
    "datos_tiempo.fillna(0,inplace=True)"
   ]
  },
  {
   "cell_type": "code",
   "execution_count": 14,
   "metadata": {},
   "outputs": [
    {
     "data": {
      "text/plain": [
       "38829"
      ]
     },
     "execution_count": 14,
     "metadata": {},
     "output_type": "execute_result"
    }
   ],
   "source": [
    "datos_tiempo.person.count()"
   ]
  },
  {
   "cell_type": "code",
   "execution_count": 15,
   "metadata": {},
   "outputs": [
    {
     "data": {
      "text/plain": [
       "1    38829\n",
       "Name: prom_tiempo_1, dtype: int64"
      ]
     },
     "execution_count": 15,
     "metadata": {},
     "output_type": "execute_result"
    }
   ],
   "source": [
    "datos_tiempo[['person','prom_tiempo_1']].groupby('person').count().prom_tiempo_1.value_counts()"
   ]
  },
  {
   "cell_type": "code",
   "execution_count": 16,
   "metadata": {},
   "outputs": [
    {
     "data": {
      "text/plain": [
       "0"
      ]
     },
     "execution_count": 16,
     "metadata": {},
     "output_type": "execute_result"
    }
   ],
   "source": [
    "sum(datos_tiempo.duplicated())"
   ]
  },
  {
   "cell_type": "code",
   "execution_count": 17,
   "metadata": {},
   "outputs": [],
   "source": [
    "compras = datos.loc[datos['event'] == 'conversion',['person','mes','timestamp']]\n",
    "compras = compras.groupby(['person','mes']).count()\n",
    "\n",
    "compras = compras.unstack().fillna(0)\n",
    "compras.columns = compras.columns.droplevel(0)\n",
    "\n",
    "j = 1\n",
    "for i in compras.columns:\n",
    "    compras.rename(columns={j:'compras_'+str(j)},inplace=True)\n",
    "    j =  j + 1"
   ]
  },
  {
   "cell_type": "code",
   "execution_count": 18,
   "metadata": {
    "scrolled": false
   },
   "outputs": [],
   "source": [
    "#for i in compras_por_q:\n",
    "#    compras.loc[compras[i]>0,i] = 1\n",
    "#compras"
   ]
  },
  {
   "cell_type": "code",
   "execution_count": 19,
   "metadata": {},
   "outputs": [],
   "source": [
    "eventos_x_person = datos[['person','event','timestamp']]\n",
    "eventos_x_person = eventos_x_person.groupby(['person','event']).agg({'timestamp':'count'})\n",
    "eventos_x_person = eventos_x_person.unstack(-1)\n",
    "eventos_x_person.columns = eventos_x_person.columns.droplevel(0)\n",
    "eventos_x_person = eventos_x_person.reset_index(level=0,drop=False)\n",
    "eventos_x_person.fillna(0,inplace=True)"
   ]
  },
  {
   "cell_type": "code",
   "execution_count": 20,
   "metadata": {},
   "outputs": [],
   "source": [
    "train = pd.read_csv(\"labels_training_set.csv\",low_memory=False)"
   ]
  },
  {
   "cell_type": "code",
   "execution_count": 21,
   "metadata": {},
   "outputs": [],
   "source": [
    "dat = pd.merge(compras,datos_tiempo,on='person',how='right')\n",
    "dat.fillna(0,inplace=True)\n",
    "train = pd.merge(train,dat,on='person',how='inner')"
   ]
  },
  {
   "cell_type": "code",
   "execution_count": 22,
   "metadata": {},
   "outputs": [],
   "source": [
    "train = pd.merge(train,eventos_x_person,on='person')"
   ]
  },
  {
   "cell_type": "markdown",
   "metadata": {},
   "source": [
    "# IDEAS\n",
    "-SI compro recientemente\n",
    "\n",
    "-Hace cuanto no se loggea en la pagina\n",
    "\n",
    "-Antiguedad en la pagina"
   ]
  },
  {
   "cell_type": "markdown",
   "metadata": {},
   "source": [
    "### Features, gap entre compras y etc"
   ]
  },
  {
   "cell_type": "markdown",
   "metadata": {},
   "source": [
    "Funcion que toma la distancia en dias de una compra y la siguiente sesión"
   ]
  },
  {
   "cell_type": "code",
   "execution_count": 23,
   "metadata": {},
   "outputs": [],
   "source": [
    "def logueoycompras(df):\n",
    "    rows=[]\n",
    "    person = \"\"\n",
    "    for index,row in df.iterrows():\n",
    "        if((row['event'] == 'conversion') & (person == \"\")):\n",
    "            dia_conversion = row['timestamp']\n",
    "            person = row['person']\n",
    "            continue\n",
    "        if(person != \"\"):\n",
    "            dias = row['timestamp'].timetuple().tm_yday -\\\n",
    "                dia_conversion.timetuple().tm_yday\n",
    "            if(person!=row['person']):\n",
    "                dias = datetime(2018, 6, 1, 0, 0).timetuple().tm_yday -\\\n",
    "                        dia_conversion.timetuple().tm_yday\n",
    "                rows.append([person,dia_conversion.timetuple().tm_yday,dias])\n",
    "                person = \"\"\n",
    "                continue\n",
    "            if dias >= 1:\n",
    "                rows.append([person,dia_conversion.timetuple().tm_yday,dias])\n",
    "                person = \"\"\n",
    "    return pd.DataFrame(rows,columns=('person','day_of_year','dias_sin_conversion'))"
   ]
  },
  {
   "cell_type": "markdown",
   "metadata": {},
   "source": [
    "Funcion que toma el gap entre compras desde registración hasta el 1ro de junio (en días)"
   ]
  },
  {
   "cell_type": "code",
   "execution_count": 24,
   "metadata": {},
   "outputs": [],
   "source": [
    "def dist_compras(df):\n",
    "    rows = []\n",
    "    person = \"\"\n",
    "    for index,row in df.iterrows():\n",
    "        if(person != row['person']):\n",
    "            if(person != \"\"):\n",
    "                gap = (datetime(2018, 6, 1, 0, 0) - dia).total_seconds()\n",
    "                rows.append([person,dia,gap])\n",
    "            person = row['person']\n",
    "            dia = row['timestamp']\n",
    "        else:\n",
    "            gap = (row['timestamp'] - dia).total_seconds()\n",
    "            rows.append([person,dia,gap])\n",
    "            dia = row['timestamp']\n",
    "    return pd.DataFrame(rows,columns=('person','timestamp','distance'))"
   ]
  },
  {
   "cell_type": "code",
   "execution_count": 25,
   "metadata": {},
   "outputs": [],
   "source": [
    "personas = datos[['person','new_vs_returning']]\n",
    "personas = personas.loc[personas['new_vs_returning'] == 'New']"
   ]
  },
  {
   "cell_type": "code",
   "execution_count": 26,
   "metadata": {},
   "outputs": [
    {
     "name": "stdout",
     "output_type": "stream",
     "text": [
      "Sin fecha registro :  587\n"
     ]
    }
   ],
   "source": [
    "usuariosyregistros = datos[['person','timestamp']].sort_values(by=['person','timestamp'],ascending = True)\\\n",
    "                                                .drop_duplicates('person').merge(personas,on='person',how='left')                                                                                \n",
    "print('Sin fecha registro : ',usuariosyregistros.new_vs_returning.isnull().sum())\n",
    "usuariosyregistros.fillna('New',inplace=True)"
   ]
  },
  {
   "cell_type": "code",
   "execution_count": 27,
   "metadata": {
    "scrolled": false
   },
   "outputs": [
    {
     "name": "stdout",
     "output_type": "stream",
     "text": [
      "Sin registro:  0\n"
     ]
    }
   ],
   "source": [
    "datos = pd.merge(datos,usuariosyregistros,how='left',on=['person','timestamp'])\n",
    "print('Sin registro: ',datos[['person','new_vs_returning_y']].sort_values(by='new_vs_returning_y')\\\n",
    "                                            .drop_duplicates('person').new_vs_returning_y.isnull().sum())\n",
    "datos = datos.rename(columns={'new_vs_returning_y':'new_vs_returning'}).drop(columns='new_vs_returning_x')"
   ]
  },
  {
   "cell_type": "code",
   "execution_count": 28,
   "metadata": {},
   "outputs": [
    {
     "data": {
      "text/html": [
       "<div>\n",
       "<style scoped>\n",
       "    .dataframe tbody tr th:only-of-type {\n",
       "        vertical-align: middle;\n",
       "    }\n",
       "\n",
       "    .dataframe tbody tr th {\n",
       "        vertical-align: top;\n",
       "    }\n",
       "\n",
       "    .dataframe thead th {\n",
       "        text-align: right;\n",
       "    }\n",
       "</style>\n",
       "<table border=\"1\" class=\"dataframe\">\n",
       "  <thead>\n",
       "    <tr style=\"text-align: right;\">\n",
       "      <th></th>\n",
       "      <th>person</th>\n",
       "      <th>timestamp</th>\n",
       "      <th>new_vs_returning</th>\n",
       "    </tr>\n",
       "  </thead>\n",
       "  <tbody>\n",
       "    <tr>\n",
       "      <th>0</th>\n",
       "      <td>0008ed71</td>\n",
       "      <td>2018-05-17 12:27:47</td>\n",
       "      <td>New</td>\n",
       "    </tr>\n",
       "    <tr>\n",
       "      <th>1</th>\n",
       "      <td>00091926</td>\n",
       "      <td>2018-05-03 22:08:29</td>\n",
       "      <td>New</td>\n",
       "    </tr>\n",
       "    <tr>\n",
       "      <th>2</th>\n",
       "      <td>00091a7a</td>\n",
       "      <td>2018-03-26 14:51:11</td>\n",
       "      <td>New</td>\n",
       "    </tr>\n",
       "    <tr>\n",
       "      <th>3</th>\n",
       "      <td>000ba417</td>\n",
       "      <td>2018-05-17 11:11:45</td>\n",
       "      <td>New</td>\n",
       "    </tr>\n",
       "    <tr>\n",
       "      <th>4</th>\n",
       "      <td>000c79fe</td>\n",
       "      <td>2018-05-29 00:27:47</td>\n",
       "      <td>New</td>\n",
       "    </tr>\n",
       "  </tbody>\n",
       "</table>\n",
       "</div>"
      ],
      "text/plain": [
       "     person           timestamp new_vs_returning\n",
       "0  0008ed71 2018-05-17 12:27:47              New\n",
       "1  00091926 2018-05-03 22:08:29              New\n",
       "2  00091a7a 2018-03-26 14:51:11              New\n",
       "3  000ba417 2018-05-17 11:11:45              New\n",
       "4  000c79fe 2018-05-29 00:27:47              New"
      ]
     },
     "execution_count": 28,
     "metadata": {},
     "output_type": "execute_result"
    }
   ],
   "source": [
    "usuariosyregistros.head()"
   ]
  },
  {
   "cell_type": "code",
   "execution_count": 29,
   "metadata": {},
   "outputs": [
    {
     "name": "stderr",
     "output_type": "stream",
     "text": [
      "/home/mariano/ENTER/lib/python3.6/site-packages/pandas/core/frame.py:6211: FutureWarning: Sorting because non-concatenation axis is not aligned. A future version\n",
      "of pandas will change to not sort by default.\n",
      "\n",
      "To accept the future behavior, pass 'sort=False'.\n",
      "\n",
      "To retain the current behavior and silence the warning, pass 'sort=True'.\n",
      "\n",
      "  sort=sort)\n"
     ]
    }
   ],
   "source": [
    "compradores = datos[['person','timestamp','event']].sort_values(by=['person','timestamp'])\n",
    "compradores = compradores.loc[compradores['event']=='conversion',['person','timestamp']]\n",
    "sesion_comprar = compradores.append(usuariosyregistros)\n",
    "sesion_comprar =sesion_comprar.reset_index(drop=True)\n",
    "sesion_comprar.drop(columns='new_vs_returning',inplace=True)\n",
    "sesion_comprar.sort_values(by=['person','timestamp'],inplace=True)"
   ]
  },
  {
   "cell_type": "code",
   "execution_count": 30,
   "metadata": {
    "scrolled": false
   },
   "outputs": [],
   "source": [
    "sesion_comprar['timestamp'] = pd.to_datetime(sesion_comprar['timestamp'])\n",
    "distancias = dist_compras(sesion_comprar)\n",
    "distancias['distance']/= (60*60*24)"
   ]
  },
  {
   "cell_type": "code",
   "execution_count": 31,
   "metadata": {},
   "outputs": [
    {
     "data": {
      "text/html": [
       "<div>\n",
       "<style scoped>\n",
       "    .dataframe tbody tr th:only-of-type {\n",
       "        vertical-align: middle;\n",
       "    }\n",
       "\n",
       "    .dataframe tbody tr th {\n",
       "        vertical-align: top;\n",
       "    }\n",
       "\n",
       "    .dataframe thead th {\n",
       "        text-align: right;\n",
       "    }\n",
       "</style>\n",
       "<table border=\"1\" class=\"dataframe\">\n",
       "  <thead>\n",
       "    <tr style=\"text-align: right;\">\n",
       "      <th></th>\n",
       "      <th>person</th>\n",
       "      <th>timestamp</th>\n",
       "      <th>distance</th>\n",
       "    </tr>\n",
       "  </thead>\n",
       "  <tbody>\n",
       "    <tr>\n",
       "      <th>0</th>\n",
       "      <td>0008ed71</td>\n",
       "      <td>2018-05-17 12:27:47</td>\n",
       "      <td>14.480706</td>\n",
       "    </tr>\n",
       "    <tr>\n",
       "      <th>1</th>\n",
       "      <td>00091926</td>\n",
       "      <td>2018-05-03 22:08:29</td>\n",
       "      <td>28.077442</td>\n",
       "    </tr>\n",
       "    <tr>\n",
       "      <th>2</th>\n",
       "      <td>00091a7a</td>\n",
       "      <td>2018-03-26 14:51:11</td>\n",
       "      <td>66.381123</td>\n",
       "    </tr>\n",
       "    <tr>\n",
       "      <th>3</th>\n",
       "      <td>000ba417</td>\n",
       "      <td>2018-05-17 11:11:45</td>\n",
       "      <td>9.081678</td>\n",
       "    </tr>\n",
       "    <tr>\n",
       "      <th>4</th>\n",
       "      <td>000ba417</td>\n",
       "      <td>2018-05-26 13:09:22</td>\n",
       "      <td>5.451829</td>\n",
       "    </tr>\n",
       "  </tbody>\n",
       "</table>\n",
       "</div>"
      ],
      "text/plain": [
       "     person           timestamp   distance\n",
       "0  0008ed71 2018-05-17 12:27:47  14.480706\n",
       "1  00091926 2018-05-03 22:08:29  28.077442\n",
       "2  00091a7a 2018-03-26 14:51:11  66.381123\n",
       "3  000ba417 2018-05-17 11:11:45   9.081678\n",
       "4  000ba417 2018-05-26 13:09:22   5.451829"
      ]
     },
     "execution_count": 31,
     "metadata": {},
     "output_type": "execute_result"
    }
   ],
   "source": [
    "distancias.head()"
   ]
  },
  {
   "cell_type": "code",
   "execution_count": 32,
   "metadata": {},
   "outputs": [],
   "source": [
    "hace_cuanto_no_convierte = distancias.sort_values(by='timestamp',ascending=False).\\\n",
    "                                            drop_duplicates('person').drop(columns='timestamp').\\\n",
    "                                                rename(columns={'distance':'dias_sin_convertir'})\n",
    "max_sin_convertir = distancias[['person','distance']].groupby('person').max().reset_index().\\\n",
    "                                                    rename(columns={'distance':'max_sin_convertir'})\n",
    "promedio_dias_conversion = distancias[['person','distance']].groupby('person').mean().reset_index().\\\n",
    "                                                    rename(columns={'distance':'convierte_cada_x_dias'})"
   ]
  },
  {
   "cell_type": "code",
   "execution_count": 33,
   "metadata": {
    "scrolled": true
   },
   "outputs": [],
   "source": [
    "personas = datos[['person','timestamp','new_vs_returning']]\n",
    "personas = personas.loc[personas['new_vs_returning'] == 'New']\n",
    "personas['registration_day'] = personas['timestamp'].dt.dayofyear\n",
    "personas.drop(columns=['new_vs_returning','timestamp'],inplace=True)\n",
    "personas.drop_duplicates('person',inplace=True)"
   ]
  },
  {
   "cell_type": "code",
   "execution_count": 34,
   "metadata": {
    "scrolled": true
   },
   "outputs": [],
   "source": [
    "new_columns_days = pd.merge(personas,max_sin_convertir,how='left',on='person')\n",
    "new_columns_days = pd.merge(new_columns_days,hace_cuanto_no_convierte,how='left',on='person')\n",
    "new_columns_days.loc[(new_columns_days['max_sin_convertir'].isnull()) | (new_columns_days['dias_sin_convertir'].\\\n",
    "            isnull()),['max_sin_convertir','dias_sin_convertir']] = 152 - new_columns_days['registration_day']\n",
    "new_columns_days = pd.merge(new_columns_days,promedio_dias_conversion,how='left',on='person')\n",
    "new_columns_days.fillna(0,inplace=True)\n"
   ]
  },
  {
   "cell_type": "code",
   "execution_count": 35,
   "metadata": {
    "scrolled": true
   },
   "outputs": [
    {
     "data": {
      "text/plain": [
       "person                   0\n",
       "registration_day         0\n",
       "max_sin_convertir        0\n",
       "dias_sin_convertir       0\n",
       "convierte_cada_x_dias    0\n",
       "dtype: int64"
      ]
     },
     "execution_count": 35,
     "metadata": {},
     "output_type": "execute_result"
    }
   ],
   "source": [
    "new_columns_days.isnull().sum()"
   ]
  },
  {
   "cell_type": "code",
   "execution_count": 36,
   "metadata": {},
   "outputs": [],
   "source": [
    "new_columns_days['registration_day'] = datetime(2018, 6, 1, 0, 0).timetuple().tm_yday\\\n",
    "                                                                        - new_columns_days['registration_day']\n",
    "new_columns_days.rename(columns={'registration_day':'antiguedad'},inplace=True)\n",
    "train = pd.merge(train,new_columns_days,on='person')"
   ]
  },
  {
   "cell_type": "code",
   "execution_count": 37,
   "metadata": {},
   "outputs": [
    {
     "data": {
      "text/plain": [
       "person                   0\n",
       "label                    0\n",
       "compras_1                0\n",
       "compras_2                0\n",
       "compras_3                0\n",
       "compras_4                0\n",
       "compras_5                0\n",
       "prom_tiempo_1            0\n",
       "prom_tiempo_2            0\n",
       "prom_tiempo_3            0\n",
       "prom_tiempo_4            0\n",
       "prom_tiempo_5            0\n",
       "ad campaign hit          0\n",
       "brand listing            0\n",
       "checkout                 0\n",
       "conversion               0\n",
       "generic listing          0\n",
       "lead                     0\n",
       "search engine hit        0\n",
       "searched products        0\n",
       "staticpage               0\n",
       "viewed product           0\n",
       "visited site             0\n",
       "antiguedad               0\n",
       "max_sin_convertir        0\n",
       "dias_sin_convertir       0\n",
       "convierte_cada_x_dias    0\n",
       "dtype: int64"
      ]
     },
     "execution_count": 37,
     "metadata": {},
     "output_type": "execute_result"
    }
   ],
   "source": [
    "train.isnull().sum()"
   ]
  },
  {
   "cell_type": "code",
   "execution_count": 38,
   "metadata": {
    "scrolled": false
   },
   "outputs": [],
   "source": [
    "features = train.iloc[:,2:].columns"
   ]
  },
  {
   "cell_type": "code",
   "execution_count": 39,
   "metadata": {},
   "outputs": [],
   "source": [
    "from sklearn.model_selection import train_test_split\n",
    "\n",
    "test_s = 0.20\n",
    "random_s = 0\n",
    "\n",
    "x = np.array(train[train.iloc[:,2:].columns])\n",
    "y = np.array(train['label'])\n",
    "\n",
    "x_train, x_test, y_train, y_test = train_test_split(x, y, test_size=test_s, random_state=random_s)"
   ]
  },
  {
   "cell_type": "code",
   "execution_count": 40,
   "metadata": {},
   "outputs": [
    {
     "name": "stdout",
     "output_type": "stream",
     "text": [
      "VALORES INICIALES PARA K\n",
      "La precisión para k= 5 es: 0.5086870457742142\n",
      "La precisión para k= 7 es: 0.5022394387581177\n",
      "La precisión para k= 10 es: 0.5026455026455027\n",
      "La precisión para k= 20 es: 0.5\n",
      "La precisión para k= 50 es: 0.5\n",
      "Con k= 5 se obtuvo la mayor precisión: 0.5086870457742142\n"
     ]
    }
   ],
   "source": [
    "from sklearn.neighbors import KNeighborsClassifier\n",
    "\n",
    "from sklearn.metrics import accuracy_score\n",
    "\n",
    "from sklearn.metrics import roc_auc_score\n",
    "\n",
    "print('VALORES INICIALES PARA K')\n",
    "\n",
    "k_valores = [5,7,10,20,50]\n",
    "mejor_k = 0\n",
    "mejor_precision = 0\n",
    "\n",
    "for k in k_valores:\n",
    "    knn = KNeighborsClassifier(n_neighbors=k)\n",
    "    knn.fit(x_train, y_train)\n",
    "    pred = knn.predict(x_test)\n",
    "    precision = roc_auc_score(np.array(y_test), pred)\n",
    "    print('La precisión para k=', k, 'es:',precision)\n",
    "    if precision > mejor_precision:\n",
    "        mejor_precision = precision\n",
    "        mejor_k = k\n",
    "        \n",
    "print('Con k=', mejor_k, 'se obtuvo la mayor precisión:', mejor_precision)"
   ]
  },
  {
   "cell_type": "code",
   "execution_count": 41,
   "metadata": {},
   "outputs": [
    {
     "name": "stdout",
     "output_type": "stream",
     "text": [
      "La precisión para k=1 es: 0.5421060320897895\n"
     ]
    }
   ],
   "source": [
    "    knn = KNeighborsClassifier(n_neighbors=1)\n",
    "    knn.fit(x_train, y_train)\n",
    "    pred = knn.predict(x_test)\n",
    "    precision = roc_auc_score(np.array(y_test), pred)\n",
    "    print('La precisión para k=1 es:',precision)"
   ]
  },
  {
   "cell_type": "code",
   "execution_count": 42,
   "metadata": {},
   "outputs": [
    {
     "name": "stderr",
     "output_type": "stream",
     "text": [
      "/home/mariano/ENTER/lib/python3.6/site-packages/sklearn/ensemble/weight_boosting.py:29: DeprecationWarning: numpy.core.umath_tests is an internal NumPy module and should not be imported. It will be removed in a future NumPy release.\n",
      "  from numpy.core.umath_tests import inner1d\n"
     ]
    },
    {
     "data": {
      "text/plain": [
       "RandomForestClassifier(bootstrap=True, class_weight=None, criterion='entropy',\n",
       "            max_depth=None, max_features='auto', max_leaf_nodes=None,\n",
       "            min_impurity_decrease=0.0, min_impurity_split=None,\n",
       "            min_samples_leaf=1, min_samples_split=2,\n",
       "            min_weight_fraction_leaf=0.0, n_estimators=100, n_jobs=1,\n",
       "            oob_score=False, random_state=0, verbose=0, warm_start=False)"
      ]
     },
     "execution_count": 42,
     "metadata": {},
     "output_type": "execute_result"
    }
   ],
   "source": [
    "from sklearn.ensemble import (RandomForestClassifier, AdaBoostClassifier,\\\n",
    "                             GradientBoostingClassifier, ExtraTreesClassifier,\\\n",
    "                             BaggingClassifier, VotingClassifier)\n",
    "rnd_clf = RandomForestClassifier(n_estimators = 100 , criterion = 'entropy',random_state = 0)\n",
    "rnd_clf.fit(train.iloc[:,2:],train['label'])"
   ]
  },
  {
   "cell_type": "code",
   "execution_count": 43,
   "metadata": {},
   "outputs": [
    {
     "name": "stdout",
     "output_type": "stream",
     "text": [
      "\"compras_1\" :  0.0005742634865682003 ,\n",
      "\"compras_2\" :  0.000770030039731677 ,\n",
      "\"compras_3\" :  0.003737799287240452 ,\n",
      "\"compras_4\" :  0.002372970341508461 ,\n",
      "\"compras_5\" :  0.008394800786747049 ,\n",
      "\"prom_tiempo_1\" :  0.006055431915147369 ,\n",
      "\"prom_tiempo_2\" :  0.007440879592299442 ,\n",
      "\"prom_tiempo_3\" :  0.019077739791257275 ,\n",
      "\"prom_tiempo_4\" :  0.025219482753278885 ,\n",
      "\"prom_tiempo_5\" :  0.09050825669523986 ,\n",
      "\"ad campaign hit\" :  0.0480082531086674 ,\n",
      "\"brand listing\" :  0.05079899799388967 ,\n",
      "\"checkout\" :  0.12491462346174956 ,\n",
      "\"conversion\" :  0.011609187867398962 ,\n",
      "\"generic listing\" :  0.04571243594360259 ,\n",
      "\"lead\" :  0.0027944804824293528 ,\n",
      "\"search engine hit\" :  0.04405981334858791 ,\n",
      "\"searched products\" :  0.03688290875260803 ,\n",
      "\"staticpage\" :  0.01041426187836655 ,\n",
      "\"viewed product\" :  0.0777768800606081 ,\n",
      "\"visited site\" :  0.045541058923948406 ,\n",
      "\"antiguedad\" :  0.06437147574765657 ,\n",
      "\"max_sin_convertir\" :  0.08937531046456465 ,\n",
      "\"dias_sin_convertir\" :  0.09254793437542766 ,\n",
      "\"convierte_cada_x_dias\" :  0.09104072290147594 ,\n"
     ]
    }
   ],
   "source": [
    "for name, importance in zip(features, rnd_clf.feature_importances_):\n",
    "    print('\"' + name + '\"'+\" : \",importance,',')"
   ]
  },
  {
   "cell_type": "code",
   "execution_count": 44,
   "metadata": {},
   "outputs": [],
   "source": [
    "train.to_csv('train_final.csv', encoding='utf-8', index=False)"
   ]
  },
  {
   "cell_type": "code",
   "execution_count": null,
   "metadata": {},
   "outputs": [],
   "source": []
  },
  {
   "cell_type": "code",
   "execution_count": 46,
   "metadata": {},
   "outputs": [],
   "source": [
    "test = pd.read_csv(\"trocafone_kaggle_test.csv\",low_memory=False)\n",
    "test = pd.merge(test,dat,on='person')\n",
    "test = pd.merge(test,eventos_x_person,on='person')\n",
    "test = pd.merge(test,new_columns_days,on='person')"
   ]
  },
  {
   "cell_type": "code",
   "execution_count": 47,
   "metadata": {},
   "outputs": [
    {
     "data": {
      "text/plain": [
       "38829"
      ]
     },
     "execution_count": 47,
     "metadata": {},
     "output_type": "execute_result"
    }
   ],
   "source": [
    "new_columns_days.person.count()"
   ]
  },
  {
   "cell_type": "code",
   "execution_count": 48,
   "metadata": {},
   "outputs": [],
   "source": [
    "test.to_csv('test_final.csv', encoding='utf-8', index=False)"
   ]
  }
 ],
 "metadata": {
  "kernelspec": {
   "display_name": "Python 3",
   "language": "python",
   "name": "python3"
  },
  "language_info": {
   "codemirror_mode": {
    "name": "ipython",
    "version": 3
   },
   "file_extension": ".py",
   "mimetype": "text/x-python",
   "name": "python",
   "nbconvert_exporter": "python",
   "pygments_lexer": "ipython3",
   "version": "3.6.6"
  }
 },
 "nbformat": 4,
 "nbformat_minor": 2
}
