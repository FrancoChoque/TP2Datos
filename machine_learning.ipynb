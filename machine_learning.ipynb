{
 "cells": [
  {
   "cell_type": "code",
   "execution_count": 78,
   "metadata": {},
   "outputs": [],
   "source": [
    "import pandas as pd\n",
    "import numpy as np\n",
    "import matplotlib.pyplot as plt\n",
    "import seaborn as sns\n",
    "import warnings\n",
    "warnings.filterwarnings('ignore')\n",
    "\n",
    "from sklearn.neighbors import KNeighborsRegressor\n",
    "from sklearn.svm import SVC\n",
    "from sklearn.linear_model import LogisticRegression\n",
    "from sklearn.linear_model import Perceptron\n",
    "from sklearn.naive_bayes import GaussianNB\n",
    "from sklearn.tree import DecisionTreeClassifier\n",
    "from sklearn.cross_validation import KFold\n",
    "\n",
    "from sklearn.model_selection import train_test_split\n",
    "from sklearn.model_selection import cross_val_score\n",
    "from sklearn.metrics import accuracy_score\n",
    "\n",
    "from sklearn.metrics import roc_auc_score\n",
    "\n",
    "from sklearn.preprocessing import MinMaxScaler\n",
    "\n",
    "from mlxtend.feature_selection import SequentialFeatureSelector\n",
    "\n",
    "from sklearn.linear_model import LogisticRegression\n",
    "from sklearn.ensemble import GradientBoostingRegressor,RandomForestRegressor,AdaBoostRegressor,BaggingRegressor\n",
    "from sklearn.kernel_ridge import KernelRidge\n",
    "from sklearn.linear_model import Lasso, ElasticNet, Ridge\n",
    "\n",
    "from sklearn.model_selection import RandomizedSearchCV, GridSearchCV\n",
    "from sklearn.model_selection import StratifiedKFold\n",
    "\n",
    "\n",
    "import keras \n",
    "from keras.models import Sequential # intitialize the ANN\n",
    "from keras.layers import Dense      # create layers\n",
    "\n",
    "from scipy.stats import skew\n",
    "\n",
    "from xgboost import XGBRegressor\n",
    "\n",
    "from time import time"
   ]
  },
  {
   "cell_type": "markdown",
   "metadata": {},
   "source": [
    "# Set de entrenamiento y Test final"
   ]
  },
  {
   "cell_type": "markdown",
   "metadata": {},
   "source": [
    "Cargamos los archivos necesarios"
   ]
  },
  {
   "cell_type": "code",
   "execution_count": 2,
   "metadata": {
    "scrolled": true
   },
   "outputs": [],
   "source": [
    "train = pd.read_csv('train_final.csv')\n",
    "test = pd.read_csv('test_final.csv')"
   ]
  },
  {
   "cell_type": "code",
   "execution_count": 3,
   "metadata": {},
   "outputs": [
    {
     "data": {
      "text/plain": [
       "19414"
      ]
     },
     "execution_count": 3,
     "metadata": {},
     "output_type": "execute_result"
    }
   ],
   "source": [
    "train.person.count()"
   ]
  },
  {
   "cell_type": "code",
   "execution_count": 4,
   "metadata": {},
   "outputs": [
    {
     "data": {
      "text/plain": [
       "19415"
      ]
     },
     "execution_count": 4,
     "metadata": {},
     "output_type": "execute_result"
    }
   ],
   "source": [
    "test.person.count()"
   ]
  },
  {
   "cell_type": "markdown",
   "metadata": {},
   "source": [
    "Nos guardamos los IDs necesarios para el submit"
   ]
  },
  {
   "cell_type": "code",
   "execution_count": 5,
   "metadata": {},
   "outputs": [],
   "source": [
    "id_personas = test['person']"
   ]
  },
  {
   "cell_type": "markdown",
   "metadata": {},
   "source": [
    "Analizamos el set de entrenamiento y el test final"
   ]
  },
  {
   "cell_type": "code",
   "execution_count": 6,
   "metadata": {
    "scrolled": true
   },
   "outputs": [
    {
     "data": {
      "text/html": [
       "<div>\n",
       "<style scoped>\n",
       "    .dataframe tbody tr th:only-of-type {\n",
       "        vertical-align: middle;\n",
       "    }\n",
       "\n",
       "    .dataframe tbody tr th {\n",
       "        vertical-align: top;\n",
       "    }\n",
       "\n",
       "    .dataframe thead th {\n",
       "        text-align: right;\n",
       "    }\n",
       "</style>\n",
       "<table border=\"1\" class=\"dataframe\">\n",
       "  <thead>\n",
       "    <tr style=\"text-align: right;\">\n",
       "      <th></th>\n",
       "      <th>person</th>\n",
       "      <th>label</th>\n",
       "      <th>ad campaign hit</th>\n",
       "      <th>brand listing</th>\n",
       "      <th>checkout</th>\n",
       "      <th>conversion</th>\n",
       "      <th>generic listing</th>\n",
       "      <th>lead</th>\n",
       "      <th>search engine hit</th>\n",
       "      <th>searched products</th>\n",
       "      <th>...</th>\n",
       "      <th>cant_sesiones_q_0</th>\n",
       "      <th>cant_sesiones_q_1</th>\n",
       "      <th>cant_sesiones_q_2</th>\n",
       "      <th>cant_sesiones_q_3</th>\n",
       "      <th>cant_sesiones_q_4</th>\n",
       "      <th>cant_sesiones_q_5</th>\n",
       "      <th>cant_sesiones_q_6</th>\n",
       "      <th>cant_sesiones_q_7</th>\n",
       "      <th>cant_sesiones_q_8</th>\n",
       "      <th>cant_sesiones_q_9</th>\n",
       "    </tr>\n",
       "  </thead>\n",
       "  <tbody>\n",
       "    <tr>\n",
       "      <th>5413</th>\n",
       "      <td>925d7709</td>\n",
       "      <td>0</td>\n",
       "      <td>3.0</td>\n",
       "      <td>0.0</td>\n",
       "      <td>1.0</td>\n",
       "      <td>0.0</td>\n",
       "      <td>3.0</td>\n",
       "      <td>0.0</td>\n",
       "      <td>2.0</td>\n",
       "      <td>0.0</td>\n",
       "      <td>...</td>\n",
       "      <td>0.0</td>\n",
       "      <td>0.0</td>\n",
       "      <td>0.0</td>\n",
       "      <td>0.0</td>\n",
       "      <td>0.0</td>\n",
       "      <td>0.0</td>\n",
       "      <td>0.0</td>\n",
       "      <td>0.0</td>\n",
       "      <td>6.0</td>\n",
       "      <td>0.0</td>\n",
       "    </tr>\n",
       "    <tr>\n",
       "      <th>2043</th>\n",
       "      <td>b4ebb2a0</td>\n",
       "      <td>0</td>\n",
       "      <td>6.0</td>\n",
       "      <td>0.0</td>\n",
       "      <td>2.0</td>\n",
       "      <td>0.0</td>\n",
       "      <td>0.0</td>\n",
       "      <td>0.0</td>\n",
       "      <td>0.0</td>\n",
       "      <td>0.0</td>\n",
       "      <td>...</td>\n",
       "      <td>0.0</td>\n",
       "      <td>0.0</td>\n",
       "      <td>0.0</td>\n",
       "      <td>0.0</td>\n",
       "      <td>0.0</td>\n",
       "      <td>0.0</td>\n",
       "      <td>0.0</td>\n",
       "      <td>0.0</td>\n",
       "      <td>0.0</td>\n",
       "      <td>6.0</td>\n",
       "    </tr>\n",
       "    <tr>\n",
       "      <th>3036</th>\n",
       "      <td>3300a044</td>\n",
       "      <td>0</td>\n",
       "      <td>3.0</td>\n",
       "      <td>1.0</td>\n",
       "      <td>4.0</td>\n",
       "      <td>0.0</td>\n",
       "      <td>0.0</td>\n",
       "      <td>0.0</td>\n",
       "      <td>2.0</td>\n",
       "      <td>0.0</td>\n",
       "      <td>...</td>\n",
       "      <td>0.0</td>\n",
       "      <td>0.0</td>\n",
       "      <td>0.0</td>\n",
       "      <td>0.0</td>\n",
       "      <td>0.0</td>\n",
       "      <td>0.0</td>\n",
       "      <td>0.0</td>\n",
       "      <td>0.0</td>\n",
       "      <td>0.0</td>\n",
       "      <td>2.0</td>\n",
       "    </tr>\n",
       "    <tr>\n",
       "      <th>5408</th>\n",
       "      <td>ce2f5d19</td>\n",
       "      <td>0</td>\n",
       "      <td>0.0</td>\n",
       "      <td>0.0</td>\n",
       "      <td>1.0</td>\n",
       "      <td>0.0</td>\n",
       "      <td>0.0</td>\n",
       "      <td>0.0</td>\n",
       "      <td>1.0</td>\n",
       "      <td>0.0</td>\n",
       "      <td>...</td>\n",
       "      <td>0.0</td>\n",
       "      <td>0.0</td>\n",
       "      <td>0.0</td>\n",
       "      <td>0.0</td>\n",
       "      <td>0.0</td>\n",
       "      <td>0.0</td>\n",
       "      <td>0.0</td>\n",
       "      <td>0.0</td>\n",
       "      <td>0.0</td>\n",
       "      <td>2.0</td>\n",
       "    </tr>\n",
       "    <tr>\n",
       "      <th>16257</th>\n",
       "      <td>8575b73a</td>\n",
       "      <td>0</td>\n",
       "      <td>0.0</td>\n",
       "      <td>1.0</td>\n",
       "      <td>1.0</td>\n",
       "      <td>0.0</td>\n",
       "      <td>1.0</td>\n",
       "      <td>0.0</td>\n",
       "      <td>0.0</td>\n",
       "      <td>0.0</td>\n",
       "      <td>...</td>\n",
       "      <td>0.0</td>\n",
       "      <td>0.0</td>\n",
       "      <td>0.0</td>\n",
       "      <td>0.0</td>\n",
       "      <td>0.0</td>\n",
       "      <td>0.0</td>\n",
       "      <td>0.0</td>\n",
       "      <td>0.0</td>\n",
       "      <td>0.0</td>\n",
       "      <td>1.0</td>\n",
       "    </tr>\n",
       "  </tbody>\n",
       "</table>\n",
       "<p>5 rows × 159 columns</p>\n",
       "</div>"
      ],
      "text/plain": [
       "         person  label  ad campaign hit  brand listing  checkout  conversion  \\\n",
       "5413   925d7709      0              3.0            0.0       1.0         0.0   \n",
       "2043   b4ebb2a0      0              6.0            0.0       2.0         0.0   \n",
       "3036   3300a044      0              3.0            1.0       4.0         0.0   \n",
       "5408   ce2f5d19      0              0.0            0.0       1.0         0.0   \n",
       "16257  8575b73a      0              0.0            1.0       1.0         0.0   \n",
       "\n",
       "       generic listing  lead  search engine hit  searched products  \\\n",
       "5413               3.0   0.0                2.0                0.0   \n",
       "2043               0.0   0.0                0.0                0.0   \n",
       "3036               0.0   0.0                2.0                0.0   \n",
       "5408               0.0   0.0                1.0                0.0   \n",
       "16257              1.0   0.0                0.0                0.0   \n",
       "\n",
       "             ...          cant_sesiones_q_0  cant_sesiones_q_1  \\\n",
       "5413         ...                        0.0                0.0   \n",
       "2043         ...                        0.0                0.0   \n",
       "3036         ...                        0.0                0.0   \n",
       "5408         ...                        0.0                0.0   \n",
       "16257        ...                        0.0                0.0   \n",
       "\n",
       "       cant_sesiones_q_2  cant_sesiones_q_3  cant_sesiones_q_4  \\\n",
       "5413                 0.0                0.0                0.0   \n",
       "2043                 0.0                0.0                0.0   \n",
       "3036                 0.0                0.0                0.0   \n",
       "5408                 0.0                0.0                0.0   \n",
       "16257                0.0                0.0                0.0   \n",
       "\n",
       "       cant_sesiones_q_5  cant_sesiones_q_6  cant_sesiones_q_7  \\\n",
       "5413                 0.0                0.0                0.0   \n",
       "2043                 0.0                0.0                0.0   \n",
       "3036                 0.0                0.0                0.0   \n",
       "5408                 0.0                0.0                0.0   \n",
       "16257                0.0                0.0                0.0   \n",
       "\n",
       "       cant_sesiones_q_8  cant_sesiones_q_9  \n",
       "5413                 6.0                0.0  \n",
       "2043                 0.0                6.0  \n",
       "3036                 0.0                2.0  \n",
       "5408                 0.0                2.0  \n",
       "16257                0.0                1.0  \n",
       "\n",
       "[5 rows x 159 columns]"
      ]
     },
     "execution_count": 6,
     "metadata": {},
     "output_type": "execute_result"
    }
   ],
   "source": [
    "train.sample(5)"
   ]
  },
  {
   "cell_type": "code",
   "execution_count": 7,
   "metadata": {
    "scrolled": true
   },
   "outputs": [
    {
     "name": "stdout",
     "output_type": "stream",
     "text": [
      "<class 'pandas.core.frame.DataFrame'>\n",
      "RangeIndex: 19414 entries, 0 to 19413\n",
      "Columns: 159 entries, person to cant_sesiones_q_9\n",
      "dtypes: float64(156), int64(2), object(1)\n",
      "memory usage: 23.6+ MB\n"
     ]
    }
   ],
   "source": [
    "train.info()"
   ]
  },
  {
   "cell_type": "markdown",
   "metadata": {},
   "source": [
    " "
   ]
  },
  {
   "cell_type": "code",
   "execution_count": 8,
   "metadata": {
    "scrolled": true
   },
   "outputs": [
    {
     "name": "stdout",
     "output_type": "stream",
     "text": [
      "<class 'pandas.core.frame.DataFrame'>\n",
      "RangeIndex: 19415 entries, 0 to 19414\n",
      "Columns: 158 entries, person to cant_sesiones_q_9\n",
      "dtypes: float64(156), int64(1), object(1)\n",
      "memory usage: 23.4+ MB\n"
     ]
    }
   ],
   "source": [
    "test.info()"
   ]
  },
  {
   "cell_type": "markdown",
   "metadata": {},
   "source": [
    "Normalización de las columnas entre 0 y 1"
   ]
  },
  {
   "cell_type": "code",
   "execution_count": 9,
   "metadata": {},
   "outputs": [],
   "source": [
    "\n",
    "train.iloc[:,2:] = MinMaxScaler().fit_transform(train.iloc[:,2:])"
   ]
  },
  {
   "cell_type": "markdown",
   "metadata": {},
   "source": [
    "Skew de las columnas, mientras más distinto a 0, menos se parece a una distribución normal"
   ]
  },
  {
   "cell_type": "code",
   "execution_count": 10,
   "metadata": {
    "scrolled": true
   },
   "outputs": [
    {
     "name": "stdout",
     "output_type": "stream",
     "text": [
      "ad campaign hit: 15.05\n",
      "brand listing: 42.74\n",
      "checkout: 7.1\n",
      "conversion: 10.96\n",
      "generic listing: 11.87\n",
      "lead: 37.0\n",
      "search engine hit: 10.48\n",
      "searched products: 18.42\n",
      "staticpage: 16.57\n",
      "viewed product: 9.46\n",
      "visited site: 7.37\n",
      "viewed product_0: 44.27\n",
      "viewed product_1: 29.59\n",
      "viewed product_2: 39.5\n",
      "viewed product_3: 25.64\n",
      "viewed product_4: 18.08\n",
      "viewed product_5: 24.11\n",
      "viewed product_6: 21.98\n",
      "viewed product_7: 19.77\n",
      "viewed product_8: 10.46\n",
      "viewed product_9: 7.26\n",
      "searched products_0: 43.21\n",
      "searched products_1: 25.47\n",
      "searched products_2: 28.54\n",
      "searched products_3: 33.04\n",
      "searched products_4: 24.93\n",
      "searched products_5: 35.93\n",
      "searched products_6: 30.65\n",
      "searched products_7: 16.97\n",
      "searched products_8: 22.44\n",
      "searched products_9: 21.84\n",
      "ad campaign hit_0: 28.67\n",
      "ad campaign hit_1: 31.3\n",
      "ad campaign hit_2: 56.25\n",
      "ad campaign hit_3: 64.93\n",
      "ad campaign hit_4: 31.0\n",
      "ad campaign hit_5: 21.04\n",
      "ad campaign hit_6: 23.88\n",
      "ad campaign hit_7: 27.8\n",
      "ad campaign hit_8: 11.12\n",
      "ad campaign hit_9: 6.15\n",
      "staticpage_0: 44.82\n",
      "staticpage_1: 39.32\n",
      "staticpage_2: 46.61\n",
      "staticpage_3: 48.14\n",
      "staticpage_4: 39.9\n",
      "staticpage_5: 46.12\n",
      "staticpage_6: 32.86\n",
      "staticpage_7: 49.53\n",
      "staticpage_8: 31.92\n",
      "staticpage_9: 9.83\n",
      "checkout_0: 38.58\n",
      "checkout_1: 35.62\n",
      "checkout_2: 35.57\n",
      "checkout_3: 81.02\n",
      "checkout_4: 21.15\n",
      "checkout_5: 31.39\n",
      "checkout_6: 22.78\n",
      "checkout_7: 18.78\n",
      "checkout_8: 12.47\n",
      "checkout_9: 6.5\n",
      "search engine hit_0: 38.82\n",
      "search engine hit_1: 29.14\n",
      "search engine hit_2: 76.45\n",
      "search engine hit_3: 22.08\n",
      "search engine hit_4: 26.74\n",
      "search engine hit_5: 30.94\n",
      "search engine hit_6: 30.98\n",
      "search engine hit_7: 17.55\n",
      "search engine hit_8: 15.92\n",
      "search engine hit_9: 6.81\n",
      "conversion_0: 70.72\n",
      "conversion_1: 71.3\n",
      "conversion_2: 46.25\n",
      "conversion_3: 64.82\n",
      "conversion_4: 32.59\n",
      "conversion_5: 27.5\n",
      "conversion_6: 24.6\n",
      "conversion_7: 31.99\n",
      "conversion_8: 27.93\n",
      "conversion_9: 15.4\n",
      "generic listing_0: 36.3\n",
      "generic listing_1: 47.43\n",
      "generic listing_2: 51.06\n",
      "generic listing_3: 58.12\n",
      "generic listing_4: 24.43\n",
      "generic listing_5: 18.27\n",
      "generic listing_6: 30.48\n",
      "generic listing_7: 29.96\n",
      "generic listing_8: 11.11\n",
      "generic listing_9: 5.48\n",
      "brand listing_0: 82.67\n",
      "brand listing_1: 109.35\n",
      "brand listing_2: 64.01\n",
      "brand listing_3: 38.13\n",
      "brand listing_4: 62.48\n",
      "brand listing_5: 96.28\n",
      "brand listing_6: 30.49\n",
      "brand listing_7: 38.13\n",
      "brand listing_8: 15.94\n",
      "brand listing_9: 8.47\n",
      "visited site_0: 38.83\n",
      "visited site_1: 26.18\n",
      "visited site_2: 33.25\n",
      "visited site_3: 30.52\n",
      "visited site_4: 19.06\n",
      "visited site_5: 13.81\n",
      "visited site_6: 11.77\n",
      "visited site_7: 14.56\n",
      "visited site_8: 7.7\n",
      "visited site_9: 4.97\n",
      "lead_0: 122.18\n",
      "lead_1: 64.9\n",
      "lead_2: 83.27\n",
      "lead_3: 67.06\n",
      "lead_4: 82.94\n",
      "lead_5: 127.14\n",
      "lead_6: 33.84\n",
      "lead_7: 44.28\n",
      "lead_8: 41.02\n",
      "lead_9: 37.27\n",
      "max_tiempo_sesion_q_0: 67.16\n",
      "max_tiempo_sesion_q_1: 44.89\n",
      "max_tiempo_sesion_q_2: 47.86\n",
      "max_tiempo_sesion_q_3: 48.18\n",
      "max_tiempo_sesion_q_4: 35.15\n",
      "max_tiempo_sesion_q_5: 38.43\n",
      "max_tiempo_sesion_q_6: 28.63\n",
      "max_tiempo_sesion_q_7: 21.31\n",
      "max_tiempo_sesion_q_8: 16.87\n",
      "max_tiempo_sesion_q_9: 14.7\n",
      "prom_tiempo_sesion_q_0: 67.08\n",
      "prom_tiempo_sesion_q_1: 54.54\n",
      "prom_tiempo_sesion_q_2: 56.83\n",
      "prom_tiempo_sesion_q_3: 52.63\n",
      "prom_tiempo_sesion_q_4: 44.05\n",
      "prom_tiempo_sesion_q_5: 45.87\n",
      "prom_tiempo_sesion_q_6: 36.92\n",
      "prom_tiempo_sesion_q_7: 27.4\n",
      "prom_tiempo_sesion_q_8: 20.36\n",
      "prom_tiempo_sesion_q_9: 27.82\n",
      "registration_time: 2.1\n",
      "max_sin_convertir: 2.14\n",
      "tiempo_sin_convertir: 2.3\n",
      "convierte_cada_x_tiempo: 2.31\n",
      "celularViejo: 25.82\n",
      "country: 0.0\n",
      "cant_sesiones_q_0: 11.24\n",
      "cant_sesiones_q_1: 11.3\n",
      "cant_sesiones_q_2: 11.09\n",
      "cant_sesiones_q_3: 9.62\n",
      "cant_sesiones_q_4: 7.96\n",
      "cant_sesiones_q_5: 7.05\n",
      "cant_sesiones_q_6: 6.6\n",
      "cant_sesiones_q_7: 5.16\n",
      "cant_sesiones_q_8: 3.02\n",
      "cant_sesiones_q_9: 0.77\n"
     ]
    }
   ],
   "source": [
    "for i in train.iloc[:,2:].columns:\n",
    "    print(i+':', round(skew(train[i]),2) ) "
   ]
  },
  {
   "cell_type": "markdown",
   "metadata": {},
   "source": [
    "Se calcula el logaritmo natural de cada valor de la columna + 1.  (De las columnas que tienen skew mayor a 0.5)"
   ]
  },
  {
   "cell_type": "code",
   "execution_count": 11,
   "metadata": {
    "scrolled": true
   },
   "outputs": [],
   "source": [
    "skewed_features = np.array(train.iloc[:,2:].columns)[np.abs(skew(train[train.iloc[:,2:].columns])) > 0.5]\n",
    "train[skewed_features] = np.log1p(train[skewed_features])"
   ]
  },
  {
   "cell_type": "code",
   "execution_count": 12,
   "metadata": {},
   "outputs": [],
   "source": [
    "skewed_features = np.array(test.iloc[:,1:].columns)[np.abs(skew(test[test.iloc[:,1:].columns])) > 0.5]\n",
    "test[skewed_features] = np.log1p(test[skewed_features])"
   ]
  },
  {
   "cell_type": "markdown",
   "metadata": {},
   "source": [
    "Nos guardamos los features que utilizaremos para los algoritmos de Machine Learning"
   ]
  },
  {
   "cell_type": "code",
   "execution_count": 67,
   "metadata": {},
   "outputs": [],
   "source": [
    "cantidad_sesiones = []\n",
    "promedio_tiempo_sesion = []\n",
    "maxima_sesion = []\n",
    "compras = []\n",
    "ad_campaign_hit = []\n",
    "viewed_product = []\n",
    "brand_listing = []\n",
    "checkout = []\n",
    "generic_listing = []\n",
    "search_engine_hit = []\n",
    "searched_products = []\n",
    "viewed_products = []\n",
    "visited_site = []\n",
    "lead = []\n",
    "for i in range(4,10):\n",
    "    promedio_tiempo_sesion.append('prom_tiempo_sesion_q_'+str(i))\n",
    "    maxima_sesion.append('max_tiempo_sesion_q_'+str(i))\n",
    "    cantidad_sesiones.append('cant_sesiones_q_'+str(i))    \n",
    "for i in range(4,10):\n",
    "    compras.append('conversion_'+str(i))\n",
    "    ad_campaign_hit.append('ad campaign hit_'+str(i))\n",
    "    viewed_product.append('viewed product_'+str(i))\n",
    "    visited_site.append('visited site_'+str(i))\n",
    "    brand_listing.append('brand listing_'+str(i))\n",
    "    checkout.append('checkout_'+str(i))\n",
    "    generic_listing.append('generic listing_'+str(i))\n",
    "    search_engine_hit.append('search engine hit_'+str(i))\n",
    "    searched_products.append('searched products_'+str(i))\n",
    "    lead.append('lead_'+str(i))\n",
    "conversiones_dias_features = ['registration_time','max_sin_convertir','tiempo_sin_convertir',\\\n",
    "                              'convierte_cada_x_tiempo']\n",
    "\n",
    "celular_viejo = ['celularViejo']\n",
    "\n",
    "pais = ['country']\n",
    "\n",
    "eventos_total = ['ad campaign hit','viewed product','brand listing','checkout','generic listing',\\\n",
    "                 'search engine hit','searched products','conversion'] \n",
    "eventos_out = ['lead','staticpage','visited site']\n",
    "\n",
    "features_nn = maxima_sesion + \\\n",
    "    conversiones_dias_features +  \\\n",
    "    eventos_total + compras\n",
    "#numero de las columnas para usar en el nn\n",
    "num_col = []\n",
    "for i in features_nn:\n",
    "    num_col.append(train.columns.get_loc(i))\n",
    "    \n",
    "features = eventos_total + conversiones_dias_features + celular_viejo + promedio_tiempo_sesion + maxima_sesion\\\n",
    "            + compras + pais  \\\n",
    "            + ad_campaign_hit + viewed_product + visited_site + lead + checkout\\\n",
    "            + searched_products + search_engine_hit + brand_listing + generic_listing + cantidad_sesiones"
   ]
  },
  {
   "cell_type": "code",
   "execution_count": 35,
   "metadata": {},
   "outputs": [],
   "source": [
    "#TODOS LOS FEATURES\n",
    "features = train.iloc[:,2:].columns"
   ]
  },
  {
   "cell_type": "markdown",
   "metadata": {},
   "source": [
    "Particionamos el set de entrenamiento para realizar pruebas locales de hiper-parámetros antes de realizar cada submit"
   ]
  },
  {
   "cell_type": "code",
   "execution_count": 68,
   "metadata": {},
   "outputs": [],
   "source": [
    "test_s = 0.25\n",
    "random_s = 0\n",
    "\n",
    "x = np.array(train[features])\n",
    "y = np.array(train['label'])\n",
    "\n",
    "x_train, x_test, y_train, y_test = train_test_split(x, y, test_size=test_s, random_state=random_s)"
   ]
  },
  {
   "cell_type": "markdown",
   "metadata": {},
   "source": [
    "Generamos el set de entrenamiento para el test final"
   ]
  },
  {
   "cell_type": "code",
   "execution_count": 69,
   "metadata": {},
   "outputs": [],
   "source": [
    "x_test_final = np.array(test[features])"
   ]
  },
  {
   "cell_type": "markdown",
   "metadata": {},
   "source": [
    "# Algoritmos probados"
   ]
  },
  {
   "cell_type": "markdown",
   "metadata": {},
   "source": [
    "### Feature importance"
   ]
  },
  {
   "cell_type": "code",
   "execution_count": 21,
   "metadata": {
    "scrolled": true
   },
   "outputs": [
    {
     "name": "stdout",
     "output_type": "stream",
     "text": [
      "                       Importance\n",
      "checkout_9               0.079447\n",
      "conversion               0.046632\n",
      "dias_sin_convertir       0.041451\n",
      "max_tiempo_sesion_q_0    0.034542\n",
      "checkout                 0.031088\n",
      "max_sin_convertir        0.029361\n",
      "viewed product           0.029361\n",
      "max_tiempo_sesion_q_8    0.025907\n",
      "convierte_cada_x_dias    0.025907\n",
      "max_tiempo_sesion_q_9    0.024180\n",
      "viewed product_9         0.022453\n",
      "ad campaign hit          0.022453\n",
      "searched products        0.017271\n",
      "cant_sesiones_q_1        0.015544\n",
      "max_tiempo_sesion_q_6    0.015544\n",
      "checkout_8               0.015544\n",
      "searched products_9      0.015544\n",
      "brand listing_1          0.013817\n",
      "search engine hit        0.013817\n",
      "viewed product_5         0.013817\n",
      "generic listing_7        0.013817\n",
      "search engine hit_9      0.013817\n",
      "brand listing_8          0.013817\n",
      "ad campaign hit_9        0.013817\n",
      "checkout_3               0.013817\n",
      "checkout_7               0.013817\n",
      "brand listing_7          0.012090\n",
      "brand listing            0.012090\n",
      "visited site_4           0.012090\n",
      "conversion_9             0.012090\n",
      "...                           ...\n",
      "lead_8                   0.000000\n",
      "lead_3                   0.000000\n",
      "staticpage_1             0.000000\n",
      "staticpage_2             0.000000\n",
      "conversion_7             0.000000\n",
      "conversion_6             0.000000\n",
      "generic listing_5        0.000000\n",
      "conversion_3             0.000000\n",
      "conversion_2             0.000000\n",
      "conversion_1             0.000000\n",
      "conversion_0             0.000000\n",
      "search engine hit_8      0.000000\n",
      "search engine hit_5      0.000000\n",
      "brand listing_3          0.000000\n",
      "search engine hit_4      0.000000\n",
      "search engine hit_3      0.000000\n",
      "search engine hit_1      0.000000\n",
      "checkout_6               0.000000\n",
      "visited site_0           0.000000\n",
      "visited site_1           0.000000\n",
      "checkout_4               0.000000\n",
      "visited site_3           0.000000\n",
      "visited site_5           0.000000\n",
      "checkout_1               0.000000\n",
      "visited site_8           0.000000\n",
      "lead_0                   0.000000\n",
      "staticpage_8             0.000000\n",
      "lead_2                   0.000000\n",
      "generic listing_2        0.000000\n",
      "cant_sesiones_q_9        0.000000\n",
      "\n",
      "[155 rows x 1 columns]\n"
     ]
    }
   ],
   "source": [
    "xgb = XGBRegressor()\n",
    "xgb.fit(x_train, y_train)\n",
    "imp = pd.DataFrame(xgb.feature_importances_ ,columns = ['Importance'],index = features)\n",
    "imp = imp.sort_values(['Importance'], ascending = False)\n",
    "print(imp)"
   ]
  },
  {
   "cell_type": "markdown",
   "metadata": {},
   "source": [
    "### Feature Selection"
   ]
  },
  {
   "cell_type": "code",
   "execution_count": 14,
   "metadata": {},
   "outputs": [
    {
     "data": {
      "text/plain": [
       "147"
      ]
     },
     "execution_count": 14,
     "metadata": {},
     "output_type": "execute_result"
    }
   ],
   "source": [
    "len(features)"
   ]
  },
  {
   "cell_type": "markdown",
   "metadata": {},
   "source": [
    "Selector nos elige los mejores features, entre lo que se pida."
   ]
  },
  {
   "cell_type": "code",
   "execution_count": 15,
   "metadata": {
    "scrolled": true
   },
   "outputs": [
    {
     "name": "stderr",
     "output_type": "stream",
     "text": [
      "\n",
      "STOPPING EARLY DUE TO KEYBOARD INTERRUPT..."
     ]
    },
    {
     "data": {
      "text/plain": [
       "SequentialFeatureSelector(clone_estimator=True, cv=5,\n",
       "             estimator=XGBRegressor(base_score=0.5, booster='gbtree', colsample_bylevel=1,\n",
       "       colsample_bytree=0.6, gamma=5, learning_rate=0.02, max_delta_step=0,\n",
       "       max_depth=5, min_child_weight=5, missing=None, n_estimators=600,\n",
       "       n_jobs=1, nthread=1, objective='binary:logistic', random_state=0,\n",
       "       reg_alpha=0, reg_lambda=1, scale_pos_weight=1, seed=None,\n",
       "       silent=True, subsample=1.0),\n",
       "             floating=False, forward=False, k_features=140, n_jobs=-1,\n",
       "             pre_dispatch='2*n_jobs', scoring='roc_auc', verbose=2)"
      ]
     },
     "execution_count": 15,
     "metadata": {},
     "output_type": "execute_result"
    }
   ],
   "source": [
    "\n",
    "xgb = XGBRegressor(base_score=0.5, booster='gbtree', colsample_bylevel=1,\\\n",
    "       colsample_bytree=0.6, gamma=5, learning_rate=0.02, max_delta_step=0,\\\n",
    "       max_depth=5, min_child_weight=5, missing=None, n_estimators=600,\\\n",
    "       n_jobs=1, nthread=1, objective='binary:logistic', random_state=0,\\\n",
    "       reg_alpha=0, reg_lambda=1, scale_pos_weight=1, seed=None,\\\n",
    "       silent=True, subsample=1.0)\n",
    "selector = SequentialFeatureSelector(xgb, scoring='roc_auc', \\\n",
    "                                      verbose=2, k_features=140, forward=False, n_jobs=-1)\n",
    "\n",
    "selector.fit(x, y)"
   ]
  },
  {
   "cell_type": "code",
   "execution_count": 16,
   "metadata": {},
   "outputs": [
    {
     "data": {
      "text/plain": [
       "0.8614258235804075"
      ]
     },
     "execution_count": 16,
     "metadata": {},
     "output_type": "execute_result"
    }
   ],
   "source": [
    "xgb = XGBRegressor(base_score=0.5, booster='gbtree', colsample_bylevel=1,\\\n",
    "       colsample_bytree=0.6, gamma=5, learning_rate=0.02, max_delta_step=0,\\\n",
    "       max_depth=5, min_child_weight=5, missing=None, n_estimators=600,\\\n",
    "       n_jobs=1, nthread=1, objective='binary:logistic', random_state=0,\\\n",
    "       reg_alpha=0, reg_lambda=1, scale_pos_weight=1, seed=None,\\\n",
    "       silent=True, subsample=1.0)\n",
    "x_train2 = selector.transform(x_train)  \n",
    "x_test2 = selector.transform(x_test)\n",
    "xgb.fit(x_train2,y_train)\n",
    "y_pred = xgb.predict(x_test2)\n",
    "roc_auc_score(y_test,y_pred)"
   ]
  },
  {
   "cell_type": "markdown",
   "metadata": {},
   "source": [
    "Función que remueve los features si el score es mayor."
   ]
  },
  {
   "cell_type": "code",
   "execution_count": 34,
   "metadata": {},
   "outputs": [],
   "source": [
    "n_feat = 0  # initialize the number of features we choose, which will be updated in the loop\n",
    "\n",
    "features = train.iloc[:,2:].columns\n",
    "feats = []\n",
    "\n",
    "# start from the top 10 features, then add more less important ones\n",
    "xgb = XGBRegressor(base_score=0.5, booster='gbtree', colsample_bylevel=1,\\\n",
    "       colsample_bytree=0.6, gamma=5, learning_rate=0.02, max_delta_step=0,\\\n",
    "       max_depth=5, min_child_weight=5, missing=None, n_estimators=600,\\\n",
    "       n_jobs=1, nthread=1, objective='binary:logistic', random_state=0,\\\n",
    "       reg_alpha=0, reg_lambda=1, scale_pos_weight=1, seed=None,\\\n",
    "       silent=True, subsample=1.0)\n",
    "xgb.fit(x_train,y_train)\n",
    "y_pred = xgb.predict(x_test)\n",
    "best_score = roc_auc_score(y_test,y_pred)\n",
    "feats = features\n",
    "feats = list(feats)\n",
    "for i in features:\n",
    "    feats.remove(i)\n",
    "    xgb = XGBRegressor(base_score=0.5, booster='gbtree', colsample_bylevel=1,\\\n",
    "       colsample_bytree=0.6, gamma=5, learning_rate=0.02, max_delta_step=0,\\\n",
    "       max_depth=5, min_child_weight=5, missing=None, n_estimators=600,\\\n",
    "       n_jobs=1, nthread=1, objective='binary:logistic', random_state=0,\\\n",
    "       reg_alpha=0, reg_lambda=1, scale_pos_weight=1, seed=None,\\\n",
    "       silent=True, subsample=1.0)\n",
    "    num_col=[]\n",
    "    for j in feats:\n",
    "        num_col.append(train.drop(columns=['person','label']).columns.get_loc(j))\n",
    "    xgb.fit(x_train[:,num_col],y_train)\n",
    "    y_pred = xgb.predict(x_test[:,num_col])\n",
    "    score = roc_auc_score(y_test,y_pred)\n",
    "# remove  feature only if score improves by more than 0.001%\n",
    "    if (score - best_score) > 10e-3:\n",
    "        best_score = score\n",
    "        continue\n",
    "    feats.append(i)"
   ]
  },
  {
   "cell_type": "code",
   "execution_count": 35,
   "metadata": {},
   "outputs": [
    {
     "data": {
      "text/plain": [
       "0.8621195201775456"
      ]
     },
     "execution_count": 35,
     "metadata": {},
     "output_type": "execute_result"
    }
   ],
   "source": [
    "best_score"
   ]
  },
  {
   "cell_type": "code",
   "execution_count": null,
   "metadata": {},
   "outputs": [],
   "source": [
    "person = np.array(test['person'])\n",
    "person =person.reshape((19415,1))\n",
    "submit = pd.DataFrame(data=np.column_stack((person,pred_final)),columns=['person','label'])\n",
    "submit.to_csv('submit_nn.csv', index=False)"
   ]
  },
  {
   "cell_type": "markdown",
   "metadata": {},
   "source": [
    "### Majority Voting\n"
   ]
  },
  {
   "cell_type": "code",
   "execution_count": 28,
   "metadata": {
    "scrolled": true
   },
   "outputs": [
    {
     "name": "stderr",
     "output_type": "stream",
     "text": [
      "Exception ignored in: <bound method DMatrix.__del__ of <xgboost.core.DMatrix object at 0x7f1f6b459cf8>>\n",
      "Traceback (most recent call last):\n",
      "  File \"/home/mariano/ENTER/lib/python3.6/site-packages/xgboost-0.72-py3.6.egg/xgboost/core.py\", line 453, in __del__\n",
      "    if self.handle is not None:\n",
      "AttributeError: 'DMatrix' object has no attribute 'handle'\n",
      "Using TensorFlow backend.\n"
     ]
    },
    {
     "name": "stdout",
     "output_type": "stream",
     "text": [
      "Epoch 1/200\n",
      "14560/14560 [==============================] - 2s 109us/step - loss: 0.3607 - acc: 0.9489\n",
      "Epoch 2/200\n",
      "14560/14560 [==============================] - 0s 32us/step - loss: 0.2057 - acc: 0.9492\n",
      "Epoch 3/200\n",
      "14560/14560 [==============================] - 0s 31us/step - loss: 0.2002 - acc: 0.9492\n",
      "Epoch 4/200\n",
      "14560/14560 [==============================] - 0s 31us/step - loss: 0.1965 - acc: 0.9492\n",
      "Epoch 5/200\n",
      "14560/14560 [==============================] - 0s 30us/step - loss: 0.1948 - acc: 0.9492\n",
      "Epoch 6/200\n",
      "14560/14560 [==============================] - 0s 31us/step - loss: 0.1937 - acc: 0.9492\n",
      "Epoch 7/200\n",
      "14560/14560 [==============================] - 0s 31us/step - loss: 0.1931 - acc: 0.9492\n",
      "Epoch 8/200\n",
      "14560/14560 [==============================] - 0s 30us/step - loss: 0.1927 - acc: 0.9492\n",
      "Epoch 9/200\n",
      "14560/14560 [==============================] - 0s 31us/step - loss: 0.1921 - acc: 0.9492\n",
      "Epoch 10/200\n",
      "14560/14560 [==============================] - 0s 31us/step - loss: 0.1918 - acc: 0.9492\n",
      "Epoch 11/200\n",
      "14560/14560 [==============================] - 0s 31us/step - loss: 0.1915 - acc: 0.9492\n",
      "Epoch 12/200\n",
      "14560/14560 [==============================] - 0s 30us/step - loss: 0.1912 - acc: 0.9492\n",
      "Epoch 13/200\n",
      "14560/14560 [==============================] - 0s 31us/step - loss: 0.1910 - acc: 0.9492\n",
      "Epoch 14/200\n",
      "14560/14560 [==============================] - 0s 31us/step - loss: 0.1908 - acc: 0.9492\n",
      "Epoch 15/200\n",
      "14560/14560 [==============================] - 0s 31us/step - loss: 0.1906 - acc: 0.9492\n",
      "Epoch 16/200\n",
      "14560/14560 [==============================] - 0s 31us/step - loss: 0.1905 - acc: 0.9492\n",
      "Epoch 17/200\n",
      "14560/14560 [==============================] - 0s 30us/step - loss: 0.1902 - acc: 0.9492\n",
      "Epoch 18/200\n",
      "14560/14560 [==============================] - 0s 31us/step - loss: 0.1902 - acc: 0.9492\n",
      "Epoch 19/200\n",
      "14560/14560 [==============================] - 0s 30us/step - loss: 0.1898 - acc: 0.9492\n",
      "Epoch 20/200\n",
      "14560/14560 [==============================] - 0s 30us/step - loss: 0.1899 - acc: 0.9492\n",
      "Epoch 21/200\n",
      "14560/14560 [==============================] - 0s 31us/step - loss: 0.1896 - acc: 0.9492\n",
      "Epoch 22/200\n",
      "14560/14560 [==============================] - 0s 31us/step - loss: 0.1894 - acc: 0.9492\n",
      "Epoch 23/200\n",
      "14560/14560 [==============================] - 0s 30us/step - loss: 0.1893 - acc: 0.9492\n",
      "Epoch 24/200\n",
      "14560/14560 [==============================] - 0s 31us/step - loss: 0.1892 - acc: 0.9492\n",
      "Epoch 25/200\n",
      "14560/14560 [==============================] - 0s 30us/step - loss: 0.1888 - acc: 0.9492\n",
      "Epoch 26/200\n",
      "14560/14560 [==============================] - 0s 31us/step - loss: 0.1890 - acc: 0.9492\n",
      "Epoch 27/200\n",
      "14560/14560 [==============================] - 0s 30us/step - loss: 0.1887 - acc: 0.9492\n",
      "Epoch 28/200\n",
      "14560/14560 [==============================] - 0s 30us/step - loss: 0.1887 - acc: 0.9492\n",
      "Epoch 29/200\n",
      "14560/14560 [==============================] - 0s 31us/step - loss: 0.1887 - acc: 0.9492\n",
      "Epoch 30/200\n",
      "14560/14560 [==============================] - 0s 30us/step - loss: 0.1886 - acc: 0.9492\n",
      "Epoch 31/200\n",
      "14560/14560 [==============================] - 0s 31us/step - loss: 0.1884 - acc: 0.9492\n",
      "Epoch 32/200\n",
      "14560/14560 [==============================] - 0s 30us/step - loss: 0.1884 - acc: 0.9492\n",
      "Epoch 33/200\n",
      "14560/14560 [==============================] - 0s 30us/step - loss: 0.1881 - acc: 0.9492\n",
      "Epoch 34/200\n",
      "14560/14560 [==============================] - 0s 30us/step - loss: 0.1883 - acc: 0.9492\n",
      "Epoch 35/200\n",
      "14560/14560 [==============================] - 0s 30us/step - loss: 0.1880 - acc: 0.9492\n",
      "Epoch 36/200\n",
      "14560/14560 [==============================] - 0s 31us/step - loss: 0.1881 - acc: 0.9492\n",
      "Epoch 37/200\n",
      "14560/14560 [==============================] - 0s 30us/step - loss: 0.1878 - acc: 0.9492\n",
      "Epoch 38/200\n",
      "14560/14560 [==============================] - 0s 30us/step - loss: 0.1878 - acc: 0.9492\n",
      "Epoch 39/200\n",
      "14560/14560 [==============================] - 0s 30us/step - loss: 0.1878 - acc: 0.9492\n",
      "Epoch 40/200\n",
      "14560/14560 [==============================] - 0s 31us/step - loss: 0.1877 - acc: 0.9492\n",
      "Epoch 41/200\n",
      "14560/14560 [==============================] - 0s 30us/step - loss: 0.1875 - acc: 0.9492\n",
      "Epoch 42/200\n",
      "14560/14560 [==============================] - 0s 30us/step - loss: 0.1873 - acc: 0.9492\n",
      "Epoch 43/200\n",
      "14560/14560 [==============================] - 0s 32us/step - loss: 0.1876 - acc: 0.9492\n",
      "Epoch 44/200\n",
      "14560/14560 [==============================] - 0s 30us/step - loss: 0.1873 - acc: 0.9492\n",
      "Epoch 45/200\n",
      "14560/14560 [==============================] - 0s 30us/step - loss: 0.1876 - acc: 0.9492\n",
      "Epoch 46/200\n",
      "14560/14560 [==============================] - 0s 31us/step - loss: 0.1872 - acc: 0.9492\n",
      "Epoch 47/200\n",
      "14560/14560 [==============================] - 0s 30us/step - loss: 0.1870 - acc: 0.9492\n",
      "Epoch 48/200\n",
      "14560/14560 [==============================] - 0s 30us/step - loss: 0.1872 - acc: 0.9492\n",
      "Epoch 49/200\n",
      "14560/14560 [==============================] - 0s 31us/step - loss: 0.1872 - acc: 0.9492\n",
      "Epoch 50/200\n",
      "14560/14560 [==============================] - 0s 31us/step - loss: 0.1869 - acc: 0.9492\n",
      "Epoch 51/200\n",
      "14560/14560 [==============================] - 0s 31us/step - loss: 0.1869 - acc: 0.9492\n",
      "Epoch 52/200\n",
      "14560/14560 [==============================] - 0s 30us/step - loss: 0.1867 - acc: 0.9492\n",
      "Epoch 53/200\n",
      "14560/14560 [==============================] - 0s 31us/step - loss: 0.1868 - acc: 0.9492\n",
      "Epoch 54/200\n",
      "14560/14560 [==============================] - 0s 31us/step - loss: 0.1867 - acc: 0.9492\n",
      "Epoch 55/200\n",
      "14560/14560 [==============================] - 0s 31us/step - loss: 0.1865 - acc: 0.9492\n",
      "Epoch 56/200\n",
      "14560/14560 [==============================] - 0s 31us/step - loss: 0.1866 - acc: 0.9492\n",
      "Epoch 57/200\n",
      "14560/14560 [==============================] - 0s 33us/step - loss: 0.1866 - acc: 0.9492\n",
      "Epoch 58/200\n",
      "14560/14560 [==============================] - 1s 35us/step - loss: 0.1864 - acc: 0.9492\n",
      "Epoch 59/200\n",
      "14560/14560 [==============================] - 1s 35us/step - loss: 0.1864 - acc: 0.9492\n",
      "Epoch 60/200\n",
      "14560/14560 [==============================] - 0s 33us/step - loss: 0.1862 - acc: 0.9492\n",
      "Epoch 61/200\n",
      "14560/14560 [==============================] - 0s 33us/step - loss: 0.1863 - acc: 0.9492\n",
      "Epoch 62/200\n",
      "14560/14560 [==============================] - 1s 34us/step - loss: 0.1862 - acc: 0.9492\n",
      "Epoch 63/200\n",
      "14560/14560 [==============================] - 0s 34us/step - loss: 0.1859 - acc: 0.9492\n",
      "Epoch 64/200\n",
      "14560/14560 [==============================] - 0s 33us/step - loss: 0.1861 - acc: 0.9492\n",
      "Epoch 65/200\n",
      "14560/14560 [==============================] - 0s 33us/step - loss: 0.1858 - acc: 0.9492\n",
      "Epoch 66/200\n",
      "14560/14560 [==============================] - 0s 34us/step - loss: 0.1858 - acc: 0.9492\n",
      "Epoch 67/200\n",
      "14560/14560 [==============================] - 0s 32us/step - loss: 0.1859 - acc: 0.9492\n",
      "Epoch 68/200\n",
      "14560/14560 [==============================] - 0s 31us/step - loss: 0.1858 - acc: 0.9492\n",
      "Epoch 69/200\n",
      "14560/14560 [==============================] - 0s 31us/step - loss: 0.1857 - acc: 0.9492\n",
      "Epoch 70/200\n",
      "14560/14560 [==============================] - 0s 34us/step - loss: 0.1854 - acc: 0.9492\n",
      "Epoch 71/200\n",
      "14560/14560 [==============================] - 1s 36us/step - loss: 0.1856 - acc: 0.9492\n",
      "Epoch 72/200\n",
      "14560/14560 [==============================] - 1s 35us/step - loss: 0.1855 - acc: 0.9492\n",
      "Epoch 73/200\n",
      "14560/14560 [==============================] - 1s 35us/step - loss: 0.1855 - acc: 0.9492\n",
      "Epoch 74/200\n",
      "14560/14560 [==============================] - 1s 35us/step - loss: 0.1854 - acc: 0.9492\n",
      "Epoch 75/200\n",
      "14560/14560 [==============================] - 0s 33us/step - loss: 0.1854 - acc: 0.9492\n",
      "Epoch 76/200\n",
      "14560/14560 [==============================] - 0s 34us/step - loss: 0.1850 - acc: 0.9492\n",
      "Epoch 77/200\n",
      "14560/14560 [==============================] - 1s 34us/step - loss: 0.1851 - acc: 0.9492\n",
      "Epoch 78/200\n",
      "14560/14560 [==============================] - 0s 33us/step - loss: 0.1852 - acc: 0.9492\n",
      "Epoch 79/200\n",
      "14560/14560 [==============================] - 0s 33us/step - loss: 0.1849 - acc: 0.9492\n",
      "Epoch 80/200\n",
      "14560/14560 [==============================] - 0s 33us/step - loss: 0.1853 - acc: 0.9492\n",
      "Epoch 81/200\n"
     ]
    },
    {
     "name": "stdout",
     "output_type": "stream",
     "text": [
      "14560/14560 [==============================] - 0s 32us/step - loss: 0.1849 - acc: 0.9492\n",
      "Epoch 82/200\n",
      "14560/14560 [==============================] - 0s 31us/step - loss: 0.1849 - acc: 0.9492\n",
      "Epoch 83/200\n",
      "14560/14560 [==============================] - 0s 31us/step - loss: 0.1849 - acc: 0.9492\n",
      "Epoch 84/200\n",
      "14560/14560 [==============================] - 0s 30us/step - loss: 0.1848 - acc: 0.9492\n",
      "Epoch 85/200\n",
      "14560/14560 [==============================] - 0s 31us/step - loss: 0.1845 - acc: 0.9492\n",
      "Epoch 86/200\n",
      "14560/14560 [==============================] - 0s 34us/step - loss: 0.1845 - acc: 0.9492\n",
      "Epoch 87/200\n",
      "14560/14560 [==============================] - 0s 32us/step - loss: 0.1846 - acc: 0.9492\n",
      "Epoch 88/200\n",
      "14560/14560 [==============================] - 0s 32us/step - loss: 0.1844 - acc: 0.9492\n",
      "Epoch 89/200\n",
      "14560/14560 [==============================] - 1s 35us/step - loss: 0.1844 - acc: 0.9492\n",
      "Epoch 90/200\n",
      "14560/14560 [==============================] - 0s 31us/step - loss: 0.1843 - acc: 0.9492\n",
      "Epoch 91/200\n",
      "14560/14560 [==============================] - 0s 33us/step - loss: 0.1841 - acc: 0.9492\n",
      "Epoch 92/200\n",
      "14560/14560 [==============================] - 0s 34us/step - loss: 0.1841 - acc: 0.9492\n",
      "Epoch 93/200\n",
      "14560/14560 [==============================] - 0s 32us/step - loss: 0.1842 - acc: 0.9492\n",
      "Epoch 94/200\n",
      "14560/14560 [==============================] - 0s 32us/step - loss: 0.1840 - acc: 0.9492\n",
      "Epoch 95/200\n",
      "14560/14560 [==============================] - 0s 33us/step - loss: 0.1840 - acc: 0.9492\n",
      "Epoch 96/200\n",
      "14560/14560 [==============================] - 0s 32us/step - loss: 0.1838 - acc: 0.9492\n",
      "Epoch 97/200\n",
      "14560/14560 [==============================] - 1s 35us/step - loss: 0.1838 - acc: 0.9492\n",
      "Epoch 98/200\n",
      "14560/14560 [==============================] - 0s 32us/step - loss: 0.1839 - acc: 0.9492\n",
      "Epoch 99/200\n",
      "14560/14560 [==============================] - 0s 31us/step - loss: 0.1838 - acc: 0.9492\n",
      "Epoch 100/200\n",
      "14560/14560 [==============================] - 0s 33us/step - loss: 0.1836 - acc: 0.9492\n",
      "Epoch 101/200\n",
      "14560/14560 [==============================] - 0s 33us/step - loss: 0.1838 - acc: 0.9492\n",
      "Epoch 102/200\n",
      "14560/14560 [==============================] - 1s 34us/step - loss: 0.1836 - acc: 0.9492\n",
      "Epoch 103/200\n",
      "14560/14560 [==============================] - 0s 33us/step - loss: 0.1834 - acc: 0.9492\n",
      "Epoch 104/200\n",
      "14560/14560 [==============================] - 0s 32us/step - loss: 0.1834 - acc: 0.9492\n",
      "Epoch 105/200\n",
      "14560/14560 [==============================] - 0s 32us/step - loss: 0.1835 - acc: 0.9492\n",
      "Epoch 106/200\n",
      "14560/14560 [==============================] - 0s 33us/step - loss: 0.1835 - acc: 0.9492\n",
      "Epoch 107/200\n",
      "14560/14560 [==============================] - 0s 33us/step - loss: 0.1833 - acc: 0.9492\n",
      "Epoch 108/200\n",
      "14560/14560 [==============================] - 0s 34us/step - loss: 0.1833 - acc: 0.9492\n",
      "Epoch 109/200\n",
      "14560/14560 [==============================] - 0s 32us/step - loss: 0.1830 - acc: 0.9492\n",
      "Epoch 110/200\n",
      "14560/14560 [==============================] - 0s 33us/step - loss: 0.1831 - acc: 0.9492\n",
      "Epoch 111/200\n",
      "14560/14560 [==============================] - 0s 31us/step - loss: 0.1831 - acc: 0.9492\n",
      "Epoch 112/200\n",
      "14560/14560 [==============================] - 0s 34us/step - loss: 0.1828 - acc: 0.9492\n",
      "Epoch 113/200\n",
      "14560/14560 [==============================] - 0s 33us/step - loss: 0.1830 - acc: 0.9492\n",
      "Epoch 114/200\n",
      "14560/14560 [==============================] - 0s 32us/step - loss: 0.1828 - acc: 0.9492\n",
      "Epoch 115/200\n",
      "14560/14560 [==============================] - 0s 32us/step - loss: 0.1828 - acc: 0.9492\n",
      "Epoch 116/200\n",
      "14560/14560 [==============================] - 0s 34us/step - loss: 0.1828 - acc: 0.9492\n",
      "Epoch 117/200\n",
      "14560/14560 [==============================] - 0s 33us/step - loss: 0.1826 - acc: 0.9492\n",
      "Epoch 118/200\n",
      "14560/14560 [==============================] - 0s 33us/step - loss: 0.1828 - acc: 0.9492\n",
      "Epoch 119/200\n",
      "14560/14560 [==============================] - 0s 34us/step - loss: 0.1827 - acc: 0.9492\n",
      "Epoch 120/200\n",
      "14560/14560 [==============================] - 0s 31us/step - loss: 0.1826 - acc: 0.9492\n",
      "Epoch 121/200\n",
      "14560/14560 [==============================] - 0s 30us/step - loss: 0.1825 - acc: 0.9492\n",
      "Epoch 122/200\n",
      "14560/14560 [==============================] - 0s 33us/step - loss: 0.1825 - acc: 0.9492\n",
      "Epoch 123/200\n",
      "14560/14560 [==============================] - 0s 34us/step - loss: 0.1824 - acc: 0.9492\n",
      "Epoch 124/200\n",
      "14560/14560 [==============================] - 0s 33us/step - loss: 0.1822 - acc: 0.9492\n",
      "Epoch 125/200\n",
      "14560/14560 [==============================] - 0s 32us/step - loss: 0.1826 - acc: 0.9492\n",
      "Epoch 126/200\n",
      "14560/14560 [==============================] - 0s 34us/step - loss: 0.1824 - acc: 0.9492\n",
      "Epoch 127/200\n",
      "14560/14560 [==============================] - 0s 31us/step - loss: 0.1823 - acc: 0.9492\n",
      "Epoch 128/200\n",
      "14560/14560 [==============================] - 0s 32us/step - loss: 0.1821 - acc: 0.9492\n",
      "Epoch 129/200\n",
      "14560/14560 [==============================] - 0s 31us/step - loss: 0.1822 - acc: 0.9492\n",
      "Epoch 130/200\n",
      "14560/14560 [==============================] - 0s 31us/step - loss: 0.1822 - acc: 0.9492\n",
      "Epoch 131/200\n",
      "14560/14560 [==============================] - 0s 32us/step - loss: 0.1823 - acc: 0.9492\n",
      "Epoch 132/200\n",
      "14560/14560 [==============================] - 0s 33us/step - loss: 0.1819 - acc: 0.9492\n",
      "Epoch 133/200\n",
      "14560/14560 [==============================] - 0s 33us/step - loss: 0.1821 - acc: 0.9492\n",
      "Epoch 134/200\n",
      "14560/14560 [==============================] - 0s 33us/step - loss: 0.1817 - acc: 0.9492\n",
      "Epoch 135/200\n",
      "14560/14560 [==============================] - 0s 31us/step - loss: 0.1819 - acc: 0.9492\n",
      "Epoch 136/200\n",
      "14560/14560 [==============================] - 0s 30us/step - loss: 0.1819 - acc: 0.9492\n",
      "Epoch 137/200\n",
      "14560/14560 [==============================] - 0s 30us/step - loss: 0.1820 - acc: 0.9492\n",
      "Epoch 138/200\n",
      "14560/14560 [==============================] - 0s 30us/step - loss: 0.1817 - acc: 0.9492\n",
      "Epoch 139/200\n",
      "14560/14560 [==============================] - 0s 31us/step - loss: 0.1817 - acc: 0.9492\n",
      "Epoch 140/200\n",
      "14560/14560 [==============================] - 0s 30us/step - loss: 0.1816 - acc: 0.9492\n",
      "Epoch 141/200\n",
      "14560/14560 [==============================] - 0s 31us/step - loss: 0.1817 - acc: 0.9492\n",
      "Epoch 142/200\n",
      "14560/14560 [==============================] - 0s 30us/step - loss: 0.1819 - acc: 0.9492\n",
      "Epoch 143/200\n",
      "14560/14560 [==============================] - 0s 31us/step - loss: 0.1817 - acc: 0.9492\n",
      "Epoch 144/200\n",
      "14560/14560 [==============================] - 0s 31us/step - loss: 0.1816 - acc: 0.9492\n",
      "Epoch 145/200\n",
      "14560/14560 [==============================] - 0s 31us/step - loss: 0.1817 - acc: 0.9492\n",
      "Epoch 146/200\n",
      "14560/14560 [==============================] - 0s 32us/step - loss: 0.1815 - acc: 0.9492\n",
      "Epoch 147/200\n",
      "14560/14560 [==============================] - 0s 33us/step - loss: 0.1818 - acc: 0.9492\n",
      "Epoch 148/200\n",
      "14560/14560 [==============================] - 0s 33us/step - loss: 0.1816 - acc: 0.9492\n",
      "Epoch 149/200\n",
      "14560/14560 [==============================] - 0s 33us/step - loss: 0.1817 - acc: 0.9492\n",
      "Epoch 150/200\n",
      "14560/14560 [==============================] - 0s 31us/step - loss: 0.1814 - acc: 0.9492\n",
      "Epoch 151/200\n",
      "14560/14560 [==============================] - 0s 31us/step - loss: 0.1814 - acc: 0.9492\n",
      "Epoch 152/200\n",
      "14560/14560 [==============================] - 0s 33us/step - loss: 0.1816 - acc: 0.9492\n",
      "Epoch 153/200\n",
      "14560/14560 [==============================] - 0s 32us/step - loss: 0.1814 - acc: 0.9492\n",
      "Epoch 154/200\n",
      "14560/14560 [==============================] - 0s 32us/step - loss: 0.1816 - acc: 0.9492\n",
      "Epoch 155/200\n",
      "14560/14560 [==============================] - 0s 33us/step - loss: 0.1817 - acc: 0.9492\n",
      "Epoch 156/200\n",
      "14560/14560 [==============================] - 0s 31us/step - loss: 0.1813 - acc: 0.9492\n",
      "Epoch 157/200\n",
      "14560/14560 [==============================] - 0s 31us/step - loss: 0.1813 - acc: 0.9492\n",
      "Epoch 158/200\n",
      "14560/14560 [==============================] - 0s 31us/step - loss: 0.1814 - acc: 0.9492\n",
      "Epoch 159/200\n",
      "14560/14560 [==============================] - 0s 32us/step - loss: 0.1814 - acc: 0.9492\n",
      "Epoch 160/200\n"
     ]
    },
    {
     "name": "stdout",
     "output_type": "stream",
     "text": [
      "14560/14560 [==============================] - 0s 31us/step - loss: 0.1813 - acc: 0.9492\n",
      "Epoch 161/200\n",
      "14560/14560 [==============================] - 0s 32us/step - loss: 0.1812 - acc: 0.9492\n",
      "Epoch 162/200\n",
      "14560/14560 [==============================] - 0s 31us/step - loss: 0.1813 - acc: 0.9492\n",
      "Epoch 163/200\n",
      "14560/14560 [==============================] - 0s 30us/step - loss: 0.1814 - acc: 0.9492\n",
      "Epoch 164/200\n",
      "14560/14560 [==============================] - 0s 31us/step - loss: 0.1810 - acc: 0.9492\n",
      "Epoch 165/200\n",
      "14560/14560 [==============================] - 0s 31us/step - loss: 0.1809 - acc: 0.9492\n",
      "Epoch 166/200\n",
      "14560/14560 [==============================] - 0s 31us/step - loss: 0.1811 - acc: 0.9492\n",
      "Epoch 167/200\n",
      "14560/14560 [==============================] - 0s 31us/step - loss: 0.1813 - acc: 0.9492\n",
      "Epoch 168/200\n",
      "14560/14560 [==============================] - 0s 32us/step - loss: 0.1809 - acc: 0.9492\n",
      "Epoch 169/200\n",
      "14560/14560 [==============================] - 0s 31us/step - loss: 0.1811 - acc: 0.9492\n",
      "Epoch 170/200\n",
      "14560/14560 [==============================] - 0s 31us/step - loss: 0.1811 - acc: 0.9492\n",
      "Epoch 171/200\n",
      "14560/14560 [==============================] - 1s 37us/step - loss: 0.1808 - acc: 0.9492\n",
      "Epoch 172/200\n",
      "14560/14560 [==============================] - 1s 42us/step - loss: 0.1807 - acc: 0.9492\n",
      "Epoch 173/200\n",
      "14560/14560 [==============================] - 1s 41us/step - loss: 0.1810 - acc: 0.9492\n",
      "Epoch 174/200\n",
      "14560/14560 [==============================] - 1s 42us/step - loss: 0.1811 - acc: 0.9492\n",
      "Epoch 175/200\n",
      "14560/14560 [==============================] - 1s 57us/step - loss: 0.1811 - acc: 0.9492\n",
      "Epoch 176/200\n",
      "14560/14560 [==============================] - 1s 72us/step - loss: 0.1808 - acc: 0.9492\n",
      "Epoch 177/200\n",
      "14560/14560 [==============================] - 1s 72us/step - loss: 0.1809 - acc: 0.9492\n",
      "Epoch 178/200\n",
      "14560/14560 [==============================] - 1s 87us/step - loss: 0.1807 - acc: 0.9492\n",
      "Epoch 179/200\n",
      "14560/14560 [==============================] - 1s 91us/step - loss: 0.1806 - acc: 0.9492\n",
      "Epoch 180/200\n",
      "14560/14560 [==============================] - 1s 103us/step - loss: 0.1809 - acc: 0.9492\n",
      "Epoch 181/200\n",
      "14560/14560 [==============================] - 2s 109us/step - loss: 0.1807 - acc: 0.9492\n",
      "Epoch 182/200\n",
      "14560/14560 [==============================] - 2s 134us/step - loss: 0.1808 - acc: 0.9492\n",
      "Epoch 183/200\n",
      "14560/14560 [==============================] - 2s 147us/step - loss: 0.1806 - acc: 0.9492\n",
      "Epoch 184/200\n",
      "14560/14560 [==============================] - 2s 172us/step - loss: 0.1807 - acc: 0.9492\n",
      "Epoch 185/200\n",
      "14560/14560 [==============================] - 3s 174us/step - loss: 0.1807 - acc: 0.9492\n",
      "Epoch 186/200\n",
      "14560/14560 [==============================] - 3s 175us/step - loss: 0.1808 - acc: 0.9492\n",
      "Epoch 187/200\n",
      "14560/14560 [==============================] - 2s 171us/step - loss: 0.1804 - acc: 0.9492\n",
      "Epoch 188/200\n",
      "14560/14560 [==============================] - 2s 168us/step - loss: 0.1805 - acc: 0.9492\n",
      "Epoch 189/200\n",
      "14560/14560 [==============================] - 2s 169us/step - loss: 0.1806 - acc: 0.9492\n",
      "Epoch 190/200\n",
      "14560/14560 [==============================] - 3s 177us/step - loss: 0.1806 - acc: 0.9492\n",
      "Epoch 191/200\n",
      "14560/14560 [==============================] - 3s 180us/step - loss: 0.1804 - acc: 0.9492\n",
      "Epoch 192/200\n",
      "14560/14560 [==============================] - 3s 174us/step - loss: 0.1806 - acc: 0.9492\n",
      "Epoch 193/200\n",
      "14560/14560 [==============================] - 2s 169us/step - loss: 0.1804 - acc: 0.9492\n",
      "Epoch 194/200\n",
      "14560/14560 [==============================] - 3s 173us/step - loss: 0.1805 - acc: 0.9492\n",
      "Epoch 195/200\n",
      "14560/14560 [==============================] - 2s 168us/step - loss: 0.1802 - acc: 0.9492\n",
      "Epoch 196/200\n",
      "14560/14560 [==============================] - 2s 170us/step - loss: 0.1804 - acc: 0.9492\n",
      "Epoch 197/200\n",
      "14560/14560 [==============================] - 2s 131us/step - loss: 0.1805 - acc: 0.9492\n",
      "Epoch 198/200\n",
      "14560/14560 [==============================] - 2s 130us/step - loss: 0.1805 - acc: 0.9492\n",
      "Epoch 199/200\n",
      "14560/14560 [==============================] - 2s 132us/step - loss: 0.1805 - acc: 0.9492\n",
      "Epoch 200/200\n",
      "14560/14560 [==============================] - 2s 134us/step - loss: 0.1805 - acc: 0.9492\n"
     ]
    },
    {
     "data": {
      "text/plain": [
       "<keras.callbacks.History at 0x7f1fa9e01240>"
      ]
     },
     "execution_count": 28,
     "metadata": {},
     "output_type": "execute_result"
    }
   ],
   "source": [
    "\n",
    "params_optimos_gb = {'criterion': 'friedman_mse','learning_rate':0.2, 'n_estimators':10, 'max_depth':5,\\\n",
    "                     'min_samples_split':0.5,'min_samples_leaf':0.1, 'subsample':0.9, 'max_features':'sqrt',\\\n",
    "                     } #'loss': 'deviance'\n",
    "\n",
    "# Creamos el gradient boosting\n",
    "gra_boost = GradientBoostingRegressor(**params_optimos_gb)\n",
    "\n",
    "naive_bayes = GaussianNB()\n",
    "\n",
    "# Initialising the NN\n",
    "nn = Sequential()\n",
    "\n",
    "# layers\n",
    "nn.add(Dense(units = 9, kernel_initializer = 'uniform', activation = 'relu', input_dim = len(features_nn)))\n",
    "nn.add(Dense(units = 9, kernel_initializer = 'uniform', activation = 'relu'))\n",
    "nn.add(Dense(units = 5, kernel_initializer = 'uniform', activation = 'relu'))\n",
    "nn.add(Dense(units = 1, kernel_initializer = 'uniform', activation = 'sigmoid'))\n",
    "\n",
    "# Compiling the ANN\n",
    "nn.compile(optimizer = 'adam', loss = 'binary_crossentropy', metrics = ['accuracy'])\n",
    "\n",
    "xgb = XGBRegressor(base_score=0.5, booster='gbtree', colsample_bylevel=1,\\\n",
    "       colsample_bytree=0.6, gamma=5, learning_rate=0.02, max_delta_step=0,\\\n",
    "       max_depth=5, min_child_weight=5, missing=None, n_estimators=600,\\\n",
    "       n_jobs=1, nthread=1, objective='binary:logistic', random_state=0,\\\n",
    "       reg_alpha=0, reg_lambda=1, scale_pos_weight=1, seed=None,\\\n",
    "       silent=True, subsample=1.0)\n",
    "ridge = KernelRidge(alpha=0.15, coef0=3.7, degree=2, kernel='polynomial')\n",
    "\n",
    "ridge.fit(x_train,y_train)\n",
    "gra_boost.fit(x_train,y_train)\n",
    "naive_bayes.fit(x_train,y_train)\n",
    "xgb.fit(x_train,y_train)\n",
    "nn.fit(x_train[:,num_col], y_train, batch_size = 32, epochs = 200)\n"
   ]
  },
  {
   "cell_type": "code",
   "execution_count": 33,
   "metadata": {},
   "outputs": [],
   "source": [
    "Y_pred = pd.DataFrame({'person' : y_test})\n",
    "Y_pred['gra_boost'] = gra_boost.predict(x_test)\n",
    "Y_pred['xgb'] = xgb.predict(x_test)\n",
    "Y_pred['nn'] = nn.predict(x_test[:,num_col])"
   ]
  },
  {
   "cell_type": "code",
   "execution_count": 34,
   "metadata": {},
   "outputs": [],
   "source": [
    "Y_pred['label'] = 0\n",
    "Y_pred['label'] = Y_pred.iloc[:, 1:3].mode(axis=1)"
   ]
  },
  {
   "cell_type": "code",
   "execution_count": 35,
   "metadata": {},
   "outputs": [
    {
     "data": {
      "text/plain": [
       "0.8539521926022252"
      ]
     },
     "execution_count": 35,
     "metadata": {},
     "output_type": "execute_result"
    }
   ],
   "source": [
    "roc_auc_score(y_test,Y_pred['label'])"
   ]
  },
  {
   "cell_type": "markdown",
   "metadata": {},
   "source": [
    "## Neural Network"
   ]
  },
  {
   "cell_type": "markdown",
   "metadata": {},
   "source": [
    "### Set de entrenamiento"
   ]
  },
  {
   "cell_type": "code",
   "execution_count": 27,
   "metadata": {
    "scrolled": true
   },
   "outputs": [
    {
     "name": "stdout",
     "output_type": "stream",
     "text": [
      "Epoch 1/200\n",
      "7836/7836 [==============================] - 1s 66us/step - loss: 0.3869 - acc: 0.9551\n",
      "Epoch 2/200\n",
      "7836/7836 [==============================] - 0s 33us/step - loss: 0.1782 - acc: 0.9587\n",
      "Epoch 3/200\n",
      "7836/7836 [==============================] - 0s 32us/step - loss: 0.1642 - acc: 0.9587\n",
      "Epoch 4/200\n",
      "7836/7836 [==============================] - 0s 34us/step - loss: 0.1592 - acc: 0.9587\n",
      "Epoch 5/200\n",
      "7836/7836 [==============================] - 0s 32us/step - loss: 0.1557 - acc: 0.9587\n",
      "Epoch 6/200\n",
      "7836/7836 [==============================] - 0s 32us/step - loss: 0.1537 - acc: 0.9587\n",
      "Epoch 7/200\n",
      "7836/7836 [==============================] - 0s 33us/step - loss: 0.1523 - acc: 0.9587\n",
      "Epoch 8/200\n",
      "7836/7836 [==============================] - 0s 32us/step - loss: 0.1504 - acc: 0.9587\n",
      "Epoch 9/200\n",
      "7836/7836 [==============================] - 0s 34us/step - loss: 0.1493 - acc: 0.9587\n",
      "Epoch 10/200\n",
      "7836/7836 [==============================] - 0s 34us/step - loss: 0.1485 - acc: 0.9587\n",
      "Epoch 11/200\n",
      "7836/7836 [==============================] - 0s 34us/step - loss: 0.1476 - acc: 0.9587\n",
      "Epoch 12/200\n",
      "7836/7836 [==============================] - 0s 34us/step - loss: 0.1471 - acc: 0.9587\n",
      "Epoch 13/200\n",
      "7836/7836 [==============================] - 0s 35us/step - loss: 0.1463 - acc: 0.9587\n",
      "Epoch 14/200\n",
      "7836/7836 [==============================] - 0s 35us/step - loss: 0.1457 - acc: 0.9587\n",
      "Epoch 15/200\n",
      "7836/7836 [==============================] - 0s 34us/step - loss: 0.1456 - acc: 0.9587\n",
      "Epoch 16/200\n",
      "7836/7836 [==============================] - 0s 36us/step - loss: 0.1448 - acc: 0.9587\n",
      "Epoch 17/200\n",
      "7836/7836 [==============================] - 0s 32us/step - loss: 0.1445 - acc: 0.9587\n",
      "Epoch 18/200\n",
      "7836/7836 [==============================] - 0s 36us/step - loss: 0.1441 - acc: 0.9587\n",
      "Epoch 19/200\n",
      "7836/7836 [==============================] - 0s 32us/step - loss: 0.1442 - acc: 0.9587\n",
      "Epoch 20/200\n",
      "7836/7836 [==============================] - 0s 35us/step - loss: 0.1432 - acc: 0.9587\n",
      "Epoch 21/200\n",
      "7836/7836 [==============================] - 0s 32us/step - loss: 0.1432 - acc: 0.9587\n",
      "Epoch 22/200\n",
      "7836/7836 [==============================] - 0s 35us/step - loss: 0.1427 - acc: 0.9587\n",
      "Epoch 23/200\n",
      "7836/7836 [==============================] - 0s 31us/step - loss: 0.1430 - acc: 0.9587\n",
      "Epoch 24/200\n",
      "7836/7836 [==============================] - 0s 35us/step - loss: 0.1425 - acc: 0.9587\n",
      "Epoch 25/200\n",
      "7836/7836 [==============================] - 0s 34us/step - loss: 0.1421 - acc: 0.9587\n",
      "Epoch 26/200\n",
      "7836/7836 [==============================] - 0s 34us/step - loss: 0.1422 - acc: 0.9587\n",
      "Epoch 27/200\n",
      "7836/7836 [==============================] - 0s 32us/step - loss: 0.1419 - acc: 0.9587\n",
      "Epoch 28/200\n",
      "7836/7836 [==============================] - 0s 32us/step - loss: 0.1417 - acc: 0.9587\n",
      "Epoch 29/200\n",
      "7836/7836 [==============================] - 0s 31us/step - loss: 0.1417 - acc: 0.9587\n",
      "Epoch 30/200\n",
      "7836/7836 [==============================] - 0s 31us/step - loss: 0.1416 - acc: 0.9587\n",
      "Epoch 31/200\n",
      "7836/7836 [==============================] - 0s 31us/step - loss: 0.1413 - acc: 0.9587\n",
      "Epoch 32/200\n",
      "7836/7836 [==============================] - 0s 31us/step - loss: 0.1412 - acc: 0.9587\n",
      "Epoch 33/200\n",
      "7836/7836 [==============================] - 0s 31us/step - loss: 0.1409 - acc: 0.9587\n",
      "Epoch 34/200\n",
      "7836/7836 [==============================] - 0s 31us/step - loss: 0.1409 - acc: 0.9587\n",
      "Epoch 35/200\n",
      "7836/7836 [==============================] - 0s 31us/step - loss: 0.1411 - acc: 0.9587\n",
      "Epoch 36/200\n",
      "7836/7836 [==============================] - 0s 32us/step - loss: 0.1410 - acc: 0.9587\n",
      "Epoch 37/200\n",
      "7836/7836 [==============================] - 0s 31us/step - loss: 0.1407 - acc: 0.9587\n",
      "Epoch 38/200\n",
      "7836/7836 [==============================] - 0s 32us/step - loss: 0.1409 - acc: 0.9587\n",
      "Epoch 39/200\n",
      "7836/7836 [==============================] - 0s 32us/step - loss: 0.1405 - acc: 0.9587\n",
      "Epoch 40/200\n",
      "7836/7836 [==============================] - 0s 31us/step - loss: 0.1406 - acc: 0.9587\n",
      "Epoch 41/200\n",
      "7836/7836 [==============================] - 0s 34us/step - loss: 0.1403 - acc: 0.9587\n",
      "Epoch 42/200\n",
      "7836/7836 [==============================] - 0s 36us/step - loss: 0.1402 - acc: 0.9587\n",
      "Epoch 43/200\n",
      "7836/7836 [==============================] - 0s 33us/step - loss: 0.1404 - acc: 0.9587\n",
      "Epoch 44/200\n",
      "7836/7836 [==============================] - 0s 35us/step - loss: 0.1396 - acc: 0.9587\n",
      "Epoch 45/200\n",
      "7836/7836 [==============================] - 0s 34us/step - loss: 0.1403 - acc: 0.9587\n",
      "Epoch 46/200\n",
      "7836/7836 [==============================] - 0s 33us/step - loss: 0.1399 - acc: 0.9587\n",
      "Epoch 47/200\n",
      "7836/7836 [==============================] - 0s 34us/step - loss: 0.1398 - acc: 0.9587\n",
      "Epoch 48/200\n",
      "7836/7836 [==============================] - 0s 35us/step - loss: 0.1394 - acc: 0.9587\n",
      "Epoch 49/200\n",
      "7836/7836 [==============================] - 0s 34us/step - loss: 0.1397 - acc: 0.9587\n",
      "Epoch 50/200\n",
      "7836/7836 [==============================] - 0s 32us/step - loss: 0.1397 - acc: 0.9587\n",
      "Epoch 51/200\n",
      "7836/7836 [==============================] - 0s 32us/step - loss: 0.1399 - acc: 0.9587\n",
      "Epoch 52/200\n",
      "7836/7836 [==============================] - 0s 31us/step - loss: 0.1393 - acc: 0.9587\n",
      "Epoch 53/200\n",
      "7836/7836 [==============================] - 0s 32us/step - loss: 0.1395 - acc: 0.9587\n",
      "Epoch 54/200\n",
      "7836/7836 [==============================] - 0s 31us/step - loss: 0.1394 - acc: 0.9587\n",
      "Epoch 55/200\n",
      "7836/7836 [==============================] - 0s 32us/step - loss: 0.1395 - acc: 0.9587\n",
      "Epoch 56/200\n",
      "7836/7836 [==============================] - 0s 32us/step - loss: 0.1388 - acc: 0.9587\n",
      "Epoch 57/200\n",
      "7836/7836 [==============================] - 0s 34us/step - loss: 0.1389 - acc: 0.9587\n",
      "Epoch 58/200\n",
      "7836/7836 [==============================] - 0s 34us/step - loss: 0.1392 - acc: 0.9587\n",
      "Epoch 59/200\n",
      "7836/7836 [==============================] - 0s 33us/step - loss: 0.1386 - acc: 0.9587\n",
      "Epoch 60/200\n",
      "7836/7836 [==============================] - 0s 32us/step - loss: 0.1386 - acc: 0.9587\n",
      "Epoch 61/200\n",
      "7836/7836 [==============================] - 0s 34us/step - loss: 0.1387 - acc: 0.9587\n",
      "Epoch 62/200\n",
      "7836/7836 [==============================] - 0s 33us/step - loss: 0.1389 - acc: 0.9587\n",
      "Epoch 63/200\n",
      "7836/7836 [==============================] - 0s 32us/step - loss: 0.1387 - acc: 0.9587\n",
      "Epoch 64/200\n",
      "7836/7836 [==============================] - 0s 33us/step - loss: 0.1386 - acc: 0.9587\n",
      "Epoch 65/200\n",
      "7836/7836 [==============================] - 0s 33us/step - loss: 0.1384 - acc: 0.9587\n",
      "Epoch 66/200\n",
      "7836/7836 [==============================] - 0s 34us/step - loss: 0.1380 - acc: 0.9587\n",
      "Epoch 67/200\n",
      "7836/7836 [==============================] - 0s 33us/step - loss: 0.1384 - acc: 0.9587\n",
      "Epoch 68/200\n",
      "7836/7836 [==============================] - 0s 33us/step - loss: 0.1378 - acc: 0.9587\n",
      "Epoch 69/200\n",
      "7836/7836 [==============================] - 0s 33us/step - loss: 0.1377 - acc: 0.9587\n",
      "Epoch 70/200\n",
      "7836/7836 [==============================] - 0s 33us/step - loss: 0.1379 - acc: 0.9587\n",
      "Epoch 71/200\n",
      "7836/7836 [==============================] - 0s 32us/step - loss: 0.1372 - acc: 0.9587\n",
      "Epoch 72/200\n",
      "7836/7836 [==============================] - 0s 34us/step - loss: 0.1375 - acc: 0.9587\n",
      "Epoch 73/200\n",
      "7836/7836 [==============================] - 0s 33us/step - loss: 0.1377 - acc: 0.9587\n",
      "Epoch 74/200\n",
      "7836/7836 [==============================] - 0s 33us/step - loss: 0.1375 - acc: 0.9587\n",
      "Epoch 75/200\n",
      "7836/7836 [==============================] - 0s 33us/step - loss: 0.1375 - acc: 0.9587\n",
      "Epoch 76/200\n",
      "7836/7836 [==============================] - 0s 31us/step - loss: 0.1369 - acc: 0.9587\n",
      "Epoch 77/200\n",
      "7836/7836 [==============================] - 0s 32us/step - loss: 0.1370 - acc: 0.9587\n",
      "Epoch 78/200\n",
      "7836/7836 [==============================] - 0s 32us/step - loss: 0.1369 - acc: 0.9587\n",
      "Epoch 79/200\n",
      "7836/7836 [==============================] - 0s 32us/step - loss: 0.1368 - acc: 0.9587\n",
      "Epoch 80/200\n",
      "7836/7836 [==============================] - 0s 31us/step - loss: 0.1363 - acc: 0.9587\n",
      "Epoch 81/200\n",
      "7836/7836 [==============================] - 0s 33us/step - loss: 0.1367 - acc: 0.9587\n",
      "Epoch 82/200\n",
      "7836/7836 [==============================] - 0s 34us/step - loss: 0.1361 - acc: 0.9587\n",
      "Epoch 83/200\n"
     ]
    },
    {
     "name": "stdout",
     "output_type": "stream",
     "text": [
      "7836/7836 [==============================] - 0s 34us/step - loss: 0.1362 - acc: 0.9587\n",
      "Epoch 84/200\n",
      "7836/7836 [==============================] - 0s 36us/step - loss: 0.1359 - acc: 0.9587\n",
      "Epoch 85/200\n",
      "7836/7836 [==============================] - 0s 35us/step - loss: 0.1360 - acc: 0.9587\n",
      "Epoch 86/200\n",
      "7836/7836 [==============================] - 0s 36us/step - loss: 0.1358 - acc: 0.9587\n",
      "Epoch 87/200\n",
      "7836/7836 [==============================] - 0s 34us/step - loss: 0.1355 - acc: 0.9587\n",
      "Epoch 88/200\n",
      "7836/7836 [==============================] - 0s 34us/step - loss: 0.1356 - acc: 0.9587\n",
      "Epoch 89/200\n",
      "7836/7836 [==============================] - 0s 36us/step - loss: 0.1358 - acc: 0.9587\n",
      "Epoch 90/200\n",
      "7836/7836 [==============================] - 0s 34us/step - loss: 0.1356 - acc: 0.9587\n",
      "Epoch 91/200\n",
      "7836/7836 [==============================] - 0s 32us/step - loss: 0.1355 - acc: 0.9587\n",
      "Epoch 92/200\n",
      "7836/7836 [==============================] - 0s 34us/step - loss: 0.1353 - acc: 0.9587\n",
      "Epoch 93/200\n",
      "7836/7836 [==============================] - 0s 33us/step - loss: 0.1348 - acc: 0.9587\n",
      "Epoch 94/200\n",
      "7836/7836 [==============================] - 0s 34us/step - loss: 0.1354 - acc: 0.9587\n",
      "Epoch 95/200\n",
      "7836/7836 [==============================] - 0s 33us/step - loss: 0.1352 - acc: 0.9587\n",
      "Epoch 96/200\n",
      "7836/7836 [==============================] - 0s 36us/step - loss: 0.1348 - acc: 0.9587\n",
      "Epoch 97/200\n",
      "7836/7836 [==============================] - 0s 34us/step - loss: 0.1348 - acc: 0.9587\n",
      "Epoch 98/200\n",
      "7836/7836 [==============================] - 0s 32us/step - loss: 0.1347 - acc: 0.9587\n",
      "Epoch 99/200\n",
      "7836/7836 [==============================] - 0s 31us/step - loss: 0.1352 - acc: 0.9587\n",
      "Epoch 100/200\n",
      "7836/7836 [==============================] - 0s 31us/step - loss: 0.1346 - acc: 0.9587\n",
      "Epoch 101/200\n",
      "7836/7836 [==============================] - 0s 33us/step - loss: 0.1349 - acc: 0.9587\n",
      "Epoch 102/200\n",
      "7836/7836 [==============================] - 0s 35us/step - loss: 0.1346 - acc: 0.9587\n",
      "Epoch 103/200\n",
      "7836/7836 [==============================] - 0s 36us/step - loss: 0.1347 - acc: 0.9587\n",
      "Epoch 104/200\n",
      "7836/7836 [==============================] - 0s 35us/step - loss: 0.1342 - acc: 0.9587\n",
      "Epoch 105/200\n",
      "7836/7836 [==============================] - 0s 34us/step - loss: 0.1341 - acc: 0.9587\n",
      "Epoch 106/200\n",
      "7836/7836 [==============================] - 0s 35us/step - loss: 0.1344 - acc: 0.9587\n",
      "Epoch 107/200\n",
      "7836/7836 [==============================] - 0s 33us/step - loss: 0.1337 - acc: 0.9587\n",
      "Epoch 108/200\n",
      "7836/7836 [==============================] - 0s 33us/step - loss: 0.1346 - acc: 0.9587\n",
      "Epoch 109/200\n",
      "7836/7836 [==============================] - 0s 33us/step - loss: 0.1336 - acc: 0.9587\n",
      "Epoch 110/200\n",
      "7836/7836 [==============================] - 0s 33us/step - loss: 0.1338 - acc: 0.9587\n",
      "Epoch 111/200\n",
      "7836/7836 [==============================] - 0s 33us/step - loss: 0.1334 - acc: 0.9587\n",
      "Epoch 112/200\n",
      "7836/7836 [==============================] - 0s 35us/step - loss: 0.1341 - acc: 0.9587\n",
      "Epoch 113/200\n",
      "7836/7836 [==============================] - 0s 33us/step - loss: 0.1332 - acc: 0.9589\n",
      "Epoch 114/200\n",
      "7836/7836 [==============================] - 0s 35us/step - loss: 0.1341 - acc: 0.9594\n",
      "Epoch 115/200\n",
      "7836/7836 [==============================] - 0s 33us/step - loss: 0.1336 - acc: 0.9599\n",
      "Epoch 116/200\n",
      "7836/7836 [==============================] - 0s 34us/step - loss: 0.1333 - acc: 0.9611\n",
      "Epoch 117/200\n",
      "7836/7836 [==============================] - 0s 35us/step - loss: 0.1338 - acc: 0.9595\n",
      "Epoch 118/200\n",
      "7836/7836 [==============================] - 0s 33us/step - loss: 0.1335 - acc: 0.9609\n",
      "Epoch 119/200\n",
      "7836/7836 [==============================] - 0s 34us/step - loss: 0.1338 - acc: 0.9606\n",
      "Epoch 120/200\n",
      "7836/7836 [==============================] - 0s 36us/step - loss: 0.1329 - acc: 0.9602\n",
      "Epoch 121/200\n",
      "7836/7836 [==============================] - 0s 36us/step - loss: 0.1337 - acc: 0.9616\n",
      "Epoch 122/200\n",
      "7836/7836 [==============================] - 0s 33us/step - loss: 0.1335 - acc: 0.9606\n",
      "Epoch 123/200\n",
      "7836/7836 [==============================] - 0s 36us/step - loss: 0.1331 - acc: 0.9606\n",
      "Epoch 124/200\n",
      "7836/7836 [==============================] - 0s 35us/step - loss: 0.1329 - acc: 0.9612\n",
      "Epoch 125/200\n",
      "7836/7836 [==============================] - 0s 35us/step - loss: 0.1334 - acc: 0.9604\n",
      "Epoch 126/200\n",
      "7836/7836 [==============================] - 0s 36us/step - loss: 0.1328 - acc: 0.9609\n",
      "Epoch 127/200\n",
      "7836/7836 [==============================] - 0s 33us/step - loss: 0.1328 - acc: 0.9606\n",
      "Epoch 128/200\n",
      "7836/7836 [==============================] - 0s 34us/step - loss: 0.1330 - acc: 0.9606\n",
      "Epoch 129/200\n",
      "7836/7836 [==============================] - 0s 32us/step - loss: 0.1334 - acc: 0.9608\n",
      "Epoch 130/200\n",
      "7836/7836 [==============================] - 0s 33us/step - loss: 0.1339 - acc: 0.9603\n",
      "Epoch 131/200\n",
      "7836/7836 [==============================] - 0s 36us/step - loss: 0.1332 - acc: 0.9609\n",
      "Epoch 132/200\n",
      "7836/7836 [==============================] - 0s 36us/step - loss: 0.1327 - acc: 0.9606\n",
      "Epoch 133/200\n",
      "7836/7836 [==============================] - 0s 35us/step - loss: 0.1332 - acc: 0.9608\n",
      "Epoch 134/200\n",
      "7836/7836 [==============================] - 0s 34us/step - loss: 0.1323 - acc: 0.9609\n",
      "Epoch 135/200\n",
      "7836/7836 [==============================] - 0s 34us/step - loss: 0.1326 - acc: 0.9608\n",
      "Epoch 136/200\n",
      "7836/7836 [==============================] - 0s 35us/step - loss: 0.1323 - acc: 0.9615\n",
      "Epoch 137/200\n",
      "7836/7836 [==============================] - 0s 34us/step - loss: 0.1324 - acc: 0.9620\n",
      "Epoch 138/200\n",
      "7836/7836 [==============================] - 0s 35us/step - loss: 0.1326 - acc: 0.9607\n",
      "Epoch 139/200\n",
      "7836/7836 [==============================] - 0s 36us/step - loss: 0.1321 - acc: 0.9611\n",
      "Epoch 140/200\n",
      "7836/7836 [==============================] - 0s 37us/step - loss: 0.1323 - acc: 0.9612\n",
      "Epoch 141/200\n",
      "7836/7836 [==============================] - 0s 37us/step - loss: 0.1330 - acc: 0.9604\n",
      "Epoch 142/200\n",
      "7836/7836 [==============================] - 0s 34us/step - loss: 0.1325 - acc: 0.9608\n",
      "Epoch 143/200\n",
      "7836/7836 [==============================] - 0s 33us/step - loss: 0.1325 - acc: 0.9616\n",
      "Epoch 144/200\n",
      "7836/7836 [==============================] - 0s 34us/step - loss: 0.1322 - acc: 0.9612\n",
      "Epoch 145/200\n",
      "7836/7836 [==============================] - 0s 33us/step - loss: 0.1320 - acc: 0.9617\n",
      "Epoch 146/200\n",
      "7836/7836 [==============================] - 0s 31us/step - loss: 0.1324 - acc: 0.9604\n",
      "Epoch 147/200\n",
      "7836/7836 [==============================] - 0s 31us/step - loss: 0.1321 - acc: 0.9609\n",
      "Epoch 148/200\n",
      "7836/7836 [==============================] - 0s 32us/step - loss: 0.1320 - acc: 0.9612\n",
      "Epoch 149/200\n",
      "7836/7836 [==============================] - 0s 32us/step - loss: 0.1322 - acc: 0.9617\n",
      "Epoch 150/200\n",
      "7836/7836 [==============================] - 0s 32us/step - loss: 0.1320 - acc: 0.9615\n",
      "Epoch 151/200\n",
      "7836/7836 [==============================] - 0s 32us/step - loss: 0.1320 - acc: 0.9611\n",
      "Epoch 152/200\n",
      "7836/7836 [==============================] - 0s 31us/step - loss: 0.1316 - acc: 0.9616\n",
      "Epoch 153/200\n",
      "7836/7836 [==============================] - 0s 31us/step - loss: 0.1318 - acc: 0.9611\n",
      "Epoch 154/200\n",
      "7836/7836 [==============================] - 0s 32us/step - loss: 0.1325 - acc: 0.9611\n",
      "Epoch 155/200\n",
      "7836/7836 [==============================] - 0s 32us/step - loss: 0.1325 - acc: 0.9607\n",
      "Epoch 156/200\n",
      "7836/7836 [==============================] - 0s 32us/step - loss: 0.1315 - acc: 0.9613\n",
      "Epoch 157/200\n",
      "7836/7836 [==============================] - 0s 32us/step - loss: 0.1322 - acc: 0.9603\n",
      "Epoch 158/200\n",
      "7836/7836 [==============================] - 0s 32us/step - loss: 0.1311 - acc: 0.9624\n",
      "Epoch 159/200\n",
      "7836/7836 [==============================] - 0s 31us/step - loss: 0.1325 - acc: 0.9594\n",
      "Epoch 160/200\n",
      "7836/7836 [==============================] - 0s 32us/step - loss: 0.1318 - acc: 0.9620\n",
      "Epoch 161/200\n",
      "7836/7836 [==============================] - 0s 31us/step - loss: 0.1319 - acc: 0.9612\n",
      "Epoch 162/200\n",
      "7836/7836 [==============================] - 0s 31us/step - loss: 0.1312 - acc: 0.9613\n",
      "Epoch 163/200\n",
      "7836/7836 [==============================] - 0s 33us/step - loss: 0.1312 - acc: 0.9613\n",
      "Epoch 164/200\n",
      "7836/7836 [==============================] - 0s 33us/step - loss: 0.1315 - acc: 0.9609\n",
      "Epoch 165/200\n",
      "7836/7836 [==============================] - 0s 35us/step - loss: 0.1310 - acc: 0.9620\n",
      "Epoch 166/200\n",
      "7836/7836 [==============================] - 0s 33us/step - loss: 0.1312 - acc: 0.9621\n",
      "Epoch 167/200\n",
      "7836/7836 [==============================] - 0s 32us/step - loss: 0.1312 - acc: 0.9617\n",
      "Epoch 168/200\n",
      "7836/7836 [==============================] - 0s 32us/step - loss: 0.1314 - acc: 0.9616\n",
      "Epoch 169/200\n",
      "7836/7836 [==============================] - 0s 32us/step - loss: 0.1313 - acc: 0.9617\n",
      "Epoch 170/200\n",
      "7836/7836 [==============================] - 0s 31us/step - loss: 0.1304 - acc: 0.9624\n",
      "Epoch 171/200\n",
      "7836/7836 [==============================] - 0s 32us/step - loss: 0.1312 - acc: 0.9618\n",
      "Epoch 172/200\n",
      "7836/7836 [==============================] - 0s 32us/step - loss: 0.1303 - acc: 0.9621\n",
      "Epoch 173/200\n",
      "7836/7836 [==============================] - 0s 31us/step - loss: 0.1310 - acc: 0.9616\n",
      "Epoch 174/200\n",
      "7836/7836 [==============================] - 0s 32us/step - loss: 0.1308 - acc: 0.9618\n",
      "Epoch 175/200\n",
      "7836/7836 [==============================] - 0s 36us/step - loss: 0.1303 - acc: 0.9616\n",
      "Epoch 176/200\n",
      "7836/7836 [==============================] - 0s 34us/step - loss: 0.1310 - acc: 0.9612\n",
      "Epoch 177/200\n",
      "7836/7836 [==============================] - 0s 33us/step - loss: 0.1307 - acc: 0.9615\n",
      "Epoch 178/200\n",
      "7836/7836 [==============================] - 0s 32us/step - loss: 0.1319 - acc: 0.9611\n",
      "Epoch 179/200\n",
      "7836/7836 [==============================] - 0s 32us/step - loss: 0.1310 - acc: 0.9626\n",
      "Epoch 180/200\n",
      "7836/7836 [==============================] - 0s 34us/step - loss: 0.1300 - acc: 0.9622\n",
      "Epoch 181/200\n",
      "7836/7836 [==============================] - 0s 34us/step - loss: 0.1304 - acc: 0.9616\n",
      "Epoch 182/200\n",
      "7836/7836 [==============================] - 0s 34us/step - loss: 0.1312 - acc: 0.9612\n",
      "Epoch 183/200\n",
      "7836/7836 [==============================] - 0s 33us/step - loss: 0.1302 - acc: 0.9617\n",
      "Epoch 184/200\n",
      "7836/7836 [==============================] - 0s 34us/step - loss: 0.1302 - acc: 0.9618\n",
      "Epoch 185/200\n",
      "7836/7836 [==============================] - 0s 34us/step - loss: 0.1305 - acc: 0.9616\n",
      "Epoch 186/200\n",
      "7836/7836 [==============================] - 0s 32us/step - loss: 0.1302 - acc: 0.9626\n",
      "Epoch 187/200\n",
      "7836/7836 [==============================] - 0s 34us/step - loss: 0.1300 - acc: 0.9617\n",
      "Epoch 188/200\n",
      "7836/7836 [==============================] - 0s 32us/step - loss: 0.1301 - acc: 0.9616\n",
      "Epoch 189/200\n",
      "7836/7836 [==============================] - 0s 31us/step - loss: 0.1307 - acc: 0.9620\n",
      "Epoch 190/200\n",
      "7836/7836 [==============================] - 0s 32us/step - loss: 0.1303 - acc: 0.9621\n",
      "Epoch 191/200\n",
      "7836/7836 [==============================] - 0s 33us/step - loss: 0.1302 - acc: 0.9617\n",
      "Epoch 192/200\n",
      "7836/7836 [==============================] - 0s 33us/step - loss: 0.1295 - acc: 0.9622\n",
      "Epoch 193/200\n",
      "7836/7836 [==============================] - 0s 34us/step - loss: 0.1302 - acc: 0.9621\n",
      "Epoch 194/200\n",
      "7836/7836 [==============================] - 0s 34us/step - loss: 0.1297 - acc: 0.9616\n",
      "Epoch 195/200\n",
      "7836/7836 [==============================] - 0s 34us/step - loss: 0.1292 - acc: 0.9631\n",
      "Epoch 196/200\n",
      "7836/7836 [==============================] - 0s 33us/step - loss: 0.1299 - acc: 0.9618\n",
      "Epoch 197/200\n",
      "7836/7836 [==============================] - 0s 32us/step - loss: 0.1294 - acc: 0.9627\n",
      "Epoch 198/200\n",
      "7836/7836 [==============================] - 0s 32us/step - loss: 0.1292 - acc: 0.9622\n",
      "Epoch 199/200\n",
      "7836/7836 [==============================] - 0s 32us/step - loss: 0.1296 - acc: 0.9622\n",
      "Epoch 200/200\n",
      "7836/7836 [==============================] - 0s 32us/step - loss: 0.1294 - acc: 0.9618\n"
     ]
    },
    {
     "data": {
      "text/plain": [
       "<keras.callbacks.History at 0x7f521c03e7b8>"
      ]
     },
     "execution_count": 27,
     "metadata": {},
     "output_type": "execute_result"
    }
   ],
   "source": [
    "# Initialising the NN\n",
    "model = Sequential()\n",
    "\n",
    "# layers\n",
    "model.add(Dense(units = 9, kernel_initializer = 'uniform', activation = 'relu', input_dim = len(features)))\n",
    "model.add(Dense(units = 9, kernel_initializer = 'uniform', activation = 'relu'))\n",
    "model.add(Dense(units = 5, kernel_initializer = 'uniform', activation = 'relu'))\n",
    "model.add(Dense(units = 1, kernel_initializer = 'uniform', activation = 'sigmoid'))\n",
    "\n",
    "# Compiling the ANN\n",
    "model.compile(optimizer = 'adam', loss = 'binary_crossentropy', metrics = ['accuracy'])\n",
    "\n",
    "# Train the ANN\n",
    "model.fit(x_train, y_train, batch_size = 32, epochs = 200)"
   ]
  },
  {
   "cell_type": "code",
   "execution_count": 28,
   "metadata": {
    "scrolled": true
   },
   "outputs": [
    {
     "data": {
      "text/plain": [
       "0.7960543873695448"
      ]
     },
     "execution_count": 28,
     "metadata": {},
     "output_type": "execute_result"
    }
   ],
   "source": [
    "y_pred = model.predict(x_test)\n",
    "precision = roc_auc_score(y_test,y_pred)\n",
    "precision"
   ]
  },
  {
   "cell_type": "markdown",
   "metadata": {},
   "source": [
    "### Prediccion del test final"
   ]
  },
  {
   "cell_type": "code",
   "execution_count": 240,
   "metadata": {
    "scrolled": true
   },
   "outputs": [
    {
     "name": "stdout",
     "output_type": "stream",
     "text": [
      "Epoch 1/200\n",
      "19414/19414 [==============================] - 3s 143us/step - loss: 0.2797 - acc: 0.9492\n",
      "Epoch 2/200\n",
      "19414/19414 [==============================] - 1s 64us/step - loss: 0.1869 - acc: 0.9495\n",
      "Epoch 3/200\n",
      "19414/19414 [==============================] - 1s 65us/step - loss: 0.1801 - acc: 0.9495\n",
      "Epoch 4/200\n",
      "19414/19414 [==============================] - 1s 67us/step - loss: 0.1775 - acc: 0.9495\n",
      "Epoch 5/200\n",
      "19414/19414 [==============================] - 1s 66us/step - loss: 0.1754 - acc: 0.9495\n",
      "Epoch 6/200\n",
      "19414/19414 [==============================] - 1s 67us/step - loss: 0.1740 - acc: 0.9495\n",
      "Epoch 7/200\n",
      "19414/19414 [==============================] - 1s 67us/step - loss: 0.1734 - acc: 0.9495\n",
      "Epoch 8/200\n",
      "19414/19414 [==============================] - 1s 64us/step - loss: 0.1724 - acc: 0.9495\n",
      "Epoch 9/200\n",
      "19414/19414 [==============================] - 1s 69us/step - loss: 0.1719 - acc: 0.9495\n",
      "Epoch 10/200\n",
      "19414/19414 [==============================] - 1s 69us/step - loss: 0.1713 - acc: 0.9495\n",
      "Epoch 11/200\n",
      "19414/19414 [==============================] - 1s 71us/step - loss: 0.1707 - acc: 0.9495\n",
      "Epoch 12/200\n",
      "19414/19414 [==============================] - 1s 70us/step - loss: 0.1701 - acc: 0.9495\n",
      "Epoch 13/200\n",
      "19414/19414 [==============================] - 1s 65us/step - loss: 0.1697 - acc: 0.9495\n",
      "Epoch 14/200\n",
      "19414/19414 [==============================] - 1s 63us/step - loss: 0.1696 - acc: 0.9495\n",
      "Epoch 15/200\n",
      "19414/19414 [==============================] - 1s 62us/step - loss: 0.1695 - acc: 0.9495\n",
      "Epoch 16/200\n",
      "19414/19414 [==============================] - 1s 67us/step - loss: 0.1691 - acc: 0.9495\n",
      "Epoch 17/200\n",
      "19414/19414 [==============================] - 1s 71us/step - loss: 0.1687 - acc: 0.9495\n",
      "Epoch 18/200\n",
      "19414/19414 [==============================] - 1s 69us/step - loss: 0.1687 - acc: 0.9495\n",
      "Epoch 19/200\n",
      "19414/19414 [==============================] - 1s 65us/step - loss: 0.1687 - acc: 0.9495\n",
      "Epoch 20/200\n",
      "19414/19414 [==============================] - 1s 61us/step - loss: 0.1686 - acc: 0.9495\n",
      "Epoch 21/200\n",
      "19414/19414 [==============================] - 1s 58us/step - loss: 0.1685 - acc: 0.9495\n",
      "Epoch 22/200\n",
      "19414/19414 [==============================] - 1s 61us/step - loss: 0.1683 - acc: 0.9495\n",
      "Epoch 23/200\n",
      "19414/19414 [==============================] - 1s 59us/step - loss: 0.1682 - acc: 0.9495\n",
      "Epoch 24/200\n",
      "19414/19414 [==============================] - 1s 61us/step - loss: 0.1678 - acc: 0.9495\n",
      "Epoch 25/200\n",
      "19414/19414 [==============================] - 1s 58us/step - loss: 0.1678 - acc: 0.9495\n",
      "Epoch 26/200\n",
      "19414/19414 [==============================] - 1s 64us/step - loss: 0.1674 - acc: 0.9495\n",
      "Epoch 27/200\n",
      "19414/19414 [==============================] - 1s 59us/step - loss: 0.1680 - acc: 0.9495\n",
      "Epoch 28/200\n",
      "19414/19414 [==============================] - 1s 60us/step - loss: 0.1673 - acc: 0.9495\n",
      "Epoch 29/200\n",
      "19414/19414 [==============================] - 1s 59us/step - loss: 0.1674 - acc: 0.9495\n",
      "Epoch 30/200\n",
      "19414/19414 [==============================] - 1s 62us/step - loss: 0.1673 - acc: 0.9495\n",
      "Epoch 31/200\n",
      "19414/19414 [==============================] - 1s 62us/step - loss: 0.1676 - acc: 0.9495\n",
      "Epoch 32/200\n",
      "19414/19414 [==============================] - 1s 64us/step - loss: 0.1671 - acc: 0.9495\n",
      "Epoch 33/200\n",
      "19414/19414 [==============================] - 1s 59us/step - loss: 0.1673 - acc: 0.9495\n",
      "Epoch 34/200\n",
      "19414/19414 [==============================] - 1s 58us/step - loss: 0.1673 - acc: 0.9495\n",
      "Epoch 35/200\n",
      "19414/19414 [==============================] - 1s 58us/step - loss: 0.1669 - acc: 0.9495\n",
      "Epoch 36/200\n",
      "19414/19414 [==============================] - 1s 58us/step - loss: 0.1671 - acc: 0.9495\n",
      "Epoch 37/200\n",
      "19414/19414 [==============================] - 1s 59us/step - loss: 0.1668 - acc: 0.9495\n",
      "Epoch 38/200\n",
      "19414/19414 [==============================] - 1s 60us/step - loss: 0.1665 - acc: 0.9495\n",
      "Epoch 39/200\n",
      "19414/19414 [==============================] - 1s 58us/step - loss: 0.1669 - acc: 0.9495\n",
      "Epoch 40/200\n",
      "19414/19414 [==============================] - 1s 69us/step - loss: 0.1666 - acc: 0.9495\n",
      "Epoch 41/200\n",
      "19414/19414 [==============================] - 1s 59us/step - loss: 0.1666 - acc: 0.9495\n",
      "Epoch 42/200\n",
      "19414/19414 [==============================] - 1s 67us/step - loss: 0.1667 - acc: 0.9495\n",
      "Epoch 43/200\n",
      "19414/19414 [==============================] - 1s 69us/step - loss: 0.1664 - acc: 0.9495\n",
      "Epoch 44/200\n",
      "19414/19414 [==============================] - 1s 66us/step - loss: 0.1664 - acc: 0.9495\n",
      "Epoch 45/200\n",
      "19414/19414 [==============================] - 1s 70us/step - loss: 0.1664 - acc: 0.9495\n",
      "Epoch 46/200\n",
      "19414/19414 [==============================] - 1s 70us/step - loss: 0.1665 - acc: 0.9495\n",
      "Epoch 47/200\n",
      "19414/19414 [==============================] - 1s 73us/step - loss: 0.1659 - acc: 0.9495\n",
      "Epoch 48/200\n",
      "19414/19414 [==============================] - 1s 71us/step - loss: 0.1662 - acc: 0.9495\n",
      "Epoch 49/200\n",
      "19414/19414 [==============================] - 1s 73us/step - loss: 0.1665 - acc: 0.9495\n",
      "Epoch 50/200\n",
      "19414/19414 [==============================] - 1s 69us/step - loss: 0.1660 - acc: 0.9495\n",
      "Epoch 51/200\n",
      "19414/19414 [==============================] - 1s 73us/step - loss: 0.1663 - acc: 0.9495\n",
      "Epoch 52/200\n",
      "19414/19414 [==============================] - 1s 65us/step - loss: 0.1660 - acc: 0.9495\n",
      "Epoch 53/200\n",
      "19414/19414 [==============================] - 1s 66us/step - loss: 0.1656 - acc: 0.9495\n",
      "Epoch 54/200\n",
      "19414/19414 [==============================] - 1s 71us/step - loss: 0.1660 - acc: 0.9495\n",
      "Epoch 55/200\n",
      "19414/19414 [==============================] - 1s 71us/step - loss: 0.1661 - acc: 0.9495\n",
      "Epoch 56/200\n",
      "19414/19414 [==============================] - 1s 64us/step - loss: 0.1661 - acc: 0.9495\n",
      "Epoch 57/200\n",
      "19414/19414 [==============================] - 1s 65us/step - loss: 0.1661 - acc: 0.9495\n",
      "Epoch 58/200\n",
      "19414/19414 [==============================] - 1s 62us/step - loss: 0.1655 - acc: 0.9495\n",
      "Epoch 59/200\n",
      "19414/19414 [==============================] - 1s 62us/step - loss: 0.1658 - acc: 0.9495\n",
      "Epoch 60/200\n",
      "19414/19414 [==============================] - 1s 61us/step - loss: 0.1661 - acc: 0.9495\n",
      "Epoch 61/200\n",
      "19414/19414 [==============================] - 1s 61us/step - loss: 0.1660 - acc: 0.9495\n",
      "Epoch 62/200\n",
      "19414/19414 [==============================] - 1s 64us/step - loss: 0.1656 - acc: 0.9495\n",
      "Epoch 63/200\n",
      "19414/19414 [==============================] - 1s 65us/step - loss: 0.1656 - acc: 0.9495\n",
      "Epoch 64/200\n",
      "19414/19414 [==============================] - 1s 75us/step - loss: 0.1657 - acc: 0.9495\n",
      "Epoch 65/200\n",
      "19414/19414 [==============================] - 1s 69us/step - loss: 0.1655 - acc: 0.9495\n",
      "Epoch 66/200\n",
      "19414/19414 [==============================] - 1s 71us/step - loss: 0.1658 - acc: 0.9495\n",
      "Epoch 67/200\n",
      "19414/19414 [==============================] - 1s 69us/step - loss: 0.1653 - acc: 0.9495\n",
      "Epoch 68/200\n",
      "19414/19414 [==============================] - 1s 72us/step - loss: 0.1655 - acc: 0.9495\n",
      "Epoch 69/200\n",
      "19414/19414 [==============================] - 1s 69us/step - loss: 0.1655 - acc: 0.9495\n",
      "Epoch 70/200\n",
      "19414/19414 [==============================] - 1s 69us/step - loss: 0.1654 - acc: 0.9495\n",
      "Epoch 71/200\n",
      "19414/19414 [==============================] - 1s 71us/step - loss: 0.1654 - acc: 0.9495\n",
      "Epoch 72/200\n",
      "19414/19414 [==============================] - 1s 68us/step - loss: 0.1655 - acc: 0.9495\n",
      "Epoch 73/200\n",
      "19414/19414 [==============================] - 1s 63us/step - loss: 0.1654 - acc: 0.9495\n",
      "Epoch 74/200\n",
      "19414/19414 [==============================] - 1s 67us/step - loss: 0.1652 - acc: 0.9495\n",
      "Epoch 75/200\n",
      "19414/19414 [==============================] - 1s 69us/step - loss: 0.1654 - acc: 0.9495\n",
      "Epoch 76/200\n",
      "19414/19414 [==============================] - 1s 68us/step - loss: 0.1654 - acc: 0.9495\n",
      "Epoch 77/200\n",
      "19414/19414 [==============================] - 1s 67us/step - loss: 0.1653 - acc: 0.9495\n",
      "Epoch 78/200\n",
      "19414/19414 [==============================] - 1s 67us/step - loss: 0.1651 - acc: 0.9495\n",
      "Epoch 79/200\n",
      "19414/19414 [==============================] - 1s 68us/step - loss: 0.1652 - acc: 0.9495\n",
      "Epoch 80/200\n",
      "19414/19414 [==============================] - 1s 67us/step - loss: 0.1659 - acc: 0.9495\n",
      "Epoch 81/200\n",
      "19414/19414 [==============================] - 1s 64us/step - loss: 0.1653 - acc: 0.9495\n",
      "Epoch 82/200\n",
      "19414/19414 [==============================] - 1s 62us/step - loss: 0.1650 - acc: 0.9495\n",
      "Epoch 83/200\n",
      "19414/19414 [==============================] - 1s 62us/step - loss: 0.1654 - acc: 0.9495\n",
      "Epoch 84/200\n",
      "19414/19414 [==============================] - 1s 62us/step - loss: 0.1652 - acc: 0.9495\n",
      "Epoch 85/200\n",
      "19414/19414 [==============================] - 1s 62us/step - loss: 0.1651 - acc: 0.9495\n",
      "Epoch 86/200\n",
      "19414/19414 [==============================] - 1s 62us/step - loss: 0.1649 - acc: 0.9495\n",
      "Epoch 87/200\n",
      "19414/19414 [==============================] - 1s 62us/step - loss: 0.1650 - acc: 0.9495\n",
      "Epoch 88/200\n",
      "19414/19414 [==============================] - 1s 64us/step - loss: 0.1651 - acc: 0.9495\n",
      "Epoch 89/200\n",
      "19414/19414 [==============================] - 1s 64us/step - loss: 0.1647 - acc: 0.9495\n",
      "Epoch 90/200\n",
      "19414/19414 [==============================] - 1s 62us/step - loss: 0.1650 - acc: 0.9495\n",
      "Epoch 91/200\n",
      "19414/19414 [==============================] - 1s 62us/step - loss: 0.1650 - acc: 0.9495\n",
      "Epoch 92/200\n",
      "19414/19414 [==============================] - 1s 62us/step - loss: 0.1645 - acc: 0.9495\n",
      "Epoch 93/200\n",
      "19414/19414 [==============================] - 1s 63us/step - loss: 0.1648 - acc: 0.9495\n",
      "Epoch 94/200\n",
      "19414/19414 [==============================] - 1s 62us/step - loss: 0.1647 - acc: 0.9495\n",
      "Epoch 95/200\n",
      "19414/19414 [==============================] - 1s 63us/step - loss: 0.1649 - acc: 0.9495\n",
      "Epoch 96/200\n",
      "19414/19414 [==============================] - 1s 66us/step - loss: 0.1649 - acc: 0.9495\n",
      "Epoch 97/200\n",
      "19414/19414 [==============================] - 1s 63us/step - loss: 0.1646 - acc: 0.9495\n",
      "Epoch 98/200\n",
      "19414/19414 [==============================] - 1s 63us/step - loss: 0.1648 - acc: 0.9495\n",
      "Epoch 99/200\n",
      "19414/19414 [==============================] - 1s 63us/step - loss: 0.1647 - acc: 0.9495\n",
      "Epoch 100/200\n",
      "19414/19414 [==============================] - 1s 62us/step - loss: 0.1643 - acc: 0.9495\n",
      "Epoch 101/200\n",
      "19414/19414 [==============================] - 1s 64us/step - loss: 0.1643 - acc: 0.9495\n",
      "Epoch 102/200\n",
      "19414/19414 [==============================] - 1s 65us/step - loss: 0.1645 - acc: 0.9495\n",
      "Epoch 103/200\n",
      "19414/19414 [==============================] - 1s 68us/step - loss: 0.1639 - acc: 0.9495\n",
      "Epoch 104/200\n",
      "19414/19414 [==============================] - 1s 63us/step - loss: 0.1637 - acc: 0.9495\n",
      "Epoch 105/200\n",
      "19414/19414 [==============================] - 1s 63us/step - loss: 0.1637 - acc: 0.9495\n",
      "Epoch 106/200\n",
      "19414/19414 [==============================] - 1s 63us/step - loss: 0.1632 - acc: 0.9495\n",
      "Epoch 107/200\n",
      "19414/19414 [==============================] - 1s 66us/step - loss: 0.1624 - acc: 0.9495\n",
      "Epoch 108/200\n",
      "19414/19414 [==============================] - 1s 64us/step - loss: 0.1619 - acc: 0.9495\n",
      "Epoch 109/200\n",
      "19414/19414 [==============================] - 1s 63us/step - loss: 0.1612 - acc: 0.9495\n",
      "Epoch 110/200\n",
      "19414/19414 [==============================] - 1s 63us/step - loss: 0.1609 - acc: 0.9495\n",
      "Epoch 111/200\n",
      "19414/19414 [==============================] - 1s 63us/step - loss: 0.1599 - acc: 0.9495\n",
      "Epoch 112/200\n",
      "19414/19414 [==============================] - 1s 64us/step - loss: 0.1594 - acc: 0.9495\n",
      "Epoch 113/200\n",
      "19414/19414 [==============================] - 1s 62us/step - loss: 0.1589 - acc: 0.9495\n",
      "Epoch 114/200\n",
      "19414/19414 [==============================] - 1s 64us/step - loss: 0.1581 - acc: 0.9495\n",
      "Epoch 115/200\n",
      "19414/19414 [==============================] - 1s 62us/step - loss: 0.1581 - acc: 0.9495\n",
      "Epoch 116/200\n",
      "19414/19414 [==============================] - 1s 59us/step - loss: 0.1580 - acc: 0.9495\n",
      "Epoch 117/200\n",
      "19414/19414 [==============================] - 1s 61us/step - loss: 0.1574 - acc: 0.9495\n",
      "Epoch 118/200\n",
      "19414/19414 [==============================] - 1s 62us/step - loss: 0.1568 - acc: 0.9495\n",
      "Epoch 119/200\n",
      "19414/19414 [==============================] - 1s 63us/step - loss: 0.1570 - acc: 0.9495\n",
      "Epoch 120/200\n",
      "19414/19414 [==============================] - 1s 62us/step - loss: 0.1567 - acc: 0.9495\n",
      "Epoch 121/200\n",
      "19414/19414 [==============================] - 1s 62us/step - loss: 0.1568 - acc: 0.9495\n",
      "Epoch 122/200\n",
      "19414/19414 [==============================] - 1s 62us/step - loss: 0.1565 - acc: 0.9495\n",
      "Epoch 123/200\n",
      "19414/19414 [==============================] - 1s 62us/step - loss: 0.1565 - acc: 0.9495\n",
      "Epoch 124/200\n",
      "19414/19414 [==============================] - 1s 61us/step - loss: 0.1563 - acc: 0.9495\n",
      "Epoch 125/200\n",
      "19414/19414 [==============================] - 1s 62us/step - loss: 0.1562 - acc: 0.9495\n",
      "Epoch 126/200\n",
      "19414/19414 [==============================] - 1s 62us/step - loss: 0.1561 - acc: 0.9495\n",
      "Epoch 127/200\n",
      "19414/19414 [==============================] - 1s 61us/step - loss: 0.1559 - acc: 0.9495\n",
      "Epoch 128/200\n",
      "19414/19414 [==============================] - 1s 64us/step - loss: 0.1561 - acc: 0.9495\n",
      "Epoch 129/200\n",
      "19414/19414 [==============================] - 1s 63us/step - loss: 0.1553 - acc: 0.9495\n",
      "Epoch 130/200\n",
      "19414/19414 [==============================] - 1s 62us/step - loss: 0.1558 - acc: 0.9495\n",
      "Epoch 131/200\n",
      "19414/19414 [==============================] - 1s 61us/step - loss: 0.1560 - acc: 0.9495\n",
      "Epoch 132/200\n",
      "19414/19414 [==============================] - 1s 62us/step - loss: 0.1554 - acc: 0.9495\n",
      "Epoch 133/200\n",
      "19414/19414 [==============================] - 1s 64us/step - loss: 0.1554 - acc: 0.9495\n",
      "Epoch 134/200\n",
      "19414/19414 [==============================] - 1s 61us/step - loss: 0.1557 - acc: 0.9495\n",
      "Epoch 135/200\n",
      "19414/19414 [==============================] - 1s 62us/step - loss: 0.1556 - acc: 0.9495\n",
      "Epoch 136/200\n",
      "19414/19414 [==============================] - 1s 62us/step - loss: 0.1554 - acc: 0.9495\n",
      "Epoch 137/200\n",
      "19414/19414 [==============================] - 1s 63us/step - loss: 0.1554 - acc: 0.9495\n",
      "Epoch 138/200\n",
      "19414/19414 [==============================] - 1s 62us/step - loss: 0.1551 - acc: 0.9495\n",
      "Epoch 139/200\n",
      "19414/19414 [==============================] - 1s 62us/step - loss: 0.1554 - acc: 0.9495\n",
      "Epoch 140/200\n",
      "19414/19414 [==============================] - 1s 64us/step - loss: 0.1551 - acc: 0.9495\n",
      "Epoch 141/200\n",
      "19414/19414 [==============================] - 1s 62us/step - loss: 0.1553 - acc: 0.9495\n",
      "Epoch 142/200\n",
      "19414/19414 [==============================] - 1s 60us/step - loss: 0.1548 - acc: 0.9495\n",
      "Epoch 143/200\n",
      "19414/19414 [==============================] - 1s 60us/step - loss: 0.1550 - acc: 0.9495\n",
      "Epoch 144/200\n",
      "19414/19414 [==============================] - 1s 63us/step - loss: 0.1546 - acc: 0.9495\n",
      "Epoch 145/200\n",
      "19414/19414 [==============================] - 1s 61us/step - loss: 0.1549 - acc: 0.9495\n",
      "Epoch 146/200\n",
      "19414/19414 [==============================] - 1s 64us/step - loss: 0.1550 - acc: 0.9495\n",
      "Epoch 147/200\n",
      "19414/19414 [==============================] - 1s 62us/step - loss: 0.1547 - acc: 0.9495\n",
      "Epoch 148/200\n",
      "19414/19414 [==============================] - 1s 61us/step - loss: 0.1546 - acc: 0.9495\n",
      "Epoch 149/200\n",
      "19414/19414 [==============================] - 1s 61us/step - loss: 0.1549 - acc: 0.9495\n",
      "Epoch 150/200\n",
      "19414/19414 [==============================] - 1s 61us/step - loss: 0.1546 - acc: 0.9495\n",
      "Epoch 151/200\n",
      "19414/19414 [==============================] - 1s 62us/step - loss: 0.1543 - acc: 0.9495\n",
      "Epoch 152/200\n",
      "19414/19414 [==============================] - 1s 62us/step - loss: 0.1547 - acc: 0.9495\n",
      "Epoch 153/200\n",
      "19414/19414 [==============================] - 1s 62us/step - loss: 0.1547 - acc: 0.9495\n",
      "Epoch 154/200\n",
      "19414/19414 [==============================] - 1s 62us/step - loss: 0.1549 - acc: 0.9495\n",
      "Epoch 155/200\n",
      "19414/19414 [==============================] - 1s 61us/step - loss: 0.1543 - acc: 0.9495\n",
      "Epoch 156/200\n",
      "19414/19414 [==============================] - 1s 61us/step - loss: 0.1542 - acc: 0.9495\n",
      "Epoch 157/200\n",
      "19414/19414 [==============================] - 1s 62us/step - loss: 0.1540 - acc: 0.9495\n",
      "Epoch 158/200\n",
      "19414/19414 [==============================] - 1s 61us/step - loss: 0.1543 - acc: 0.9495\n",
      "Epoch 159/200\n",
      "19414/19414 [==============================] - 1s 60us/step - loss: 0.1547 - acc: 0.9495\n",
      "Epoch 160/200\n"
     ]
    },
    {
     "name": "stdout",
     "output_type": "stream",
     "text": [
      "19414/19414 [==============================] - 1s 62us/step - loss: 0.1542 - acc: 0.9495\n",
      "Epoch 161/200\n",
      "19414/19414 [==============================] - 1s 62us/step - loss: 0.1540 - acc: 0.9495\n",
      "Epoch 162/200\n",
      "19414/19414 [==============================] - 1s 60us/step - loss: 0.1544 - acc: 0.9495\n",
      "Epoch 163/200\n",
      "19414/19414 [==============================] - 1s 61us/step - loss: 0.1545 - acc: 0.9495\n",
      "Epoch 164/200\n",
      "19414/19414 [==============================] - 1s 61us/step - loss: 0.1537 - acc: 0.9495\n",
      "Epoch 165/200\n",
      "19414/19414 [==============================] - 1s 61us/step - loss: 0.1540 - acc: 0.9495\n",
      "Epoch 166/200\n",
      "19414/19414 [==============================] - 1s 63us/step - loss: 0.1540 - acc: 0.9495\n",
      "Epoch 167/200\n",
      "19414/19414 [==============================] - 1s 64us/step - loss: 0.1541 - acc: 0.9495\n",
      "Epoch 168/200\n",
      "19414/19414 [==============================] - 1s 61us/step - loss: 0.1545 - acc: 0.9495\n",
      "Epoch 169/200\n",
      "19414/19414 [==============================] - 1s 60us/step - loss: 0.1540 - acc: 0.9495\n",
      "Epoch 170/200\n",
      "19414/19414 [==============================] - 1s 63us/step - loss: 0.1537 - acc: 0.9495\n",
      "Epoch 171/200\n",
      "19414/19414 [==============================] - 1s 61us/step - loss: 0.1540 - acc: 0.9495\n",
      "Epoch 172/200\n",
      "19414/19414 [==============================] - 1s 63us/step - loss: 0.1538 - acc: 0.9495\n",
      "Epoch 173/200\n",
      "19414/19414 [==============================] - 1s 63us/step - loss: 0.1537 - acc: 0.9495\n",
      "Epoch 174/200\n",
      "19414/19414 [==============================] - 1s 62us/step - loss: 0.1535 - acc: 0.9495\n",
      "Epoch 175/200\n",
      "19414/19414 [==============================] - 1s 62us/step - loss: 0.1537 - acc: 0.9495\n",
      "Epoch 176/200\n",
      "19414/19414 [==============================] - 1s 61us/step - loss: 0.1540 - acc: 0.9495\n",
      "Epoch 177/200\n",
      "19414/19414 [==============================] - 1s 64us/step - loss: 0.1537 - acc: 0.9495\n",
      "Epoch 178/200\n",
      "19414/19414 [==============================] - 1s 62us/step - loss: 0.1538 - acc: 0.9495\n",
      "Epoch 179/200\n",
      "19414/19414 [==============================] - 1s 62us/step - loss: 0.1537 - acc: 0.9495\n",
      "Epoch 180/200\n",
      "19414/19414 [==============================] - 1s 62us/step - loss: 0.1534 - acc: 0.9495\n",
      "Epoch 181/200\n",
      "19414/19414 [==============================] - 1s 61us/step - loss: 0.1535 - acc: 0.9495\n",
      "Epoch 182/200\n",
      "19414/19414 [==============================] - 1s 62us/step - loss: 0.1534 - acc: 0.9495\n",
      "Epoch 183/200\n",
      "19414/19414 [==============================] - 1s 62us/step - loss: 0.1534 - acc: 0.9495\n",
      "Epoch 184/200\n",
      "19414/19414 [==============================] - 1s 63us/step - loss: 0.1536 - acc: 0.9495\n",
      "Epoch 185/200\n",
      "19414/19414 [==============================] - 1s 61us/step - loss: 0.1535 - acc: 0.9495\n",
      "Epoch 186/200\n",
      "19414/19414 [==============================] - 1s 62us/step - loss: 0.1533 - acc: 0.9495\n",
      "Epoch 187/200\n",
      "19414/19414 [==============================] - 1s 61us/step - loss: 0.1533 - acc: 0.9495\n",
      "Epoch 188/200\n",
      "19414/19414 [==============================] - 1s 64us/step - loss: 0.1535 - acc: 0.9495\n",
      "Epoch 189/200\n",
      "19414/19414 [==============================] - 1s 69us/step - loss: 0.1536 - acc: 0.9495\n",
      "Epoch 190/200\n",
      "19414/19414 [==============================] - 1s 65us/step - loss: 0.1535 - acc: 0.9495\n",
      "Epoch 191/200\n",
      "19414/19414 [==============================] - 1s 65us/step - loss: 0.1530 - acc: 0.9495\n",
      "Epoch 192/200\n",
      "19414/19414 [==============================] - 1s 69us/step - loss: 0.1533 - acc: 0.9495\n",
      "Epoch 193/200\n",
      "19414/19414 [==============================] - 1s 64us/step - loss: 0.1534 - acc: 0.9495\n",
      "Epoch 194/200\n",
      "19414/19414 [==============================] - 1s 64us/step - loss: 0.1534 - acc: 0.9495\n",
      "Epoch 195/200\n",
      "19414/19414 [==============================] - 1s 63us/step - loss: 0.1531 - acc: 0.9495\n",
      "Epoch 196/200\n",
      "19414/19414 [==============================] - 1s 66us/step - loss: 0.1532 - acc: 0.9495\n",
      "Epoch 197/200\n",
      "19414/19414 [==============================] - 1s 68us/step - loss: 0.1531 - acc: 0.9495\n",
      "Epoch 198/200\n",
      "19414/19414 [==============================] - 1s 68us/step - loss: 0.1534 - acc: 0.9495\n",
      "Epoch 199/200\n",
      "19414/19414 [==============================] - 1s 65us/step - loss: 0.1529 - acc: 0.9495\n",
      "Epoch 200/200\n",
      "19414/19414 [==============================] - 1s 65us/step - loss: 0.1530 - acc: 0.9495\n"
     ]
    },
    {
     "data": {
      "text/plain": [
       "<keras.callbacks.History at 0x7fb734a0ada0>"
      ]
     },
     "execution_count": 240,
     "metadata": {},
     "output_type": "execute_result"
    }
   ],
   "source": [
    "# Initialising the NN\n",
    "model = Sequential()\n",
    "\n",
    "# layers\n",
    "model.add(Dense(units = 9, kernel_initializer = 'uniform', activation = 'relu', input_dim = len(features)))\n",
    "model.add(Dense(units = 9, kernel_initializer = 'uniform', activation = 'relu'))\n",
    "model.add(Dense(units = 5, kernel_initializer = 'uniform', activation = 'relu'))\n",
    "model.add(Dense(units = 1, kernel_initializer = 'uniform', activation = 'sigmoid'))\n",
    "\n",
    "# Compiling the ANN\n",
    "model.compile(optimizer = 'adam', loss = 'binary_crossentropy', metrics = ['accuracy'])\n",
    "\n",
    "# Train the ANN\n",
    "model.fit(x, y, batch_size = 32, epochs = 200)"
   ]
  },
  {
   "cell_type": "code",
   "execution_count": 248,
   "metadata": {
    "scrolled": true
   },
   "outputs": [],
   "source": [
    "pred_final = model.predict_proba(x_test_final)\n"
   ]
  },
  {
   "cell_type": "code",
   "execution_count": 249,
   "metadata": {},
   "outputs": [],
   "source": [
    "person = np.array(test['person'])"
   ]
  },
  {
   "cell_type": "code",
   "execution_count": 250,
   "metadata": {},
   "outputs": [],
   "source": [
    "person =person.reshape((19415,1))"
   ]
  },
  {
   "cell_type": "code",
   "execution_count": 251,
   "metadata": {},
   "outputs": [],
   "source": [
    "submit = pd.DataFrame(data=np.column_stack((person,pred_final)),columns=['person','label'])"
   ]
  },
  {
   "cell_type": "code",
   "execution_count": 252,
   "metadata": {},
   "outputs": [],
   "source": [
    "submit.to_csv('submit_nn.csv', index=False)"
   ]
  },
  {
   "cell_type": "markdown",
   "metadata": {},
   "source": [
    "## XGBoost"
   ]
  },
  {
   "cell_type": "markdown",
   "metadata": {},
   "source": [
    "### Grid Search"
   ]
  },
  {
   "cell_type": "code",
   "execution_count": 42,
   "metadata": {
    "scrolled": true
   },
   "outputs": [
    {
     "name": "stdout",
     "output_type": "stream",
     "text": [
      "Fitting 20 folds for each of 1 candidates, totalling 20 fits\n",
      "[CV] subsample=1.0, min_child_weight=5, max_depth=5, gamma=5, colsample_bytree=0.6 \n",
      "[CV] subsample=1.0, min_child_weight=5, max_depth=5, gamma=5, colsample_bytree=0.6 \n",
      "[CV] subsample=1.0, min_child_weight=5, max_depth=5, gamma=5, colsample_bytree=0.6 \n",
      "[CV] subsample=1.0, min_child_weight=5, max_depth=5, gamma=5, colsample_bytree=0.6 \n",
      "[CV]  subsample=1.0, min_child_weight=5, max_depth=5, gamma=5, colsample_bytree=0.6, score=0.8046836956040551, total=  32.8s\n",
      "[CV] subsample=1.0, min_child_weight=5, max_depth=5, gamma=5, colsample_bytree=0.6 \n",
      "[CV]  subsample=1.0, min_child_weight=5, max_depth=5, gamma=5, colsample_bytree=0.6, score=0.8560693257780336, total=  39.2s\n",
      "[CV] subsample=1.0, min_child_weight=5, max_depth=5, gamma=5, colsample_bytree=0.6 \n",
      "[CV]  subsample=1.0, min_child_weight=5, max_depth=5, gamma=5, colsample_bytree=0.6, score=0.8575523484882022, total=  43.2s\n",
      "[CV] subsample=1.0, min_child_weight=5, max_depth=5, gamma=5, colsample_bytree=0.6 \n",
      "[CV]  subsample=1.0, min_child_weight=5, max_depth=5, gamma=5, colsample_bytree=0.6, score=0.8422572933728806, total=  43.3s\n",
      "[CV] subsample=1.0, min_child_weight=5, max_depth=5, gamma=5, colsample_bytree=0.6 \n",
      "[CV]  subsample=1.0, min_child_weight=5, max_depth=5, gamma=5, colsample_bytree=0.6, score=0.8622559652928417, total=  40.5s\n",
      "[CV] subsample=1.0, min_child_weight=5, max_depth=5, gamma=5, colsample_bytree=0.6 \n",
      "[CV]  subsample=1.0, min_child_weight=5, max_depth=5, gamma=5, colsample_bytree=0.6, score=0.8101177564301209, total=  40.0s\n",
      "[CV] subsample=1.0, min_child_weight=5, max_depth=5, gamma=5, colsample_bytree=0.6 \n",
      "[CV]  subsample=1.0, min_child_weight=5, max_depth=5, gamma=5, colsample_bytree=0.6, score=0.8811368365133472, total=  40.7s\n",
      "[CV]  subsample=1.0, min_child_weight=5, max_depth=5, gamma=5, colsample_bytree=0.6, score=0.8494067909159325, total=  40.9s\n",
      "[CV] subsample=1.0, min_child_weight=5, max_depth=5, gamma=5, colsample_bytree=0.6 \n",
      "[CV] subsample=1.0, min_child_weight=5, max_depth=5, gamma=5, colsample_bytree=0.6 \n",
      "[CV]  subsample=1.0, min_child_weight=5, max_depth=5, gamma=5, colsample_bytree=0.6, score=0.829585196334499, total=  38.6s\n",
      "[CV] subsample=1.0, min_child_weight=5, max_depth=5, gamma=5, colsample_bytree=0.6 \n",
      "[CV]  subsample=1.0, min_child_weight=5, max_depth=5, gamma=5, colsample_bytree=0.6, score=0.8901567134445968, total=  40.2s\n",
      "[CV] subsample=1.0, min_child_weight=5, max_depth=5, gamma=5, colsample_bytree=0.6 \n",
      "[CV]  subsample=1.0, min_child_weight=5, max_depth=5, gamma=5, colsample_bytree=0.6, score=0.8791447164549115, total=  36.2s\n",
      "[CV] subsample=1.0, min_child_weight=5, max_depth=5, gamma=5, colsample_bytree=0.6 \n",
      "[CV]  subsample=1.0, min_child_weight=5, max_depth=5, gamma=5, colsample_bytree=0.6, score=0.8584266678471821, total=  40.2s\n",
      "[CV] subsample=1.0, min_child_weight=5, max_depth=5, gamma=5, colsample_bytree=0.6 \n",
      "[CV]  subsample=1.0, min_child_weight=5, max_depth=5, gamma=5, colsample_bytree=0.6, score=0.8707556775421667, total=  38.8s\n",
      "[CV] subsample=1.0, min_child_weight=5, max_depth=5, gamma=5, colsample_bytree=0.6 \n",
      "[CV]  subsample=1.0, min_child_weight=5, max_depth=5, gamma=5, colsample_bytree=0.6, score=0.859024303864713, total=  37.0s\n",
      "[CV] subsample=1.0, min_child_weight=5, max_depth=5, gamma=5, colsample_bytree=0.6 \n",
      "[CV]  subsample=1.0, min_child_weight=5, max_depth=5, gamma=5, colsample_bytree=0.6, score=0.8838219326818675, total=  32.8s\n",
      "[CV] subsample=1.0, min_child_weight=5, max_depth=5, gamma=5, colsample_bytree=0.6 \n",
      "[CV]  subsample=1.0, min_child_weight=5, max_depth=5, gamma=5, colsample_bytree=0.6, score=0.8769748941922045, total=  40.3s\n",
      "[CV] subsample=1.0, min_child_weight=5, max_depth=5, gamma=5, colsample_bytree=0.6 \n",
      "[CV]  subsample=1.0, min_child_weight=5, max_depth=5, gamma=5, colsample_bytree=0.6, score=0.83413104655543, total=  38.1s\n",
      "[CV]  subsample=1.0, min_child_weight=5, max_depth=5, gamma=5, colsample_bytree=0.6, score=0.8591703782490197, total=  35.6s\n",
      "[CV]  subsample=1.0, min_child_weight=5, max_depth=5, gamma=5, colsample_bytree=0.6, score=0.831948414544971, total=  34.1s\n",
      "[CV]  subsample=1.0, min_child_weight=5, max_depth=5, gamma=5, colsample_bytree=0.6, score=0.8675574464313413, total=  38.7s\n"
     ]
    },
    {
     "name": "stderr",
     "output_type": "stream",
     "text": [
      "[Parallel(n_jobs=4)]: Done  20 out of  20 | elapsed:  3.3min remaining:    0.0s\n",
      "[Parallel(n_jobs=4)]: Done  20 out of  20 | elapsed:  3.3min finished\n"
     ]
    },
    {
     "name": "stdout",
     "output_type": "stream",
     "text": [
      "\n",
      " Best estimator:\n",
      "XGBClassifier(base_score=0.5, booster='gbtree', colsample_bylevel=1,\n",
      "       colsample_bytree=0.6, gamma=5, learning_rate=0.02, max_delta_step=0,\n",
      "       max_depth=5, min_child_weight=5, missing=None, n_estimators=600,\n",
      "       n_jobs=1, nthread=1, objective='binary:logistic', random_state=0,\n",
      "       reg_alpha=0, reg_lambda=1, scale_pos_weight=1, seed=None,\n",
      "       silent=True, subsample=1.0)\n",
      "\n",
      " Best normalized gini score for 20-fold search with 1 parameter combinations:\n",
      "0.7104154374997476\n",
      "\n",
      " Best hyperparameters:\n",
      "{'subsample': 1.0, 'min_child_weight': 5, 'max_depth': 5, 'gamma': 5, 'colsample_bytree': 0.6}\n",
      "Tiempo de ejecución: 223.66826 seconds.\n"
     ]
    }
   ],
   "source": [
    "\n",
    "\n",
    "t0 = time()\n",
    "params = {\n",
    "        'min_child_weight': [1, 5, 10],\n",
    "        'gamma': [0.5, 1, 1.5, 2, 5],\n",
    "        'subsample': [0.6, 0.8, 1.0],\n",
    "        'colsample_bytree': [0.6, 0.8, 1.0],\n",
    "        'max_depth': [3, 4, 5]\n",
    "        }\n",
    "\n",
    "params = {\n",
    "        'min_child_weight': [5],\n",
    "        'gamma': [5],\n",
    "        'subsample': [1.0],\n",
    "        'colsample_bytree': [0.6],\n",
    "        'max_depth': [5]\n",
    "        }\n",
    "\n",
    "\n",
    "# Creamos el xgboost\n",
    "xgboost = xgb.XGBClassifier(learning_rate=0.02,silent=True, \\\n",
    "        nthread=1,base_score=0.5, booster='gbtree',\\\n",
    "       colsample_bytree=0.6, gamma=5,max_delta_step=0,random_state=0,\\\n",
    "       max_depth=5, min_child_weight=5, missing=None, n_estimators=600,\\\n",
    "       n_jobs=1, objective='binary:logistic',subsample=1.0,\\\n",
    "       reg_alpha=0, reg_lambda=1, scale_pos_weight=1,seed=None)\n",
    "# ,\n",
    "#s\n",
    "#,\n",
    "folds = 20\n",
    "param_comb = 1\n",
    "\n",
    "skf = StratifiedKFold(n_splits=folds, shuffle = True, random_state = 1001)\n",
    "\n",
    "random_search = RandomizedSearchCV(xgboost,param_distributions=params,\\\n",
    "                                   n_iter=1, scoring='roc_auc',\\\n",
    "                                   n_jobs=4, cv=skf.split(x,y), verbose=3,\\\n",
    "                                   random_state=1001 )\n",
    "\n",
    "random_search.fit(x,y)\n",
    "\n",
    "print('\\n Best estimator:')\n",
    "print(random_search.best_estimator_)\n",
    "print('\\n Best normalized gini score for %d-fold search with %d parameter combinations:' % (folds, param_comb))\n",
    "print(random_search.best_score_ * 2 - 1)\n",
    "print('\\n Best hyperparameters:')\n",
    "print(random_search.best_params_)\n",
    "\n",
    "tf = time() - t0\n",
    "print (\"Tiempo de ejecución: %0.5f seconds.\" % tf)"
   ]
  },
  {
   "cell_type": "markdown",
   "metadata": {},
   "source": [
    "### Set de entrenamiento"
   ]
  },
  {
   "cell_type": "code",
   "execution_count": 70,
   "metadata": {},
   "outputs": [],
   "source": [
    "xgb = XGBRegressor(base_score=0.5, booster='gbtree', colsample_bylevel=1,\\\n",
    "       colsample_bytree=0.6, gamma=5, learning_rate=0.02, max_delta_step=0,\\\n",
    "       max_depth=5, min_child_weight=5, missing=None, n_estimators=600,\\\n",
    "       n_jobs=1, nthread=1, objective='binary:logistic', random_state=0,\\\n",
    "       reg_alpha=0, reg_lambda=1, scale_pos_weight=1, seed=None,\\\n",
    "       silent=True, subsample=1.0)\n"
   ]
  },
  {
   "cell_type": "code",
   "execution_count": 71,
   "metadata": {
    "scrolled": true
   },
   "outputs": [
    {
     "data": {
      "text/plain": [
       "0.8607602766941194"
      ]
     },
     "execution_count": 71,
     "metadata": {},
     "output_type": "execute_result"
    }
   ],
   "source": [
    "xgb.fit(x_train,y_train)\n",
    "pred = xgb.predict(x_test)\n",
    "roc_auc_score(y_test,pred)"
   ]
  },
  {
   "cell_type": "markdown",
   "metadata": {},
   "source": [
    "### Prediccion del test final"
   ]
  },
  {
   "cell_type": "code",
   "execution_count": 44,
   "metadata": {},
   "outputs": [
    {
     "data": {
      "text/plain": [
       "XGBRegressor(base_score=0.5, booster='gbtree', colsample_bylevel=1,\n",
       "       colsample_bytree=0.6, gamma=5, learning_rate=0.02, max_delta_step=0,\n",
       "       max_depth=5, min_child_weight=5, missing=None, n_estimators=600,\n",
       "       n_jobs=1, nthread=1, objective='binary:logistic', random_state=0,\n",
       "       reg_alpha=0, reg_lambda=1, scale_pos_weight=1, seed=None,\n",
       "       silent=True, subsample=1.0)"
      ]
     },
     "execution_count": 44,
     "metadata": {},
     "output_type": "execute_result"
    }
   ],
   "source": [
    "xgb = XGBRegressor(base_score=0.5, booster='gbtree', colsample_bylevel=1,\\\n",
    "       colsample_bytree=0.6, gamma=5, learning_rate=0.02, max_delta_step=0,\\\n",
    "       max_depth=5, min_child_weight=5, missing=None, n_estimators=600,\\\n",
    "       n_jobs=1, nthread=1, objective='binary:logistic', random_state=0,\\\n",
    "       reg_alpha=0, reg_lambda=1, scale_pos_weight=1, seed=None,\\\n",
    "       silent=True, subsample=1.0)\n",
    "xgb.fit(x,y)"
   ]
  },
  {
   "cell_type": "code",
   "execution_count": 45,
   "metadata": {},
   "outputs": [],
   "source": [
    "pred_final = xgb.predict(x_test_final)\n",
    "person = np.array(test['person'])\n",
    "person =person.reshape((19415,1))\n",
    "submit = pd.DataFrame(data=np.column_stack((person,pred_final)),columns=['person','label'])\n",
    "submit.to_csv('submit_xgb.csv', index=False)"
   ]
  },
  {
   "cell_type": "markdown",
   "metadata": {},
   "source": [
    "# KNN"
   ]
  },
  {
   "cell_type": "markdown",
   "metadata": {},
   "source": [
    "### Valores iniciales para K"
   ]
  },
  {
   "cell_type": "code",
   "execution_count": 75,
   "metadata": {},
   "outputs": [
    {
     "name": "stdout",
     "output_type": "stream",
     "text": [
      "VALORES INICIALES PARA K\n",
      "La precisión para k= 3 es: 0.5672626788036411\n",
      "La precisión para k= 5 es: 0.6030983600635748\n",
      "La precisión para k= 10 es: 0.6973992197659297\n",
      "La precisión para k= 20 es: 0.738579594711747\n",
      "La precisión para k= 50 es: 0.7482715648027741\n",
      "La precisión para k= 60 es: 0.7509987718537783\n",
      "La precisión para k= 75 es: 0.7549180031787314\n",
      "La precisión para k= 80 es: 0.7550624909695132\n",
      "La precisión para k= 85 es: 0.753958965467418\n",
      "La precisión para k= 90 es: 0.7551907238838318\n",
      "La precisión para k= 95 es: 0.7568387877474354\n",
      "La precisión para k= 100 es: 0.7568103417136253\n",
      "Con k= 95 se obtuvo la mayor precisión: 0.7568387877474354\n",
      "Tiempo de ejecución: 139.07555 seconds.\n"
     ]
    }
   ],
   "source": [
    "t0 = time()\n",
    "\n",
    "print('VALORES INICIALES PARA K')\n",
    "\n",
    "k_valores = [3,5,10,20,50,60,75,80,85,90,95,100]\n",
    "mejor_k = 0\n",
    "mejor_precision = 0\n",
    "\n",
    "for k in k_valores:\n",
    "    knn = KNeighborsRegressor(n_neighbors=k)\n",
    "    knn.fit(x_train, y_train)\n",
    "    pred = knn.predict(x_test)\n",
    "    precision = roc_auc_score(y_test, pred)\n",
    "    print('La precisión para k=', k, 'es:',precision)\n",
    "    if precision > mejor_precision:\n",
    "        mejor_precision = precision\n",
    "        mejor_k = k\n",
    "        \n",
    "print('Con k=', mejor_k, 'se obtuvo la mayor precisión:', mejor_precision)\n",
    "\n",
    "tf = time() - t0\n",
    "print (\"Tiempo de ejecución: %0.5f seconds.\" % tf)"
   ]
  },
  {
   "cell_type": "markdown",
   "metadata": {},
   "source": [
    "### Valores grid search para K"
   ]
  },
  {
   "cell_type": "code",
   "execution_count": 76,
   "metadata": {
    "scrolled": true
   },
   "outputs": [
    {
     "name": "stdout",
     "output_type": "stream",
     "text": [
      "VALORES GRID SEARCH PARA K\n",
      "La precisión para k = 93 es: 0.7565796127727207\n",
      "La precisión para k = 94 es: 0.7566884301401532\n",
      "La precisión para k = 95 es: 0.7568387877474354\n",
      "La precisión para k = 96 es: 0.7580118479988441\n",
      "La precisión para k = 97 es: 0.7578506538072534\n",
      "Con k= 96 se obtuvo la mayor precisión: 0.7580118479988441\n",
      "Tiempo de ejecución: 57.16458 seconds.\n"
     ]
    }
   ],
   "source": [
    "t0 = time()\n",
    "\n",
    "print('VALORES GRID SEARCH PARA K')\n",
    "\n",
    "k_valores = []\n",
    "\n",
    "for i in range(mejor_k-2, mejor_k+3):\n",
    "    k_valores.append(i)\n",
    "    \n",
    "for k in k_valores:\n",
    "    knn = KNeighborsRegressor(n_neighbors=k)\n",
    "    knn.fit(x_train, y_train)\n",
    "    pred = knn.predict(x_test)\n",
    "    precision = roc_auc_score(y_test, pred)\n",
    "    print('La precisión para k =', k, 'es:',precision)\n",
    "    if precision > mejor_precision:\n",
    "        mejor_precision = precision\n",
    "        mejor_k = k\n",
    "        \n",
    "print('Con k=', mejor_k, 'se obtuvo la mayor precisión:', mejor_precision)\n",
    "\n",
    "tf = time() - t0\n",
    "print (\"Tiempo de ejecución: %0.5f seconds.\" % tf)"
   ]
  },
  {
   "cell_type": "code",
   "execution_count": null,
   "metadata": {},
   "outputs": [],
   "source": [
    "if precision >= mejor_precision:\n",
    "    mejor_precision = precision\n",
    "    mejores_features = features"
   ]
  },
  {
   "cell_type": "markdown",
   "metadata": {},
   "source": [
    "### Predecimos el test final con el mejor k obtenido"
   ]
  },
  {
   "cell_type": "code",
   "execution_count": 57,
   "metadata": {},
   "outputs": [],
   "source": [
    "# Creamos el KNN\n",
    "knn = KNeighborsClassifier(n_neighbors=1)\n",
    "\n",
    "# Lo entrenamos con la totalidad del set de datos\n",
    "knn.fit(x,y)\n",
    "\n",
    "# Predecimos las postulaciones del set final\n",
    "pred_final = knn.predict(x_test_final)"
   ]
  },
  {
   "cell_type": "markdown",
   "metadata": {},
   "source": [
    "### Submit File"
   ]
  },
  {
   "cell_type": "code",
   "execution_count": 60,
   "metadata": {},
   "outputs": [],
   "source": [
    "person = test_final['person']\n",
    "\n",
    "submit = pd.DataFrame({'person':person, 'label':pred_final})\n",
    "\n",
    "submit.to_csv('submit_knn.csv', index=False)"
   ]
  },
  {
   "cell_type": "markdown",
   "metadata": {},
   "source": [
    " "
   ]
  },
  {
   "cell_type": "markdown",
   "metadata": {},
   "source": [
    "# Random Forest"
   ]
  },
  {
   "cell_type": "markdown",
   "metadata": {},
   "source": [
    "### Random Search"
   ]
  },
  {
   "cell_type": "code",
   "execution_count": 40,
   "metadata": {
    "scrolled": true
   },
   "outputs": [
    {
     "name": "stdout",
     "output_type": "stream",
     "text": [
      "Fitting 3 folds for each of 100 candidates, totalling 300 fits\n",
      "[CV] n_estimators=2000, min_samples_split=10, min_samples_leaf=2, max_features=sqrt, max_depth=10, bootstrap=True \n",
      "[CV] n_estimators=2000, min_samples_split=10, min_samples_leaf=2, max_features=sqrt, max_depth=10, bootstrap=True \n",
      "[CV] n_estimators=2000, min_samples_split=10, min_samples_leaf=2, max_features=sqrt, max_depth=10, bootstrap=True \n",
      "[CV] n_estimators=1200, min_samples_split=2, min_samples_leaf=2, max_features=sqrt, max_depth=60, bootstrap=True \n",
      "[CV] n_estimators=1200, min_samples_split=2, min_samples_leaf=2, max_features=sqrt, max_depth=60, bootstrap=True \n",
      "[CV] n_estimators=1200, min_samples_split=2, min_samples_leaf=2, max_features=sqrt, max_depth=60, bootstrap=True \n",
      "[CV] n_estimators=1400, min_samples_split=5, min_samples_leaf=2, max_features=auto, max_depth=None, bootstrap=True \n",
      "[CV] n_estimators=1400, min_samples_split=5, min_samples_leaf=2, max_features=auto, max_depth=None, bootstrap=True \n",
      "[CV]  n_estimators=1200, min_samples_split=2, min_samples_leaf=2, max_features=sqrt, max_depth=60, bootstrap=True, total= 1.6min\n",
      "[CV] n_estimators=1400, min_samples_split=5, min_samples_leaf=2, max_features=auto, max_depth=None, bootstrap=True \n",
      "[CV]  n_estimators=1200, min_samples_split=2, min_samples_leaf=2, max_features=sqrt, max_depth=60, bootstrap=True, total= 1.6min\n",
      "[CV] n_estimators=200, min_samples_split=2, min_samples_leaf=1, max_features=auto, max_depth=50, bootstrap=True \n",
      "[CV]  n_estimators=1200, min_samples_split=2, min_samples_leaf=2, max_features=sqrt, max_depth=60, bootstrap=True, total= 1.6min\n",
      "[CV] n_estimators=200, min_samples_split=2, min_samples_leaf=1, max_features=auto, max_depth=50, bootstrap=True \n",
      "[CV]  n_estimators=2000, min_samples_split=10, min_samples_leaf=2, max_features=sqrt, max_depth=10, bootstrap=True, total= 1.7min\n",
      "[CV] n_estimators=200, min_samples_split=2, min_samples_leaf=1, max_features=auto, max_depth=50, bootstrap=True \n",
      "[CV]  n_estimators=2000, min_samples_split=10, min_samples_leaf=2, max_features=sqrt, max_depth=10, bootstrap=True, total= 1.8min\n",
      "[CV] n_estimators=1200, min_samples_split=10, min_samples_leaf=2, max_features=sqrt, max_depth=20, bootstrap=True \n",
      "[CV]  n_estimators=2000, min_samples_split=10, min_samples_leaf=2, max_features=sqrt, max_depth=10, bootstrap=True, total= 1.8min\n",
      "[CV] n_estimators=1200, min_samples_split=10, min_samples_leaf=2, max_features=sqrt, max_depth=20, bootstrap=True \n",
      "[CV]  n_estimators=1200, min_samples_split=10, min_samples_leaf=2, max_features=sqrt, max_depth=20, bootstrap=True, total= 1.8min\n",
      "[CV] n_estimators=1200, min_samples_split=10, min_samples_leaf=2, max_features=sqrt, max_depth=20, bootstrap=True \n",
      "[CV]  n_estimators=1200, min_samples_split=10, min_samples_leaf=2, max_features=sqrt, max_depth=20, bootstrap=True, total= 1.8min\n",
      "[CV] n_estimators=1600, min_samples_split=5, min_samples_leaf=2, max_features=sqrt, max_depth=50, bootstrap=True \n",
      "[CV]  n_estimators=200, min_samples_split=2, min_samples_leaf=1, max_features=auto, max_depth=50, bootstrap=True, total= 3.5min\n",
      "[CV] n_estimators=1600, min_samples_split=5, min_samples_leaf=2, max_features=sqrt, max_depth=50, bootstrap=True \n",
      "[CV]  n_estimators=200, min_samples_split=2, min_samples_leaf=1, max_features=auto, max_depth=50, bootstrap=True, total= 3.6min\n",
      "[CV] n_estimators=1600, min_samples_split=5, min_samples_leaf=2, max_features=sqrt, max_depth=50, bootstrap=True \n",
      "[CV]  n_estimators=200, min_samples_split=2, min_samples_leaf=1, max_features=auto, max_depth=50, bootstrap=True, total= 3.7min\n",
      "[CV] n_estimators=800, min_samples_split=2, min_samples_leaf=1, max_features=sqrt, max_depth=70, bootstrap=False \n",
      "[CV]  n_estimators=1200, min_samples_split=10, min_samples_leaf=2, max_features=sqrt, max_depth=20, bootstrap=True, total= 1.7min\n",
      "[CV] n_estimators=800, min_samples_split=2, min_samples_leaf=1, max_features=sqrt, max_depth=70, bootstrap=False \n",
      "[CV]  n_estimators=1600, min_samples_split=5, min_samples_leaf=2, max_features=sqrt, max_depth=50, bootstrap=True, total= 2.2min\n",
      "[CV] n_estimators=800, min_samples_split=2, min_samples_leaf=1, max_features=sqrt, max_depth=70, bootstrap=False \n",
      "[CV]  n_estimators=800, min_samples_split=2, min_samples_leaf=1, max_features=sqrt, max_depth=70, bootstrap=False, total= 1.8min\n",
      "[CV] n_estimators=1800, min_samples_split=5, min_samples_leaf=2, max_features=auto, max_depth=30, bootstrap=True \n",
      "[CV]  n_estimators=800, min_samples_split=2, min_samples_leaf=1, max_features=sqrt, max_depth=70, bootstrap=False, total= 1.8min\n",
      "[CV] n_estimators=1800, min_samples_split=5, min_samples_leaf=2, max_features=auto, max_depth=30, bootstrap=True \n",
      "[CV]  n_estimators=1600, min_samples_split=5, min_samples_leaf=2, max_features=sqrt, max_depth=50, bootstrap=True, total= 2.3min\n",
      "[CV] n_estimators=1800, min_samples_split=5, min_samples_leaf=2, max_features=auto, max_depth=30, bootstrap=True \n",
      "[CV]  n_estimators=1600, min_samples_split=5, min_samples_leaf=2, max_features=sqrt, max_depth=50, bootstrap=True, total= 2.3min\n",
      "[CV] n_estimators=600, min_samples_split=2, min_samples_leaf=2, max_features=sqrt, max_depth=50, bootstrap=False \n",
      "[CV]  n_estimators=800, min_samples_split=2, min_samples_leaf=1, max_features=sqrt, max_depth=70, bootstrap=False, total= 1.6min\n",
      "[CV] n_estimators=600, min_samples_split=2, min_samples_leaf=2, max_features=sqrt, max_depth=50, bootstrap=False \n",
      "[CV]  n_estimators=600, min_samples_split=2, min_samples_leaf=2, max_features=sqrt, max_depth=50, bootstrap=False, total= 1.1min\n",
      "[CV] n_estimators=600, min_samples_split=2, min_samples_leaf=2, max_features=sqrt, max_depth=50, bootstrap=False \n",
      "[CV]  n_estimators=600, min_samples_split=2, min_samples_leaf=2, max_features=sqrt, max_depth=50, bootstrap=False, total= 1.1min\n",
      "[CV] n_estimators=1000, min_samples_split=5, min_samples_leaf=4, max_features=sqrt, max_depth=90, bootstrap=False \n",
      "[CV]  n_estimators=600, min_samples_split=2, min_samples_leaf=2, max_features=sqrt, max_depth=50, bootstrap=False, total=  49.3s\n",
      "[CV] n_estimators=1000, min_samples_split=5, min_samples_leaf=4, max_features=sqrt, max_depth=90, bootstrap=False \n",
      "[CV]  n_estimators=1000, min_samples_split=5, min_samples_leaf=4, max_features=sqrt, max_depth=90, bootstrap=False, total= 1.4min\n",
      "[CV] n_estimators=1000, min_samples_split=5, min_samples_leaf=4, max_features=sqrt, max_depth=90, bootstrap=False \n",
      "[CV]  n_estimators=1000, min_samples_split=5, min_samples_leaf=4, max_features=sqrt, max_depth=90, bootstrap=False, total= 1.4min\n",
      "[CV] n_estimators=1800, min_samples_split=10, min_samples_leaf=1, max_features=auto, max_depth=80, bootstrap=False \n",
      "[CV]  n_estimators=1000, min_samples_split=5, min_samples_leaf=4, max_features=sqrt, max_depth=90, bootstrap=False, total= 1.5min\n",
      "[CV] n_estimators=1800, min_samples_split=10, min_samples_leaf=1, max_features=auto, max_depth=80, bootstrap=False \n",
      "[CV]  n_estimators=1400, min_samples_split=5, min_samples_leaf=2, max_features=auto, max_depth=None, bootstrap=True, total=24.6min\n",
      "[CV] n_estimators=1800, min_samples_split=10, min_samples_leaf=1, max_features=auto, max_depth=80, bootstrap=False \n"
     ]
    },
    {
     "name": "stderr",
     "output_type": "stream",
     "text": [
      "[Parallel(n_jobs=-1)]: Done  25 tasks      | elapsed: 24.7min\n"
     ]
    },
    {
     "name": "stdout",
     "output_type": "stream",
     "text": [
      "[CV]  n_estimators=1400, min_samples_split=5, min_samples_leaf=2, max_features=auto, max_depth=None, bootstrap=True, total=26.3min\n",
      "[CV] n_estimators=2000, min_samples_split=2, min_samples_leaf=4, max_features=auto, max_depth=90, bootstrap=False \n",
      "[CV]  n_estimators=1400, min_samples_split=5, min_samples_leaf=2, max_features=auto, max_depth=None, bootstrap=True, total=24.8min\n",
      "[CV] n_estimators=2000, min_samples_split=2, min_samples_leaf=4, max_features=auto, max_depth=90, bootstrap=False \n",
      "[CV]  n_estimators=1800, min_samples_split=5, min_samples_leaf=2, max_features=auto, max_depth=30, bootstrap=True, total=30.7min\n",
      "[CV] n_estimators=2000, min_samples_split=2, min_samples_leaf=4, max_features=auto, max_depth=90, bootstrap=False \n",
      "[CV]  n_estimators=1800, min_samples_split=5, min_samples_leaf=2, max_features=auto, max_depth=30, bootstrap=True, total=31.0min\n",
      "[CV] n_estimators=2000, min_samples_split=10, min_samples_leaf=2, max_features=auto, max_depth=90, bootstrap=False \n",
      "[CV]  n_estimators=1800, min_samples_split=5, min_samples_leaf=2, max_features=auto, max_depth=30, bootstrap=True, total=32.2min\n",
      "[CV] n_estimators=2000, min_samples_split=10, min_samples_leaf=2, max_features=auto, max_depth=90, bootstrap=False \n"
     ]
    },
    {
     "ename": "KeyboardInterrupt",
     "evalue": "",
     "output_type": "error",
     "traceback": [
      "\u001b[0;31m---------------------------------------------------------------------------\u001b[0m",
      "\u001b[0;31mKeyboardInterrupt\u001b[0m                         Traceback (most recent call last)",
      "\u001b[0;32m<ipython-input-40-371cf223581d>\u001b[0m in \u001b[0;36m<module>\u001b[0;34m()\u001b[0m\n\u001b[1;32m     13\u001b[0m \u001b[0mrf_random\u001b[0m \u001b[0;34m=\u001b[0m \u001b[0mRandomizedSearchCV\u001b[0m\u001b[0;34m(\u001b[0m\u001b[0mestimator\u001b[0m \u001b[0;34m=\u001b[0m \u001b[0mrf\u001b[0m\u001b[0;34m,\u001b[0m \u001b[0mparam_distributions\u001b[0m \u001b[0;34m=\u001b[0m \u001b[0mparams\u001b[0m\u001b[0;34m,\u001b[0m \u001b[0mn_iter\u001b[0m \u001b[0;34m=\u001b[0m \u001b[0;36m100\u001b[0m\u001b[0;34m,\u001b[0m \u001b[0mcv\u001b[0m \u001b[0;34m=\u001b[0m \u001b[0;36m3\u001b[0m\u001b[0;34m,\u001b[0m                                                                \u001b[0mverbose\u001b[0m\u001b[0;34m=\u001b[0m\u001b[0;36m2\u001b[0m\u001b[0;34m,\u001b[0m \u001b[0mrandom_state\u001b[0m\u001b[0;34m=\u001b[0m\u001b[0;36m42\u001b[0m\u001b[0;34m,\u001b[0m \u001b[0mn_jobs\u001b[0m \u001b[0;34m=\u001b[0m \u001b[0;34m-\u001b[0m\u001b[0;36m1\u001b[0m\u001b[0;34m)\u001b[0m\u001b[0;34m\u001b[0m\u001b[0m\n\u001b[1;32m     14\u001b[0m \u001b[0;31m# Fit the random search model\u001b[0m\u001b[0;34m\u001b[0m\u001b[0;34m\u001b[0m\u001b[0m\n\u001b[0;32m---> 15\u001b[0;31m \u001b[0mrf_random\u001b[0m\u001b[0;34m.\u001b[0m\u001b[0mfit\u001b[0m\u001b[0;34m(\u001b[0m\u001b[0mx\u001b[0m\u001b[0;34m,\u001b[0m \u001b[0my\u001b[0m\u001b[0;34m)\u001b[0m\u001b[0;34m\u001b[0m\u001b[0m\n\u001b[0m",
      "\u001b[0;32m~/ENTER/lib/python3.6/site-packages/sklearn/model_selection/_search.py\u001b[0m in \u001b[0;36mfit\u001b[0;34m(self, X, y, groups, **fit_params)\u001b[0m\n\u001b[1;32m    638\u001b[0m                                   error_score=self.error_score)\n\u001b[1;32m    639\u001b[0m           for parameters, (train, test) in product(candidate_params,\n\u001b[0;32m--> 640\u001b[0;31m                                                    cv.split(X, y, groups)))\n\u001b[0m\u001b[1;32m    641\u001b[0m \u001b[0;34m\u001b[0m\u001b[0m\n\u001b[1;32m    642\u001b[0m         \u001b[0;31m# if one choose to see train score, \"out\" will contain train score info\u001b[0m\u001b[0;34m\u001b[0m\u001b[0;34m\u001b[0m\u001b[0m\n",
      "\u001b[0;32m~/ENTER/lib/python3.6/site-packages/sklearn/externals/joblib/parallel.py\u001b[0m in \u001b[0;36m__call__\u001b[0;34m(self, iterable)\u001b[0m\n\u001b[1;32m    787\u001b[0m                 \u001b[0;31m# consumption.\u001b[0m\u001b[0;34m\u001b[0m\u001b[0;34m\u001b[0m\u001b[0m\n\u001b[1;32m    788\u001b[0m                 \u001b[0mself\u001b[0m\u001b[0;34m.\u001b[0m\u001b[0m_iterating\u001b[0m \u001b[0;34m=\u001b[0m \u001b[0;32mFalse\u001b[0m\u001b[0;34m\u001b[0m\u001b[0m\n\u001b[0;32m--> 789\u001b[0;31m             \u001b[0mself\u001b[0m\u001b[0;34m.\u001b[0m\u001b[0mretrieve\u001b[0m\u001b[0;34m(\u001b[0m\u001b[0;34m)\u001b[0m\u001b[0;34m\u001b[0m\u001b[0m\n\u001b[0m\u001b[1;32m    790\u001b[0m             \u001b[0;31m# Make sure that we get a last message telling us we are done\u001b[0m\u001b[0;34m\u001b[0m\u001b[0;34m\u001b[0m\u001b[0m\n\u001b[1;32m    791\u001b[0m             \u001b[0melapsed_time\u001b[0m \u001b[0;34m=\u001b[0m \u001b[0mtime\u001b[0m\u001b[0;34m.\u001b[0m\u001b[0mtime\u001b[0m\u001b[0;34m(\u001b[0m\u001b[0;34m)\u001b[0m \u001b[0;34m-\u001b[0m \u001b[0mself\u001b[0m\u001b[0;34m.\u001b[0m\u001b[0m_start_time\u001b[0m\u001b[0;34m\u001b[0m\u001b[0m\n",
      "\u001b[0;32m~/ENTER/lib/python3.6/site-packages/sklearn/externals/joblib/parallel.py\u001b[0m in \u001b[0;36mretrieve\u001b[0;34m(self)\u001b[0m\n\u001b[1;32m    697\u001b[0m             \u001b[0;32mtry\u001b[0m\u001b[0;34m:\u001b[0m\u001b[0;34m\u001b[0m\u001b[0m\n\u001b[1;32m    698\u001b[0m                 \u001b[0;32mif\u001b[0m \u001b[0mgetattr\u001b[0m\u001b[0;34m(\u001b[0m\u001b[0mself\u001b[0m\u001b[0;34m.\u001b[0m\u001b[0m_backend\u001b[0m\u001b[0;34m,\u001b[0m \u001b[0;34m'supports_timeout'\u001b[0m\u001b[0;34m,\u001b[0m \u001b[0;32mFalse\u001b[0m\u001b[0;34m)\u001b[0m\u001b[0;34m:\u001b[0m\u001b[0;34m\u001b[0m\u001b[0m\n\u001b[0;32m--> 699\u001b[0;31m                     \u001b[0mself\u001b[0m\u001b[0;34m.\u001b[0m\u001b[0m_output\u001b[0m\u001b[0;34m.\u001b[0m\u001b[0mextend\u001b[0m\u001b[0;34m(\u001b[0m\u001b[0mjob\u001b[0m\u001b[0;34m.\u001b[0m\u001b[0mget\u001b[0m\u001b[0;34m(\u001b[0m\u001b[0mtimeout\u001b[0m\u001b[0;34m=\u001b[0m\u001b[0mself\u001b[0m\u001b[0;34m.\u001b[0m\u001b[0mtimeout\u001b[0m\u001b[0;34m)\u001b[0m\u001b[0;34m)\u001b[0m\u001b[0;34m\u001b[0m\u001b[0m\n\u001b[0m\u001b[1;32m    700\u001b[0m                 \u001b[0;32melse\u001b[0m\u001b[0;34m:\u001b[0m\u001b[0;34m\u001b[0m\u001b[0m\n\u001b[1;32m    701\u001b[0m                     \u001b[0mself\u001b[0m\u001b[0;34m.\u001b[0m\u001b[0m_output\u001b[0m\u001b[0;34m.\u001b[0m\u001b[0mextend\u001b[0m\u001b[0;34m(\u001b[0m\u001b[0mjob\u001b[0m\u001b[0;34m.\u001b[0m\u001b[0mget\u001b[0m\u001b[0;34m(\u001b[0m\u001b[0;34m)\u001b[0m\u001b[0;34m)\u001b[0m\u001b[0;34m\u001b[0m\u001b[0m\n",
      "\u001b[0;32m~/ENTER/lib/python3.6/multiprocessing/pool.py\u001b[0m in \u001b[0;36mget\u001b[0;34m(self, timeout)\u001b[0m\n\u001b[1;32m    636\u001b[0m \u001b[0;34m\u001b[0m\u001b[0m\n\u001b[1;32m    637\u001b[0m     \u001b[0;32mdef\u001b[0m \u001b[0mget\u001b[0m\u001b[0;34m(\u001b[0m\u001b[0mself\u001b[0m\u001b[0;34m,\u001b[0m \u001b[0mtimeout\u001b[0m\u001b[0;34m=\u001b[0m\u001b[0;32mNone\u001b[0m\u001b[0;34m)\u001b[0m\u001b[0;34m:\u001b[0m\u001b[0;34m\u001b[0m\u001b[0m\n\u001b[0;32m--> 638\u001b[0;31m         \u001b[0mself\u001b[0m\u001b[0;34m.\u001b[0m\u001b[0mwait\u001b[0m\u001b[0;34m(\u001b[0m\u001b[0mtimeout\u001b[0m\u001b[0;34m)\u001b[0m\u001b[0;34m\u001b[0m\u001b[0m\n\u001b[0m\u001b[1;32m    639\u001b[0m         \u001b[0;32mif\u001b[0m \u001b[0;32mnot\u001b[0m \u001b[0mself\u001b[0m\u001b[0;34m.\u001b[0m\u001b[0mready\u001b[0m\u001b[0;34m(\u001b[0m\u001b[0;34m)\u001b[0m\u001b[0;34m:\u001b[0m\u001b[0;34m\u001b[0m\u001b[0m\n\u001b[1;32m    640\u001b[0m             \u001b[0;32mraise\u001b[0m \u001b[0mTimeoutError\u001b[0m\u001b[0;34m\u001b[0m\u001b[0m\n",
      "\u001b[0;32m~/ENTER/lib/python3.6/multiprocessing/pool.py\u001b[0m in \u001b[0;36mwait\u001b[0;34m(self, timeout)\u001b[0m\n\u001b[1;32m    633\u001b[0m \u001b[0;34m\u001b[0m\u001b[0m\n\u001b[1;32m    634\u001b[0m     \u001b[0;32mdef\u001b[0m \u001b[0mwait\u001b[0m\u001b[0;34m(\u001b[0m\u001b[0mself\u001b[0m\u001b[0;34m,\u001b[0m \u001b[0mtimeout\u001b[0m\u001b[0;34m=\u001b[0m\u001b[0;32mNone\u001b[0m\u001b[0;34m)\u001b[0m\u001b[0;34m:\u001b[0m\u001b[0;34m\u001b[0m\u001b[0m\n\u001b[0;32m--> 635\u001b[0;31m         \u001b[0mself\u001b[0m\u001b[0;34m.\u001b[0m\u001b[0m_event\u001b[0m\u001b[0;34m.\u001b[0m\u001b[0mwait\u001b[0m\u001b[0;34m(\u001b[0m\u001b[0mtimeout\u001b[0m\u001b[0;34m)\u001b[0m\u001b[0;34m\u001b[0m\u001b[0m\n\u001b[0m\u001b[1;32m    636\u001b[0m \u001b[0;34m\u001b[0m\u001b[0m\n\u001b[1;32m    637\u001b[0m     \u001b[0;32mdef\u001b[0m \u001b[0mget\u001b[0m\u001b[0;34m(\u001b[0m\u001b[0mself\u001b[0m\u001b[0;34m,\u001b[0m \u001b[0mtimeout\u001b[0m\u001b[0;34m=\u001b[0m\u001b[0;32mNone\u001b[0m\u001b[0;34m)\u001b[0m\u001b[0;34m:\u001b[0m\u001b[0;34m\u001b[0m\u001b[0m\n",
      "\u001b[0;32m~/ENTER/lib/python3.6/threading.py\u001b[0m in \u001b[0;36mwait\u001b[0;34m(self, timeout)\u001b[0m\n\u001b[1;32m    549\u001b[0m             \u001b[0msignaled\u001b[0m \u001b[0;34m=\u001b[0m \u001b[0mself\u001b[0m\u001b[0;34m.\u001b[0m\u001b[0m_flag\u001b[0m\u001b[0;34m\u001b[0m\u001b[0m\n\u001b[1;32m    550\u001b[0m             \u001b[0;32mif\u001b[0m \u001b[0;32mnot\u001b[0m \u001b[0msignaled\u001b[0m\u001b[0;34m:\u001b[0m\u001b[0;34m\u001b[0m\u001b[0m\n\u001b[0;32m--> 551\u001b[0;31m                 \u001b[0msignaled\u001b[0m \u001b[0;34m=\u001b[0m \u001b[0mself\u001b[0m\u001b[0;34m.\u001b[0m\u001b[0m_cond\u001b[0m\u001b[0;34m.\u001b[0m\u001b[0mwait\u001b[0m\u001b[0;34m(\u001b[0m\u001b[0mtimeout\u001b[0m\u001b[0;34m)\u001b[0m\u001b[0;34m\u001b[0m\u001b[0m\n\u001b[0m\u001b[1;32m    552\u001b[0m             \u001b[0;32mreturn\u001b[0m \u001b[0msignaled\u001b[0m\u001b[0;34m\u001b[0m\u001b[0m\n\u001b[1;32m    553\u001b[0m \u001b[0;34m\u001b[0m\u001b[0m\n",
      "\u001b[0;32m~/ENTER/lib/python3.6/threading.py\u001b[0m in \u001b[0;36mwait\u001b[0;34m(self, timeout)\u001b[0m\n\u001b[1;32m    293\u001b[0m         \u001b[0;32mtry\u001b[0m\u001b[0;34m:\u001b[0m    \u001b[0;31m# restore state no matter what (e.g., KeyboardInterrupt)\u001b[0m\u001b[0;34m\u001b[0m\u001b[0m\n\u001b[1;32m    294\u001b[0m             \u001b[0;32mif\u001b[0m \u001b[0mtimeout\u001b[0m \u001b[0;32mis\u001b[0m \u001b[0;32mNone\u001b[0m\u001b[0;34m:\u001b[0m\u001b[0;34m\u001b[0m\u001b[0m\n\u001b[0;32m--> 295\u001b[0;31m                 \u001b[0mwaiter\u001b[0m\u001b[0;34m.\u001b[0m\u001b[0macquire\u001b[0m\u001b[0;34m(\u001b[0m\u001b[0;34m)\u001b[0m\u001b[0;34m\u001b[0m\u001b[0m\n\u001b[0m\u001b[1;32m    296\u001b[0m                 \u001b[0mgotit\u001b[0m \u001b[0;34m=\u001b[0m \u001b[0;32mTrue\u001b[0m\u001b[0;34m\u001b[0m\u001b[0m\n\u001b[1;32m    297\u001b[0m             \u001b[0;32melse\u001b[0m\u001b[0;34m:\u001b[0m\u001b[0;34m\u001b[0m\u001b[0m\n",
      "\u001b[0;31mKeyboardInterrupt\u001b[0m: "
     ]
    }
   ],
   "source": [
    "t0 = time()\n",
    "\n",
    "params = {'bootstrap': [True, False],\n",
    " 'max_depth': [10, 20, 30, 40, 50, 60, 70, 80, 90, 100, None],\n",
    " 'max_features': ['auto', 'sqrt'],\n",
    " 'min_samples_leaf': [1, 2, 4],\n",
    " 'min_samples_split': [2, 5, 10],\n",
    " 'n_estimators': [200, 400, 600, 800, 1000, 1200, 1400, 1600, 1800, 2000]}\n",
    "\n",
    "\n",
    "rf = RandomForestRegressor()\n",
    "\n",
    "rf_random = RandomizedSearchCV(estimator = rf, param_distributions = params, n_iter = 100, cv = 3, \\\n",
    "                                                               verbose=2, random_state=42, n_jobs = -1)\n",
    "# Fit the random search model\n",
    "rf_random.fit(x, y)\n",
    "\n",
    "\n",
    "tf = time() - t0\n",
    "print (\"Tiempo de ejecución: %0.5f seconds.\" % tf)"
   ]
  },
  {
   "cell_type": "markdown",
   "metadata": {},
   "source": [
    "### Set de entrenamiento"
   ]
  },
  {
   "cell_type": "code",
   "execution_count": 74,
   "metadata": {},
   "outputs": [
    {
     "name": "stdout",
     "output_type": "stream",
     "text": [
      "Precisión:  0.8525362122525647\n",
      "Tiempo de ejecución: 0.54864 seconds.\n"
     ]
    }
   ],
   "source": [
    "t0 = time()\n",
    "\n",
    "# Parámetros óptimos\n",
    "params_optimos_rf = {'n_estimators':50, 'max_features':'sqrt', 'max_depth':5, 'min_samples_split':2,\\\n",
    "                     'min_samples_leaf':2, 'bootstrap':True, 'oob_score':True, 'warm_start':True}\n",
    "\n",
    "# Creamos el Random Forest\n",
    "random_forest = RandomForestRegressor(**params_optimos_rf)\n",
    "\n",
    "# Lo entrenamos con nuestro set de entrenamiento\n",
    "random_forest.fit(x_train,y_train)\n",
    "\n",
    "# Predecimos valores de nuestro set de datos\n",
    "pred = random_forest.predict(x_test)\n",
    "\n",
    "# Evaluamos la precisión\n",
    "precision = roc_auc_score(y_test, pred)\n",
    "\n",
    "print(\"Precisión: \", precision)\n",
    "\n",
    "tf = time() - t0\n",
    "print (\"Tiempo de ejecución: %0.5f seconds.\" % tf)"
   ]
  },
  {
   "cell_type": "code",
   "execution_count": null,
   "metadata": {},
   "outputs": [],
   "source": []
  },
  {
   "cell_type": "markdown",
   "metadata": {},
   "source": [
    "### Test final"
   ]
  },
  {
   "cell_type": "markdown",
   "metadata": {},
   "source": [
    "#### Predicciones con probabilidades"
   ]
  },
  {
   "cell_type": "code",
   "execution_count": null,
   "metadata": {},
   "outputs": [],
   "source": [
    "t0 = time()\n",
    "\n",
    "# Creamos el random forest\n",
    "random_forest = RandomForestClassifier(**params_optimos_rf)\n",
    "\n",
    "# Lo entrenamos con la totalidad del set de datos\n",
    "random_forest.fit(x,y)\n",
    "\n",
    "# Predecimos las postulaciones del set final\n",
    "pred_final_proba = random_forest.predict_proba(x_test_final)\n",
    "\n",
    "# Nos quedamos con la columna correspondiente de probabilidades\n",
    "df_predicciones = pd.DataFrame(pred_final_proba)\n",
    "pred_final_proba = np.array(df_predicciones[1])\n",
    "\n",
    "tf = time() - t0\n",
    "print (\"Tiempo de ejecución: %0.5f seconds.\" % tf)"
   ]
  },
  {
   "cell_type": "markdown",
   "metadata": {},
   "source": [
    "### Submit files"
   ]
  },
  {
   "cell_type": "markdown",
   "metadata": {},
   "source": [
    "#### Submit con probabilidades"
   ]
  },
  {
   "cell_type": "code",
   "execution_count": null,
   "metadata": {},
   "outputs": [],
   "source": []
  },
  {
   "cell_type": "markdown",
   "metadata": {},
   "source": [
    " "
   ]
  },
  {
   "cell_type": "markdown",
   "metadata": {},
   "source": [
    "#  Extra Trees"
   ]
  },
  {
   "cell_type": "markdown",
   "metadata": {},
   "source": [
    "### Set de entrenamiento"
   ]
  },
  {
   "cell_type": "code",
   "execution_count": 72,
   "metadata": {
    "scrolled": true
   },
   "outputs": [
    {
     "name": "stdout",
     "output_type": "stream",
     "text": [
      "Precisión:  0.7832972113856379\n",
      "Tiempo de ejecución: 0.62484 seconds.\n"
     ]
    }
   ],
   "source": [
    "t0 = time()\n",
    "\n",
    "# Parámetros óptimos\n",
    "params_optimos_et = {'n_estimators':100, 'max_features':'sqrt', 'max_depth':5, 'min_samples_split':2,\\\n",
    "                     'min_samples_leaf':2, 'bootstrap':True, 'oob_score':True, 'warm_start':True}\n",
    "\n",
    "# Creamos el extra_trees\n",
    "extra_trees = ExtraTreesRegressor(**params_optimos_et)\n",
    "\n",
    "# Lo entrenamos con nuestro set de entrenamiento\n",
    "extra_trees.fit(x_train,y_train)\n",
    "\n",
    "# Predecimos valores de nuestro set de datos\n",
    "pred = extra_trees.predict(x_test)\n",
    "\n",
    "# Evaluamos la precisión\n",
    "precision = roc_auc_score(y_test, pred)\n",
    "\n",
    "print(\"Precisión: \", precision)\n",
    "\n",
    "tf = time() - t0\n",
    "print (\"Tiempo de ejecución: %0.5f seconds.\" % tf)"
   ]
  },
  {
   "cell_type": "markdown",
   "metadata": {},
   "source": [
    "### Test final"
   ]
  },
  {
   "cell_type": "markdown",
   "metadata": {},
   "source": [
    "#### Predicciones con probabilidades"
   ]
  },
  {
   "cell_type": "code",
   "execution_count": null,
   "metadata": {},
   "outputs": [],
   "source": [
    "t0 = time()\n",
    "\n",
    "# Creamos el extra trees\n",
    "extra_trees = ExtraTreesRegressor(**params_optimos_et)\n",
    "\n",
    "# Lo entrenamos con la totalidad del set de datos\n",
    "extra_trees.fit(x,y)\n",
    "\n",
    "# Predecimos las postulaciones del set final\n",
    "pred_final_proba = extra_trees.predict_proba(x_test_final)\n",
    "\n",
    "# Nos quedamos con la columna correspondiente de probabilidades\n",
    "df_predicciones = pd.DataFrame(pred_final_proba)\n",
    "pred_final_proba = np.array(df_predicciones[1])\n",
    "\n",
    "tf = time() - t0\n",
    "print (\"Tiempo de ejecución: %0.5f seconds.\" % tf)"
   ]
  },
  {
   "cell_type": "markdown",
   "metadata": {},
   "source": [
    "### Submit file"
   ]
  },
  {
   "cell_type": "markdown",
   "metadata": {},
   "source": [
    "#### Submit con probabilidades"
   ]
  },
  {
   "cell_type": "code",
   "execution_count": null,
   "metadata": {},
   "outputs": [],
   "source": []
  },
  {
   "cell_type": "code",
   "execution_count": null,
   "metadata": {},
   "outputs": [],
   "source": []
  },
  {
   "cell_type": "markdown",
   "metadata": {},
   "source": [
    " "
   ]
  },
  {
   "cell_type": "markdown",
   "metadata": {},
   "source": [
    "# Gaussian Naive Bayes"
   ]
  },
  {
   "cell_type": "markdown",
   "metadata": {},
   "source": [
    "### Set de entrenamiento"
   ]
  },
  {
   "cell_type": "code",
   "execution_count": 24,
   "metadata": {
    "scrolled": true
   },
   "outputs": [
    {
     "name": "stdout",
     "output_type": "stream",
     "text": [
      "Precisión:  0.6684005201560468\n",
      "Tiempo de ejecución: 0.04156 seconds.\n"
     ]
    }
   ],
   "source": [
    "t0 = time()\n",
    "\n",
    "# Creamos el naive bayes\n",
    "naive_bayes = GaussianNB()\n",
    "\n",
    "# Lo entrenamos con nuestro set de entrenamiento\n",
    "naive_bayes.fit(x_train,y_train)\n",
    "\n",
    "# Predecimos valores de nuestro set de datos\n",
    "pred = naive_bayes.predict(x_test)\n",
    "\n",
    "# Evaluamos la precisión\n",
    "precision = roc_auc_score(y_test, pred)\n",
    "\n",
    "print(\"Precisión: \", precision)\n",
    "\n",
    "tf = time() - t0\n",
    "print (\"Tiempo de ejecución: %0.5f seconds.\" % tf)"
   ]
  },
  {
   "cell_type": "markdown",
   "metadata": {},
   "source": [
    "### Test final"
   ]
  },
  {
   "cell_type": "markdown",
   "metadata": {},
   "source": [
    "#### Predicciones con probabilidades"
   ]
  },
  {
   "cell_type": "code",
   "execution_count": null,
   "metadata": {},
   "outputs": [],
   "source": [
    "t0 = time()\n",
    "\n",
    "# Creamos el naive bayes\n",
    "naive_bayes = GaussianNB()\n",
    "\n",
    "# Lo entrenamos con la totalidad del set de datos\n",
    "naive_bayes.fit(x,y)\n",
    "\n",
    "# Predecimos las postulaciones del set final\n",
    "pred_final_proba = naive_bayes.predict_proba(test)\n",
    "\n",
    "# Nos quedamos con la columna correspondiente de probabilidades\n",
    "df_predicciones = pd.DataFrame(pred_final_proba)\n",
    "pred_final_proba = np.array(df_predicciones[1])\n",
    "\n",
    "tf = time() - t0\n",
    "print (\"Tiempo de ejecución: %0.5f seconds.\" % tf)"
   ]
  },
  {
   "cell_type": "markdown",
   "metadata": {},
   "source": [
    "### Submit file"
   ]
  },
  {
   "cell_type": "markdown",
   "metadata": {},
   "source": [
    "#### Submit con probabilidades"
   ]
  },
  {
   "cell_type": "code",
   "execution_count": null,
   "metadata": {},
   "outputs": [],
   "source": [
    "\n"
   ]
  },
  {
   "cell_type": "code",
   "execution_count": null,
   "metadata": {},
   "outputs": [],
   "source": []
  },
  {
   "cell_type": "markdown",
   "metadata": {},
   "source": [
    " "
   ]
  },
  {
   "cell_type": "markdown",
   "metadata": {},
   "source": [
    "#  Perceptron"
   ]
  },
  {
   "cell_type": "markdown",
   "metadata": {},
   "source": [
    "### Set de entrenamiento"
   ]
  },
  {
   "cell_type": "code",
   "execution_count": null,
   "metadata": {},
   "outputs": [],
   "source": [
    "t0 = time()\n",
    "\n",
    "# Creamos el perceptron\n",
    "perceptron = Perceptron()\n",
    "\n",
    "# Lo entrenamos con nuestro set de entrenamiento\n",
    "perceptron.fit(x_train,y_train)\n",
    "\n",
    "# Predecimos valores de nuestro set de datos\n",
    "pred = perceptron.predict(x_test)\n",
    "\n",
    "# Evaluamos la precisión\n",
    "precision = roc_auc_score(y_test, pred)\n",
    "\n",
    "print(\"Precisión: \", precision)\n",
    "\n",
    "tf = time() - t0\n",
    "print (\"Tiempo de ejecución: %0.5f seconds.\" % tf)"
   ]
  },
  {
   "cell_type": "markdown",
   "metadata": {},
   "source": [
    "### Test final"
   ]
  },
  {
   "cell_type": "markdown",
   "metadata": {},
   "source": [
    "#### Predicciones con valores binarios"
   ]
  },
  {
   "cell_type": "code",
   "execution_count": null,
   "metadata": {},
   "outputs": [],
   "source": [
    "t0 = time()\n",
    "\n",
    "# Creamos el perceptron\n",
    "perceptron = Perceptron()\n",
    "\n",
    "# Lo entrenamos con la totalidad del set de datos\n",
    "perceptron.fit(x,y)\n",
    "\n",
    "# Predecimos las postulaciones del set final\n",
    "pred_final = perceptron.predict(x_test_final)\n",
    "\n",
    "tf = time() - t0\n",
    "print (\"Tiempo de ejecución: %0.5f seconds.\" % tf)"
   ]
  },
  {
   "cell_type": "markdown",
   "metadata": {},
   "source": [
    "### Submit file"
   ]
  },
  {
   "cell_type": "code",
   "execution_count": null,
   "metadata": {},
   "outputs": [],
   "source": []
  },
  {
   "cell_type": "code",
   "execution_count": null,
   "metadata": {},
   "outputs": [],
   "source": []
  },
  {
   "cell_type": "markdown",
   "metadata": {},
   "source": [
    " "
   ]
  },
  {
   "cell_type": "markdown",
   "metadata": {},
   "source": [
    " "
   ]
  },
  {
   "cell_type": "markdown",
   "metadata": {},
   "source": [
    "# Adaptive Boosting"
   ]
  },
  {
   "cell_type": "markdown",
   "metadata": {},
   "source": [
    "### Set de entrenamiento"
   ]
  },
  {
   "cell_type": "code",
   "execution_count": 55,
   "metadata": {},
   "outputs": [
    {
     "name": "stdout",
     "output_type": "stream",
     "text": [
      "Precisión:  0.8205037205606126\n",
      "Tiempo de ejecución: 1.04821 seconds.\n"
     ]
    }
   ],
   "source": [
    "t0 = time()\n",
    "\n",
    "# Parámetros óptimos\n",
    "params_optimos_ab = {'n_estimators':50}\n",
    "\n",
    "# Creamos el adaptive boosting\n",
    "ada_boost = AdaBoostRegressor(**params_optimos_ab)\n",
    "\n",
    "# Lo entrenamos con nuestro set de entrenamiento\n",
    "ada_boost.fit(x_train,y_train)\n",
    "\n",
    "# Predecimos valores de nuestro set de datos\n",
    "pred = ada_boost.predict(x_test)\n",
    "\n",
    "# Evaluamos la precisión\n",
    "precision = roc_auc_score(y_test, pred)\n",
    "\n",
    "print(\"Precisión: \", precision)\n",
    "\n",
    "tf = time() - t0\n",
    "print (\"Tiempo de ejecución: %0.5f seconds.\" % tf)"
   ]
  },
  {
   "cell_type": "markdown",
   "metadata": {},
   "source": [
    "### Test final"
   ]
  },
  {
   "cell_type": "markdown",
   "metadata": {},
   "source": [
    "#### Predicciones con probabilidades"
   ]
  },
  {
   "cell_type": "code",
   "execution_count": null,
   "metadata": {},
   "outputs": [],
   "source": [
    "t0 = time()\n",
    "\n",
    "# Creamos el adaptive boosting\n",
    "ada_boost = AdaBoostRegressor(**params_optimos_ab)\n",
    "\n",
    "# Lo entrenamos con la totalidad del set de datos\n",
    "ada_boost.fit(x,y)\n",
    "\n",
    "# Predecimos las postulaciones del set final\n",
    "pred_final_proba = ada_boost.predict_proba(x_test_final)\n",
    "\n",
    "# Nos quedamos con la columna correspondiente de probabilidades\n",
    "df_predicciones = pd.DataFrame(pred_final_proba)\n",
    "pred_final_proba = np.array(df_predicciones[1])\n",
    "\n",
    "tf = time() - t0\n",
    "print (\"Tiempo de ejecución: %0.5f seconds.\" % tf)"
   ]
  },
  {
   "cell_type": "markdown",
   "metadata": {},
   "source": [
    "### Submit file"
   ]
  },
  {
   "cell_type": "markdown",
   "metadata": {},
   "source": [
    "#### Submit con probabilidades"
   ]
  },
  {
   "cell_type": "code",
   "execution_count": null,
   "metadata": {},
   "outputs": [],
   "source": []
  },
  {
   "cell_type": "code",
   "execution_count": null,
   "metadata": {},
   "outputs": [],
   "source": []
  },
  {
   "cell_type": "markdown",
   "metadata": {},
   "source": [
    "# Gradient Boosting"
   ]
  },
  {
   "cell_type": "markdown",
   "metadata": {},
   "source": [
    "### Grid Search"
   ]
  },
  {
   "cell_type": "markdown",
   "metadata": {},
   "source": [
    "129.3min"
   ]
  },
  {
   "cell_type": "code",
   "execution_count": 58,
   "metadata": {},
   "outputs": [
    {
     "name": "stdout",
     "output_type": "stream",
     "text": [
      "Fitting 3 folds for each of 144 candidates, totalling 432 fits\n",
      "[CV] criterion=friedman_mse, learning_rate=0.2, loss=deviance, max_depth=5, max_features=sqrt, min_samples_leaf=0.1, min_samples_split=0.1, n_estimators=10, subsample=0.9 \n",
      "[CV] criterion=friedman_mse, learning_rate=0.2, loss=deviance, max_depth=5, max_features=sqrt, min_samples_leaf=0.1, min_samples_split=0.1, n_estimators=10, subsample=0.9 \n",
      "[CV] criterion=friedman_mse, learning_rate=0.2, loss=deviance, max_depth=5, max_features=sqrt, min_samples_leaf=0.1, min_samples_split=0.1, n_estimators=10, subsample=0.9 \n",
      "[CV] criterion=friedman_mse, learning_rate=0.2, loss=deviance, max_depth=5, max_features=sqrt, min_samples_leaf=0.1, min_samples_split=0.13636363636363638, n_estimators=10, subsample=0.9 \n",
      "[CV] criterion=friedman_mse, learning_rate=0.2, loss=deviance, max_depth=5, max_features=sqrt, min_samples_leaf=0.1, min_samples_split=0.13636363636363638, n_estimators=10, subsample=0.9 \n",
      "[CV] criterion=friedman_mse, learning_rate=0.2, loss=deviance, max_depth=5, max_features=sqrt, min_samples_leaf=0.1, min_samples_split=0.13636363636363638, n_estimators=10, subsample=0.9 \n",
      "[CV] criterion=friedman_mse, learning_rate=0.2, loss=deviance, max_depth=5, max_features=sqrt, min_samples_leaf=0.1, min_samples_split=0.17272727272727273, n_estimators=10, subsample=0.9 \n",
      "[CV] criterion=friedman_mse, learning_rate=0.2, loss=deviance, max_depth=5, max_features=sqrt, min_samples_leaf=0.1, min_samples_split=0.17272727272727273, n_estimators=10, subsample=0.9 \n",
      "[CV]  criterion=friedman_mse, learning_rate=0.2, loss=deviance, max_depth=5, max_features=sqrt, min_samples_leaf=0.1, min_samples_split=0.1, n_estimators=10, subsample=0.9, score=0.8084041271467728, total=   0.2s\n",
      "[CV] criterion=friedman_mse, learning_rate=0.2, loss=deviance, max_depth=5, max_features=sqrt, min_samples_leaf=0.1, min_samples_split=0.17272727272727273, n_estimators=10, subsample=0.9 \n",
      "[CV]  criterion=friedman_mse, learning_rate=0.2, loss=deviance, max_depth=5, max_features=sqrt, min_samples_leaf=0.1, min_samples_split=0.1, n_estimators=10, subsample=0.9, score=0.8283631931341937, total=   0.3s\n",
      "[CV] criterion=friedman_mse, learning_rate=0.2, loss=deviance, max_depth=5, max_features=sqrt, min_samples_leaf=0.1, min_samples_split=0.2090909090909091, n_estimators=10, subsample=0.9 \n",
      "[CV]  criterion=friedman_mse, learning_rate=0.2, loss=deviance, max_depth=5, max_features=sqrt, min_samples_leaf=0.1, min_samples_split=0.1, n_estimators=10, subsample=0.9, score=0.831224913421518, total=   0.3s\n",
      "[CV]  criterion=friedman_mse, learning_rate=0.2, loss=deviance, max_depth=5, max_features=sqrt, min_samples_leaf=0.1, min_samples_split=0.13636363636363638, n_estimators=10, subsample=0.9, score=0.8084041271467728, total=   0.3s\n",
      "[CV]  criterion=friedman_mse, learning_rate=0.2, loss=deviance, max_depth=5, max_features=sqrt, min_samples_leaf=0.1, min_samples_split=0.13636363636363638, n_estimators=10, subsample=0.9, score=0.8283631931341937, total=   0.3s\n",
      "[CV] criterion=friedman_mse, learning_rate=0.2, loss=deviance, max_depth=5, max_features=sqrt, min_samples_leaf=0.1, min_samples_split=0.2090909090909091, n_estimators=10, subsample=0.9 \n",
      "[CV] criterion=friedman_mse, learning_rate=0.2, loss=deviance, max_depth=5, max_features=sqrt, min_samples_leaf=0.1, min_samples_split=0.2090909090909091, n_estimators=10, subsample=0.9 \n",
      "[CV]  criterion=friedman_mse, learning_rate=0.2, loss=deviance, max_depth=5, max_features=sqrt, min_samples_leaf=0.1, min_samples_split=0.13636363636363638, n_estimators=10, subsample=0.9, score=0.831224913421518, total=   0.3s\n",
      "[CV]  criterion=friedman_mse, learning_rate=0.2, loss=deviance, max_depth=5, max_features=sqrt, min_samples_leaf=0.1, min_samples_split=0.17272727272727273, n_estimators=10, subsample=0.9, score=0.8084041271467728, total=   0.3s\n",
      "[CV] criterion=friedman_mse, learning_rate=0.2, loss=deviance, max_depth=5, max_features=sqrt, min_samples_leaf=0.1, min_samples_split=0.24545454545454548, n_estimators=10, subsample=0.9 \n",
      "[CV]  criterion=friedman_mse, learning_rate=0.2, loss=deviance, max_depth=5, max_features=sqrt, min_samples_leaf=0.1, min_samples_split=0.17272727272727273, n_estimators=10, subsample=0.9, score=0.8283631931341937, total=   0.3s\n",
      "[CV] criterion=friedman_mse, learning_rate=0.2, loss=deviance, max_depth=5, max_features=sqrt, min_samples_leaf=0.1, min_samples_split=0.24545454545454548, n_estimators=10, subsample=0.9 \n",
      "[CV] criterion=friedman_mse, learning_rate=0.2, loss=deviance, max_depth=5, max_features=sqrt, min_samples_leaf=0.1, min_samples_split=0.24545454545454548, n_estimators=10, subsample=0.9 \n",
      "[CV]  criterion=friedman_mse, learning_rate=0.2, loss=deviance, max_depth=5, max_features=sqrt, min_samples_leaf=0.1, min_samples_split=0.17272727272727273, n_estimators=10, subsample=0.9, score=0.8390205070092386, total=   0.2s\n",
      "[CV] criterion=friedman_mse, learning_rate=0.2, loss=deviance, max_depth=5, max_features=sqrt, min_samples_leaf=0.1, min_samples_split=0.28181818181818186, n_estimators=10, subsample=0.9 \n",
      "[CV] criterion=friedman_mse, learning_rate=0.2, loss=deviance, max_depth=5, max_features=sqrt, min_samples_leaf=0.1, min_samples_split=0.28181818181818186, n_estimators=10, subsample=0.9 \n",
      "[CV]  criterion=friedman_mse, learning_rate=0.2, loss=deviance, max_depth=5, max_features=sqrt, min_samples_leaf=0.1, min_samples_split=0.2090909090909091, n_estimators=10, subsample=0.9, score=0.792599538284023, total=   0.2s\n",
      "[CV] criterion=friedman_mse, learning_rate=0.2, loss=deviance, max_depth=5, max_features=sqrt, min_samples_leaf=0.1, min_samples_split=0.28181818181818186, n_estimators=10, subsample=0.9 \n",
      "[CV]  criterion=friedman_mse, learning_rate=0.2, loss=deviance, max_depth=5, max_features=sqrt, min_samples_leaf=0.1, min_samples_split=0.2090909090909091, n_estimators=10, subsample=0.9, score=0.8352748721581048, total=   0.2s\n",
      "[CV]  criterion=friedman_mse, learning_rate=0.2, loss=deviance, max_depth=5, max_features=sqrt, min_samples_leaf=0.1, min_samples_split=0.2090909090909091, n_estimators=10, subsample=0.9, score=0.840926822207866, total=   0.2s\n",
      "[CV] criterion=friedman_mse, learning_rate=0.2, loss=deviance, max_depth=5, max_features=sqrt, min_samples_leaf=0.1, min_samples_split=0.31818181818181823, n_estimators=10, subsample=0.9 \n",
      "[CV] criterion=friedman_mse, learning_rate=0.2, loss=deviance, max_depth=5, max_features=sqrt, min_samples_leaf=0.1, min_samples_split=0.31818181818181823, n_estimators=10, subsample=0.9 \n",
      "[CV]  criterion=friedman_mse, learning_rate=0.2, loss=deviance, max_depth=5, max_features=sqrt, min_samples_leaf=0.1, min_samples_split=0.24545454545454548, n_estimators=10, subsample=0.9, score=0.7965721059925531, total=   0.3s\n",
      "[CV]  criterion=friedman_mse, learning_rate=0.2, loss=deviance, max_depth=5, max_features=sqrt, min_samples_leaf=0.1, min_samples_split=0.24545454545454548, n_estimators=10, subsample=0.9, score=0.8332035654245563, total=   0.2s\n",
      "[CV] criterion=friedman_mse, learning_rate=0.2, loss=deviance, max_depth=5, max_features=sqrt, min_samples_leaf=0.1, min_samples_split=0.31818181818181823, n_estimators=10, subsample=0.9 \n",
      "[CV]  criterion=friedman_mse, learning_rate=0.2, loss=deviance, max_depth=5, max_features=sqrt, min_samples_leaf=0.1, min_samples_split=0.24545454545454548, n_estimators=10, subsample=0.9, score=0.8342503062460065, total=   0.3s\n",
      "[CV]  criterion=friedman_mse, learning_rate=0.2, loss=deviance, max_depth=5, max_features=sqrt, min_samples_leaf=0.1, min_samples_split=0.28181818181818186, n_estimators=10, subsample=0.9, score=0.8293716040280193, total=   0.2s\n",
      "[CV] criterion=friedman_mse, learning_rate=0.2, loss=deviance, max_depth=5, max_features=sqrt, min_samples_leaf=0.1, min_samples_split=0.3545454545454546, n_estimators=10, subsample=0.9 \n",
      "[CV]  criterion=friedman_mse, learning_rate=0.2, loss=deviance, max_depth=5, max_features=sqrt, min_samples_leaf=0.1, min_samples_split=0.28181818181818186, n_estimators=10, subsample=0.9, score=0.8287228747233196, total=   0.2s\n",
      "[CV] criterion=friedman_mse, learning_rate=0.2, loss=deviance, max_depth=5, max_features=sqrt, min_samples_leaf=0.1, min_samples_split=0.3545454545454546, n_estimators=10, subsample=0.9 \n",
      "[CV]  criterion=friedman_mse, learning_rate=0.2, loss=deviance, max_depth=5, max_features=sqrt, min_samples_leaf=0.1, min_samples_split=0.28181818181818186, n_estimators=10, subsample=0.9, score=0.8029112536898172, total=   0.3s\n"
     ]
    },
    {
     "name": "stdout",
     "output_type": "stream",
     "text": [
      "[CV] criterion=friedman_mse, learning_rate=0.2, loss=deviance, max_depth=5, max_features=sqrt, min_samples_leaf=0.1, min_samples_split=0.3545454545454546, n_estimators=10, subsample=0.9 \n",
      "[CV] criterion=friedman_mse, learning_rate=0.2, loss=deviance, max_depth=5, max_features=sqrt, min_samples_leaf=0.1, min_samples_split=0.390909090909091, n_estimators=10, subsample=0.9 \n",
      "[CV] criterion=friedman_mse, learning_rate=0.2, loss=deviance, max_depth=5, max_features=sqrt, min_samples_leaf=0.1, min_samples_split=0.390909090909091, n_estimators=10, subsample=0.9 \n",
      "[CV]  criterion=friedman_mse, learning_rate=0.2, loss=deviance, max_depth=5, max_features=sqrt, min_samples_leaf=0.1, min_samples_split=0.31818181818181823, n_estimators=10, subsample=0.9, score=0.8186380696862458, total=   0.2s\n",
      "[CV] criterion=friedman_mse, learning_rate=0.2, loss=deviance, max_depth=5, max_features=sqrt, min_samples_leaf=0.1, min_samples_split=0.390909090909091, n_estimators=10, subsample=0.9 \n",
      "[CV]  criterion=friedman_mse, learning_rate=0.2, loss=deviance, max_depth=5, max_features=sqrt, min_samples_leaf=0.1, min_samples_split=0.31818181818181823, n_estimators=10, subsample=0.9, score=0.829072815615034, total=   0.2s\n"
     ]
    },
    {
     "name": "stderr",
     "output_type": "stream",
     "text": [
      "[Parallel(n_jobs=-1)]: Done  16 tasks      | elapsed:    0.9s\n"
     ]
    },
    {
     "name": "stdout",
     "output_type": "stream",
     "text": [
      "[CV] criterion=friedman_mse, learning_rate=0.2, loss=deviance, max_depth=5, max_features=sqrt, min_samples_leaf=0.1, min_samples_split=0.42727272727272736, n_estimators=10, subsample=0.9 \n",
      "[CV]  criterion=friedman_mse, learning_rate=0.2, loss=deviance, max_depth=5, max_features=sqrt, min_samples_leaf=0.1, min_samples_split=0.3545454545454546, n_estimators=10, subsample=0.9, score=0.8193947074026586, total=   0.2s\n",
      "[CV]  criterion=friedman_mse, learning_rate=0.2, loss=deviance, max_depth=5, max_features=sqrt, min_samples_leaf=0.1, min_samples_split=0.31818181818181823, n_estimators=10, subsample=0.9, score=0.8310214848783312, total=   0.3s\n",
      "[CV] criterion=friedman_mse, learning_rate=0.2, loss=deviance, max_depth=5, max_features=sqrt, min_samples_leaf=0.1, min_samples_split=0.42727272727272736, n_estimators=10, subsample=0.9 \n",
      "[CV] criterion=friedman_mse, learning_rate=0.2, loss=deviance, max_depth=5, max_features=sqrt, min_samples_leaf=0.1, min_samples_split=0.42727272727272736, n_estimators=10, subsample=0.9 \n",
      "[CV]  criterion=friedman_mse, learning_rate=0.2, loss=deviance, max_depth=5, max_features=sqrt, min_samples_leaf=0.1, min_samples_split=0.3545454545454546, n_estimators=10, subsample=0.9, score=0.8165815885253945, total=   0.2s\n",
      "[CV] criterion=friedman_mse, learning_rate=0.2, loss=deviance, max_depth=5, max_features=sqrt, min_samples_leaf=0.1, min_samples_split=0.46363636363636374, n_estimators=10, subsample=0.9 \n",
      "[CV]  criterion=friedman_mse, learning_rate=0.2, loss=deviance, max_depth=5, max_features=sqrt, min_samples_leaf=0.1, min_samples_split=0.390909090909091, n_estimators=10, subsample=0.9, score=0.8187791463238123, total=   0.2s\n",
      "[CV]  criterion=friedman_mse, learning_rate=0.2, loss=deviance, max_depth=5, max_features=sqrt, min_samples_leaf=0.1, min_samples_split=0.390909090909091, n_estimators=10, subsample=0.9, score=0.7479275947796391, total=   0.3s\n",
      "[CV]  criterion=friedman_mse, learning_rate=0.2, loss=deviance, max_depth=5, max_features=sqrt, min_samples_leaf=0.1, min_samples_split=0.3545454545454546, n_estimators=10, subsample=0.9, score=0.829560983154485, total=   0.3s\n",
      "[CV] criterion=friedman_mse, learning_rate=0.2, loss=deviance, max_depth=5, max_features=sqrt, min_samples_leaf=0.1, min_samples_split=0.46363636363636374, n_estimators=10, subsample=0.9 \n",
      "[CV] criterion=friedman_mse, learning_rate=0.2, loss=deviance, max_depth=5, max_features=sqrt, min_samples_leaf=0.1, min_samples_split=0.46363636363636374, n_estimators=10, subsample=0.9 \n",
      "[CV]  criterion=friedman_mse, learning_rate=0.2, loss=deviance, max_depth=5, max_features=sqrt, min_samples_leaf=0.1, min_samples_split=0.42727272727272736, n_estimators=10, subsample=0.9, score=0.7472975027440201, total=   0.2s\n",
      "[CV]  criterion=friedman_mse, learning_rate=0.2, loss=deviance, max_depth=5, max_features=sqrt, min_samples_leaf=0.1, min_samples_split=0.390909090909091, n_estimators=10, subsample=0.9, score=0.8323111547381251, total=   0.3s\n",
      "[CV] criterion=friedman_mse, learning_rate=0.2, loss=deviance, max_depth=5, max_features=sqrt, min_samples_leaf=0.1, min_samples_split=0.5, n_estimators=10, subsample=0.9 \n",
      "[CV]  criterion=friedman_mse, learning_rate=0.2, loss=deviance, max_depth=5, max_features=sqrt, min_samples_leaf=0.1, min_samples_split=0.42727272727272736, n_estimators=10, subsample=0.9, score=0.8175669593213517, total=   0.2s\n",
      "[CV] criterion=friedman_mse, learning_rate=0.2, loss=deviance, max_depth=5, max_features=sqrt, min_samples_leaf=0.1, min_samples_split=0.5, n_estimators=10, subsample=0.9 \n",
      "[CV] criterion=friedman_mse, learning_rate=0.2, loss=deviance, max_depth=5, max_features=sqrt, min_samples_leaf=0.1, min_samples_split=0.5, n_estimators=10, subsample=0.9 \n",
      "[CV] criterion=friedman_mse, learning_rate=0.2, loss=deviance, max_depth=5, max_features=sqrt, min_samples_leaf=0.13636363636363638, min_samples_split=0.1, n_estimators=10, subsample=0.9 \n",
      "[CV]  criterion=friedman_mse, learning_rate=0.2, loss=deviance, max_depth=5, max_features=sqrt, min_samples_leaf=0.1, min_samples_split=0.42727272727272736, n_estimators=10, subsample=0.9, score=0.7922040830315424, total=   0.2s\n",
      "[CV] criterion=friedman_mse, learning_rate=0.2, loss=deviance, max_depth=5, max_features=sqrt, min_samples_leaf=0.13636363636363638, min_samples_split=0.1, n_estimators=10, subsample=0.9 \n",
      "[CV]  criterion=friedman_mse, learning_rate=0.2, loss=deviance, max_depth=5, max_features=sqrt, min_samples_leaf=0.1, min_samples_split=0.46363636363636374, n_estimators=10, subsample=0.9, score=0.825035217487207, total=   0.2s\n",
      "[CV] criterion=friedman_mse, learning_rate=0.2, loss=deviance, max_depth=5, max_features=sqrt, min_samples_leaf=0.13636363636363638, min_samples_split=0.1, n_estimators=10, subsample=0.9 \n",
      "[CV]  criterion=friedman_mse, learning_rate=0.2, loss=deviance, max_depth=5, max_features=sqrt, min_samples_leaf=0.1, min_samples_split=0.46363636363636374, n_estimators=10, subsample=0.9, score=0.8331367774263596, total=   0.3s\n",
      "[CV]  criterion=friedman_mse, learning_rate=0.2, loss=deviance, max_depth=5, max_features=sqrt, min_samples_leaf=0.1, min_samples_split=0.46363636363636374, n_estimators=10, subsample=0.9, score=0.8173511750315072, total=   0.2s\n",
      "[CV] criterion=friedman_mse, learning_rate=0.2, loss=deviance, max_depth=5, max_features=sqrt, min_samples_leaf=0.13636363636363638, min_samples_split=0.13636363636363638, n_estimators=10, subsample=0.9 \n",
      "[CV]  criterion=friedman_mse, learning_rate=0.2, loss=deviance, max_depth=5, max_features=sqrt, min_samples_leaf=0.1, min_samples_split=0.5, n_estimators=10, subsample=0.9, score=0.8166656267658174, total=   0.3s\n",
      "[CV] criterion=friedman_mse, learning_rate=0.2, loss=deviance, max_depth=5, max_features=sqrt, min_samples_leaf=0.13636363636363638, min_samples_split=0.13636363636363638, n_estimators=10, subsample=0.9 \n",
      "[CV] criterion=friedman_mse, learning_rate=0.2, loss=deviance, max_depth=5, max_features=sqrt, min_samples_leaf=0.13636363636363638, min_samples_split=0.13636363636363638, n_estimators=10, subsample=0.9 \n",
      "[CV]  criterion=friedman_mse, learning_rate=0.2, loss=deviance, max_depth=5, max_features=sqrt, min_samples_leaf=0.1, min_samples_split=0.5, n_estimators=10, subsample=0.9, score=0.8393199399962563, total=   0.3s\n",
      "[CV] criterion=friedman_mse, learning_rate=0.2, loss=deviance, max_depth=5, max_features=sqrt, min_samples_leaf=0.13636363636363638, min_samples_split=0.17272727272727273, n_estimators=10, subsample=0.9 \n",
      "[CV]  criterion=friedman_mse, learning_rate=0.2, loss=deviance, max_depth=5, max_features=sqrt, min_samples_leaf=0.13636363636363638, min_samples_split=0.1, n_estimators=10, subsample=0.9, score=0.7719299710263119, total=   0.2s\n",
      "[CV]  criterion=friedman_mse, learning_rate=0.2, loss=deviance, max_depth=5, max_features=sqrt, min_samples_leaf=0.1, min_samples_split=0.5, n_estimators=10, subsample=0.9, score=0.8228975814508471, total=   0.3s\n",
      "[CV] criterion=friedman_mse, learning_rate=0.2, loss=deviance, max_depth=5, max_features=sqrt, min_samples_leaf=0.13636363636363638, min_samples_split=0.17272727272727273, n_estimators=10, subsample=0.9 \n",
      "[CV] criterion=friedman_mse, learning_rate=0.2, loss=deviance, max_depth=5, max_features=sqrt, min_samples_leaf=0.13636363636363638, min_samples_split=0.17272727272727273, n_estimators=10, subsample=0.9 \n",
      "[CV]  criterion=friedman_mse, learning_rate=0.2, loss=deviance, max_depth=5, max_features=sqrt, min_samples_leaf=0.13636363636363638, min_samples_split=0.1, n_estimators=10, subsample=0.9, score=0.8018358874426782, total=   0.2s\n",
      "[CV]  criterion=friedman_mse, learning_rate=0.2, loss=deviance, max_depth=5, max_features=sqrt, min_samples_leaf=0.13636363636363638, min_samples_split=0.1, n_estimators=10, subsample=0.9, score=0.8370074055586948, total=   0.3s\n",
      "[CV] criterion=friedman_mse, learning_rate=0.2, loss=deviance, max_depth=5, max_features=sqrt, min_samples_leaf=0.13636363636363638, min_samples_split=0.2090909090909091, n_estimators=10, subsample=0.9 \n",
      "[CV] criterion=friedman_mse, learning_rate=0.2, loss=deviance, max_depth=5, max_features=sqrt, min_samples_leaf=0.13636363636363638, min_samples_split=0.2090909090909091, n_estimators=10, subsample=0.9 \n",
      "[CV]  criterion=friedman_mse, learning_rate=0.2, loss=deviance, max_depth=5, max_features=sqrt, min_samples_leaf=0.13636363636363638, min_samples_split=0.13636363636363638, n_estimators=10, subsample=0.9, score=0.8367314656714083, total=   0.2s\n"
     ]
    },
    {
     "name": "stdout",
     "output_type": "stream",
     "text": [
      "[CV] criterion=friedman_mse, learning_rate=0.2, loss=deviance, max_depth=5, max_features=sqrt, min_samples_leaf=0.13636363636363638, min_samples_split=0.2090909090909091, n_estimators=10, subsample=0.9 \n",
      "[CV]  criterion=friedman_mse, learning_rate=0.2, loss=deviance, max_depth=5, max_features=sqrt, min_samples_leaf=0.13636363636363638, min_samples_split=0.13636363636363638, n_estimators=10, subsample=0.9, score=0.8097535083471815, total=   0.3s\n",
      "[CV] criterion=friedman_mse, learning_rate=0.2, loss=deviance, max_depth=5, max_features=sqrt, min_samples_leaf=0.13636363636363638, min_samples_split=0.24545454545454548, n_estimators=10, subsample=0.9 \n",
      "[CV]  criterion=friedman_mse, learning_rate=0.2, loss=deviance, max_depth=5, max_features=sqrt, min_samples_leaf=0.13636363636363638, min_samples_split=0.17272727272727273, n_estimators=10, subsample=0.9, score=0.7757131596083763, total=   0.2s\n",
      "[CV] criterion=friedman_mse, learning_rate=0.2, loss=deviance, max_depth=5, max_features=sqrt, min_samples_leaf=0.13636363636363638, min_samples_split=0.24545454545454548, n_estimators=10, subsample=0.9 \n",
      "[CV]  criterion=friedman_mse, learning_rate=0.2, loss=deviance, max_depth=5, max_features=sqrt, min_samples_leaf=0.13636363636363638, min_samples_split=0.13636363636363638, n_estimators=10, subsample=0.9, score=0.7905356745708143, total=   0.3s\n",
      "[CV]  criterion=friedman_mse, learning_rate=0.2, loss=deviance, max_depth=5, max_features=sqrt, min_samples_leaf=0.13636363636363638, min_samples_split=0.17272727272727273, n_estimators=10, subsample=0.9, score=0.7731339292333436, total=   0.2s\n",
      "[CV] criterion=friedman_mse, learning_rate=0.2, loss=deviance, max_depth=5, max_features=sqrt, min_samples_leaf=0.13636363636363638, min_samples_split=0.24545454545454548, n_estimators=10, subsample=0.9 \n",
      "[CV]  criterion=friedman_mse, learning_rate=0.2, loss=deviance, max_depth=5, max_features=sqrt, min_samples_leaf=0.13636363636363638, min_samples_split=0.17272727272727273, n_estimators=10, subsample=0.9, score=0.8349396139829461, total=   0.3s\n",
      "[CV] criterion=friedman_mse, learning_rate=0.2, loss=deviance, max_depth=5, max_features=sqrt, min_samples_leaf=0.13636363636363638, min_samples_split=0.28181818181818186, n_estimators=10, subsample=0.9 \n",
      "[CV] criterion=friedman_mse, learning_rate=0.2, loss=deviance, max_depth=5, max_features=sqrt, min_samples_leaf=0.13636363636363638, min_samples_split=0.28181818181818186, n_estimators=10, subsample=0.9 \n",
      "[CV]  criterion=friedman_mse, learning_rate=0.2, loss=deviance, max_depth=5, max_features=sqrt, min_samples_leaf=0.13636363636363638, min_samples_split=0.2090909090909091, n_estimators=10, subsample=0.9, score=0.7877191810736874, total=   0.3s\n",
      "[CV]  criterion=friedman_mse, learning_rate=0.2, loss=deviance, max_depth=5, max_features=sqrt, min_samples_leaf=0.13636363636363638, min_samples_split=0.2090909090909091, n_estimators=10, subsample=0.9, score=0.7936879190177947, total=   0.3s\n",
      "[CV] criterion=friedman_mse, learning_rate=0.2, loss=deviance, max_depth=5, max_features=sqrt, min_samples_leaf=0.13636363636363638, min_samples_split=0.28181818181818186, n_estimators=10, subsample=0.9 \n",
      "[CV]  criterion=friedman_mse, learning_rate=0.2, loss=deviance, max_depth=5, max_features=sqrt, min_samples_leaf=0.13636363636363638, min_samples_split=0.2090909090909091, n_estimators=10, subsample=0.9, score=0.8018358874426782, total=   0.3s\n",
      "[CV] criterion=friedman_mse, learning_rate=0.2, loss=deviance, max_depth=5, max_features=sqrt, min_samples_leaf=0.13636363636363638, min_samples_split=0.31818181818181823, n_estimators=10, subsample=0.9 \n",
      "[CV]  criterion=friedman_mse, learning_rate=0.2, loss=deviance, max_depth=5, max_features=sqrt, min_samples_leaf=0.13636363636363638, min_samples_split=0.24545454545454548, n_estimators=10, subsample=0.9, score=0.7537658324904277, total=   0.2s\n",
      "[CV]  criterion=friedman_mse, learning_rate=0.2, loss=deviance, max_depth=5, max_features=sqrt, min_samples_leaf=0.13636363636363638, min_samples_split=0.24545454545454548, n_estimators=10, subsample=0.9, score=0.8167578996580629, total=   0.3s\n",
      "[CV] criterion=friedman_mse, learning_rate=0.2, loss=deviance, max_depth=5, max_features=sqrt, min_samples_leaf=0.13636363636363638, min_samples_split=0.31818181818181823, n_estimators=10, subsample=0.9 \n",
      "[CV] criterion=friedman_mse, learning_rate=0.2, loss=deviance, max_depth=5, max_features=sqrt, min_samples_leaf=0.13636363636363638, min_samples_split=0.31818181818181823, n_estimators=10, subsample=0.9 \n",
      "[CV] criterion=friedman_mse, learning_rate=0.2, loss=deviance, max_depth=5, max_features=sqrt, min_samples_leaf=0.13636363636363638, min_samples_split=0.3545454545454546, n_estimators=10, subsample=0.9 \n",
      "[CV]  criterion=friedman_mse, learning_rate=0.2, loss=deviance, max_depth=5, max_features=sqrt, min_samples_leaf=0.13636363636363638, min_samples_split=0.24545454545454548, n_estimators=10, subsample=0.9, score=0.7915960624000509, total=   0.2s\n",
      "[CV]  criterion=friedman_mse, learning_rate=0.2, loss=deviance, max_depth=5, max_features=sqrt, min_samples_leaf=0.13636363636363638, min_samples_split=0.28181818181818186, n_estimators=10, subsample=0.9, score=0.808238035940731, total=   0.3s\n",
      "[CV] criterion=friedman_mse, learning_rate=0.2, loss=deviance, max_depth=5, max_features=sqrt, min_samples_leaf=0.13636363636363638, min_samples_split=0.3545454545454546, n_estimators=10, subsample=0.9 \n",
      "[CV] criterion=friedman_mse, learning_rate=0.2, loss=deviance, max_depth=5, max_features=sqrt, min_samples_leaf=0.13636363636363638, min_samples_split=0.3545454545454546, n_estimators=10, subsample=0.9 \n",
      "[CV]  criterion=friedman_mse, learning_rate=0.2, loss=deviance, max_depth=5, max_features=sqrt, min_samples_leaf=0.13636363636363638, min_samples_split=0.28181818181818186, n_estimators=10, subsample=0.9, score=0.8273969641339661, total=   0.3s\n",
      "[CV] criterion=friedman_mse, learning_rate=0.2, loss=deviance, max_depth=5, max_features=sqrt, min_samples_leaf=0.13636363636363638, min_samples_split=0.390909090909091, n_estimators=10, subsample=0.9 \n",
      "[CV]  criterion=friedman_mse, learning_rate=0.2, loss=deviance, max_depth=5, max_features=sqrt, min_samples_leaf=0.13636363636363638, min_samples_split=0.28181818181818186, n_estimators=10, subsample=0.9, score=0.7323396665360488, total=   0.2s\n",
      "[CV]  criterion=friedman_mse, learning_rate=0.2, loss=deviance, max_depth=5, max_features=sqrt, min_samples_leaf=0.13636363636363638, min_samples_split=0.31818181818181823, n_estimators=10, subsample=0.9, score=0.7849452821748983, total=   0.2s\n",
      "[CV] criterion=friedman_mse, learning_rate=0.2, loss=deviance, max_depth=5, max_features=sqrt, min_samples_leaf=0.13636363636363638, min_samples_split=0.390909090909091, n_estimators=10, subsample=0.9 \n",
      "[CV]  criterion=friedman_mse, learning_rate=0.2, loss=deviance, max_depth=5, max_features=sqrt, min_samples_leaf=0.13636363636363638, min_samples_split=0.31818181818181823, n_estimators=10, subsample=0.9, score=0.7315947915232518, total=   0.2s\n",
      "[CV] criterion=friedman_mse, learning_rate=0.2, loss=deviance, max_depth=5, max_features=sqrt, min_samples_leaf=0.13636363636363638, min_samples_split=0.390909090909091, n_estimators=10, subsample=0.9 \n",
      "[CV]  criterion=friedman_mse, learning_rate=0.2, loss=deviance, max_depth=5, max_features=sqrt, min_samples_leaf=0.13636363636363638, min_samples_split=0.3545454545454546, n_estimators=10, subsample=0.9, score=0.7992502168412968, total=   0.2s\n",
      "[CV]  criterion=friedman_mse, learning_rate=0.2, loss=deviance, max_depth=5, max_features=sqrt, min_samples_leaf=0.13636363636363638, min_samples_split=0.31818181818181823, n_estimators=10, subsample=0.9, score=0.8293206342399218, total=   0.3s\n",
      "[CV] criterion=friedman_mse, learning_rate=0.2, loss=deviance, max_depth=5, max_features=sqrt, min_samples_leaf=0.13636363636363638, min_samples_split=0.42727272727272736, n_estimators=10, subsample=0.9 \n",
      "[CV] criterion=friedman_mse, learning_rate=0.2, loss=deviance, max_depth=5, max_features=sqrt, min_samples_leaf=0.13636363636363638, min_samples_split=0.42727272727272736, n_estimators=10, subsample=0.9 \n",
      "[CV] criterion=friedman_mse, learning_rate=0.2, loss=deviance, max_depth=5, max_features=sqrt, min_samples_leaf=0.13636363636363638, min_samples_split=0.42727272727272736, n_estimators=10, subsample=0.9 \n"
     ]
    },
    {
     "name": "stdout",
     "output_type": "stream",
     "text": [
      "[CV]  criterion=friedman_mse, learning_rate=0.2, loss=deviance, max_depth=5, max_features=sqrt, min_samples_leaf=0.13636363636363638, min_samples_split=0.3545454545454546, n_estimators=10, subsample=0.9, score=0.7988160948530181, total=   0.3s\n",
      "[CV]  criterion=friedman_mse, learning_rate=0.2, loss=deviance, max_depth=5, max_features=sqrt, min_samples_leaf=0.13636363636363638, min_samples_split=0.390909090909091, n_estimators=10, subsample=0.9, score=0.7990072315583837, total=   0.2s\n",
      "[CV]  criterion=friedman_mse, learning_rate=0.2, loss=deviance, max_depth=5, max_features=sqrt, min_samples_leaf=0.13636363636363638, min_samples_split=0.3545454545454546, n_estimators=10, subsample=0.9, score=0.792864732815804, total=   0.3s\n",
      "[CV] criterion=friedman_mse, learning_rate=0.2, loss=deviance, max_depth=5, max_features=sqrt, min_samples_leaf=0.13636363636363638, min_samples_split=0.46363636363636374, n_estimators=10, subsample=0.9 \n",
      "[CV]  criterion=friedman_mse, learning_rate=0.2, loss=deviance, max_depth=5, max_features=sqrt, min_samples_leaf=0.13636363636363638, min_samples_split=0.390909090909091, n_estimators=10, subsample=0.9, score=0.8159186557333542, total=   0.2s\n",
      "[CV] criterion=friedman_mse, learning_rate=0.2, loss=deviance, max_depth=5, max_features=sqrt, min_samples_leaf=0.13636363636363638, min_samples_split=0.46363636363636374, n_estimators=10, subsample=0.9 \n",
      "[CV] criterion=friedman_mse, learning_rate=0.2, loss=deviance, max_depth=5, max_features=sqrt, min_samples_leaf=0.13636363636363638, min_samples_split=0.46363636363636374, n_estimators=10, subsample=0.9 \n",
      "[CV] criterion=friedman_mse, learning_rate=0.2, loss=deviance, max_depth=5, max_features=sqrt, min_samples_leaf=0.13636363636363638, min_samples_split=0.5, n_estimators=10, subsample=0.9 \n",
      "[CV]  criterion=friedman_mse, learning_rate=0.2, loss=deviance, max_depth=5, max_features=sqrt, min_samples_leaf=0.13636363636363638, min_samples_split=0.42727272727272736, n_estimators=10, subsample=0.9, score=0.7968067427756916, total=   0.2s\n",
      "[CV]  criterion=friedman_mse, learning_rate=0.2, loss=deviance, max_depth=5, max_features=sqrt, min_samples_leaf=0.13636363636363638, min_samples_split=0.390909090909091, n_estimators=10, subsample=0.9, score=0.8171755469183003, total=   0.3s\n",
      "[CV]  criterion=friedman_mse, learning_rate=0.2, loss=deviance, max_depth=5, max_features=sqrt, min_samples_leaf=0.13636363636363638, min_samples_split=0.42727272727272736, n_estimators=10, subsample=0.9, score=0.8177602385012126, total=   0.2s\n",
      "[CV] criterion=friedman_mse, learning_rate=0.2, loss=deviance, max_depth=5, max_features=sqrt, min_samples_leaf=0.13636363636363638, min_samples_split=0.5, n_estimators=10, subsample=0.9 \n",
      "[CV] criterion=friedman_mse, learning_rate=0.2, loss=deviance, max_depth=5, max_features=sqrt, min_samples_leaf=0.13636363636363638, min_samples_split=0.5, n_estimators=10, subsample=0.9 \n",
      "[CV]  criterion=friedman_mse, learning_rate=0.2, loss=deviance, max_depth=5, max_features=sqrt, min_samples_leaf=0.13636363636363638, min_samples_split=0.42727272727272736, n_estimators=10, subsample=0.9, score=0.7998513088250674, total=   0.3s\n",
      "[CV] criterion=friedman_mse, learning_rate=0.2, loss=deviance, max_depth=5, max_features=sqrt, min_samples_leaf=0.17272727272727273, min_samples_split=0.1, n_estimators=10, subsample=0.9 \n",
      "[CV]  criterion=friedman_mse, learning_rate=0.2, loss=deviance, max_depth=5, max_features=sqrt, min_samples_leaf=0.13636363636363638, min_samples_split=0.46363636363636374, n_estimators=10, subsample=0.9, score=0.7967478638825446, total=   0.2s\n",
      "[CV] criterion=friedman_mse, learning_rate=0.2, loss=deviance, max_depth=5, max_features=sqrt, min_samples_leaf=0.17272727272727273, min_samples_split=0.1, n_estimators=10, subsample=0.9 \n",
      "[CV] criterion=friedman_mse, learning_rate=0.2, loss=deviance, max_depth=5, max_features=sqrt, min_samples_leaf=0.17272727272727273, min_samples_split=0.1, n_estimators=10, subsample=0.9 \n",
      "[CV]  criterion=friedman_mse, learning_rate=0.2, loss=deviance, max_depth=5, max_features=sqrt, min_samples_leaf=0.13636363636363638, min_samples_split=0.46363636363636374, n_estimators=10, subsample=0.9, score=0.8283913143965924, total=   0.2s\n",
      "[CV]  criterion=friedman_mse, learning_rate=0.2, loss=deviance, max_depth=5, max_features=sqrt, min_samples_leaf=0.13636363636363638, min_samples_split=0.46363636363636374, n_estimators=10, subsample=0.9, score=0.8228252120775659, total=   0.2s\n",
      "[CV] criterion=friedman_mse, learning_rate=0.2, loss=deviance, max_depth=5, max_features=sqrt, min_samples_leaf=0.17272727272727273, min_samples_split=0.13636363636363638, n_estimators=10, subsample=0.9 \n",
      "[CV] criterion=friedman_mse, learning_rate=0.2, loss=deviance, max_depth=5, max_features=sqrt, min_samples_leaf=0.17272727272727273, min_samples_split=0.13636363636363638, n_estimators=10, subsample=0.9 \n",
      "[CV]  criterion=friedman_mse, learning_rate=0.2, loss=deviance, max_depth=5, max_features=sqrt, min_samples_leaf=0.13636363636363638, min_samples_split=0.5, n_estimators=10, subsample=0.9, score=0.7967478638825446, total=   0.2s\n",
      "[CV]  criterion=friedman_mse, learning_rate=0.2, loss=deviance, max_depth=5, max_features=sqrt, min_samples_leaf=0.13636363636363638, min_samples_split=0.5, n_estimators=10, subsample=0.9, score=0.8244662013183599, total=   0.2s\n",
      "[CV] criterion=friedman_mse, learning_rate=0.2, loss=deviance, max_depth=5, max_features=sqrt, min_samples_leaf=0.17272727272727273, min_samples_split=0.13636363636363638, n_estimators=10, subsample=0.9 \n",
      "[CV] criterion=friedman_mse, learning_rate=0.2, loss=deviance, max_depth=5, max_features=sqrt, min_samples_leaf=0.17272727272727273, min_samples_split=0.17272727272727273, n_estimators=10, subsample=0.9 \n",
      "[CV]  criterion=friedman_mse, learning_rate=0.2, loss=deviance, max_depth=5, max_features=sqrt, min_samples_leaf=0.17272727272727273, min_samples_split=0.1, n_estimators=10, subsample=0.9, score=0.7585240379672193, total=   0.2s\n",
      "[CV]  criterion=friedman_mse, learning_rate=0.2, loss=deviance, max_depth=5, max_features=sqrt, min_samples_leaf=0.13636363636363638, min_samples_split=0.5, n_estimators=10, subsample=0.9, score=0.7103190783319036, total=   0.2s\n",
      "[CV] criterion=friedman_mse, learning_rate=0.2, loss=deviance, max_depth=5, max_features=sqrt, min_samples_leaf=0.17272727272727273, min_samples_split=0.17272727272727273, n_estimators=10, subsample=0.9 \n",
      "[CV] criterion=friedman_mse, learning_rate=0.2, loss=deviance, max_depth=5, max_features=sqrt, min_samples_leaf=0.17272727272727273, min_samples_split=0.17272727272727273, n_estimators=10, subsample=0.9 \n",
      "[CV]  criterion=friedman_mse, learning_rate=0.2, loss=deviance, max_depth=5, max_features=sqrt, min_samples_leaf=0.17272727272727273, min_samples_split=0.1, n_estimators=10, subsample=0.9, score=0.7139206400399323, total=   0.2s\n",
      "[CV]  criterion=friedman_mse, learning_rate=0.2, loss=deviance, max_depth=5, max_features=sqrt, min_samples_leaf=0.17272727272727273, min_samples_split=0.1, n_estimators=10, subsample=0.9, score=0.7069349275776735, total=   0.2s\n",
      "[CV] criterion=friedman_mse, learning_rate=0.2, loss=deviance, max_depth=5, max_features=sqrt, min_samples_leaf=0.17272727272727273, min_samples_split=0.2090909090909091, n_estimators=10, subsample=0.9 \n",
      "[CV]  criterion=friedman_mse, learning_rate=0.2, loss=deviance, max_depth=5, max_features=sqrt, min_samples_leaf=0.17272727272727273, min_samples_split=0.13636363636363638, n_estimators=10, subsample=0.9, score=0.7664283096748568, total=   0.2s\n",
      "[CV] criterion=friedman_mse, learning_rate=0.2, loss=deviance, max_depth=5, max_features=sqrt, min_samples_leaf=0.17272727272727273, min_samples_split=0.2090909090909091, n_estimators=10, subsample=0.9 \n",
      "[CV]  criterion=friedman_mse, learning_rate=0.2, loss=deviance, max_depth=5, max_features=sqrt, min_samples_leaf=0.17272727272727273, min_samples_split=0.13636363636363638, n_estimators=10, subsample=0.9, score=0.8246793077599744, total=   0.2s\n",
      "[CV] criterion=friedman_mse, learning_rate=0.2, loss=deviance, max_depth=5, max_features=sqrt, min_samples_leaf=0.17272727272727273, min_samples_split=0.2090909090909091, n_estimators=10, subsample=0.9 \n",
      "[CV]  criterion=friedman_mse, learning_rate=0.2, loss=deviance, max_depth=5, max_features=sqrt, min_samples_leaf=0.17272727272727273, min_samples_split=0.13636363636363638, n_estimators=10, subsample=0.9, score=0.7069349275776735, total=   0.2s\n"
     ]
    },
    {
     "name": "stdout",
     "output_type": "stream",
     "text": [
      "[CV] criterion=friedman_mse, learning_rate=0.2, loss=deviance, max_depth=5, max_features=sqrt, min_samples_leaf=0.17272727272727273, min_samples_split=0.24545454545454548, n_estimators=10, subsample=0.9 \n",
      "[CV]  criterion=friedman_mse, learning_rate=0.2, loss=deviance, max_depth=5, max_features=sqrt, min_samples_leaf=0.17272727272727273, min_samples_split=0.17272727272727273, n_estimators=10, subsample=0.9, score=0.691925418896961, total=   0.3s\n",
      "[CV]  criterion=friedman_mse, learning_rate=0.2, loss=deviance, max_depth=5, max_features=sqrt, min_samples_leaf=0.17272727272727273, min_samples_split=0.17272727272727273, n_estimators=10, subsample=0.9, score=0.7130783813265835, total=   0.2s\n",
      "[CV] criterion=friedman_mse, learning_rate=0.2, loss=deviance, max_depth=5, max_features=sqrt, min_samples_leaf=0.17272727272727273, min_samples_split=0.24545454545454548, n_estimators=10, subsample=0.9 \n",
      "[CV] criterion=friedman_mse, learning_rate=0.2, loss=deviance, max_depth=5, max_features=sqrt, min_samples_leaf=0.17272727272727273, min_samples_split=0.24545454545454548, n_estimators=10, subsample=0.9 \n",
      "[CV]  criterion=friedman_mse, learning_rate=0.2, loss=deviance, max_depth=5, max_features=sqrt, min_samples_leaf=0.17272727272727273, min_samples_split=0.17272727272727273, n_estimators=10, subsample=0.9, score=0.8158175949466092, total=   0.3s\n",
      "[CV] criterion=friedman_mse, learning_rate=0.2, loss=deviance, max_depth=5, max_features=sqrt, min_samples_leaf=0.17272727272727273, min_samples_split=0.28181818181818186, n_estimators=10, subsample=0.9 \n",
      "[CV]  criterion=friedman_mse, learning_rate=0.2, loss=deviance, max_depth=5, max_features=sqrt, min_samples_leaf=0.17272727272727273, min_samples_split=0.2090909090909091, n_estimators=10, subsample=0.9, score=0.7753884469066172, total=   0.2s\n",
      "[CV] criterion=friedman_mse, learning_rate=0.2, loss=deviance, max_depth=5, max_features=sqrt, min_samples_leaf=0.17272727272727273, min_samples_split=0.28181818181818186, n_estimators=10, subsample=0.9 \n",
      "[CV]  criterion=friedman_mse, learning_rate=0.2, loss=deviance, max_depth=5, max_features=sqrt, min_samples_leaf=0.17272727272727273, min_samples_split=0.2090909090909091, n_estimators=10, subsample=0.9, score=0.8284906176044375, total=   0.2s\n",
      "[CV] criterion=friedman_mse, learning_rate=0.2, loss=deviance, max_depth=5, max_features=sqrt, min_samples_leaf=0.17272727272727273, min_samples_split=0.28181818181818186, n_estimators=10, subsample=0.9 \n",
      "[CV]  criterion=friedman_mse, learning_rate=0.2, loss=deviance, max_depth=5, max_features=sqrt, min_samples_leaf=0.17272727272727273, min_samples_split=0.2090909090909091, n_estimators=10, subsample=0.9, score=0.7907982341872919, total=   0.2s\n",
      "[CV] criterion=friedman_mse, learning_rate=0.2, loss=deviance, max_depth=5, max_features=sqrt, min_samples_leaf=0.17272727272727273, min_samples_split=0.31818181818181823, n_estimators=10, subsample=0.9 \n",
      "[CV] criterion=friedman_mse, learning_rate=0.2, loss=deviance, max_depth=5, max_features=sqrt, min_samples_leaf=0.17272727272727273, min_samples_split=0.31818181818181823, n_estimators=10, subsample=0.9 \n",
      "[CV]  criterion=friedman_mse, learning_rate=0.2, loss=deviance, max_depth=5, max_features=sqrt, min_samples_leaf=0.17272727272727273, min_samples_split=0.24545454545454548, n_estimators=10, subsample=0.9, score=0.7585240379672193, total=   0.2s\n",
      "[CV] criterion=friedman_mse, learning_rate=0.2, loss=deviance, max_depth=5, max_features=sqrt, min_samples_leaf=0.17272727272727273, min_samples_split=0.31818181818181823, n_estimators=10, subsample=0.9 \n",
      "[CV]  criterion=friedman_mse, learning_rate=0.2, loss=deviance, max_depth=5, max_features=sqrt, min_samples_leaf=0.17272727272727273, min_samples_split=0.24545454545454548, n_estimators=10, subsample=0.9, score=0.8284906176044375, total=   0.2s\n",
      "[CV]  criterion=friedman_mse, learning_rate=0.2, loss=deviance, max_depth=5, max_features=sqrt, min_samples_leaf=0.17272727272727273, min_samples_split=0.24545454545454548, n_estimators=10, subsample=0.9, score=0.7205593446511972, total=   0.2s\n",
      "[CV] criterion=friedman_mse, learning_rate=0.2, loss=deviance, max_depth=5, max_features=sqrt, min_samples_leaf=0.17272727272727273, min_samples_split=0.3545454545454546, n_estimators=10, subsample=0.9 \n",
      "[CV] criterion=friedman_mse, learning_rate=0.2, loss=deviance, max_depth=5, max_features=sqrt, min_samples_leaf=0.17272727272727273, min_samples_split=0.3545454545454546, n_estimators=10, subsample=0.9 \n",
      "[CV]  criterion=friedman_mse, learning_rate=0.2, loss=deviance, max_depth=5, max_features=sqrt, min_samples_leaf=0.17272727272727273, min_samples_split=0.28181818181818186, n_estimators=10, subsample=0.9, score=0.7822639434601033, total=   0.2s\n",
      "[CV]  criterion=friedman_mse, learning_rate=0.2, loss=deviance, max_depth=5, max_features=sqrt, min_samples_leaf=0.17272727272727273, min_samples_split=0.28181818181818186, n_estimators=10, subsample=0.9, score=0.6804972014949967, total=   0.3s\n",
      "[CV] criterion=friedman_mse, learning_rate=0.2, loss=deviance, max_depth=5, max_features=sqrt, min_samples_leaf=0.17272727272727273, min_samples_split=0.3545454545454546, n_estimators=10, subsample=0.9 \n",
      "[CV]  criterion=friedman_mse, learning_rate=0.2, loss=deviance, max_depth=5, max_features=sqrt, min_samples_leaf=0.17272727272727273, min_samples_split=0.28181818181818186, n_estimators=10, subsample=0.9, score=0.7108791497536314, total=   0.2s\n",
      "[CV] criterion=friedman_mse, learning_rate=0.2, loss=deviance, max_depth=5, max_features=sqrt, min_samples_leaf=0.17272727272727273, min_samples_split=0.390909090909091, n_estimators=10, subsample=0.9 \n",
      "[CV]  criterion=friedman_mse, learning_rate=0.2, loss=deviance, max_depth=5, max_features=sqrt, min_samples_leaf=0.17272727272727273, min_samples_split=0.31818181818181823, n_estimators=10, subsample=0.9, score=0.8221984851427462, total=   0.2s\n",
      "[CV]  criterion=friedman_mse, learning_rate=0.2, loss=deviance, max_depth=5, max_features=sqrt, min_samples_leaf=0.17272727272727273, min_samples_split=0.31818181818181823, n_estimators=10, subsample=0.9, score=0.8081189599702618, total=   0.2s\n",
      "[CV] criterion=friedman_mse, learning_rate=0.2, loss=deviance, max_depth=5, max_features=sqrt, min_samples_leaf=0.17272727272727273, min_samples_split=0.390909090909091, n_estimators=10, subsample=0.9 \n",
      "[CV] criterion=friedman_mse, learning_rate=0.2, loss=deviance, max_depth=5, max_features=sqrt, min_samples_leaf=0.17272727272727273, min_samples_split=0.390909090909091, n_estimators=10, subsample=0.9 \n",
      "[CV] criterion=friedman_mse, learning_rate=0.2, loss=deviance, max_depth=5, max_features=sqrt, min_samples_leaf=0.17272727272727273, min_samples_split=0.42727272727272736, n_estimators=10, subsample=0.9 \n",
      "[CV]  criterion=friedman_mse, learning_rate=0.2, loss=deviance, max_depth=5, max_features=sqrt, min_samples_leaf=0.17272727272727273, min_samples_split=0.31818181818181823, n_estimators=10, subsample=0.9, score=0.8022877547490195, total=   0.2s\n",
      "[CV] criterion=friedman_mse, learning_rate=0.2, loss=deviance, max_depth=5, max_features=sqrt, min_samples_leaf=0.17272727272727273, min_samples_split=0.42727272727272736, n_estimators=10, subsample=0.9 \n",
      "[CV]  criterion=friedman_mse, learning_rate=0.2, loss=deviance, max_depth=5, max_features=sqrt, min_samples_leaf=0.17272727272727273, min_samples_split=0.3545454545454546, n_estimators=10, subsample=0.9, score=0.8081189599702618, total=   0.2s\n",
      "[CV]  criterion=friedman_mse, learning_rate=0.2, loss=deviance, max_depth=5, max_features=sqrt, min_samples_leaf=0.17272727272727273, min_samples_split=0.3545454545454546, n_estimators=10, subsample=0.9, score=0.8178423258393097, total=   0.2s\n",
      "[CV] criterion=friedman_mse, learning_rate=0.2, loss=deviance, max_depth=5, max_features=sqrt, min_samples_leaf=0.17272727272727273, min_samples_split=0.42727272727272736, n_estimators=10, subsample=0.9 \n",
      "[CV]  criterion=friedman_mse, learning_rate=0.2, loss=deviance, max_depth=5, max_features=sqrt, min_samples_leaf=0.17272727272727273, min_samples_split=0.3545454545454546, n_estimators=10, subsample=0.9, score=0.7095362535258005, total=   0.2s\n",
      "[CV] criterion=friedman_mse, learning_rate=0.2, loss=deviance, max_depth=5, max_features=sqrt, min_samples_leaf=0.17272727272727273, min_samples_split=0.46363636363636374, n_estimators=10, subsample=0.9 \n"
     ]
    },
    {
     "name": "stdout",
     "output_type": "stream",
     "text": [
      "[CV]  criterion=friedman_mse, learning_rate=0.2, loss=deviance, max_depth=5, max_features=sqrt, min_samples_leaf=0.17272727272727273, min_samples_split=0.390909090909091, n_estimators=10, subsample=0.9, score=0.6910026899745064, total=   0.2s\n",
      "[CV] criterion=friedman_mse, learning_rate=0.2, loss=deviance, max_depth=5, max_features=sqrt, min_samples_leaf=0.17272727272727273, min_samples_split=0.46363636363636374, n_estimators=10, subsample=0.9 \n",
      "[CV]  criterion=friedman_mse, learning_rate=0.2, loss=deviance, max_depth=5, max_features=sqrt, min_samples_leaf=0.17272727272727273, min_samples_split=0.390909090909091, n_estimators=10, subsample=0.9, score=0.7140783827461994, total=   0.2s\n",
      "[CV] criterion=friedman_mse, learning_rate=0.2, loss=deviance, max_depth=5, max_features=sqrt, min_samples_leaf=0.17272727272727273, min_samples_split=0.46363636363636374, n_estimators=10, subsample=0.9 \n",
      "[CV] criterion=friedman_mse, learning_rate=0.2, loss=deviance, max_depth=5, max_features=sqrt, min_samples_leaf=0.17272727272727273, min_samples_split=0.5, n_estimators=10, subsample=0.9 \n",
      "[CV]  criterion=friedman_mse, learning_rate=0.2, loss=deviance, max_depth=5, max_features=sqrt, min_samples_leaf=0.17272727272727273, min_samples_split=0.42727272727272736, n_estimators=10, subsample=0.9, score=0.794145328926497, total=   0.2s\n",
      "[CV]  criterion=friedman_mse, learning_rate=0.2, loss=deviance, max_depth=5, max_features=sqrt, min_samples_leaf=0.17272727272727273, min_samples_split=0.42727272727272736, n_estimators=10, subsample=0.9, score=0.8035628760669602, total=   0.2s\n",
      "[CV] criterion=friedman_mse, learning_rate=0.2, loss=deviance, max_depth=5, max_features=sqrt, min_samples_leaf=0.17272727272727273, min_samples_split=0.5, n_estimators=10, subsample=0.9 \n",
      "[CV]  criterion=friedman_mse, learning_rate=0.2, loss=deviance, max_depth=5, max_features=sqrt, min_samples_leaf=0.17272727272727273, min_samples_split=0.390909090909091, n_estimators=10, subsample=0.9, score=0.8313180227981177, total=   0.3s\n",
      "[CV] criterion=friedman_mse, learning_rate=0.2, loss=deviance, max_depth=5, max_features=sqrt, min_samples_leaf=0.17272727272727273, min_samples_split=0.5, n_estimators=10, subsample=0.9 \n",
      "[CV] criterion=friedman_mse, learning_rate=0.2, loss=deviance, max_depth=5, max_features=sqrt, min_samples_leaf=0.2090909090909091, min_samples_split=0.1, n_estimators=10, subsample=0.9 \n",
      "[CV]  criterion=friedman_mse, learning_rate=0.2, loss=deviance, max_depth=5, max_features=sqrt, min_samples_leaf=0.17272727272727273, min_samples_split=0.42727272727272736, n_estimators=10, subsample=0.9, score=0.8325112349039252, total=   0.2s\n",
      "[CV]  criterion=friedman_mse, learning_rate=0.2, loss=deviance, max_depth=5, max_features=sqrt, min_samples_leaf=0.17272727272727273, min_samples_split=0.46363636363636374, n_estimators=10, subsample=0.9, score=0.810518055168644, total=   0.2s\n",
      "[CV] criterion=friedman_mse, learning_rate=0.2, loss=deviance, max_depth=5, max_features=sqrt, min_samples_leaf=0.2090909090909091, min_samples_split=0.1, n_estimators=10, subsample=0.9 \n",
      "[CV]  criterion=friedman_mse, learning_rate=0.2, loss=deviance, max_depth=5, max_features=sqrt, min_samples_leaf=0.17272727272727273, min_samples_split=0.46363636363636374, n_estimators=10, subsample=0.9, score=0.7176221012031506, total=   0.2s\n",
      "[CV] criterion=friedman_mse, learning_rate=0.2, loss=deviance, max_depth=5, max_features=sqrt, min_samples_leaf=0.2090909090909091, min_samples_split=0.1, n_estimators=10, subsample=0.9 \n",
      "[CV] criterion=friedman_mse, learning_rate=0.2, loss=deviance, max_depth=5, max_features=sqrt, min_samples_leaf=0.2090909090909091, min_samples_split=0.13636363636363638, n_estimators=10, subsample=0.9 \n",
      "[CV]  criterion=friedman_mse, learning_rate=0.2, loss=deviance, max_depth=5, max_features=sqrt, min_samples_leaf=0.17272727272727273, min_samples_split=0.46363636363636374, n_estimators=10, subsample=0.9, score=0.820826228779005, total=   0.2s\n",
      "[CV]  criterion=friedman_mse, learning_rate=0.2, loss=deviance, max_depth=5, max_features=sqrt, min_samples_leaf=0.17272727272727273, min_samples_split=0.5, n_estimators=10, subsample=0.9, score=0.8043577411244462, total=   0.2s\n",
      "[CV]  criterion=friedman_mse, learning_rate=0.2, loss=deviance, max_depth=5, max_features=sqrt, min_samples_leaf=0.17272727272727273, min_samples_split=0.5, n_estimators=10, subsample=0.9, score=0.7176221012031506, total=   0.2s\n",
      "[CV] criterion=friedman_mse, learning_rate=0.2, loss=deviance, max_depth=5, max_features=sqrt, min_samples_leaf=0.2090909090909091, min_samples_split=0.13636363636363638, n_estimators=10, subsample=0.9 \n",
      "[CV] criterion=friedman_mse, learning_rate=0.2, loss=deviance, max_depth=5, max_features=sqrt, min_samples_leaf=0.2090909090909091, min_samples_split=0.13636363636363638, n_estimators=10, subsample=0.9 \n",
      "[CV] criterion=friedman_mse, learning_rate=0.2, loss=deviance, max_depth=5, max_features=sqrt, min_samples_leaf=0.2090909090909091, min_samples_split=0.17272727272727273, n_estimators=10, subsample=0.9 \n",
      "[CV]  criterion=friedman_mse, learning_rate=0.2, loss=deviance, max_depth=5, max_features=sqrt, min_samples_leaf=0.2090909090909091, min_samples_split=0.1, n_estimators=10, subsample=0.9, score=0.8005495070430582, total=   0.2s\n",
      "[CV]  criterion=friedman_mse, learning_rate=0.2, loss=deviance, max_depth=5, max_features=sqrt, min_samples_leaf=0.17272727272727273, min_samples_split=0.5, n_estimators=10, subsample=0.9, score=0.8047249257772647, total=   0.3s\n",
      "[CV]  criterion=friedman_mse, learning_rate=0.2, loss=deviance, max_depth=5, max_features=sqrt, min_samples_leaf=0.2090909090909091, min_samples_split=0.1, n_estimators=10, subsample=0.9, score=0.820123663251398, total=   0.2s\n",
      "[CV] criterion=friedman_mse, learning_rate=0.2, loss=deviance, max_depth=5, max_features=sqrt, min_samples_leaf=0.2090909090909091, min_samples_split=0.17272727272727273, n_estimators=10, subsample=0.9 \n",
      "[CV]  criterion=friedman_mse, learning_rate=0.2, loss=deviance, max_depth=5, max_features=sqrt, min_samples_leaf=0.2090909090909091, min_samples_split=0.1, n_estimators=10, subsample=0.9, score=0.795438258333951, total=   0.2s\n",
      "[CV] criterion=friedman_mse, learning_rate=0.2, loss=deviance, max_depth=5, max_features=sqrt, min_samples_leaf=0.2090909090909091, min_samples_split=0.17272727272727273, n_estimators=10, subsample=0.9 \n",
      "[CV] criterion=friedman_mse, learning_rate=0.2, loss=deviance, max_depth=5, max_features=sqrt, min_samples_leaf=0.2090909090909091, min_samples_split=0.2090909090909091, n_estimators=10, subsample=0.9 \n",
      "[CV]  criterion=friedman_mse, learning_rate=0.2, loss=deviance, max_depth=5, max_features=sqrt, min_samples_leaf=0.2090909090909091, min_samples_split=0.13636363636363638, n_estimators=10, subsample=0.9, score=0.783202203300909, total=   0.2s\n",
      "[CV]  criterion=friedman_mse, learning_rate=0.2, loss=deviance, max_depth=5, max_features=sqrt, min_samples_leaf=0.2090909090909091, min_samples_split=0.13636363636363638, n_estimators=10, subsample=0.9, score=0.7863900120306276, total=   0.2s\n",
      "[CV] criterion=friedman_mse, learning_rate=0.2, loss=deviance, max_depth=5, max_features=sqrt, min_samples_leaf=0.2090909090909091, min_samples_split=0.2090909090909091, n_estimators=10, subsample=0.9 \n",
      "[CV] criterion=friedman_mse, learning_rate=0.2, loss=deviance, max_depth=5, max_features=sqrt, min_samples_leaf=0.2090909090909091, min_samples_split=0.2090909090909091, n_estimators=10, subsample=0.9 \n",
      "[CV]  criterion=friedman_mse, learning_rate=0.2, loss=deviance, max_depth=5, max_features=sqrt, min_samples_leaf=0.2090909090909091, min_samples_split=0.13636363636363638, n_estimators=10, subsample=0.9, score=0.8002018399471881, total=   0.2s\n",
      "[CV] criterion=friedman_mse, learning_rate=0.2, loss=deviance, max_depth=5, max_features=sqrt, min_samples_leaf=0.2090909090909091, min_samples_split=0.24545454545454548, n_estimators=10, subsample=0.9 \n",
      "[CV]  criterion=friedman_mse, learning_rate=0.2, loss=deviance, max_depth=5, max_features=sqrt, min_samples_leaf=0.2090909090909091, min_samples_split=0.17272727272727273, n_estimators=10, subsample=0.9, score=0.7088662825185051, total=   0.2s\n",
      "[CV] criterion=friedman_mse, learning_rate=0.2, loss=deviance, max_depth=5, max_features=sqrt, min_samples_leaf=0.2090909090909091, min_samples_split=0.24545454545454548, n_estimators=10, subsample=0.9 \n"
     ]
    },
    {
     "name": "stdout",
     "output_type": "stream",
     "text": [
      "[CV]  criterion=friedman_mse, learning_rate=0.2, loss=deviance, max_depth=5, max_features=sqrt, min_samples_leaf=0.2090909090909091, min_samples_split=0.17272727272727273, n_estimators=10, subsample=0.9, score=0.6793451085261032, total=   0.2s\n",
      "[CV] criterion=friedman_mse, learning_rate=0.2, loss=deviance, max_depth=5, max_features=sqrt, min_samples_leaf=0.2090909090909091, min_samples_split=0.24545454545454548, n_estimators=10, subsample=0.9 \n",
      "[CV]  criterion=friedman_mse, learning_rate=0.2, loss=deviance, max_depth=5, max_features=sqrt, min_samples_leaf=0.2090909090909091, min_samples_split=0.17272727272727273, n_estimators=10, subsample=0.9, score=0.8127923457914563, total=   0.2s\n",
      "[CV]  criterion=friedman_mse, learning_rate=0.2, loss=deviance, max_depth=5, max_features=sqrt, min_samples_leaf=0.2090909090909091, min_samples_split=0.2090909090909091, n_estimators=10, subsample=0.9, score=0.6793451085261032, total=   0.2s\n",
      "[CV] criterion=friedman_mse, learning_rate=0.2, loss=deviance, max_depth=5, max_features=sqrt, min_samples_leaf=0.2090909090909091, min_samples_split=0.28181818181818186, n_estimators=10, subsample=0.9 \n"
     ]
    },
    {
     "name": "stderr",
     "output_type": "stream",
     "text": [
      "[Parallel(n_jobs=-1)]: Done 112 tasks      | elapsed:    4.5s\n"
     ]
    },
    {
     "name": "stdout",
     "output_type": "stream",
     "text": [
      "[CV] criterion=friedman_mse, learning_rate=0.2, loss=deviance, max_depth=5, max_features=sqrt, min_samples_leaf=0.2090909090909091, min_samples_split=0.28181818181818186, n_estimators=10, subsample=0.9 \n",
      "[CV] criterion=friedman_mse, learning_rate=0.2, loss=deviance, max_depth=5, max_features=sqrt, min_samples_leaf=0.2090909090909091, min_samples_split=0.28181818181818186, n_estimators=10, subsample=0.9 \n",
      "[CV]  criterion=friedman_mse, learning_rate=0.2, loss=deviance, max_depth=5, max_features=sqrt, min_samples_leaf=0.2090909090909091, min_samples_split=0.2090909090909091, n_estimators=10, subsample=0.9, score=0.6952922840127229, total=   0.2s\n",
      "[CV]  criterion=friedman_mse, learning_rate=0.2, loss=deviance, max_depth=5, max_features=sqrt, min_samples_leaf=0.2090909090909091, min_samples_split=0.2090909090909091, n_estimators=10, subsample=0.9, score=0.7108769527800065, total=   0.2s\n",
      "[CV] criterion=friedman_mse, learning_rate=0.2, loss=deviance, max_depth=5, max_features=sqrt, min_samples_leaf=0.2090909090909091, min_samples_split=0.31818181818181823, n_estimators=10, subsample=0.9 \n",
      "[CV] criterion=friedman_mse, learning_rate=0.2, loss=deviance, max_depth=5, max_features=sqrt, min_samples_leaf=0.2090909090909091, min_samples_split=0.31818181818181823, n_estimators=10, subsample=0.9 \n",
      "[CV]  criterion=friedman_mse, learning_rate=0.2, loss=deviance, max_depth=5, max_features=sqrt, min_samples_leaf=0.2090909090909091, min_samples_split=0.24545454545454548, n_estimators=10, subsample=0.9, score=0.7624926511232247, total=   0.2s\n",
      "[CV]  criterion=friedman_mse, learning_rate=0.2, loss=deviance, max_depth=5, max_features=sqrt, min_samples_leaf=0.2090909090909091, min_samples_split=0.24545454545454548, n_estimators=10, subsample=0.9, score=0.7827153539456329, total=   0.2s\n",
      "[CV] criterion=friedman_mse, learning_rate=0.2, loss=deviance, max_depth=5, max_features=sqrt, min_samples_leaf=0.2090909090909091, min_samples_split=0.31818181818181823, n_estimators=10, subsample=0.9 \n",
      "[CV]  criterion=friedman_mse, learning_rate=0.2, loss=deviance, max_depth=5, max_features=sqrt, min_samples_leaf=0.2090909090909091, min_samples_split=0.24545454545454548, n_estimators=10, subsample=0.9, score=0.8077529662617512, total=   0.2s\n",
      "[CV] criterion=friedman_mse, learning_rate=0.2, loss=deviance, max_depth=5, max_features=sqrt, min_samples_leaf=0.2090909090909091, min_samples_split=0.3545454545454546, n_estimators=10, subsample=0.9 \n",
      "[CV] criterion=friedman_mse, learning_rate=0.2, loss=deviance, max_depth=5, max_features=sqrt, min_samples_leaf=0.2090909090909091, min_samples_split=0.3545454545454546, n_estimators=10, subsample=0.9 \n",
      "[CV]  criterion=friedman_mse, learning_rate=0.2, loss=deviance, max_depth=5, max_features=sqrt, min_samples_leaf=0.2090909090909091, min_samples_split=0.28181818181818186, n_estimators=10, subsample=0.9, score=0.6721495805098561, total=   0.2s\n",
      "[CV]  criterion=friedman_mse, learning_rate=0.2, loss=deviance, max_depth=5, max_features=sqrt, min_samples_leaf=0.2090909090909091, min_samples_split=0.28181818181818186, n_estimators=10, subsample=0.9, score=0.7108769527800065, total=   0.2s\n",
      "[CV] criterion=friedman_mse, learning_rate=0.2, loss=deviance, max_depth=5, max_features=sqrt, min_samples_leaf=0.2090909090909091, min_samples_split=0.3545454545454546, n_estimators=10, subsample=0.9 \n",
      "[CV]  criterion=friedman_mse, learning_rate=0.2, loss=deviance, max_depth=5, max_features=sqrt, min_samples_leaf=0.2090909090909091, min_samples_split=0.28181818181818186, n_estimators=10, subsample=0.9, score=0.7892294956384215, total=   0.2s\n",
      "[CV] criterion=friedman_mse, learning_rate=0.2, loss=deviance, max_depth=5, max_features=sqrt, min_samples_leaf=0.2090909090909091, min_samples_split=0.390909090909091, n_estimators=10, subsample=0.9 \n",
      "[CV]  criterion=friedman_mse, learning_rate=0.2, loss=deviance, max_depth=5, max_features=sqrt, min_samples_leaf=0.2090909090909091, min_samples_split=0.31818181818181823, n_estimators=10, subsample=0.9, score=0.6799536702201983, total=   0.2s\n",
      "[CV] criterion=friedman_mse, learning_rate=0.2, loss=deviance, max_depth=5, max_features=sqrt, min_samples_leaf=0.2090909090909091, min_samples_split=0.390909090909091, n_estimators=10, subsample=0.9 \n",
      "[CV]  criterion=friedman_mse, learning_rate=0.2, loss=deviance, max_depth=5, max_features=sqrt, min_samples_leaf=0.2090909090909091, min_samples_split=0.31818181818181823, n_estimators=10, subsample=0.9, score=0.7951005730586003, total=   0.2s\n",
      "[CV]  criterion=friedman_mse, learning_rate=0.2, loss=deviance, max_depth=5, max_features=sqrt, min_samples_leaf=0.2090909090909091, min_samples_split=0.3545454545454546, n_estimators=10, subsample=0.9, score=0.7918609157513342, total=   0.2s\n",
      "[CV] criterion=friedman_mse, learning_rate=0.2, loss=deviance, max_depth=5, max_features=sqrt, min_samples_leaf=0.2090909090909091, min_samples_split=0.390909090909091, n_estimators=10, subsample=0.9 \n",
      "[CV]  criterion=friedman_mse, learning_rate=0.2, loss=deviance, max_depth=5, max_features=sqrt, min_samples_leaf=0.2090909090909091, min_samples_split=0.31818181818181823, n_estimators=10, subsample=0.9, score=0.7971234939227378, total=   0.2s\n",
      "[CV] criterion=friedman_mse, learning_rate=0.2, loss=deviance, max_depth=5, max_features=sqrt, min_samples_leaf=0.2090909090909091, min_samples_split=0.42727272727272736, n_estimators=10, subsample=0.9 \n",
      "[CV] criterion=friedman_mse, learning_rate=0.2, loss=deviance, max_depth=5, max_features=sqrt, min_samples_leaf=0.2090909090909091, min_samples_split=0.42727272727272736, n_estimators=10, subsample=0.9 \n",
      "[CV] criterion=friedman_mse, learning_rate=0.2, loss=deviance, max_depth=5, max_features=sqrt, min_samples_leaf=0.2090909090909091, min_samples_split=0.42727272727272736, n_estimators=10, subsample=0.9 \n",
      "[CV]  criterion=friedman_mse, learning_rate=0.2, loss=deviance, max_depth=5, max_features=sqrt, min_samples_leaf=0.2090909090909091, min_samples_split=0.390909090909091, n_estimators=10, subsample=0.9, score=0.6799536702201983, total=   0.2s\n",
      "[CV]  criterion=friedman_mse, learning_rate=0.2, loss=deviance, max_depth=5, max_features=sqrt, min_samples_leaf=0.2090909090909091, min_samples_split=0.3545454545454546, n_estimators=10, subsample=0.9, score=0.8011176444224553, total=   0.2s\n",
      "[CV] criterion=friedman_mse, learning_rate=0.2, loss=deviance, max_depth=5, max_features=sqrt, min_samples_leaf=0.2090909090909091, min_samples_split=0.46363636363636374, n_estimators=10, subsample=0.9 \n",
      "[CV]  criterion=friedman_mse, learning_rate=0.2, loss=deviance, max_depth=5, max_features=sqrt, min_samples_leaf=0.2090909090909091, min_samples_split=0.3545454545454546, n_estimators=10, subsample=0.9, score=0.8206086793824949, total=   0.2s\n",
      "[CV] criterion=friedman_mse, learning_rate=0.2, loss=deviance, max_depth=5, max_features=sqrt, min_samples_leaf=0.2090909090909091, min_samples_split=0.46363636363636374, n_estimators=10, subsample=0.9 \n",
      "[CV] criterion=friedman_mse, learning_rate=0.2, loss=deviance, max_depth=5, max_features=sqrt, min_samples_leaf=0.2090909090909091, min_samples_split=0.46363636363636374, n_estimators=10, subsample=0.9 \n",
      "[CV]  criterion=friedman_mse, learning_rate=0.2, loss=deviance, max_depth=5, max_features=sqrt, min_samples_leaf=0.2090909090909091, min_samples_split=0.390909090909091, n_estimators=10, subsample=0.9, score=0.8204404668481076, total=   0.2s\n",
      "[CV]  criterion=friedman_mse, learning_rate=0.2, loss=deviance, max_depth=5, max_features=sqrt, min_samples_leaf=0.2090909090909091, min_samples_split=0.42727272727272736, n_estimators=10, subsample=0.9, score=0.8053472580450977, total=   0.2s\n",
      "[CV] criterion=friedman_mse, learning_rate=0.2, loss=deviance, max_depth=5, max_features=sqrt, min_samples_leaf=0.2090909090909091, min_samples_split=0.5, n_estimators=10, subsample=0.9 \n",
      "[CV] criterion=friedman_mse, learning_rate=0.2, loss=deviance, max_depth=5, max_features=sqrt, min_samples_leaf=0.2090909090909091, min_samples_split=0.5, n_estimators=10, subsample=0.9 \n",
      "[CV]  criterion=friedman_mse, learning_rate=0.2, loss=deviance, max_depth=5, max_features=sqrt, min_samples_leaf=0.2090909090909091, min_samples_split=0.390909090909091, n_estimators=10, subsample=0.9, score=0.8018601576593274, total=   0.2s\n"
     ]
    },
    {
     "name": "stdout",
     "output_type": "stream",
     "text": [
      "[CV] criterion=friedman_mse, learning_rate=0.2, loss=deviance, max_depth=5, max_features=sqrt, min_samples_leaf=0.2090909090909091, min_samples_split=0.5, n_estimators=10, subsample=0.9 \n",
      "[CV]  criterion=friedman_mse, learning_rate=0.2, loss=deviance, max_depth=5, max_features=sqrt, min_samples_leaf=0.2090909090909091, min_samples_split=0.42727272727272736, n_estimators=10, subsample=0.9, score=0.8204404668481076, total=   0.2s\n",
      "[CV]  criterion=friedman_mse, learning_rate=0.2, loss=deviance, max_depth=5, max_features=sqrt, min_samples_leaf=0.2090909090909091, min_samples_split=0.42727272727272736, n_estimators=10, subsample=0.9, score=0.7923868301861481, total=   0.2s\n",
      "[CV]  criterion=friedman_mse, learning_rate=0.2, loss=deviance, max_depth=5, max_features=sqrt, min_samples_leaf=0.2090909090909091, min_samples_split=0.46363636363636374, n_estimators=10, subsample=0.9, score=0.6513178765986278, total=   0.2s\n",
      "[CV] criterion=friedman_mse, learning_rate=0.2, loss=deviance, max_depth=5, max_features=sqrt, min_samples_leaf=0.24545454545454548, min_samples_split=0.1, n_estimators=10, subsample=0.9 \n",
      "[CV] criterion=friedman_mse, learning_rate=0.2, loss=deviance, max_depth=5, max_features=sqrt, min_samples_leaf=0.24545454545454548, min_samples_split=0.1, n_estimators=10, subsample=0.9 \n",
      "[CV]  criterion=friedman_mse, learning_rate=0.2, loss=deviance, max_depth=5, max_features=sqrt, min_samples_leaf=0.2090909090909091, min_samples_split=0.46363636363636374, n_estimators=10, subsample=0.9, score=0.7001297972017586, total=   0.2s\n",
      "[CV]  criterion=friedman_mse, learning_rate=0.2, loss=deviance, max_depth=5, max_features=sqrt, min_samples_leaf=0.2090909090909091, min_samples_split=0.46363636363636374, n_estimators=10, subsample=0.9, score=0.7809970381510154, total=   0.2s\n",
      "[CV] criterion=friedman_mse, learning_rate=0.2, loss=deviance, max_depth=5, max_features=sqrt, min_samples_leaf=0.24545454545454548, min_samples_split=0.1, n_estimators=10, subsample=0.9 \n",
      "[CV]  criterion=friedman_mse, learning_rate=0.2, loss=deviance, max_depth=5, max_features=sqrt, min_samples_leaf=0.2090909090909091, min_samples_split=0.5, n_estimators=10, subsample=0.9, score=0.7866619973653892, total=   0.2s\n",
      "[CV] criterion=friedman_mse, learning_rate=0.2, loss=deviance, max_depth=5, max_features=sqrt, min_samples_leaf=0.24545454545454548, min_samples_split=0.13636363636363638, n_estimators=10, subsample=0.9 \n",
      "[CV]  criterion=friedman_mse, learning_rate=0.2, loss=deviance, max_depth=5, max_features=sqrt, min_samples_leaf=0.2090909090909091, min_samples_split=0.5, n_estimators=10, subsample=0.9, score=0.7643548059676833, total=   0.2s\n",
      "[CV] criterion=friedman_mse, learning_rate=0.2, loss=deviance, max_depth=5, max_features=sqrt, min_samples_leaf=0.24545454545454548, min_samples_split=0.13636363636363638, n_estimators=10, subsample=0.9 \n",
      "[CV] criterion=friedman_mse, learning_rate=0.2, loss=deviance, max_depth=5, max_features=sqrt, min_samples_leaf=0.24545454545454548, min_samples_split=0.13636363636363638, n_estimators=10, subsample=0.9 \n",
      "[CV]  criterion=friedman_mse, learning_rate=0.2, loss=deviance, max_depth=5, max_features=sqrt, min_samples_leaf=0.24545454545454548, min_samples_split=0.1, n_estimators=10, subsample=0.9, score=0.670602471683207, total=   0.2s\n",
      "[CV] criterion=friedman_mse, learning_rate=0.2, loss=deviance, max_depth=5, max_features=sqrt, min_samples_leaf=0.24545454545454548, min_samples_split=0.17272727272727273, n_estimators=10, subsample=0.9 \n",
      "[CV]  criterion=friedman_mse, learning_rate=0.2, loss=deviance, max_depth=5, max_features=sqrt, min_samples_leaf=0.2090909090909091, min_samples_split=0.5, n_estimators=10, subsample=0.9, score=0.7106191464650209, total=   0.2s\n",
      "[CV]  criterion=friedman_mse, learning_rate=0.2, loss=deviance, max_depth=5, max_features=sqrt, min_samples_leaf=0.24545454545454548, min_samples_split=0.1, n_estimators=10, subsample=0.9, score=0.6957951682398462, total=   0.2s\n",
      "[CV] criterion=friedman_mse, learning_rate=0.2, loss=deviance, max_depth=5, max_features=sqrt, min_samples_leaf=0.24545454545454548, min_samples_split=0.17272727272727273, n_estimators=10, subsample=0.9 \n",
      "[CV] criterion=friedman_mse, learning_rate=0.2, loss=deviance, max_depth=5, max_features=sqrt, min_samples_leaf=0.24545454545454548, min_samples_split=0.17272727272727273, n_estimators=10, subsample=0.9 \n",
      "[CV] criterion=friedman_mse, learning_rate=0.2, loss=deviance, max_depth=5, max_features=sqrt, min_samples_leaf=0.24545454545454548, min_samples_split=0.2090909090909091, n_estimators=10, subsample=0.9 \n",
      "[CV]  criterion=friedman_mse, learning_rate=0.2, loss=deviance, max_depth=5, max_features=sqrt, min_samples_leaf=0.24545454545454548, min_samples_split=0.13636363636363638, n_estimators=10, subsample=0.9, score=0.6781670912684359, total=   0.2s\n",
      "[CV] criterion=friedman_mse, learning_rate=0.2, loss=deviance, max_depth=5, max_features=sqrt, min_samples_leaf=0.24545454545454548, min_samples_split=0.2090909090909091, n_estimators=10, subsample=0.9 \n",
      "[CV]  criterion=friedman_mse, learning_rate=0.2, loss=deviance, max_depth=5, max_features=sqrt, min_samples_leaf=0.24545454545454548, min_samples_split=0.13636363636363638, n_estimators=10, subsample=0.9, score=0.6857954230887867, total=   0.2s\n",
      "[CV]  criterion=friedman_mse, learning_rate=0.2, loss=deviance, max_depth=5, max_features=sqrt, min_samples_leaf=0.24545454545454548, min_samples_split=0.1, n_estimators=10, subsample=0.9, score=0.7149224765152558, total=   0.2s\n",
      "[CV]  criterion=friedman_mse, learning_rate=0.2, loss=deviance, max_depth=5, max_features=sqrt, min_samples_leaf=0.24545454545454548, min_samples_split=0.17272727272727273, n_estimators=10, subsample=0.9, score=0.671783125309224, total=   0.2s\n",
      "[CV] criterion=friedman_mse, learning_rate=0.2, loss=deviance, max_depth=5, max_features=sqrt, min_samples_leaf=0.24545454545454548, min_samples_split=0.2090909090909091, n_estimators=10, subsample=0.9 \n",
      "[CV] criterion=friedman_mse, learning_rate=0.2, loss=deviance, max_depth=5, max_features=sqrt, min_samples_leaf=0.24545454545454548, min_samples_split=0.24545454545454548, n_estimators=10, subsample=0.9 \n",
      "[CV] criterion=friedman_mse, learning_rate=0.2, loss=deviance, max_depth=5, max_features=sqrt, min_samples_leaf=0.24545454545454548, min_samples_split=0.24545454545454548, n_estimators=10, subsample=0.9 \n",
      "[CV]  criterion=friedman_mse, learning_rate=0.2, loss=deviance, max_depth=5, max_features=sqrt, min_samples_leaf=0.24545454545454548, min_samples_split=0.17272727272727273, n_estimators=10, subsample=0.9, score=0.6857954230887867, total=   0.2s\n",
      "[CV]  criterion=friedman_mse, learning_rate=0.2, loss=deviance, max_depth=5, max_features=sqrt, min_samples_leaf=0.24545454545454548, min_samples_split=0.13636363636363638, n_estimators=10, subsample=0.9, score=0.6958081364356848, total=   0.2s\n",
      "[CV] criterion=friedman_mse, learning_rate=0.2, loss=deviance, max_depth=5, max_features=sqrt, min_samples_leaf=0.24545454545454548, min_samples_split=0.24545454545454548, n_estimators=10, subsample=0.9 \n",
      "[CV]  criterion=friedman_mse, learning_rate=0.2, loss=deviance, max_depth=5, max_features=sqrt, min_samples_leaf=0.24545454545454548, min_samples_split=0.17272727272727273, n_estimators=10, subsample=0.9, score=0.7024325817509152, total=   0.2s\n",
      "[CV] criterion=friedman_mse, learning_rate=0.2, loss=deviance, max_depth=5, max_features=sqrt, min_samples_leaf=0.24545454545454548, min_samples_split=0.28181818181818186, n_estimators=10, subsample=0.9 \n",
      "[CV]  criterion=friedman_mse, learning_rate=0.2, loss=deviance, max_depth=5, max_features=sqrt, min_samples_leaf=0.24545454545454548, min_samples_split=0.2090909090909091, n_estimators=10, subsample=0.9, score=0.6852290432882895, total=   0.2s\n",
      "[CV]  criterion=friedman_mse, learning_rate=0.2, loss=deviance, max_depth=5, max_features=sqrt, min_samples_leaf=0.24545454545454548, min_samples_split=0.2090909090909091, n_estimators=10, subsample=0.9, score=0.6888259285069631, total=   0.2s\n",
      "[CV] criterion=friedman_mse, learning_rate=0.2, loss=deviance, max_depth=5, max_features=sqrt, min_samples_leaf=0.24545454545454548, min_samples_split=0.28181818181818186, n_estimators=10, subsample=0.9 \n",
      "[CV] criterion=friedman_mse, learning_rate=0.2, loss=deviance, max_depth=5, max_features=sqrt, min_samples_leaf=0.24545454545454548, min_samples_split=0.28181818181818186, n_estimators=10, subsample=0.9 \n"
     ]
    },
    {
     "name": "stdout",
     "output_type": "stream",
     "text": [
      "[CV] criterion=friedman_mse, learning_rate=0.2, loss=deviance, max_depth=5, max_features=sqrt, min_samples_leaf=0.24545454545454548, min_samples_split=0.31818181818181823, n_estimators=10, subsample=0.9 \n",
      "[CV]  criterion=friedman_mse, learning_rate=0.2, loss=deviance, max_depth=5, max_features=sqrt, min_samples_leaf=0.24545454545454548, min_samples_split=0.24545454545454548, n_estimators=10, subsample=0.9, score=0.6799879430087467, total=   0.2s\n",
      "[CV]  criterion=friedman_mse, learning_rate=0.2, loss=deviance, max_depth=5, max_features=sqrt, min_samples_leaf=0.24545454545454548, min_samples_split=0.2090909090909091, n_estimators=10, subsample=0.9, score=0.7024325817509152, total=   0.2s\n",
      "[CV]  criterion=friedman_mse, learning_rate=0.2, loss=deviance, max_depth=5, max_features=sqrt, min_samples_leaf=0.24545454545454548, min_samples_split=0.24545454545454548, n_estimators=10, subsample=0.9, score=0.7000067666787646, total=   0.2s\n",
      "[CV] criterion=friedman_mse, learning_rate=0.2, loss=deviance, max_depth=5, max_features=sqrt, min_samples_leaf=0.24545454545454548, min_samples_split=0.31818181818181823, n_estimators=10, subsample=0.9 \n",
      "[CV] criterion=friedman_mse, learning_rate=0.2, loss=deviance, max_depth=5, max_features=sqrt, min_samples_leaf=0.24545454545454548, min_samples_split=0.31818181818181823, n_estimators=10, subsample=0.9 \n",
      "[CV]  criterion=friedman_mse, learning_rate=0.2, loss=deviance, max_depth=5, max_features=sqrt, min_samples_leaf=0.24545454545454548, min_samples_split=0.24545454545454548, n_estimators=10, subsample=0.9, score=0.685787625896233, total=   0.2s\n",
      "[CV]  criterion=friedman_mse, learning_rate=0.2, loss=deviance, max_depth=5, max_features=sqrt, min_samples_leaf=0.24545454545454548, min_samples_split=0.28181818181818186, n_estimators=10, subsample=0.9, score=0.6862005450252169, total=   0.2s\n",
      "[CV] criterion=friedman_mse, learning_rate=0.2, loss=deviance, max_depth=5, max_features=sqrt, min_samples_leaf=0.24545454545454548, min_samples_split=0.3545454545454546, n_estimators=10, subsample=0.9 \n",
      "[CV] criterion=friedman_mse, learning_rate=0.2, loss=deviance, max_depth=5, max_features=sqrt, min_samples_leaf=0.24545454545454548, min_samples_split=0.3545454545454546, n_estimators=10, subsample=0.9 \n",
      "[CV] criterion=friedman_mse, learning_rate=0.2, loss=deviance, max_depth=5, max_features=sqrt, min_samples_leaf=0.24545454545454548, min_samples_split=0.3545454545454546, n_estimators=10, subsample=0.9 \n",
      "[CV]  criterion=friedman_mse, learning_rate=0.2, loss=deviance, max_depth=5, max_features=sqrt, min_samples_leaf=0.24545454545454548, min_samples_split=0.28181818181818186, n_estimators=10, subsample=0.9, score=0.6985589610599607, total=   0.2s\n",
      "[CV]  criterion=friedman_mse, learning_rate=0.2, loss=deviance, max_depth=5, max_features=sqrt, min_samples_leaf=0.24545454545454548, min_samples_split=0.28181818181818186, n_estimators=10, subsample=0.9, score=0.7003616703557396, total=   0.2s\n",
      "[CV] criterion=friedman_mse, learning_rate=0.2, loss=deviance, max_depth=5, max_features=sqrt, min_samples_leaf=0.24545454545454548, min_samples_split=0.390909090909091, n_estimators=10, subsample=0.9 \n",
      "[CV]  criterion=friedman_mse, learning_rate=0.2, loss=deviance, max_depth=5, max_features=sqrt, min_samples_leaf=0.24545454545454548, min_samples_split=0.31818181818181823, n_estimators=10, subsample=0.9, score=0.674782873096652, total=   0.2s\n",
      "[CV] criterion=friedman_mse, learning_rate=0.2, loss=deviance, max_depth=5, max_features=sqrt, min_samples_leaf=0.24545454545454548, min_samples_split=0.390909090909091, n_estimators=10, subsample=0.9 \n",
      "[CV] criterion=friedman_mse, learning_rate=0.2, loss=deviance, max_depth=5, max_features=sqrt, min_samples_leaf=0.24545454545454548, min_samples_split=0.390909090909091, n_estimators=10, subsample=0.9 \n",
      "[CV]  criterion=friedman_mse, learning_rate=0.2, loss=deviance, max_depth=5, max_features=sqrt, min_samples_leaf=0.24545454545454548, min_samples_split=0.31818181818181823, n_estimators=10, subsample=0.9, score=0.6950372123392583, total=   0.2s\n",
      "[CV]  criterion=friedman_mse, learning_rate=0.2, loss=deviance, max_depth=5, max_features=sqrt, min_samples_leaf=0.24545454545454548, min_samples_split=0.31818181818181823, n_estimators=10, subsample=0.9, score=0.6987885190402057, total=   0.2s\n",
      "[CV] criterion=friedman_mse, learning_rate=0.2, loss=deviance, max_depth=5, max_features=sqrt, min_samples_leaf=0.24545454545454548, min_samples_split=0.42727272727272736, n_estimators=10, subsample=0.9 \n",
      "[CV]  criterion=friedman_mse, learning_rate=0.2, loss=deviance, max_depth=5, max_features=sqrt, min_samples_leaf=0.24545454545454548, min_samples_split=0.3545454545454546, n_estimators=10, subsample=0.9, score=0.680165319890281, total=   0.2s\n",
      "[CV]  criterion=friedman_mse, learning_rate=0.2, loss=deviance, max_depth=5, max_features=sqrt, min_samples_leaf=0.24545454545454548, min_samples_split=0.3545454545454546, n_estimators=10, subsample=0.9, score=0.6912839025984925, total=   0.2s\n",
      "[CV] criterion=friedman_mse, learning_rate=0.2, loss=deviance, max_depth=5, max_features=sqrt, min_samples_leaf=0.24545454545454548, min_samples_split=0.42727272727272736, n_estimators=10, subsample=0.9 \n",
      "[CV]  criterion=friedman_mse, learning_rate=0.2, loss=deviance, max_depth=5, max_features=sqrt, min_samples_leaf=0.24545454545454548, min_samples_split=0.3545454545454546, n_estimators=10, subsample=0.9, score=0.6852975888653862, total=   0.2s\n",
      "[CV] criterion=friedman_mse, learning_rate=0.2, loss=deviance, max_depth=5, max_features=sqrt, min_samples_leaf=0.24545454545454548, min_samples_split=0.42727272727272736, n_estimators=10, subsample=0.9 \n",
      "[CV] criterion=friedman_mse, learning_rate=0.2, loss=deviance, max_depth=5, max_features=sqrt, min_samples_leaf=0.24545454545454548, min_samples_split=0.46363636363636374, n_estimators=10, subsample=0.9 \n",
      "[CV]  criterion=friedman_mse, learning_rate=0.2, loss=deviance, max_depth=5, max_features=sqrt, min_samples_leaf=0.24545454545454548, min_samples_split=0.390909090909091, n_estimators=10, subsample=0.9, score=0.6771367106383614, total=   0.2s\n",
      "[CV]  criterion=friedman_mse, learning_rate=0.2, loss=deviance, max_depth=5, max_features=sqrt, min_samples_leaf=0.24545454545454548, min_samples_split=0.390909090909091, n_estimators=10, subsample=0.9, score=0.6957024559528757, total=   0.2s\n",
      "[CV] criterion=friedman_mse, learning_rate=0.2, loss=deviance, max_depth=5, max_features=sqrt, min_samples_leaf=0.24545454545454548, min_samples_split=0.46363636363636374, n_estimators=10, subsample=0.9 \n",
      "[CV] criterion=friedman_mse, learning_rate=0.2, loss=deviance, max_depth=5, max_features=sqrt, min_samples_leaf=0.24545454545454548, min_samples_split=0.46363636363636374, n_estimators=10, subsample=0.9 \n",
      "[CV]  criterion=friedman_mse, learning_rate=0.2, loss=deviance, max_depth=5, max_features=sqrt, min_samples_leaf=0.24545454545454548, min_samples_split=0.390909090909091, n_estimators=10, subsample=0.9, score=0.6933206598674759, total=   0.2s\n",
      "[CV] criterion=friedman_mse, learning_rate=0.2, loss=deviance, max_depth=5, max_features=sqrt, min_samples_leaf=0.24545454545454548, min_samples_split=0.5, n_estimators=10, subsample=0.9 \n",
      "[CV]  criterion=friedman_mse, learning_rate=0.2, loss=deviance, max_depth=5, max_features=sqrt, min_samples_leaf=0.24545454545454548, min_samples_split=0.42727272727272736, n_estimators=10, subsample=0.9, score=0.6881431091043466, total=   0.2s\n",
      "[CV] criterion=friedman_mse, learning_rate=0.2, loss=deviance, max_depth=5, max_features=sqrt, min_samples_leaf=0.24545454545454548, min_samples_split=0.5, n_estimators=10, subsample=0.9 \n",
      "[CV] criterion=friedman_mse, learning_rate=0.2, loss=deviance, max_depth=5, max_features=sqrt, min_samples_leaf=0.24545454545454548, min_samples_split=0.5, n_estimators=10, subsample=0.9 \n",
      "[CV]  criterion=friedman_mse, learning_rate=0.2, loss=deviance, max_depth=5, max_features=sqrt, min_samples_leaf=0.24545454545454548, min_samples_split=0.42727272727272736, n_estimators=10, subsample=0.9, score=0.7000173121521642, total=   0.2s\n",
      "[CV]  criterion=friedman_mse, learning_rate=0.2, loss=deviance, max_depth=5, max_features=sqrt, min_samples_leaf=0.24545454545454548, min_samples_split=0.42727272727272736, n_estimators=10, subsample=0.9, score=0.7050528825956952, total=   0.2s\n"
     ]
    },
    {
     "name": "stdout",
     "output_type": "stream",
     "text": [
      "[CV] criterion=friedman_mse, learning_rate=0.2, loss=deviance, max_depth=5, max_features=sqrt, min_samples_leaf=0.28181818181818186, min_samples_split=0.1, n_estimators=10, subsample=0.9 \n",
      "[CV]  criterion=friedman_mse, learning_rate=0.2, loss=deviance, max_depth=5, max_features=sqrt, min_samples_leaf=0.24545454545454548, min_samples_split=0.46363636363636374, n_estimators=10, subsample=0.9, score=0.6771367106383614, total=   0.2s\n",
      "[CV]  criterion=friedman_mse, learning_rate=0.2, loss=deviance, max_depth=5, max_features=sqrt, min_samples_leaf=0.24545454545454548, min_samples_split=0.46363636363636374, n_estimators=10, subsample=0.9, score=0.6981542785182555, total=   0.2s\n",
      "[CV] criterion=friedman_mse, learning_rate=0.2, loss=deviance, max_depth=5, max_features=sqrt, min_samples_leaf=0.28181818181818186, min_samples_split=0.1, n_estimators=10, subsample=0.9 \n",
      "[CV]  criterion=friedman_mse, learning_rate=0.2, loss=deviance, max_depth=5, max_features=sqrt, min_samples_leaf=0.24545454545454548, min_samples_split=0.46363636363636374, n_estimators=10, subsample=0.9, score=0.7007018946654947, total=   0.2s\n",
      "[CV] criterion=friedman_mse, learning_rate=0.2, loss=deviance, max_depth=5, max_features=sqrt, min_samples_leaf=0.28181818181818186, min_samples_split=0.1, n_estimators=10, subsample=0.9 \n",
      "[CV] criterion=friedman_mse, learning_rate=0.2, loss=deviance, max_depth=5, max_features=sqrt, min_samples_leaf=0.28181818181818186, min_samples_split=0.13636363636363638, n_estimators=10, subsample=0.9 \n",
      "[CV]  criterion=friedman_mse, learning_rate=0.2, loss=deviance, max_depth=5, max_features=sqrt, min_samples_leaf=0.24545454545454548, min_samples_split=0.5, n_estimators=10, subsample=0.9, score=0.6846767241189915, total=   0.2s\n",
      "[CV]  criterion=friedman_mse, learning_rate=0.2, loss=deviance, max_depth=5, max_features=sqrt, min_samples_leaf=0.24545454545454548, min_samples_split=0.5, n_estimators=10, subsample=0.9, score=0.6628862609178605, total=   0.2s\n",
      "[CV]  criterion=friedman_mse, learning_rate=0.2, loss=deviance, max_depth=5, max_features=sqrt, min_samples_leaf=0.24545454545454548, min_samples_split=0.5, n_estimators=10, subsample=0.9, score=0.7050127264190575, total=   0.2s\n",
      "[CV] criterion=friedman_mse, learning_rate=0.2, loss=deviance, max_depth=5, max_features=sqrt, min_samples_leaf=0.28181818181818186, min_samples_split=0.13636363636363638, n_estimators=10, subsample=0.9 \n",
      "[CV] criterion=friedman_mse, learning_rate=0.2, loss=deviance, max_depth=5, max_features=sqrt, min_samples_leaf=0.28181818181818186, min_samples_split=0.13636363636363638, n_estimators=10, subsample=0.9 \n",
      "[CV]  criterion=friedman_mse, learning_rate=0.2, loss=deviance, max_depth=5, max_features=sqrt, min_samples_leaf=0.28181818181818186, min_samples_split=0.1, n_estimators=10, subsample=0.9, score=0.651806922927529, total=   0.2s\n",
      "[CV] criterion=friedman_mse, learning_rate=0.2, loss=deviance, max_depth=5, max_features=sqrt, min_samples_leaf=0.28181818181818186, min_samples_split=0.17272727272727273, n_estimators=10, subsample=0.9 \n",
      "[CV] criterion=friedman_mse, learning_rate=0.2, loss=deviance, max_depth=5, max_features=sqrt, min_samples_leaf=0.28181818181818186, min_samples_split=0.17272727272727273, n_estimators=10, subsample=0.9 \n",
      "[CV] criterion=friedman_mse, learning_rate=0.2, loss=deviance, max_depth=5, max_features=sqrt, min_samples_leaf=0.28181818181818186, min_samples_split=0.17272727272727273, n_estimators=10, subsample=0.9 \n",
      "[CV]  criterion=friedman_mse, learning_rate=0.2, loss=deviance, max_depth=5, max_features=sqrt, min_samples_leaf=0.28181818181818186, min_samples_split=0.1, n_estimators=10, subsample=0.9, score=0.6946202196498734, total=   0.2s\n",
      "[CV] criterion=friedman_mse, learning_rate=0.2, loss=deviance, max_depth=5, max_features=sqrt, min_samples_leaf=0.28181818181818186, min_samples_split=0.2090909090909091, n_estimators=10, subsample=0.9 \n",
      "[CV]  criterion=friedman_mse, learning_rate=0.2, loss=deviance, max_depth=5, max_features=sqrt, min_samples_leaf=0.28181818181818186, min_samples_split=0.1, n_estimators=10, subsample=0.9, score=0.6880156846341028, total=   0.2s\n",
      "[CV]  criterion=friedman_mse, learning_rate=0.2, loss=deviance, max_depth=5, max_features=sqrt, min_samples_leaf=0.28181818181818186, min_samples_split=0.13636363636363638, n_estimators=10, subsample=0.9, score=0.6725538236568362, total=   0.2s\n",
      "[CV] criterion=friedman_mse, learning_rate=0.2, loss=deviance, max_depth=5, max_features=sqrt, min_samples_leaf=0.28181818181818186, min_samples_split=0.2090909090909091, n_estimators=10, subsample=0.9 \n",
      "[CV]  criterion=friedman_mse, learning_rate=0.2, loss=deviance, max_depth=5, max_features=sqrt, min_samples_leaf=0.28181818181818186, min_samples_split=0.13636363636363638, n_estimators=10, subsample=0.9, score=0.6817253097513113, total=   0.2s\n",
      "[CV] criterion=friedman_mse, learning_rate=0.2, loss=deviance, max_depth=5, max_features=sqrt, min_samples_leaf=0.28181818181818186, min_samples_split=0.2090909090909091, n_estimators=10, subsample=0.9 \n",
      "[CV] criterion=friedman_mse, learning_rate=0.2, loss=deviance, max_depth=5, max_features=sqrt, min_samples_leaf=0.28181818181818186, min_samples_split=0.24545454545454548, n_estimators=10, subsample=0.9 \n",
      "[CV]  criterion=friedman_mse, learning_rate=0.2, loss=deviance, max_depth=5, max_features=sqrt, min_samples_leaf=0.28181818181818186, min_samples_split=0.13636363636363638, n_estimators=10, subsample=0.9, score=0.6985744998570264, total=   0.2s\n",
      "[CV]  criterion=friedman_mse, learning_rate=0.2, loss=deviance, max_depth=5, max_features=sqrt, min_samples_leaf=0.28181818181818186, min_samples_split=0.17272727272727273, n_estimators=10, subsample=0.9, score=0.6873021076007377, total=   0.2s\n",
      "[CV] criterion=friedman_mse, learning_rate=0.2, loss=deviance, max_depth=5, max_features=sqrt, min_samples_leaf=0.28181818181818186, min_samples_split=0.24545454545454548, n_estimators=10, subsample=0.9 \n",
      "[CV]  criterion=friedman_mse, learning_rate=0.2, loss=deviance, max_depth=5, max_features=sqrt, min_samples_leaf=0.28181818181818186, min_samples_split=0.17272727272727273, n_estimators=10, subsample=0.9, score=0.6856583319345935, total=   0.2s\n",
      "[CV] criterion=friedman_mse, learning_rate=0.2, loss=deviance, max_depth=5, max_features=sqrt, min_samples_leaf=0.28181818181818186, min_samples_split=0.24545454545454548, n_estimators=10, subsample=0.9 \n",
      "[CV]  criterion=friedman_mse, learning_rate=0.2, loss=deviance, max_depth=5, max_features=sqrt, min_samples_leaf=0.28181818181818186, min_samples_split=0.17272727272727273, n_estimators=10, subsample=0.9, score=0.6737315060949133, total=   0.2s\n",
      "[CV]  criterion=friedman_mse, learning_rate=0.2, loss=deviance, max_depth=5, max_features=sqrt, min_samples_leaf=0.28181818181818186, min_samples_split=0.2090909090909091, n_estimators=10, subsample=0.9, score=0.6540179571836204, total=   0.2s\n",
      "[CV] criterion=friedman_mse, learning_rate=0.2, loss=deviance, max_depth=5, max_features=sqrt, min_samples_leaf=0.28181818181818186, min_samples_split=0.28181818181818186, n_estimators=10, subsample=0.9 \n",
      "[CV] criterion=friedman_mse, learning_rate=0.2, loss=deviance, max_depth=5, max_features=sqrt, min_samples_leaf=0.28181818181818186, min_samples_split=0.28181818181818186, n_estimators=10, subsample=0.9 \n",
      "[CV]  criterion=friedman_mse, learning_rate=0.2, loss=deviance, max_depth=5, max_features=sqrt, min_samples_leaf=0.28181818181818186, min_samples_split=0.2090909090909091, n_estimators=10, subsample=0.9, score=0.6821774469233143, total=   0.2s\n",
      "[CV] criterion=friedman_mse, learning_rate=0.2, loss=deviance, max_depth=5, max_features=sqrt, min_samples_leaf=0.28181818181818186, min_samples_split=0.28181818181818186, n_estimators=10, subsample=0.9 \n",
      "[CV]  criterion=friedman_mse, learning_rate=0.2, loss=deviance, max_depth=5, max_features=sqrt, min_samples_leaf=0.28181818181818186, min_samples_split=0.2090909090909091, n_estimators=10, subsample=0.9, score=0.6985744998570264, total=   0.2s\n",
      "[CV] criterion=friedman_mse, learning_rate=0.2, loss=deviance, max_depth=5, max_features=sqrt, min_samples_leaf=0.28181818181818186, min_samples_split=0.31818181818181823, n_estimators=10, subsample=0.9 \n",
      "[CV] criterion=friedman_mse, learning_rate=0.2, loss=deviance, max_depth=5, max_features=sqrt, min_samples_leaf=0.28181818181818186, min_samples_split=0.31818181818181823, n_estimators=10, subsample=0.9 \n"
     ]
    },
    {
     "name": "stdout",
     "output_type": "stream",
     "text": [
      "[CV]  criterion=friedman_mse, learning_rate=0.2, loss=deviance, max_depth=5, max_features=sqrt, min_samples_leaf=0.28181818181818186, min_samples_split=0.24545454545454548, n_estimators=10, subsample=0.9, score=0.6823558411816555, total=   0.2s\n",
      "[CV] criterion=friedman_mse, learning_rate=0.2, loss=deviance, max_depth=5, max_features=sqrt, min_samples_leaf=0.28181818181818186, min_samples_split=0.31818181818181823, n_estimators=10, subsample=0.9 \n",
      "[CV]  criterion=friedman_mse, learning_rate=0.2, loss=deviance, max_depth=5, max_features=sqrt, min_samples_leaf=0.28181818181818186, min_samples_split=0.24545454545454548, n_estimators=10, subsample=0.9, score=0.6852378311827891, total=   0.2s\n",
      "[CV]  criterion=friedman_mse, learning_rate=0.2, loss=deviance, max_depth=5, max_features=sqrt, min_samples_leaf=0.28181818181818186, min_samples_split=0.28181818181818186, n_estimators=10, subsample=0.9, score=0.649988707555568, total=   0.2s\n",
      "[CV]  criterion=friedman_mse, learning_rate=0.2, loss=deviance, max_depth=5, max_features=sqrt, min_samples_leaf=0.28181818181818186, min_samples_split=0.24545454545454548, n_estimators=10, subsample=0.9, score=0.7094841828791714, total=   0.2s\n",
      "[CV] criterion=friedman_mse, learning_rate=0.2, loss=deviance, max_depth=5, max_features=sqrt, min_samples_leaf=0.28181818181818186, min_samples_split=0.3545454545454546, n_estimators=10, subsample=0.9 \n",
      "[CV] criterion=friedman_mse, learning_rate=0.2, loss=deviance, max_depth=5, max_features=sqrt, min_samples_leaf=0.28181818181818186, min_samples_split=0.3545454545454546, n_estimators=10, subsample=0.9 \n",
      "[CV]  criterion=friedman_mse, learning_rate=0.2, loss=deviance, max_depth=5, max_features=sqrt, min_samples_leaf=0.28181818181818186, min_samples_split=0.28181818181818186, n_estimators=10, subsample=0.9, score=0.6932458000455213, total=   0.2s\n",
      "[CV]  criterion=friedman_mse, learning_rate=0.2, loss=deviance, max_depth=5, max_features=sqrt, min_samples_leaf=0.28181818181818186, min_samples_split=0.28181818181818186, n_estimators=10, subsample=0.9, score=0.6880076888046345, total=   0.2s\n",
      "[CV] criterion=friedman_mse, learning_rate=0.2, loss=deviance, max_depth=5, max_features=sqrt, min_samples_leaf=0.28181818181818186, min_samples_split=0.3545454545454546, n_estimators=10, subsample=0.9 \n",
      "[CV] criterion=friedman_mse, learning_rate=0.2, loss=deviance, max_depth=5, max_features=sqrt, min_samples_leaf=0.28181818181818186, min_samples_split=0.390909090909091, n_estimators=10, subsample=0.9 \n",
      "[CV]  criterion=friedman_mse, learning_rate=0.2, loss=deviance, max_depth=5, max_features=sqrt, min_samples_leaf=0.28181818181818186, min_samples_split=0.31818181818181823, n_estimators=10, subsample=0.9, score=0.6833040549981589, total=   0.2s\n",
      "[CV] criterion=friedman_mse, learning_rate=0.2, loss=deviance, max_depth=5, max_features=sqrt, min_samples_leaf=0.28181818181818186, min_samples_split=0.390909090909091, n_estimators=10, subsample=0.9 \n",
      "[CV] criterion=friedman_mse, learning_rate=0.2, loss=deviance, max_depth=5, max_features=sqrt, min_samples_leaf=0.28181818181818186, min_samples_split=0.390909090909091, n_estimators=10, subsample=0.9 \n",
      "[CV]  criterion=friedman_mse, learning_rate=0.2, loss=deviance, max_depth=5, max_features=sqrt, min_samples_leaf=0.28181818181818186, min_samples_split=0.31818181818181823, n_estimators=10, subsample=0.9, score=0.6852378311827891, total=   0.2s\n",
      "[CV]  criterion=friedman_mse, learning_rate=0.2, loss=deviance, max_depth=5, max_features=sqrt, min_samples_leaf=0.28181818181818186, min_samples_split=0.31818181818181823, n_estimators=10, subsample=0.9, score=0.6878722168680654, total=   0.2s\n",
      "[CV] criterion=friedman_mse, learning_rate=0.2, loss=deviance, max_depth=5, max_features=sqrt, min_samples_leaf=0.28181818181818186, min_samples_split=0.42727272727272736, n_estimators=10, subsample=0.9 \n",
      "[CV]  criterion=friedman_mse, learning_rate=0.2, loss=deviance, max_depth=5, max_features=sqrt, min_samples_leaf=0.28181818181818186, min_samples_split=0.3545454545454546, n_estimators=10, subsample=0.9, score=0.6712866092699984, total=   0.2s\n",
      "[CV]  criterion=friedman_mse, learning_rate=0.2, loss=deviance, max_depth=5, max_features=sqrt, min_samples_leaf=0.28181818181818186, min_samples_split=0.3545454545454546, n_estimators=10, subsample=0.9, score=0.6994540081147417, total=   0.2s\n",
      "[CV] criterion=friedman_mse, learning_rate=0.2, loss=deviance, max_depth=5, max_features=sqrt, min_samples_leaf=0.28181818181818186, min_samples_split=0.42727272727272736, n_estimators=10, subsample=0.9 \n",
      "[CV] criterion=friedman_mse, learning_rate=0.2, loss=deviance, max_depth=5, max_features=sqrt, min_samples_leaf=0.28181818181818186, min_samples_split=0.42727272727272736, n_estimators=10, subsample=0.9 \n",
      "[CV]  criterion=friedman_mse, learning_rate=0.2, loss=deviance, max_depth=5, max_features=sqrt, min_samples_leaf=0.28181818181818186, min_samples_split=0.3545454545454546, n_estimators=10, subsample=0.9, score=0.7004900818656472, total=   0.2s\n",
      "[CV] criterion=friedman_mse, learning_rate=0.2, loss=deviance, max_depth=5, max_features=sqrt, min_samples_leaf=0.28181818181818186, min_samples_split=0.46363636363636374, n_estimators=10, subsample=0.9 \n",
      "[CV]  criterion=friedman_mse, learning_rate=0.2, loss=deviance, max_depth=5, max_features=sqrt, min_samples_leaf=0.28181818181818186, min_samples_split=0.390909090909091, n_estimators=10, subsample=0.9, score=0.6439391209820647, total=   0.2s\n",
      "[CV] criterion=friedman_mse, learning_rate=0.2, loss=deviance, max_depth=5, max_features=sqrt, min_samples_leaf=0.28181818181818186, min_samples_split=0.46363636363636374, n_estimators=10, subsample=0.9 \n",
      "[CV]  criterion=friedman_mse, learning_rate=0.2, loss=deviance, max_depth=5, max_features=sqrt, min_samples_leaf=0.28181818181818186, min_samples_split=0.390909090909091, n_estimators=10, subsample=0.9, score=0.6825834476491942, total=   0.2s\n",
      "[CV]  criterion=friedman_mse, learning_rate=0.2, loss=deviance, max_depth=5, max_features=sqrt, min_samples_leaf=0.28181818181818186, min_samples_split=0.390909090909091, n_estimators=10, subsample=0.9, score=0.680426996953426, total=   0.2s\n",
      "[CV] criterion=friedman_mse, learning_rate=0.2, loss=deviance, max_depth=5, max_features=sqrt, min_samples_leaf=0.28181818181818186, min_samples_split=0.46363636363636374, n_estimators=10, subsample=0.9 \n",
      "[CV] criterion=friedman_mse, learning_rate=0.2, loss=deviance, max_depth=5, max_features=sqrt, min_samples_leaf=0.28181818181818186, min_samples_split=0.5, n_estimators=10, subsample=0.9 \n",
      "[CV]  criterion=friedman_mse, learning_rate=0.2, loss=deviance, max_depth=5, max_features=sqrt, min_samples_leaf=0.28181818181818186, min_samples_split=0.42727272727272736, n_estimators=10, subsample=0.9, score=0.6712866092699984, total=   0.2s\n",
      "[CV] criterion=friedman_mse, learning_rate=0.2, loss=deviance, max_depth=5, max_features=sqrt, min_samples_leaf=0.28181818181818186, min_samples_split=0.5, n_estimators=10, subsample=0.9 \n",
      "[CV] criterion=friedman_mse, learning_rate=0.2, loss=deviance, max_depth=5, max_features=sqrt, min_samples_leaf=0.28181818181818186, min_samples_split=0.5, n_estimators=10, subsample=0.9 \n",
      "[CV]  criterion=friedman_mse, learning_rate=0.2, loss=deviance, max_depth=5, max_features=sqrt, min_samples_leaf=0.28181818181818186, min_samples_split=0.42727272727272736, n_estimators=10, subsample=0.9, score=0.6948741968962914, total=   0.2s\n",
      "[CV] criterion=friedman_mse, learning_rate=0.2, loss=deviance, max_depth=5, max_features=sqrt, min_samples_leaf=0.31818181818181823, min_samples_split=0.1, n_estimators=10, subsample=0.9 \n",
      "[CV]  criterion=friedman_mse, learning_rate=0.2, loss=deviance, max_depth=5, max_features=sqrt, min_samples_leaf=0.28181818181818186, min_samples_split=0.42727272727272736, n_estimators=10, subsample=0.9, score=0.7024586170742297, total=   0.2s\n",
      "[CV] criterion=friedman_mse, learning_rate=0.2, loss=deviance, max_depth=5, max_features=sqrt, min_samples_leaf=0.31818181818181823, min_samples_split=0.1, n_estimators=10, subsample=0.9 \n",
      "[CV]  criterion=friedman_mse, learning_rate=0.2, loss=deviance, max_depth=5, max_features=sqrt, min_samples_leaf=0.28181818181818186, min_samples_split=0.46363636363636374, n_estimators=10, subsample=0.9, score=0.6807050351999113, total=   0.2s\n"
     ]
    },
    {
     "name": "stdout",
     "output_type": "stream",
     "text": [
      "[CV]  criterion=friedman_mse, learning_rate=0.2, loss=deviance, max_depth=5, max_features=sqrt, min_samples_leaf=0.28181818181818186, min_samples_split=0.46363636363636374, n_estimators=10, subsample=0.9, score=0.692577920063554, total=   0.2s\n",
      "[CV]  criterion=friedman_mse, learning_rate=0.2, loss=deviance, max_depth=5, max_features=sqrt, min_samples_leaf=0.28181818181818186, min_samples_split=0.46363636363636374, n_estimators=10, subsample=0.9, score=0.6955998538491681, total=   0.2s\n",
      "[CV] criterion=friedman_mse, learning_rate=0.2, loss=deviance, max_depth=5, max_features=sqrt, min_samples_leaf=0.31818181818181823, min_samples_split=0.1, n_estimators=10, subsample=0.9 \n",
      "[CV] criterion=friedman_mse, learning_rate=0.2, loss=deviance, max_depth=5, max_features=sqrt, min_samples_leaf=0.31818181818181823, min_samples_split=0.13636363636363638, n_estimators=10, subsample=0.9 \n",
      "[CV] criterion=friedman_mse, learning_rate=0.2, loss=deviance, max_depth=5, max_features=sqrt, min_samples_leaf=0.31818181818181823, min_samples_split=0.13636363636363638, n_estimators=10, subsample=0.9 \n",
      "[CV]  criterion=friedman_mse, learning_rate=0.2, loss=deviance, max_depth=5, max_features=sqrt, min_samples_leaf=0.28181818181818186, min_samples_split=0.5, n_estimators=10, subsample=0.9, score=0.6807050351999113, total=   0.2s\n",
      "[CV]  criterion=friedman_mse, learning_rate=0.2, loss=deviance, max_depth=5, max_features=sqrt, min_samples_leaf=0.28181818181818186, min_samples_split=0.5, n_estimators=10, subsample=0.9, score=0.7024586170742297, total=   0.2s\n",
      "[CV] criterion=friedman_mse, learning_rate=0.2, loss=deviance, max_depth=5, max_features=sqrt, min_samples_leaf=0.31818181818181823, min_samples_split=0.13636363636363638, n_estimators=10, subsample=0.9 \n",
      "[CV]  criterion=friedman_mse, learning_rate=0.2, loss=deviance, max_depth=5, max_features=sqrt, min_samples_leaf=0.28181818181818186, min_samples_split=0.5, n_estimators=10, subsample=0.9, score=0.6948741968962914, total=   0.2s\n",
      "[CV]  criterion=friedman_mse, learning_rate=0.2, loss=deviance, max_depth=5, max_features=sqrt, min_samples_leaf=0.31818181818181823, min_samples_split=0.1, n_estimators=10, subsample=0.9, score=0.6590907692834966, total=   0.1s\n",
      "[CV] criterion=friedman_mse, learning_rate=0.2, loss=deviance, max_depth=5, max_features=sqrt, min_samples_leaf=0.31818181818181823, min_samples_split=0.17272727272727273, n_estimators=10, subsample=0.9 \n",
      "[CV] criterion=friedman_mse, learning_rate=0.2, loss=deviance, max_depth=5, max_features=sqrt, min_samples_leaf=0.31818181818181823, min_samples_split=0.17272727272727273, n_estimators=10, subsample=0.9 \n",
      "[CV]  criterion=friedman_mse, learning_rate=0.2, loss=deviance, max_depth=5, max_features=sqrt, min_samples_leaf=0.31818181818181823, min_samples_split=0.1, n_estimators=10, subsample=0.9, score=0.6412895707904448, total=   0.2s\n",
      "[CV]  criterion=friedman_mse, learning_rate=0.2, loss=deviance, max_depth=5, max_features=sqrt, min_samples_leaf=0.31818181818181823, min_samples_split=0.1, n_estimators=10, subsample=0.9, score=0.6799067317638005, total=   0.2s\n",
      "[CV] criterion=friedman_mse, learning_rate=0.2, loss=deviance, max_depth=5, max_features=sqrt, min_samples_leaf=0.31818181818181823, min_samples_split=0.17272727272727273, n_estimators=10, subsample=0.9 \n",
      "[CV] criterion=friedman_mse, learning_rate=0.2, loss=deviance, max_depth=5, max_features=sqrt, min_samples_leaf=0.31818181818181823, min_samples_split=0.2090909090909091, n_estimators=10, subsample=0.9 \n",
      "[CV]  criterion=friedman_mse, learning_rate=0.2, loss=deviance, max_depth=5, max_features=sqrt, min_samples_leaf=0.31818181818181823, min_samples_split=0.13636363636363638, n_estimators=10, subsample=0.9, score=0.6474098999146696, total=   0.2s\n",
      "[CV] criterion=friedman_mse, learning_rate=0.2, loss=deviance, max_depth=5, max_features=sqrt, min_samples_leaf=0.31818181818181823, min_samples_split=0.2090909090909091, n_estimators=10, subsample=0.9 \n",
      "[CV]  criterion=friedman_mse, learning_rate=0.2, loss=deviance, max_depth=5, max_features=sqrt, min_samples_leaf=0.31818181818181823, min_samples_split=0.13636363636363638, n_estimators=10, subsample=0.9, score=0.6680368458840578, total=   0.2s\n",
      "[CV]  criterion=friedman_mse, learning_rate=0.2, loss=deviance, max_depth=5, max_features=sqrt, min_samples_leaf=0.31818181818181823, min_samples_split=0.13636363636363638, n_estimators=10, subsample=0.9, score=0.6799067317638005, total=   0.2s\n",
      "[CV] criterion=friedman_mse, learning_rate=0.2, loss=deviance, max_depth=5, max_features=sqrt, min_samples_leaf=0.31818181818181823, min_samples_split=0.2090909090909091, n_estimators=10, subsample=0.9 \n",
      "[CV] criterion=friedman_mse, learning_rate=0.2, loss=deviance, max_depth=5, max_features=sqrt, min_samples_leaf=0.31818181818181823, min_samples_split=0.24545454545454548, n_estimators=10, subsample=0.9 \n",
      "[CV]  criterion=friedman_mse, learning_rate=0.2, loss=deviance, max_depth=5, max_features=sqrt, min_samples_leaf=0.31818181818181823, min_samples_split=0.17272727272727273, n_estimators=10, subsample=0.9, score=0.6410839340591546, total=   0.2s\n",
      "[CV]  criterion=friedman_mse, learning_rate=0.2, loss=deviance, max_depth=5, max_features=sqrt, min_samples_leaf=0.31818181818181823, min_samples_split=0.17272727272727273, n_estimators=10, subsample=0.9, score=0.6680368458840578, total=   0.1s\n",
      "[CV] criterion=friedman_mse, learning_rate=0.2, loss=deviance, max_depth=5, max_features=sqrt, min_samples_leaf=0.31818181818181823, min_samples_split=0.24545454545454548, n_estimators=10, subsample=0.9 \n",
      "[CV] criterion=friedman_mse, learning_rate=0.2, loss=deviance, max_depth=5, max_features=sqrt, min_samples_leaf=0.31818181818181823, min_samples_split=0.24545454545454548, n_estimators=10, subsample=0.9 \n",
      "[CV]  criterion=friedman_mse, learning_rate=0.2, loss=deviance, max_depth=5, max_features=sqrt, min_samples_leaf=0.31818181818181823, min_samples_split=0.17272727272727273, n_estimators=10, subsample=0.9, score=0.6567119063505007, total=   0.2s\n",
      "[CV] criterion=friedman_mse, learning_rate=0.2, loss=deviance, max_depth=5, max_features=sqrt, min_samples_leaf=0.31818181818181823, min_samples_split=0.28181818181818186, n_estimators=10, subsample=0.9 \n",
      "[CV] criterion=friedman_mse, learning_rate=0.2, loss=deviance, max_depth=5, max_features=sqrt, min_samples_leaf=0.31818181818181823, min_samples_split=0.28181818181818186, n_estimators=10, subsample=0.9 \n",
      "[CV]  criterion=friedman_mse, learning_rate=0.2, loss=deviance, max_depth=5, max_features=sqrt, min_samples_leaf=0.31818181818181823, min_samples_split=0.2090909090909091, n_estimators=10, subsample=0.9, score=0.6597621644232637, total=   0.2s\n",
      "[CV]  criterion=friedman_mse, learning_rate=0.2, loss=deviance, max_depth=5, max_features=sqrt, min_samples_leaf=0.31818181818181823, min_samples_split=0.2090909090909091, n_estimators=10, subsample=0.9, score=0.6670424956214315, total=   0.2s\n",
      "[CV]  criterion=friedman_mse, learning_rate=0.2, loss=deviance, max_depth=5, max_features=sqrt, min_samples_leaf=0.31818181818181823, min_samples_split=0.2090909090909091, n_estimators=10, subsample=0.9, score=0.6586371964457811, total=   0.2s\n",
      "[CV] criterion=friedman_mse, learning_rate=0.2, loss=deviance, max_depth=5, max_features=sqrt, min_samples_leaf=0.31818181818181823, min_samples_split=0.31818181818181823, n_estimators=10, subsample=0.9 \n",
      "[CV] criterion=friedman_mse, learning_rate=0.2, loss=deviance, max_depth=5, max_features=sqrt, min_samples_leaf=0.31818181818181823, min_samples_split=0.28181818181818186, n_estimators=10, subsample=0.9 \n",
      "[CV]  criterion=friedman_mse, learning_rate=0.2, loss=deviance, max_depth=5, max_features=sqrt, min_samples_leaf=0.31818181818181823, min_samples_split=0.24545454545454548, n_estimators=10, subsample=0.9, score=0.6670424956214315, total=   0.1s\n",
      "[CV]  criterion=friedman_mse, learning_rate=0.2, loss=deviance, max_depth=5, max_features=sqrt, min_samples_leaf=0.31818181818181823, min_samples_split=0.24545454545454548, n_estimators=10, subsample=0.9, score=0.6597621644232637, total=   0.2s\n",
      "[CV] criterion=friedman_mse, learning_rate=0.2, loss=deviance, max_depth=5, max_features=sqrt, min_samples_leaf=0.31818181818181823, min_samples_split=0.31818181818181823, n_estimators=10, subsample=0.9 \n"
     ]
    },
    {
     "name": "stdout",
     "output_type": "stream",
     "text": [
      "[CV]  criterion=friedman_mse, learning_rate=0.2, loss=deviance, max_depth=5, max_features=sqrt, min_samples_leaf=0.31818181818181823, min_samples_split=0.24545454545454548, n_estimators=10, subsample=0.9, score=0.6567119063505007, total=   0.1s\n",
      "[CV] criterion=friedman_mse, learning_rate=0.2, loss=deviance, max_depth=5, max_features=sqrt, min_samples_leaf=0.31818181818181823, min_samples_split=0.31818181818181823, n_estimators=10, subsample=0.9 \n",
      "[CV]  criterion=friedman_mse, learning_rate=0.2, loss=deviance, max_depth=5, max_features=sqrt, min_samples_leaf=0.31818181818181823, min_samples_split=0.28181818181818186, n_estimators=10, subsample=0.9, score=0.6597621644232637, total=   0.1s\n",
      "[CV] criterion=friedman_mse, learning_rate=0.2, loss=deviance, max_depth=5, max_features=sqrt, min_samples_leaf=0.31818181818181823, min_samples_split=0.3545454545454546, n_estimators=10, subsample=0.9 \n",
      "[CV]  criterion=friedman_mse, learning_rate=0.2, loss=deviance, max_depth=5, max_features=sqrt, min_samples_leaf=0.31818181818181823, min_samples_split=0.28181818181818186, n_estimators=10, subsample=0.9, score=0.6667999497332434, total=   0.1s\n",
      "[CV] criterion=friedman_mse, learning_rate=0.2, loss=deviance, max_depth=5, max_features=sqrt, min_samples_leaf=0.31818181818181823, min_samples_split=0.3545454545454546, n_estimators=10, subsample=0.9 \n",
      "[CV] criterion=friedman_mse, learning_rate=0.2, loss=deviance, max_depth=5, max_features=sqrt, min_samples_leaf=0.31818181818181823, min_samples_split=0.3545454545454546, n_estimators=10, subsample=0.9 \n",
      "[CV] criterion=friedman_mse, learning_rate=0.2, loss=deviance, max_depth=5, max_features=sqrt, min_samples_leaf=0.31818181818181823, min_samples_split=0.390909090909091, n_estimators=10, subsample=0.9 \n",
      "[CV]  criterion=friedman_mse, learning_rate=0.2, loss=deviance, max_depth=5, max_features=sqrt, min_samples_leaf=0.31818181818181823, min_samples_split=0.28181818181818186, n_estimators=10, subsample=0.9, score=0.6700746463608795, total=   0.2s\n",
      "[CV] criterion=friedman_mse, learning_rate=0.2, loss=deviance, max_depth=5, max_features=sqrt, min_samples_leaf=0.31818181818181823, min_samples_split=0.390909090909091, n_estimators=10, subsample=0.9 \n",
      "[CV]  criterion=friedman_mse, learning_rate=0.2, loss=deviance, max_depth=5, max_features=sqrt, min_samples_leaf=0.31818181818181823, min_samples_split=0.31818181818181823, n_estimators=10, subsample=0.9, score=0.6782845987383017, total=   0.1s\n",
      "[CV]  criterion=friedman_mse, learning_rate=0.2, loss=deviance, max_depth=5, max_features=sqrt, min_samples_leaf=0.31818181818181823, min_samples_split=0.31818181818181823, n_estimators=10, subsample=0.9, score=0.6721583684043556, total=   0.2s\n",
      "[CV]  criterion=friedman_mse, learning_rate=0.2, loss=deviance, max_depth=5, max_features=sqrt, min_samples_leaf=0.31818181818181823, min_samples_split=0.31818181818181823, n_estimators=10, subsample=0.9, score=0.6505010418048929, total=   0.2s\n",
      "[CV] criterion=friedman_mse, learning_rate=0.2, loss=deviance, max_depth=5, max_features=sqrt, min_samples_leaf=0.31818181818181823, min_samples_split=0.390909090909091, n_estimators=10, subsample=0.9 \n",
      "[CV]  criterion=friedman_mse, learning_rate=0.2, loss=deviance, max_depth=5, max_features=sqrt, min_samples_leaf=0.31818181818181823, min_samples_split=0.3545454545454546, n_estimators=10, subsample=0.9, score=0.6292743220359092, total=   0.1s\n",
      "[CV] criterion=friedman_mse, learning_rate=0.2, loss=deviance, max_depth=5, max_features=sqrt, min_samples_leaf=0.31818181818181823, min_samples_split=0.42727272727272736, n_estimators=10, subsample=0.9 \n",
      "[CV] criterion=friedman_mse, learning_rate=0.2, loss=deviance, max_depth=5, max_features=sqrt, min_samples_leaf=0.31818181818181823, min_samples_split=0.42727272727272736, n_estimators=10, subsample=0.9 \n",
      "[CV] criterion=friedman_mse, learning_rate=0.2, loss=deviance, max_depth=5, max_features=sqrt, min_samples_leaf=0.31818181818181823, min_samples_split=0.42727272727272736, n_estimators=10, subsample=0.9 \n",
      "[CV]  criterion=friedman_mse, learning_rate=0.2, loss=deviance, max_depth=5, max_features=sqrt, min_samples_leaf=0.31818181818181823, min_samples_split=0.3545454545454546, n_estimators=10, subsample=0.9, score=0.6667999497332434, total=   0.2s\n",
      "[CV]  criterion=friedman_mse, learning_rate=0.2, loss=deviance, max_depth=5, max_features=sqrt, min_samples_leaf=0.31818181818181823, min_samples_split=0.390909090909091, n_estimators=10, subsample=0.9, score=0.672884687884745, total=   0.1s\n",
      "[CV] criterion=friedman_mse, learning_rate=0.2, loss=deviance, max_depth=5, max_features=sqrt, min_samples_leaf=0.31818181818181823, min_samples_split=0.46363636363636374, n_estimators=10, subsample=0.9 \n",
      "[CV]  criterion=friedman_mse, learning_rate=0.2, loss=deviance, max_depth=5, max_features=sqrt, min_samples_leaf=0.31818181818181823, min_samples_split=0.390909090909091, n_estimators=10, subsample=0.9, score=0.6292743220359092, total=   0.2s\n",
      "[CV] criterion=friedman_mse, learning_rate=0.2, loss=deviance, max_depth=5, max_features=sqrt, min_samples_leaf=0.31818181818181823, min_samples_split=0.46363636363636374, n_estimators=10, subsample=0.9 \n",
      "[CV]  criterion=friedman_mse, learning_rate=0.2, loss=deviance, max_depth=5, max_features=sqrt, min_samples_leaf=0.31818181818181823, min_samples_split=0.3545454545454546, n_estimators=10, subsample=0.9, score=0.6766584942228059, total=   0.2s\n",
      "[CV]  criterion=friedman_mse, learning_rate=0.2, loss=deviance, max_depth=5, max_features=sqrt, min_samples_leaf=0.31818181818181823, min_samples_split=0.390909090909091, n_estimators=10, subsample=0.9, score=0.6689542449050196, total=   0.1s\n",
      "[CV] criterion=friedman_mse, learning_rate=0.2, loss=deviance, max_depth=5, max_features=sqrt, min_samples_leaf=0.31818181818181823, min_samples_split=0.46363636363636374, n_estimators=10, subsample=0.9 \n",
      "[CV]  criterion=friedman_mse, learning_rate=0.2, loss=deviance, max_depth=5, max_features=sqrt, min_samples_leaf=0.31818181818181823, min_samples_split=0.42727272727272736, n_estimators=10, subsample=0.9, score=0.6531022585767653, total=   0.2s\n",
      "[CV] criterion=friedman_mse, learning_rate=0.2, loss=deviance, max_depth=5, max_features=sqrt, min_samples_leaf=0.31818181818181823, min_samples_split=0.5, n_estimators=10, subsample=0.9 \n",
      "[CV] criterion=friedman_mse, learning_rate=0.2, loss=deviance, max_depth=5, max_features=sqrt, min_samples_leaf=0.31818181818181823, min_samples_split=0.5, n_estimators=10, subsample=0.9 \n",
      "[CV]  criterion=friedman_mse, learning_rate=0.2, loss=deviance, max_depth=5, max_features=sqrt, min_samples_leaf=0.31818181818181823, min_samples_split=0.42727272727272736, n_estimators=10, subsample=0.9, score=0.6766584942228059, total=   0.2s\n",
      "[CV]  criterion=friedman_mse, learning_rate=0.2, loss=deviance, max_depth=5, max_features=sqrt, min_samples_leaf=0.31818181818181823, min_samples_split=0.42727272727272736, n_estimators=10, subsample=0.9, score=0.6506297844593116, total=   0.2s\n",
      "[CV] criterion=friedman_mse, learning_rate=0.2, loss=deviance, max_depth=5, max_features=sqrt, min_samples_leaf=0.31818181818181823, min_samples_split=0.5, n_estimators=10, subsample=0.9 \n",
      "[CV]  criterion=friedman_mse, learning_rate=0.2, loss=deviance, max_depth=5, max_features=sqrt, min_samples_leaf=0.31818181818181823, min_samples_split=0.46363636363636374, n_estimators=10, subsample=0.9, score=0.6531163192079645, total=   0.1s\n",
      "[CV] criterion=friedman_mse, learning_rate=0.2, loss=deviance, max_depth=5, max_features=sqrt, min_samples_leaf=0.3545454545454546, min_samples_split=0.1, n_estimators=10, subsample=0.9 \n",
      "[CV]  criterion=friedman_mse, learning_rate=0.2, loss=deviance, max_depth=5, max_features=sqrt, min_samples_leaf=0.31818181818181823, min_samples_split=0.46363636363636374, n_estimators=10, subsample=0.9, score=0.669684136708002, total=   0.1s\n",
      "[CV] criterion=friedman_mse, learning_rate=0.2, loss=deviance, max_depth=5, max_features=sqrt, min_samples_leaf=0.3545454545454546, min_samples_split=0.1, n_estimators=10, subsample=0.9 \n",
      "[CV] criterion=friedman_mse, learning_rate=0.2, loss=deviance, max_depth=5, max_features=sqrt, min_samples_leaf=0.3545454545454546, min_samples_split=0.1, n_estimators=10, subsample=0.9 \n",
      "[CV]  criterion=friedman_mse, learning_rate=0.2, loss=deviance, max_depth=5, max_features=sqrt, min_samples_leaf=0.31818181818181823, min_samples_split=0.46363636363636374, n_estimators=10, subsample=0.9, score=0.6766584942228059, total=   0.1s\n"
     ]
    },
    {
     "name": "stdout",
     "output_type": "stream",
     "text": [
      "[CV]  criterion=friedman_mse, learning_rate=0.2, loss=deviance, max_depth=5, max_features=sqrt, min_samples_leaf=0.31818181818181823, min_samples_split=0.5, n_estimators=10, subsample=0.9, score=0.6570739474958456, total=   0.2s\n",
      "[CV] criterion=friedman_mse, learning_rate=0.2, loss=deviance, max_depth=5, max_features=sqrt, min_samples_leaf=0.3545454545454546, min_samples_split=0.13636363636363638, n_estimators=10, subsample=0.9 \n",
      "[CV] criterion=friedman_mse, learning_rate=0.2, loss=deviance, max_depth=5, max_features=sqrt, min_samples_leaf=0.3545454545454546, min_samples_split=0.13636363636363638, n_estimators=10, subsample=0.9 \n",
      "[CV]  criterion=friedman_mse, learning_rate=0.2, loss=deviance, max_depth=5, max_features=sqrt, min_samples_leaf=0.31818181818181823, min_samples_split=0.5, n_estimators=10, subsample=0.9, score=0.6668645407578153, total=   0.2s\n",
      "[CV] criterion=friedman_mse, learning_rate=0.2, loss=deviance, max_depth=5, max_features=sqrt, min_samples_leaf=0.3545454545454546, min_samples_split=0.13636363636363638, n_estimators=10, subsample=0.9 \n",
      "[CV]  criterion=friedman_mse, learning_rate=0.2, loss=deviance, max_depth=5, max_features=sqrt, min_samples_leaf=0.31818181818181823, min_samples_split=0.5, n_estimators=10, subsample=0.9, score=0.6722611722426387, total=   0.1s\n",
      "[CV] criterion=friedman_mse, learning_rate=0.2, loss=deviance, max_depth=5, max_features=sqrt, min_samples_leaf=0.3545454545454546, min_samples_split=0.17272727272727273, n_estimators=10, subsample=0.9 \n",
      "[CV]  criterion=friedman_mse, learning_rate=0.2, loss=deviance, max_depth=5, max_features=sqrt, min_samples_leaf=0.3545454545454546, min_samples_split=0.1, n_estimators=10, subsample=0.9, score=0.6549877013416479, total=   0.1s\n",
      "[CV] criterion=friedman_mse, learning_rate=0.2, loss=deviance, max_depth=5, max_features=sqrt, min_samples_leaf=0.3545454545454546, min_samples_split=0.17272727272727273, n_estimators=10, subsample=0.9 \n",
      "[CV]  criterion=friedman_mse, learning_rate=0.2, loss=deviance, max_depth=5, max_features=sqrt, min_samples_leaf=0.3545454545454546, min_samples_split=0.1, n_estimators=10, subsample=0.9, score=0.6482197043928047, total=   0.2s\n",
      "[CV] criterion=friedman_mse, learning_rate=0.2, loss=deviance, max_depth=5, max_features=sqrt, min_samples_leaf=0.3545454545454546, min_samples_split=0.17272727272727273, n_estimators=10, subsample=0.9 \n",
      "[CV]  criterion=friedman_mse, learning_rate=0.2, loss=deviance, max_depth=5, max_features=sqrt, min_samples_leaf=0.3545454545454546, min_samples_split=0.1, n_estimators=10, subsample=0.9, score=0.6725978663390627, total=   0.2s\n",
      "[CV] criterion=friedman_mse, learning_rate=0.2, loss=deviance, max_depth=5, max_features=sqrt, min_samples_leaf=0.3545454545454546, min_samples_split=0.2090909090909091, n_estimators=10, subsample=0.9 \n",
      "[CV]  criterion=friedman_mse, learning_rate=0.2, loss=deviance, max_depth=5, max_features=sqrt, min_samples_leaf=0.3545454545454546, min_samples_split=0.13636363636363638, n_estimators=10, subsample=0.9, score=0.6504223901491217, total=   0.2s\n",
      "[CV] criterion=friedman_mse, learning_rate=0.2, loss=deviance, max_depth=5, max_features=sqrt, min_samples_leaf=0.3545454545454546, min_samples_split=0.2090909090909091, n_estimators=10, subsample=0.9 \n",
      "[CV]  criterion=friedman_mse, learning_rate=0.2, loss=deviance, max_depth=5, max_features=sqrt, min_samples_leaf=0.3545454545454546, min_samples_split=0.13636363636363638, n_estimators=10, subsample=0.9, score=0.6641820359618218, total=   0.1s\n",
      "[CV] criterion=friedman_mse, learning_rate=0.2, loss=deviance, max_depth=5, max_features=sqrt, min_samples_leaf=0.3545454545454546, min_samples_split=0.2090909090909091, n_estimators=10, subsample=0.9 \n",
      "[CV]  criterion=friedman_mse, learning_rate=0.2, loss=deviance, max_depth=5, max_features=sqrt, min_samples_leaf=0.3545454545454546, min_samples_split=0.17272727272727273, n_estimators=10, subsample=0.9, score=0.6391400517958502, total=   0.1s\n",
      "[CV]  criterion=friedman_mse, learning_rate=0.2, loss=deviance, max_depth=5, max_features=sqrt, min_samples_leaf=0.3545454545454546, min_samples_split=0.13636363636363638, n_estimators=10, subsample=0.9, score=0.6616612654402705, total=   0.2s\n",
      "[CV] criterion=friedman_mse, learning_rate=0.2, loss=deviance, max_depth=5, max_features=sqrt, min_samples_leaf=0.3545454545454546, min_samples_split=0.24545454545454548, n_estimators=10, subsample=0.9 \n",
      "[CV] criterion=friedman_mse, learning_rate=0.2, loss=deviance, max_depth=5, max_features=sqrt, min_samples_leaf=0.3545454545454546, min_samples_split=0.24545454545454548, n_estimators=10, subsample=0.9 \n",
      "[CV]  criterion=friedman_mse, learning_rate=0.2, loss=deviance, max_depth=5, max_features=sqrt, min_samples_leaf=0.3545454545454546, min_samples_split=0.17272727272727273, n_estimators=10, subsample=0.9, score=0.662569896715876, total=   0.2s\n",
      "[CV]  criterion=friedman_mse, learning_rate=0.2, loss=deviance, max_depth=5, max_features=sqrt, min_samples_leaf=0.3545454545454546, min_samples_split=0.17272727272727273, n_estimators=10, subsample=0.9, score=0.6616612654402705, total=   0.2s\n",
      "[CV] criterion=friedman_mse, learning_rate=0.2, loss=deviance, max_depth=5, max_features=sqrt, min_samples_leaf=0.3545454545454546, min_samples_split=0.24545454545454548, n_estimators=10, subsample=0.9 \n",
      "[CV] criterion=friedman_mse, learning_rate=0.2, loss=deviance, max_depth=5, max_features=sqrt, min_samples_leaf=0.3545454545454546, min_samples_split=0.28181818181818186, n_estimators=10, subsample=0.9 \n",
      "[CV]  criterion=friedman_mse, learning_rate=0.2, loss=deviance, max_depth=5, max_features=sqrt, min_samples_leaf=0.3545454545454546, min_samples_split=0.2090909090909091, n_estimators=10, subsample=0.9, score=0.6272728790636324, total=   0.2s\n",
      "[CV]  criterion=friedman_mse, learning_rate=0.2, loss=deviance, max_depth=5, max_features=sqrt, min_samples_leaf=0.3545454545454546, min_samples_split=0.2090909090909091, n_estimators=10, subsample=0.9, score=0.6586513745585181, total=   0.1s\n",
      "[CV] criterion=friedman_mse, learning_rate=0.2, loss=deviance, max_depth=5, max_features=sqrt, min_samples_leaf=0.3545454545454546, min_samples_split=0.28181818181818186, n_estimators=10, subsample=0.9 \n",
      "[CV]  criterion=friedman_mse, learning_rate=0.2, loss=deviance, max_depth=5, max_features=sqrt, min_samples_leaf=0.3545454545454546, min_samples_split=0.2090909090909091, n_estimators=10, subsample=0.9, score=0.6688624593584191, total=   0.2s\n",
      "[CV]  criterion=friedman_mse, learning_rate=0.2, loss=deviance, max_depth=5, max_features=sqrt, min_samples_leaf=0.3545454545454546, min_samples_split=0.24545454545454548, n_estimators=10, subsample=0.9, score=0.6504223901491217, total=   0.1s\n",
      "[CV] criterion=friedman_mse, learning_rate=0.2, loss=deviance, max_depth=5, max_features=sqrt, min_samples_leaf=0.3545454545454546, min_samples_split=0.28181818181818186, n_estimators=10, subsample=0.9 \n",
      "[CV] criterion=friedman_mse, learning_rate=0.2, loss=deviance, max_depth=5, max_features=sqrt, min_samples_leaf=0.3545454545454546, min_samples_split=0.31818181818181823, n_estimators=10, subsample=0.9 \n",
      "[CV] criterion=friedman_mse, learning_rate=0.2, loss=deviance, max_depth=5, max_features=sqrt, min_samples_leaf=0.3545454545454546, min_samples_split=0.31818181818181823, n_estimators=10, subsample=0.9 \n",
      "[CV]  criterion=friedman_mse, learning_rate=0.2, loss=deviance, max_depth=5, max_features=sqrt, min_samples_leaf=0.3545454545454546, min_samples_split=0.24545454545454548, n_estimators=10, subsample=0.9, score=0.661836107525162, total=   0.2s\n",
      "[CV] criterion=friedman_mse, learning_rate=0.2, loss=deviance, max_depth=5, max_features=sqrt, min_samples_leaf=0.3545454545454546, min_samples_split=0.31818181818181823, n_estimators=10, subsample=0.9 \n",
      "[CV] criterion=friedman_mse, learning_rate=0.2, loss=deviance, max_depth=5, max_features=sqrt, min_samples_leaf=0.3545454545454546, min_samples_split=0.3545454545454546, n_estimators=10, subsample=0.9 \n",
      "[CV]  criterion=friedman_mse, learning_rate=0.2, loss=deviance, max_depth=5, max_features=sqrt, min_samples_leaf=0.3545454545454546, min_samples_split=0.24545454545454548, n_estimators=10, subsample=0.9, score=0.6461428889147771, total=   0.2s\n",
      "[CV]  criterion=friedman_mse, learning_rate=0.2, loss=deviance, max_depth=5, max_features=sqrt, min_samples_leaf=0.3545454545454546, min_samples_split=0.28181818181818186, n_estimators=10, subsample=0.9, score=0.6445604251231843, total=   0.2s\n"
     ]
    },
    {
     "name": "stdout",
     "output_type": "stream",
     "text": [
      "[CV]  criterion=friedman_mse, learning_rate=0.2, loss=deviance, max_depth=5, max_features=sqrt, min_samples_leaf=0.3545454545454546, min_samples_split=0.28181818181818186, n_estimators=10, subsample=0.9, score=0.6493603730988489, total=   0.1s\n",
      "[CV] criterion=friedman_mse, learning_rate=0.2, loss=deviance, max_depth=5, max_features=sqrt, min_samples_leaf=0.3545454545454546, min_samples_split=0.3545454545454546, n_estimators=10, subsample=0.9 \n",
      "[CV]  criterion=friedman_mse, learning_rate=0.2, loss=deviance, max_depth=5, max_features=sqrt, min_samples_leaf=0.3545454545454546, min_samples_split=0.28181818181818186, n_estimators=10, subsample=0.9, score=0.666429259820171, total=   0.1s\n",
      "[CV] criterion=friedman_mse, learning_rate=0.2, loss=deviance, max_depth=5, max_features=sqrt, min_samples_leaf=0.3545454545454546, min_samples_split=0.3545454545454546, n_estimators=10, subsample=0.9 \n",
      "[CV] criterion=friedman_mse, learning_rate=0.2, loss=deviance, max_depth=5, max_features=sqrt, min_samples_leaf=0.3545454545454546, min_samples_split=0.390909090909091, n_estimators=10, subsample=0.9 \n",
      "[CV]  criterion=friedman_mse, learning_rate=0.2, loss=deviance, max_depth=5, max_features=sqrt, min_samples_leaf=0.3545454545454546, min_samples_split=0.31818181818181823, n_estimators=10, subsample=0.9, score=0.6436785599101525, total=   0.2s\n",
      "[CV]  criterion=friedman_mse, learning_rate=0.2, loss=deviance, max_depth=5, max_features=sqrt, min_samples_leaf=0.3545454545454546, min_samples_split=0.31818181818181823, n_estimators=10, subsample=0.9, score=0.6333444353733844, total=   0.2s\n",
      "[CV] criterion=friedman_mse, learning_rate=0.2, loss=deviance, max_depth=5, max_features=sqrt, min_samples_leaf=0.3545454545454546, min_samples_split=0.390909090909091, n_estimators=10, subsample=0.9 \n",
      "[CV]  criterion=friedman_mse, learning_rate=0.2, loss=deviance, max_depth=5, max_features=sqrt, min_samples_leaf=0.3545454545454546, min_samples_split=0.31818181818181823, n_estimators=10, subsample=0.9, score=0.6688624593584191, total=   0.1s\n",
      "[CV] criterion=friedman_mse, learning_rate=0.2, loss=deviance, max_depth=5, max_features=sqrt, min_samples_leaf=0.3545454545454546, min_samples_split=0.390909090909091, n_estimators=10, subsample=0.9 \n",
      "[CV]  criterion=friedman_mse, learning_rate=0.2, loss=deviance, max_depth=5, max_features=sqrt, min_samples_leaf=0.3545454545454546, min_samples_split=0.3545454545454546, n_estimators=10, subsample=0.9, score=0.6498630406642243, total=   0.1s\n",
      "[CV] criterion=friedman_mse, learning_rate=0.2, loss=deviance, max_depth=5, max_features=sqrt, min_samples_leaf=0.3545454545454546, min_samples_split=0.42727272727272736, n_estimators=10, subsample=0.9 \n",
      "[CV]  criterion=friedman_mse, learning_rate=0.2, loss=deviance, max_depth=5, max_features=sqrt, min_samples_leaf=0.3545454545454546, min_samples_split=0.3545454545454546, n_estimators=10, subsample=0.9, score=0.656046902414313, total=   0.1s\n",
      "[CV] criterion=friedman_mse, learning_rate=0.2, loss=deviance, max_depth=5, max_features=sqrt, min_samples_leaf=0.3545454545454546, min_samples_split=0.42727272727272736, n_estimators=10, subsample=0.9 \n",
      "[CV]  criterion=friedman_mse, learning_rate=0.2, loss=deviance, max_depth=5, max_features=sqrt, min_samples_leaf=0.3545454545454546, min_samples_split=0.3545454545454546, n_estimators=10, subsample=0.9, score=0.6522045751536344, total=   0.2s\n",
      "[CV] criterion=friedman_mse, learning_rate=0.2, loss=deviance, max_depth=5, max_features=sqrt, min_samples_leaf=0.3545454545454546, min_samples_split=0.42727272727272736, n_estimators=10, subsample=0.9 \n",
      "[CV]  criterion=friedman_mse, learning_rate=0.2, loss=deviance, max_depth=5, max_features=sqrt, min_samples_leaf=0.3545454545454546, min_samples_split=0.390909090909091, n_estimators=10, subsample=0.9, score=0.6246101470302629, total=   0.2s\n",
      "[CV] criterion=friedman_mse, learning_rate=0.2, loss=deviance, max_depth=5, max_features=sqrt, min_samples_leaf=0.3545454545454546, min_samples_split=0.46363636363636374, n_estimators=10, subsample=0.9 \n",
      "[CV] criterion=friedman_mse, learning_rate=0.2, loss=deviance, max_depth=5, max_features=sqrt, min_samples_leaf=0.3545454545454546, min_samples_split=0.46363636363636374, n_estimators=10, subsample=0.9 \n",
      "[CV]  criterion=friedman_mse, learning_rate=0.2, loss=deviance, max_depth=5, max_features=sqrt, min_samples_leaf=0.3545454545454546, min_samples_split=0.390909090909091, n_estimators=10, subsample=0.9, score=0.6511232247354624, total=   0.1s\n",
      "[CV]  criterion=friedman_mse, learning_rate=0.2, loss=deviance, max_depth=5, max_features=sqrt, min_samples_leaf=0.3545454545454546, min_samples_split=0.390909090909091, n_estimators=10, subsample=0.9, score=0.6679843187923846, total=   0.1s\n"
     ]
    },
    {
     "name": "stderr",
     "output_type": "stream",
     "text": [
      "[Parallel(n_jobs=-1)]: Done 272 tasks      | elapsed:    9.5s\n"
     ]
    },
    {
     "name": "stdout",
     "output_type": "stream",
     "text": [
      "[CV] criterion=friedman_mse, learning_rate=0.2, loss=deviance, max_depth=5, max_features=sqrt, min_samples_leaf=0.3545454545454546, min_samples_split=0.46363636363636374, n_estimators=10, subsample=0.9 \n",
      "[CV]  criterion=friedman_mse, learning_rate=0.2, loss=deviance, max_depth=5, max_features=sqrt, min_samples_leaf=0.3545454545454546, min_samples_split=0.42727272727272736, n_estimators=10, subsample=0.9, score=0.6349904080131537, total=   0.1s\n",
      "[CV] criterion=friedman_mse, learning_rate=0.2, loss=deviance, max_depth=5, max_features=sqrt, min_samples_leaf=0.3545454545454546, min_samples_split=0.5, n_estimators=10, subsample=0.9 \n",
      "[CV]  criterion=friedman_mse, learning_rate=0.2, loss=deviance, max_depth=5, max_features=sqrt, min_samples_leaf=0.3545454545454546, min_samples_split=0.42727272727272736, n_estimators=10, subsample=0.9, score=0.6436785599101525, total=   0.1s\n",
      "[CV] criterion=friedman_mse, learning_rate=0.2, loss=deviance, max_depth=5, max_features=sqrt, min_samples_leaf=0.3545454545454546, min_samples_split=0.5, n_estimators=10, subsample=0.9 \n",
      "[CV]  criterion=friedman_mse, learning_rate=0.2, loss=deviance, max_depth=5, max_features=sqrt, min_samples_leaf=0.3545454545454546, min_samples_split=0.42727272727272736, n_estimators=10, subsample=0.9, score=0.6548183881751974, total=   0.1s\n",
      "[CV] criterion=friedman_mse, learning_rate=0.2, loss=deviance, max_depth=5, max_features=sqrt, min_samples_leaf=0.3545454545454546, min_samples_split=0.5, n_estimators=10, subsample=0.9 \n",
      "[CV] criterion=friedman_mse, learning_rate=0.2, loss=deviance, max_depth=5, max_features=sqrt, min_samples_leaf=0.390909090909091, min_samples_split=0.1, n_estimators=10, subsample=0.9 \n",
      "[CV]  criterion=friedman_mse, learning_rate=0.2, loss=deviance, max_depth=5, max_features=sqrt, min_samples_leaf=0.3545454545454546, min_samples_split=0.46363636363636374, n_estimators=10, subsample=0.9, score=0.6563652038044553, total=   0.1s\n",
      "[CV] criterion=friedman_mse, learning_rate=0.2, loss=deviance, max_depth=5, max_features=sqrt, min_samples_leaf=0.390909090909091, min_samples_split=0.1, n_estimators=10, subsample=0.9 \n",
      "[CV]  criterion=friedman_mse, learning_rate=0.2, loss=deviance, max_depth=5, max_features=sqrt, min_samples_leaf=0.3545454545454546, min_samples_split=0.46363636363636374, n_estimators=10, subsample=0.9, score=0.6679843187923846, total=   0.1s\n",
      "[CV]  criterion=friedman_mse, learning_rate=0.2, loss=deviance, max_depth=5, max_features=sqrt, min_samples_leaf=0.3545454545454546, min_samples_split=0.46363636363636374, n_estimators=10, subsample=0.9, score=0.6316997809177901, total=   0.2s\n",
      "[CV] criterion=friedman_mse, learning_rate=0.2, loss=deviance, max_depth=5, max_features=sqrt, min_samples_leaf=0.390909090909091, min_samples_split=0.1, n_estimators=10, subsample=0.9 \n",
      "[CV]  criterion=friedman_mse, learning_rate=0.2, loss=deviance, max_depth=5, max_features=sqrt, min_samples_leaf=0.3545454545454546, min_samples_split=0.5, n_estimators=10, subsample=0.9, score=0.6354636361319554, total=   0.2s\n",
      "[CV] criterion=friedman_mse, learning_rate=0.2, loss=deviance, max_depth=5, max_features=sqrt, min_samples_leaf=0.390909090909091, min_samples_split=0.13636363636363638, n_estimators=10, subsample=0.9 \n",
      "[CV]  criterion=friedman_mse, learning_rate=0.2, loss=deviance, max_depth=5, max_features=sqrt, min_samples_leaf=0.3545454545454546, min_samples_split=0.5, n_estimators=10, subsample=0.9, score=0.6570133110237985, total=   0.2s\n",
      "[CV] criterion=friedman_mse, learning_rate=0.2, loss=deviance, max_depth=5, max_features=sqrt, min_samples_leaf=0.390909090909091, min_samples_split=0.13636363636363638, n_estimators=10, subsample=0.9 \n",
      "[CV] criterion=friedman_mse, learning_rate=0.2, loss=deviance, max_depth=5, max_features=sqrt, min_samples_leaf=0.390909090909091, min_samples_split=0.13636363636363638, n_estimators=10, subsample=0.9 \n",
      "[CV] criterion=friedman_mse, learning_rate=0.2, loss=deviance, max_depth=5, max_features=sqrt, min_samples_leaf=0.390909090909091, min_samples_split=0.17272727272727273, n_estimators=10, subsample=0.9 \n",
      "[CV]  criterion=friedman_mse, learning_rate=0.2, loss=deviance, max_depth=5, max_features=sqrt, min_samples_leaf=0.3545454545454546, min_samples_split=0.5, n_estimators=10, subsample=0.9, score=0.6648653753146303, total=   0.2s\n",
      "[CV]  criterion=friedman_mse, learning_rate=0.2, loss=deviance, max_depth=5, max_features=sqrt, min_samples_leaf=0.390909090909091, min_samples_split=0.1, n_estimators=10, subsample=0.9, score=0.6279477893611991, total=   0.2s\n",
      "[CV]  criterion=friedman_mse, learning_rate=0.2, loss=deviance, max_depth=5, max_features=sqrt, min_samples_leaf=0.390909090909091, min_samples_split=0.1, n_estimators=10, subsample=0.9, score=0.6479995676355906, total=   0.2s\n",
      "[CV] criterion=friedman_mse, learning_rate=0.2, loss=deviance, max_depth=5, max_features=sqrt, min_samples_leaf=0.390909090909091, min_samples_split=0.17272727272727273, n_estimators=10, subsample=0.9 \n",
      "[CV]  criterion=friedman_mse, learning_rate=0.2, loss=deviance, max_depth=5, max_features=sqrt, min_samples_leaf=0.390909090909091, min_samples_split=0.1, n_estimators=10, subsample=0.9, score=0.6575520971232292, total=   0.1s\n",
      "[CV] criterion=friedman_mse, learning_rate=0.2, loss=deviance, max_depth=5, max_features=sqrt, min_samples_leaf=0.390909090909091, min_samples_split=0.17272727272727273, n_estimators=10, subsample=0.9 \n",
      "[CV]  criterion=friedman_mse, learning_rate=0.2, loss=deviance, max_depth=5, max_features=sqrt, min_samples_leaf=0.390909090909091, min_samples_split=0.13636363636363638, n_estimators=10, subsample=0.9, score=0.6427993310654706, total=   0.2s\n",
      "[CV] criterion=friedman_mse, learning_rate=0.2, loss=deviance, max_depth=5, max_features=sqrt, min_samples_leaf=0.390909090909091, min_samples_split=0.2090909090909091, n_estimators=10, subsample=0.9 \n",
      "[CV]  criterion=friedman_mse, learning_rate=0.2, loss=deviance, max_depth=5, max_features=sqrt, min_samples_leaf=0.390909090909091, min_samples_split=0.13636363636363638, n_estimators=10, subsample=0.9, score=0.6590371631270492, total=   0.1s\n",
      "[CV] criterion=friedman_mse, learning_rate=0.2, loss=deviance, max_depth=5, max_features=sqrt, min_samples_leaf=0.390909090909091, min_samples_split=0.2090909090909091, n_estimators=10, subsample=0.9 \n",
      "[CV] criterion=friedman_mse, learning_rate=0.2, loss=deviance, max_depth=5, max_features=sqrt, min_samples_leaf=0.390909090909091, min_samples_split=0.2090909090909091, n_estimators=10, subsample=0.9 \n",
      "[CV] criterion=friedman_mse, learning_rate=0.2, loss=deviance, max_depth=5, max_features=sqrt, min_samples_leaf=0.390909090909091, min_samples_split=0.24545454545454548, n_estimators=10, subsample=0.9 \n",
      "[CV]  criterion=friedman_mse, learning_rate=0.2, loss=deviance, max_depth=5, max_features=sqrt, min_samples_leaf=0.390909090909091, min_samples_split=0.13636363636363638, n_estimators=10, subsample=0.9, score=0.640287588828993, total=   0.2s\n",
      "[CV]  criterion=friedman_mse, learning_rate=0.2, loss=deviance, max_depth=5, max_features=sqrt, min_samples_leaf=0.390909090909091, min_samples_split=0.17272727272727273, n_estimators=10, subsample=0.9, score=0.6246646319761602, total=   0.2s\n",
      "[CV]  criterion=friedman_mse, learning_rate=0.2, loss=deviance, max_depth=5, max_features=sqrt, min_samples_leaf=0.390909090909091, min_samples_split=0.17272727272727273, n_estimators=10, subsample=0.9, score=0.6481265527111093, total=   0.1s\n",
      "[CV] criterion=friedman_mse, learning_rate=0.2, loss=deviance, max_depth=5, max_features=sqrt, min_samples_leaf=0.390909090909091, min_samples_split=0.24545454545454548, n_estimators=10, subsample=0.9 \n",
      "[CV] criterion=friedman_mse, learning_rate=0.2, loss=deviance, max_depth=5, max_features=sqrt, min_samples_leaf=0.390909090909091, min_samples_split=0.24545454545454548, n_estimators=10, subsample=0.9 \n",
      "[CV]  criterion=friedman_mse, learning_rate=0.2, loss=deviance, max_depth=5, max_features=sqrt, min_samples_leaf=0.390909090909091, min_samples_split=0.17272727272727273, n_estimators=10, subsample=0.9, score=0.6685032601520111, total=   0.2s\n",
      "[CV] criterion=friedman_mse, learning_rate=0.2, loss=deviance, max_depth=5, max_features=sqrt, min_samples_leaf=0.390909090909091, min_samples_split=0.28181818181818186, n_estimators=10, subsample=0.9 \n"
     ]
    },
    {
     "name": "stdout",
     "output_type": "stream",
     "text": [
      "[CV] criterion=friedman_mse, learning_rate=0.2, loss=deviance, max_depth=5, max_features=sqrt, min_samples_leaf=0.390909090909091, min_samples_split=0.28181818181818186, n_estimators=10, subsample=0.9 \n",
      "[CV]  criterion=friedman_mse, learning_rate=0.2, loss=deviance, max_depth=5, max_features=sqrt, min_samples_leaf=0.390909090909091, min_samples_split=0.2090909090909091, n_estimators=10, subsample=0.9, score=0.6314185682938039, total=   0.2s\n",
      "[CV]  criterion=friedman_mse, learning_rate=0.2, loss=deviance, max_depth=5, max_features=sqrt, min_samples_leaf=0.390909090909091, min_samples_split=0.2090909090909091, n_estimators=10, subsample=0.9, score=0.6571108566527437, total=   0.2s\n",
      "[CV]  criterion=friedman_mse, learning_rate=0.2, loss=deviance, max_depth=5, max_features=sqrt, min_samples_leaf=0.390909090909091, min_samples_split=0.2090909090909091, n_estimators=10, subsample=0.9, score=0.6649386272412442, total=   0.2s\n",
      "[CV] criterion=friedman_mse, learning_rate=0.2, loss=deviance, max_depth=5, max_features=sqrt, min_samples_leaf=0.390909090909091, min_samples_split=0.28181818181818186, n_estimators=10, subsample=0.9 \n",
      "[CV]  criterion=friedman_mse, learning_rate=0.2, loss=deviance, max_depth=5, max_features=sqrt, min_samples_leaf=0.390909090909091, min_samples_split=0.24545454545454548, n_estimators=10, subsample=0.9, score=0.6246646319761602, total=   0.1s\n",
      "[CV] criterion=friedman_mse, learning_rate=0.2, loss=deviance, max_depth=5, max_features=sqrt, min_samples_leaf=0.390909090909091, min_samples_split=0.31818181818181823, n_estimators=10, subsample=0.9 \n",
      "[CV]  criterion=friedman_mse, learning_rate=0.2, loss=deviance, max_depth=5, max_features=sqrt, min_samples_leaf=0.390909090909091, min_samples_split=0.24545454545454548, n_estimators=10, subsample=0.9, score=0.6454277903102917, total=   0.2s\n",
      "[CV] criterion=friedman_mse, learning_rate=0.2, loss=deviance, max_depth=5, max_features=sqrt, min_samples_leaf=0.390909090909091, min_samples_split=0.31818181818181823, n_estimators=10, subsample=0.9 \n",
      "[CV] criterion=friedman_mse, learning_rate=0.2, loss=deviance, max_depth=5, max_features=sqrt, min_samples_leaf=0.390909090909091, min_samples_split=0.31818181818181823, n_estimators=10, subsample=0.9 \n",
      "[CV]  criterion=friedman_mse, learning_rate=0.2, loss=deviance, max_depth=5, max_features=sqrt, min_samples_leaf=0.390909090909091, min_samples_split=0.24545454545454548, n_estimators=10, subsample=0.9, score=0.6402456675456898, total=   0.2s\n",
      "[CV]  criterion=friedman_mse, learning_rate=0.2, loss=deviance, max_depth=5, max_features=sqrt, min_samples_leaf=0.390909090909091, min_samples_split=0.28181818181818186, n_estimators=10, subsample=0.9, score=0.654106275523341, total=   0.1s\n",
      "[CV] criterion=friedman_mse, learning_rate=0.2, loss=deviance, max_depth=5, max_features=sqrt, min_samples_leaf=0.390909090909091, min_samples_split=0.3545454545454546, n_estimators=10, subsample=0.9 \n",
      "[CV]  criterion=friedman_mse, learning_rate=0.2, loss=deviance, max_depth=5, max_features=sqrt, min_samples_leaf=0.390909090909091, min_samples_split=0.28181818181818186, n_estimators=10, subsample=0.9, score=0.6518978776355995, total=   0.1s\n",
      "[CV] criterion=friedman_mse, learning_rate=0.2, loss=deviance, max_depth=5, max_features=sqrt, min_samples_leaf=0.390909090909091, min_samples_split=0.3545454545454546, n_estimators=10, subsample=0.9 \n",
      "[CV]  criterion=friedman_mse, learning_rate=0.2, loss=deviance, max_depth=5, max_features=sqrt, min_samples_leaf=0.390909090909091, min_samples_split=0.28181818181818186, n_estimators=10, subsample=0.9, score=0.6571236174802043, total=   0.1s\n",
      "[CV] criterion=friedman_mse, learning_rate=0.2, loss=deviance, max_depth=5, max_features=sqrt, min_samples_leaf=0.390909090909091, min_samples_split=0.3545454545454546, n_estimators=10, subsample=0.9 \n",
      "[CV] criterion=friedman_mse, learning_rate=0.2, loss=deviance, max_depth=5, max_features=sqrt, min_samples_leaf=0.390909090909091, min_samples_split=0.390909090909091, n_estimators=10, subsample=0.9 \n",
      "[CV] criterion=friedman_mse, learning_rate=0.2, loss=deviance, max_depth=5, max_features=sqrt, min_samples_leaf=0.390909090909091, min_samples_split=0.390909090909091, n_estimators=10, subsample=0.9 \n",
      "[CV]  criterion=friedman_mse, learning_rate=0.2, loss=deviance, max_depth=5, max_features=sqrt, min_samples_leaf=0.390909090909091, min_samples_split=0.31818181818181823, n_estimators=10, subsample=0.9, score=0.634047906328075, total=   0.2s\n",
      "[CV]  criterion=friedman_mse, learning_rate=0.2, loss=deviance, max_depth=5, max_features=sqrt, min_samples_leaf=0.390909090909091, min_samples_split=0.31818181818181823, n_estimators=10, subsample=0.9, score=0.6593825273808823, total=   0.2s\n",
      "[CV]  criterion=friedman_mse, learning_rate=0.2, loss=deviance, max_depth=5, max_features=sqrt, min_samples_leaf=0.390909090909091, min_samples_split=0.31818181818181823, n_estimators=10, subsample=0.9, score=0.6603643533178709, total=   0.1s\n",
      "[CV] criterion=friedman_mse, learning_rate=0.2, loss=deviance, max_depth=5, max_features=sqrt, min_samples_leaf=0.390909090909091, min_samples_split=0.390909090909091, n_estimators=10, subsample=0.9 \n",
      "[CV] criterion=friedman_mse, learning_rate=0.2, loss=deviance, max_depth=5, max_features=sqrt, min_samples_leaf=0.390909090909091, min_samples_split=0.42727272727272736, n_estimators=10, subsample=0.9 \n",
      "[CV]  criterion=friedman_mse, learning_rate=0.2, loss=deviance, max_depth=5, max_features=sqrt, min_samples_leaf=0.390909090909091, min_samples_split=0.3545454545454546, n_estimators=10, subsample=0.9, score=0.6119375637671596, total=   0.2s\n",
      "[CV]  criterion=friedman_mse, learning_rate=0.2, loss=deviance, max_depth=5, max_features=sqrt, min_samples_leaf=0.390909090909091, min_samples_split=0.3545454545454546, n_estimators=10, subsample=0.9, score=0.6537437748752339, total=   0.1s\n",
      "[CV] criterion=friedman_mse, learning_rate=0.2, loss=deviance, max_depth=5, max_features=sqrt, min_samples_leaf=0.390909090909091, min_samples_split=0.42727272727272736, n_estimators=10, subsample=0.9 \n",
      "[CV]  criterion=friedman_mse, learning_rate=0.2, loss=deviance, max_depth=5, max_features=sqrt, min_samples_leaf=0.390909090909091, min_samples_split=0.3545454545454546, n_estimators=10, subsample=0.9, score=0.6477231006569728, total=   0.1s\n",
      "[CV] criterion=friedman_mse, learning_rate=0.2, loss=deviance, max_depth=5, max_features=sqrt, min_samples_leaf=0.390909090909091, min_samples_split=0.42727272727272736, n_estimators=10, subsample=0.9 \n",
      "[CV]  criterion=friedman_mse, learning_rate=0.2, loss=deviance, max_depth=5, max_features=sqrt, min_samples_leaf=0.390909090909091, min_samples_split=0.390909090909091, n_estimators=10, subsample=0.9, score=0.6378693222512125, total=   0.1s\n",
      "[CV]  criterion=friedman_mse, learning_rate=0.2, loss=deviance, max_depth=5, max_features=sqrt, min_samples_leaf=0.390909090909091, min_samples_split=0.390909090909091, n_estimators=10, subsample=0.9, score=0.654106275523341, total=   0.2s\n",
      "[CV] criterion=friedman_mse, learning_rate=0.2, loss=deviance, max_depth=5, max_features=sqrt, min_samples_leaf=0.390909090909091, min_samples_split=0.46363636363636374, n_estimators=10, subsample=0.9 \n",
      "[CV] criterion=friedman_mse, learning_rate=0.2, loss=deviance, max_depth=5, max_features=sqrt, min_samples_leaf=0.390909090909091, min_samples_split=0.46363636363636374, n_estimators=10, subsample=0.9 \n",
      "[CV]  criterion=friedman_mse, learning_rate=0.2, loss=deviance, max_depth=5, max_features=sqrt, min_samples_leaf=0.390909090909091, min_samples_split=0.390909090909091, n_estimators=10, subsample=0.9, score=0.6596027097917527, total=   0.1s\n",
      "[CV] criterion=friedman_mse, learning_rate=0.2, loss=deviance, max_depth=5, max_features=sqrt, min_samples_leaf=0.390909090909091, min_samples_split=0.46363636363636374, n_estimators=10, subsample=0.9 \n",
      "[CV]  criterion=friedman_mse, learning_rate=0.2, loss=deviance, max_depth=5, max_features=sqrt, min_samples_leaf=0.390909090909091, min_samples_split=0.42727272727272736, n_estimators=10, subsample=0.9, score=0.6438833178519926, total=   0.2s\n",
      "[CV] criterion=friedman_mse, learning_rate=0.2, loss=deviance, max_depth=5, max_features=sqrt, min_samples_leaf=0.390909090909091, min_samples_split=0.5, n_estimators=10, subsample=0.9 \n"
     ]
    },
    {
     "name": "stdout",
     "output_type": "stream",
     "text": [
      "[CV]  criterion=friedman_mse, learning_rate=0.2, loss=deviance, max_depth=5, max_features=sqrt, min_samples_leaf=0.390909090909091, min_samples_split=0.42727272727272736, n_estimators=10, subsample=0.9, score=0.6387744753846681, total=   0.1s\n",
      "[CV] criterion=friedman_mse, learning_rate=0.2, loss=deviance, max_depth=5, max_features=sqrt, min_samples_leaf=0.390909090909091, min_samples_split=0.5, n_estimators=10, subsample=0.9 \n",
      "[CV] criterion=friedman_mse, learning_rate=0.2, loss=deviance, max_depth=5, max_features=sqrt, min_samples_leaf=0.390909090909091, min_samples_split=0.5, n_estimators=10, subsample=0.9 \n",
      "[CV]  criterion=friedman_mse, learning_rate=0.2, loss=deviance, max_depth=5, max_features=sqrt, min_samples_leaf=0.390909090909091, min_samples_split=0.42727272727272736, n_estimators=10, subsample=0.9, score=0.6501002580585944, total=   0.2s\n",
      "[CV] criterion=friedman_mse, learning_rate=0.2, loss=deviance, max_depth=5, max_features=sqrt, min_samples_leaf=0.42727272727272736, min_samples_split=0.1, n_estimators=10, subsample=0.9 \n",
      "[CV]  criterion=friedman_mse, learning_rate=0.2, loss=deviance, max_depth=5, max_features=sqrt, min_samples_leaf=0.390909090909091, min_samples_split=0.46363636363636374, n_estimators=10, subsample=0.9, score=0.6357347426772673, total=   0.2s\n",
      "[CV] criterion=friedman_mse, learning_rate=0.2, loss=deviance, max_depth=5, max_features=sqrt, min_samples_leaf=0.42727272727272736, min_samples_split=0.1, n_estimators=10, subsample=0.9 \n",
      "[CV]  criterion=friedman_mse, learning_rate=0.2, loss=deviance, max_depth=5, max_features=sqrt, min_samples_leaf=0.390909090909091, min_samples_split=0.46363636363636374, n_estimators=10, subsample=0.9, score=0.6539142600285255, total=   0.2s\n",
      "[CV] criterion=friedman_mse, learning_rate=0.2, loss=deviance, max_depth=5, max_features=sqrt, min_samples_leaf=0.42727272727272736, min_samples_split=0.1, n_estimators=10, subsample=0.9 \n",
      "[CV]  criterion=friedman_mse, learning_rate=0.2, loss=deviance, max_depth=5, max_features=sqrt, min_samples_leaf=0.390909090909091, min_samples_split=0.46363636363636374, n_estimators=10, subsample=0.9, score=0.6607950393442277, total=   0.2s\n",
      "[CV]  criterion=friedman_mse, learning_rate=0.2, loss=deviance, max_depth=5, max_features=sqrt, min_samples_leaf=0.390909090909091, min_samples_split=0.5, n_estimators=10, subsample=0.9, score=0.6357347426772673, total=   0.2s\n",
      "[CV] criterion=friedman_mse, learning_rate=0.2, loss=deviance, max_depth=5, max_features=sqrt, min_samples_leaf=0.42727272727272736, min_samples_split=0.13636363636363638, n_estimators=10, subsample=0.9 \n",
      "[CV] criterion=friedman_mse, learning_rate=0.2, loss=deviance, max_depth=5, max_features=sqrt, min_samples_leaf=0.42727272727272736, min_samples_split=0.13636363636363638, n_estimators=10, subsample=0.9 \n",
      "[CV]  criterion=friedman_mse, learning_rate=0.2, loss=deviance, max_depth=5, max_features=sqrt, min_samples_leaf=0.390909090909091, min_samples_split=0.5, n_estimators=10, subsample=0.9, score=0.6588218597118098, total=   0.2s\n",
      "[CV]  criterion=friedman_mse, learning_rate=0.2, loss=deviance, max_depth=5, max_features=sqrt, min_samples_leaf=0.390909090909091, min_samples_split=0.5, n_estimators=10, subsample=0.9, score=0.6728714578721992, total=   0.2s\n",
      "[CV] criterion=friedman_mse, learning_rate=0.2, loss=deviance, max_depth=5, max_features=sqrt, min_samples_leaf=0.42727272727272736, min_samples_split=0.13636363636363638, n_estimators=10, subsample=0.9 \n",
      "[CV]  criterion=friedman_mse, learning_rate=0.2, loss=deviance, max_depth=5, max_features=sqrt, min_samples_leaf=0.42727272727272736, min_samples_split=0.1, n_estimators=10, subsample=0.9, score=0.643485665625887, total=   0.2s\n",
      "[CV] criterion=friedman_mse, learning_rate=0.2, loss=deviance, max_depth=5, max_features=sqrt, min_samples_leaf=0.42727272727272736, min_samples_split=0.17272727272727273, n_estimators=10, subsample=0.9 \n",
      "[CV] criterion=friedman_mse, learning_rate=0.2, loss=deviance, max_depth=5, max_features=sqrt, min_samples_leaf=0.42727272727272736, min_samples_split=0.17272727272727273, n_estimators=10, subsample=0.9 \n",
      "[CV]  criterion=friedman_mse, learning_rate=0.2, loss=deviance, max_depth=5, max_features=sqrt, min_samples_leaf=0.42727272727272736, min_samples_split=0.1, n_estimators=10, subsample=0.9, score=0.6381711864272727, total=   0.2s\n",
      "[CV]  criterion=friedman_mse, learning_rate=0.2, loss=deviance, max_depth=5, max_features=sqrt, min_samples_leaf=0.42727272727272736, min_samples_split=0.1, n_estimators=10, subsample=0.9, score=0.647657791710353, total=   0.1s\n",
      "[CV] criterion=friedman_mse, learning_rate=0.2, loss=deviance, max_depth=5, max_features=sqrt, min_samples_leaf=0.42727272727272736, min_samples_split=0.17272727272727273, n_estimators=10, subsample=0.9 \n",
      "[CV]  criterion=friedman_mse, learning_rate=0.2, loss=deviance, max_depth=5, max_features=sqrt, min_samples_leaf=0.42727272727272736, min_samples_split=0.13636363636363638, n_estimators=10, subsample=0.9, score=0.6467121410914038, total=   0.1s\n",
      "[CV] criterion=friedman_mse, learning_rate=0.2, loss=deviance, max_depth=5, max_features=sqrt, min_samples_leaf=0.42727272727272736, min_samples_split=0.2090909090909091, n_estimators=10, subsample=0.9 \n",
      "[CV] criterion=friedman_mse, learning_rate=0.2, loss=deviance, max_depth=5, max_features=sqrt, min_samples_leaf=0.42727272727272736, min_samples_split=0.2090909090909091, n_estimators=10, subsample=0.9 \n",
      "[CV]  criterion=friedman_mse, learning_rate=0.2, loss=deviance, max_depth=5, max_features=sqrt, min_samples_leaf=0.42727272727272736, min_samples_split=0.13636363636363638, n_estimators=10, subsample=0.9, score=0.647657791710353, total=   0.1s\n",
      "[CV] criterion=friedman_mse, learning_rate=0.2, loss=deviance, max_depth=5, max_features=sqrt, min_samples_leaf=0.42727272727272736, min_samples_split=0.2090909090909091, n_estimators=10, subsample=0.9 \n",
      "[CV]  criterion=friedman_mse, learning_rate=0.2, loss=deviance, max_depth=5, max_features=sqrt, min_samples_leaf=0.42727272727272736, min_samples_split=0.13636363636363638, n_estimators=10, subsample=0.9, score=0.6170428910766841, total=   0.2s\n",
      "[CV]  criterion=friedman_mse, learning_rate=0.2, loss=deviance, max_depth=5, max_features=sqrt, min_samples_leaf=0.42727272727272736, min_samples_split=0.17272727272727273, n_estimators=10, subsample=0.9, score=0.6340676790906989, total=   0.2s\n",
      "[CV] criterion=friedman_mse, learning_rate=0.2, loss=deviance, max_depth=5, max_features=sqrt, min_samples_leaf=0.42727272727272736, min_samples_split=0.24545454545454548, n_estimators=10, subsample=0.9 \n",
      "[CV]  criterion=friedman_mse, learning_rate=0.2, loss=deviance, max_depth=5, max_features=sqrt, min_samples_leaf=0.42727272727272736, min_samples_split=0.17272727272727273, n_estimators=10, subsample=0.9, score=0.6571699515301711, total=   0.1s\n",
      "[CV] criterion=friedman_mse, learning_rate=0.2, loss=deviance, max_depth=5, max_features=sqrt, min_samples_leaf=0.42727272727272736, min_samples_split=0.24545454545454548, n_estimators=10, subsample=0.9 \n",
      "[CV]  criterion=friedman_mse, learning_rate=0.2, loss=deviance, max_depth=5, max_features=sqrt, min_samples_leaf=0.42727272727272736, min_samples_split=0.17272727272727273, n_estimators=10, subsample=0.9, score=0.6267680145246319, total=   0.2s\n",
      "[CV] criterion=friedman_mse, learning_rate=0.2, loss=deviance, max_depth=5, max_features=sqrt, min_samples_leaf=0.42727272727272736, min_samples_split=0.24545454545454548, n_estimators=10, subsample=0.9 \n",
      "[CV]  criterion=friedman_mse, learning_rate=0.2, loss=deviance, max_depth=5, max_features=sqrt, min_samples_leaf=0.42727272727272736, min_samples_split=0.2090909090909091, n_estimators=10, subsample=0.9, score=0.6283063354567815, total=   0.1s\n",
      "[CV] criterion=friedman_mse, learning_rate=0.2, loss=deviance, max_depth=5, max_features=sqrt, min_samples_leaf=0.42727272727272736, min_samples_split=0.28181818181818186, n_estimators=10, subsample=0.9 \n",
      "[CV]  criterion=friedman_mse, learning_rate=0.2, loss=deviance, max_depth=5, max_features=sqrt, min_samples_leaf=0.42727272727272736, min_samples_split=0.2090909090909091, n_estimators=10, subsample=0.9, score=0.6397433407532456, total=   0.2s\n",
      "[CV] criterion=friedman_mse, learning_rate=0.2, loss=deviance, max_depth=5, max_features=sqrt, min_samples_leaf=0.42727272727272736, min_samples_split=0.28181818181818186, n_estimators=10, subsample=0.9 \n"
     ]
    },
    {
     "name": "stdout",
     "output_type": "stream",
     "text": [
      "[CV] criterion=friedman_mse, learning_rate=0.2, loss=deviance, max_depth=5, max_features=sqrt, min_samples_leaf=0.42727272727272736, min_samples_split=0.28181818181818186, n_estimators=10, subsample=0.9 \n",
      "[CV]  criterion=friedman_mse, learning_rate=0.2, loss=deviance, max_depth=5, max_features=sqrt, min_samples_leaf=0.42727272727272736, min_samples_split=0.2090909090909091, n_estimators=10, subsample=0.9, score=0.6524756503535509, total=   0.1s\n",
      "[CV]  criterion=friedman_mse, learning_rate=0.2, loss=deviance, max_depth=5, max_features=sqrt, min_samples_leaf=0.42727272727272736, min_samples_split=0.24545454545454548, n_estimators=10, subsample=0.9, score=0.6323839185045815, total=   0.1s\n",
      "[CV] criterion=friedman_mse, learning_rate=0.2, loss=deviance, max_depth=5, max_features=sqrt, min_samples_leaf=0.42727272727272736, min_samples_split=0.31818181818181823, n_estimators=10, subsample=0.9 \n",
      "[CV] criterion=friedman_mse, learning_rate=0.2, loss=deviance, max_depth=5, max_features=sqrt, min_samples_leaf=0.42727272727272736, min_samples_split=0.31818181818181823, n_estimators=10, subsample=0.9 \n",
      "[CV]  criterion=friedman_mse, learning_rate=0.2, loss=deviance, max_depth=5, max_features=sqrt, min_samples_leaf=0.42727272727272736, min_samples_split=0.24545454545454548, n_estimators=10, subsample=0.9, score=0.658066625716192, total=   0.2s\n",
      "[CV]  criterion=friedman_mse, learning_rate=0.2, loss=deviance, max_depth=5, max_features=sqrt, min_samples_leaf=0.42727272727272736, min_samples_split=0.24545454545454548, n_estimators=10, subsample=0.9, score=0.6397433407532456, total=   0.2s\n",
      "[CV]  criterion=friedman_mse, learning_rate=0.2, loss=deviance, max_depth=5, max_features=sqrt, min_samples_leaf=0.42727272727272736, min_samples_split=0.28181818181818186, n_estimators=10, subsample=0.9, score=0.6200729571001354, total=   0.1s\n",
      "[CV] criterion=friedman_mse, learning_rate=0.2, loss=deviance, max_depth=5, max_features=sqrt, min_samples_leaf=0.42727272727272736, min_samples_split=0.31818181818181823, n_estimators=10, subsample=0.9 \n",
      "[CV] criterion=friedman_mse, learning_rate=0.2, loss=deviance, max_depth=5, max_features=sqrt, min_samples_leaf=0.42727272727272736, min_samples_split=0.3545454545454546, n_estimators=10, subsample=0.9 \n",
      "[CV]  criterion=friedman_mse, learning_rate=0.2, loss=deviance, max_depth=5, max_features=sqrt, min_samples_leaf=0.42727272727272736, min_samples_split=0.28181818181818186, n_estimators=10, subsample=0.9, score=0.6411718130041506, total=   0.2s\n",
      "[CV]  criterion=friedman_mse, learning_rate=0.2, loss=deviance, max_depth=5, max_features=sqrt, min_samples_leaf=0.42727272727272736, min_samples_split=0.28181818181818186, n_estimators=10, subsample=0.9, score=0.6243680918137884, total=   0.1s\n",
      "[CV] criterion=friedman_mse, learning_rate=0.2, loss=deviance, max_depth=5, max_features=sqrt, min_samples_leaf=0.42727272727272736, min_samples_split=0.3545454545454546, n_estimators=10, subsample=0.9 \n",
      "[CV] criterion=friedman_mse, learning_rate=0.2, loss=deviance, max_depth=5, max_features=sqrt, min_samples_leaf=0.42727272727272736, min_samples_split=0.3545454545454546, n_estimators=10, subsample=0.9 \n",
      "[CV]  criterion=friedman_mse, learning_rate=0.2, loss=deviance, max_depth=5, max_features=sqrt, min_samples_leaf=0.42727272727272736, min_samples_split=0.31818181818181823, n_estimators=10, subsample=0.9, score=0.6365014864723546, total=   0.1s\n",
      "[CV] criterion=friedman_mse, learning_rate=0.2, loss=deviance, max_depth=5, max_features=sqrt, min_samples_leaf=0.42727272727272736, min_samples_split=0.390909090909091, n_estimators=10, subsample=0.9 \n",
      "[CV] criterion=friedman_mse, learning_rate=0.2, loss=deviance, max_depth=5, max_features=sqrt, min_samples_leaf=0.42727272727272736, min_samples_split=0.390909090909091, n_estimators=10, subsample=0.9 \n",
      "[CV]  criterion=friedman_mse, learning_rate=0.2, loss=deviance, max_depth=5, max_features=sqrt, min_samples_leaf=0.42727272727272736, min_samples_split=0.31818181818181823, n_estimators=10, subsample=0.9, score=0.642221087607399, total=   0.1s\n",
      "[CV] criterion=friedman_mse, learning_rate=0.2, loss=deviance, max_depth=5, max_features=sqrt, min_samples_leaf=0.42727272727272736, min_samples_split=0.390909090909091, n_estimators=10, subsample=0.9 \n",
      "[CV]  criterion=friedman_mse, learning_rate=0.2, loss=deviance, max_depth=5, max_features=sqrt, min_samples_leaf=0.42727272727272736, min_samples_split=0.31818181818181823, n_estimators=10, subsample=0.9, score=0.6463630859712853, total=   0.1s\n",
      "[CV]  criterion=friedman_mse, learning_rate=0.2, loss=deviance, max_depth=5, max_features=sqrt, min_samples_leaf=0.42727272727272736, min_samples_split=0.3545454545454546, n_estimators=10, subsample=0.9, score=0.623447069193245, total=   0.1s\n",
      "[CV] criterion=friedman_mse, learning_rate=0.2, loss=deviance, max_depth=5, max_features=sqrt, min_samples_leaf=0.42727272727272736, min_samples_split=0.42727272727272736, n_estimators=10, subsample=0.9 \n",
      "[CV] criterion=friedman_mse, learning_rate=0.2, loss=deviance, max_depth=5, max_features=sqrt, min_samples_leaf=0.42727272727272736, min_samples_split=0.42727272727272736, n_estimators=10, subsample=0.9 \n",
      "[CV]  criterion=friedman_mse, learning_rate=0.2, loss=deviance, max_depth=5, max_features=sqrt, min_samples_leaf=0.42727272727272736, min_samples_split=0.3545454545454546, n_estimators=10, subsample=0.9, score=0.642221087607399, total=   0.2s\n",
      "[CV]  criterion=friedman_mse, learning_rate=0.2, loss=deviance, max_depth=5, max_features=sqrt, min_samples_leaf=0.42727272727272736, min_samples_split=0.3545454545454546, n_estimators=10, subsample=0.9, score=0.6524756503535509, total=   0.1s\n",
      "[CV] criterion=friedman_mse, learning_rate=0.2, loss=deviance, max_depth=5, max_features=sqrt, min_samples_leaf=0.42727272727272736, min_samples_split=0.42727272727272736, n_estimators=10, subsample=0.9 \n",
      "[CV] criterion=friedman_mse, learning_rate=0.2, loss=deviance, max_depth=5, max_features=sqrt, min_samples_leaf=0.42727272727272736, min_samples_split=0.46363636363636374, n_estimators=10, subsample=0.9 \n",
      "[CV]  criterion=friedman_mse, learning_rate=0.2, loss=deviance, max_depth=5, max_features=sqrt, min_samples_leaf=0.42727272727272736, min_samples_split=0.390909090909091, n_estimators=10, subsample=0.9, score=0.635984318881055, total=   0.2s\n",
      "[CV]  criterion=friedman_mse, learning_rate=0.2, loss=deviance, max_depth=5, max_features=sqrt, min_samples_leaf=0.42727272727272736, min_samples_split=0.390909090909091, n_estimators=10, subsample=0.9, score=0.6324717974495773, total=   0.2s\n",
      "[CV] criterion=friedman_mse, learning_rate=0.2, loss=deviance, max_depth=5, max_features=sqrt, min_samples_leaf=0.42727272727272736, min_samples_split=0.46363636363636374, n_estimators=10, subsample=0.9 \n",
      "[CV] criterion=friedman_mse, learning_rate=0.2, loss=deviance, max_depth=5, max_features=sqrt, min_samples_leaf=0.42727272727272736, min_samples_split=0.46363636363636374, n_estimators=10, subsample=0.9 \n",
      "[CV]  criterion=friedman_mse, learning_rate=0.2, loss=deviance, max_depth=5, max_features=sqrt, min_samples_leaf=0.42727272727272736, min_samples_split=0.390909090909091, n_estimators=10, subsample=0.9, score=0.6553240912348334, total=   0.2s\n",
      "[CV] criterion=friedman_mse, learning_rate=0.2, loss=deviance, max_depth=5, max_features=sqrt, min_samples_leaf=0.42727272727272736, min_samples_split=0.5, n_estimators=10, subsample=0.9 \n",
      "[CV]  criterion=friedman_mse, learning_rate=0.2, loss=deviance, max_depth=5, max_features=sqrt, min_samples_leaf=0.42727272727272736, min_samples_split=0.42727272727272736, n_estimators=10, subsample=0.9, score=0.6282408656427598, total=   0.2s\n",
      "[CV]  criterion=friedman_mse, learning_rate=0.2, loss=deviance, max_depth=5, max_features=sqrt, min_samples_leaf=0.42727272727272736, min_samples_split=0.42727272727272736, n_estimators=10, subsample=0.9, score=0.6431455741087537, total=   0.2s\n",
      "[CV] criterion=friedman_mse, learning_rate=0.2, loss=deviance, max_depth=5, max_features=sqrt, min_samples_leaf=0.42727272727272736, min_samples_split=0.5, n_estimators=10, subsample=0.9 \n",
      "[CV]  criterion=friedman_mse, learning_rate=0.2, loss=deviance, max_depth=5, max_features=sqrt, min_samples_leaf=0.42727272727272736, min_samples_split=0.42727272727272736, n_estimators=10, subsample=0.9, score=0.6557812538611707, total=   0.1s\n"
     ]
    },
    {
     "name": "stdout",
     "output_type": "stream",
     "text": [
      "[CV] criterion=friedman_mse, learning_rate=0.2, loss=deviance, max_depth=5, max_features=sqrt, min_samples_leaf=0.42727272727272736, min_samples_split=0.5, n_estimators=10, subsample=0.9 \n",
      "[CV] criterion=friedman_mse, learning_rate=0.2, loss=deviance, max_depth=5, max_features=sqrt, min_samples_leaf=0.46363636363636374, min_samples_split=0.1, n_estimators=10, subsample=0.9 \n",
      "[CV]  criterion=friedman_mse, learning_rate=0.2, loss=deviance, max_depth=5, max_features=sqrt, min_samples_leaf=0.42727272727272736, min_samples_split=0.46363636363636374, n_estimators=10, subsample=0.9, score=0.6282408656427598, total=   0.2s\n",
      "[CV] criterion=friedman_mse, learning_rate=0.2, loss=deviance, max_depth=5, max_features=sqrt, min_samples_leaf=0.46363636363636374, min_samples_split=0.1, n_estimators=10, subsample=0.9 \n",
      "[CV] criterion=friedman_mse, learning_rate=0.2, loss=deviance, max_depth=5, max_features=sqrt, min_samples_leaf=0.46363636363636374, min_samples_split=0.1, n_estimators=10, subsample=0.9 \n",
      "[CV]  criterion=friedman_mse, learning_rate=0.2, loss=deviance, max_depth=5, max_features=sqrt, min_samples_leaf=0.42727272727272736, min_samples_split=0.46363636363636374, n_estimators=10, subsample=0.9, score=0.6521235115738044, total=   0.1s\n",
      "[CV]  criterion=friedman_mse, learning_rate=0.2, loss=deviance, max_depth=5, max_features=sqrt, min_samples_leaf=0.42727272727272736, min_samples_split=0.46363636363636374, n_estimators=10, subsample=0.9, score=0.642221087607399, total=   0.2s\n",
      "[CV] criterion=friedman_mse, learning_rate=0.2, loss=deviance, max_depth=5, max_features=sqrt, min_samples_leaf=0.46363636363636374, min_samples_split=0.13636363636363638, n_estimators=10, subsample=0.9 \n",
      "[CV] criterion=friedman_mse, learning_rate=0.2, loss=deviance, max_depth=5, max_features=sqrt, min_samples_leaf=0.46363636363636374, min_samples_split=0.13636363636363638, n_estimators=10, subsample=0.9 \n",
      "[CV]  criterion=friedman_mse, learning_rate=0.2, loss=deviance, max_depth=5, max_features=sqrt, min_samples_leaf=0.42727272727272736, min_samples_split=0.5, n_estimators=10, subsample=0.9, score=0.6402161294773224, total=   0.1s\n",
      "[CV]  criterion=friedman_mse, learning_rate=0.2, loss=deviance, max_depth=5, max_features=sqrt, min_samples_leaf=0.42727272727272736, min_samples_split=0.5, n_estimators=10, subsample=0.9, score=0.6492079966392369, total=   0.1s\n",
      "[CV]  criterion=friedman_mse, learning_rate=0.2, loss=deviance, max_depth=5, max_features=sqrt, min_samples_leaf=0.42727272727272736, min_samples_split=0.5, n_estimators=10, subsample=0.9, score=0.6208212463167738, total=   0.2s\n",
      "[CV]  criterion=friedman_mse, learning_rate=0.2, loss=deviance, max_depth=5, max_features=sqrt, min_samples_leaf=0.46363636363636374, min_samples_split=0.1, n_estimators=10, subsample=0.9, score=0.5, total=   0.1s\n",
      "[CV]  criterion=friedman_mse, learning_rate=0.2, loss=deviance, max_depth=5, max_features=sqrt, min_samples_leaf=0.46363636363636374, min_samples_split=0.1, n_estimators=10, subsample=0.9, score=0.5, total=   0.1s\n",
      "[CV] criterion=friedman_mse, learning_rate=0.2, loss=deviance, max_depth=5, max_features=sqrt, min_samples_leaf=0.46363636363636374, min_samples_split=0.13636363636363638, n_estimators=10, subsample=0.9 \n",
      "[CV]  criterion=friedman_mse, learning_rate=0.2, loss=deviance, max_depth=5, max_features=sqrt, min_samples_leaf=0.46363636363636374, min_samples_split=0.1, n_estimators=10, subsample=0.9, score=0.5, total=   0.1s\n",
      "[CV] criterion=friedman_mse, learning_rate=0.2, loss=deviance, max_depth=5, max_features=sqrt, min_samples_leaf=0.46363636363636374, min_samples_split=0.17272727272727273, n_estimators=10, subsample=0.9 \n",
      "[CV] criterion=friedman_mse, learning_rate=0.2, loss=deviance, max_depth=5, max_features=sqrt, min_samples_leaf=0.46363636363636374, min_samples_split=0.17272727272727273, n_estimators=10, subsample=0.9 \n",
      "[CV] criterion=friedman_mse, learning_rate=0.2, loss=deviance, max_depth=5, max_features=sqrt, min_samples_leaf=0.46363636363636374, min_samples_split=0.17272727272727273, n_estimators=10, subsample=0.9 \n",
      "[CV]  criterion=friedman_mse, learning_rate=0.2, loss=deviance, max_depth=5, max_features=sqrt, min_samples_leaf=0.46363636363636374, min_samples_split=0.13636363636363638, n_estimators=10, subsample=0.9, score=0.5, total=   0.1s\n",
      "[CV] criterion=friedman_mse, learning_rate=0.2, loss=deviance, max_depth=5, max_features=sqrt, min_samples_leaf=0.46363636363636374, min_samples_split=0.2090909090909091, n_estimators=10, subsample=0.9 \n",
      "[CV]  criterion=friedman_mse, learning_rate=0.2, loss=deviance, max_depth=5, max_features=sqrt, min_samples_leaf=0.46363636363636374, min_samples_split=0.13636363636363638, n_estimators=10, subsample=0.9, score=0.5, total=   0.1s\n",
      "[CV] criterion=friedman_mse, learning_rate=0.2, loss=deviance, max_depth=5, max_features=sqrt, min_samples_leaf=0.46363636363636374, min_samples_split=0.2090909090909091, n_estimators=10, subsample=0.9 \n",
      "[CV]  criterion=friedman_mse, learning_rate=0.2, loss=deviance, max_depth=5, max_features=sqrt, min_samples_leaf=0.46363636363636374, min_samples_split=0.13636363636363638, n_estimators=10, subsample=0.9, score=0.5, total=   0.1s\n",
      "[CV]  criterion=friedman_mse, learning_rate=0.2, loss=deviance, max_depth=5, max_features=sqrt, min_samples_leaf=0.46363636363636374, min_samples_split=0.17272727272727273, n_estimators=10, subsample=0.9, score=0.5, total=   0.1s\n",
      "[CV] criterion=friedman_mse, learning_rate=0.2, loss=deviance, max_depth=5, max_features=sqrt, min_samples_leaf=0.46363636363636374, min_samples_split=0.2090909090909091, n_estimators=10, subsample=0.9 \n",
      "[CV] criterion=friedman_mse, learning_rate=0.2, loss=deviance, max_depth=5, max_features=sqrt, min_samples_leaf=0.46363636363636374, min_samples_split=0.24545454545454548, n_estimators=10, subsample=0.9 \n",
      "[CV]  criterion=friedman_mse, learning_rate=0.2, loss=deviance, max_depth=5, max_features=sqrt, min_samples_leaf=0.46363636363636374, min_samples_split=0.17272727272727273, n_estimators=10, subsample=0.9, score=0.5, total=   0.1s\n",
      "[CV]  criterion=friedman_mse, learning_rate=0.2, loss=deviance, max_depth=5, max_features=sqrt, min_samples_leaf=0.46363636363636374, min_samples_split=0.17272727272727273, n_estimators=10, subsample=0.9, score=0.5, total=   0.1s\n",
      "[CV]  criterion=friedman_mse, learning_rate=0.2, loss=deviance, max_depth=5, max_features=sqrt, min_samples_leaf=0.46363636363636374, min_samples_split=0.2090909090909091, n_estimators=10, subsample=0.9, score=0.5, total=   0.1s\n",
      "[CV] criterion=friedman_mse, learning_rate=0.2, loss=deviance, max_depth=5, max_features=sqrt, min_samples_leaf=0.46363636363636374, min_samples_split=0.24545454545454548, n_estimators=10, subsample=0.9 \n",
      "[CV] criterion=friedman_mse, learning_rate=0.2, loss=deviance, max_depth=5, max_features=sqrt, min_samples_leaf=0.46363636363636374, min_samples_split=0.24545454545454548, n_estimators=10, subsample=0.9 \n",
      "[CV]  criterion=friedman_mse, learning_rate=0.2, loss=deviance, max_depth=5, max_features=sqrt, min_samples_leaf=0.46363636363636374, min_samples_split=0.2090909090909091, n_estimators=10, subsample=0.9, score=0.5, total=   0.1s\n",
      "[CV] criterion=friedman_mse, learning_rate=0.2, loss=deviance, max_depth=5, max_features=sqrt, min_samples_leaf=0.46363636363636374, min_samples_split=0.28181818181818186, n_estimators=10, subsample=0.9 \n",
      "[CV] criterion=friedman_mse, learning_rate=0.2, loss=deviance, max_depth=5, max_features=sqrt, min_samples_leaf=0.46363636363636374, min_samples_split=0.28181818181818186, n_estimators=10, subsample=0.9 \n",
      "[CV]  criterion=friedman_mse, learning_rate=0.2, loss=deviance, max_depth=5, max_features=sqrt, min_samples_leaf=0.46363636363636374, min_samples_split=0.2090909090909091, n_estimators=10, subsample=0.9, score=0.5, total=   0.1s\n",
      "[CV] criterion=friedman_mse, learning_rate=0.2, loss=deviance, max_depth=5, max_features=sqrt, min_samples_leaf=0.46363636363636374, min_samples_split=0.28181818181818186, n_estimators=10, subsample=0.9 \n",
      "[CV]  criterion=friedman_mse, learning_rate=0.2, loss=deviance, max_depth=5, max_features=sqrt, min_samples_leaf=0.46363636363636374, min_samples_split=0.24545454545454548, n_estimators=10, subsample=0.9, score=0.5, total=   0.1s\n",
      "[CV]  criterion=friedman_mse, learning_rate=0.2, loss=deviance, max_depth=5, max_features=sqrt, min_samples_leaf=0.46363636363636374, min_samples_split=0.24545454545454548, n_estimators=10, subsample=0.9, score=0.5, total=   0.1s\n"
     ]
    },
    {
     "name": "stdout",
     "output_type": "stream",
     "text": [
      "[CV] criterion=friedman_mse, learning_rate=0.2, loss=deviance, max_depth=5, max_features=sqrt, min_samples_leaf=0.46363636363636374, min_samples_split=0.31818181818181823, n_estimators=10, subsample=0.9 \n",
      "[CV]  criterion=friedman_mse, learning_rate=0.2, loss=deviance, max_depth=5, max_features=sqrt, min_samples_leaf=0.46363636363636374, min_samples_split=0.24545454545454548, n_estimators=10, subsample=0.9, score=0.5, total=   0.1s\n",
      "[CV] criterion=friedman_mse, learning_rate=0.2, loss=deviance, max_depth=5, max_features=sqrt, min_samples_leaf=0.46363636363636374, min_samples_split=0.31818181818181823, n_estimators=10, subsample=0.9 \n",
      "[CV]  criterion=friedman_mse, learning_rate=0.2, loss=deviance, max_depth=5, max_features=sqrt, min_samples_leaf=0.46363636363636374, min_samples_split=0.28181818181818186, n_estimators=10, subsample=0.9, score=0.5, total=   0.1s\n",
      "[CV] criterion=friedman_mse, learning_rate=0.2, loss=deviance, max_depth=5, max_features=sqrt, min_samples_leaf=0.46363636363636374, min_samples_split=0.31818181818181823, n_estimators=10, subsample=0.9 \n",
      "[CV]  criterion=friedman_mse, learning_rate=0.2, loss=deviance, max_depth=5, max_features=sqrt, min_samples_leaf=0.46363636363636374, min_samples_split=0.28181818181818186, n_estimators=10, subsample=0.9, score=0.5, total=   0.1s\n",
      "[CV]  criterion=friedman_mse, learning_rate=0.2, loss=deviance, max_depth=5, max_features=sqrt, min_samples_leaf=0.46363636363636374, min_samples_split=0.28181818181818186, n_estimators=10, subsample=0.9, score=0.5, total=   0.1s\n",
      "[CV] criterion=friedman_mse, learning_rate=0.2, loss=deviance, max_depth=5, max_features=sqrt, min_samples_leaf=0.46363636363636374, min_samples_split=0.3545454545454546, n_estimators=10, subsample=0.9 \n",
      "[CV] criterion=friedman_mse, learning_rate=0.2, loss=deviance, max_depth=5, max_features=sqrt, min_samples_leaf=0.46363636363636374, min_samples_split=0.3545454545454546, n_estimators=10, subsample=0.9 \n",
      "[CV]  criterion=friedman_mse, learning_rate=0.2, loss=deviance, max_depth=5, max_features=sqrt, min_samples_leaf=0.46363636363636374, min_samples_split=0.31818181818181823, n_estimators=10, subsample=0.9, score=0.5, total=   0.1s\n",
      "[CV] criterion=friedman_mse, learning_rate=0.2, loss=deviance, max_depth=5, max_features=sqrt, min_samples_leaf=0.46363636363636374, min_samples_split=0.3545454545454546, n_estimators=10, subsample=0.9 \n",
      "[CV]  criterion=friedman_mse, learning_rate=0.2, loss=deviance, max_depth=5, max_features=sqrt, min_samples_leaf=0.46363636363636374, min_samples_split=0.31818181818181823, n_estimators=10, subsample=0.9, score=0.5, total=   0.1s\n",
      "[CV] criterion=friedman_mse, learning_rate=0.2, loss=deviance, max_depth=5, max_features=sqrt, min_samples_leaf=0.46363636363636374, min_samples_split=0.390909090909091, n_estimators=10, subsample=0.9 \n",
      "[CV] criterion=friedman_mse, learning_rate=0.2, loss=deviance, max_depth=5, max_features=sqrt, min_samples_leaf=0.46363636363636374, min_samples_split=0.390909090909091, n_estimators=10, subsample=0.9 \n",
      "[CV]  criterion=friedman_mse, learning_rate=0.2, loss=deviance, max_depth=5, max_features=sqrt, min_samples_leaf=0.46363636363636374, min_samples_split=0.31818181818181823, n_estimators=10, subsample=0.9, score=0.5, total=   0.1s\n",
      "[CV]  criterion=friedman_mse, learning_rate=0.2, loss=deviance, max_depth=5, max_features=sqrt, min_samples_leaf=0.46363636363636374, min_samples_split=0.3545454545454546, n_estimators=10, subsample=0.9, score=0.5, total=   0.1s\n",
      "[CV] criterion=friedman_mse, learning_rate=0.2, loss=deviance, max_depth=5, max_features=sqrt, min_samples_leaf=0.46363636363636374, min_samples_split=0.390909090909091, n_estimators=10, subsample=0.9 \n",
      "[CV] criterion=friedman_mse, learning_rate=0.2, loss=deviance, max_depth=5, max_features=sqrt, min_samples_leaf=0.46363636363636374, min_samples_split=0.42727272727272736, n_estimators=10, subsample=0.9 \n",
      "[CV]  criterion=friedman_mse, learning_rate=0.2, loss=deviance, max_depth=5, max_features=sqrt, min_samples_leaf=0.46363636363636374, min_samples_split=0.3545454545454546, n_estimators=10, subsample=0.9, score=0.5, total=   0.1s\n",
      "[CV] criterion=friedman_mse, learning_rate=0.2, loss=deviance, max_depth=5, max_features=sqrt, min_samples_leaf=0.46363636363636374, min_samples_split=0.42727272727272736, n_estimators=10, subsample=0.9 \n",
      "[CV]  criterion=friedman_mse, learning_rate=0.2, loss=deviance, max_depth=5, max_features=sqrt, min_samples_leaf=0.46363636363636374, min_samples_split=0.3545454545454546, n_estimators=10, subsample=0.9, score=0.5, total=   0.1s\n",
      "[CV] criterion=friedman_mse, learning_rate=0.2, loss=deviance, max_depth=5, max_features=sqrt, min_samples_leaf=0.46363636363636374, min_samples_split=0.42727272727272736, n_estimators=10, subsample=0.9 \n",
      "[CV]  criterion=friedman_mse, learning_rate=0.2, loss=deviance, max_depth=5, max_features=sqrt, min_samples_leaf=0.46363636363636374, min_samples_split=0.390909090909091, n_estimators=10, subsample=0.9, score=0.5, total=   0.1s\n",
      "[CV]  criterion=friedman_mse, learning_rate=0.2, loss=deviance, max_depth=5, max_features=sqrt, min_samples_leaf=0.46363636363636374, min_samples_split=0.390909090909091, n_estimators=10, subsample=0.9, score=0.5, total=   0.1s\n",
      "[CV] criterion=friedman_mse, learning_rate=0.2, loss=deviance, max_depth=5, max_features=sqrt, min_samples_leaf=0.46363636363636374, min_samples_split=0.46363636363636374, n_estimators=10, subsample=0.9 \n",
      "[CV]  criterion=friedman_mse, learning_rate=0.2, loss=deviance, max_depth=5, max_features=sqrt, min_samples_leaf=0.46363636363636374, min_samples_split=0.390909090909091, n_estimators=10, subsample=0.9, score=0.5, total=   0.1s\n",
      "[CV] criterion=friedman_mse, learning_rate=0.2, loss=deviance, max_depth=5, max_features=sqrt, min_samples_leaf=0.46363636363636374, min_samples_split=0.46363636363636374, n_estimators=10, subsample=0.9 \n",
      "[CV] criterion=friedman_mse, learning_rate=0.2, loss=deviance, max_depth=5, max_features=sqrt, min_samples_leaf=0.46363636363636374, min_samples_split=0.46363636363636374, n_estimators=10, subsample=0.9 \n",
      "[CV]  criterion=friedman_mse, learning_rate=0.2, loss=deviance, max_depth=5, max_features=sqrt, min_samples_leaf=0.46363636363636374, min_samples_split=0.42727272727272736, n_estimators=10, subsample=0.9, score=0.5, total=   0.1s\n",
      "[CV]  criterion=friedman_mse, learning_rate=0.2, loss=deviance, max_depth=5, max_features=sqrt, min_samples_leaf=0.46363636363636374, min_samples_split=0.42727272727272736, n_estimators=10, subsample=0.9, score=0.5, total=   0.1s\n",
      "[CV] criterion=friedman_mse, learning_rate=0.2, loss=deviance, max_depth=5, max_features=sqrt, min_samples_leaf=0.46363636363636374, min_samples_split=0.5, n_estimators=10, subsample=0.9 \n",
      "[CV] criterion=friedman_mse, learning_rate=0.2, loss=deviance, max_depth=5, max_features=sqrt, min_samples_leaf=0.46363636363636374, min_samples_split=0.5, n_estimators=10, subsample=0.9 \n",
      "[CV]  criterion=friedman_mse, learning_rate=0.2, loss=deviance, max_depth=5, max_features=sqrt, min_samples_leaf=0.46363636363636374, min_samples_split=0.46363636363636374, n_estimators=10, subsample=0.9, score=0.5, total=   0.1s\n",
      "[CV] criterion=friedman_mse, learning_rate=0.2, loss=deviance, max_depth=5, max_features=sqrt, min_samples_leaf=0.46363636363636374, min_samples_split=0.5, n_estimators=10, subsample=0.9 \n",
      "[CV]  criterion=friedman_mse, learning_rate=0.2, loss=deviance, max_depth=5, max_features=sqrt, min_samples_leaf=0.46363636363636374, min_samples_split=0.42727272727272736, n_estimators=10, subsample=0.9, score=0.5, total=   0.1s\n",
      "[CV] criterion=friedman_mse, learning_rate=0.2, loss=deviance, max_depth=5, max_features=sqrt, min_samples_leaf=0.5, min_samples_split=0.1, n_estimators=10, subsample=0.9 \n",
      "[CV] criterion=friedman_mse, learning_rate=0.2, loss=deviance, max_depth=5, max_features=sqrt, min_samples_leaf=0.5, min_samples_split=0.1, n_estimators=10, subsample=0.9 \n",
      "[CV]  criterion=friedman_mse, learning_rate=0.2, loss=deviance, max_depth=5, max_features=sqrt, min_samples_leaf=0.46363636363636374, min_samples_split=0.46363636363636374, n_estimators=10, subsample=0.9, score=0.5, total=   0.1s\n",
      "[CV]  criterion=friedman_mse, learning_rate=0.2, loss=deviance, max_depth=5, max_features=sqrt, min_samples_leaf=0.46363636363636374, min_samples_split=0.46363636363636374, n_estimators=10, subsample=0.9, score=0.5, total=   0.1s\n"
     ]
    },
    {
     "name": "stdout",
     "output_type": "stream",
     "text": [
      "[CV] criterion=friedman_mse, learning_rate=0.2, loss=deviance, max_depth=5, max_features=sqrt, min_samples_leaf=0.5, min_samples_split=0.1, n_estimators=10, subsample=0.9 \n",
      "[CV]  criterion=friedman_mse, learning_rate=0.2, loss=deviance, max_depth=5, max_features=sqrt, min_samples_leaf=0.46363636363636374, min_samples_split=0.5, n_estimators=10, subsample=0.9, score=0.5, total=   0.1s\n",
      "[CV] criterion=friedman_mse, learning_rate=0.2, loss=deviance, max_depth=5, max_features=sqrt, min_samples_leaf=0.5, min_samples_split=0.13636363636363638, n_estimators=10, subsample=0.9 \n",
      "[CV]  criterion=friedman_mse, learning_rate=0.2, loss=deviance, max_depth=5, max_features=sqrt, min_samples_leaf=0.46363636363636374, min_samples_split=0.5, n_estimators=10, subsample=0.9, score=0.5, total=   0.1s\n",
      "[CV]  criterion=friedman_mse, learning_rate=0.2, loss=deviance, max_depth=5, max_features=sqrt, min_samples_leaf=0.46363636363636374, min_samples_split=0.5, n_estimators=10, subsample=0.9, score=0.5, total=   0.1s\n",
      "[CV] criterion=friedman_mse, learning_rate=0.2, loss=deviance, max_depth=5, max_features=sqrt, min_samples_leaf=0.5, min_samples_split=0.13636363636363638, n_estimators=10, subsample=0.9 \n",
      "[CV]  criterion=friedman_mse, learning_rate=0.2, loss=deviance, max_depth=5, max_features=sqrt, min_samples_leaf=0.5, min_samples_split=0.1, n_estimators=10, subsample=0.9, score=0.5, total=   0.1s\n",
      "[CV] criterion=friedman_mse, learning_rate=0.2, loss=deviance, max_depth=5, max_features=sqrt, min_samples_leaf=0.5, min_samples_split=0.13636363636363638, n_estimators=10, subsample=0.9 \n",
      "[CV] criterion=friedman_mse, learning_rate=0.2, loss=deviance, max_depth=5, max_features=sqrt, min_samples_leaf=0.5, min_samples_split=0.17272727272727273, n_estimators=10, subsample=0.9 \n",
      "[CV]  criterion=friedman_mse, learning_rate=0.2, loss=deviance, max_depth=5, max_features=sqrt, min_samples_leaf=0.5, min_samples_split=0.1, n_estimators=10, subsample=0.9, score=0.5, total=   0.1s\n",
      "[CV] criterion=friedman_mse, learning_rate=0.2, loss=deviance, max_depth=5, max_features=sqrt, min_samples_leaf=0.5, min_samples_split=0.17272727272727273, n_estimators=10, subsample=0.9 \n",
      "[CV]  criterion=friedman_mse, learning_rate=0.2, loss=deviance, max_depth=5, max_features=sqrt, min_samples_leaf=0.5, min_samples_split=0.1, n_estimators=10, subsample=0.9, score=0.5, total=   0.1s\n",
      "[CV] criterion=friedman_mse, learning_rate=0.2, loss=deviance, max_depth=5, max_features=sqrt, min_samples_leaf=0.5, min_samples_split=0.17272727272727273, n_estimators=10, subsample=0.9 \n",
      "[CV]  criterion=friedman_mse, learning_rate=0.2, loss=deviance, max_depth=5, max_features=sqrt, min_samples_leaf=0.5, min_samples_split=0.13636363636363638, n_estimators=10, subsample=0.9, score=0.5, total=   0.1s\n",
      "[CV] criterion=friedman_mse, learning_rate=0.2, loss=deviance, max_depth=5, max_features=sqrt, min_samples_leaf=0.5, min_samples_split=0.2090909090909091, n_estimators=10, subsample=0.9 \n",
      "[CV]  criterion=friedman_mse, learning_rate=0.2, loss=deviance, max_depth=5, max_features=sqrt, min_samples_leaf=0.5, min_samples_split=0.13636363636363638, n_estimators=10, subsample=0.9, score=0.5, total=   0.1s\n",
      "[CV] criterion=friedman_mse, learning_rate=0.2, loss=deviance, max_depth=5, max_features=sqrt, min_samples_leaf=0.5, min_samples_split=0.2090909090909091, n_estimators=10, subsample=0.9 \n",
      "[CV]  criterion=friedman_mse, learning_rate=0.2, loss=deviance, max_depth=5, max_features=sqrt, min_samples_leaf=0.5, min_samples_split=0.13636363636363638, n_estimators=10, subsample=0.9, score=0.5, total=   0.1s\n",
      "[CV] criterion=friedman_mse, learning_rate=0.2, loss=deviance, max_depth=5, max_features=sqrt, min_samples_leaf=0.5, min_samples_split=0.2090909090909091, n_estimators=10, subsample=0.9 \n",
      "[CV] criterion=friedman_mse, learning_rate=0.2, loss=deviance, max_depth=5, max_features=sqrt, min_samples_leaf=0.5, min_samples_split=0.24545454545454548, n_estimators=10, subsample=0.9 \n",
      "[CV]  criterion=friedman_mse, learning_rate=0.2, loss=deviance, max_depth=5, max_features=sqrt, min_samples_leaf=0.5, min_samples_split=0.17272727272727273, n_estimators=10, subsample=0.9, score=0.5, total=   0.1s\n",
      "[CV]  criterion=friedman_mse, learning_rate=0.2, loss=deviance, max_depth=5, max_features=sqrt, min_samples_leaf=0.5, min_samples_split=0.17272727272727273, n_estimators=10, subsample=0.9, score=0.5, total=   0.1s\n",
      "[CV]  criterion=friedman_mse, learning_rate=0.2, loss=deviance, max_depth=5, max_features=sqrt, min_samples_leaf=0.5, min_samples_split=0.17272727272727273, n_estimators=10, subsample=0.9, score=0.5, total=   0.1s\n",
      "[CV] criterion=friedman_mse, learning_rate=0.2, loss=deviance, max_depth=5, max_features=sqrt, min_samples_leaf=0.5, min_samples_split=0.24545454545454548, n_estimators=10, subsample=0.9 \n",
      "[CV] criterion=friedman_mse, learning_rate=0.2, loss=deviance, max_depth=5, max_features=sqrt, min_samples_leaf=0.5, min_samples_split=0.24545454545454548, n_estimators=10, subsample=0.9 \n",
      "[CV]  criterion=friedman_mse, learning_rate=0.2, loss=deviance, max_depth=5, max_features=sqrt, min_samples_leaf=0.5, min_samples_split=0.2090909090909091, n_estimators=10, subsample=0.9, score=0.5, total=   0.1s\n",
      "[CV]  criterion=friedman_mse, learning_rate=0.2, loss=deviance, max_depth=5, max_features=sqrt, min_samples_leaf=0.5, min_samples_split=0.2090909090909091, n_estimators=10, subsample=0.9, score=0.5, total=   0.1s\n",
      "[CV] criterion=friedman_mse, learning_rate=0.2, loss=deviance, max_depth=5, max_features=sqrt, min_samples_leaf=0.5, min_samples_split=0.28181818181818186, n_estimators=10, subsample=0.9 \n",
      "[CV]  criterion=friedman_mse, learning_rate=0.2, loss=deviance, max_depth=5, max_features=sqrt, min_samples_leaf=0.5, min_samples_split=0.2090909090909091, n_estimators=10, subsample=0.9, score=0.5, total=   0.1s\n",
      "[CV] criterion=friedman_mse, learning_rate=0.2, loss=deviance, max_depth=5, max_features=sqrt, min_samples_leaf=0.5, min_samples_split=0.28181818181818186, n_estimators=10, subsample=0.9 \n",
      "[CV]  criterion=friedman_mse, learning_rate=0.2, loss=deviance, max_depth=5, max_features=sqrt, min_samples_leaf=0.5, min_samples_split=0.24545454545454548, n_estimators=10, subsample=0.9, score=0.5, total=   0.1s\n",
      "[CV] criterion=friedman_mse, learning_rate=0.2, loss=deviance, max_depth=5, max_features=sqrt, min_samples_leaf=0.5, min_samples_split=0.28181818181818186, n_estimators=10, subsample=0.9 \n",
      "[CV]  criterion=friedman_mse, learning_rate=0.2, loss=deviance, max_depth=5, max_features=sqrt, min_samples_leaf=0.5, min_samples_split=0.24545454545454548, n_estimators=10, subsample=0.9, score=0.5, total=   0.1s\n",
      "[CV] criterion=friedman_mse, learning_rate=0.2, loss=deviance, max_depth=5, max_features=sqrt, min_samples_leaf=0.5, min_samples_split=0.31818181818181823, n_estimators=10, subsample=0.9 \n",
      "[CV]  criterion=friedman_mse, learning_rate=0.2, loss=deviance, max_depth=5, max_features=sqrt, min_samples_leaf=0.5, min_samples_split=0.24545454545454548, n_estimators=10, subsample=0.9, score=0.5, total=   0.1s\n",
      "[CV] criterion=friedman_mse, learning_rate=0.2, loss=deviance, max_depth=5, max_features=sqrt, min_samples_leaf=0.5, min_samples_split=0.31818181818181823, n_estimators=10, subsample=0.9 \n",
      "[CV]  criterion=friedman_mse, learning_rate=0.2, loss=deviance, max_depth=5, max_features=sqrt, min_samples_leaf=0.5, min_samples_split=0.28181818181818186, n_estimators=10, subsample=0.9, score=0.5, total=   0.1s\n",
      "[CV] criterion=friedman_mse, learning_rate=0.2, loss=deviance, max_depth=5, max_features=sqrt, min_samples_leaf=0.5, min_samples_split=0.31818181818181823, n_estimators=10, subsample=0.9 \n",
      "[CV]  criterion=friedman_mse, learning_rate=0.2, loss=deviance, max_depth=5, max_features=sqrt, min_samples_leaf=0.5, min_samples_split=0.28181818181818186, n_estimators=10, subsample=0.9, score=0.5, total=   0.1s\n",
      "[CV] criterion=friedman_mse, learning_rate=0.2, loss=deviance, max_depth=5, max_features=sqrt, min_samples_leaf=0.5, min_samples_split=0.3545454545454546, n_estimators=10, subsample=0.9 \n",
      "[CV] criterion=friedman_mse, learning_rate=0.2, loss=deviance, max_depth=5, max_features=sqrt, min_samples_leaf=0.5, min_samples_split=0.3545454545454546, n_estimators=10, subsample=0.9 \n",
      "[CV]  criterion=friedman_mse, learning_rate=0.2, loss=deviance, max_depth=5, max_features=sqrt, min_samples_leaf=0.5, min_samples_split=0.28181818181818186, n_estimators=10, subsample=0.9, score=0.5, total=   0.1s\n"
     ]
    },
    {
     "name": "stdout",
     "output_type": "stream",
     "text": [
      "[CV] criterion=friedman_mse, learning_rate=0.2, loss=deviance, max_depth=5, max_features=sqrt, min_samples_leaf=0.5, min_samples_split=0.3545454545454546, n_estimators=10, subsample=0.9 \n",
      "[CV]  criterion=friedman_mse, learning_rate=0.2, loss=deviance, max_depth=5, max_features=sqrt, min_samples_leaf=0.5, min_samples_split=0.31818181818181823, n_estimators=10, subsample=0.9, score=0.5, total=   0.1s\n",
      "[CV] criterion=friedman_mse, learning_rate=0.2, loss=deviance, max_depth=5, max_features=sqrt, min_samples_leaf=0.5, min_samples_split=0.390909090909091, n_estimators=10, subsample=0.9 \n",
      "[CV]  criterion=friedman_mse, learning_rate=0.2, loss=deviance, max_depth=5, max_features=sqrt, min_samples_leaf=0.5, min_samples_split=0.31818181818181823, n_estimators=10, subsample=0.9, score=0.5, total=   0.1s\n",
      "[CV] criterion=friedman_mse, learning_rate=0.2, loss=deviance, max_depth=5, max_features=sqrt, min_samples_leaf=0.5, min_samples_split=0.390909090909091, n_estimators=10, subsample=0.9 \n",
      "[CV]  criterion=friedman_mse, learning_rate=0.2, loss=deviance, max_depth=5, max_features=sqrt, min_samples_leaf=0.5, min_samples_split=0.31818181818181823, n_estimators=10, subsample=0.9, score=0.5, total=   0.1s\n",
      "[CV]  criterion=friedman_mse, learning_rate=0.2, loss=deviance, max_depth=5, max_features=sqrt, min_samples_leaf=0.5, min_samples_split=0.3545454545454546, n_estimators=10, subsample=0.9, score=0.5, total=   0.1s\n",
      "[CV] criterion=friedman_mse, learning_rate=0.2, loss=deviance, max_depth=5, max_features=sqrt, min_samples_leaf=0.5, min_samples_split=0.390909090909091, n_estimators=10, subsample=0.9 \n",
      "[CV]  criterion=friedman_mse, learning_rate=0.2, loss=deviance, max_depth=5, max_features=sqrt, min_samples_leaf=0.5, min_samples_split=0.3545454545454546, n_estimators=10, subsample=0.9, score=0.5, total=   0.1s\n",
      "[CV] criterion=friedman_mse, learning_rate=0.2, loss=deviance, max_depth=5, max_features=sqrt, min_samples_leaf=0.5, min_samples_split=0.42727272727272736, n_estimators=10, subsample=0.9 \n",
      "[CV]  criterion=friedman_mse, learning_rate=0.2, loss=deviance, max_depth=5, max_features=sqrt, min_samples_leaf=0.5, min_samples_split=0.3545454545454546, n_estimators=10, subsample=0.9, score=0.5, total=   0.1s\n",
      "[CV] criterion=friedman_mse, learning_rate=0.2, loss=deviance, max_depth=5, max_features=sqrt, min_samples_leaf=0.5, min_samples_split=0.42727272727272736, n_estimators=10, subsample=0.9 \n",
      "[CV] criterion=friedman_mse, learning_rate=0.2, loss=deviance, max_depth=5, max_features=sqrt, min_samples_leaf=0.5, min_samples_split=0.42727272727272736, n_estimators=10, subsample=0.9 \n",
      "[CV]  criterion=friedman_mse, learning_rate=0.2, loss=deviance, max_depth=5, max_features=sqrt, min_samples_leaf=0.5, min_samples_split=0.390909090909091, n_estimators=10, subsample=0.9, score=0.5, total=   0.1s\n",
      "[CV] criterion=friedman_mse, learning_rate=0.2, loss=deviance, max_depth=5, max_features=sqrt, min_samples_leaf=0.5, min_samples_split=0.46363636363636374, n_estimators=10, subsample=0.9 \n",
      "[CV]  criterion=friedman_mse, learning_rate=0.2, loss=deviance, max_depth=5, max_features=sqrt, min_samples_leaf=0.5, min_samples_split=0.390909090909091, n_estimators=10, subsample=0.9, score=0.5, total=   0.1s\n",
      "[CV] criterion=friedman_mse, learning_rate=0.2, loss=deviance, max_depth=5, max_features=sqrt, min_samples_leaf=0.5, min_samples_split=0.46363636363636374, n_estimators=10, subsample=0.9 \n",
      "[CV]  criterion=friedman_mse, learning_rate=0.2, loss=deviance, max_depth=5, max_features=sqrt, min_samples_leaf=0.5, min_samples_split=0.390909090909091, n_estimators=10, subsample=0.9, score=0.5, total=   0.1s\n",
      "[CV]  criterion=friedman_mse, learning_rate=0.2, loss=deviance, max_depth=5, max_features=sqrt, min_samples_leaf=0.5, min_samples_split=0.42727272727272736, n_estimators=10, subsample=0.9, score=0.5, total=   0.1s\n",
      "[CV] criterion=friedman_mse, learning_rate=0.2, loss=deviance, max_depth=5, max_features=sqrt, min_samples_leaf=0.5, min_samples_split=0.46363636363636374, n_estimators=10, subsample=0.9 \n",
      "[CV]  criterion=friedman_mse, learning_rate=0.2, loss=deviance, max_depth=5, max_features=sqrt, min_samples_leaf=0.5, min_samples_split=0.42727272727272736, n_estimators=10, subsample=0.9, score=0.5, total=   0.1s\n",
      "[CV] criterion=friedman_mse, learning_rate=0.2, loss=deviance, max_depth=5, max_features=sqrt, min_samples_leaf=0.5, min_samples_split=0.5, n_estimators=10, subsample=0.9 \n",
      "[CV] criterion=friedman_mse, learning_rate=0.2, loss=deviance, max_depth=5, max_features=sqrt, min_samples_leaf=0.5, min_samples_split=0.5, n_estimators=10, subsample=0.9 \n",
      "[CV]  criterion=friedman_mse, learning_rate=0.2, loss=deviance, max_depth=5, max_features=sqrt, min_samples_leaf=0.5, min_samples_split=0.42727272727272736, n_estimators=10, subsample=0.9, score=0.5, total=   0.1s\n",
      "[CV]  criterion=friedman_mse, learning_rate=0.2, loss=deviance, max_depth=5, max_features=sqrt, min_samples_leaf=0.5, min_samples_split=0.46363636363636374, n_estimators=10, subsample=0.9, score=0.5, total=   0.1s\n",
      "[CV] criterion=friedman_mse, learning_rate=0.2, loss=deviance, max_depth=5, max_features=sqrt, min_samples_leaf=0.5, min_samples_split=0.5, n_estimators=10, subsample=0.9 \n",
      "[CV]  criterion=friedman_mse, learning_rate=0.2, loss=deviance, max_depth=5, max_features=sqrt, min_samples_leaf=0.5, min_samples_split=0.46363636363636374, n_estimators=10, subsample=0.9, score=0.5, total=   0.1s\n",
      "[CV]  criterion=friedman_mse, learning_rate=0.2, loss=deviance, max_depth=5, max_features=sqrt, min_samples_leaf=0.5, min_samples_split=0.46363636363636374, n_estimators=10, subsample=0.9, score=0.5, total=   0.1s\n",
      "[CV]  criterion=friedman_mse, learning_rate=0.2, loss=deviance, max_depth=5, max_features=sqrt, min_samples_leaf=0.5, min_samples_split=0.5, n_estimators=10, subsample=0.9, score=0.5, total=   0.1s\n",
      "[CV]  criterion=friedman_mse, learning_rate=0.2, loss=deviance, max_depth=5, max_features=sqrt, min_samples_leaf=0.5, min_samples_split=0.5, n_estimators=10, subsample=0.9, score=0.5, total=   0.1s\n",
      "[CV]  criterion=friedman_mse, learning_rate=0.2, loss=deviance, max_depth=5, max_features=sqrt, min_samples_leaf=0.5, min_samples_split=0.5, n_estimators=10, subsample=0.9, score=0.5, total=   0.1s\n"
     ]
    },
    {
     "name": "stderr",
     "output_type": "stream",
     "text": [
      "[Parallel(n_jobs=-1)]: Done 432 out of 432 | elapsed:   13.8s finished\n"
     ]
    },
    {
     "name": "stdout",
     "output_type": "stream",
     "text": [
      "0.8340142077678256\n",
      "{'criterion': 'friedman_mse', 'learning_rate': 0.2, 'loss': 'deviance', 'max_depth': 5, 'max_features': 'sqrt', 'min_samples_leaf': 0.1, 'min_samples_split': 0.5, 'n_estimators': 10, 'subsample': 0.9}\n"
     ]
    }
   ],
   "source": [
    "\n",
    "#parameters = {\n",
    "#    \"loss\":[\"deviance\"],\n",
    "#   \"learning_rate\": [0.01, 0.025, 0.05, 0.075, 0.1, 0.15, 0.2],\n",
    "#    \"min_samples_split\": [0.1,0.5],#np.linspace(0.1, 0.5, 12)\n",
    "#    \"min_samples_leaf\": [0.1,0.5],#np.linspace(0.1, 0.5, 12)\n",
    "#    \"max_depth\":[3,5,8],\n",
    "#    \"max_features\":[\"log2\",\"sqrt\"],\n",
    "#    \"criterion\": [\"friedman_mse\",  \"mae\"],\n",
    "#    \"subsample\":[0.5, 0.618, 0.8, 0.85, 0.9, 0.95, 1.0],\n",
    "#    \"n_estimators\":[10]\n",
    "#    }\n",
    "parameters = {\n",
    "    \"loss\":[\"deviance\"],\n",
    "    \"learning_rate\": [0.2],\n",
    "    \"min_samples_split\": np.linspace(0.1, 0.5, 12),\n",
    "    \"min_samples_leaf\": np.linspace(0.1, 0.5, 12),\n",
    "    \"max_depth\":[5],\n",
    "    \"max_features\":[\"sqrt\"],\n",
    "    \"criterion\": [\"friedman_mse\"],\n",
    "    \"subsample\":[0.9],\n",
    "    \"n_estimators\":[10]\n",
    "    }\n",
    "\n",
    "clf = GridSearchCV(GradientBoostingClassifier(), parameters, cv=3, n_jobs=-1,verbose=3,scoring='roc_auc')\n",
    "\n",
    "clf.fit(x_train, y_train)\n",
    "print(clf.score(x_train, y_train))\n",
    "print(clf.best_params_)"
   ]
  },
  {
   "cell_type": "code",
   "execution_count": null,
   "metadata": {},
   "outputs": [],
   "source": []
  },
  {
   "cell_type": "markdown",
   "metadata": {},
   "source": [
    "### Set de entrenamiento"
   ]
  },
  {
   "cell_type": "code",
   "execution_count": 31,
   "metadata": {},
   "outputs": [
    {
     "name": "stdout",
     "output_type": "stream",
     "text": [
      "Precisión:  0.8168973775511638\n",
      "Tiempo de ejecución: 0.03341 seconds.\n"
     ]
    }
   ],
   "source": [
    "t0 = time()\n",
    "\n",
    "\n",
    "# Parámetros óptimos\n",
    "params_optimos_gb = {'criterion': 'friedman_mse','learning_rate':0.2, 'n_estimators':10, 'max_depth':5,\\\n",
    "                     'min_samples_split':0.5,'min_samples_leaf':0.1, 'subsample':0.9, 'max_features':'sqrt',\\\n",
    "                     } #'loss': 'deviance'\n",
    "\n",
    "# Creamos el gradient boosting\n",
    "gra_boost = GradientBoostingRegressor(**params_optimos_gb)\n",
    "\n",
    "# Lo entrenamos con nuestro set de entrenamiento\n",
    "gra_boost.fit(x_train,y_train)\n",
    "\n",
    "# Predecimos valores de nuestro set de datos\n",
    "pred = gra_boost.predict(x_test)\n",
    "\n",
    "# Evaluamos la precisión\n",
    "precision = roc_auc_score(y_test, pred)\n",
    "\n",
    "print(\"Precisión: \", precision)\n",
    "\n",
    "tf = time() - t0\n",
    "print (\"Tiempo de ejecución: %0.5f seconds.\" % tf)"
   ]
  },
  {
   "cell_type": "markdown",
   "metadata": {},
   "source": [
    "### Test final"
   ]
  },
  {
   "cell_type": "markdown",
   "metadata": {},
   "source": [
    "#### Predicciones con valores binarios"
   ]
  },
  {
   "cell_type": "code",
   "execution_count": null,
   "metadata": {},
   "outputs": [],
   "source": [
    "t0 = time()\n",
    "\n",
    "# Creamos el gradient boosting\n",
    "gra_boost = GradientBoostingRegressor(**params_optimos_gb)\n",
    "\n",
    "# Lo entrenamos con la totalidad del set de datos\n",
    "gra_boost.fit(x,y)\n",
    "\n",
    "# Predecimos las postulaciones del set final\n",
    "pred_final = gra_boost.predict(x_test_final)\n",
    "\n",
    "tf = time() - t0\n",
    "print (\"Tiempo de ejecución: %0.5f seconds.\" % tf)"
   ]
  },
  {
   "cell_type": "markdown",
   "metadata": {},
   "source": [
    "#### Predicciones con probabilidades"
   ]
  },
  {
   "cell_type": "code",
   "execution_count": null,
   "metadata": {},
   "outputs": [],
   "source": [
    "t0 = time()\n",
    "\n",
    "# Creamos el gradient boosting\n",
    "gra_boost = GradientBoostingRegressor(**params_optimos_gb)\n",
    "\n",
    "# Lo entrenamos con la totalidad del set de datos\n",
    "gra_boost.fit(x,y)\n",
    "\n",
    "# Predecimos las postulaciones del set final\n",
    "pred_final_proba = gra_boost.predict_proba(x_test_final)\n",
    "\n",
    "# Nos quedamos con la columna correspondiente de probabilidades\n",
    "df_predicciones = pd.DataFrame(pred_final_proba)\n",
    "pred_final_proba = np.array(df_predicciones[1])\n",
    "\n",
    "tf = time() - t0\n",
    "print (\"Tiempo de ejecución: %0.5f seconds.\" % tf)"
   ]
  },
  {
   "cell_type": "markdown",
   "metadata": {},
   "source": [
    "### Submit file"
   ]
  },
  {
   "cell_type": "markdown",
   "metadata": {},
   "source": [
    "#### Submit con valores binarios"
   ]
  },
  {
   "cell_type": "code",
   "execution_count": null,
   "metadata": {},
   "outputs": [],
   "source": []
  },
  {
   "cell_type": "code",
   "execution_count": null,
   "metadata": {},
   "outputs": [],
   "source": []
  },
  {
   "cell_type": "markdown",
   "metadata": {},
   "source": [
    "#### Submit con probabilidades"
   ]
  },
  {
   "cell_type": "code",
   "execution_count": null,
   "metadata": {},
   "outputs": [],
   "source": []
  },
  {
   "cell_type": "code",
   "execution_count": null,
   "metadata": {},
   "outputs": [],
   "source": []
  },
  {
   "cell_type": "markdown",
   "metadata": {},
   "source": [
    " "
   ]
  },
  {
   "cell_type": "markdown",
   "metadata": {},
   "source": [
    "# Logistic Regression"
   ]
  },
  {
   "cell_type": "markdown",
   "metadata": {},
   "source": [
    "### Grid Search"
   ]
  },
  {
   "cell_type": "code",
   "execution_count": 27,
   "metadata": {
    "scrolled": true
   },
   "outputs": [
    {
     "name": "stdout",
     "output_type": "stream",
     "text": [
      "Fitting 3 folds for each of 200 candidates, totalling 600 fits\n",
      "Best Params {'C': 0.01012080808080808, 'penalty': 'l2', 'solver': 'liblinear'}\n",
      "Best Score 0.9493818681318681\n",
      "Tiempo de ejecución: 316.94204 seconds.\n"
     ]
    },
    {
     "name": "stderr",
     "output_type": "stream",
     "text": [
      "[Parallel(n_jobs=1)]: Done 600 out of 600 | elapsed:  5.3min finished\n"
     ]
    }
   ],
   "source": [
    "t0 = time()\n",
    "\n",
    "# Creamos el logistic regression\n",
    "log_reg = LogisticRegression()\n",
    "\n",
    "# Lo entrenamos con nuestro set de entrenamiento\n",
    "log_reg.fit(x_train,y_train)\n",
    "params = {\n",
    "    'penalty':['l1', 'l2'],        # l1 is Lasso, l2 is Ridge\n",
    "    'solver':['liblinear'],\n",
    "    'C': np.linspace(0.00002,1,100)\n",
    "}\n",
    "\n",
    "lr = LogisticRegression()\n",
    "lr_gs = GridSearchCV(lr, params, cv=3, verbose=1).fit(x_train, y_train)\n",
    "\n",
    "print (\"Best Params\", lr_gs.best_params_)\n",
    "print (\"Best Score\", lr_gs.best_score_)\n",
    "\n",
    "\n",
    "tf = time() - t0\n",
    "print (\"Tiempo de ejecución: %0.5f seconds.\" % tf)"
   ]
  },
  {
   "cell_type": "markdown",
   "metadata": {},
   "source": [
    "### Set de entrenamiento"
   ]
  },
  {
   "cell_type": "code",
   "execution_count": 35,
   "metadata": {},
   "outputs": [
    {
     "name": "stdout",
     "output_type": "stream",
     "text": [
      "Precisión:  0.5058165366276549\n",
      "Tiempo de ejecución: 0.11796 seconds.\n"
     ]
    }
   ],
   "source": [
    "t0 = time()\n",
    "\n",
    "best_params = {\\\n",
    "    'penalty':'l2',\\\n",
    "    'solver':'liblinear',\\\n",
    "    'C': 0.01012080808080808\\\n",
    "}\n",
    "lr_best = LogisticRegression(**best_params)\n",
    "lr_best.fit(x_train, y_train)\n",
    "\n",
    "# Predecimos valores de nuestro set de datos\n",
    "pred = lr_best.predict(x_test)\n",
    "\n",
    "# Evaluamos la precisión\n",
    "precision = roc_auc_score(y_test, pred)\n",
    "\n",
    "print(\"Precisión: \", precision)\n",
    "\n",
    "tf = time() - t0\n",
    "print (\"Tiempo de ejecución: %0.5f seconds.\" % tf)"
   ]
  },
  {
   "cell_type": "code",
   "execution_count": null,
   "metadata": {},
   "outputs": [],
   "source": []
  },
  {
   "cell_type": "markdown",
   "metadata": {},
   "source": [
    "### Test final"
   ]
  },
  {
   "cell_type": "markdown",
   "metadata": {},
   "source": [
    "#### Predicciones con probabilidades"
   ]
  },
  {
   "cell_type": "code",
   "execution_count": null,
   "metadata": {},
   "outputs": [],
   "source": [
    "t0 = time()\n",
    "\n",
    "# Creamos el logistic regression\n",
    "log_reg = LogisticRegression()\n",
    "\n",
    "# Lo entrenamos con la totalidad del set de datos\n",
    "log_reg.fit(x,y)\n",
    "\n",
    "# Predecimos las postulaciones del set final\n",
    "pred_final_proba = log_reg.predict_proba(x_test_final)\n",
    "\n",
    "# Nos quedamos con la columna correspondiente de probabilidades\n",
    "df_predicciones = pd.DataFrame(pred_final_proba)\n",
    "pred_final_proba = np.array(df_predicciones[1])\n",
    "\n",
    "tf = time() - t0\n",
    "print (\"Tiempo de ejecución: %0.5f seconds.\" % tf)"
   ]
  },
  {
   "cell_type": "markdown",
   "metadata": {},
   "source": [
    "### Submit file"
   ]
  },
  {
   "cell_type": "markdown",
   "metadata": {},
   "source": [
    "#### Submit con probabilidades"
   ]
  },
  {
   "cell_type": "code",
   "execution_count": null,
   "metadata": {},
   "outputs": [],
   "source": []
  },
  {
   "cell_type": "code",
   "execution_count": null,
   "metadata": {},
   "outputs": [],
   "source": []
  },
  {
   "cell_type": "markdown",
   "metadata": {},
   "source": [
    " "
   ]
  },
  {
   "cell_type": "markdown",
   "metadata": {},
   "source": [
    "# Decision Tree"
   ]
  },
  {
   "cell_type": "markdown",
   "metadata": {},
   "source": [
    "### Grid Search"
   ]
  },
  {
   "cell_type": "code",
   "execution_count": 71,
   "metadata": {},
   "outputs": [
    {
     "name": "stdout",
     "output_type": "stream",
     "text": [
      "Tiempo de ejecución: 24.13923 seconds.\n",
      "{'min_samples_split': 8}\n"
     ]
    }
   ],
   "source": [
    "t0 = time()\n",
    "\n",
    "g_cv = GridSearchCV(DecisionTreeRegressor(random_state=0),\n",
    "              param_grid={'min_samples_split': np.arange(2, 10)},\n",
    "              scoring='roc_auc', cv=5, refit=True)\n",
    "g_cv.fit(x,y)\n",
    "\n",
    "tf = time() - t0\n",
    "print (\"Tiempo de ejecución: %0.5f seconds.\" % tf)\n",
    "print(g_cv.best_params_)"
   ]
  },
  {
   "cell_type": "markdown",
   "metadata": {},
   "source": [
    "### Set de entrenamiento"
   ]
  },
  {
   "cell_type": "code",
   "execution_count": 70,
   "metadata": {},
   "outputs": [
    {
     "name": "stdout",
     "output_type": "stream",
     "text": [
      "Precisión:  0.5916255779511632\n",
      "Tiempo de ejecución: 0.20824 seconds.\n"
     ]
    }
   ],
   "source": [
    "\n",
    "t0 = time()\n",
    "\n",
    "# Parámetros óptimos\n",
    "params_optimos_dt = {'criterion':\"mse\",'splitter':'best', 'max_depth':None, 'min_samples_split':2,\\\n",
    "                     'min_samples_leaf':2, 'max_features':'sqrt', 'presort':True}\n",
    "\n",
    "# Creamos el logistic regression\n",
    "decision_tree = DecisionTreeRegressor(**params_optimos_dt)\n",
    "\n",
    "# Lo entrenamos con nuestro set de entrenamiento\n",
    "decision_tree.fit(x_train,y_train)\n",
    "\n",
    "# Predecimos valores de nuestro set de datos\n",
    "pred = decision_tree.predict(x_test)\n",
    "\n",
    "# Evaluamos la precisión\n",
    "precision = roc_auc_score(y_test, pred)\n",
    "\n",
    "print(\"Precisión: \", precision)\n",
    "\n",
    "tf = time() - t0\n",
    "print (\"Tiempo de ejecución: %0.5f seconds.\" % tf)"
   ]
  },
  {
   "cell_type": "markdown",
   "metadata": {},
   "source": [
    "### Test final"
   ]
  },
  {
   "cell_type": "markdown",
   "metadata": {},
   "source": [
    "#### Predicciones con valores binarios"
   ]
  },
  {
   "cell_type": "code",
   "execution_count": null,
   "metadata": {},
   "outputs": [],
   "source": [
    "t0 = time()\n",
    "\n",
    "# Creamos el decision tree\n",
    "decision_tree = DecisionTreeClassifier(**params_optimos_dt)\n",
    "\n",
    "# Lo entrenamos con la totalidad del set de datos\n",
    "decision_tree.fit(x,y)\n",
    "\n",
    "# Predecimos las postulaciones del set final\n",
    "pred_final = decision_tree.predict(x_test_final)\n",
    "\n",
    "tf = time() - t0\n",
    "print (\"Tiempo de ejecución: %0.5f seconds.\" % tf)"
   ]
  },
  {
   "cell_type": "markdown",
   "metadata": {},
   "source": [
    "#### Predicciones con probabilidades"
   ]
  },
  {
   "cell_type": "code",
   "execution_count": null,
   "metadata": {},
   "outputs": [],
   "source": [
    "t0 = time()\n",
    "\n",
    "# Creamos el decision tree\n",
    "decision_tree = DecisionTreeClassifier(**params_optimos_dt)\n",
    "\n",
    "# Lo entrenamos con la totalidad del set de datos\n",
    "decision_tree.fit(x,y)\n",
    "\n",
    "# Predecimos las postulaciones del set final\n",
    "pred_final_proba = decision_tree.predict_proba(x_test_final)\n",
    "\n",
    "# Nos quedamos con la columna correspondiente de probabilidades\n",
    "df_predicciones = pd.DataFrame(pred_final_proba)\n",
    "pred_final_proba = np.array(df_predicciones[1])\n",
    "\n",
    "tf = time() - t0\n",
    "print (\"Tiempo de ejecución: %0.5f seconds.\" % tf)"
   ]
  },
  {
   "cell_type": "markdown",
   "metadata": {},
   "source": [
    "### Submit file"
   ]
  },
  {
   "cell_type": "markdown",
   "metadata": {},
   "source": [
    "#### Submit con valores binarios"
   ]
  },
  {
   "cell_type": "code",
   "execution_count": null,
   "metadata": {},
   "outputs": [],
   "source": []
  },
  {
   "cell_type": "code",
   "execution_count": null,
   "metadata": {},
   "outputs": [],
   "source": []
  },
  {
   "cell_type": "markdown",
   "metadata": {},
   "source": [
    "#### Submit con probabilidades"
   ]
  },
  {
   "cell_type": "code",
   "execution_count": null,
   "metadata": {},
   "outputs": [],
   "source": [
    "#submit_proba = pd.DataFrame({'id':id_aviso_postulante, 'sepostulo':pred_final_proba})\n",
    "#submit_proba.to_csv('submits/submit_decision_tree_proba.csv', index=False)\n",
    "roc_auc_score(np.array(test_final['label']),pred_final_proba)"
   ]
  },
  {
   "cell_type": "code",
   "execution_count": null,
   "metadata": {},
   "outputs": [],
   "source": [
    "#no = submit_proba['sepostulo'] < 0.5\n",
    "#si = submit_proba['sepostulo'] >= 0.5\n",
    "\n",
    "#cant_no = submit_proba.loc[(no)].count()\n",
    "#cant_si = submit_proba.loc[(si)].count()\n",
    "\n",
    "#print(\"0   \", cant_no[1])\n",
    "#print(\"1   \", cant_si[1])\n",
    "#print(\"Name: sepostulo, dtype: int64\")"
   ]
  },
  {
   "cell_type": "markdown",
   "metadata": {},
   "source": [
    " "
   ]
  },
  {
   "cell_type": "markdown",
   "metadata": {},
   "source": [
    "# Bagging"
   ]
  },
  {
   "cell_type": "markdown",
   "metadata": {},
   "source": [
    "## 1 Con Logistic Regression"
   ]
  },
  {
   "cell_type": "markdown",
   "metadata": {},
   "source": [
    "### Set de entrenamiento"
   ]
  },
  {
   "cell_type": "code",
   "execution_count": 80,
   "metadata": {},
   "outputs": [
    {
     "name": "stdout",
     "output_type": "stream",
     "text": [
      "Precisión:  0.5074632459182199\n",
      "Tiempo de ejecución: 9.35253 seconds.\n"
     ]
    }
   ],
   "source": [
    "t0 = time()\n",
    "\n",
    "# Parámetros óptimos\n",
    "params_optimos_bag_lr = {'base_estimator':LogisticRegression(), 'n_estimators':100, 'bootstrap':True,\\\n",
    "                         'bootstrap_features':True, 'oob_score':True, 'warm_start':False}\n",
    "\n",
    "# Creamos el bagging\n",
    "bagging = BaggingRegressor(**params_optimos_bag_lr)\n",
    "\n",
    "# Lo entrenamos con nuestro set de entrenamiento\n",
    "bagging.fit(x_train,y_train)\n",
    "\n",
    "# Predecimos valores de nuestro set de datos\n",
    "pred = bagging.predict(x_test)\n",
    "\n",
    "# Evaluamos la precisión\n",
    "precision = roc_auc_score(y_test, pred)\n",
    "\n",
    "print(\"Precisión: \", precision)\n",
    "\n",
    "tf = time() - t0\n",
    "print (\"Tiempo de ejecución: %0.5f seconds.\" % tf)"
   ]
  },
  {
   "cell_type": "markdown",
   "metadata": {},
   "source": [
    "### Test final"
   ]
  },
  {
   "cell_type": "markdown",
   "metadata": {},
   "source": [
    "#### Predicciones con valores binarios"
   ]
  },
  {
   "cell_type": "code",
   "execution_count": 79,
   "metadata": {},
   "outputs": [
    {
     "name": "stdout",
     "output_type": "stream",
     "text": [
      "Tiempo de ejecución: 11.51247 seconds.\n"
     ]
    }
   ],
   "source": [
    "t0 = time()\n",
    "\n",
    "params_optimos_bag_lr = {'base_estimator':LogisticRegression(), 'n_estimators':100, 'bootstrap':True,\\\n",
    "                         'bootstrap_features':True, 'oob_score':True, 'warm_start':False}\n",
    "\n",
    "# Creamos el bagging\n",
    "bagging = BaggingClassifier(**params_optimos_bag_lr)\n",
    "\n",
    "# Lo entrenamos con la totalidad del set de datos\n",
    "bagging.fit(x,y)\n",
    "\n",
    "# Predecimos las postulaciones del set final\n",
    "pred_final = bagging.predict(x_test_final)\n",
    "\n",
    "tf = time() - t0\n",
    "print (\"Tiempo de ejecución: %0.5f seconds.\" % tf)"
   ]
  },
  {
   "cell_type": "markdown",
   "metadata": {},
   "source": [
    "#### Predicciones con probabilidades"
   ]
  },
  {
   "cell_type": "code",
   "execution_count": null,
   "metadata": {},
   "outputs": [],
   "source": [
    "t0 = time()\n",
    "\n",
    "params_optimos_bag_lr = {'base_estimator':LogisticRegression(), 'n_estimators':100, 'bootstrap':True,\\\n",
    "                         'bootstrap_features':True, 'oob_score':True, 'warm_start':False}\n",
    "\n",
    "# Creamos el bagging\n",
    "bagging = BaggingClassifier(**params_optimos_bag_lr)\n",
    "\n",
    "# Lo entrenamos con la totalidad del set de datos\n",
    "bagging.fit(x,y)\n",
    "\n",
    "# Predecimos las postulaciones del set final\n",
    "pred_final_proba = bagging.predict_proba(x_test_final)\n",
    "\n",
    "# Nos quedamos con la columna correspondiente de probabilidades\n",
    "df_predicciones = pd.DataFrame(pred_final_proba)\n",
    "pred_final_proba = np.array(df_predicciones[1])\n",
    "\n",
    "tf = time() - t0\n",
    "print (\"Tiempo de ejecución: %0.5f seconds.\" % tf)"
   ]
  },
  {
   "cell_type": "markdown",
   "metadata": {},
   "source": [
    "### Submit file"
   ]
  },
  {
   "cell_type": "markdown",
   "metadata": {},
   "source": [
    "#### Submit con valores binarios"
   ]
  },
  {
   "cell_type": "code",
   "execution_count": null,
   "metadata": {},
   "outputs": [],
   "source": []
  },
  {
   "cell_type": "code",
   "execution_count": null,
   "metadata": {},
   "outputs": [],
   "source": []
  },
  {
   "cell_type": "markdown",
   "metadata": {},
   "source": [
    "#### Submit con probabilidades"
   ]
  },
  {
   "cell_type": "code",
   "execution_count": null,
   "metadata": {},
   "outputs": [],
   "source": []
  },
  {
   "cell_type": "code",
   "execution_count": null,
   "metadata": {},
   "outputs": [],
   "source": []
  },
  {
   "cell_type": "markdown",
   "metadata": {},
   "source": [
    "## 2 Con Random Forest"
   ]
  },
  {
   "cell_type": "markdown",
   "metadata": {},
   "source": [
    "### Grid Search"
   ]
  },
  {
   "cell_type": "code",
   "execution_count": 85,
   "metadata": {},
   "outputs": [
    {
     "data": {
      "text/plain": [
       "GridSearchCV(cv=None, error_score='raise',\n",
       "       estimator=BaggingRegressor(base_estimator=RandomForestRegressor(bootstrap=True, criterion='mse', max_depth=5,\n",
       "           max_features='sqrt', max_leaf_nodes=None,\n",
       "           min_impurity_decrease=0.0, min_impurity_split=None,\n",
       "           min_samples_leaf=2, min_samples_split=2,\n",
       "           min_weight_..._estimators=100, n_jobs=1, oob_score=False,\n",
       "         random_state=None, verbose=0, warm_start=False),\n",
       "       fit_params=None, iid=True, n_jobs=1,\n",
       "       param_grid={'base_estimator__max_depth': [1, 2, 3, 4, 5], 'max_samples': [0.05, 0.1, 0.2, 0.5]},\n",
       "       pre_dispatch='2*n_jobs', refit=True, return_train_score='warn',\n",
       "       scoring='roc_auc', verbose=0)"
      ]
     },
     "execution_count": 85,
     "metadata": {},
     "output_type": "execute_result"
    }
   ],
   "source": [
    "params_optimos_rf = {'n_estimators':50, 'max_features':'sqrt', 'max_depth':5, 'min_samples_split':2,\\\n",
    "                     'min_samples_leaf':2, 'bootstrap':True, 'oob_score':True, 'warm_start':True}\n",
    "param_grid = {\n",
    "    'base_estimator__max_depth' : [1, 2, 3, 4, 5],\n",
    "    'max_samples' : [0.05, 0.1, 0.2, 0.5]\n",
    "}\n",
    "\n",
    "clf = GridSearchCV(BaggingRegressor(RandomForestRegressor(**params_optimos_rf),\n",
    "                                     n_estimators = 100, max_features = 0.5),\n",
    "                   param_grid, scoring = 'roc_auc')\n",
    "\n",
    "clf.fit(x_train,y_train)"
   ]
  },
  {
   "cell_type": "code",
   "execution_count": 86,
   "metadata": {},
   "outputs": [
    {
     "data": {
      "text/plain": [
       "0.844373103597746"
      ]
     },
     "execution_count": 86,
     "metadata": {},
     "output_type": "execute_result"
    }
   ],
   "source": [
    "clf.best_estimator_.fit(x_train,y_train)\n",
    "y_pred = clf.best_estimator_.predict(x_test)\n",
    "roc_auc_score(y_test,y_pred)"
   ]
  },
  {
   "cell_type": "markdown",
   "metadata": {},
   "source": [
    "### Set de entrenamiento"
   ]
  },
  {
   "cell_type": "code",
   "execution_count": 82,
   "metadata": {},
   "outputs": [
    {
     "name": "stdout",
     "output_type": "stream",
     "text": [
      "Precisión:  0.8473703222077735\n",
      "Tiempo de ejecución: 3.98110 seconds.\n"
     ]
    }
   ],
   "source": [
    "t0 = time()\n",
    "\n",
    "# Parámetros óptimos\n",
    "params_optimos_bag_dt = {'base_estimator':RandomForestRegressor(**params_optimos_rf), 'n_estimators':10, 'bootstrap':True,\\\n",
    "                         'bootstrap_features':True, 'oob_score':True, 'warm_start':False}\n",
    "\n",
    "# Creamos el bagging\n",
    "\n",
    "\n",
    "# Parámetros óptimos\n",
    "params_optimos_rf = {'n_estimators':50, 'max_features':'sqrt', 'max_depth':5, 'min_samples_split':2,\\\n",
    "                     'min_samples_leaf':2, 'bootstrap':True, 'oob_score':True, 'warm_start':True}\n",
    "\n",
    "\n",
    "bagging = BaggingRegressor(**params_optimos_bag_dt)\n",
    "\n",
    "# Lo entrenamos con nuestro set de entrenamiento\n",
    "bagging.fit(x_train, y_train)\n",
    "\n",
    "# Predecimos valores de nuestro set de datos\n",
    "pred = bagging.predict(x_test)\n",
    "\n",
    "# Evaluamos la precisión\n",
    "precision = roc_auc_score(y_test, pred)\n",
    "\n",
    "print(\"Precisión: \", precision)\n",
    "\n",
    "tf = time() - t0\n",
    "print (\"Tiempo de ejecución: %0.5f seconds.\" % tf)"
   ]
  },
  {
   "cell_type": "markdown",
   "metadata": {},
   "source": [
    "### Test final"
   ]
  },
  {
   "cell_type": "markdown",
   "metadata": {},
   "source": [
    "#### Predicciones con valores binarios"
   ]
  },
  {
   "cell_type": "code",
   "execution_count": null,
   "metadata": {},
   "outputs": [],
   "source": [
    "t0 = time()\n",
    "\n",
    "# Creamos el bagging\n",
    "bagging = BaggingClassifier(**params_optimos_bag_dt)\n",
    "\n",
    "# Lo entrenamos con la totalidad del set de datos\n",
    "bagging.fit(x,y)\n",
    "\n",
    "# Predecimos las postulaciones del set final\n",
    "pred_final = bagging.predict(x_test_final)\n",
    "\n",
    "tf = time() - t0\n",
    "print (\"Tiempo de ejecución: %0.5f seconds.\" % tf)"
   ]
  },
  {
   "cell_type": "markdown",
   "metadata": {},
   "source": [
    "#### Predicciones con probabilidades"
   ]
  },
  {
   "cell_type": "code",
   "execution_count": null,
   "metadata": {},
   "outputs": [],
   "source": [
    "t0 = time()\n",
    "\n",
    "# Creamos el bagging\n",
    "bagging = BaggingClassifier(**params_optimos_bag_dt)\n",
    "\n",
    "# Lo entrenamos con la totalidad del set de datos\n",
    "bagging.fit(x,y)\n",
    "\n",
    "# Predecimos las postulaciones del set final\n",
    "pred_final_proba = bagging.predict_proba(x_test_final)\n",
    "\n",
    "# Nos quedamos con la columna correspondiente de probabilidades\n",
    "df_predicciones = pd.DataFrame(pred_final_proba)\n",
    "pred_final_proba = np.array(df_predicciones[1])\n",
    "\n",
    "tf = time() - t0\n",
    "print (\"Tiempo de ejecución: %0.5f seconds.\" % tf)"
   ]
  },
  {
   "cell_type": "markdown",
   "metadata": {},
   "source": [
    "### Submit file"
   ]
  },
  {
   "cell_type": "markdown",
   "metadata": {},
   "source": [
    "#### Submit con valores binarios"
   ]
  },
  {
   "cell_type": "code",
   "execution_count": null,
   "metadata": {},
   "outputs": [],
   "source": []
  },
  {
   "cell_type": "code",
   "execution_count": null,
   "metadata": {},
   "outputs": [],
   "source": []
  },
  {
   "cell_type": "markdown",
   "metadata": {},
   "source": [
    "#### Submit con probabilidades"
   ]
  },
  {
   "cell_type": "code",
   "execution_count": null,
   "metadata": {},
   "outputs": [],
   "source": []
  },
  {
   "cell_type": "code",
   "execution_count": null,
   "metadata": {},
   "outputs": [],
   "source": []
  },
  {
   "cell_type": "markdown",
   "metadata": {},
   "source": [
    " "
   ]
  },
  {
   "cell_type": "markdown",
   "metadata": {},
   "source": [
    "# Voting"
   ]
  },
  {
   "cell_type": "markdown",
   "metadata": {},
   "source": [
    "### Set de entrenamiento"
   ]
  },
  {
   "cell_type": "code",
   "execution_count": 32,
   "metadata": {},
   "outputs": [
    {
     "name": "stdout",
     "output_type": "stream",
     "text": [
      "Precisión:  0.5014331382748157\n",
      "Tiempo de ejecución: 3.12942 seconds.\n"
     ]
    },
    {
     "name": "stderr",
     "output_type": "stream",
     "text": [
      "/home/mariano/ENTER/lib/python3.6/site-packages/sklearn/preprocessing/label.py:151: DeprecationWarning: The truth value of an empty array is ambiguous. Returning False, but in future this will result in an error. Use `array.size > 0` to check that an array is not empty.\n",
      "  if diff:\n"
     ]
    }
   ],
   "source": [
    "# Creamos los estimadores base que utilizaremos para el voting\n",
    "estimador_1 = DecisionTreeRegressor(**params_optimos_dt)\n",
    "estimador_2 = GradientBoostingRegressor(**params_optimos_gb)\n",
    "estimador_3 = ExtraTreesRegressor(**params_optimos_et)\n",
    "\n",
    "# Los agregamos a la lista de estimadores\n",
    "estimadores = []\n",
    "estimadores.append(('Naive Bayes', estimador_1))\n",
    "estimadores.append(('Logistic Regression', estimador_2))\n",
    "estimadores.append(('Random Forest', estimador_3))\n",
    "\n",
    "# Creamos el voting\n",
    "voting = VotingClassifier(estimators=estimadores)\n",
    "\n",
    "# Lo entrenamos con nuestro set de entrenamiento\n",
    "voting.fit(x_train, y_train)\n",
    "\n",
    "# Predecimos valores de nuestro set de datos\n",
    "pred = voting.predict(x_test)\n",
    "\n",
    "# Evaluamos la precisión\n",
    "precision = roc_auc_score(y_test, pred)\n",
    "\n",
    "print(\"Precisión: \", precision)\n",
    "\n",
    "tf = time() - t0\n",
    "print (\"Tiempo de ejecución: %0.5f seconds.\" % tf)"
   ]
  },
  {
   "cell_type": "markdown",
   "metadata": {},
   "source": [
    "## Voting NN y XGBRegressor"
   ]
  },
  {
   "cell_type": "code",
   "execution_count": 53,
   "metadata": {},
   "outputs": [
    {
     "ename": "TypeError",
     "evalue": "Cannot clone object '<keras.engine.sequential.Sequential object at 0x7f52e0766d30>' (type <class 'keras.engine.sequential.Sequential'>): it does not seem to be a scikit-learn estimator as it does not implement a 'get_params' methods.",
     "output_type": "error",
     "traceback": [
      "\u001b[0;31m---------------------------------------------------------------------------\u001b[0m",
      "\u001b[0;31mTypeError\u001b[0m                                 Traceback (most recent call last)",
      "\u001b[0;32m<ipython-input-53-0878fb4a04cd>\u001b[0m in \u001b[0;36m<module>\u001b[0;34m()\u001b[0m\n\u001b[1;32m     22\u001b[0m \u001b[0;34m\u001b[0m\u001b[0m\n\u001b[1;32m     23\u001b[0m \u001b[0;31m# Lo entrenamos con nuestro set de entrenamiento\u001b[0m\u001b[0;34m\u001b[0m\u001b[0;34m\u001b[0m\u001b[0m\n\u001b[0;32m---> 24\u001b[0;31m \u001b[0mvoting\u001b[0m\u001b[0;34m.\u001b[0m\u001b[0mfit\u001b[0m\u001b[0;34m(\u001b[0m\u001b[0mx_train\u001b[0m\u001b[0;34m,\u001b[0m \u001b[0my_train\u001b[0m\u001b[0;34m)\u001b[0m\u001b[0;34m\u001b[0m\u001b[0m\n\u001b[0m\u001b[1;32m     25\u001b[0m \u001b[0;34m\u001b[0m\u001b[0m\n\u001b[1;32m     26\u001b[0m \u001b[0;31m# Predecimos valores de nuestro set de datos\u001b[0m\u001b[0;34m\u001b[0m\u001b[0;34m\u001b[0m\u001b[0m\n",
      "\u001b[0;32m~/ENTER/lib/python3.6/site-packages/sklearn/ensemble/voting_classifier.py\u001b[0m in \u001b[0;36mfit\u001b[0;34m(self, X, y, sample_weight)\u001b[0m\n\u001b[1;32m    187\u001b[0m                 delayed(_parallel_fit_estimator)(clone(clf), X, transformed_y,\n\u001b[1;32m    188\u001b[0m                                                  sample_weight=sample_weight)\n\u001b[0;32m--> 189\u001b[0;31m                 for clf in clfs if clf is not None)\n\u001b[0m\u001b[1;32m    190\u001b[0m \u001b[0;34m\u001b[0m\u001b[0m\n\u001b[1;32m    191\u001b[0m         \u001b[0;32mreturn\u001b[0m \u001b[0mself\u001b[0m\u001b[0;34m\u001b[0m\u001b[0m\n",
      "\u001b[0;32m~/ENTER/lib/python3.6/site-packages/sklearn/externals/joblib/parallel.py\u001b[0m in \u001b[0;36m__call__\u001b[0;34m(self, iterable)\u001b[0m\n\u001b[1;32m    777\u001b[0m             \u001b[0;31m# was dispatched. In particular this covers the edge\u001b[0m\u001b[0;34m\u001b[0m\u001b[0;34m\u001b[0m\u001b[0m\n\u001b[1;32m    778\u001b[0m             \u001b[0;31m# case of Parallel used with an exhausted iterator.\u001b[0m\u001b[0;34m\u001b[0m\u001b[0;34m\u001b[0m\u001b[0m\n\u001b[0;32m--> 779\u001b[0;31m             \u001b[0;32mwhile\u001b[0m \u001b[0mself\u001b[0m\u001b[0;34m.\u001b[0m\u001b[0mdispatch_one_batch\u001b[0m\u001b[0;34m(\u001b[0m\u001b[0miterator\u001b[0m\u001b[0;34m)\u001b[0m\u001b[0;34m:\u001b[0m\u001b[0;34m\u001b[0m\u001b[0m\n\u001b[0m\u001b[1;32m    780\u001b[0m                 \u001b[0mself\u001b[0m\u001b[0;34m.\u001b[0m\u001b[0m_iterating\u001b[0m \u001b[0;34m=\u001b[0m \u001b[0;32mTrue\u001b[0m\u001b[0;34m\u001b[0m\u001b[0m\n\u001b[1;32m    781\u001b[0m             \u001b[0;32melse\u001b[0m\u001b[0;34m:\u001b[0m\u001b[0;34m\u001b[0m\u001b[0m\n",
      "\u001b[0;32m~/ENTER/lib/python3.6/site-packages/sklearn/externals/joblib/parallel.py\u001b[0m in \u001b[0;36mdispatch_one_batch\u001b[0;34m(self, iterator)\u001b[0m\n\u001b[1;32m    618\u001b[0m \u001b[0;34m\u001b[0m\u001b[0m\n\u001b[1;32m    619\u001b[0m         \u001b[0;32mwith\u001b[0m \u001b[0mself\u001b[0m\u001b[0;34m.\u001b[0m\u001b[0m_lock\u001b[0m\u001b[0;34m:\u001b[0m\u001b[0;34m\u001b[0m\u001b[0m\n\u001b[0;32m--> 620\u001b[0;31m             \u001b[0mtasks\u001b[0m \u001b[0;34m=\u001b[0m \u001b[0mBatchedCalls\u001b[0m\u001b[0;34m(\u001b[0m\u001b[0mitertools\u001b[0m\u001b[0;34m.\u001b[0m\u001b[0mislice\u001b[0m\u001b[0;34m(\u001b[0m\u001b[0miterator\u001b[0m\u001b[0;34m,\u001b[0m \u001b[0mbatch_size\u001b[0m\u001b[0;34m)\u001b[0m\u001b[0;34m)\u001b[0m\u001b[0;34m\u001b[0m\u001b[0m\n\u001b[0m\u001b[1;32m    621\u001b[0m             \u001b[0;32mif\u001b[0m \u001b[0mlen\u001b[0m\u001b[0;34m(\u001b[0m\u001b[0mtasks\u001b[0m\u001b[0;34m)\u001b[0m \u001b[0;34m==\u001b[0m \u001b[0;36m0\u001b[0m\u001b[0;34m:\u001b[0m\u001b[0;34m\u001b[0m\u001b[0m\n\u001b[1;32m    622\u001b[0m                 \u001b[0;31m# No more tasks available in the iterator: tell caller to stop.\u001b[0m\u001b[0;34m\u001b[0m\u001b[0;34m\u001b[0m\u001b[0m\n",
      "\u001b[0;32m~/ENTER/lib/python3.6/site-packages/sklearn/externals/joblib/parallel.py\u001b[0m in \u001b[0;36m__init__\u001b[0;34m(self, iterator_slice)\u001b[0m\n\u001b[1;32m    125\u001b[0m \u001b[0;34m\u001b[0m\u001b[0m\n\u001b[1;32m    126\u001b[0m     \u001b[0;32mdef\u001b[0m \u001b[0m__init__\u001b[0m\u001b[0;34m(\u001b[0m\u001b[0mself\u001b[0m\u001b[0;34m,\u001b[0m \u001b[0miterator_slice\u001b[0m\u001b[0;34m)\u001b[0m\u001b[0;34m:\u001b[0m\u001b[0;34m\u001b[0m\u001b[0m\n\u001b[0;32m--> 127\u001b[0;31m         \u001b[0mself\u001b[0m\u001b[0;34m.\u001b[0m\u001b[0mitems\u001b[0m \u001b[0;34m=\u001b[0m \u001b[0mlist\u001b[0m\u001b[0;34m(\u001b[0m\u001b[0miterator_slice\u001b[0m\u001b[0;34m)\u001b[0m\u001b[0;34m\u001b[0m\u001b[0m\n\u001b[0m\u001b[1;32m    128\u001b[0m         \u001b[0mself\u001b[0m\u001b[0;34m.\u001b[0m\u001b[0m_size\u001b[0m \u001b[0;34m=\u001b[0m \u001b[0mlen\u001b[0m\u001b[0;34m(\u001b[0m\u001b[0mself\u001b[0m\u001b[0;34m.\u001b[0m\u001b[0mitems\u001b[0m\u001b[0;34m)\u001b[0m\u001b[0;34m\u001b[0m\u001b[0m\n\u001b[1;32m    129\u001b[0m \u001b[0;34m\u001b[0m\u001b[0m\n",
      "\u001b[0;32m~/ENTER/lib/python3.6/site-packages/sklearn/ensemble/voting_classifier.py\u001b[0m in \u001b[0;36m<genexpr>\u001b[0;34m(.0)\u001b[0m\n\u001b[1;32m    187\u001b[0m                 delayed(_parallel_fit_estimator)(clone(clf), X, transformed_y,\n\u001b[1;32m    188\u001b[0m                                                  sample_weight=sample_weight)\n\u001b[0;32m--> 189\u001b[0;31m                 for clf in clfs if clf is not None)\n\u001b[0m\u001b[1;32m    190\u001b[0m \u001b[0;34m\u001b[0m\u001b[0m\n\u001b[1;32m    191\u001b[0m         \u001b[0;32mreturn\u001b[0m \u001b[0mself\u001b[0m\u001b[0;34m\u001b[0m\u001b[0m\n",
      "\u001b[0;32m~/ENTER/lib/python3.6/site-packages/sklearn/base.py\u001b[0m in \u001b[0;36mclone\u001b[0;34m(estimator, safe)\u001b[0m\n\u001b[1;32m     56\u001b[0m                             \u001b[0;34m\"it does not seem to be a scikit-learn estimator \"\u001b[0m\u001b[0;34m\u001b[0m\u001b[0m\n\u001b[1;32m     57\u001b[0m                             \u001b[0;34m\"as it does not implement a 'get_params' methods.\"\u001b[0m\u001b[0;34m\u001b[0m\u001b[0m\n\u001b[0;32m---> 58\u001b[0;31m                             % (repr(estimator), type(estimator)))\n\u001b[0m\u001b[1;32m     59\u001b[0m     \u001b[0mklass\u001b[0m \u001b[0;34m=\u001b[0m \u001b[0mestimator\u001b[0m\u001b[0;34m.\u001b[0m\u001b[0m__class__\u001b[0m\u001b[0;34m\u001b[0m\u001b[0m\n\u001b[1;32m     60\u001b[0m     \u001b[0mnew_object_params\u001b[0m \u001b[0;34m=\u001b[0m \u001b[0mestimator\u001b[0m\u001b[0;34m.\u001b[0m\u001b[0mget_params\u001b[0m\u001b[0;34m(\u001b[0m\u001b[0mdeep\u001b[0m\u001b[0;34m=\u001b[0m\u001b[0;32mFalse\u001b[0m\u001b[0;34m)\u001b[0m\u001b[0;34m\u001b[0m\u001b[0m\n",
      "\u001b[0;31mTypeError\u001b[0m: Cannot clone object '<keras.engine.sequential.Sequential object at 0x7f52e0766d30>' (type <class 'keras.engine.sequential.Sequential'>): it does not seem to be a scikit-learn estimator as it does not implement a 'get_params' methods."
     ]
    }
   ],
   "source": [
    "# Initialising the NN\n",
    "model = Sequential()\n",
    "\n",
    "# layers\n",
    "model.add(Dense(units = 9, kernel_initializer = 'uniform', activation = 'relu', input_dim = len(features)))\n",
    "model.add(Dense(units = 9, kernel_initializer = 'uniform', activation = 'relu'))\n",
    "model.add(Dense(units = 5, kernel_initializer = 'uniform', activation = 'relu'))\n",
    "model.add(Dense(units = 1, kernel_initializer = 'uniform', activation = 'sigmoid'))\n",
    "\n",
    "# Compiling the ANN\n",
    "model.compile(optimizer = 'adam', loss = 'binary_crossentropy', metrics = ['accuracy'])\n",
    "\n",
    "estimador_1 = model\n",
    "estimador_2 = XGBRegressor(base_score=0.5, booster='gbtree', colsample_bylevel=1,\\\n",
    "       colsample_bytree=0.6, gamma=5, learning_rate=0.02, max_delta_step=0,\\\n",
    "       max_depth=5, min_child_weight=5, missing=None, n_estimators=600,\\\n",
    "       n_jobs=1, nthread=1, objective='binary:logistic', random_state=0,\\\n",
    "       reg_alpha=0, reg_lambda=1, scale_pos_weight=1, seed=None,\\\n",
    "       silent=True, subsample=1.0)\n",
    "\n",
    "estimadores = []\n",
    "estimadores.append(('NN', estimador_1))\n",
    "estimadores.append(('XGBRegressor', estimador_2))\n",
    "\n",
    "# Creamos el voting\n",
    "voting = VotingClassifier(estimators=estimadores)\n",
    "\n",
    "# Lo entrenamos con nuestro set de entrenamiento\n",
    "voting.fit(x_train, y_train)\n",
    "\n",
    "# Predecimos valores de nuestro set de datos\n",
    "pred = voting.predict(x_test)\n",
    "\n",
    "# Evaluamos la precisión\n",
    "precision = roc_auc_score(y_test, pred)\n",
    "\n",
    "print(\"Precisión: \", precision)\n"
   ]
  },
  {
   "cell_type": "markdown",
   "metadata": {},
   "source": [
    "### Test final"
   ]
  },
  {
   "cell_type": "markdown",
   "metadata": {},
   "source": [
    "#### Predicciones con valores binarios"
   ]
  },
  {
   "cell_type": "code",
   "execution_count": null,
   "metadata": {},
   "outputs": [],
   "source": [
    "t0 = time()\n",
    "\n",
    "# Creamos el voting\n",
    "voting = VotingClassifier(estimators=estimadores)\n",
    "\n",
    "# Lo entrenamos con la totalidad del set de datos\n",
    "voting.fit(x,y)\n",
    "\n",
    "# Predecimos las postulaciones del set final\n",
    "pred_final = voting.predict(x_test_final)\n",
    "\n",
    "tf = time() - t0\n",
    "print (\"Tiempo de ejecución: %0.5f seconds.\" % tf)"
   ]
  },
  {
   "cell_type": "markdown",
   "metadata": {},
   "source": [
    "### Submit file"
   ]
  },
  {
   "cell_type": "markdown",
   "metadata": {},
   "source": [
    "#### Submit con valores binarios"
   ]
  },
  {
   "cell_type": "code",
   "execution_count": null,
   "metadata": {},
   "outputs": [],
   "source": []
  },
  {
   "cell_type": "markdown",
   "metadata": {},
   "source": [
    "# ENSEMBLE"
   ]
  },
  {
   "cell_type": "code",
   "execution_count": 54,
   "metadata": {},
   "outputs": [],
   "source": [
    "xgb = XGBRegressor(base_score=0.5, booster='gbtree', colsample_bylevel=1,\\\n",
    "       colsample_bytree=0.6, gamma=5, learning_rate=0.02, max_delta_step=0,\\\n",
    "       max_depth=5, min_child_weight=5, missing=None, n_estimators=600,\\\n",
    "       n_jobs=1, nthread=1, objective='binary:logistic', random_state=0,\\\n",
    "       reg_alpha=0, reg_lambda=1, scale_pos_weight=1, seed=None,\\\n",
    "       silent=True, subsample=1.0)\n",
    "\n",
    "params_optimos_rf = {'n_estimators':50, 'max_features':'sqrt', 'max_depth':5, 'min_samples_split':2,\\\n",
    "                     'min_samples_leaf':2, 'bootstrap':True, 'oob_score':True, 'warm_start':True}\n",
    "\n",
    "random_forest = RandomForestRegressor(**params_optimos_rf)\n",
    "\n",
    "knn = KNeighborsRegressor(n_neighbors=65)\n",
    "\n",
    "params_optimos_gb = {'criterion': 'friedman_mse','learning_rate':0.2, 'n_estimators':10, 'max_depth':5,\\\n",
    "                     'min_samples_split':0.5,'min_samples_leaf':0.1, 'subsample':0.9, 'max_features':'sqrt',\\\n",
    "                     } #'loss': 'deviance'\n",
    "\n",
    "gra_boost = GradientBoostingRegressor(**params_optimos_gb)\n",
    "\n",
    "params_optimos_ab = {'n_estimators':50}\n",
    "\n",
    "\n",
    "ada_boost = AdaBoostRegressor(**params_optimos_ab)"
   ]
  },
  {
   "cell_type": "code",
   "execution_count": 55,
   "metadata": {},
   "outputs": [],
   "source": [
    "from sklearn.cross_validation import KFold\n",
    "# Some useful parameters which will come in handy later on\n",
    "ntrain = train.shape[0]\n",
    "ntest = test.shape[0]\n",
    "SEED = 0 # for reproducibility\n",
    "NFOLDS = 5 # set folds for out-of-fold prediction\n",
    "kf = KFold(ntrain, n_folds= NFOLDS, random_state=SEED)\n",
    "\n",
    "def get_oof(clf, x_train, y_train, x_test):\n",
    "    oof_train = np.zeros((ntrain,))\n",
    "    oof_test = np.zeros((ntest,))\n",
    "    oof_test_skf = np.empty((NFOLDS, ntest))\n",
    "\n",
    "    for i, (train_index, test_index) in enumerate(kf):\n",
    "        x_tr = x_train[train_index]\n",
    "        y_tr = y_train[train_index]\n",
    "        x_te = x_train[test_index]\n",
    "\n",
    "        clf.fit(x_tr, y_tr)\n",
    "\n",
    "        oof_train[test_index] = clf.predict(x_te)\n",
    "        oof_test_skf[i, :] = clf.predict(x_test)\n",
    "\n",
    "    oof_test[:] = oof_test_skf.mean(axis=0)\n",
    "    return oof_train.reshape(-1, 1), oof_test.reshape(-1, 1)"
   ]
  },
  {
   "cell_type": "code",
   "execution_count": 56,
   "metadata": {},
   "outputs": [
    {
     "name": "stdout",
     "output_type": "stream",
     "text": [
      "Tiempo de ejecución: 4.60493 minutes.\n"
     ]
    }
   ],
   "source": [
    "t0 = time()\n",
    "ada_oof_train, ada_oof_test = get_oof(ada_boost, x, y, x_test_final) # Ada\n",
    "rf_oof_train, rf_oof_test = get_oof(random_forest,x, y, x_test_final) # Random Forest\n",
    "knn_oof_train, knn_oof_test = get_oof(knn, x, y, x_test_final) # KNN \n",
    "gb_oof_train, gb_oof_test = get_oof(gra_boost,x, y, x_test_final) # Gradient Boost\n",
    "xgb_oof_train, xgb_oof_test = get_oof(xgb, x, y, x_test_final) # XGB\n",
    "tf = (time() - t0)/60\n",
    "print(\"Tiempo de ejecución: %0.5f minutes.\" % tf)"
   ]
  },
  {
   "cell_type": "code",
   "execution_count": 57,
   "metadata": {},
   "outputs": [
    {
     "data": {
      "text/html": [
       "<div>\n",
       "<style scoped>\n",
       "    .dataframe tbody tr th:only-of-type {\n",
       "        vertical-align: middle;\n",
       "    }\n",
       "\n",
       "    .dataframe tbody tr th {\n",
       "        vertical-align: top;\n",
       "    }\n",
       "\n",
       "    .dataframe thead th {\n",
       "        text-align: right;\n",
       "    }\n",
       "</style>\n",
       "<table border=\"1\" class=\"dataframe\">\n",
       "  <thead>\n",
       "    <tr style=\"text-align: right;\">\n",
       "      <th></th>\n",
       "      <th>RandomForest</th>\n",
       "      <th>Ada</th>\n",
       "      <th>KNN</th>\n",
       "      <th>GradientBoost</th>\n",
       "      <th>Xgb</th>\n",
       "    </tr>\n",
       "  </thead>\n",
       "  <tbody>\n",
       "    <tr>\n",
       "      <th>0</th>\n",
       "      <td>0.033605</td>\n",
       "      <td>0.008776</td>\n",
       "      <td>0.061538</td>\n",
       "      <td>0.041120</td>\n",
       "      <td>0.024746</td>\n",
       "    </tr>\n",
       "    <tr>\n",
       "      <th>1</th>\n",
       "      <td>0.103272</td>\n",
       "      <td>0.169923</td>\n",
       "      <td>0.000000</td>\n",
       "      <td>0.083632</td>\n",
       "      <td>0.108489</td>\n",
       "    </tr>\n",
       "    <tr>\n",
       "      <th>2</th>\n",
       "      <td>0.059701</td>\n",
       "      <td>0.008776</td>\n",
       "      <td>0.138462</td>\n",
       "      <td>0.083689</td>\n",
       "      <td>0.014804</td>\n",
       "    </tr>\n",
       "    <tr>\n",
       "      <th>3</th>\n",
       "      <td>0.157759</td>\n",
       "      <td>0.169923</td>\n",
       "      <td>0.076923</td>\n",
       "      <td>0.106277</td>\n",
       "      <td>0.211018</td>\n",
       "    </tr>\n",
       "    <tr>\n",
       "      <th>4</th>\n",
       "      <td>0.014613</td>\n",
       "      <td>0.008776</td>\n",
       "      <td>0.000000</td>\n",
       "      <td>0.017356</td>\n",
       "      <td>0.008419</td>\n",
       "    </tr>\n",
       "  </tbody>\n",
       "</table>\n",
       "</div>"
      ],
      "text/plain": [
       "   RandomForest       Ada       KNN  GradientBoost       Xgb\n",
       "0      0.033605  0.008776  0.061538       0.041120  0.024746\n",
       "1      0.103272  0.169923  0.000000       0.083632  0.108489\n",
       "2      0.059701  0.008776  0.138462       0.083689  0.014804\n",
       "3      0.157759  0.169923  0.076923       0.106277  0.211018\n",
       "4      0.014613  0.008776  0.000000       0.017356  0.008419"
      ]
     },
     "execution_count": 57,
     "metadata": {},
     "output_type": "execute_result"
    }
   ],
   "source": [
    "base_predictions_train = pd.DataFrame( {'RandomForest': rf_oof_train.ravel(),\n",
    "     'Ada': ada_oof_train.ravel(),\n",
    "     'KNN': knn_oof_train.ravel(),\n",
    "      'GradientBoost': gb_oof_train.ravel(),\n",
    "        'Xgb' : xgb_oof_train.ravel()\n",
    "    })\n",
    "base_predictions_train.head()"
   ]
  },
  {
   "cell_type": "code",
   "execution_count": 58,
   "metadata": {},
   "outputs": [
    {
     "data": {
      "application/vnd.plotly.v1+json": {
       "data": [
        {
         "colorscale": "Portland",
         "reversescale": true,
         "showscale": true,
         "type": "heatmap",
         "uid": "31c935ba-f995-11e8-a5c6-f3f288c306a8",
         "x": [
          "RandomForest",
          "Ada",
          "KNN",
          "GradientBoost",
          "Xgb"
         ],
         "y": [
          "RandomForest",
          "Ada",
          "KNN",
          "GradientBoost",
          "Xgb"
         ],
         "z": [
          [
           1,
           0.7315496756875131,
           0.7154303691170965,
           0.8368929918701741,
           0.9241338848062565
          ],
          [
           0.7315496756875131,
           1,
           0.5111119941123902,
           0.6152970156650094,
           0.7604925003949682
          ],
          [
           0.7154303691170965,
           0.5111119941123902,
           1,
           0.7434936483009861,
           0.6296341507668707
          ],
          [
           0.8368929918701741,
           0.6152970156650094,
           0.7434936483009861,
           1,
           0.7792460114767245
          ],
          [
           0.9241338848062565,
           0.7604925003949682,
           0.6296341507668707,
           0.7792460114767245,
           1
          ]
         ]
        }
       ],
       "layout": {}
      }
     },
     "metadata": {},
     "output_type": "display_data"
    }
   ],
   "source": [
    "import plotly.graph_objs as go\n",
    "import plotly.offline as py\n",
    "\n",
    "data = [\n",
    "    go.Heatmap(\n",
    "        z= base_predictions_train.astype(float).corr().values ,\n",
    "        x=base_predictions_train.columns.values,\n",
    "        y= base_predictions_train.columns.values,\n",
    "          colorscale='Portland',\n",
    "            showscale=True,\n",
    "            reversescale = True\n",
    "    )\n",
    "]\n",
    "py.iplot(data, filename='labelled-heatmap')"
   ]
  },
  {
   "cell_type": "code",
   "execution_count": 59,
   "metadata": {},
   "outputs": [
    {
     "data": {
      "text/plain": [
       "[Heatmap({\n",
       "     'colorscale': 'Portland',\n",
       "     'reversescale': True,\n",
       "     'showscale': True,\n",
       "     'x': array(['RandomForest', 'Ada', 'KNN', 'GradientBoost', 'Xgb'], dtype=object),\n",
       "     'y': array(['RandomForest', 'Ada', 'KNN', 'GradientBoost', 'Xgb'], dtype=object),\n",
       "     'z': array([[1.        , 0.73154968, 0.71543037, 0.83689299, 0.92413388],\n",
       "                 [0.73154968, 1.        , 0.51111199, 0.61529702, 0.7604925 ],\n",
       "                 [0.71543037, 0.51111199, 1.        , 0.74349365, 0.62963415],\n",
       "                 [0.83689299, 0.61529702, 0.74349365, 1.        , 0.77924601],\n",
       "                 [0.92413388, 0.7604925 , 0.62963415, 0.77924601, 1.        ]])\n",
       " })]"
      ]
     },
     "execution_count": 59,
     "metadata": {},
     "output_type": "execute_result"
    }
   ],
   "source": [
    "data"
   ]
  },
  {
   "cell_type": "code",
   "execution_count": 60,
   "metadata": {},
   "outputs": [],
   "source": [
    "x_train = np.concatenate(( ada_oof_train, rf_oof_train, knn_oof_train, gb_oof_train,xgb_oof_train), axis=1)\n",
    "x_test = np.concatenate(( ada_oof_test, rf_oof_test, knn_oof_test, gb_oof_test,xgb_oof_test), axis=1)"
   ]
  },
  {
   "cell_type": "code",
   "execution_count": 61,
   "metadata": {},
   "outputs": [],
   "source": [
    "X = x_train\n",
    "y = y\n",
    "y_mean = np.mean(y)"
   ]
  },
  {
   "cell_type": "code",
   "execution_count": 62,
   "metadata": {},
   "outputs": [],
   "source": [
    "from sklearn.model_selection import train_test_split\n",
    "import xgboost as xgb\n",
    "\n",
    "\n",
    "Xtr, Xv, ytr, yv = train_test_split(X, y, test_size=0.2, random_state=2000)\n",
    "\n",
    "dtrain = xgb.DMatrix(Xtr, label=ytr)\n",
    "dvalid = xgb.DMatrix(Xv, label=yv)\n",
    "\n",
    "watchlist = [(dtrain, 'train'), (dvalid, 'valid')]\n",
    "\n",
    "xgb_params = {\n",
    "    'booster':'gbtree',\n",
    "    'colsample_bylevel':1,\n",
    "    'colsample_bytree':0.6,\n",
    "    'gamma':5,\n",
    "    'learning_rate':0.02,\n",
    "    'max_delta_step':0,\n",
    "    'min_child_weight':5,\n",
    "    'missing':None,\n",
    "    'n_estimators':600,\n",
    "    'objective':'binary:logistic',\n",
    "    'max_depth': 5,\n",
    "    'subsample': 1.0,\n",
    "    'scale_pos_weight': 1,\n",
    "    'random_state':0,\n",
    "    'reg_lambda':1,\n",
    "    'reg_alpha':0,\n",
    "    'nthread': 1,    \n",
    "    'n_jobs': 1,\n",
    "    'silent': True,\n",
    "    'base_score':0.5,\n",
    "}"
   ]
  },
  {
   "cell_type": "code",
   "execution_count": 63,
   "metadata": {
    "scrolled": true
   },
   "outputs": [
    {
     "name": "stdout",
     "output_type": "stream",
     "text": [
      "[0]\ttrain-error:0.049063\tvalid-error:0.056142\n",
      "Multiple eval metrics have been passed: 'valid-error' will be used for early stopping.\n",
      "\n",
      "Will train until valid-error hasn't improved in 5000 rounds.\n",
      "[15]\ttrain-error:0.047518\tvalid-error:0.05537\n",
      "[30]\ttrain-error:0.047518\tvalid-error:0.05537\n",
      "[45]\ttrain-error:0.046166\tvalid-error:0.055112\n",
      "[60]\ttrain-error:0.045908\tvalid-error:0.053567\n",
      "[75]\ttrain-error:0.045908\tvalid-error:0.053309\n",
      "[90]\ttrain-error:0.045973\tvalid-error:0.053052\n",
      "[105]\ttrain-error:0.045973\tvalid-error:0.053309\n",
      "[120]\ttrain-error:0.045779\tvalid-error:0.053052\n",
      "[135]\ttrain-error:0.045651\tvalid-error:0.052537\n",
      "[150]\ttrain-error:0.045522\tvalid-error:0.052537\n",
      "[165]\ttrain-error:0.045586\tvalid-error:0.052794\n",
      "[180]\ttrain-error:0.045586\tvalid-error:0.052794\n",
      "[195]\ttrain-error:0.045586\tvalid-error:0.052794\n",
      "[210]\ttrain-error:0.045522\tvalid-error:0.052794\n",
      "[225]\ttrain-error:0.045522\tvalid-error:0.052794\n",
      "[240]\ttrain-error:0.045457\tvalid-error:0.052794\n",
      "[255]\ttrain-error:0.045457\tvalid-error:0.052794\n",
      "[270]\ttrain-error:0.045457\tvalid-error:0.052794\n",
      "[285]\ttrain-error:0.045457\tvalid-error:0.052794\n",
      "[300]\ttrain-error:0.045457\tvalid-error:0.052794\n",
      "[315]\ttrain-error:0.045457\tvalid-error:0.052794\n",
      "[330]\ttrain-error:0.045457\tvalid-error:0.052794\n",
      "[345]\ttrain-error:0.045457\tvalid-error:0.052794\n",
      "[360]\ttrain-error:0.045457\tvalid-error:0.052794\n",
      "[375]\ttrain-error:0.045457\tvalid-error:0.052794\n",
      "[390]\ttrain-error:0.045457\tvalid-error:0.052794\n",
      "[405]\ttrain-error:0.045457\tvalid-error:0.052794\n",
      "[420]\ttrain-error:0.045457\tvalid-error:0.052794\n",
      "[435]\ttrain-error:0.045457\tvalid-error:0.052794\n",
      "[450]\ttrain-error:0.045457\tvalid-error:0.052794\n",
      "[465]\ttrain-error:0.045457\tvalid-error:0.052794\n",
      "[480]\ttrain-error:0.045457\tvalid-error:0.052794\n",
      "[495]\ttrain-error:0.045457\tvalid-error:0.052794\n",
      "[510]\ttrain-error:0.045457\tvalid-error:0.052794\n",
      "[525]\ttrain-error:0.045457\tvalid-error:0.052794\n",
      "[540]\ttrain-error:0.045457\tvalid-error:0.052794\n",
      "[555]\ttrain-error:0.045457\tvalid-error:0.052794\n",
      "[570]\ttrain-error:0.045457\tvalid-error:0.052794\n",
      "[585]\ttrain-error:0.045457\tvalid-error:0.052794\n",
      "[600]\ttrain-error:0.045457\tvalid-error:0.052794\n",
      "[615]\ttrain-error:0.045457\tvalid-error:0.052794\n",
      "[630]\ttrain-error:0.045457\tvalid-error:0.052794\n",
      "[645]\ttrain-error:0.045457\tvalid-error:0.052794\n",
      "[660]\ttrain-error:0.045457\tvalid-error:0.052794\n",
      "[675]\ttrain-error:0.045457\tvalid-error:0.052794\n",
      "[690]\ttrain-error:0.045457\tvalid-error:0.052794\n",
      "[705]\ttrain-error:0.045457\tvalid-error:0.052794\n",
      "[720]\ttrain-error:0.045457\tvalid-error:0.052794\n",
      "[735]\ttrain-error:0.045457\tvalid-error:0.052794\n",
      "[750]\ttrain-error:0.045457\tvalid-error:0.052794\n",
      "[765]\ttrain-error:0.045457\tvalid-error:0.052794\n",
      "[780]\ttrain-error:0.045457\tvalid-error:0.052794\n",
      "[795]\ttrain-error:0.045457\tvalid-error:0.052794\n",
      "[810]\ttrain-error:0.045457\tvalid-error:0.052794\n",
      "[825]\ttrain-error:0.045457\tvalid-error:0.052794\n",
      "[840]\ttrain-error:0.045457\tvalid-error:0.052794\n",
      "[855]\ttrain-error:0.045457\tvalid-error:0.052794\n",
      "[870]\ttrain-error:0.045457\tvalid-error:0.052794\n",
      "[885]\ttrain-error:0.045457\tvalid-error:0.052794\n",
      "[900]\ttrain-error:0.045457\tvalid-error:0.052794\n",
      "[915]\ttrain-error:0.045457\tvalid-error:0.052794\n",
      "[930]\ttrain-error:0.045457\tvalid-error:0.052794\n",
      "[945]\ttrain-error:0.045457\tvalid-error:0.052794\n",
      "[960]\ttrain-error:0.045457\tvalid-error:0.052794\n",
      "[975]\ttrain-error:0.045457\tvalid-error:0.052794\n",
      "[990]\ttrain-error:0.045457\tvalid-error:0.052794\n",
      "[1005]\ttrain-error:0.045457\tvalid-error:0.052794\n",
      "[1020]\ttrain-error:0.045457\tvalid-error:0.052794\n",
      "[1035]\ttrain-error:0.045457\tvalid-error:0.052794\n",
      "[1050]\ttrain-error:0.045457\tvalid-error:0.052794\n",
      "[1065]\ttrain-error:0.045457\tvalid-error:0.052794\n",
      "[1080]\ttrain-error:0.045457\tvalid-error:0.052794\n",
      "[1095]\ttrain-error:0.045457\tvalid-error:0.052794\n",
      "[1110]\ttrain-error:0.045457\tvalid-error:0.052794\n",
      "[1125]\ttrain-error:0.045457\tvalid-error:0.052794\n",
      "[1140]\ttrain-error:0.045457\tvalid-error:0.052794\n",
      "[1155]\ttrain-error:0.045457\tvalid-error:0.052794\n",
      "[1170]\ttrain-error:0.045457\tvalid-error:0.052794\n",
      "[1185]\ttrain-error:0.045457\tvalid-error:0.052794\n",
      "[1200]\ttrain-error:0.045457\tvalid-error:0.052794\n",
      "[1215]\ttrain-error:0.045457\tvalid-error:0.052794\n",
      "[1230]\ttrain-error:0.045457\tvalid-error:0.052794\n",
      "[1245]\ttrain-error:0.045457\tvalid-error:0.052794\n",
      "[1260]\ttrain-error:0.045457\tvalid-error:0.052794\n",
      "[1275]\ttrain-error:0.045457\tvalid-error:0.052794\n",
      "[1290]\ttrain-error:0.045457\tvalid-error:0.052794\n",
      "[1305]\ttrain-error:0.045457\tvalid-error:0.052794\n",
      "[1320]\ttrain-error:0.045457\tvalid-error:0.052794\n",
      "[1335]\ttrain-error:0.045457\tvalid-error:0.052794\n",
      "[1350]\ttrain-error:0.045457\tvalid-error:0.052794\n",
      "[1365]\ttrain-error:0.045457\tvalid-error:0.052794\n",
      "[1380]\ttrain-error:0.045457\tvalid-error:0.052794\n",
      "[1395]\ttrain-error:0.045457\tvalid-error:0.052794\n",
      "[1410]\ttrain-error:0.045457\tvalid-error:0.052794\n",
      "[1425]\ttrain-error:0.045457\tvalid-error:0.052794\n",
      "[1440]\ttrain-error:0.045457\tvalid-error:0.052794\n",
      "[1455]\ttrain-error:0.045457\tvalid-error:0.052794\n",
      "[1470]\ttrain-error:0.045457\tvalid-error:0.052794\n",
      "[1485]\ttrain-error:0.045457\tvalid-error:0.052794\n",
      "[1500]\ttrain-error:0.045457\tvalid-error:0.052794\n",
      "[1515]\ttrain-error:0.045457\tvalid-error:0.052794\n",
      "[1530]\ttrain-error:0.045457\tvalid-error:0.052794\n",
      "[1545]\ttrain-error:0.045457\tvalid-error:0.052794\n",
      "[1560]\ttrain-error:0.045457\tvalid-error:0.052794\n",
      "[1575]\ttrain-error:0.045457\tvalid-error:0.052794\n",
      "[1590]\ttrain-error:0.045457\tvalid-error:0.052794\n",
      "[1605]\ttrain-error:0.045457\tvalid-error:0.052794\n",
      "[1620]\ttrain-error:0.045457\tvalid-error:0.052794\n",
      "[1635]\ttrain-error:0.045457\tvalid-error:0.052794\n",
      "[1650]\ttrain-error:0.045457\tvalid-error:0.052794\n",
      "[1665]\ttrain-error:0.045457\tvalid-error:0.052794\n",
      "[1680]\ttrain-error:0.045457\tvalid-error:0.052794\n",
      "[1695]\ttrain-error:0.045457\tvalid-error:0.052794\n",
      "[1710]\ttrain-error:0.045457\tvalid-error:0.052794\n",
      "[1725]\ttrain-error:0.045457\tvalid-error:0.052794\n",
      "[1740]\ttrain-error:0.045457\tvalid-error:0.052794\n",
      "[1755]\ttrain-error:0.045457\tvalid-error:0.052794\n",
      "[1770]\ttrain-error:0.045457\tvalid-error:0.052794\n",
      "[1785]\ttrain-error:0.045457\tvalid-error:0.052794\n",
      "[1800]\ttrain-error:0.045457\tvalid-error:0.052794\n",
      "[1815]\ttrain-error:0.045457\tvalid-error:0.052794\n",
      "[1830]\ttrain-error:0.045457\tvalid-error:0.052794\n",
      "[1845]\ttrain-error:0.045457\tvalid-error:0.052794\n",
      "[1860]\ttrain-error:0.045457\tvalid-error:0.052794\n",
      "[1875]\ttrain-error:0.045457\tvalid-error:0.052794\n",
      "[1890]\ttrain-error:0.045457\tvalid-error:0.052794\n",
      "[1905]\ttrain-error:0.045457\tvalid-error:0.052794\n",
      "[1920]\ttrain-error:0.045457\tvalid-error:0.052794\n",
      "[1935]\ttrain-error:0.045457\tvalid-error:0.052794\n",
      "[1950]\ttrain-error:0.045457\tvalid-error:0.052794\n",
      "[1965]\ttrain-error:0.045457\tvalid-error:0.052794\n",
      "[1980]\ttrain-error:0.045457\tvalid-error:0.052794\n",
      "[1995]\ttrain-error:0.045457\tvalid-error:0.052794\n",
      "[1999]\ttrain-error:0.045457\tvalid-error:0.052794\n"
     ]
    }
   ],
   "source": [
    "model_xgb = xgb.train(xgb_params, dtrain, 2000, watchlist, early_stopping_rounds=5000,\n",
    "                  maximize=False, verbose_eval=15)"
   ]
  },
  {
   "cell_type": "code",
   "execution_count": 64,
   "metadata": {},
   "outputs": [],
   "source": [
    "dtest = xgb.DMatrix(x_test)\n",
    "predicted_test_xgb = model_xgb.predict(dtest)"
   ]
  },
  {
   "cell_type": "code",
   "execution_count": 65,
   "metadata": {},
   "outputs": [],
   "source": [
    "def border_submit(x):\n",
    "    if x>1:\n",
    "        return 1\n",
    "    elif x<0:\n",
    "        return 0\n",
    "    else: return x"
   ]
  },
  {
   "cell_type": "code",
   "execution_count": 66,
   "metadata": {},
   "outputs": [],
   "source": [
    "person = np.array(test['person'])\n",
    "person =person.reshape((19415,1))\n",
    "submit = pd.DataFrame(data=np.column_stack((person,predicted_test_xgb)),columns=['person','label'])\n",
    "submit['label'] = submit['label'].apply(lambda x: border_submit(x))\n",
    "submit.to_csv('submit_ensemble.csv', index=False)"
   ]
  },
  {
   "cell_type": "markdown",
   "metadata": {},
   "source": [
    " "
   ]
  }
 ],
 "metadata": {
  "kernelspec": {
   "display_name": "Python 3",
   "language": "python",
   "name": "python3"
  },
  "language_info": {
   "codemirror_mode": {
    "name": "ipython",
    "version": 3
   },
   "file_extension": ".py",
   "mimetype": "text/x-python",
   "name": "python",
   "nbconvert_exporter": "python",
   "pygments_lexer": "ipython3",
   "version": "3.6.6"
  }
 },
 "nbformat": 4,
 "nbformat_minor": 2
}
