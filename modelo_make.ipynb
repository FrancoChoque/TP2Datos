{
 "cells": [
  {
   "cell_type": "markdown",
   "metadata": {},
   "source": [
    "# Importación de librerías"
   ]
  },
  {
   "cell_type": "code",
   "execution_count": 1,
   "metadata": {},
   "outputs": [],
   "source": [
    "import pandas as pd\n",
    "import numpy as np\n",
    "import matplotlib.pyplot as plt\n",
    "import seaborn as sns\n",
    "from datetime import datetime\n",
    "import time\n",
    "\n",
    "from time import time\n",
    "\n",
    "%matplotlib inline\n",
    "%matplotlib notebook\n",
    "plt.style.use('default')"
   ]
  },
  {
   "cell_type": "code",
   "execution_count": 2,
   "metadata": {},
   "outputs": [],
   "source": [
    "datos = pd.read_csv(\"events_up_to_01062018.csv\",low_memory=False)\n"
   ]
  },
  {
   "cell_type": "markdown",
   "metadata": {},
   "source": [
    "Se crea la columna quincena, para poder obtener features por quincena del año."
   ]
  },
  {
   "cell_type": "code",
   "execution_count": 3,
   "metadata": {},
   "outputs": [],
   "source": [
    "datos['timestamp'] = pd.to_datetime(datos['timestamp'])\n",
    "dia = datos['timestamp'].dt.day\n",
    "mes = datos['timestamp'].dt.month\n",
    "\n",
    "quincenas = [False,0,2,4,6,8,10]\n",
    "\n",
    "mes_num_q = mes.apply(lambda x: quincenas[x])\n",
    "\n",
    "dia = dia.apply(lambda x: 0 if x<16 else 1)\n",
    "\n",
    "datos['quincena'] = dia + mes_num_q"
   ]
  },
  {
   "cell_type": "markdown",
   "metadata": {},
   "source": [
    "Durante el uso de logueos (new_vs_returning), se encontraron falta de fechas de registros de los usuarios."
   ]
  },
  {
   "cell_type": "code",
   "execution_count": 4,
   "metadata": {},
   "outputs": [],
   "source": [
    "personas = datos[['person','new_vs_returning']]\n",
    "personas = personas.loc[personas['new_vs_returning'] == 'New']"
   ]
  },
  {
   "cell_type": "code",
   "execution_count": 5,
   "metadata": {},
   "outputs": [
    {
     "name": "stdout",
     "output_type": "stream",
     "text": [
      "Sin fecha registro :  587\n"
     ]
    }
   ],
   "source": [
    "usuariosyregistros = datos[['person','timestamp']].sort_values(by=['person','timestamp'],ascending = True)\\\n",
    "                                                .drop_duplicates('person').merge(personas,on='person',how='left')                                                                                \n",
    "print('Sin fecha registro : ',usuariosyregistros.new_vs_returning.isnull().sum())\n",
    "usuariosyregistros.fillna('New',inplace=True)"
   ]
  },
  {
   "cell_type": "markdown",
   "metadata": {},
   "source": [
    "Se utiliza el primer evento según timestamp como nueva fecha de registro."
   ]
  },
  {
   "cell_type": "code",
   "execution_count": 6,
   "metadata": {},
   "outputs": [
    {
     "name": "stdout",
     "output_type": "stream",
     "text": [
      "Sin registro:  0\n"
     ]
    }
   ],
   "source": [
    "datos = pd.merge(datos,usuariosyregistros,how='left',on=['person','timestamp'])\n",
    "print('Sin registro: ',datos[['person','new_vs_returning_y']].sort_values(by='new_vs_returning_y')\\\n",
    "                                            .drop_duplicates('person').new_vs_returning_y.isnull().sum())\n",
    "datos = datos.rename(columns={'new_vs_returning_y':'new_vs_returning'}).drop(columns='new_vs_returning_x')"
   ]
  },
  {
   "cell_type": "markdown",
   "metadata": {},
   "source": [
    "# Operaciones con el dataframe"
   ]
  },
  {
   "cell_type": "markdown",
   "metadata": {},
   "source": [
    "### 1: Cantidad de cada evento de cada persona"
   ]
  },
  {
   "cell_type": "code",
   "execution_count": 7,
   "metadata": {},
   "outputs": [],
   "source": [
    "eventosPersona = datos[['person','event','timestamp']]\n",
    "eventosPersona = eventosPersona.groupby(['person','event']).agg({'timestamp':'count'})\n",
    "eventosPersona = eventosPersona.unstack(-1)\n",
    "eventosPersona.columns = eventosPersona.columns.droplevel(0)\n",
    "eventosPersona = eventosPersona.reset_index()\n",
    "eventosPersona.fillna(0,inplace=True)"
   ]
  },
  {
   "cell_type": "markdown",
   "metadata": {},
   "source": [
    "Mismos features pero por quincena:"
   ]
  },
  {
   "cell_type": "code",
   "execution_count": 8,
   "metadata": {},
   "outputs": [
    {
     "data": {
      "text/html": [
       "<div>\n",
       "<style scoped>\n",
       "    .dataframe tbody tr th:only-of-type {\n",
       "        vertical-align: middle;\n",
       "    }\n",
       "\n",
       "    .dataframe tbody tr th {\n",
       "        vertical-align: top;\n",
       "    }\n",
       "\n",
       "    .dataframe thead tr th {\n",
       "        text-align: left;\n",
       "    }\n",
       "\n",
       "    .dataframe thead tr:last-of-type th {\n",
       "        text-align: right;\n",
       "    }\n",
       "</style>\n",
       "<table border=\"1\" class=\"dataframe\">\n",
       "  <thead>\n",
       "    <tr>\n",
       "      <th>event</th>\n",
       "      <th colspan=\"10\" halign=\"left\">ad campaign hit</th>\n",
       "      <th>...</th>\n",
       "      <th colspan=\"10\" halign=\"left\">visited site</th>\n",
       "    </tr>\n",
       "    <tr>\n",
       "      <th>quincena</th>\n",
       "      <th>0</th>\n",
       "      <th>1</th>\n",
       "      <th>2</th>\n",
       "      <th>3</th>\n",
       "      <th>4</th>\n",
       "      <th>5</th>\n",
       "      <th>6</th>\n",
       "      <th>7</th>\n",
       "      <th>8</th>\n",
       "      <th>9</th>\n",
       "      <th>...</th>\n",
       "      <th>0</th>\n",
       "      <th>1</th>\n",
       "      <th>2</th>\n",
       "      <th>3</th>\n",
       "      <th>4</th>\n",
       "      <th>5</th>\n",
       "      <th>6</th>\n",
       "      <th>7</th>\n",
       "      <th>8</th>\n",
       "      <th>9</th>\n",
       "    </tr>\n",
       "    <tr>\n",
       "      <th>person</th>\n",
       "      <th></th>\n",
       "      <th></th>\n",
       "      <th></th>\n",
       "      <th></th>\n",
       "      <th></th>\n",
       "      <th></th>\n",
       "      <th></th>\n",
       "      <th></th>\n",
       "      <th></th>\n",
       "      <th></th>\n",
       "      <th></th>\n",
       "      <th></th>\n",
       "      <th></th>\n",
       "      <th></th>\n",
       "      <th></th>\n",
       "      <th></th>\n",
       "      <th></th>\n",
       "      <th></th>\n",
       "      <th></th>\n",
       "      <th></th>\n",
       "      <th></th>\n",
       "    </tr>\n",
       "  </thead>\n",
       "  <tbody>\n",
       "    <tr>\n",
       "      <th>0008ed71</th>\n",
       "      <td>NaN</td>\n",
       "      <td>NaN</td>\n",
       "      <td>NaN</td>\n",
       "      <td>NaN</td>\n",
       "      <td>NaN</td>\n",
       "      <td>NaN</td>\n",
       "      <td>NaN</td>\n",
       "      <td>NaN</td>\n",
       "      <td>NaN</td>\n",
       "      <td>NaN</td>\n",
       "      <td>...</td>\n",
       "      <td>NaN</td>\n",
       "      <td>NaN</td>\n",
       "      <td>NaN</td>\n",
       "      <td>NaN</td>\n",
       "      <td>NaN</td>\n",
       "      <td>NaN</td>\n",
       "      <td>NaN</td>\n",
       "      <td>NaN</td>\n",
       "      <td>NaN</td>\n",
       "      <td>2.0</td>\n",
       "    </tr>\n",
       "    <tr>\n",
       "      <th>00091926</th>\n",
       "      <td>NaN</td>\n",
       "      <td>NaN</td>\n",
       "      <td>NaN</td>\n",
       "      <td>NaN</td>\n",
       "      <td>NaN</td>\n",
       "      <td>NaN</td>\n",
       "      <td>NaN</td>\n",
       "      <td>NaN</td>\n",
       "      <td>4.0</td>\n",
       "      <td>11.0</td>\n",
       "      <td>...</td>\n",
       "      <td>NaN</td>\n",
       "      <td>NaN</td>\n",
       "      <td>NaN</td>\n",
       "      <td>NaN</td>\n",
       "      <td>NaN</td>\n",
       "      <td>NaN</td>\n",
       "      <td>NaN</td>\n",
       "      <td>NaN</td>\n",
       "      <td>18.0</td>\n",
       "      <td>16.0</td>\n",
       "    </tr>\n",
       "    <tr>\n",
       "      <th>00091a7a</th>\n",
       "      <td>NaN</td>\n",
       "      <td>NaN</td>\n",
       "      <td>NaN</td>\n",
       "      <td>NaN</td>\n",
       "      <td>NaN</td>\n",
       "      <td>1.0</td>\n",
       "      <td>NaN</td>\n",
       "      <td>NaN</td>\n",
       "      <td>NaN</td>\n",
       "      <td>NaN</td>\n",
       "      <td>...</td>\n",
       "      <td>NaN</td>\n",
       "      <td>NaN</td>\n",
       "      <td>NaN</td>\n",
       "      <td>NaN</td>\n",
       "      <td>NaN</td>\n",
       "      <td>1.0</td>\n",
       "      <td>NaN</td>\n",
       "      <td>NaN</td>\n",
       "      <td>NaN</td>\n",
       "      <td>NaN</td>\n",
       "    </tr>\n",
       "    <tr>\n",
       "      <th>000ba417</th>\n",
       "      <td>NaN</td>\n",
       "      <td>NaN</td>\n",
       "      <td>NaN</td>\n",
       "      <td>NaN</td>\n",
       "      <td>NaN</td>\n",
       "      <td>NaN</td>\n",
       "      <td>NaN</td>\n",
       "      <td>NaN</td>\n",
       "      <td>NaN</td>\n",
       "      <td>1.0</td>\n",
       "      <td>...</td>\n",
       "      <td>NaN</td>\n",
       "      <td>NaN</td>\n",
       "      <td>NaN</td>\n",
       "      <td>NaN</td>\n",
       "      <td>NaN</td>\n",
       "      <td>NaN</td>\n",
       "      <td>NaN</td>\n",
       "      <td>NaN</td>\n",
       "      <td>NaN</td>\n",
       "      <td>6.0</td>\n",
       "    </tr>\n",
       "    <tr>\n",
       "      <th>000c79fe</th>\n",
       "      <td>NaN</td>\n",
       "      <td>NaN</td>\n",
       "      <td>NaN</td>\n",
       "      <td>NaN</td>\n",
       "      <td>NaN</td>\n",
       "      <td>NaN</td>\n",
       "      <td>NaN</td>\n",
       "      <td>NaN</td>\n",
       "      <td>NaN</td>\n",
       "      <td>1.0</td>\n",
       "      <td>...</td>\n",
       "      <td>NaN</td>\n",
       "      <td>NaN</td>\n",
       "      <td>NaN</td>\n",
       "      <td>NaN</td>\n",
       "      <td>NaN</td>\n",
       "      <td>NaN</td>\n",
       "      <td>NaN</td>\n",
       "      <td>NaN</td>\n",
       "      <td>NaN</td>\n",
       "      <td>1.0</td>\n",
       "    </tr>\n",
       "  </tbody>\n",
       "</table>\n",
       "<p>5 rows × 110 columns</p>\n",
       "</div>"
      ],
      "text/plain": [
       "event    ad campaign hit                                          ...   \\\n",
       "quincena               0   1   2   3   4    5   6   7    8     9  ...    \n",
       "person                                                            ...    \n",
       "0008ed71             NaN NaN NaN NaN NaN  NaN NaN NaN  NaN   NaN  ...    \n",
       "00091926             NaN NaN NaN NaN NaN  NaN NaN NaN  4.0  11.0  ...    \n",
       "00091a7a             NaN NaN NaN NaN NaN  1.0 NaN NaN  NaN   NaN  ...    \n",
       "000ba417             NaN NaN NaN NaN NaN  NaN NaN NaN  NaN   1.0  ...    \n",
       "000c79fe             NaN NaN NaN NaN NaN  NaN NaN NaN  NaN   1.0  ...    \n",
       "\n",
       "event    visited site                                           \n",
       "quincena            0   1   2   3   4    5   6   7     8     9  \n",
       "person                                                          \n",
       "0008ed71          NaN NaN NaN NaN NaN  NaN NaN NaN   NaN   2.0  \n",
       "00091926          NaN NaN NaN NaN NaN  NaN NaN NaN  18.0  16.0  \n",
       "00091a7a          NaN NaN NaN NaN NaN  1.0 NaN NaN   NaN   NaN  \n",
       "000ba417          NaN NaN NaN NaN NaN  NaN NaN NaN   NaN   6.0  \n",
       "000c79fe          NaN NaN NaN NaN NaN  NaN NaN NaN   NaN   1.0  \n",
       "\n",
       "[5 rows x 110 columns]"
      ]
     },
     "execution_count": 8,
     "metadata": {},
     "output_type": "execute_result"
    }
   ],
   "source": [
    "eventosPersonaQ = datos[['person','event','quincena','timestamp']]\n",
    "eventosPersonaQ = eventosPersonaQ.groupby(['person','event','quincena']).agg({'timestamp':'count'})\n",
    "eventosPersonaQ = eventosPersonaQ.unstack('event')\n",
    "eventosPersonaQ.columns = eventosPersonaQ.columns.droplevel(0)\n",
    "eventosPersonaQ = eventosPersonaQ.unstack(-1)\n",
    "eventosPersonaQ.head()"
   ]
  },
  {
   "cell_type": "markdown",
   "metadata": {},
   "source": [
    "Se recorre eventosPersonaQ[i] adecuando los nombres de las columnas y mergeando en aux.\n",
    "\n",
    "Por ej. eventosPersonQ['ad campaign hit'] se realiza un rename de las 10 columnas a 'ad_campaign_hit_'+str(j), siendo j del 0 al 9."
   ]
  },
  {
   "cell_type": "code",
   "execution_count": 9,
   "metadata": {},
   "outputs": [
    {
     "data": {
      "text/html": [
       "<div>\n",
       "<style scoped>\n",
       "    .dataframe tbody tr th:only-of-type {\n",
       "        vertical-align: middle;\n",
       "    }\n",
       "\n",
       "    .dataframe tbody tr th {\n",
       "        vertical-align: top;\n",
       "    }\n",
       "\n",
       "    .dataframe thead th {\n",
       "        text-align: right;\n",
       "    }\n",
       "</style>\n",
       "<table border=\"1\" class=\"dataframe\">\n",
       "  <thead>\n",
       "    <tr style=\"text-align: right;\">\n",
       "      <th></th>\n",
       "      <th>person</th>\n",
       "      <th>viewed product_0</th>\n",
       "      <th>viewed product_1</th>\n",
       "      <th>viewed product_2</th>\n",
       "      <th>viewed product_3</th>\n",
       "      <th>viewed product_4</th>\n",
       "      <th>viewed product_5</th>\n",
       "      <th>viewed product_6</th>\n",
       "      <th>viewed product_7</th>\n",
       "      <th>viewed product_8</th>\n",
       "      <th>...</th>\n",
       "      <th>lead_0</th>\n",
       "      <th>lead_1</th>\n",
       "      <th>lead_2</th>\n",
       "      <th>lead_3</th>\n",
       "      <th>lead_4</th>\n",
       "      <th>lead_5</th>\n",
       "      <th>lead_6</th>\n",
       "      <th>lead_7</th>\n",
       "      <th>lead_8</th>\n",
       "      <th>lead_9</th>\n",
       "    </tr>\n",
       "  </thead>\n",
       "  <tbody>\n",
       "    <tr>\n",
       "      <th>0</th>\n",
       "      <td>4886f805</td>\n",
       "      <td>0.0</td>\n",
       "      <td>0.0</td>\n",
       "      <td>0.0</td>\n",
       "      <td>0.0</td>\n",
       "      <td>0.0</td>\n",
       "      <td>0.0</td>\n",
       "      <td>0.0</td>\n",
       "      <td>0.0</td>\n",
       "      <td>0.0</td>\n",
       "      <td>...</td>\n",
       "      <td>0.0</td>\n",
       "      <td>0.0</td>\n",
       "      <td>0.0</td>\n",
       "      <td>0.0</td>\n",
       "      <td>0.0</td>\n",
       "      <td>0.0</td>\n",
       "      <td>0.0</td>\n",
       "      <td>0.0</td>\n",
       "      <td>0.0</td>\n",
       "      <td>0.0</td>\n",
       "    </tr>\n",
       "    <tr>\n",
       "      <th>1</th>\n",
       "      <td>ad93850f</td>\n",
       "      <td>0.0</td>\n",
       "      <td>0.0</td>\n",
       "      <td>0.0</td>\n",
       "      <td>0.0</td>\n",
       "      <td>0.0</td>\n",
       "      <td>0.0</td>\n",
       "      <td>0.0</td>\n",
       "      <td>0.0</td>\n",
       "      <td>4.0</td>\n",
       "      <td>...</td>\n",
       "      <td>0.0</td>\n",
       "      <td>0.0</td>\n",
       "      <td>0.0</td>\n",
       "      <td>0.0</td>\n",
       "      <td>0.0</td>\n",
       "      <td>0.0</td>\n",
       "      <td>0.0</td>\n",
       "      <td>0.0</td>\n",
       "      <td>0.0</td>\n",
       "      <td>0.0</td>\n",
       "    </tr>\n",
       "    <tr>\n",
       "      <th>2</th>\n",
       "      <td>0297fc1e</td>\n",
       "      <td>13.0</td>\n",
       "      <td>64.0</td>\n",
       "      <td>12.0</td>\n",
       "      <td>21.0</td>\n",
       "      <td>34.0</td>\n",
       "      <td>27.0</td>\n",
       "      <td>28.0</td>\n",
       "      <td>72.0</td>\n",
       "      <td>37.0</td>\n",
       "      <td>...</td>\n",
       "      <td>0.0</td>\n",
       "      <td>0.0</td>\n",
       "      <td>0.0</td>\n",
       "      <td>0.0</td>\n",
       "      <td>0.0</td>\n",
       "      <td>0.0</td>\n",
       "      <td>1.0</td>\n",
       "      <td>0.0</td>\n",
       "      <td>0.0</td>\n",
       "      <td>0.0</td>\n",
       "    </tr>\n",
       "    <tr>\n",
       "      <th>3</th>\n",
       "      <td>2d681dd8</td>\n",
       "      <td>0.0</td>\n",
       "      <td>0.0</td>\n",
       "      <td>0.0</td>\n",
       "      <td>0.0</td>\n",
       "      <td>0.0</td>\n",
       "      <td>0.0</td>\n",
       "      <td>0.0</td>\n",
       "      <td>0.0</td>\n",
       "      <td>0.0</td>\n",
       "      <td>...</td>\n",
       "      <td>0.0</td>\n",
       "      <td>0.0</td>\n",
       "      <td>0.0</td>\n",
       "      <td>0.0</td>\n",
       "      <td>0.0</td>\n",
       "      <td>0.0</td>\n",
       "      <td>0.0</td>\n",
       "      <td>0.0</td>\n",
       "      <td>0.0</td>\n",
       "      <td>0.0</td>\n",
       "    </tr>\n",
       "    <tr>\n",
       "      <th>4</th>\n",
       "      <td>cccea85e</td>\n",
       "      <td>0.0</td>\n",
       "      <td>0.0</td>\n",
       "      <td>0.0</td>\n",
       "      <td>0.0</td>\n",
       "      <td>0.0</td>\n",
       "      <td>0.0</td>\n",
       "      <td>0.0</td>\n",
       "      <td>0.0</td>\n",
       "      <td>336.0</td>\n",
       "      <td>...</td>\n",
       "      <td>0.0</td>\n",
       "      <td>0.0</td>\n",
       "      <td>0.0</td>\n",
       "      <td>0.0</td>\n",
       "      <td>0.0</td>\n",
       "      <td>0.0</td>\n",
       "      <td>0.0</td>\n",
       "      <td>0.0</td>\n",
       "      <td>0.0</td>\n",
       "      <td>0.0</td>\n",
       "    </tr>\n",
       "  </tbody>\n",
       "</table>\n",
       "<p>5 rows × 111 columns</p>\n",
       "</div>"
      ],
      "text/plain": [
       "     person  viewed product_0  viewed product_1  viewed product_2  \\\n",
       "0  4886f805               0.0               0.0               0.0   \n",
       "1  ad93850f               0.0               0.0               0.0   \n",
       "2  0297fc1e              13.0              64.0              12.0   \n",
       "3  2d681dd8               0.0               0.0               0.0   \n",
       "4  cccea85e               0.0               0.0               0.0   \n",
       "\n",
       "   viewed product_3  viewed product_4  viewed product_5  viewed product_6  \\\n",
       "0               0.0               0.0               0.0               0.0   \n",
       "1               0.0               0.0               0.0               0.0   \n",
       "2              21.0              34.0              27.0              28.0   \n",
       "3               0.0               0.0               0.0               0.0   \n",
       "4               0.0               0.0               0.0               0.0   \n",
       "\n",
       "   viewed product_7  viewed product_8   ...    lead_0  lead_1  lead_2  lead_3  \\\n",
       "0               0.0               0.0   ...       0.0     0.0     0.0     0.0   \n",
       "1               0.0               4.0   ...       0.0     0.0     0.0     0.0   \n",
       "2              72.0              37.0   ...       0.0     0.0     0.0     0.0   \n",
       "3               0.0               0.0   ...       0.0     0.0     0.0     0.0   \n",
       "4               0.0             336.0   ...       0.0     0.0     0.0     0.0   \n",
       "\n",
       "   lead_4  lead_5  lead_6  lead_7  lead_8  lead_9  \n",
       "0     0.0     0.0     0.0     0.0     0.0     0.0  \n",
       "1     0.0     0.0     0.0     0.0     0.0     0.0  \n",
       "2     0.0     0.0     1.0     0.0     0.0     0.0  \n",
       "3     0.0     0.0     0.0     0.0     0.0     0.0  \n",
       "4     0.0     0.0     0.0     0.0     0.0     0.0  \n",
       "\n",
       "[5 rows x 111 columns]"
      ]
     },
     "execution_count": 9,
     "metadata": {},
     "output_type": "execute_result"
    }
   ],
   "source": [
    "columnas = {}\n",
    "aux = datos[['person','timestamp']].drop_duplicates('person')\n",
    "for i in datos.event.unique():\n",
    "    for j in range(0,10):\n",
    "        columnas[j] = i+'_'+str(j)\n",
    "    aux = pd.merge(aux,eventosPersonaQ[i],on='person',how='left')\n",
    "    aux = aux.rename(columns=columnas)\n",
    "aux.drop(columns='timestamp',inplace=True)\n",
    "aux.fillna(0,inplace=True)\n",
    "eventosPersonaQ = aux\n",
    "eventosPersonaQ.head()"
   ]
  },
  {
   "cell_type": "markdown",
   "metadata": {},
   "source": [
    "### 2: Nacionalidad de las personas"
   ]
  },
  {
   "cell_type": "markdown",
   "metadata": {},
   "source": [
    "#### Se agrega el feature country cómo 1 si es brasilero y 0 si es de otro país (o Unknown). También el feature"
   ]
  },
  {
   "cell_type": "code",
   "execution_count": 10,
   "metadata": {},
   "outputs": [
    {
     "name": "stdout",
     "output_type": "stream",
     "text": [
      "<class 'pandas.core.frame.DataFrame'>\n",
      "Int64Index: 4293 entries, 195 to 1759834\n",
      "Data columns (total 2 columns):\n",
      "person       4293 non-null object\n",
      "convirtio    4293 non-null int64\n",
      "dtypes: int64(1), object(1)\n",
      "memory usage: 100.6+ KB\n"
     ]
    }
   ],
   "source": [
    "compraron = datos[['person','event']].loc[datos['event']=='conversion']\n",
    "compraron['convirtio'] = 1\n",
    "compraron = compraron.drop(columns='event').drop_duplicates('person')\n",
    "compraron.info()"
   ]
  },
  {
   "cell_type": "code",
   "execution_count": 11,
   "metadata": {},
   "outputs": [],
   "source": [
    "personas_paises = datos[['person','country']].dropna(axis=0).drop_duplicates('person')"
   ]
  },
  {
   "cell_type": "markdown",
   "metadata": {},
   "source": [
    "¿De dónde son las personas que compraron?"
   ]
  },
  {
   "cell_type": "code",
   "execution_count": 12,
   "metadata": {},
   "outputs": [
    {
     "data": {
      "text/plain": [
       "Brazil    38242\n",
       "Name: country, dtype: int64"
      ]
     },
     "execution_count": 12,
     "metadata": {},
     "output_type": "execute_result"
    }
   ],
   "source": [
    "personas_paises = pd.merge(personas_paises,compraron,on='person',how='left').fillna(0)\n",
    "personas_paises.loc[personas_paises['convirtio']].country.value_counts()"
   ]
  },
  {
   "cell_type": "code",
   "execution_count": 13,
   "metadata": {},
   "outputs": [],
   "source": [
    "personas_paises.drop(columns='convirtio',inplace=True)\n",
    "personas_paises = datos[['person']].drop_duplicates('person').merge(personas_paises,how='left',on='person')"
   ]
  },
  {
   "cell_type": "code",
   "execution_count": 14,
   "metadata": {},
   "outputs": [
    {
     "data": {
      "text/plain": [
       "person       0\n",
       "country    587\n",
       "dtype: int64"
      ]
     },
     "execution_count": 14,
     "metadata": {},
     "output_type": "execute_result"
    }
   ],
   "source": [
    "personas_paises.isnull().sum()"
   ]
  },
  {
   "cell_type": "code",
   "execution_count": 15,
   "metadata": {},
   "outputs": [
    {
     "data": {
      "text/plain": [
       "Brazil                   36802\n",
       "Unknown                   1043\n",
       "United States              260\n",
       "Argentina                   31\n",
       "Canada                      14\n",
       "Mozambique                   8\n",
       "France                       7\n",
       "Uruguay                      7\n",
       "Netherlands                  5\n",
       "Bolivia                      5\n",
       "Mexico                       4\n",
       "Portugal                     4\n",
       "Italy                        4\n",
       "Paraguay                     4\n",
       "Angola                       3\n",
       "Spain                        3\n",
       "Vietnam                      3\n",
       "Bangladesh                   3\n",
       "Dominican Republic           2\n",
       "Israel                       2\n",
       "Germany                      2\n",
       "South Africa                 2\n",
       "United Kingdom               2\n",
       "Singapore                    2\n",
       "Belgium                      2\n",
       "Morocco                      2\n",
       "São Tomé and Príncipe        1\n",
       "Algeria                      1\n",
       "Romania                      1\n",
       "Guadeloupe                   1\n",
       "India                        1\n",
       "Bulgaria                     1\n",
       "Burundi                      1\n",
       "Guinea-Bissau                1\n",
       "Peru                         1\n",
       "Jamaica                      1\n",
       "Ireland                      1\n",
       "Georgia                      1\n",
       "Philippines                  1\n",
       "Cape Verde                   1\n",
       "Pakistan                     1\n",
       "Cameroon                     1\n",
       "Name: country, dtype: int64"
      ]
     },
     "execution_count": 15,
     "metadata": {},
     "output_type": "execute_result"
    }
   ],
   "source": [
    "personas_paises['country'].value_counts()"
   ]
  },
  {
   "cell_type": "code",
   "execution_count": 16,
   "metadata": {},
   "outputs": [],
   "source": [
    "personas_paises.loc[personas_paises['country'] == 'Brazil','country'] = 1\n",
    "personas_paises.loc[~(personas_paises['country'] == 'Brazil'),'country'] = 0"
   ]
  },
  {
   "cell_type": "markdown",
   "metadata": {},
   "source": [
    "### 3: Features según el tiempo de cada sesión"
   ]
  },
  {
   "cell_type": "markdown",
   "metadata": {},
   "source": [
    "   Función que itera sobre las columnas 'person', 'timestamp' y las sesiones de los usuarios 'new_vs_returning'. \n",
    "   \n",
    "   El timestamp del df pasado como argumento debe estar ordenado de manera descendente.\n",
    "  \n",
    "   Si no se encuentra el logueo a la página (New o Returning), se marca esa sesión de tiempo 0 (Esto se marca cuando se pasa a otra persona y había eventos sin tener en cuenta el logueo del usuario) \n",
    "   \n",
    "   Si la diferencia entre el tiempo de los eventos es mayor a un día, no se toma esa sesión.\n",
    "   \n",
    "  El tiempo de sesión es devuelto en un df junto al id de la persona y el timestamp del logueo "
   ]
  },
  {
   "cell_type": "code",
   "execution_count": 17,
   "metadata": {},
   "outputs": [],
   "source": [
    "def mostrar_tiempo(df):    \n",
    "    dic_events_time = {}\n",
    "    person = \"\"\n",
    "    rows = []\n",
    "    for index, row in df.iterrows():\n",
    "        if(person == \"\"):\n",
    "            person = row[\"person\"]\n",
    "            last_event_time = row['timestamp']\n",
    "            continue            \n",
    "        tiempo = ((last_event_time - row['timestamp']).total_seconds())\n",
    "        if(tiempo > 86400):\n",
    "            last_event_time = row['timestamp']\n",
    "        if (row['new_vs_returning'] == 'New' or row['new_vs_returning'] == 'Returning' or person != row[\"person\"]):\n",
    "            if(row['person'] != person):\n",
    "                tiempo = 0\n",
    "            rows.append([person,tiempo,row['timestamp']])\n",
    "            person = \"\"\n",
    "    return pd.DataFrame(rows,columns=('person', 'time_event', 'timestamp'))"
   ]
  },
  {
   "cell_type": "code",
   "execution_count": 18,
   "metadata": {},
   "outputs": [
    {
     "name": "stdout",
     "output_type": "stream",
     "text": [
      "Tiempo de ejecución: 7.17078 minutes.\n"
     ]
    }
   ],
   "source": [
    "t0 = time()\n",
    "\n",
    "tiempo_sesiones = mostrar_tiempo(datos[['person','timestamp','new_vs_returning']].\\\n",
    "                                                            sort_values(by=['person','timestamp'],ascending=False))\n",
    "\n",
    "tf = (time() - t0)/60\n",
    "print (\"Tiempo de ejecución: %0.5f minutes.\" % tf)"
   ]
  },
  {
   "cell_type": "code",
   "execution_count": 19,
   "metadata": {},
   "outputs": [
    {
     "data": {
      "text/html": [
       "<div>\n",
       "<style scoped>\n",
       "    .dataframe tbody tr th:only-of-type {\n",
       "        vertical-align: middle;\n",
       "    }\n",
       "\n",
       "    .dataframe tbody tr th {\n",
       "        vertical-align: top;\n",
       "    }\n",
       "\n",
       "    .dataframe thead th {\n",
       "        text-align: right;\n",
       "    }\n",
       "</style>\n",
       "<table border=\"1\" class=\"dataframe\">\n",
       "  <thead>\n",
       "    <tr style=\"text-align: right;\">\n",
       "      <th></th>\n",
       "      <th>person</th>\n",
       "      <th>time_event</th>\n",
       "      <th>timestamp</th>\n",
       "    </tr>\n",
       "  </thead>\n",
       "  <tbody>\n",
       "    <tr>\n",
       "      <th>4358</th>\n",
       "      <td>f16f4ae3</td>\n",
       "      <td>12618905.0</td>\n",
       "      <td>2018-01-02 23:50:27</td>\n",
       "    </tr>\n",
       "    <tr>\n",
       "      <th>169</th>\n",
       "      <td>ff69ad22</td>\n",
       "      <td>11592300.0</td>\n",
       "      <td>2018-01-16 20:14:21</td>\n",
       "    </tr>\n",
       "    <tr>\n",
       "      <th>63334</th>\n",
       "      <td>2c18b4db</td>\n",
       "      <td>11386282.0</td>\n",
       "      <td>2018-01-12 00:59:05</td>\n",
       "    </tr>\n",
       "    <tr>\n",
       "      <th>5711</th>\n",
       "      <td>ecb947e4</td>\n",
       "      <td>11056671.0</td>\n",
       "      <td>2018-01-11 22:23:16</td>\n",
       "    </tr>\n",
       "    <tr>\n",
       "      <th>13324</th>\n",
       "      <td>d3a2e324</td>\n",
       "      <td>10897170.0</td>\n",
       "      <td>2018-01-23 18:34:06</td>\n",
       "    </tr>\n",
       "  </tbody>\n",
       "</table>\n",
       "</div>"
      ],
      "text/plain": [
       "         person  time_event           timestamp\n",
       "4358   f16f4ae3  12618905.0 2018-01-02 23:50:27\n",
       "169    ff69ad22  11592300.0 2018-01-16 20:14:21\n",
       "63334  2c18b4db  11386282.0 2018-01-12 00:59:05\n",
       "5711   ecb947e4  11056671.0 2018-01-11 22:23:16\n",
       "13324  d3a2e324  10897170.0 2018-01-23 18:34:06"
      ]
     },
     "execution_count": 19,
     "metadata": {},
     "output_type": "execute_result"
    }
   ],
   "source": [
    "tiempo_sesiones.sort_values(by='time_event',ascending=False).head(5)"
   ]
  },
  {
   "cell_type": "markdown",
   "metadata": {},
   "source": [
    "Se agrega el tiempo de la sesion como time_event en el df datos"
   ]
  },
  {
   "cell_type": "code",
   "execution_count": 20,
   "metadata": {},
   "outputs": [],
   "source": [
    "datos = pd.merge(datos,tiempo_sesiones,how='left',on=['person','timestamp']).fillna(0)"
   ]
  },
  {
   "cell_type": "markdown",
   "metadata": {},
   "source": [
    "#### Máximo tiempo de una sesión por persona y quincena"
   ]
  },
  {
   "cell_type": "code",
   "execution_count": 21,
   "metadata": {},
   "outputs": [],
   "source": [
    "max_tiempo_q = datos[['person','quincena','time_event']]\n",
    "max_tiempo_q = max_tiempo_q.groupby(['person','quincena']).agg({'time_event':'max'})\n",
    "max_tiempo_q = max_tiempo_q.unstack()\n",
    "max_tiempo_q.columns = max_tiempo_q.columns.droplevel(0)\n",
    "max_tiempo_q = max_tiempo_q.reset_index(level=0,drop=False)\n",
    "max_tiempo_q.fillna(0,inplace=True)"
   ]
  },
  {
   "cell_type": "code",
   "execution_count": 22,
   "metadata": {},
   "outputs": [],
   "source": [
    "j = 0\n",
    "for i in max_tiempo_q.columns:\n",
    "    max_tiempo_q.rename(columns={j:'max_tiempo_sesion_q_'+str(j)},inplace=True)\n",
    "    j =  j + 1"
   ]
  },
  {
   "cell_type": "markdown",
   "metadata": {},
   "source": [
    "Usuarios con máximo tiempo de una sesión en la última quincena"
   ]
  },
  {
   "cell_type": "code",
   "execution_count": 23,
   "metadata": {},
   "outputs": [
    {
     "data": {
      "text/plain": [
       "1729     1295779.0\n",
       "22212    1192904.0\n",
       "31431    1128788.0\n",
       "29132    1065523.0\n",
       "12113    1023401.0\n",
       "Name: max_tiempo_sesion_q_9, dtype: float64"
      ]
     },
     "execution_count": 23,
     "metadata": {},
     "output_type": "execute_result"
    }
   ],
   "source": [
    "max_tiempo_q['max_tiempo_sesion_q_9'].sort_values(ascending = False).head()"
   ]
  },
  {
   "cell_type": "markdown",
   "metadata": {},
   "source": [
    "#### Promedio tiempo de sesión por persona y quincena"
   ]
  },
  {
   "cell_type": "code",
   "execution_count": 24,
   "metadata": {},
   "outputs": [],
   "source": [
    "promedio_tiempo_q = datos[['person','quincena','time_event']]\n",
    "promedio_tiempo_q = promedio_tiempo_q.groupby(['person','quincena']).agg({'time_event':'mean'})\n",
    "promedio_tiempo_q = promedio_tiempo_q.unstack()\n",
    "promedio_tiempo_q.columns = promedio_tiempo_q.columns.droplevel(0)\n",
    "promedio_tiempo_q = promedio_tiempo_q.reset_index(level=0,drop=False)\n",
    "promedio_tiempo_q.fillna(0,inplace=True)\n",
    "j = 0\n",
    "for i in promedio_tiempo_q.columns:\n",
    "    promedio_tiempo_q.rename(columns={j:'prom_tiempo_sesion_q_'+str(j)},inplace=True)\n",
    "    j =  j + 1"
   ]
  },
  {
   "cell_type": "markdown",
   "metadata": {},
   "source": [
    "#### Usuarios con mayor promedio en el tiempo de sesión de la última quincena"
   ]
  },
  {
   "cell_type": "code",
   "execution_count": 25,
   "metadata": {},
   "outputs": [
    {
     "data": {
      "text/plain": [
       "31431    376262.666667\n",
       "13181    350251.000000\n",
       "17342    283049.454545\n",
       "7145     266458.400000\n",
       "1729     259155.800000\n",
       "Name: prom_tiempo_sesion_q_9, dtype: float64"
      ]
     },
     "execution_count": 25,
     "metadata": {},
     "output_type": "execute_result"
    }
   ],
   "source": [
    "promedio_tiempo_q['prom_tiempo_sesion_q_9'].sort_values(ascending = False).head()"
   ]
  },
  {
   "cell_type": "markdown",
   "metadata": {},
   "source": [
    "### 4. Dias entre compras"
   ]
  },
  {
   "cell_type": "markdown",
   "metadata": {},
   "source": [
    "Funcion que toma el gap entre compras desde registración hasta el 1ro de junio (en días)"
   ]
  },
  {
   "cell_type": "code",
   "execution_count": 26,
   "metadata": {},
   "outputs": [],
   "source": [
    "def dist_compras(df):\n",
    "    rows = []\n",
    "    person = \"\"\n",
    "    for index,row in df.iterrows():\n",
    "        if(person != row['person']):\n",
    "            if(person != \"\"):\n",
    "                gap = (datetime(2018, 6, 1, 0, 0) - dia).total_seconds()\n",
    "                rows.append([person,dia,gap])\n",
    "            person = row['person']\n",
    "            dia = row['timestamp']\n",
    "        else:\n",
    "            gap = (row['timestamp'] - dia).total_seconds()\n",
    "            rows.append([person,dia,gap])\n",
    "            dia = row['timestamp']\n",
    "    return pd.DataFrame(rows,columns=('person','timestamp','distance'))"
   ]
  },
  {
   "cell_type": "markdown",
   "metadata": {},
   "source": [
    "Se utilizan las compras y se les agrega, como timestamp, la fecha de registro de la persona."
   ]
  },
  {
   "cell_type": "code",
   "execution_count": 27,
   "metadata": {
    "scrolled": false
   },
   "outputs": [
    {
     "name": "stderr",
     "output_type": "stream",
     "text": [
      "/home/mariano/ENTER/lib/python3.6/site-packages/pandas/core/frame.py:6211: FutureWarning: Sorting because non-concatenation axis is not aligned. A future version\n",
      "of pandas will change to not sort by default.\n",
      "\n",
      "To accept the future behavior, pass 'sort=False'.\n",
      "\n",
      "To retain the current behavior and silence the warning, pass 'sort=True'.\n",
      "\n",
      "  sort=sort)\n"
     ]
    }
   ],
   "source": [
    "compradores = datos[['person','timestamp','event']].sort_values(by=['person','timestamp'])\n",
    "compradores = compradores.loc[compradores['event']=='conversion',['person','timestamp']]\n",
    "sesion_comprar = compradores.append(usuariosyregistros)\n",
    "sesion_comprar =sesion_comprar.reset_index(drop=True)\n",
    "sesion_comprar.drop(columns='new_vs_returning',inplace=True)\n",
    "sesion_comprar.sort_values(by=['person','timestamp'],inplace=True)"
   ]
  },
  {
   "cell_type": "code",
   "execution_count": 28,
   "metadata": {},
   "outputs": [],
   "source": [
    "sesion_comprar['timestamp'] = pd.to_datetime(sesion_comprar['timestamp'])\n",
    "distancias = dist_compras(sesion_comprar)"
   ]
  },
  {
   "cell_type": "markdown",
   "metadata": {},
   "source": [
    "#### Se crean los features: 'hace_cuanto_no_convierte','max_sin_convertir','promedio_dias_conversion'"
   ]
  },
  {
   "cell_type": "markdown",
   "metadata": {},
   "source": [
    "El primero es el tiempo desde que dejo de convertir, el segundo el máximo tiempo que estuvo sin convertir y el tercero el promedio de tiempo en cuál convierte cada persona."
   ]
  },
  {
   "cell_type": "code",
   "execution_count": 29,
   "metadata": {},
   "outputs": [],
   "source": [
    "hace_cuanto_no_convierte = distancias.sort_values(by='timestamp',ascending=False).\\\n",
    "                                            drop_duplicates('person').drop(columns='timestamp').\\\n",
    "                                                rename(columns={'distance':'tiempo_sin_convertir'})\n",
    "max_sin_convertir = distancias[['person','distance']].groupby('person').max().reset_index().\\\n",
    "                                                    rename(columns={'distance':'max_sin_convertir'})\n",
    "promedio_tiempo_conversion = distancias[['person','distance']].groupby('person').mean().reset_index().\\\n",
    "                                                    rename(columns={'distance':'convierte_cada_x_tiempo'})"
   ]
  },
  {
   "cell_type": "markdown",
   "metadata": {},
   "source": [
    "##### Se agrega el tiempo desde que esta registrada la persona: 'registration_time'"
   ]
  },
  {
   "cell_type": "code",
   "execution_count": 30,
   "metadata": {},
   "outputs": [],
   "source": [
    "personas = datos[['person','timestamp','new_vs_returning']]\n",
    "personas = personas.loc[personas['new_vs_returning'] == 'New']\n",
    "personas['registration_time'] = (datetime(2018, 6, 1, 0, 0) - personas['timestamp'])\n",
    "personas['registration_time'] = personas['registration_time'].apply(lambda x: x.total_seconds())\n",
    "personas.drop(columns=['new_vs_returning','timestamp'],inplace=True)\n",
    "personas.drop_duplicates('person',inplace=True)"
   ]
  },
  {
   "cell_type": "code",
   "execution_count": 31,
   "metadata": {},
   "outputs": [
    {
     "data": {
      "text/plain": [
       "person                     0\n",
       "registration_time          0\n",
       "max_sin_convertir          3\n",
       "tiempo_sin_convertir       3\n",
       "convierte_cada_x_tiempo    3\n",
       "dtype: int64"
      ]
     },
     "execution_count": 31,
     "metadata": {},
     "output_type": "execute_result"
    }
   ],
   "source": [
    "columnas_tiempos = pd.merge(personas,max_sin_convertir,how='left',on='person')\n",
    "columnas_tiempos = pd.merge(columnas_tiempos,hace_cuanto_no_convierte,how='left',on='person')\n",
    "columnas_tiempos = pd.merge(columnas_tiempos,promedio_tiempo_conversion,how='left',on='person')\n",
    "columnas_tiempos.isnull().sum()"
   ]
  },
  {
   "cell_type": "markdown",
   "metadata": {},
   "source": [
    "Les agrego su tiempo de registro como maximo/tiempo sin convertir"
   ]
  },
  {
   "cell_type": "code",
   "execution_count": 32,
   "metadata": {},
   "outputs": [],
   "source": [
    "columnas_tiempos.loc[(columnas_tiempos['max_sin_convertir'].isnull()) | (columnas_tiempos['tiempo_sin_convertir'].\\\n",
    "    isnull()) | (columnas_tiempos['convierte_cada_x_tiempo'].isnull()),\\\n",
    "    ['max_sin_convertir','tiempo_sin_convertir','convierte_cada_x_tiempo']] = columnas_tiempos['registration_time']"
   ]
  },
  {
   "cell_type": "code",
   "execution_count": 33,
   "metadata": {},
   "outputs": [
    {
     "data": {
      "text/html": [
       "<div>\n",
       "<style scoped>\n",
       "    .dataframe tbody tr th:only-of-type {\n",
       "        vertical-align: middle;\n",
       "    }\n",
       "\n",
       "    .dataframe tbody tr th {\n",
       "        vertical-align: top;\n",
       "    }\n",
       "\n",
       "    .dataframe thead th {\n",
       "        text-align: right;\n",
       "    }\n",
       "</style>\n",
       "<table border=\"1\" class=\"dataframe\">\n",
       "  <thead>\n",
       "    <tr style=\"text-align: right;\">\n",
       "      <th></th>\n",
       "      <th>person</th>\n",
       "      <th>registration_time</th>\n",
       "      <th>max_sin_convertir</th>\n",
       "      <th>tiempo_sin_convertir</th>\n",
       "      <th>convierte_cada_x_tiempo</th>\n",
       "    </tr>\n",
       "  </thead>\n",
       "  <tbody>\n",
       "    <tr>\n",
       "      <th>0</th>\n",
       "      <td>29ebb414</td>\n",
       "      <td>1207424.0</td>\n",
       "      <td>1207424.0</td>\n",
       "      <td>1207424.0</td>\n",
       "      <td>1207424.0</td>\n",
       "    </tr>\n",
       "    <tr>\n",
       "      <th>1</th>\n",
       "      <td>de8fe91b</td>\n",
       "      <td>1207437.0</td>\n",
       "      <td>1207437.0</td>\n",
       "      <td>1207437.0</td>\n",
       "      <td>1207437.0</td>\n",
       "    </tr>\n",
       "    <tr>\n",
       "      <th>2</th>\n",
       "      <td>f87be219</td>\n",
       "      <td>1206287.0</td>\n",
       "      <td>1206287.0</td>\n",
       "      <td>1206287.0</td>\n",
       "      <td>1206287.0</td>\n",
       "    </tr>\n",
       "    <tr>\n",
       "      <th>3</th>\n",
       "      <td>e2bfe05f</td>\n",
       "      <td>1205365.0</td>\n",
       "      <td>1205365.0</td>\n",
       "      <td>1205365.0</td>\n",
       "      <td>1205365.0</td>\n",
       "    </tr>\n",
       "    <tr>\n",
       "      <th>4</th>\n",
       "      <td>bb78c182</td>\n",
       "      <td>1205309.0</td>\n",
       "      <td>1205309.0</td>\n",
       "      <td>1205309.0</td>\n",
       "      <td>1205309.0</td>\n",
       "    </tr>\n",
       "  </tbody>\n",
       "</table>\n",
       "</div>"
      ],
      "text/plain": [
       "     person  registration_time  max_sin_convertir  tiempo_sin_convertir  \\\n",
       "0  29ebb414          1207424.0          1207424.0             1207424.0   \n",
       "1  de8fe91b          1207437.0          1207437.0             1207437.0   \n",
       "2  f87be219          1206287.0          1206287.0             1206287.0   \n",
       "3  e2bfe05f          1205365.0          1205365.0             1205365.0   \n",
       "4  bb78c182          1205309.0          1205309.0             1205309.0   \n",
       "\n",
       "   convierte_cada_x_tiempo  \n",
       "0                1207424.0  \n",
       "1                1207437.0  \n",
       "2                1206287.0  \n",
       "3                1205365.0  \n",
       "4                1205309.0  "
      ]
     },
     "execution_count": 33,
     "metadata": {},
     "output_type": "execute_result"
    }
   ],
   "source": [
    "columnas_tiempos.head()"
   ]
  },
  {
   "cell_type": "markdown",
   "metadata": {},
   "source": [
    "### 5. Celulares"
   ]
  },
  {
   "cell_type": "code",
   "execution_count": 34,
   "metadata": {},
   "outputs": [],
   "source": [
    "sistema_celulares = datos.loc[datos['device_type']=='Smartphone',['person','timestamp','operating_system_version']]\\\n",
    "                                    .sort_values(by=['person','timestamp'],ascending=False).drop_duplicates('person')\n",
    "sistema_celulares['operating_system_version'] = sistema_celulares.operating_system_version.str.split('.').str[0]"
   ]
  },
  {
   "cell_type": "code",
   "execution_count": 35,
   "metadata": {},
   "outputs": [
    {
     "data": {
      "text/plain": [
       "iOS 11    1111\n",
       "iOS 10     407\n",
       "iOS 9      153\n",
       "iOS 7       46\n",
       "iOS 8       10\n",
       "iOS 6        2\n",
       "Name: operating_system_version, dtype: int64"
      ]
     },
     "execution_count": 35,
     "metadata": {},
     "output_type": "execute_result"
    }
   ],
   "source": [
    "iOS = sistema_celulares.loc[sistema_celulares.operating_system_version.str.contains('iOS')]\n",
    "iOS.operating_system_version.value_counts()"
   ]
  },
  {
   "cell_type": "code",
   "execution_count": 36,
   "metadata": {
    "scrolled": true
   },
   "outputs": [
    {
     "data": {
      "text/plain": [
       "Android 6     7448\n",
       "Android 7     6049\n",
       "Android 5     3367\n",
       "Android 4     1596\n",
       "Android 8      442\n",
       "Android         27\n",
       "Android 2        7\n",
       "Android 3        2\n",
       "Android 10       1\n",
       "Name: operating_system_version, dtype: int64"
      ]
     },
     "execution_count": 36,
     "metadata": {},
     "output_type": "execute_result"
    }
   ],
   "source": [
    "Android = sistema_celulares.loc[sistema_celulares.operating_system_version.str.contains('Android')]\n",
    "Android.operating_system_version.value_counts()"
   ]
  },
  {
   "cell_type": "markdown",
   "metadata": {},
   "source": [
    "Funcion en la que se indican los sistemas 'iOS 6', 'iOS7', 'iOS8','Android 2', 'Android 3' y 'Android' cómo 1 y los demás 0. Indicando que dichos celulares necesitan una renovación."
   ]
  },
  {
   "cell_type": "code",
   "execution_count": 37,
   "metadata": {},
   "outputs": [],
   "source": [
    "def esViejo(celular):\n",
    "    if (celular == \"iOS 6\" or celular == \"iOS 7\" or celular == \"Android 2\" or celular == \"Android 3\"):\n",
    "        return 1\n",
    "    else:\n",
    "        return 0"
   ]
  },
  {
   "cell_type": "code",
   "execution_count": 38,
   "metadata": {},
   "outputs": [],
   "source": [
    "sistema_celulares[\"celularViejo\"] = sistema_celulares[\"operating_system_version\"].apply(lambda x: esViejo(x))\n",
    "sistema_celulares = sistema_celulares[[\"person\", \"celularViejo\"]]"
   ]
  },
  {
   "cell_type": "markdown",
   "metadata": {},
   "source": [
    "### 6. Cantidad de sesiones"
   ]
  },
  {
   "cell_type": "code",
   "execution_count": 39,
   "metadata": {},
   "outputs": [
    {
     "name": "stderr",
     "output_type": "stream",
     "text": [
      "/home/mariano/ENTER/lib/python3.6/site-packages/pandas/core/frame.py:3790: SettingWithCopyWarning: \n",
      "A value is trying to be set on a copy of a slice from a DataFrame\n",
      "\n",
      "See the caveats in the documentation: http://pandas.pydata.org/pandas-docs/stable/indexing.html#indexing-view-versus-copy\n",
      "  downcast=downcast, **kwargs)\n",
      "/home/mariano/ENTER/lib/python3.6/site-packages/pandas/core/indexing.py:543: SettingWithCopyWarning: \n",
      "A value is trying to be set on a copy of a slice from a DataFrame.\n",
      "Try using .loc[row_indexer,col_indexer] = value instead\n",
      "\n",
      "See the caveats in the documentation: http://pandas.pydata.org/pandas-docs/stable/indexing.html#indexing-view-versus-copy\n",
      "  self.obj[item] = s\n"
     ]
    }
   ],
   "source": [
    "datos_sesiones_q = datos[['person','quincena','new_vs_returning']]\n",
    "datos_sesiones_q.fillna(0,inplace=True)\n",
    "datos_sesiones_q.loc[(datos_sesiones_q['new_vs_returning'] == 'New') |\\\n",
    "                                     (datos_sesiones_q['new_vs_returning'] == 'Returning'),'new_vs_returning'] = 1\n",
    "datos_sesiones_q = datos_sesiones_q.groupby(['person','quincena']).agg({'new_vs_returning':'sum'})\n",
    "datos_sesiones_q = datos_sesiones_q.unstack()\n",
    "datos_sesiones_q.columns = datos_sesiones_q.columns.droplevel(0)\n",
    "datos_sesiones_q = datos_sesiones_q.reset_index(level=0,drop=False)\n",
    "datos_sesiones_q.fillna(0,inplace=True)\n",
    "\n",
    "j = 0\n",
    "for i in datos_sesiones_q.columns:\n",
    "    datos_sesiones_q.rename(columns={j:'cant_sesiones_q_'+str(j)},inplace=True)\n",
    "    j =  j + 1"
   ]
  },
  {
   "cell_type": "markdown",
   "metadata": {},
   "source": [
    "## Lectura de los csv (train y test) y mergeo del modelo."
   ]
  },
  {
   "cell_type": "code",
   "execution_count": 41,
   "metadata": {},
   "outputs": [],
   "source": [
    "modelo = pd.merge(eventosPersona,eventosPersonaQ,on='person')\n",
    "modelo = pd.merge(modelo,max_tiempo_q,on='person')\n",
    "modelo = pd.merge(modelo,promedio_tiempo_q,on='person')\n",
    "modelo = pd.merge(modelo,columnas_tiempos,on='person')\n",
    "modelo = pd.merge(modelo,sistema_celulares,on='person',how='left')\n",
    "modelo = pd.merge(modelo,personas_paises,on='person')\n",
    "modelo = pd.merge(modelo,datos_sesiones_q,on='person')\n",
    "modelo.fillna(0,inplace=True)"
   ]
  },
  {
   "cell_type": "code",
   "execution_count": 42,
   "metadata": {},
   "outputs": [],
   "source": [
    "train = pd.read_csv(\"labels_training_set.csv\",low_memory=False)\n",
    "test = pd.read_csv(\"trocafone_kaggle_test.csv\",low_memory=False)"
   ]
  },
  {
   "cell_type": "code",
   "execution_count": 43,
   "metadata": {},
   "outputs": [],
   "source": [
    "train = train.merge(modelo,how='left',on='person')\n",
    "test =test.merge(modelo,how='left',on='person')"
   ]
  },
  {
   "cell_type": "code",
   "execution_count": 44,
   "metadata": {},
   "outputs": [],
   "source": [
    "test.to_csv('test_final.csv', encoding='utf-8', index=False)\n",
    "train.to_csv('train_final.csv', encoding='utf-8', index=False)"
   ]
  }
 ],
 "metadata": {
  "kernelspec": {
   "display_name": "Python 3",
   "language": "python",
   "name": "python3"
  },
  "language_info": {
   "codemirror_mode": {
    "name": "ipython",
    "version": 3
   },
   "file_extension": ".py",
   "mimetype": "text/x-python",
   "name": "python",
   "nbconvert_exporter": "python",
   "pygments_lexer": "ipython3",
   "version": "3.6.6"
  }
 },
 "nbformat": 4,
 "nbformat_minor": 2
}
